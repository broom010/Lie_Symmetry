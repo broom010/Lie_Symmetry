{
 "cells": [
  {
   "cell_type": "markdown",
   "metadata": {},
   "source": [
    "# Derivation of the invariant Euler Lagrange equations for SE(3) invariant Lagrangians defined over three-dimensional framed curves\n",
    "<br/>\n",
    "\n",
    "This notebook is dedicated to providing the calculations that go into deriving the invariant Euler Lagrange equations for SE(3) invariant Lagrangians defined over three-dimensional framed curves.  Unfortunately, we will not be able to use the full functionality of LieSympy as we did in the two dimensional case.  This is due to difficulties that arise in solving the normalization equations for the moving frame as well as the issue of assigning coordinates to a three dimensional framed curve and to SE(3) in general.  Therefore we will make use of LieSympy when possible, but many of our calculations will be carried out in full view within the notebook.\n",
    "\n",
    "We begin this process by first importing the necessary modules for our work.\n",
    "\n",
    "<br/>"
   ]
  },
  {
   "cell_type": "code",
   "execution_count": 1,
   "metadata": {},
   "outputs": [
    {
     "data": {
      "text/html": [
       "<style>.container { width:80% !important; }</style>"
      ],
      "text/plain": [
       "<IPython.core.display.HTML object>"
      ]
     },
     "metadata": {},
     "output_type": "display_data"
    }
   ],
   "source": [
    "from sympy import *\n",
    "from itertools import *\n",
    "import LieSympy as lp\n",
    "import numpy as np\n",
    "init_printing()\n",
    "\n",
    "from IPython.core.display import display, HTML\n",
    "display(HTML(\"<style>.container { width:80% !important; }</style>\"))"
   ]
  },
  {
   "cell_type": "markdown",
   "metadata": {},
   "source": [
    "# Initialized Symbols and Expressions\n",
    "<br/>\n",
    "We start by initializing the variables and expressions that will be needed for our calculations.  We will use Cardan angles in expressing coordinates for the $SO(3)$ components of $SE(3)$ and the framed curve."
   ]
  },
  {
   "cell_type": "markdown",
   "metadata": {},
   "source": [
    "#### Symbols"
   ]
  },
  {
   "cell_type": "code",
   "execution_count": 2,
   "metadata": {},
   "outputs": [],
   "source": [
    "x = symbols('x')\n",
    "u = Function('u')('x')\n",
    "\n",
    "a = symbols('a')\n",
    "b = symbols('b')\n",
    "\n",
    "phi = Function('varphi')('x')\n",
    "\n",
    "psi = symbols('psi')"
   ]
  },
  {
   "cell_type": "markdown",
   "metadata": {},
   "source": [
    "#### Cardan Angles for $F$ and $R$.  Vectors $z$ and $v$"
   ]
  },
  {
   "cell_type": "code",
   "execution_count": 3,
   "metadata": {
    "collapsed": true
   },
   "outputs": [],
   "source": [
    "F = Matrix([[cos(phi),-sin(phi)],[sin(phi),cos(phi)]])\n",
    "\n",
    "R = Matrix([[cos(psi),-sin(psi)],[sin(psi),cos(psi)]])\n",
    "\n",
    "z = Matrix([x,u])\n",
    "v = Matrix([a,b])"
   ]
  },
  {
   "cell_type": "markdown",
   "metadata": {},
   "source": [
    "#### Transformation Rules for Base and Jet Coordinates"
   ]
  },
  {
   "cell_type": "code",
   "execution_count": 4,
   "metadata": {},
   "outputs": [],
   "source": [
    "X = simplify((R*z+v).row(0)[0])\n",
    "U = simplify((R*z+v).row(1)[0])\n",
    "F_new = R*F\n",
    "\n",
    "Dx = diff(X,x)\n",
    "U_x = simplify(diff(U,x)/Dx)\n",
    "U_xx = diff(U_x,x)/Dx\n",
    "\n",
    "F_new_x = diff(F_new,x)/Dx\n",
    "F_new_xx = diff(F_new_x,x)/Dx\n",
    "\n",
    "identity = {a:0, b:0, psi:0}"
   ]
  },
  {
   "cell_type": "markdown",
   "metadata": {},
   "source": [
    "#### Moving Frame for the Cross-section $X=U=0, F_{new} = I_{2\\times 2}$"
   ]
  },
  {
   "cell_type": "code",
   "execution_count": 5,
   "metadata": {
    "collapsed": true
   },
   "outputs": [],
   "source": [
    "frame = {a:-(F.transpose()*z)[0,0], b:-(F.transpose()*z)[1,0], psi:-phi}"
   ]
  },
  {
   "cell_type": "markdown",
   "metadata": {},
   "source": [
    "The following calculations verify that the frame does indeed work for our choice of coordinates"
   ]
  },
  {
   "cell_type": "code",
   "execution_count": 6,
   "metadata": {},
   "outputs": [
    {
     "data": {
      "image/png": "[encoded data removed]",
      "text/latex": [
       "$$\\left[\\begin{matrix}1 & 0\\\\0 & 1\\end{matrix}\\right]$$"
      ],
      "text/plain": [
       "⎡1  0⎤\n",
       "⎢    ⎥\n",
       "⎣0  1⎦"
      ]
     },
     "execution_count": 6,
     "metadata": {},
     "output_type": "execute_result"
    }
   ],
   "source": [
    "simplify(F_new.xreplace(frame))"
   ]
  },
  {
   "cell_type": "code",
   "execution_count": 7,
   "metadata": {},
   "outputs": [
    {
     "data": {
      "image/png": "[encoded data removed]",
      "text/latex": [
       "$$0$$"
      ],
      "text/plain": [
       "0"
      ]
     },
     "execution_count": 7,
     "metadata": {},
     "output_type": "execute_result"
    }
   ],
   "source": [
    "simplify(X.xreplace(frame))"
   ]
  },
  {
   "cell_type": "code",
   "execution_count": 8,
   "metadata": {},
   "outputs": [
    {
     "data": {
      "image/png": "[encoded data removed]",
      "text/latex": [
       "$$0$$"
      ],
      "text/plain": [
       "0"
      ]
     },
     "execution_count": 8,
     "metadata": {},
     "output_type": "execute_result"
    }
   ],
   "source": [
    "simplify(U.xreplace(frame))"
   ]
  },
  {
   "cell_type": "markdown",
   "metadata": {},
   "source": [
    "# Infinitesimal Generators"
   ]
  },
  {
   "cell_type": "markdown",
   "metadata": {},
   "source": [
    "For the \"curve\" portion of our framed curve, i.e. the $\\mathcal{R}^3$ component, the infinitesimal generators are:"
   ]
  },
  {
   "cell_type": "code",
   "execution_count": 9,
   "metadata": {},
   "outputs": [
    {
     "data": {
      "image/png": "[encoded data removed]",
      "text/latex": [
       "$$\\left [ 1, \\quad 0, \\quad 0, \\quad 0, \\quad 0, \\quad 0\\right ]$$"
      ],
      "text/plain": [
       "[1, 0, 0, 0, 0, 0]"
      ]
     },
     "execution_count": 9,
     "metadata": {},
     "output_type": "execute_result"
    }
   ],
   "source": [
    "[diff(X,a).subs(identity), diff(U,a).subs(identity), diff(F_new[0,0],a).subs(identity), diff(F_new[0,1],a).subs(identity), diff(F_new[1,0],a).subs(identity), diff(F_new[1,1],a).subs(identity)]"
   ]
  },
  {
   "cell_type": "code",
   "execution_count": 10,
   "metadata": {},
   "outputs": [
    {
     "data": {
      "image/png": "[encoded data removed]",
      "text/latex": [
       "$$\\left [ 0, \\quad 1, \\quad 0, \\quad 0, \\quad 0, \\quad 0\\right ]$$"
      ],
      "text/plain": [
       "[0, 1, 0, 0, 0, 0]"
      ]
     },
     "execution_count": 10,
     "metadata": {},
     "output_type": "execute_result"
    }
   ],
   "source": [
    "[diff(X,b).subs(identity), diff(U,b).subs(identity), diff(F_new[0,0],b).subs(identity), diff(F_new[0,1],b).subs(identity), diff(F_new[1,0],b).subs(identity), diff(F_new[1,1],b).subs(identity)]"
   ]
  },
  {
   "cell_type": "code",
   "execution_count": 11,
   "metadata": {},
   "outputs": [
    {
     "data": {
      "image/png": "[encoded data removed]",
      "text/latex": [
       "$$\\left [ - u{\\left (x \\right )}, \\quad x, \\quad - \\sin{\\left (\\varphi{\\left (x \\right )} \\right )}, \\quad - \\cos{\\left (\\varphi{\\left (x \\right )} \\right )}, \\quad \\cos{\\left (\\varphi{\\left (x \\right )} \\right )}, \\quad - \\sin{\\left (\\varphi{\\left (x \\right )} \\right )}\\right ]$$"
      ],
      "text/plain": [
       "[-u(x), x, -sin(varphi(x)), -cos(varphi(x)), cos(varphi(x)), -sin(varphi(x))]"
      ]
     },
     "execution_count": 11,
     "metadata": {},
     "output_type": "execute_result"
    }
   ],
   "source": [
    "[diff(X,psi).subs(identity), diff(U,psi).subs(identity), diff(F_new[0,0],psi).subs(identity), diff(F_new[0,1],psi).subs(identity), diff(F_new[1,0],psi).subs(identity), diff(F_new[1,1],psi).subs(identity)]"
   ]
  },
  {
   "cell_type": "markdown",
   "metadata": {},
   "source": [
    "For the \"frame\" portion of our framed curve, i.e. the $SO(3)$ component, the infinitesimal generators are:"
   ]
  },
  {
   "cell_type": "code",
   "execution_count": 12,
   "metadata": {},
   "outputs": [
    {
     "data": {
      "image/png": "[encoded data removed]",
      "text/latex": [
       "$$\\left[\\begin{matrix}- \\sin{\\left (\\varphi{\\left (x \\right )} \\right )} & - \\cos{\\left (\\varphi{\\left (x \\right )} \\right )}\\\\\\cos{\\left (\\varphi{\\left (x \\right )} \\right )} & - \\sin{\\left (\\varphi{\\left (x \\right )} \\right )}\\end{matrix}\\right]$$"
      ],
      "text/plain": [
       "⎡-sin(varphi(x))  -cos(varphi(x))⎤\n",
       "⎢                                ⎥\n",
       "⎣cos(varphi(x))   -sin(varphi(x))⎦"
      ]
     },
     "execution_count": 12,
     "metadata": {},
     "output_type": "execute_result"
    }
   ],
   "source": [
    "diff(F_new,psi).subs(identity)"
   ]
  },
  {
   "cell_type": "markdown",
   "metadata": {},
   "source": [
    "We should note that we could just have well realized that these expression are found by applying $\\dfrac{dR}{d\\psi_j}\\bigg|_{id}$ to either $z$ or $F$, i.e. we can multiply by one of the following three matrices:"
   ]
  },
  {
   "cell_type": "code",
   "execution_count": 13,
   "metadata": {},
   "outputs": [
    {
     "data": {
      "image/png": "[encoded data removed]",
      "text/latex": [
       "$$\\left[\\begin{matrix}0 & -1\\\\1 & 0\\end{matrix}\\right]$$"
      ],
      "text/plain": [
       "⎡0  -1⎤\n",
       "⎢     ⎥\n",
       "⎣1  0 ⎦"
      ]
     },
     "execution_count": 13,
     "metadata": {},
     "output_type": "execute_result"
    }
   ],
   "source": [
    "V = diff(R,psi).subs(identity)\n",
    "V"
   ]
  },
  {
   "cell_type": "markdown",
   "metadata": {},
   "source": [
    "# A Note About the Action of $SO(3)$ on Frames\n",
    "Before moving on, we should note that the action of $SO(3)$ on the frame matrix $F$ view above can also be analyzed in the absense of an explicit parameterization of $F$ in $SO(3)$.  This is done by simply analyzing the aciton of $SO(3)$ on $\\mathfrak{gl}(3)$ and imposing relation of various components.  This viewpoint is demonstrated below."
   ]
  },
  {
   "cell_type": "code",
   "execution_count": 14,
   "metadata": {
    "collapsed": true
   },
   "outputs": [],
   "source": [
    "F11 = symbols('F11')\n",
    "F12 = symbols('F12')\n",
    "F21 = symbols('F21')\n",
    "F22 = symbols('F22')\n",
    "\n",
    "F = Matrix([[F11,F12],[F21,F22]])"
   ]
  },
  {
   "cell_type": "code",
   "execution_count": 15,
   "metadata": {},
   "outputs": [
    {
     "data": {
      "image/png": "[encoded data removed]",
      "text/latex": [
       "$$\\left[\\begin{matrix}- F_{21} & - F_{22}\\\\F_{11} & F_{12}\\end{matrix}\\right]$$"
      ],
      "text/plain": [
       "⎡-F₂₁  -F₂₂⎤\n",
       "⎢          ⎥\n",
       "⎣F₁₁   F₁₂ ⎦"
      ]
     },
     "execution_count": 15,
     "metadata": {},
     "output_type": "execute_result"
    }
   ],
   "source": [
    "diff(R*F,psi).subs(identity)"
   ]
  },
  {
   "cell_type": "markdown",
   "metadata": {},
   "source": [
    "# Prolongation of Infinitesimal Generators\n",
    "If we prolong the infinitesimal generators for the group action given above using the jet coordinates $(x,y,u,\\varphi_1,\\varphi_2,\\varphi_3, y_x,u_x,\\varphi_{1,x},\\varphi_{2,x},\\varphi_{3,x})$, we will end up with a complicated mess.  Instead, we can express the prolongations as the restriction of the prolongations induced by the ebedding $SO(3)\\hookrightarrow\\mathfrak{gl}(3)$.  Expressing the prolonged infinitesimal generators in coordinates will require a rather long array.  Instead of doing this, we will display only the additional components of $\\texttt{pr}^1(v_i)$ that arise in prolonging $v_i$."
   ]
  },
  {
   "cell_type": "code",
   "execution_count": 16,
   "metadata": {
    "collapsed": true
   },
   "outputs": [],
   "source": [
    "v1 = [-symbols('u'), x, -F21, -F22, F11, F12]\n",
    "\n",
    "A = [['x'], ['u','F11','F12','F21','F22']]"
   ]
  },
  {
   "cell_type": "code",
   "execution_count": 17,
   "metadata": {},
   "outputs": [
    {
     "data": {
      "image/png": "[encoded data removed]",
      "text/latex": [
       "$$\\left [ - u, \\quad x, \\quad - F_{21}, \\quad - F_{22}, \\quad F_{11}, \\quad F_{12}, \\quad u_{x}^{2} + 1, \\quad F_{11 x} u_{x} - F_{21 x}, \\quad F_{12 x} u_{x} - F_{22 x}, \\quad F_{11 x} + F_{21 x} u_{x}, \\quad F_{12 x} + F_{22 x} u_{x}\\right ]$$"
      ],
      "text/plain": [
       "⎡                               2                                             \n",
       "⎣-u, x, -F₂₁, -F₂₂, F₁₁, F₁₂, uₓ  + 1, F₁₁ ₓ⋅uₓ - F₂₁ ₓ, F₁₂ ₓ⋅uₓ - F₂₂ ₓ, F₁₁\n",
       "\n",
       "                               ⎤\n",
       " ₓ + F₂₁ ₓ⋅uₓ, F₁₂ ₓ + F₂₂ ₓ⋅uₓ⎦"
      ]
     },
     "execution_count": 17,
     "metadata": {},
     "output_type": "execute_result"
    }
   ],
   "source": [
    "lp.Prolong(A, v1, 1)"
   ]
  },
  {
   "cell_type": "code",
   "execution_count": 18,
   "metadata": {
    "scrolled": true
   },
   "outputs": [
    {
     "data": {
      "image/png": "[encoded data removed]",
      "text/latex": [
       "$$F_{11} \\, \\dfrac{\\partial}{\\partial F21} + F_{12} \\, \\dfrac{\\partial}{\\partial F22} - F_{21} \\, \\dfrac{\\partial}{\\partial F11} - F_{22} \\, \\dfrac{\\partial}{\\partial F12} - u \\, \\dfrac{\\partial}{\\partial x} + x \\, \\dfrac{\\partial}{\\partial u} + \\left(F_{11 x} + F_{21 x} u_{x}\\right) \\, \\dfrac{\\partial}{\\partial F21x} + \\left(F_{12 x} + F_{22 x} u_{x}\\right) \\, \\dfrac{\\partial}{\\partial F22x} + \\left(u_{x}^{2} + 1\\right) \\, \\dfrac{\\partial}{\\partial ux} + \\left(F_{11 x} u_{x} - F_{21 x}\\right) \\, \\dfrac{\\partial}{\\partial F11x} + \\left(F_{12 x} u_{x} - F_{22 x}\\right) \\, \\dfrac{\\partial}{\\partial F12x}$$"
      ],
      "text/plain": [
       "                                                                              \n",
       "F₁₁⋅\\, \\dfrac{\\partial}{\\partial F21} + F₁₂⋅\\, \\dfrac{\\partial}{\\partial F22} \n",
       "\n",
       "                                                                              \n",
       "- F₂₁⋅\\, \\dfrac{\\partial}{\\partial F11} - F₂₂⋅\\, \\dfrac{\\partial}{\\partial F12\n",
       "\n",
       "                                                                              \n",
       "} - u⋅\\, \\dfrac{\\partial}{\\partial x} + x⋅\\, \\dfrac{\\partial}{\\partial u} + (F\n",
       "\n",
       "                                                                              \n",
       "₁₁ ₓ + F₂₁ ₓ⋅uₓ)⋅\\, \\dfrac{\\partial}{\\partial F21x} + (F₁₂ ₓ + F₂₂ ₓ⋅uₓ)⋅\\, \\d\n",
       "\n",
       "                                ⎛  2    ⎞                                     \n",
       "frac{\\partial}{\\partial F22x} + ⎝uₓ  + 1⎠⋅\\, \\dfrac{\\partial}{\\partial ux} + (\n",
       "\n",
       "                                                                              \n",
       "F₁₁ ₓ⋅uₓ - F₂₁ ₓ)⋅\\, \\dfrac{\\partial}{\\partial F11x} + (F₁₂ ₓ⋅uₓ - F₂₂ ₓ)⋅\\, \\\n",
       "\n",
       "                              \n",
       "dfrac{\\partial}{\\partial F12x}"
      ]
     },
     "execution_count": 18,
     "metadata": {},
     "output_type": "execute_result"
    }
   ],
   "source": [
    "lp.print_vector(lp.Prolong(A, v1, 1), lp.fullJet(A[0], A[1], 2))"
   ]
  },
  {
   "cell_type": "markdown",
   "metadata": {},
   "source": [
    "# Create groupAction Object\n",
    "In the following cell, we create a groupAction object and define the group transformation.  This will allow us to use some of the functionality of the class.  The Apply_Frame_Analysis() method cannot be applied in this situation because the symbolic solver cannot comple key steps."
   ]
  },
  {
   "cell_type": "code",
   "execution_count": 19,
   "metadata": {},
   "outputs": [],
   "source": [
    "g = lp.groupAction([['x'],['u','F11', 'F12', 'F21', 'F22']],['a','b','psi'],2)\n",
    "F_expr = R*F\n",
    "lp_conversion = {a:lp.a, b:lp.b, psi:lp.psi, x:lp.x, u:lp.u, F11:lp.F11, F12:lp.F12, F21:lp.F21, F22:lp.F22}\n",
    "\n",
    "# Define the group transformation, identity, and cross-section\n",
    "T = [X.subs(lp_conversion),U.subs(lp_conversion), F_expr[0].subs(lp_conversion), F_expr[1].subs(lp_conversion), F_expr[2].subs(lp_conversion), F_expr[3].subs(lp_conversion)]\n",
    "grp_id = [0,0,0]\n",
    "K = [[0,0,1,0,0,1],[lp.x,lp.u,lp.F11,lp.F12,lp.F21,lp.F22]]\n",
    "\n",
    "# Add defining properties to the group action object\n",
    "g.Def_transformation(T,grp_id,K)"
   ]
  },
  {
   "cell_type": "code",
   "execution_count": 20,
   "metadata": {},
   "outputs": [],
   "source": [
    "g.Apply_Frame_Analysis()"
   ]
  },
  {
   "cell_type": "markdown",
   "metadata": {},
   "source": [
    "# Recurrence Relations for Differential Invariants\n",
    "Determining the Mauer-Cartan invariants that show up in the recurrence relations for differential invariants requires solving an overdetermined system of equations.  Symbolic algebra systems can run into various problems when trying to solve such systems.  For this reason (and due to the relative ease) we will solve for the invariants by splitting the calculation into various steps."
   ]
  },
  {
   "cell_type": "code",
   "execution_count": 21,
   "metadata": {},
   "outputs": [
    {
     "data": {
      "image/png": "[encoded data removed]",
      "text/latex": [
       "$$\\left \\{ R_{1} : -1, \\quad R_{2} : - I^{u}_{1}, \\quad R_{3} : I^{F12}_{1}\\right \\}$$"
      ],
      "text/plain": [
       "{R₁: -1, R₂: -I_1__u, R₃: I_1__F12}"
      ]
     },
     "execution_count": 21,
     "metadata": {},
     "output_type": "execute_result"
    }
   ],
   "source": [
    "g.mc_invariants"
   ]
  },
  {
   "cell_type": "code",
   "execution_count": 22,
   "metadata": {},
   "outputs": [
    {
     "data": {
      "image/png": "[encoded data removed]",
      "text/latex": [
       "$$\\left \\{ \\vartheta^{F11}_{1} : D_{s} \\vartheta^{F22} - \\kappa_{F11} \\kappa_{F12} \\vartheta^{u} - \\kappa_{F12} \\vartheta^{F12}, \\quad \\vartheta^{F12} : D_{s} \\vartheta^{u}, \\quad \\vartheta^{F21} : - \\frac{D_{s} \\vartheta^{F11}}{\\kappa_{F12} - 1}, \\quad \\vartheta^{F22} : \\frac{- D_{s} \\vartheta^{F12} + \\kappa_{F12} \\vartheta^{u}}{\\kappa_{F12} - 1}, \\quad \\vartheta^{u}_{1} : D_{s} \\vartheta^{F21} - \\kappa_{F12} \\kappa_{u} \\vartheta^{u} - \\kappa_{F12} \\vartheta^{F11}\\right \\}$$"
      ],
      "text/plain": [
       "⎧                                                                             \n",
       "⎨vartheta_1__F11: D_s⋅vartheta__F22 - κ_F11⋅κ_F12⋅vartheta__u - κ_F12⋅vartheta\n",
       "⎩                                                                             \n",
       "\n",
       "                                                      -D_s⋅vartheta__F11      \n",
       "__F12, vartheta__F12: D_s⋅vartheta__u, vartheta__F21: ───────────────────, var\n",
       "                                                           κ_F12 - 1          \n",
       "\n",
       "            -D_s⋅vartheta__F12 + κ_F12⋅vartheta__u                            \n",
       "theta__F22: ──────────────────────────────────────, vartheta_1__u: D_s⋅varthet\n",
       "                          κ_F12 - 1                                           \n",
       "\n",
       "                                                   ⎫\n",
       "a__F21 - κ_F12⋅κᵤ⋅vartheta__u - κ_F12⋅vartheta__F11⎬\n",
       "                                                   ⎭"
      ]
     },
     "execution_count": 22,
     "metadata": {},
     "output_type": "execute_result"
    }
   ],
   "source": [
    "g.contact_reduction"
   ]
  },
  {
   "cell_type": "code",
   "execution_count": 23,
   "metadata": {},
   "outputs": [
    {
     "data": {
      "image/png": "[encoded data removed]",
      "text/latex": [
       "$$\\left[\\begin{matrix}- D_{s} & 0 & \\frac{\\kappa_{F12}}{\\kappa_{F12} - 1} & - \\kappa_{F12} \\kappa_{u} & D_{s} \\kappa_{F12} - \\frac{D_{s} \\kappa_{F12}}{\\kappa_{F12} - 1} - \\kappa_{F11} \\kappa_{F12}\\\\\\frac{D_{s}}{\\kappa_{F12} - 1} & 0 & 0 & - \\frac{D_{s} \\left(\\kappa_{u}^{2} + 1\\right)}{\\kappa_{F12} - 1} - \\kappa_{F12} & \\frac{D_{s} \\left(- \\kappa_{F11} \\kappa_{u} + \\kappa_{F21}\\right)}{\\kappa_{F12} - 1}\\\\0 & 0 & \\frac{D_{s}}{\\kappa_{F12} - 1} & 0 & - \\frac{D_{s}^{2}}{\\kappa_{F12} - 1}\\\\0 & 0 & 0 & - D_{s} & 0\\\\0 & 0 & 0 & 0 & 0\\end{matrix}\\right]$$"
      ],
      "text/plain": [
       "⎡                κ_F12                                         D_s⋅κ_F12      \n",
       "⎢  -D_s     0  ─────────         -κ_F12⋅κᵤ         D_s⋅κ_F12 - ───────── - κ_F\n",
       "⎢              κ_F12 - 1                                       κ_F12 - 1      \n",
       "⎢                                                                             \n",
       "⎢                               ⎛  2    ⎞                                     \n",
       "⎢   D_s                     D_s⋅⎝κᵤ  + 1⎠                D_s⋅(-κ_F11⋅κᵤ + κ_F2\n",
       "⎢─────────  0      0      - ───────────── - κ_F12        ─────────────────────\n",
       "⎢κ_F12 - 1                    κ_F12 - 1                         κ_F12 - 1     \n",
       "⎢                                                                             \n",
       "⎢                                                                     2       \n",
       "⎢                 D_s                                             -D_s        \n",
       "⎢    0      0  ─────────             0                          ─────────     \n",
       "⎢              κ_F12 - 1                                        κ_F12 - 1     \n",
       "⎢                                                                             \n",
       "⎢    0      0      0               -D_s                             0         \n",
       "⎢                                                                             \n",
       "⎣    0      0      0                 0                              0         \n",
       "\n",
       "        ⎤\n",
       "11⋅κ_F12⎥\n",
       "        ⎥\n",
       "        ⎥\n",
       "        ⎥\n",
       "1)      ⎥\n",
       "──      ⎥\n",
       "        ⎥\n",
       "        ⎥\n",
       "        ⎥\n",
       "        ⎥\n",
       "        ⎥\n",
       "        ⎥\n",
       "        ⎥\n",
       "        ⎥\n",
       "        ⎥\n",
       "        ⎦"
      ]
     },
     "execution_count": 23,
     "metadata": {},
     "output_type": "execute_result"
    }
   ],
   "source": [
    "g.inv_Euler()"
   ]
  },
  {
   "cell_type": "code",
   "execution_count": 26,
   "metadata": {},
   "outputs": [
    {
     "data": {
      "image/png": "[encoded data removed]",
      "text/latex": [
       "$$\\left [ - u, \\quad x, \\quad - F_{21}, \\quad - F_{22}, \\quad F_{11}, \\quad F_{12}, \\quad u_{x}^{2} + 1, \\quad F_{11 x} u_{x} - F_{21 x}, \\quad F_{12 x} u_{x} - F_{22 x}, \\quad F_{11 x} + F_{21 x} u_{x}, \\quad F_{12 x} + F_{22 x} u_{x}\\right ]$$"
      ],
      "text/plain": [
       "⎡                               2                                             \n",
       "⎣-u, x, -F₂₁, -F₂₂, F₁₁, F₁₂, uₓ  + 1, F₁₁ ₓ⋅uₓ - F₂₁ ₓ, F₁₂ ₓ⋅uₓ - F₂₂ ₓ, F₁₁\n",
       "\n",
       "                               ⎤\n",
       " ₓ + F₂₁ ₓ⋅uₓ, F₁₂ ₓ + F₂₂ ₓ⋅uₓ⎦"
      ]
     },
     "execution_count": 26,
     "metadata": {},
     "output_type": "execute_result"
    }
   ],
   "source": [
    "g.Prolong(g.vectors[2],1)"
   ]
  },
  {
   "cell_type": "code",
   "execution_count": null,
   "metadata": {
    "collapsed": true
   },
   "outputs": [],
   "source": []
  }
 ],
 "metadata": {
  "kernelspec": {
   "display_name": "Python 2.7",
   "language": "python",
   "name": "python2"
  },
  "language_info": {
   "codemirror_mode": {
    "name": "ipython",
    "version": 2
   },
   "file_extension": ".py",
   "mimetype": "text/x-python",
   "name": "python",
   "nbconvert_exporter": "python",
   "pygments_lexer": "ipython2",
   "version": "2.7.15"
  }
 },
 "nbformat": 4,
 "nbformat_minor": 2
}

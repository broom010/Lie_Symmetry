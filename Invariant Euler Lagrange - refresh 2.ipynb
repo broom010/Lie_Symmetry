{
 "cells": [
  {
   "cell_type": "code",
   "execution_count": 1,
   "metadata": {},
   "outputs": [],
   "source": [
    "from sympy import *\n",
    "from itertools import *\n",
    "import LieSympy as lp\n",
    "import numpy as np\n",
    "import copy as copy\n",
    "import time\n",
    "init_printing()"
   ]
  },
  {
   "cell_type": "code",
   "execution_count": 2,
   "metadata": {},
   "outputs": [],
   "source": [
    "g = lp.groupAction([['x'],['u','P']],['a','b','psi'],3)"
   ]
  },
  {
   "cell_type": "code",
   "execution_count": 3,
   "metadata": {},
   "outputs": [
    {
     "name": "stdout",
     "output_type": "stream",
     "text": [
      "0.0\n",
      "0.0\n",
      "0.00200009346008\n",
      "0.00200009346008\n",
      "4\n",
      "2\n",
      "pass\n",
      "pass\n",
      "pass\n",
      "pass\n",
      "pass\n",
      "pass\n",
      "3.00200009346\n",
      "3.00400018692\n",
      "3.00400018692\n",
      "[[1, 0, 0], [0, 1, 0], [-u(x), x, 1]]\n",
      "pass\n",
      "pass\n",
      "[a - u*sin(psi) + x*cos(psi), b + u*cos(psi) + x*sin(psi), P + psi]\n",
      "pass\n",
      "3.23600006104\n",
      "3.23600006104\n",
      "5.22600007057\n",
      "5.22699999809\n",
      "5.22699999809\n",
      "5.22800016403\n"
     ]
    }
   ],
   "source": [
    "# Define the expressions in terms of variables in the lp module\n",
    "X_expr = cos(lp.psi)*lp.x-sin(lp.psi)*lp.u+lp.a\n",
    "U_expr =  sin(lp.psi)*lp.x+cos(lp.psi)*lp.u+lp.b\n",
    "P_expr = lp.P+lp.psi\n",
    "\n",
    "# Define the group transformation, identity, and cross-section\n",
    "T = [X_expr, U_expr, P_expr]\n",
    "grp_id = [0,0,0]\n",
    "K = [[0,0,0],[lp.x,lp.u,lp.P]]\n",
    "\n",
    "# Instantiate the group action object\n",
    "g.Def_transformation(T,grp_id,K)"
   ]
  },
  {
   "cell_type": "markdown",
   "metadata": {},
   "source": [
    "### Testing Area"
   ]
  },
  {
   "cell_type": "code",
   "execution_count": 4,
   "metadata": {},
   "outputs": [
    {
     "data": {
      "image/png": "[encoded data removed]",
      "text/latex": [
       "$$\\left[\\begin{matrix}- D_{x} + \\kappa^{P} \\kappa^{u} & \\left(\\kappa^{P}\\right)^{2}\\\\- \\left(\\kappa^{u}\\right)^{2} - 1 & - D_{x} - \\kappa^{P} \\kappa^{u}\\end{matrix}\\right]$$"
      ],
      "text/plain": [
       "⎡                          2     ⎤\n",
       "⎢-Dₓ + κ__P⋅κ__u       κ__P      ⎥\n",
       "⎢                                ⎥\n",
       "⎢        2                       ⎥\n",
       "⎣  - κ__u  - 1    -Dₓ - κ__P⋅κ__u⎦"
      ]
     },
     "execution_count": 4,
     "metadata": {},
     "output_type": "execute_result"
    }
   ],
   "source": [
    "g.inv_Euler()"
   ]
  },
  {
   "cell_type": "code",
   "execution_count": 4,
   "metadata": {},
   "outputs": [
    {
     "data": {
      "image/png": "[encoded data removed]",
      "text/latex": [
       "$$\\left[\\begin{matrix}- \\kappa^{P}\\\\\\kappa^{u}\\end{matrix}\\right]$$"
      ],
      "text/plain": [
       "⎡-κ__P⎤\n",
       "⎢     ⎥\n",
       "⎣κ__u ⎦"
      ]
     },
     "execution_count": 4,
     "metadata": {},
     "output_type": "execute_result"
    }
   ],
   "source": [
    "g.invariant_Hamilton()"
   ]
  },
  {
   "cell_type": "markdown",
   "metadata": {},
   "source": [
    "### Testing the 3D case"
   ]
  },
  {
   "cell_type": "code",
   "execution_count": 6,
   "metadata": {},
   "outputs": [],
   "source": [
    "g = lp.groupAction([['x'],['y','u','d','e','f','g','h','k','l','o','p']],\n",
    "                   ['a','b','c','r11','r12','r13','r21','r22','r23','r31','r32','r33'],2)"
   ]
  },
  {
   "cell_type": "code",
   "execution_count": 7,
   "metadata": {},
   "outputs": [],
   "source": [
    "# Define the expressions in terms of variables in the lp module\n",
    "X_expr = lp.r11*lp.x + lp.r12*lp.y + lp.r13*lp.u + lp.a\n",
    "Y_expr = lp.r21*lp.x + lp.r22*lp.y + lp.r23*lp.u + lp.b\n",
    "U_expr = lp.r31*lp.x + lp.r32*lp.y + lp.r33*lp.u + lp.c\n",
    "\n",
    "d_expr = lp.d*lp.r11 + lp.g*lp.r12 + lp.l*lp.r13\n",
    "e_expr = lp.e*lp.r11 + lp.h*lp.r12 + lp.o*lp.r13\n",
    "f_expr = lp.f*lp.r11 + lp.k*lp.r12 + lp.p*lp.r13\n",
    "g_expr = lp.d*lp.r21 + lp.g*lp.r22 + lp.l*lp.r23\n",
    "h_expr = lp.e*lp.r21 + lp.h*lp.r22 + lp.o*lp.r23\n",
    "k_expr = lp.f*lp.r21 + lp.k*lp.r22 + lp.p*lp.r23\n",
    "l_expr = lp.d*lp.r31 + lp.g*lp.r32 + lp.l*lp.r33\n",
    "o_expr = lp.e*lp.r31 + lp.h*lp.r32 + lp.o*lp.r33\n",
    "p_expr = lp.f*lp.r31 + lp.k*lp.r32 + lp.p*lp.r33"
   ]
  },
  {
   "cell_type": "code",
   "execution_count": 8,
   "metadata": {},
   "outputs": [
    {
     "name": "stdout",
     "output_type": "stream",
     "text": [
      "0.0\n",
      "0.0\n",
      "0.00499987602234\n",
      "0.00499987602234\n",
      "3\n",
      "11\n",
      "pass\n",
      "pass\n",
      "pass\n",
      "pass\n",
      "pass\n",
      "pass\n",
      "pass\n",
      "pass\n",
      "pass\n",
      "pass\n",
      "pass\n",
      "pass\n",
      "pass\n",
      "pass\n",
      "pass\n",
      "pass\n",
      "pass\n",
      "pass\n",
      "pass\n",
      "pass\n",
      "pass\n",
      "pass\n",
      "7.40499997139\n",
      "7.41100001335\n",
      "7.41100001335\n",
      "[[1, 0, 0, 0, 0, 0, 0, 0, 0, 0, 0, 0], [0, 1, 0, 0, 0, 0, 0, 0, 0, 0, 0, 0], [0, 0, 1, 0, 0, 0, 0, 0, 0, 0, 0, 0], [x, 0, 0, d(x), e(x), f(x), 0, 0, 0, 0, 0, 0], [y(x), 0, 0, g(x), h(x), k(x), 0, 0, 0, 0, 0, 0], [u(x), 0, 0, l(x), o(x), p(x), 0, 0, 0, 0, 0, 0], [0, x, 0, 0, 0, 0, d(x), e(x), f(x), 0, 0, 0], [0, y(x), 0, 0, 0, 0, g(x), h(x), k(x), 0, 0, 0], [0, u(x), 0, 0, 0, 0, l(x), o(x), p(x), 0, 0, 0], [0, 0, x, 0, 0, 0, 0, 0, 0, d(x), e(x), f(x)], [0, 0, y(x), 0, 0, 0, 0, 0, 0, g(x), h(x), k(x)], [0, 0, u(x), 0, 0, 0, 0, 0, 0, l(x), o(x), p(x)]]\n",
      "pass\n",
      "pass\n",
      "[a + r11*x + r12*y + r13*u, b + r21*x + r22*y + r23*u, c + r31*x + r32*y + r33*u, d*r11 + g*r12 + l*r13 - 1, e*r11 + h*r12 + o*r13, f*r11 + k*r12 + p*r13, d*r21 + g*r22 + l*r23, e*r21 + h*r22 + o*r23 - 1, f*r21 + k*r22 + p*r23, d*r31 + g*r32 + l*r33, e*r31 + h*r32 + o*r33, f*r31 + k*r32 + p*r33 - 1]\n",
      "pass\n",
      "29.6899998188\n",
      "29.6909999847\n",
      "234.32799983\n",
      "234.328999996\n",
      "234.328999996\n",
      "234.332999945\n"
     ]
    },
    {
     "ename": "KeyError",
     "evalue": "R4",
     "output_type": "error",
     "traceback": [
      "\u001b[1;31m---------------------------------------------------------------------------\u001b[0m",
      "\u001b[1;31mKeyError\u001b[0m                                  Traceback (most recent call last)",
      "\u001b[1;32m<ipython-input-8-fc0e2eb6b551>\u001b[0m in \u001b[0;36m<module>\u001b[1;34m()\u001b[0m\n\u001b[0;32m      7\u001b[0m \u001b[0mt0\u001b[0m \u001b[1;33m=\u001b[0m \u001b[0mtime\u001b[0m\u001b[1;33m.\u001b[0m\u001b[0mtime\u001b[0m\u001b[1;33m(\u001b[0m\u001b[1;33m)\u001b[0m\u001b[1;33m\u001b[0m\u001b[0m\n\u001b[0;32m      8\u001b[0m \u001b[1;31m# Instantiate the group action object\u001b[0m\u001b[1;33m\u001b[0m\u001b[1;33m\u001b[0m\u001b[0m\n\u001b[1;32m----> 9\u001b[1;33m \u001b[0mg\u001b[0m\u001b[1;33m.\u001b[0m\u001b[0mDef_transformation\u001b[0m\u001b[1;33m(\u001b[0m\u001b[0mT\u001b[0m\u001b[1;33m,\u001b[0m\u001b[0mgrp_id\u001b[0m\u001b[1;33m,\u001b[0m\u001b[0mK\u001b[0m\u001b[1;33m)\u001b[0m\u001b[1;33m\u001b[0m\u001b[0m\n\u001b[0m\u001b[0;32m     10\u001b[0m \u001b[0mt1\u001b[0m \u001b[1;33m=\u001b[0m \u001b[0mtime\u001b[0m\u001b[1;33m.\u001b[0m\u001b[0mtime\u001b[0m\u001b[1;33m(\u001b[0m\u001b[1;33m)\u001b[0m\u001b[1;33m\u001b[0m\u001b[0m\n",
      "\u001b[1;32mC:\\Users\\jimmy\\Documents\\GitHub\\Lie_Symmetry\\LieSympy.pyc\u001b[0m in \u001b[0;36mDef_transformation\u001b[1;34m(self, expression, id, cross)\u001b[0m\n\u001b[0;32m    180\u001b[0m         \u001b[0mself\u001b[0m\u001b[1;33m.\u001b[0m\u001b[0mrec_Relations_Forms\u001b[0m\u001b[1;33m(\u001b[0m\u001b[1;33m)\u001b[0m\u001b[1;33m\u001b[0m\u001b[0m\n\u001b[0;32m    181\u001b[0m         \u001b[0mself\u001b[0m\u001b[1;33m.\u001b[0m\u001b[0mgen_invs\u001b[0m\u001b[1;33m(\u001b[0m\u001b[1;33m)\u001b[0m\u001b[1;33m\u001b[0m\u001b[0m\n\u001b[1;32m--> 182\u001b[1;33m         \u001b[0mself\u001b[0m\u001b[1;33m.\u001b[0m\u001b[0mcontact_Reduction\u001b[0m\u001b[1;33m(\u001b[0m\u001b[1;33m)\u001b[0m\u001b[1;33m\u001b[0m\u001b[0m\n\u001b[0m\u001b[0;32m    183\u001b[0m         \u001b[1;31m# contact_reduction = {contact_symbol[2]:solve(D_x*contact_symbol[0]-inv_D_x_contact(0,0), contact_symbol[2])[0],contact_symbol[3]:solve(D_x*contact_symbol[1]-inv_D_x_contact(1,0), contact_symbol[3])[0]}\u001b[0m\u001b[1;33m\u001b[0m\u001b[1;33m\u001b[0m\u001b[0m\n\u001b[0;32m    184\u001b[0m \u001b[1;33m\u001b[0m\u001b[0m\n",
      "\u001b[1;32mC:\\Users\\jimmy\\Documents\\GitHub\\Lie_Symmetry\\LieSympy.pyc\u001b[0m in \u001b[0;36mcontact_Reduction\u001b[1;34m(self)\u001b[0m\n\u001b[0;32m    242\u001b[0m \u001b[1;33m\u001b[0m\u001b[0m\n\u001b[0;32m    243\u001b[0m     \u001b[1;32mdef\u001b[0m \u001b[0mcontact_Reduction\u001b[0m\u001b[1;33m(\u001b[0m\u001b[0mself\u001b[0m\u001b[1;33m)\u001b[0m\u001b[1;33m:\u001b[0m\u001b[1;33m\u001b[0m\u001b[0m\n\u001b[1;32m--> 244\u001b[1;33m         \u001b[0mself\u001b[0m\u001b[1;33m.\u001b[0m\u001b[0mcontact_reduction\u001b[0m \u001b[1;33m=\u001b[0m \u001b[0mdict\u001b[0m\u001b[1;33m(\u001b[0m\u001b[1;33m(\u001b[0m\u001b[0mself\u001b[0m\u001b[1;33m.\u001b[0m\u001b[0mcontact_symbol\u001b[0m\u001b[1;33m[\u001b[0m\u001b[0mi\u001b[0m\u001b[1;33m+\u001b[0m\u001b[1;36m3\u001b[0m\u001b[1;33m]\u001b[0m\u001b[1;33m,\u001b[0m \u001b[0msolve\u001b[0m\u001b[1;33m(\u001b[0m\u001b[0mDx\u001b[0m\u001b[1;33m*\u001b[0m\u001b[0mself\u001b[0m\u001b[1;33m.\u001b[0m\u001b[0mcontact_symbol\u001b[0m\u001b[1;33m[\u001b[0m\u001b[0mi\u001b[0m\u001b[1;33m+\u001b[0m\u001b[1;36m1\u001b[0m\u001b[1;33m]\u001b[0m\u001b[1;33m-\u001b[0m\u001b[0mself\u001b[0m\u001b[1;33m.\u001b[0m\u001b[0minv_D_x_contact\u001b[0m\u001b[1;33m(\u001b[0m\u001b[0mi\u001b[0m\u001b[1;33m,\u001b[0m\u001b[1;36m0\u001b[0m\u001b[1;33m)\u001b[0m\u001b[1;33m,\u001b[0m \u001b[0mself\u001b[0m\u001b[1;33m.\u001b[0m\u001b[0mcontact_symbol\u001b[0m\u001b[1;33m[\u001b[0m\u001b[0mi\u001b[0m\u001b[1;33m+\u001b[0m\u001b[1;36m3\u001b[0m\u001b[1;33m]\u001b[0m\u001b[1;33m)\u001b[0m\u001b[1;33m[\u001b[0m\u001b[1;36m0\u001b[0m\u001b[1;33m]\u001b[0m\u001b[1;33m)\u001b[0m \u001b[1;32mfor\u001b[0m \u001b[0mi\u001b[0m \u001b[1;32min\u001b[0m \u001b[0mrange\u001b[0m\u001b[1;33m(\u001b[0m\u001b[0mlen\u001b[0m\u001b[1;33m(\u001b[0m\u001b[0mself\u001b[0m\u001b[1;33m.\u001b[0m\u001b[0mA\u001b[0m\u001b[1;33m[\u001b[0m\u001b[1;36m1\u001b[0m\u001b[1;33m]\u001b[0m\u001b[1;33m)\u001b[0m\u001b[1;33m)\u001b[0m\u001b[1;33m)\u001b[0m\u001b[1;33m\u001b[0m\u001b[0m\n\u001b[0m\u001b[0;32m    245\u001b[0m         \u001b[0mself\u001b[0m\u001b[1;33m.\u001b[0m\u001b[0mcontact_zeros\u001b[0m \u001b[1;33m=\u001b[0m \u001b[0mdict\u001b[0m\u001b[1;33m(\u001b[0m\u001b[1;33m(\u001b[0m\u001b[0mp\u001b[0m\u001b[1;33m,\u001b[0m\u001b[1;36m0\u001b[0m\u001b[1;33m)\u001b[0m \u001b[1;32mfor\u001b[0m \u001b[0mp\u001b[0m \u001b[1;32min\u001b[0m \u001b[0mself\u001b[0m\u001b[1;33m.\u001b[0m\u001b[0mcontact_symbol\u001b[0m\u001b[1;33m)\u001b[0m\u001b[1;33m\u001b[0m\u001b[0m\n\u001b[0;32m    246\u001b[0m \u001b[1;33m\u001b[0m\u001b[0m\n",
      "\u001b[1;32mC:\\Users\\jimmy\\Documents\\GitHub\\Lie_Symmetry\\LieSympy.pyc\u001b[0m in \u001b[0;36m<genexpr>\u001b[1;34m((i,))\u001b[0m\n\u001b[0;32m    242\u001b[0m \u001b[1;33m\u001b[0m\u001b[0m\n\u001b[0;32m    243\u001b[0m     \u001b[1;32mdef\u001b[0m \u001b[0mcontact_Reduction\u001b[0m\u001b[1;33m(\u001b[0m\u001b[0mself\u001b[0m\u001b[1;33m)\u001b[0m\u001b[1;33m:\u001b[0m\u001b[1;33m\u001b[0m\u001b[0m\n\u001b[1;32m--> 244\u001b[1;33m         \u001b[0mself\u001b[0m\u001b[1;33m.\u001b[0m\u001b[0mcontact_reduction\u001b[0m \u001b[1;33m=\u001b[0m \u001b[0mdict\u001b[0m\u001b[1;33m(\u001b[0m\u001b[1;33m(\u001b[0m\u001b[0mself\u001b[0m\u001b[1;33m.\u001b[0m\u001b[0mcontact_symbol\u001b[0m\u001b[1;33m[\u001b[0m\u001b[0mi\u001b[0m\u001b[1;33m+\u001b[0m\u001b[1;36m3\u001b[0m\u001b[1;33m]\u001b[0m\u001b[1;33m,\u001b[0m \u001b[0msolve\u001b[0m\u001b[1;33m(\u001b[0m\u001b[0mDx\u001b[0m\u001b[1;33m*\u001b[0m\u001b[0mself\u001b[0m\u001b[1;33m.\u001b[0m\u001b[0mcontact_symbol\u001b[0m\u001b[1;33m[\u001b[0m\u001b[0mi\u001b[0m\u001b[1;33m+\u001b[0m\u001b[1;36m1\u001b[0m\u001b[1;33m]\u001b[0m\u001b[1;33m-\u001b[0m\u001b[0mself\u001b[0m\u001b[1;33m.\u001b[0m\u001b[0minv_D_x_contact\u001b[0m\u001b[1;33m(\u001b[0m\u001b[0mi\u001b[0m\u001b[1;33m,\u001b[0m\u001b[1;36m0\u001b[0m\u001b[1;33m)\u001b[0m\u001b[1;33m,\u001b[0m \u001b[0mself\u001b[0m\u001b[1;33m.\u001b[0m\u001b[0mcontact_symbol\u001b[0m\u001b[1;33m[\u001b[0m\u001b[0mi\u001b[0m\u001b[1;33m+\u001b[0m\u001b[1;36m3\u001b[0m\u001b[1;33m]\u001b[0m\u001b[1;33m)\u001b[0m\u001b[1;33m[\u001b[0m\u001b[1;36m0\u001b[0m\u001b[1;33m]\u001b[0m\u001b[1;33m)\u001b[0m \u001b[1;32mfor\u001b[0m \u001b[0mi\u001b[0m \u001b[1;32min\u001b[0m \u001b[0mrange\u001b[0m\u001b[1;33m(\u001b[0m\u001b[0mlen\u001b[0m\u001b[1;33m(\u001b[0m\u001b[0mself\u001b[0m\u001b[1;33m.\u001b[0m\u001b[0mA\u001b[0m\u001b[1;33m[\u001b[0m\u001b[1;36m1\u001b[0m\u001b[1;33m]\u001b[0m\u001b[1;33m)\u001b[0m\u001b[1;33m)\u001b[0m\u001b[1;33m)\u001b[0m\u001b[1;33m\u001b[0m\u001b[0m\n\u001b[0m\u001b[0;32m    245\u001b[0m         \u001b[0mself\u001b[0m\u001b[1;33m.\u001b[0m\u001b[0mcontact_zeros\u001b[0m \u001b[1;33m=\u001b[0m \u001b[0mdict\u001b[0m\u001b[1;33m(\u001b[0m\u001b[1;33m(\u001b[0m\u001b[0mp\u001b[0m\u001b[1;33m,\u001b[0m\u001b[1;36m0\u001b[0m\u001b[1;33m)\u001b[0m \u001b[1;32mfor\u001b[0m \u001b[0mp\u001b[0m \u001b[1;32min\u001b[0m \u001b[0mself\u001b[0m\u001b[1;33m.\u001b[0m\u001b[0mcontact_symbol\u001b[0m\u001b[1;33m)\u001b[0m\u001b[1;33m\u001b[0m\u001b[0m\n\u001b[0;32m    246\u001b[0m \u001b[1;33m\u001b[0m\u001b[0m\n",
      "\u001b[1;32mC:\\Users\\jimmy\\Documents\\GitHub\\Lie_Symmetry\\LieSympy.pyc\u001b[0m in \u001b[0;36minv_D_x_contact\u001b[1;34m(self, var_index, i)\u001b[0m\n\u001b[0;32m    412\u001b[0m         \u001b[0mexpr\u001b[0m \u001b[1;33m=\u001b[0m \u001b[1;36m0\u001b[0m\u001b[1;33m\u001b[0m\u001b[0m\n\u001b[0;32m    413\u001b[0m         \u001b[1;32mfor\u001b[0m \u001b[0mj\u001b[0m \u001b[1;32min\u001b[0m \u001b[0mrange\u001b[0m\u001b[1;33m(\u001b[0m\u001b[0mself\u001b[0m\u001b[1;33m.\u001b[0m\u001b[0mr\u001b[0m\u001b[1;33m)\u001b[0m\u001b[1;33m:\u001b[0m\u001b[1;33m\u001b[0m\u001b[0m\n\u001b[1;32m--> 414\u001b[1;33m             \u001b[0mexpr\u001b[0m \u001b[1;33m=\u001b[0m \u001b[0mexpr\u001b[0m \u001b[1;33m+\u001b[0m \u001b[0mself\u001b[0m\u001b[1;33m.\u001b[0m\u001b[0mLie_contact_diff\u001b[0m\u001b[1;33m(\u001b[0m\u001b[0mself\u001b[0m\u001b[1;33m.\u001b[0m\u001b[0mvectors\u001b[0m\u001b[1;33m[\u001b[0m\u001b[0mj\u001b[0m\u001b[1;33m]\u001b[0m\u001b[1;33m,\u001b[0m \u001b[0mvar_index\u001b[0m\u001b[1;33m,\u001b[0m \u001b[0mi\u001b[0m\u001b[1;33m)\u001b[0m\u001b[1;33m*\u001b[0m\u001b[0mself\u001b[0m\u001b[1;33m.\u001b[0m\u001b[0mmc_invariants\u001b[0m\u001b[1;33m[\u001b[0m\u001b[0mself\u001b[0m\u001b[1;33m.\u001b[0m\u001b[0mRi\u001b[0m\u001b[1;33m[\u001b[0m\u001b[0mj\u001b[0m\u001b[1;33m]\u001b[0m\u001b[1;33m]\u001b[0m\u001b[1;33m\u001b[0m\u001b[0m\n\u001b[0m\u001b[0;32m    415\u001b[0m         \u001b[1;32mreturn\u001b[0m \u001b[1;33m(\u001b[0m\u001b[0mself\u001b[0m\u001b[1;33m.\u001b[0m\u001b[0mcontact_symbol\u001b[0m\u001b[1;33m[\u001b[0m\u001b[0mvar_index\u001b[0m \u001b[1;33m+\u001b[0m \u001b[1;36m3\u001b[0m\u001b[1;33m]\u001b[0m \u001b[1;33m+\u001b[0m \u001b[0mexpr\u001b[0m\u001b[1;33m)\u001b[0m\u001b[1;33m.\u001b[0m\u001b[0msubs\u001b[0m\u001b[1;33m(\u001b[0m\u001b[0mself\u001b[0m\u001b[1;33m.\u001b[0m\u001b[0mnormals_substitution\u001b[0m\u001b[1;33m)\u001b[0m\u001b[1;33m.\u001b[0m\u001b[0msubs\u001b[0m\u001b[1;33m(\u001b[0m\u001b[0mself\u001b[0m\u001b[1;33m.\u001b[0m\u001b[0mcurvature_subs\u001b[0m\u001b[1;33m)\u001b[0m\u001b[1;33m\u001b[0m\u001b[0m\n\u001b[0;32m    416\u001b[0m \u001b[1;33m\u001b[0m\u001b[0m\n",
      "\u001b[1;31mKeyError\u001b[0m: R4"
     ]
    }
   ],
   "source": [
    "# Define the group transformation, identity, and cross-section\n",
    "T = [X_expr, Y_expr, U_expr, d_expr,e_expr,f_expr,\n",
    "    g_expr,h_expr,k_expr,l_expr,o_expr,p_expr]\n",
    "grp_id = [0,0,0,1,0,0,0,1,0,0,0,1]\n",
    "K = [[0,0,0,1,0,0,0,1,0,0,0,1],[lp.x,lp.y,lp.u,lp.d,lp.e,lp.f,\n",
    "                                lp.g,lp.h,lp.k,lp.l,lp.o,lp.p]]\n",
    "t0 = time.time()\n",
    "# Instantiate the group action object\n",
    "g.Def_transformation(T,grp_id,K)\n",
    "t1 = time.time()"
   ]
  },
  {
   "cell_type": "code",
   "execution_count": 9,
   "metadata": {},
   "outputs": [
    {
     "data": {
      "image/png": "[encoded data removed]",
      "text/latex": [
       "$$\\left \\{ a : \\frac{- e k u + e p y + f h u - f o y - h p x + k o x}{d h p - d k o - e g p + e k l + f g o - f h l}, \\quad b : \\frac{d k u - d p y - f g u + f l y + g p x - k l x}{d h p - d k o - e g p + e k l + f g o - f h l}, \\quad c : \\frac{- d h u + d o y + e g u - e l y - g o x + h l x}{d h p - d k o - e g p + e k l + f g o - f h l}, \\quad r_{11} : \\frac{h p - k o}{d h p - d k o - e g p + e k l + f g o - f h l}, \\quad r_{12} : \\frac{- e p + f o}{d h p - d k o - e g p + e k l + f g o - f h l}, \\quad r_{13} : \\frac{e k - f h}{d h p - d k o - e g p + e k l + f g o - f h l}, \\quad r_{21} : \\frac{- g p + k l}{d h p - d k o - e g p + e k l + f g o - f h l}, \\quad r_{22} : \\frac{d p - f l}{d h p - d k o - e g p + e k l + f g o - f h l}, \\quad r_{23} : \\frac{- d k + f g}{d h p - d k o - e g p + e k l + f g o - f h l}, \\quad r_{31} : \\frac{g o - h l}{d h p - d k o - e g p + e k l + f g o - f h l}, \\quad r_{32} : \\frac{- d o + e l}{d h p - d k o - e g p + e k l + f g o - f h l}, \\quad r_{33} : \\frac{d h - e g}{d h p - d k o - e g p + e k l + f g o - f h l}\\right \\}$$"
      ],
      "text/plain": [
       "⎧   -e⋅k⋅u + e⋅p⋅y + f⋅h⋅u - f⋅o⋅y - h⋅p⋅x + k⋅o⋅x     d⋅k⋅u - d⋅p⋅y - f⋅g⋅u +\n",
       "⎨a: ──────────────────────────────────────────────, b: ───────────────────────\n",
       "⎩   d⋅h⋅p - d⋅k⋅o - e⋅g⋅p + e⋅k⋅l + f⋅g⋅o - f⋅h⋅l      d⋅h⋅p - d⋅k⋅o - e⋅g⋅p +\n",
       "\n",
       " f⋅l⋅y + g⋅p⋅x - k⋅l⋅x     -d⋅h⋅u + d⋅o⋅y + e⋅g⋅u - e⋅l⋅y - g⋅o⋅x + h⋅l⋅x     \n",
       "──────────────────────, c: ──────────────────────────────────────────────, r₁₁\n",
       " e⋅k⋅l + f⋅g⋅o - f⋅h⋅l     d⋅h⋅p - d⋅k⋅o - e⋅g⋅p + e⋅k⋅l + f⋅g⋅o - f⋅h⋅l      \n",
       "\n",
       "                    h⋅p - k⋅o                                           -e⋅p +\n",
       ": ─────────────────────────────────────────────, r₁₂: ────────────────────────\n",
       "  d⋅h⋅p - d⋅k⋅o - e⋅g⋅p + e⋅k⋅l + f⋅g⋅o - f⋅h⋅l       d⋅h⋅p - d⋅k⋅o - e⋅g⋅p + \n",
       "\n",
       " f⋅o                                          e⋅k - f⋅h                       \n",
       "─────────────────────, r₁₃: ─────────────────────────────────────────────, r₂₁\n",
       "e⋅k⋅l + f⋅g⋅o - f⋅h⋅l       d⋅h⋅p - d⋅k⋅o - e⋅g⋅p + e⋅k⋅l + f⋅g⋅o - f⋅h⋅l     \n",
       "\n",
       "                    -g⋅p + k⋅l                                          d⋅p - \n",
       ": ─────────────────────────────────────────────, r₂₂: ────────────────────────\n",
       "  d⋅h⋅p - d⋅k⋅o - e⋅g⋅p + e⋅k⋅l + f⋅g⋅o - f⋅h⋅l       d⋅h⋅p - d⋅k⋅o - e⋅g⋅p + \n",
       "\n",
       "f⋅l                                           -d⋅k + f⋅g                      \n",
       "─────────────────────, r₂₃: ─────────────────────────────────────────────, r₃₁\n",
       "e⋅k⋅l + f⋅g⋅o - f⋅h⋅l       d⋅h⋅p - d⋅k⋅o - e⋅g⋅p + e⋅k⋅l + f⋅g⋅o - f⋅h⋅l     \n",
       "\n",
       "                    g⋅o - h⋅l                                           -d⋅o +\n",
       ": ─────────────────────────────────────────────, r₃₂: ────────────────────────\n",
       "  d⋅h⋅p - d⋅k⋅o - e⋅g⋅p + e⋅k⋅l + f⋅g⋅o - f⋅h⋅l       d⋅h⋅p - d⋅k⋅o - e⋅g⋅p + \n",
       "\n",
       " e⋅l                                          d⋅h - e⋅g                  ⎫\n",
       "─────────────────────, r₃₃: ─────────────────────────────────────────────⎬\n",
       "e⋅k⋅l + f⋅g⋅o - f⋅h⋅l       d⋅h⋅p - d⋅k⋅o - e⋅g⋅p + e⋅k⋅l + f⋅g⋅o - f⋅h⋅l⎭"
      ]
     },
     "execution_count": 9,
     "metadata": {},
     "output_type": "execute_result"
    }
   ],
   "source": [
    "g.frame"
   ]
  },
  {
   "cell_type": "code",
   "execution_count": 15,
   "metadata": {},
   "outputs": [],
   "source": [
    "g.frame = {lp.a:(-lp.d*lp.x-lp.g*lp.y-lp.l*lp.u-lp.d*lp.x-lp.g*lp.y-lp.l*lp.u).subs(g.master_function_to_symbol),\n",
    "          lp.b:(-lp.e*lp.x-lp.h*lp.y-lp.o*lp.u-lp.e*lp.x-lp.h*lp.y-lp.o*lp.u).subs(g.master_function_to_symbol),\n",
    "          lp.c:(-lp.f*lp.x-lp.k*lp.y-lp.p*lp.u-lp.f*lp.x-lp.k*lp.y-lp.p*lp.u).subs(g.master_function_to_symbol),\n",
    "          lp.r11:lp.d.subs(g.master_function_to_symbol), lp.r12:lp.g.subs(g.master_function_to_symbol),\n",
    "           lp.r13:lp.l.subs(g.master_function_to_symbol), lp.r21:lp.e.subs(g.master_function_to_symbol),\n",
    "           lp.r22:lp.h.subs(g.master_function_to_symbol), lp.r23:lp.o.subs(g.master_function_to_symbol),\n",
    "           lp.r31:lp.f.subs(g.master_function_to_symbol), lp.r32:lp.k.subs(g.master_function_to_symbol), \n",
    "           lp.r33:lp.p.subs(g.master_function_to_symbol)}"
   ]
  },
  {
   "cell_type": "code",
   "execution_count": 16,
   "metadata": {},
   "outputs": [
    {
     "data": {
      "image/png": "[encoded data removed]",
      "text/latex": [
       "$$\\left \\{ a : - 2 d x - 2 g y - 2 l u, \\quad b : - 2 e x - 2 h y - 2 o u, \\quad c : - 2 f x - 2 k y - 2 p u, \\quad r_{11} : d, \\quad r_{12} : g, \\quad r_{13} : l, \\quad r_{21} : e, \\quad r_{22} : h, \\quad r_{23} : o, \\quad r_{31} : f, \\quad r_{32} : k, \\quad r_{33} : p\\right \\}$$"
      ],
      "text/plain": [
       "{a: -2⋅d⋅x - 2⋅g⋅y - 2⋅l⋅u, b: -2⋅e⋅x - 2⋅h⋅y - 2⋅o⋅u, c: -2⋅f⋅x - 2⋅k⋅y - 2⋅p\n",
       "⋅u, r₁₁: d, r₁₂: g, r₁₃: l, r₂₁: e, r₂₂: h, r₂₃: o, r₃₁: f, r₃₂: k, r₃₃: p}"
      ]
     },
     "execution_count": 16,
     "metadata": {},
     "output_type": "execute_result"
    }
   ],
   "source": [
    "g.frame"
   ]
  },
  {
   "cell_type": "code",
   "execution_count": 18,
   "metadata": {},
   "outputs": [
    {
     "data": {
      "image/png": "[encoded data removed]",
      "text/latex": [
       "$$\\left \\{ R_{1} : -1, \\quad R_{2} : - I^{y}_{1}, \\quad R_{3} : - I^{u}_{1}\\right \\}$$"
      ],
      "text/plain": [
       "{R₁: -1, R₂: -I_1__y, R₃: -I_1__u}"
      ]
     },
     "execution_count": 18,
     "metadata": {},
     "output_type": "execute_result"
    }
   ],
   "source": [
    "g.mc_invariants"
   ]
  },
  {
   "cell_type": "code",
   "execution_count": 19,
   "metadata": {},
   "outputs": [
    {
     "data": {
      "image/png": "[encoded data removed]",
      "text/latex": [
       "$$\\left [ R_{1}, \\quad R_{2}, \\quad R_{3}, \\quad R_{4}, \\quad R_{5}, \\quad R_{6}, \\quad R_{7}, \\quad R_{8}, \\quad R_{9}, \\quad R_{10}, \\quad R_{11}, \\quad R_{12}\\right ]$$"
      ],
      "text/plain": [
       "[R₁, R₂, R₃, R₄, R₅, R₆, R₇, R₈, R₉, R₁₀, R₁₁, R₁₂]"
      ]
     },
     "execution_count": 19,
     "metadata": {},
     "output_type": "execute_result"
    }
   ],
   "source": [
    "g.Ri"
   ]
  },
  {
   "cell_type": "code",
   "execution_count": null,
   "metadata": {
    "collapsed": true
   },
   "outputs": [],
   "source": []
  }
 ],
 "metadata": {
  "kernelspec": {
   "display_name": "Python 2.7",
   "language": "python",
   "name": "python2"
  },
  "language_info": {
   "codemirror_mode": {
    "name": "ipython",
    "version": 2
   },
   "file_extension": ".py",
   "mimetype": "text/x-python",
   "name": "python",
   "nbconvert_exporter": "python",
   "pygments_lexer": "ipython2",
   "version": "2.7.15"
  }
 },
 "nbformat": 4,
 "nbformat_minor": 2
}

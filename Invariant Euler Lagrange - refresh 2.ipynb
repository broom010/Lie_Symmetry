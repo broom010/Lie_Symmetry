{
 "cells": [
  {
   "cell_type": "code",
   "execution_count": 3,
   "metadata": {
    "collapsed": true
   },
   "outputs": [],
   "source": [
    "from sympy import *\n",
    "from itertools import *\n",
    "import LieSympy as lp\n",
    "import numpy as np\n",
    "import copy as copy\n",
    "import time\n",
    "init_printing()"
   ]
  },
  {
   "cell_type": "code",
   "execution_count": 13,
   "metadata": {
    "collapsed": true
   },
   "outputs": [],
   "source": [
    "g = lp.groupAction([['x'],['u','P']],['a','b','psi'],3)"
   ]
  },
  {
   "cell_type": "code",
   "execution_count": 14,
   "metadata": {
    "collapsed": true
   },
   "outputs": [],
   "source": [
    "# Define the expressions in terms of variables in the lp module\n",
    "X_expr = cos(lp.psi)*lp.x-sin(lp.psi)*lp.u+lp.a\n",
    "U_expr =  sin(lp.psi)*lp.x+cos(lp.psi)*lp.u+lp.b\n",
    "P_expr = lp.P+lp.psi\n",
    "\n",
    "# Define the group transformation, identity, and cross-section\n",
    "T = [X_expr, U_expr, P_expr]\n",
    "grp_id = [0,0,0]\n",
    "K = [[0,0,0],[lp.x,lp.u,lp.P]]\n",
    "\n",
    "# Instantiate the group action object\n",
    "g.Def_transformation(T,grp_id,K)"
   ]
  },
  {
   "cell_type": "code",
   "execution_count": 23,
   "metadata": {
    "collapsed": true
   },
   "outputs": [],
   "source": [
    "k = g.transformed_subs_backward[lp.ux].xreplace(g.frame)"
   ]
  },
  {
   "cell_type": "code",
   "execution_count": 31,
   "metadata": {
    "collapsed": true
   },
   "outputs": [],
   "source": [
    "w = (cos(lp.P)+lp.ux*sin(lp.P))"
   ]
  },
  {
   "cell_type": "code",
   "execution_count": 33,
   "metadata": {
    "collapsed": true
   },
   "outputs": [],
   "source": [
    "L = simplify((w*k**2).xreplace(g.master_function_to_symbol))"
   ]
  },
  {
   "cell_type": "code",
   "execution_count": 65,
   "metadata": {},
   "outputs": [
    {
     "data": {
      "image/png": "[encoded data removed]",
      "text/latex": [
       "$$\\frac{\\left(u_{x} \\cos{\\left (P \\right )} - \\sin{\\left (P \\right )}\\right)^{2}}{u_{x} \\sin{\\left (P \\right )} + \\cos{\\left (P \\right )}}$$"
      ],
      "text/plain": [
       "                    2\n",
       "(uₓ⋅cos(P) - sin(P)) \n",
       "─────────────────────\n",
       "  uₓ⋅sin(P) + cos(P) "
      ]
     },
     "execution_count": 65,
     "metadata": {},
     "output_type": "execute_result"
    }
   ],
   "source": [
    "L"
   ]
  },
  {
   "cell_type": "code",
   "execution_count": 58,
   "metadata": {},
   "outputs": [
    {
     "data": {
      "image/png": "[encoded data removed]",
      "text/latex": [
       "$$\\frac{\\left(- \\sin{\\left (P{\\left (x \\right )} \\right )} + \\cos{\\left (P{\\left (x \\right )} \\right )} \\frac{d}{d x} u{\\left (x \\right )}\\right) \\left(\\sin{\\left (2 P{\\left (x \\right )} \\right )} \\frac{d}{d x} u{\\left (x \\right )} + \\cos{\\left (2 P{\\left (x \\right )} \\right )} + 3\\right)}{2 \\left(\\sin{\\left (P{\\left (x \\right )} \\right )} \\frac{d}{d x} u{\\left (x \\right )} + \\cos{\\left (P{\\left (x \\right )} \\right )}\\right)^{2}}$$"
      ],
      "text/plain": [
       "⎛                       d       ⎞ ⎛            d                         ⎞\n",
       "⎜-sin(P(x)) + cos(P(x))⋅──(u(x))⎟⋅⎜sin(2⋅P(x))⋅──(u(x)) + cos(2⋅P(x)) + 3⎟\n",
       "⎝                       dx      ⎠ ⎝            dx                        ⎠\n",
       "──────────────────────────────────────────────────────────────────────────\n",
       "                                                     2                    \n",
       "                     ⎛          d                   ⎞                     \n",
       "                   2⋅⎜sin(P(x))⋅──(u(x)) + cos(P(x))⎟                     \n",
       "                     ⎝          dx                  ⎠                     "
      ]
     },
     "execution_count": 58,
     "metadata": {},
     "output_type": "execute_result"
    }
   ],
   "source": [
    "simplify(diff(L,ux)).subs(g.master_symbol_to_function)"
   ]
  },
  {
   "cell_type": "code",
   "execution_count": 60,
   "metadata": {},
   "outputs": [
    {
     "data": {
      "image/png": "[encoded data removed]",
      "text/latex": [
       "$$- \\frac{\\left(2 \\left(\\sin{\\left (P{\\left (x \\right )} \\right )} \\frac{d}{d x} u{\\left (x \\right )} + \\cos{\\left (P{\\left (x \\right )} \\right )}\\right)^{2} + \\left(- \\sin{\\left (P{\\left (x \\right )} \\right )} + \\cos{\\left (P{\\left (x \\right )} \\right )} \\frac{d}{d x} u{\\left (x \\right )}\\right)^{2}\\right) \\left(- \\sin{\\left (P{\\left (x \\right )} \\right )} + \\cos{\\left (P{\\left (x \\right )} \\right )} \\frac{d}{d x} u{\\left (x \\right )}\\right)}{\\left(\\sin{\\left (P{\\left (x \\right )} \\right )} \\frac{d}{d x} u{\\left (x \\right )} + \\cos{\\left (P{\\left (x \\right )} \\right )}\\right)^{2}}$$"
      ],
      "text/plain": [
       " ⎛                                  2                                    2⎞   \n",
       " ⎜  ⎛          d                   ⎞    ⎛                       d       ⎞ ⎟ ⎛ \n",
       "-⎜2⋅⎜sin(P(x))⋅──(u(x)) + cos(P(x))⎟  + ⎜-sin(P(x)) + cos(P(x))⋅──(u(x))⎟ ⎟⋅⎜-\n",
       " ⎝  ⎝          dx                  ⎠    ⎝                       dx      ⎠ ⎠ ⎝ \n",
       "──────────────────────────────────────────────────────────────────────────────\n",
       "                                                                      2       \n",
       "                                      ⎛          d                   ⎞        \n",
       "                                      ⎜sin(P(x))⋅──(u(x)) + cos(P(x))⎟        \n",
       "                                      ⎝          dx                  ⎠        \n",
       "\n",
       "                                \n",
       "                      d       ⎞ \n",
       "sin(P(x)) + cos(P(x))⋅──(u(x))⎟ \n",
       "                      dx      ⎠ \n",
       "────────────────────────────────\n",
       "                                \n",
       "                                \n",
       "                                \n",
       "                                "
      ]
     },
     "execution_count": 60,
     "metadata": {},
     "output_type": "execute_result"
    }
   ],
   "source": [
    "simplify(diff(L,P)).subs(g.master_symbol_to_function)"
   ]
  },
  {
   "cell_type": "code",
   "execution_count": 46,
   "metadata": {
    "collapsed": true
   },
   "outputs": [],
   "source": [
    "u = symbols('u')\n",
    "ux = symbols('u_x')\n",
    "P = symbols('P')\n",
    "Px = symbols('P_x')"
   ]
  },
  {
   "cell_type": "code",
   "execution_count": 67,
   "metadata": {},
   "outputs": [
    {
     "name": "stdout",
     "output_type": "stream",
     "text": [
      "\\frac{\\left(u_{x} \\cos{\\left (P \\right )} - \\sin{\\left (P \\right )}\\right) \\left(2 P_{x} u_{x} \\cos{\\left (2 P \\right )} - 2 P_{x} \\sin{\\left (2 P \\right )} + u_{xx} \\sin{\\left (2 P \\right )}\\right)}{2 \\left(u_{x} \\sin{\\left (P \\right )} + \\cos{\\left (P \\right )}\\right)^{2}} + \\frac{\\left(u_{x} \\sin{\\left (2 P \\right )} + \\cos{\\left (2 P \\right )} + 3\\right) \\left(- P_{x} u_{x} \\sin{\\left (P \\right )} - P_{x} \\cos{\\left (P \\right )} + u_{xx} \\cos{\\left (P \\right )}\\right)}{2 \\left(u_{x} \\sin{\\left (P \\right )} + \\cos{\\left (P \\right )}\\right)^{2}} + \\frac{\\left(u_{x} \\cos{\\left (P \\right )} - \\sin{\\left (P \\right )}\\right) \\left(u_{x} \\sin{\\left (2 P \\right )} + \\cos{\\left (2 P \\right )} + 3\\right) \\left(- 2 P_{x} u_{x} \\cos{\\left (P \\right )} + 2 P_{x} \\sin{\\left (P \\right )} - 2 u_{xx} \\sin{\\left (P \\right )}\\right)}{2 \\left(u_{x} \\sin{\\left (P \\right )} + \\cos{\\left (P \\right )}\\right)^{3}}\n"
     ]
    }
   ],
   "source": [
    "print(latex(diff(simplify(diff(L,ux)).subs(g.master_symbol_to_function),lp.x).xreplace(g.master_function_to_symbol)))"
   ]
  },
  {
   "cell_type": "code",
   "execution_count": 69,
   "metadata": {},
   "outputs": [
    {
     "data": {
      "image/png": "[encoded data removed]",
      "text/latex": [
       "$$- \\frac{\\left(u_{x} \\cos{\\left (P \\right )} - \\sin{\\left (P \\right )}\\right) \\left(2 \\left(u_{x} \\sin{\\left (P \\right )} + \\cos{\\left (P \\right )}\\right)^{2} + \\left(u_{x} \\cos{\\left (P \\right )} - \\sin{\\left (P \\right )}\\right)^{2}\\right)}{\\left(u_{x} \\sin{\\left (P \\right )} + \\cos{\\left (P \\right )}\\right)^{2}}$$"
      ],
      "text/plain": [
       "                      ⎛                      2                       2⎞ \n",
       "-(uₓ⋅cos(P) - sin(P))⋅⎝2⋅(uₓ⋅sin(P) + cos(P))  + (uₓ⋅cos(P) - sin(P)) ⎠ \n",
       "────────────────────────────────────────────────────────────────────────\n",
       "                                             2                          \n",
       "                         (uₓ⋅sin(P) + cos(P))                           "
      ]
     },
     "execution_count": 69,
     "metadata": {},
     "output_type": "execute_result"
    }
   ],
   "source": [
    "simplify(diff(L,P)).subs(g.master_symbol_to_function).xreplace(g.master_function_to_symbol)"
   ]
  },
  {
   "cell_type": "code",
   "execution_count": 55,
   "metadata": {
    "collapsed": true
   },
   "outputs": [],
   "source": [
    "I_2 = g.transformed_subs_backward[lp.uxx].xreplace(g.frame)\n",
    "I_1 = g.transformed_subs_backward[lp.ux].xreplace(g.frame)\n",
    "J_1 = g.transformed_subs_backward[lp.Px].xreplace(g.frame)"
   ]
  },
  {
   "cell_type": "code",
   "execution_count": 66,
   "metadata": {},
   "outputs": [
    {
     "data": {
      "image/png": "[encoded data removed]",
      "text/latex": [
       "$$- \\frac{P_{x}}{u_{x} \\sin{\\left (P \\right )} + \\cos{\\left (P \\right )}} + \\frac{u_{xx}}{\\left(u_{x} \\sin{\\left (P \\right )} + \\cos{\\left (P \\right )}\\right)^{3}}$$"
      ],
      "text/plain": [
       "          Pₓ                    uₓₓ         \n",
       "- ────────────────── + ─────────────────────\n",
       "  uₓ⋅sin(P) + cos(P)                       3\n",
       "                       (uₓ⋅sin(P) + cos(P)) "
      ]
     },
     "execution_count": 66,
     "metadata": {},
     "output_type": "execute_result"
    }
   ],
   "source": [
    "simplify(I_2 - J_1)"
   ]
  },
  {
   "cell_type": "markdown",
   "metadata": {},
   "source": [
    "### Testing Area"
   ]
  },
  {
   "cell_type": "code",
   "execution_count": 15,
   "metadata": {},
   "outputs": [
    {
     "ename": "TypeError",
     "evalue": "'int' object has no attribute '__getitem__'",
     "output_type": "error",
     "traceback": [
      "\u001b[1;31m---------------------------------------------------------------------------\u001b[0m",
      "\u001b[1;31mTypeError\u001b[0m                                 Traceback (most recent call last)",
      "\u001b[1;32m<ipython-input-15-fc5effd78af8>\u001b[0m in \u001b[0;36m<module>\u001b[1;34m()\u001b[0m\n\u001b[1;32m----> 1\u001b[1;33m \u001b[0mg\u001b[0m\u001b[1;33m.\u001b[0m\u001b[0minv_Euler\u001b[0m\u001b[1;33m(\u001b[0m\u001b[1;33m)\u001b[0m\u001b[1;33m\u001b[0m\u001b[0m\n\u001b[0m",
      "\u001b[1;32mC:\\Users\\jimmy\\Documents\\GitHub\\Lie_Symmetry\\LieSympy.pyc\u001b[0m in \u001b[0;36minv_Euler\u001b[1;34m(self)\u001b[0m\n\u001b[0;32m    425\u001b[0m             \u001b[0mtemp\u001b[0m \u001b[1;33m=\u001b[0m \u001b[1;33m[\u001b[0m\u001b[1;33m]\u001b[0m\u001b[1;33m\u001b[0m\u001b[0m\n\u001b[0;32m    426\u001b[0m             \u001b[1;32mfor\u001b[0m \u001b[0mj\u001b[0m \u001b[1;32min\u001b[0m \u001b[0mrange\u001b[0m\u001b[1;33m(\u001b[0m\u001b[0mlen\u001b[0m\u001b[1;33m(\u001b[0m\u001b[0mself\u001b[0m\u001b[1;33m.\u001b[0m\u001b[0mA\u001b[0m\u001b[1;33m[\u001b[0m\u001b[1;36m1\u001b[0m\u001b[1;33m]\u001b[0m\u001b[1;33m)\u001b[0m\u001b[1;33m)\u001b[0m\u001b[1;33m:\u001b[0m\u001b[1;33m\u001b[0m\u001b[0m\n\u001b[1;32m--> 427\u001b[1;33m                 \u001b[0mtemp\u001b[0m\u001b[1;33m.\u001b[0m\u001b[0mappend\u001b[0m\u001b[1;33m(\u001b[0m\u001b[0mself\u001b[0m\u001b[1;33m.\u001b[0m\u001b[0minv_vert_diff\u001b[0m\u001b[1;33m(\u001b[0m\u001b[0mi\u001b[0m\u001b[1;33m,\u001b[0m\u001b[1;36m1\u001b[0m\u001b[1;33m)\u001b[0m\u001b[1;33m.\u001b[0m\u001b[0msubs\u001b[0m\u001b[1;33m(\u001b[0m\u001b[0mself\u001b[0m\u001b[1;33m.\u001b[0m\u001b[0mcontact_reduction\u001b[0m\u001b[1;33m)\u001b[0m\u001b[1;33m.\u001b[0m\u001b[0msubs\u001b[0m\u001b[1;33m(\u001b[0m\u001b[1;33m{\u001b[0m\u001b[0mself\u001b[0m\u001b[1;33m.\u001b[0m\u001b[0mcontact_symbol\u001b[0m\u001b[1;33m[\u001b[0m\u001b[0mj\u001b[0m\u001b[1;33m+\u001b[0m\u001b[1;36m1\u001b[0m\u001b[1;33m]\u001b[0m\u001b[1;33m:\u001b[0m\u001b[1;36m1\u001b[0m\u001b[1;33m}\u001b[0m\u001b[1;33m)\u001b[0m\u001b[1;33m.\u001b[0m\u001b[0msubs\u001b[0m\u001b[1;33m(\u001b[0m\u001b[0mself\u001b[0m\u001b[1;33m.\u001b[0m\u001b[0mcontact_zeros\u001b[0m\u001b[1;33m)\u001b[0m\u001b[1;33m.\u001b[0m\u001b[0msubs\u001b[0m\u001b[1;33m(\u001b[0m\u001b[1;33m{\u001b[0m\u001b[0mDx\u001b[0m\u001b[1;33m:\u001b[0m\u001b[1;33m-\u001b[0m\u001b[0mDx\u001b[0m\u001b[1;33m}\u001b[0m\u001b[1;33m)\u001b[0m\u001b[1;33m)\u001b[0m\u001b[1;33m\u001b[0m\u001b[0m\n\u001b[0m\u001b[0;32m    428\u001b[0m             \u001b[0mC\u001b[0m\u001b[1;33m.\u001b[0m\u001b[0mappend\u001b[0m\u001b[1;33m(\u001b[0m\u001b[0mtemp\u001b[0m\u001b[1;33m)\u001b[0m\u001b[1;33m\u001b[0m\u001b[0m\n\u001b[0;32m    429\u001b[0m         \u001b[1;32mreturn\u001b[0m \u001b[0mMatrix\u001b[0m\u001b[1;33m(\u001b[0m\u001b[0mC\u001b[0m\u001b[1;33m)\u001b[0m\u001b[1;33m.\u001b[0m\u001b[0mT\u001b[0m\u001b[1;33m\u001b[0m\u001b[0m\n",
      "\u001b[1;32mC:\\Users\\jimmy\\Documents\\GitHub\\Lie_Symmetry\\LieSympy.pyc\u001b[0m in \u001b[0;36minv_vert_diff\u001b[1;34m(self, var_index, i)\u001b[0m\n\u001b[0;32m    417\u001b[0m     \u001b[1;32mdef\u001b[0m \u001b[0minv_vert_diff\u001b[0m\u001b[1;33m(\u001b[0m\u001b[0mself\u001b[0m\u001b[1;33m,\u001b[0m\u001b[0mvar_index\u001b[0m\u001b[1;33m,\u001b[0m\u001b[0mi\u001b[0m\u001b[1;33m)\u001b[0m\u001b[1;33m:\u001b[0m\u001b[1;33m\u001b[0m\u001b[0m\n\u001b[0;32m    418\u001b[0m         \u001b[0mexpr\u001b[0m \u001b[1;33m=\u001b[0m \u001b[0mself\u001b[0m\u001b[1;33m.\u001b[0m\u001b[0mcontact_symbol\u001b[0m\u001b[1;33m[\u001b[0m\u001b[0mvar_index\u001b[0m\u001b[1;33m+\u001b[0m\u001b[1;36m2\u001b[0m\u001b[1;33m*\u001b[0m\u001b[0mi\u001b[0m\u001b[1;33m+\u001b[0m\u001b[1;36m1\u001b[0m\u001b[1;33m]\u001b[0m\u001b[1;33m\u001b[0m\u001b[0m\n\u001b[1;32m--> 419\u001b[1;33m         \u001b[0mC\u001b[0m \u001b[1;33m=\u001b[0m \u001b[1;33m[\u001b[0m\u001b[1;33m(\u001b[0m\u001b[0mself\u001b[0m\u001b[1;33m.\u001b[0m\u001b[0mrec_forms\u001b[0m\u001b[1;33m[\u001b[0m\u001b[0mself\u001b[0m\u001b[1;33m.\u001b[0m\u001b[0mep\u001b[0m\u001b[1;33m[\u001b[0m\u001b[0mj\u001b[0m\u001b[1;33m]\u001b[0m\u001b[1;33m]\u001b[0m\u001b[1;33m)\u001b[0m\u001b[1;33m*\u001b[0m\u001b[1;33m(\u001b[0m\u001b[0mself\u001b[0m\u001b[1;33m.\u001b[0m\u001b[0mProlong\u001b[0m\u001b[1;33m(\u001b[0m\u001b[0mself\u001b[0m\u001b[1;33m.\u001b[0m\u001b[0mvectors\u001b[0m\u001b[1;33m[\u001b[0m\u001b[0mj\u001b[0m\u001b[1;33m]\u001b[0m\u001b[1;33m,\u001b[0m\u001b[0mi\u001b[0m\u001b[1;33m)\u001b[0m\u001b[1;33m[\u001b[0m\u001b[1;36m1\u001b[0m\u001b[1;33m+\u001b[0m\u001b[0mvar_index\u001b[0m\u001b[1;33m+\u001b[0m\u001b[1;36m2\u001b[0m\u001b[1;33m*\u001b[0m\u001b[0mi\u001b[0m\u001b[1;33m]\u001b[0m\u001b[1;33m)\u001b[0m\u001b[1;33m.\u001b[0m\u001b[0mxreplace\u001b[0m\u001b[1;33m(\u001b[0m\u001b[0mself\u001b[0m\u001b[1;33m.\u001b[0m\u001b[0mmaster_function_to_symbol\u001b[0m\u001b[1;33m)\u001b[0m\u001b[1;33m.\u001b[0m\u001b[0mxreplace\u001b[0m\u001b[1;33m(\u001b[0m\u001b[0mself\u001b[0m\u001b[1;33m.\u001b[0m\u001b[0mnormals_substitution\u001b[0m\u001b[1;33m)\u001b[0m\u001b[1;33m.\u001b[0m\u001b[0mxreplace\u001b[0m\u001b[1;33m(\u001b[0m\u001b[0mself\u001b[0m\u001b[1;33m.\u001b[0m\u001b[0mcurvature_subs\u001b[0m\u001b[1;33m)\u001b[0m \u001b[1;32mfor\u001b[0m \u001b[0mj\u001b[0m \u001b[1;32min\u001b[0m \u001b[0mrange\u001b[0m\u001b[1;33m(\u001b[0m\u001b[0mself\u001b[0m\u001b[1;33m.\u001b[0m\u001b[0mr\u001b[0m\u001b[1;33m)\u001b[0m\u001b[1;33m]\u001b[0m\u001b[1;33m\u001b[0m\u001b[0m\n\u001b[0m\u001b[0;32m    420\u001b[0m         \u001b[1;32mreturn\u001b[0m \u001b[0mexpr\u001b[0m \u001b[1;33m+\u001b[0m \u001b[0msum\u001b[0m\u001b[1;33m(\u001b[0m\u001b[0mC\u001b[0m\u001b[1;33m)\u001b[0m\u001b[1;33m\u001b[0m\u001b[0m\n\u001b[0;32m    421\u001b[0m \u001b[1;33m\u001b[0m\u001b[0m\n",
      "\u001b[1;31mTypeError\u001b[0m: 'int' object has no attribute '__getitem__'"
     ]
    }
   ],
   "source": [
    "g.inv_Euler()"
   ]
  },
  {
   "cell_type": "code",
   "execution_count": 16,
   "metadata": {},
   "outputs": [
    {
     "ename": "TypeError",
     "evalue": "'int' object has no attribute '__getitem__'",
     "output_type": "error",
     "traceback": [
      "\u001b[1;31m---------------------------------------------------------------------------\u001b[0m",
      "\u001b[1;31mTypeError\u001b[0m                                 Traceback (most recent call last)",
      "\u001b[1;32m<ipython-input-16-cd7e02ac48fc>\u001b[0m in \u001b[0;36m<module>\u001b[1;34m()\u001b[0m\n\u001b[1;32m----> 1\u001b[1;33m \u001b[0mg\u001b[0m\u001b[1;33m.\u001b[0m\u001b[0minvariant_Hamilton\u001b[0m\u001b[1;33m(\u001b[0m\u001b[1;33m)\u001b[0m\u001b[1;33m\u001b[0m\u001b[0m\n\u001b[0m",
      "\u001b[1;32mC:\\Users\\jimmy\\Documents\\GitHub\\Lie_Symmetry\\LieSympy.pyc\u001b[0m in \u001b[0;36minvariant_Hamilton\u001b[1;34m(self)\u001b[0m\n\u001b[0;32m    434\u001b[0m         \u001b[0mexpr\u001b[0m \u001b[1;33m=\u001b[0m \u001b[1;36m0\u001b[0m\u001b[1;33m*\u001b[0m\u001b[0mx\u001b[0m\u001b[1;33m\u001b[0m\u001b[0m\n\u001b[0;32m    435\u001b[0m         \u001b[1;32mfor\u001b[0m \u001b[0mi\u001b[0m \u001b[1;32min\u001b[0m \u001b[0mrange\u001b[0m\u001b[1;33m(\u001b[0m\u001b[0mself\u001b[0m\u001b[1;33m.\u001b[0m\u001b[0mr\u001b[0m\u001b[1;33m)\u001b[0m\u001b[1;33m:\u001b[0m\u001b[1;33m\u001b[0m\u001b[0m\n\u001b[1;32m--> 436\u001b[1;33m             \u001b[0mexpr\u001b[0m \u001b[1;33m=\u001b[0m \u001b[0mexpr\u001b[0m \u001b[1;33m+\u001b[0m \u001b[0mself\u001b[0m\u001b[1;33m.\u001b[0m\u001b[0mtotal_diff\u001b[0m\u001b[1;33m(\u001b[0m\u001b[0mself\u001b[0m\u001b[1;33m.\u001b[0m\u001b[0mvectors\u001b[0m\u001b[1;33m[\u001b[0m\u001b[0mi\u001b[0m\u001b[1;33m]\u001b[0m\u001b[1;33m[\u001b[0m\u001b[1;36m0\u001b[0m\u001b[1;33m]\u001b[0m\u001b[1;33m)\u001b[0m\u001b[1;33m*\u001b[0m\u001b[0mself\u001b[0m\u001b[1;33m.\u001b[0m\u001b[0mrec_forms\u001b[0m\u001b[1;33m[\u001b[0m\u001b[0mself\u001b[0m\u001b[1;33m.\u001b[0m\u001b[0mep\u001b[0m\u001b[1;33m[\u001b[0m\u001b[0mi\u001b[0m\u001b[1;33m]\u001b[0m\u001b[1;33m]\u001b[0m\u001b[1;33m\u001b[0m\u001b[0m\n\u001b[0m\u001b[0;32m    437\u001b[0m             \u001b[0mC\u001b[0m \u001b[1;33m=\u001b[0m \u001b[1;36m0\u001b[0m\u001b[1;33m*\u001b[0m\u001b[0mx\u001b[0m\u001b[1;33m\u001b[0m\u001b[0m\n\u001b[0;32m    438\u001b[0m             \u001b[1;32mfor\u001b[0m \u001b[0mj\u001b[0m \u001b[1;32min\u001b[0m \u001b[0mrange\u001b[0m\u001b[1;33m(\u001b[0m\u001b[0mlen\u001b[0m\u001b[1;33m(\u001b[0m\u001b[0mself\u001b[0m\u001b[1;33m.\u001b[0m\u001b[0mA\u001b[0m\u001b[1;33m[\u001b[0m\u001b[1;36m1\u001b[0m\u001b[1;33m]\u001b[0m\u001b[1;33m)\u001b[0m\u001b[1;33m)\u001b[0m\u001b[1;33m:\u001b[0m\u001b[1;33m\u001b[0m\u001b[0m\n",
      "\u001b[1;31mTypeError\u001b[0m: 'int' object has no attribute '__getitem__'"
     ]
    }
   ],
   "source": [
    "g.invariant_Hamilton()"
   ]
  },
  {
   "cell_type": "markdown",
   "metadata": {},
   "source": [
    "### Testing the 3D case"
   ]
  },
  {
   "cell_type": "code",
   "execution_count": 2,
   "metadata": {
    "collapsed": true
   },
   "outputs": [],
   "source": [
    "x = symbols('x')\n",
    "\n",
    "g = lp.groupAction([['x'],['y','u','m','n','o','p','q','r','s','t','v']],\n",
    "                   ['a','b','c','d','e','f','g','h','i','j','k','l'],3)\n",
    "\n",
    "# Define the expressions in terms of variables in the lp module\n",
    "X_expr = lp.d*lp.x + lp.e*lp.y + lp.f*lp.u + lp.a\n",
    "Y_expr = lp.g*lp.x + lp.h*lp.y + lp.i*lp.u + lp.b\n",
    "U_expr = lp.j*lp.x + lp.k*lp.y + lp.l*lp.u + lp.c\n",
    "\n",
    "expr_11 = lp.m*lp.a+lp.p*lp.b+lp.s*lp.c\n",
    "expr_12 = lp.n*lp.a+lp.q*lp.b+lp.t*lp.c\n",
    "expr_13 = lp.o*lp.a+lp.r*lp.b+lp.v*lp.c\n",
    "expr_21 = lp.m*lp.d+lp.p*lp.e+lp.s*lp.f\n",
    "expr_22 = lp.n*lp.d+lp.q*lp.e+lp.t*lp.f\n",
    "expr_23 = lp.o*lp.d+lp.r*lp.e+lp.v*lp.f\n",
    "expr_31 = lp.m*lp.g+lp.p*lp.h+lp.s*lp.i\n",
    "expr_32 = lp.n*lp.g+lp.q*lp.h+lp.t*lp.i\n",
    "expr_33 = lp.o*lp.g+lp.r*lp.h+lp.v*lp.i\n",
    "\n",
    "T = [X_expr, Y_expr, U_expr, expr_11, expr_12, expr_13, expr_21, expr_22, expr_23, expr_31, expr_32, expr_33]\n",
    "grp_id = [0,0,0,1,0,0,0,1,0,0,0,1]\n",
    "K = [[0,0,0,1,0,0,0,1,0,0,0,1],[lp.x,lp.y,lp.u]]\n",
    "# Instantiate the group action object\n",
    "g.Def_transformation(T,grp_id,K)"
   ]
  },
  {
   "cell_type": "code",
   "execution_count": 3,
   "metadata": {
    "collapsed": true
   },
   "outputs": [],
   "source": [
    "g.vectors = [[1+0*x,0*x,0*x,0*x,0*x,0*x,0*x,0*x,0*x,0*x,0*x,0*x],\n",
    "             [0*x,1+0*x,0*x,0*x,0*x,0*x,0*x,0*x,0*x,0*x,0*x,0*x],\n",
    "             [0*x,0*x,1+0*x,0*x,0*x,0*x,0*x,0*x,0*x,0*x,0*x,0*x],\n",
    "             [lp.y,-lp.x,0*x,-lp.p,-lp.q,-lp.r,lp.m,lp.n,lp.o,0*x,0*x,0*x],\n",
    "             [lp.u,0*x,-lp.x,-lp.s,-lp.t,-lp.v,0*x,0*x,0*x,lp.m,lp.n,lp.o],\n",
    "             [0*x,lp.u,-lp.y,0*x,0*x,0*x,-lp.s,-lp.t,-lp.v,lp.p,lp.q,lp.r]]"
   ]
  },
  {
   "cell_type": "code",
   "execution_count": 30,
   "metadata": {
    "collapsed": true
   },
   "outputs": [],
   "source": [
    "# Define the expressions in terms of variables in the lp module\n",
    "X_expr = lp.d*lp.x + lp.e*lp.y + lp.f*lp.u + lp.a\n",
    "Y_expr = lp.g*lp.x + lp.h*lp.y + lp.i*lp.u + lp.b\n",
    "U_expr = lp.j*lp.x + lp.k*lp.y + lp.l*lp.u + lp.c\n",
    "\n",
    "expr_11 = lp.F11*lp.a+lp.F21*lp.b+lp.F31*lp.c\n",
    "expr_12 = lp.F12*lp.a+lp.F22*lp.b+lp.F32*lp.c\n",
    "expr_13 = lp.F13*lp.a+lp.F23*lp.b+lp.F33*lp.c\n",
    "expr_21 = lp.F11*lp.d+lp.F21*lp.e+lp.F31*lp.f\n",
    "expr_22 = lp.F12*lp.d+lp.F22*lp.e+lp.F32*lp.f\n",
    "expr_23 = lp.F13*lp.d+lp.F23*lp.e+lp.F33*lp.f\n",
    "expr_31 = lp.F11*lp.g+lp.F21*lp.h+lp.F31*lp.i\n",
    "expr_32 = lp.F12*lp.g+lp.F22*lp.h+lp.F32*lp.i\n",
    "expr_33 = lp.F13*lp.g+lp.F23*lp.h+lp.F33*lp.i"
   ]
  },
  {
   "cell_type": "code",
   "execution_count": 25,
   "metadata": {
    "collapsed": true
   },
   "outputs": [],
   "source": [
    "# Define the group transformation, identity, and cross-section\n",
    "T = [X_expr, Y_expr, U_expr, expr_11, expr_12, expr_13, expr_21, expr_22, expr_23, expr_31, expr_32, expr_33]\n",
    "grp_id = [0,0,0,1,0,0,0,1,0,0,0,1]\n",
    "K = [[0,0,0,1,0,0,0,1,0,0,0,1],[lp.x,lp.y,lp.u]]\n",
    "t0 = time.time()\n",
    "# Instantiate the group action object\n",
    "g.Def_transformation(T,grp_id,K)\n",
    "t1 = time.time()"
   ]
  },
  {
   "cell_type": "code",
   "execution_count": 27,
   "metadata": {
    "collapsed": true
   },
   "outputs": [],
   "source": [
    "g.vectors = [[1+0*x,0*x,0*x,0*x,0*x,0*x,0*x,0*x,0*x,0*x,0*x,0*x],\n",
    "             [0*x,1+0*x,0*x,0*x,0*x,0*x,0*x,0*x,0*x,0*x,0*x,0*x],\n",
    "             [0*x,0*x,1+0*x,0*x,0*x,0*x,0*x,0*x,0*x,0*x,0*x,0*x],\n",
    "             [lp.y,-lp.x,0*x,-lp.F21,-lp.F22,-lp.F23,lp.F11,lp.F12,lp.F13,0*x,0*x,0*x],\n",
    "             [lp.u,0*x,-lp.x,-lp.F31,-lp.F32,-lp.F33,0*x,0*x,0*x,lp.F11,lp.F12,lp.F13],\n",
    "             [0*x,lp.u,-lp.y,0*x,0*x,0*x,-lp.F31,-lp.F32,-lp.F33,lp.F21,lp.F22,lp.F23]]"
   ]
  },
  {
   "cell_type": "code",
   "execution_count": 5,
   "metadata": {},
   "outputs": [
    {
     "name": "stdout",
     "output_type": "stream",
     "text": [
      "- o \\vartheta^{y} - \\vartheta^{p}\n",
      "- o \\vartheta^{u} - \\vartheta^{s}\n",
      "0\n"
     ]
    }
   ],
   "source": [
    "for i in range(3):\n",
    "    print(latex(g.Lie_contact_diff(g.vectors[3+i],0,1)))"
   ]
  },
  {
   "cell_type": "markdown",
   "metadata": {},
   "source": [
    "### Prolongation non-class version"
   ]
  },
  {
   "cell_type": "code",
   "execution_count": 4,
   "metadata": {},
   "outputs": [],
   "source": [
    "x=symbols('x')\n",
    "y=symbols('y')\n",
    "u=symbols('u')\n",
    "\n",
    "a = symbols('a')\n",
    "b = symbols('b')\n",
    "c = symbols('c')\n",
    "d = symbols('d')\n",
    "e = symbols('e')\n",
    "f = symbols('f')\n",
    "g = symbols('g')\n",
    "h = symbols('h')\n",
    "i = symbols('i')"
   ]
  },
  {
   "cell_type": "code",
   "execution_count": 5,
   "metadata": {
    "collapsed": true
   },
   "outputs": [],
   "source": [
    "import prolong_Fast as pf"
   ]
  },
  {
   "cell_type": "code",
   "execution_count": 6,
   "metadata": {
    "collapsed": true
   },
   "outputs": [],
   "source": [
    "A = pf.Prolong(['x'],['y','u','a','b','c','d','e','f','g','h','i'],[0,-u,y,0,0,0,-g,-h,-i,d,e,f],1)"
   ]
  },
  {
   "cell_type": "code",
   "execution_count": 7,
   "metadata": {},
   "outputs": [
    {
     "data": {
      "image/png": "[encoded data removed]",
      "text/latex": [
       "$$\\left [ 0, \\quad - u, \\quad y, \\quad 0, \\quad 0, \\quad 0, \\quad - g, \\quad - h, \\quad - i, \\quad d, \\quad e, \\quad f, \\quad - ux, \\quad yx, \\quad 0, \\quad 0, \\quad 0, \\quad - gx, \\quad - hx, \\quad - ix, \\quad dx, \\quad ex, \\quad fx\\right ]$$"
      ],
      "text/plain": [
       "[0, -u, y, 0, 0, 0, -g, -h, -i, d, e, f, -ux, yx, 0, 0, 0, -gx, -hx, -ix, dx, \n",
       "ex, fx]"
      ]
     },
     "execution_count": 7,
     "metadata": {},
     "output_type": "execute_result"
    }
   ],
   "source": [
    "A"
   ]
  },
  {
   "cell_type": "code",
   "execution_count": 19,
   "metadata": {},
   "outputs": [
    {
     "data": {
      "image/png": "[encoded data removed]",
      "text/latex": [
       "$$\\left \\{ P : P, \\quad P_{x} : \\frac{P_{x}}{d + e y_{x} + f u_{x}}, \\quad P_{xx} : \\frac{- P_{x} \\left(e y_{xx} + f u_{xx}\\right) + P_{xx} \\left(d + e y_{x} + f u_{x}\\right)}{\\left(d + e y_{x} + f u_{x}\\right)^{3}}, \\quad P_{xxx} : \\frac{2 P_{x} \\left(e y_{xx} + f u_{xx}\\right)^{2} + P_{xxx} \\left(d + e y_{x} + f u_{x}\\right)^{2} - \\left(- P_{x} \\left(e y_{xx} + f u_{xx}\\right) + P_{xx} \\left(d + e y_{x} + f u_{x}\\right)\\right) \\left(e y_{xx} + f u_{xx}\\right) - \\left(P_{x} \\left(e y_{xxx} + f u_{xxx}\\right) + 2 P_{xx} \\left(e y_{xx} + f u_{xx}\\right)\\right) \\left(d + e y_{x} + f u_{x}\\right)}{\\left(d + e y_{x} + f u_{x}\\right)^{5}}, \\quad u : c + j x + k y + l u, \\quad u_{x} : \\frac{j + k y_{x} + l u_{x}}{d + e y_{x} + f u_{x}}, \\quad u_{xx} : \\frac{- \\left(e y_{xx} + f u_{xx}\\right) \\left(j + k y_{x} + l u_{x}\\right) + \\left(k y_{xx} + l u_{xx}\\right) \\left(d + e y_{x} + f u_{x}\\right)}{\\left(d + e y_{x} + f u_{x}\\right)^{3}}, \\quad u_{xxx} : \\frac{2 \\left(e y_{xx} + f u_{xx}\\right)^{2} \\left(j + k y_{x} + l u_{x}\\right) - \\left(e y_{xx} + f u_{xx}\\right) \\left(- \\left(e y_{xx} + f u_{xx}\\right) \\left(j + k y_{x} + l u_{x}\\right) + \\left(k y_{xx} + l u_{xx}\\right) \\left(d + e y_{x} + f u_{x}\\right)\\right) + \\left(k y_{xxx} + l u_{xxx}\\right) \\left(d + e y_{x} + f u_{x}\\right)^{2} - \\left(2 \\left(e y_{xx} + f u_{xx}\\right) \\left(k y_{xx} + l u_{xx}\\right) + \\left(e y_{xxx} + f u_{xxx}\\right) \\left(j + k y_{x} + l u_{x}\\right)\\right) \\left(d + e y_{x} + f u_{x}\\right)}{\\left(d + e y_{x} + f u_{x}\\right)^{5}}, \\quad x : a + d x + e y + f u, \\quad y : b + g x + h y + i u, \\quad y_{x} : \\frac{g + h y_{x} + i u_{x}}{d + e y_{x} + f u_{x}}, \\quad y_{xx} : \\frac{- \\left(e y_{xx} + f u_{xx}\\right) \\left(g + h y_{x} + i u_{x}\\right) + \\left(h y_{xx} + i u_{xx}\\right) \\left(d + e y_{x} + f u_{x}\\right)}{\\left(d + e y_{x} + f u_{x}\\right)^{3}}, \\quad y_{xxx} : \\frac{2 \\left(e y_{xx} + f u_{xx}\\right)^{2} \\left(g + h y_{x} + i u_{x}\\right) - \\left(e y_{xx} + f u_{xx}\\right) \\left(- \\left(e y_{xx} + f u_{xx}\\right) \\left(g + h y_{x} + i u_{x}\\right) + \\left(h y_{xx} + i u_{xx}\\right) \\left(d + e y_{x} + f u_{x}\\right)\\right) + \\left(h y_{xxx} + i u_{xxx}\\right) \\left(d + e y_{x} + f u_{x}\\right)^{2} - \\left(2 \\left(e y_{xx} + f u_{xx}\\right) \\left(h y_{xx} + i u_{xx}\\right) + \\left(e y_{xxx} + f u_{xxx}\\right) \\left(g + h y_{x} + i u_{x}\\right)\\right) \\left(d + e y_{x} + f u_{x}\\right)}{\\left(d + e y_{x} + f u_{x}\\right)^{5}}\\right \\}$$"
      ],
      "text/plain": [
       "⎧                                                                             \n",
       "⎪                 Pₓ             -Pₓ⋅(e⋅yₓₓ + f⋅uₓₓ) + Pₓₓ⋅(d + e⋅yₓ + f⋅uₓ)  \n",
       "⎨P: P, Pₓ: ───────────────, Pₓₓ: ───────────────────────────────────────────, \n",
       "⎪          d + e⋅yₓ + f⋅uₓ                                     3              \n",
       "⎩                                             (d + e⋅yₓ + f⋅uₓ)               \n",
       "\n",
       "                          2                         2                         \n",
       "      2⋅Pₓ⋅(e⋅yₓₓ + f⋅uₓₓ)  + Pₓₓₓ⋅(d + e⋅yₓ + f⋅uₓ)  - (-Pₓ⋅(e⋅yₓₓ + f⋅uₓₓ) +\n",
       "Pₓₓₓ: ────────────────────────────────────────────────────────────────────────\n",
       "                                                                              \n",
       "                                                                              \n",
       "\n",
       "                                                                              \n",
       " Pₓₓ⋅(d + e⋅yₓ + f⋅uₓ))⋅(e⋅yₓₓ + f⋅uₓₓ) - (Pₓ⋅(e⋅yₓₓₓ + f⋅uₓₓₓ) + 2⋅Pₓₓ⋅(e⋅yₓₓ\n",
       "──────────────────────────────────────────────────────────────────────────────\n",
       "                         5                                                    \n",
       "        (d + e⋅yₓ + f⋅uₓ)                                                     \n",
       "\n",
       "                                                                              \n",
       " + f⋅uₓₓ))⋅(d + e⋅yₓ + f⋅uₓ)                              j + k⋅yₓ + l⋅uₓ     \n",
       "────────────────────────────, u: c + j⋅x + k⋅y + l⋅u, uₓ: ───────────────, uₓₓ\n",
       "                                                          d + e⋅yₓ + f⋅uₓ     \n",
       "                                                                              \n",
       "\n",
       "                                                                              \n",
       "  -(e⋅yₓₓ + f⋅uₓₓ)⋅(j + k⋅yₓ + l⋅uₓ) + (k⋅yₓₓ + l⋅uₓₓ)⋅(d + e⋅yₓ + f⋅uₓ)      \n",
       ": ──────────────────────────────────────────────────────────────────────, uₓₓₓ\n",
       "                                             3                                \n",
       "                            (d + e⋅yₓ + f⋅uₓ)                                 \n",
       "\n",
       "                   2                                                          \n",
       "  2⋅(e⋅yₓₓ + f⋅uₓₓ) ⋅(j + k⋅yₓ + l⋅uₓ) - (e⋅yₓₓ + f⋅uₓₓ)⋅(-(e⋅yₓₓ + f⋅uₓₓ)⋅(j \n",
       ": ────────────────────────────────────────────────────────────────────────────\n",
       "                                                                              \n",
       "                                                                              \n",
       "\n",
       "                                                                              \n",
       "+ k⋅yₓ + l⋅uₓ) + (k⋅yₓₓ + l⋅uₓₓ)⋅(d + e⋅yₓ + f⋅uₓ)) + (k⋅yₓₓₓ + l⋅uₓₓₓ)⋅(d + e\n",
       "──────────────────────────────────────────────────────────────────────────────\n",
       "                                                              5               \n",
       "                                             (d + e⋅yₓ + f⋅uₓ)                \n",
       "\n",
       "           2                                                                  \n",
       "⋅yₓ + f⋅uₓ)  - (2⋅(e⋅yₓₓ + f⋅uₓₓ)⋅(k⋅yₓₓ + l⋅uₓₓ) + (e⋅yₓₓₓ + f⋅uₓₓₓ)⋅(j + k⋅y\n",
       "──────────────────────────────────────────────────────────────────────────────\n",
       "                                                                              \n",
       "                                                                              \n",
       "\n",
       "                                                                              \n",
       "ₓ + l⋅uₓ))⋅(d + e⋅yₓ + f⋅uₓ)                                                  \n",
       "────────────────────────────, x: a + d⋅x + e⋅y + f⋅u, y: b + g⋅x + h⋅y + i⋅u, \n",
       "                                                                              \n",
       "                                                                              \n",
       "\n",
       "                                                                              \n",
       "    g + h⋅yₓ + i⋅uₓ       -(e⋅yₓₓ + f⋅uₓₓ)⋅(g + h⋅yₓ + i⋅uₓ) + (h⋅yₓₓ + i⋅uₓₓ)\n",
       "yₓ: ───────────────, yₓₓ: ────────────────────────────────────────────────────\n",
       "    d + e⋅yₓ + f⋅uₓ                                                  3        \n",
       "                                                    (d + e⋅yₓ + f⋅uₓ)         \n",
       "\n",
       "                                           2                                  \n",
       "⋅(d + e⋅yₓ + f⋅uₓ)        2⋅(e⋅yₓₓ + f⋅uₓₓ) ⋅(g + h⋅yₓ + i⋅uₓ) - (e⋅yₓₓ + f⋅uₓ\n",
       "──────────────────, yₓₓₓ: ────────────────────────────────────────────────────\n",
       "                                                                              \n",
       "                                                                              \n",
       "\n",
       "                                                                              \n",
       "ₓ)⋅(-(e⋅yₓₓ + f⋅uₓₓ)⋅(g + h⋅yₓ + i⋅uₓ) + (h⋅yₓₓ + i⋅uₓₓ)⋅(d + e⋅yₓ + f⋅uₓ)) + \n",
       "──────────────────────────────────────────────────────────────────────────────\n",
       "                                                                              \n",
       "                                                                     (d + e⋅yₓ\n",
       "\n",
       "                                   2                                          \n",
       "(h⋅yₓₓₓ + i⋅uₓₓₓ)⋅(d + e⋅yₓ + f⋅uₓ)  - (2⋅(e⋅yₓₓ + f⋅uₓₓ)⋅(h⋅yₓₓ + i⋅uₓₓ) + (e\n",
       "──────────────────────────────────────────────────────────────────────────────\n",
       "        5                                                                     \n",
       " + f⋅uₓ)                                                                      \n",
       "\n",
       "                                                    ⎫\n",
       "⋅yₓₓₓ + f⋅uₓₓₓ)⋅(g + h⋅yₓ + i⋅uₓ))⋅(d + e⋅yₓ + f⋅uₓ)⎪\n",
       "────────────────────────────────────────────────────⎬\n",
       "                                                    ⎪\n",
       "                                                    ⎭"
      ]
     },
     "execution_count": 19,
     "metadata": {},
     "output_type": "execute_result"
    }
   ],
   "source": [
    "g.transformed_subs_backward"
   ]
  },
  {
   "cell_type": "code",
   "execution_count": null,
   "metadata": {
    "collapsed": true
   },
   "outputs": [],
   "source": []
  }
 ],
 "metadata": {
  "kernelspec": {
   "display_name": "Python 2.7",
   "language": "python",
   "name": "python2"
  },
  "language_info": {
   "codemirror_mode": {
    "name": "ipython",
    "version": 2
   },
   "file_extension": ".py",
   "mimetype": "text/x-python",
   "name": "python",
   "nbconvert_exporter": "python",
   "pygments_lexer": "ipython2",
   "version": "2.7.15"
  }
 },
 "nbformat": 4,
 "nbformat_minor": 2
}

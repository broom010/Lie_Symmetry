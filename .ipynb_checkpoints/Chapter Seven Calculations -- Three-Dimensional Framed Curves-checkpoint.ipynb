{
 "cells": [
  {
   "cell_type": "markdown",
   "metadata": {},
   "source": [
    "# Lie Derivatives in Matrix Coordinates"
   ]
  },
  {
   "cell_type": "markdown",
   "metadata": {},
   "source": [
    "In this notebook, we explore how to express contact forms for a matrix Lie group.  The following is an outline of our work:\n",
    "\n",
    "**1)  Introduction of coordinates and group action**\n",
    "\n",
    "**2)  Find the basic contact form in matrix coordinates**\n",
    "\n",
    "**3)  Compute the infinitesimal generator of the action**\n",
    "\n",
    "**4)  Compute the Lie derivative of certain contact forms with respect to the infinitesimal generator**\n",
    "\n",
    "**5)  Compute the pullback of the Lie derivatives**\n",
    "\n",
    "\n",
    "\n",
    "We begin this process by importing various python modules and adjustin the printing settings of this notebook."
   ]
  },
  {
   "cell_type": "code",
   "execution_count": 1,
   "metadata": {},
   "outputs": [
    {
     "data": {
      "text/html": [
       "<style>.container { width:90% !important; }</style>"
      ],
      "text/plain": [
       "<IPython.core.display.HTML object>"
      ]
     },
     "metadata": {},
     "output_type": "display_data"
    }
   ],
   "source": [
    "from sympy import *\n",
    "from itertools import *\n",
    "import LieSympy as lp\n",
    "import numpy as np\n",
    "init_printing()\n",
    "\n",
    "from IPython.core.display import display, HTML\n",
    "display(HTML(\"<style>.container { width:90% !important; }</style>\"))"
   ]
  },
  {
   "cell_type": "markdown",
   "metadata": {},
   "source": [
    "# Introduction of Coordinates"
   ]
  },
  {
   "cell_type": "markdown",
   "metadata": {},
   "source": [
    "Let $G_1 = G_2 = SE(2)$.  Take $(a, b, \\psi)$ and $(x, u, \\varphi)$ to be local coordiantes for $G_1$ and $G_2$ repsectively.  The code below defines the symbols and the standard action of $G1$ on $G2$."
   ]
  },
  {
   "cell_type": "code",
   "execution_count": 2,
   "metadata": {
    "collapsed": true
   },
   "outputs": [],
   "source": [
    "x = symbols('x')\n",
    "y = Function('y')('x')\n",
    "u = Function('u')('x')\n",
    "\n",
    "a = symbols('a')\n",
    "b = symbols('b')\n",
    "c = symbols('c')\n",
    "\n",
    "phi1 = Function('varphi_1')('x')\n",
    "phi2 = Function('varphi_2')('x')\n",
    "phi3 = Function('varphi_3')('x')\n",
    "\n",
    "psi1 = symbols('psi_1')\n",
    "psi2 = symbols('psi_2')\n",
    "psi3 = symbols('psi_3')\n",
    "identity = {a:0, b:0, c:0, psi1:0, psi2:0, psi3:0}\n",
    "\n",
    "dx = symbols('dx')\n",
    "dp1 = symbols('d\\\\varphi_1')\n",
    "dp2 = symbols('d\\\\varphi_2')\n",
    "dp3 = symbols('d\\\\varphi_3')"
   ]
  },
  {
   "cell_type": "markdown",
   "metadata": {},
   "source": [
    "# Infinitesimal Generator of the Action"
   ]
  },
  {
   "cell_type": "code",
   "execution_count": 3,
   "metadata": {
    "collapsed": true
   },
   "outputs": [],
   "source": [
    "F_U = Matrix([[cos(phi1),-sin(phi1),0],[sin(phi1),cos(phi1),0],[0,0,1]])\n",
    "F_Y = Matrix([[cos(phi2),0,-sin(phi2)],[0,1,0],[sin(phi2),0,cos(phi2)]])\n",
    "F_X = Matrix([[1,0,0],[0,cos(phi3),-sin(phi3)],[0,sin(phi3),cos(phi3)]])\n",
    "\n",
    "F = F_X*F_Y*F_U\n",
    "F11 = Function('F11')('x')\n",
    "F12 = Function('F12')('x')\n",
    "F13 = Function('F13')('x')\n",
    "F21 = Function('F21')('x')\n",
    "F22 = Function('F22')('x')\n",
    "F23 = Function('F23')('x')\n",
    "F31 = Function('F31')('x')\n",
    "F32 = Function('F32')('x')\n",
    "F33 = Function('F33')('x')\n",
    "\n",
    "dF11 = symbols('dF_11')\n",
    "dF12 = symbols('dF_12')\n",
    "dF13 = symbols('dF_13')\n",
    "dF21 = symbols('dF_21')\n",
    "dF22 = symbols('dF_22')\n",
    "dF23 = symbols('dF_23')\n",
    "dF31 = symbols('dF_31')\n",
    "dF32 = symbols('dF_32')\n",
    "dF33 = symbols('dF_33')\n",
    "\n",
    "B = Matrix([[F11,F12,F13],[F21,F22,F23],[F31,F32,F33]])\n",
    "\n",
    "R_U = Matrix([[cos(psi1),-sin(psi1),0],[sin(psi1),cos(psi1),0],[0,0,1]])\n",
    "R_Y = Matrix([[cos(psi2),0,-sin(psi2)],[0,1,0],[sin(psi2),0,cos(psi2)]])\n",
    "R_X = Matrix([[1,0,0],[0,cos(psi3),-sin(psi3)],[0,sin(psi3),cos(psi3)]])\n",
    "\n",
    "R = R_X*R_Y*R_U\n",
    "z = Matrix([x,y,u])\n",
    "v = Matrix([a,b,c])\n",
    "\n",
    "X = simplify((R*z+v).row(0)[0])\n",
    "Y = simplify((R*z+v).row(1)[0])\n",
    "U = simplify((R*z+v).row(2)[0])\n",
    "B_new = R*B\n",
    "\n",
    "# Define quantities for prolongation\n",
    "A = [['x'],['y','u','F11','F12','F13','F21','F22','F23','F31','F32','F33']]\n",
    "n = 1\n",
    "\n",
    "# Dictionaries for substitutions\n",
    "differentials = {diff(F11,x):dF11, diff(F12,x):dF12, diff(F13,x):dF13,\n",
    "                 diff(F21,x):dF21, diff(F22,x):dF22, diff(F23,x):dF23,\n",
    "                 diff(F31,x):dF31, diff(F32,x):dF32, diff(F33,x):dF33}\n",
    "\n",
    "S = {y:symbols('y'), u:symbols('u'), diff(y,x):symbols('y_x'), diff(u,x):symbols('u_x'),\n",
    "           F11:symbols('F_11'), F12:symbols('F_12'), F13:symbols('F_13'),\n",
    "           F21:symbols('F_21'), F22:symbols('F_22'), F23:symbols('F_23'),\n",
    "           F31:symbols('F_31'), F32:symbols('F_32'), F33:symbols('F_33'),\n",
    "           diff(F11,x):symbols('F_11x'), diff(F12,x):symbols('F_12x'), diff(F13,x):symbols('F_13x'),\n",
    "           diff(F21,x):symbols('F_21x'), diff(F22,x):symbols('F_22x'), diff(F23,x):symbols('F_23x'),\n",
    "           diff(F31,x):symbols('F_31x'), diff(F32,x):symbols('F_32x'), diff(F33,x):symbols('F_33x')}"
   ]
  },
  {
   "cell_type": "markdown",
   "metadata": {},
   "source": [
    "# $v_4$"
   ]
  },
  {
   "cell_type": "code",
   "execution_count": 4,
   "metadata": {},
   "outputs": [
    {
     "data": {
      "image/png": "[encoded data removed]",
      "text/latex": [
       "$$\\left [ - y{\\left (x \\right )}, \\quad x, \\quad 0, \\quad - \\operatorname{F_{21}}{\\left (x \\right )}, \\quad - \\operatorname{F_{22}}{\\left (x \\right )}, \\quad - \\operatorname{F_{23}}{\\left (x \\right )}, \\quad \\operatorname{F_{11}}{\\left (x \\right )}, \\quad \\operatorname{F_{12}}{\\left (x \\right )}, \\quad \\operatorname{F_{13}}{\\left (x \\right )}, \\quad 0, \\quad 0, \\quad 0\\right ]$$"
      ],
      "text/plain": [
       "[-y(x), x, 0, -F₂₁(x), -F₂₂(x), -F₂₃(x), F₁₁(x), F₁₂(x), F₁₃(x), 0, 0, 0]"
      ]
     },
     "execution_count": 4,
     "metadata": {},
     "output_type": "execute_result"
    }
   ],
   "source": [
    "v4 = [diff(X,psi1).subs(identity), diff(Y,psi1).subs(identity), diff(U,psi1).subs(identity)]+ flatten(diff(B_new,psi1).subs(identity))\n",
    "v4"
   ]
  },
  {
   "cell_type": "code",
   "execution_count": 5,
   "metadata": {},
   "outputs": [
    {
     "data": {
      "image/png": "[encoded data removed]",
      "text/latex": [
       "$$\\left [ - y, \\quad x, \\quad 0, \\quad - F_{21}, \\quad - F_{22}, \\quad - F_{23}, \\quad F_{11}, \\quad F_{12}, \\quad F_{13}, \\quad 0, \\quad 0, \\quad 0, \\quad y_{x}^{2} + 1, \\quad u_{x} y_{x}, \\quad F_{11 x} y_{x} - F_{21x}, \\quad F_{12 x} y_{x} - F_{22x}, \\quad F_{13 x} y_{x} - F_{23x}, \\quad F_{21 x} y_{x} + F_{11x}, \\quad F_{22 x} y_{x} + F_{12x}, \\quad F_{23 x} y_{x} + F_{13x}, \\quad F_{31 x} y_{x}, \\quad F_{32 x} y_{x}, \\quad F_{33 x} y_{x}\\right ]$$"
      ],
      "text/plain": [
       "⎡                                                      2                      \n",
       "⎣-y, x, 0, -F₂₁, -F₂₂, -F₂₃, F₁₁, F₁₂, F₁₃, 0, 0, 0, yₓ  + 1, uₓ⋅yₓ, F₁₁ ₓ⋅yₓ \n",
       "\n",
       "                                                                              \n",
       "- F₂₁ₓ, F₁₂ ₓ⋅yₓ - F₂₂ₓ, F₁₃ ₓ⋅yₓ - F₂₃ₓ, F₂₁ ₓ⋅yₓ + F₁₁ₓ, F₂₂ ₓ⋅yₓ + F₁₂ₓ, F₂\n",
       "\n",
       "                                           ⎤\n",
       "₃ ₓ⋅yₓ + F₁₃ₓ, F₃₁ ₓ⋅yₓ, F₃₂ ₓ⋅yₓ, F₃₃ ₓ⋅yₓ⎦"
      ]
     },
     "execution_count": 5,
     "metadata": {},
     "output_type": "execute_result"
    }
   ],
   "source": [
    "pr1_v4 = [v.subs(S) for v in lp.Prolong(A, v4, n)]\n",
    "pr1_v4"
   ]
  },
  {
   "cell_type": "markdown",
   "metadata": {},
   "source": [
    "# $v_5$"
   ]
  },
  {
   "cell_type": "code",
   "execution_count": 6,
   "metadata": {},
   "outputs": [
    {
     "data": {
      "image/png": "[encoded data removed]",
      "text/latex": [
       "$$\\left [ - u{\\left (x \\right )}, \\quad 0, \\quad x, \\quad - \\operatorname{F_{31}}{\\left (x \\right )}, \\quad - \\operatorname{F_{32}}{\\left (x \\right )}, \\quad - \\operatorname{F_{33}}{\\left (x \\right )}, \\quad 0, \\quad 0, \\quad 0, \\quad \\operatorname{F_{11}}{\\left (x \\right )}, \\quad \\operatorname{F_{12}}{\\left (x \\right )}, \\quad \\operatorname{F_{13}}{\\left (x \\right )}\\right ]$$"
      ],
      "text/plain": [
       "[-u(x), 0, x, -F₃₁(x), -F₃₂(x), -F₃₃(x), 0, 0, 0, F₁₁(x), F₁₂(x), F₁₃(x)]"
      ]
     },
     "execution_count": 6,
     "metadata": {},
     "output_type": "execute_result"
    }
   ],
   "source": [
    "v5 = [diff(X,psi2).subs(identity), diff(Y,psi2).subs(identity), diff(U,psi2).subs(identity)]+ flatten(diff(B_new,psi2).subs(identity))\n",
    "v5"
   ]
  },
  {
   "cell_type": "code",
   "execution_count": 12,
   "metadata": {},
   "outputs": [
    {
     "data": {
      "image/png": "[encoded data removed]",
      "text/latex": [
       "$$\\left [ - u, \\quad 0, \\quad x, \\quad - F_{31}, \\quad - F_{32}, \\quad - F_{33}, \\quad 0, \\quad 0, \\quad 0, \\quad F_{11}, \\quad F_{12}, \\quad F_{13}, \\quad u_{x} y_{x}, \\quad u_{x}^{2} + 1, \\quad F_{11 x} u_{x} - F_{31x}, \\quad F_{12 x} u_{x} - F_{32x}, \\quad F_{13 x} u_{x} - F_{33x}, \\quad F_{21 x} u_{x}, \\quad F_{22 x} u_{x}, \\quad F_{23 x} u_{x}, \\quad F_{31 x} u_{x} + F_{11x}, \\quad F_{32 x} u_{x} + F_{12x}, \\quad F_{33 x} u_{x} + F_{13x}\\right ]$$"
      ],
      "text/plain": [
       "⎡                                                             2               \n",
       "⎣-u, 0, x, -F₃₁, -F₃₂, -F₃₃, 0, 0, 0, F₁₁, F₁₂, F₁₃, uₓ⋅yₓ, uₓ  + 1, F₁₁ ₓ⋅uₓ \n",
       "\n",
       "                                                                              \n",
       "- F₃₁ₓ, F₁₂ ₓ⋅uₓ - F₃₂ₓ, F₁₃ ₓ⋅uₓ - F₃₃ₓ, F₂₁ ₓ⋅uₓ, F₂₂ ₓ⋅uₓ, F₂₃ ₓ⋅uₓ, F₃₁ ₓ⋅\n",
       "\n",
       "                                           ⎤\n",
       "uₓ + F₁₁ₓ, F₃₂ ₓ⋅uₓ + F₁₂ₓ, F₃₃ ₓ⋅uₓ + F₁₃ₓ⎦"
      ]
     },
     "execution_count": 12,
     "metadata": {},
     "output_type": "execute_result"
    }
   ],
   "source": [
    "pr1_v5 = [v.subs(S) for v in lp.Prolong(A, v5, n)]\n",
    "pr1_v5"
   ]
  },
  {
   "cell_type": "markdown",
   "metadata": {},
   "source": [
    "# $v_6$"
   ]
  },
  {
   "cell_type": "code",
   "execution_count": 13,
   "metadata": {},
   "outputs": [
    {
     "data": {
      "image/png": "[encoded data removed]",
      "text/latex": [
       "$$\\left [ 0, \\quad - u{\\left (x \\right )}, \\quad y{\\left (x \\right )}, \\quad 0, \\quad 0, \\quad 0, \\quad - \\operatorname{F_{31}}{\\left (x \\right )}, \\quad - \\operatorname{F_{32}}{\\left (x \\right )}, \\quad - \\operatorname{F_{33}}{\\left (x \\right )}, \\quad \\operatorname{F_{21}}{\\left (x \\right )}, \\quad \\operatorname{F_{22}}{\\left (x \\right )}, \\quad \\operatorname{F_{23}}{\\left (x \\right )}\\right ]$$"
      ],
      "text/plain": [
       "[0, -u(x), y(x), 0, 0, 0, -F₃₁(x), -F₃₂(x), -F₃₃(x), F₂₁(x), F₂₂(x), F₂₃(x)]"
      ]
     },
     "execution_count": 13,
     "metadata": {},
     "output_type": "execute_result"
    }
   ],
   "source": [
    "v6 = [diff(X,psi3).subs(identity), diff(Y,psi3).subs(identity), diff(U,psi3).subs(identity)]+ flatten(diff(B_new,psi3).subs(identity))\n",
    "v6"
   ]
  },
  {
   "cell_type": "code",
   "execution_count": 14,
   "metadata": {},
   "outputs": [
    {
     "data": {
      "image/png": "[encoded data removed]",
      "text/latex": [
       "$$\\left [ 0, \\quad - u, \\quad y, \\quad 0, \\quad 0, \\quad 0, \\quad - F_{31}, \\quad - F_{32}, \\quad - F_{33}, \\quad F_{21}, \\quad F_{22}, \\quad F_{23}, \\quad - u_{x}, \\quad y_{x}, \\quad 0, \\quad 0, \\quad 0, \\quad - F_{31x}, \\quad - F_{32x}, \\quad - F_{33x}, \\quad F_{21x}, \\quad F_{22x}, \\quad F_{23x}\\right ]$$"
      ],
      "text/plain": [
       "[0, -u, y, 0, 0, 0, -F₃₁, -F₃₂, -F₃₃, F₂₁, F₂₂, F₂₃, -uₓ, yₓ, 0, 0, 0, -F₃₁ₓ, \n",
       "-F₃₂ₓ, -F₃₃ₓ, F₂₁ₓ, F₂₂ₓ, F₂₃ₓ]"
      ]
     },
     "execution_count": 14,
     "metadata": {},
     "output_type": "execute_result"
    }
   ],
   "source": [
    "pr1_v6 = [v.subs(S) for v in lp.Prolong(A, v6, n)]\n",
    "pr1_v6"
   ]
  },
  {
   "cell_type": "markdown",
   "metadata": {},
   "source": [
    "# Basic Contact forms\n",
    "The contact forms for the frame portion of our moving frame are given by the linearly independententries of $$dg\\, g^{-1}-g_xg^{-1}dx$$"
   ]
  },
  {
   "cell_type": "code",
   "execution_count": 15,
   "metadata": {},
   "outputs": [
    {
     "data": {
      "image/png": "[encoded data removed]",
      "text/latex": [
       "$$\\left[\\begin{matrix}0 & F_{21} dF_{11} + F_{22} dF_{12} + F_{23} dF_{13} - dx \\left(F_{11x} F_{21} + F_{12x} F_{22} + F_{13x} F_{23}\\right) & F_{31} dF_{11} + F_{32} dF_{12} + F_{33} dF_{13} - dx \\left(F_{11x} F_{31} + F_{12x} F_{32} + F_{13x} F_{33}\\right)\\\\F_{11} dF_{21} + F_{12} dF_{22} + F_{13} dF_{23} - dx \\left(F_{11} F_{21x} + F_{12} F_{22x} + F_{13} F_{23x}\\right) & 0 & F_{11} dF_{31} + F_{12} dF_{32} + F_{13} dF_{33} - dx \\left(F_{11} F_{31x} + F_{12} F_{32x} + F_{13} F_{33x}\\right)\\\\F_{11} dF_{31} + F_{12} dF_{32} + F_{13} dF_{33} - dx \\left(F_{11} F_{31x} + F_{12} F_{32x} + F_{13} F_{33x}\\right) & F_{21} dF_{31} + F_{22} dF_{32} + F_{23} dF_{33} - dx \\left(F_{21} F_{31x} + F_{22} F_{32x} + F_{23} F_{33x}\\right) & 0\\end{matrix}\\right]$$"
      ],
      "text/plain": [
       "⎡                                 0                                    F₂₁⋅dF₁\n",
       "⎢                                                                             \n",
       "⎢F₁₁⋅dF₂₁ + F₁₂⋅dF₂₂ + F₁₃⋅dF₂₃ - dx⋅(F₁₁⋅F₂₁ₓ + F₁₂⋅F₂₂ₓ + F₁₃⋅F₂₃ₓ)         \n",
       "⎢                                                                             \n",
       "⎣F₁₁⋅dF₃₁ + F₁₂⋅dF₃₂ + F₁₃⋅dF₃₃ - dx⋅(F₁₁⋅F₃₁ₓ + F₁₂⋅F₃₂ₓ + F₁₃⋅F₃₃ₓ)  F₂₁⋅dF₃\n",
       "\n",
       "₁ + F₂₂⋅dF₁₂ + F₂₃⋅dF₁₃ - dx⋅(F₁₁ₓ⋅F₂₁ + F₁₂ₓ⋅F₂₂ + F₁₃ₓ⋅F₂₃)  F₃₁⋅dF₁₁ + F₃₂⋅\n",
       "                                                                              \n",
       "                          0                                    F₁₁⋅dF₃₁ + F₁₂⋅\n",
       "                                                                              \n",
       "₁ + F₂₂⋅dF₃₂ + F₂₃⋅dF₃₃ - dx⋅(F₂₁⋅F₃₁ₓ + F₂₂⋅F₃₂ₓ + F₂₃⋅F₃₃ₓ)                 \n",
       "\n",
       "dF₁₂ + F₃₃⋅dF₁₃ - dx⋅(F₁₁ₓ⋅F₃₁ + F₁₂ₓ⋅F₃₂ + F₁₃ₓ⋅F₃₃)⎤\n",
       "                                                     ⎥\n",
       "dF₃₂ + F₁₃⋅dF₃₃ - dx⋅(F₁₁⋅F₃₁ₓ + F₁₂⋅F₃₂ₓ + F₁₃⋅F₃₃ₓ)⎥\n",
       "                                                     ⎥\n",
       "                  0                                  ⎦"
      ]
     },
     "execution_count": 15,
     "metadata": {},
     "output_type": "execute_result"
    }
   ],
   "source": [
    "temp = (diff(B,x)*B.transpose()).subs(differentials).subs(S) -(diff(B,x)*B.transpose()).subs(S)*dx\n",
    "temp2 = Matrix([[0,temp[0,1],temp[0,2]],[temp[1,0],0,temp[2,0]],[temp[2,0],temp[2,1], 0]])\n",
    "temp2"
   ]
  },
  {
   "cell_type": "code",
   "execution_count": 16,
   "metadata": {},
   "outputs": [
    {
     "data": {
      "image/png": "[encoded data removed]",
      "text/latex": [
       "$$\\left[\\begin{matrix}0 & - d\\varphi_1 \\cos{\\left (\\varphi_{2}{\\left (x \\right )} \\right )} \\cos{\\left (\\varphi_{3}{\\left (x \\right )} \\right )} + d\\varphi_2 \\sin{\\left (\\varphi_{3}{\\left (x \\right )} \\right )} - dx \\sin{\\left (\\varphi_{3}{\\left (x \\right )} \\right )} \\frac{d}{d x} \\varphi_{2}{\\left (x \\right )} + dx \\cos{\\left (\\varphi_{2}{\\left (x \\right )} \\right )} \\cos{\\left (\\varphi_{3}{\\left (x \\right )} \\right )} \\frac{d}{d x} \\varphi_{1}{\\left (x \\right )} & - d\\varphi_1 \\sin{\\left (\\varphi_{3}{\\left (x \\right )} \\right )} \\cos{\\left (\\varphi_{2}{\\left (x \\right )} \\right )} - d\\varphi_2 \\cos{\\left (\\varphi_{3}{\\left (x \\right )} \\right )} + dx \\sin{\\left (\\varphi_{3}{\\left (x \\right )} \\right )} \\cos{\\left (\\varphi_{2}{\\left (x \\right )} \\right )} \\frac{d}{d x} \\varphi_{1}{\\left (x \\right )} + dx \\cos{\\left (\\varphi_{3}{\\left (x \\right )} \\right )} \\frac{d}{d x} \\varphi_{2}{\\left (x \\right )}\\\\d\\varphi_1 \\cos{\\left (\\varphi_{2}{\\left (x \\right )} \\right )} \\cos{\\left (\\varphi_{3}{\\left (x \\right )} \\right )} - d\\varphi_2 \\sin{\\left (\\varphi_{3}{\\left (x \\right )} \\right )} + dx \\sin{\\left (\\varphi_{3}{\\left (x \\right )} \\right )} \\frac{d}{d x} \\varphi_{2}{\\left (x \\right )} - dx \\cos{\\left (\\varphi_{2}{\\left (x \\right )} \\right )} \\cos{\\left (\\varphi_{3}{\\left (x \\right )} \\right )} \\frac{d}{d x} \\varphi_{1}{\\left (x \\right )} & 0 & d\\varphi_1 \\sin{\\left (\\varphi_{3}{\\left (x \\right )} \\right )} \\cos{\\left (\\varphi_{2}{\\left (x \\right )} \\right )} + d\\varphi_2 \\cos{\\left (\\varphi_{3}{\\left (x \\right )} \\right )} - dx \\sin{\\left (\\varphi_{3}{\\left (x \\right )} \\right )} \\cos{\\left (\\varphi_{2}{\\left (x \\right )} \\right )} \\frac{d}{d x} \\varphi_{1}{\\left (x \\right )} - dx \\cos{\\left (\\varphi_{3}{\\left (x \\right )} \\right )} \\frac{d}{d x} \\varphi_{2}{\\left (x \\right )}\\\\d\\varphi_1 \\sin{\\left (\\varphi_{3}{\\left (x \\right )} \\right )} \\cos{\\left (\\varphi_{2}{\\left (x \\right )} \\right )} + d\\varphi_2 \\cos{\\left (\\varphi_{3}{\\left (x \\right )} \\right )} - dx \\sin{\\left (\\varphi_{3}{\\left (x \\right )} \\right )} \\cos{\\left (\\varphi_{2}{\\left (x \\right )} \\right )} \\frac{d}{d x} \\varphi_{1}{\\left (x \\right )} - dx \\cos{\\left (\\varphi_{3}{\\left (x \\right )} \\right )} \\frac{d}{d x} \\varphi_{2}{\\left (x \\right )} & - d\\varphi_1 \\sin{\\left (\\varphi_{2}{\\left (x \\right )} \\right )} + d\\varphi_3 + dx \\sin{\\left (\\varphi_{2}{\\left (x \\right )} \\right )} \\frac{d}{d x} \\varphi_{1}{\\left (x \\right )} - dx \\frac{d}{d x} \\varphi_{3}{\\left (x \\right )} & 0\\end{matrix}\\right]$$"
      ],
      "text/plain": [
       "⎡                                                                             \n",
       "⎢                                                                             \n",
       "⎢                                                                             \n",
       "⎢                                                                             \n",
       "⎢                                                                             \n",
       "⎢d\\varphi₁⋅cos(varphi₂(x))⋅cos(varphi₃(x)) - d\\varphi₂⋅sin(varphi₃(x)) + dx⋅si\n",
       "⎢                                                                             \n",
       "⎢                                                                             \n",
       "⎢                                                                             \n",
       "⎢d\\varphi₁⋅sin(varphi₃(x))⋅cos(varphi₂(x)) + d\\varphi₂⋅cos(varphi₃(x)) - dx⋅si\n",
       "⎣                                                                             \n",
       "\n",
       "                                                                              \n",
       " 0                                                                            \n",
       "                                                                              \n",
       "                                                                              \n",
       "              d                                                   d           \n",
       "n(varphi₃(x))⋅──(varphi₂(x)) - dx⋅cos(varphi₂(x))⋅cos(varphi₃(x))⋅──(varphi₁(x\n",
       "              dx                                                  dx          \n",
       "                                                                              \n",
       "                              d                                   d           \n",
       "n(varphi₃(x))⋅cos(varphi₂(x))⋅──(varphi₁(x)) - dx⋅cos(varphi₃(x))⋅──(varphi₂(x\n",
       "                              dx                                  dx          \n",
       "\n",
       "                                                                              \n",
       "    -d\\varphi₁⋅cos(varphi₂(x))⋅cos(varphi₃(x)) + d\\varphi₂⋅sin(varphi₃(x)) - d\n",
       "                                                                              \n",
       "                                                                              \n",
       "                                                                              \n",
       "))                                                                            \n",
       "                                                                              \n",
       "                                                                              \n",
       "                                                                              \n",
       "))                                  -d\\varphi₁⋅sin(varphi₂(x)) + d\\varphi₃ + d\n",
       "                                                                              \n",
       "\n",
       "                  d                                                   d       \n",
       "x⋅sin(varphi₃(x))⋅──(varphi₂(x)) + dx⋅cos(varphi₂(x))⋅cos(varphi₃(x))⋅──(varph\n",
       "                  dx                                                  dx      \n",
       "                                                                              \n",
       "                                                                              \n",
       "    0                                                                         \n",
       "                                                                              \n",
       "                                                                              \n",
       "                  d                   d                                       \n",
       "x⋅sin(varphi₂(x))⋅──(varphi₁(x)) - dx⋅──(varphi₃(x))                          \n",
       "                  dx                  dx                                      \n",
       "\n",
       "                                                                              \n",
       "i₁(x))  -d\\varphi₁⋅sin(varphi₃(x))⋅cos(varphi₂(x)) - d\\varphi₂⋅cos(varphi₃(x))\n",
       "                                                                              \n",
       "                                                                              \n",
       "                                                                              \n",
       "        d\\varphi₁⋅sin(varphi₃(x))⋅cos(varphi₂(x)) + d\\varphi₂⋅cos(varphi₃(x)) \n",
       "                                                                              \n",
       "                                                                              \n",
       "                                                                              \n",
       "                                                                              \n",
       "                                                                              \n",
       "\n",
       "                                      d                                   d   \n",
       " + dx⋅sin(varphi₃(x))⋅cos(varphi₂(x))⋅──(varphi₁(x)) + dx⋅cos(varphi₃(x))⋅──(v\n",
       "                                      dx                                  dx  \n",
       "                                                                              \n",
       "                                     d                                   d    \n",
       "- dx⋅sin(varphi₃(x))⋅cos(varphi₂(x))⋅──(varphi₁(x)) - dx⋅cos(varphi₃(x))⋅──(va\n",
       "                                     dx                                  dx   \n",
       "                                                                              \n",
       "                                                                              \n",
       "        0                                                                     \n",
       "                                                                              \n",
       "\n",
       "          ⎤\n",
       "arphi₂(x))⎥\n",
       "          ⎥\n",
       "          ⎥\n",
       "          ⎥\n",
       "rphi₂(x)) ⎥\n",
       "          ⎥\n",
       "          ⎥\n",
       "          ⎥\n",
       "          ⎥\n",
       "          ⎦"
      ]
     },
     "execution_count": 16,
     "metadata": {},
     "output_type": "execute_result"
    }
   ],
   "source": [
    "temp = (diff(F,x)*F.transpose()).subs({diff(phi1,x):dp1, diff(phi2,x):dp2, diff(phi3,x):dp3}).subs(S) -(diff(F,x)*F.transpose()).subs(S)*dx\n",
    "temp2 = Matrix([[0,temp[0,1],temp[0,2]],[temp[1,0],0,temp[2,0]],[temp[2,0],temp[2,1], 0]])\n",
    "simplify(temp2)"
   ]
  },
  {
   "cell_type": "markdown",
   "metadata": {},
   "source": [
    "# Lie Derivatives in General Matrix Coordinates"
   ]
  },
  {
   "cell_type": "code",
   "execution_count": 17,
   "metadata": {
    "collapsed": true
   },
   "outputs": [],
   "source": [
    "w1_upper = [-(symbols('F21')*symbols('F11_x')+symbols('F22')*symbols('F12_x')+symbols('F23')*symbols('F13_x')), 0, 0, symbols('F21'), symbols('F22'), symbols('F23'), 0, 0, 0, 0, 0, 0]\n",
    "w2_upper = [-(symbols('F31')*symbols('F11_x')+symbols('F32')*symbols('F12_x')+symbols('F33')*symbols('F13_x')),0, 0, symbols('F31'), symbols('F32'), symbols('F33'), 0, 0, 0, 0, 0, 0]\n",
    "w3_upper = [-(symbols('F11')*symbols('F31_x')+symbols('F12')*symbols('F32_x')+symbols('F13')*symbols('F33_x')), 0, 0, 0, 0, 0, 0, 0, 0, symbols('F11'), symbols('F12'), symbols('F13')]"
   ]
  },
  {
   "cell_type": "code",
   "execution_count": 18,
   "metadata": {
    "collapsed": true
   },
   "outputs": [],
   "source": [
    "w1 = [-(symbols('F11')*symbols('F21_x')+symbols('F12')*symbols('F22_x')+symbols('F13')*symbols('F23_x')), 0, 0, 0, 0, 0, symbols('F11'), symbols('F12'), symbols('F13'), 0, 0, 0]\n",
    "w2 = [-(symbols('F11')*symbols('F31_x')+symbols('F12')*symbols('F32_x')+symbols('F13')*symbols('F33_x')), 0, 0, 0, 0, 0, 0, 0, 0, symbols('F11'), symbols('F12'), symbols('F13')]\n",
    "w3 = [-(symbols('F21')*symbols('F31_x')+symbols('F22')*symbols('F32_x')+symbols('F23')*symbols('F33_x')), 0, 0, 0, 0, 0, 0, 0, 0, symbols('F21'), symbols('F22'), symbols('F23')]"
   ]
  },
  {
   "cell_type": "markdown",
   "metadata": {},
   "source": [
    "# $w_1$"
   ]
  },
  {
   "cell_type": "code",
   "execution_count": 19,
   "metadata": {},
   "outputs": [
    {
     "data": {
      "image/png": "[encoded data removed]",
      "text/latex": [
       "$$- F_{21} \\theta^{F21} - F_{22} \\theta^{F22} - F_{23} \\theta^{F23} + \\left(F_{11} F_{21 x} + F_{12} F_{22 x} + F_{13} F_{23 x}\\right) \\theta^{y}$$"
      ],
      "text/plain": [
       "-F₂₁⋅θ__F21 - F₂₂⋅θ__F22 - F₂₃⋅θ__F23 + (F₁₁⋅F₂₁ ₓ + F₁₂⋅F₂₂ ₓ + F₁₃⋅F₂₃ ₓ)⋅θ_\n",
       "_y"
      ]
     },
     "execution_count": 19,
     "metadata": {},
     "output_type": "execute_result"
    }
   ],
   "source": [
    "lp.Lie_derivative(A, n, pr1_v4, w1)"
   ]
  },
  {
   "cell_type": "code",
   "execution_count": 20,
   "metadata": {},
   "outputs": [
    {
     "data": {
      "image/png": "[encoded data removed]",
      "text/latex": [
       "$$- F_{31} \\theta^{F21} - F_{32} \\theta^{F22} - F_{33} \\theta^{F23} + \\left(F_{11} F_{21 x} + F_{12} F_{22 x} + F_{13} F_{23 x}\\right) \\theta^{u}$$"
      ],
      "text/plain": [
       "-F₃₁⋅θ__F21 - F₃₂⋅θ__F22 - F₃₃⋅θ__F23 + (F₁₁⋅F₂₁ ₓ + F₁₂⋅F₂₂ ₓ + F₁₃⋅F₂₃ ₓ)⋅θ_\n",
       "_u"
      ]
     },
     "execution_count": 20,
     "metadata": {},
     "output_type": "execute_result"
    }
   ],
   "source": [
    "lp.Lie_derivative(A, n, pr1_v5, w1)"
   ]
  },
  {
   "cell_type": "code",
   "execution_count": 21,
   "metadata": {
    "scrolled": true
   },
   "outputs": [
    {
     "data": {
      "image/png": "[encoded data removed]",
      "text/latex": [
       "$$0$$"
      ],
      "text/plain": [
       "0"
      ]
     },
     "execution_count": 21,
     "metadata": {},
     "output_type": "execute_result"
    }
   ],
   "source": [
    "lp.Lie_derivative(A, n, pr1_v6, w1)"
   ]
  },
  {
   "cell_type": "markdown",
   "metadata": {},
   "source": [
    "# $w_2$"
   ]
  },
  {
   "cell_type": "code",
   "execution_count": 22,
   "metadata": {},
   "outputs": [
    {
     "data": {
      "image/png": "[encoded data removed]",
      "text/latex": [
       "$$- F_{21} \\theta^{F31} - F_{22} \\theta^{F32} - F_{23} \\theta^{F33} + \\left(F_{11} F_{31 x} + F_{12} F_{32 x} + F_{13} F_{33 x}\\right) \\theta^{y}$$"
      ],
      "text/plain": [
       "-F₂₁⋅θ__F31 - F₂₂⋅θ__F32 - F₂₃⋅θ__F33 + (F₁₁⋅F₃₁ ₓ + F₁₂⋅F₃₂ ₓ + F₁₃⋅F₃₃ ₓ)⋅θ_\n",
       "_y"
      ]
     },
     "execution_count": 22,
     "metadata": {},
     "output_type": "execute_result"
    }
   ],
   "source": [
    "lp.Lie_derivative(A, n, pr1_v4, w2)"
   ]
  },
  {
   "cell_type": "code",
   "execution_count": 23,
   "metadata": {},
   "outputs": [
    {
     "data": {
      "image/png": "[encoded data removed]",
      "text/latex": [
       "$$- F_{31} \\theta^{F31} - F_{32} \\theta^{F32} - F_{33} \\theta^{F33} + \\left(F_{11} F_{31 x} + F_{12} F_{32 x} + F_{13} F_{33 x}\\right) \\theta^{u}$$"
      ],
      "text/plain": [
       "-F₃₁⋅θ__F31 - F₃₂⋅θ__F32 - F₃₃⋅θ__F33 + (F₁₁⋅F₃₁ ₓ + F₁₂⋅F₃₂ ₓ + F₁₃⋅F₃₃ ₓ)⋅θ_\n",
       "_u"
      ]
     },
     "execution_count": 23,
     "metadata": {},
     "output_type": "execute_result"
    }
   ],
   "source": [
    "lp.Lie_derivative(A, n, pr1_v5, w2)"
   ]
  },
  {
   "cell_type": "code",
   "execution_count": 24,
   "metadata": {},
   "outputs": [
    {
     "data": {
      "image/png": "[encoded data removed]",
      "text/latex": [
       "$$0$$"
      ],
      "text/plain": [
       "0"
      ]
     },
     "execution_count": 24,
     "metadata": {},
     "output_type": "execute_result"
    }
   ],
   "source": [
    "lp.Lie_derivative(A, n, pr1_v6, w2)"
   ]
  },
  {
   "cell_type": "markdown",
   "metadata": {},
   "source": [
    "# $w_3$"
   ]
  },
  {
   "cell_type": "code",
   "execution_count": 25,
   "metadata": {},
   "outputs": [
    {
     "data": {
      "image/png": "[encoded data removed]",
      "text/latex": [
       "$$F_{11} \\theta^{F31} + F_{12} \\theta^{F32} + F_{13} \\theta^{F33} + \\left(F_{21} F_{31 x} + F_{22} F_{32 x} + F_{23} F_{33 x}\\right) \\theta^{y}$$"
      ],
      "text/plain": [
       "F₁₁⋅θ__F31 + F₁₂⋅θ__F32 + F₁₃⋅θ__F33 + (F₂₁⋅F₃₁ ₓ + F₂₂⋅F₃₂ ₓ + F₂₃⋅F₃₃ ₓ)⋅θ__\n",
       "y"
      ]
     },
     "execution_count": 25,
     "metadata": {},
     "output_type": "execute_result"
    }
   ],
   "source": [
    "lp.Lie_derivative(A, n, pr1_v4, w3)"
   ]
  },
  {
   "cell_type": "code",
   "execution_count": 26,
   "metadata": {},
   "outputs": [
    {
     "data": {
      "image/png": "[encoded data removed]",
      "text/latex": [
       "$$\\left(F_{21} F_{31 x} + F_{22} F_{32 x} + F_{23} F_{33 x}\\right) \\theta^{u}$$"
      ],
      "text/plain": [
       "(F₂₁⋅F₃₁ ₓ + F₂₂⋅F₃₂ ₓ + F₂₃⋅F₃₃ ₓ)⋅θ__u"
      ]
     },
     "execution_count": 26,
     "metadata": {},
     "output_type": "execute_result"
    }
   ],
   "source": [
    "lp.Lie_derivative(A, n, pr1_v5, w3)"
   ]
  },
  {
   "cell_type": "code",
   "execution_count": 27,
   "metadata": {},
   "outputs": [
    {
     "data": {
      "image/png": "[encoded data removed]",
      "text/latex": [
       "$$- F_{31} \\theta^{F31} - F_{32} \\theta^{F32} - F_{33} \\theta^{F33}$$"
      ],
      "text/plain": [
       "-F₃₁⋅θ__F31 - F₃₂⋅θ__F32 - F₃₃⋅θ__F33"
      ]
     },
     "execution_count": 27,
     "metadata": {},
     "output_type": "execute_result"
    }
   ],
   "source": [
    "lp.Lie_derivative(A, n, pr1_v6, w3)"
   ]
  },
  {
   "cell_type": "markdown",
   "metadata": {},
   "source": [
    "# Create Dictionary to Compute the Pullback of the Basic Contact Form"
   ]
  },
  {
   "cell_type": "code",
   "execution_count": 28,
   "metadata": {
    "collapsed": true
   },
   "outputs": [],
   "source": [
    "def pb_contact_form(i,j):\n",
    "    return diff(F[i-1,j-1],phi1)*symbols('\\\\varphi_{1x}')*symbols('\\\\theta^{\\\\varphi_1}') + diff(F[i-1,j-1],phi2)*symbols('\\\\varphi_{2x}')*symbols('\\\\theta^{\\\\varphi_2}') + diff(F[i-1,j-1],phi3)*symbols('\\\\varphi_{3x}')*symbols('\\\\theta^{\\\\varphi_3}')\n",
    "\n",
    "fun_to_sym_angle = {phi1: symbols('\\\\varphi_1'), phi2: symbols('\\\\varphi_2'), phi3: symbols('\\\\varphi_3'),\n",
    "                   diff(phi1,x): symbols('\\\\varphi_{1x}'), diff(phi2,x): symbols('\\\\varphi_{2x}'), diff(phi3,x): symbols('\\\\varphi_{3x}')}\n",
    "\n",
    "temp3 = diff(F,x).subs(fun_to_sym_angle)\n",
    "\n",
    "pullback = {symbols('theta^F11', commutative=False):pb_contact_form(1,1),\n",
    "            symbols('theta^F12', commutative=False):pb_contact_form(1,2),\n",
    "            symbols('theta^F13', commutative=False):pb_contact_form(1,3),\n",
    "            symbols('theta^F21', commutative=False):pb_contact_form(2,1),\n",
    "            symbols('theta^F22', commutative=False):pb_contact_form(2,2),\n",
    "            symbols('theta^F23', commutative=False):pb_contact_form(2,3),\n",
    "            symbols('theta^F31', commutative=False):pb_contact_form(3,1),\n",
    "            symbols('theta^F32', commutative=False):pb_contact_form(3,2),\n",
    "            symbols('theta^F33', commutative=False):pb_contact_form(3,3),\n",
    "            symbols('F_11'): F[0,0], symbols('F_12'): F[0,1], symbols('F_13'): F[0,2],\n",
    "            symbols('F_21'): F[1,0], symbols('F_22'): F[1,1], symbols('F_23'): F[1,2],\n",
    "            symbols('F_31'): F[2,0], symbols('F_32'): F[2,1], symbols('F_33'): F[2,2],\n",
    "            symbols('F11'): F[0,0], symbols('F12'): F[0,1], symbols('F13'): F[0,2],\n",
    "            symbols('F21'): F[1,0], symbols('F22'): F[1,1], symbols('F23'): F[1,2],\n",
    "            symbols('F31'): F[2,0], symbols('F32'): F[2,1], symbols('F33'): F[2,2],\n",
    "            symbols('F11_x'): temp3[0,0], symbols('F12_x'): temp3[0,1], symbols('F13_x'): temp3[0,2],\n",
    "            symbols('F21_x'): temp3[1,0], symbols('F22_x'): temp3[1,1], symbols('F23_x'): temp3[1,2],\n",
    "            symbols('F31_x'): temp3[2,0], symbols('F32_x'): temp3[2,1], symbols('F33_x'): temp3[2,2]}"
   ]
  },
  {
   "cell_type": "markdown",
   "metadata": {},
   "source": [
    "# $w_1$"
   ]
  },
  {
   "cell_type": "code",
   "execution_count": 29,
   "metadata": {},
   "outputs": [
    {
     "data": {
      "image/png": "[encoded data removed]",
      "text/latex": [
       "$$\\varphi_{1x} \\cos{\\left (\\varphi_2 \\right )} \\cos{\\left (\\varphi_3 \\right )} \\theta^{y} - \\varphi_{2x} \\sin{\\left (\\varphi_3 \\right )} \\theta^{y}$$"
      ],
      "text/plain": [
       "\\varphi_{1x}⋅cos(\\varphi₂)⋅cos(\\varphi₃)⋅θ__y - \\varphi_{2x}⋅sin(\\varphi₃)⋅θ__\n",
       "y"
      ]
     },
     "execution_count": 29,
     "metadata": {},
     "output_type": "execute_result"
    }
   ],
   "source": [
    "simplify(lp.Lie_derivative(A, n, pr1_v4,w1).xreplace(pullback).subs(fun_to_sym_angle))"
   ]
  },
  {
   "cell_type": "code",
   "execution_count": 30,
   "metadata": {},
   "outputs": [
    {
     "data": {
      "image/png": "[encoded data removed]",
      "text/latex": [
       "$$- \\theta^{\\varphi_1} \\varphi_{1x} \\sin{\\left (\\varphi_2 \\right )} + \\theta^{\\varphi_3} \\varphi_{3x} + \\varphi_{1x} \\cos{\\left (\\varphi_2 \\right )} \\cos{\\left (\\varphi_3 \\right )} \\theta^{u} - \\varphi_{2x} \\sin{\\left (\\varphi_3 \\right )} \\theta^{u}$$"
      ],
      "text/plain": [
       "-\\theta_1}__{\\varphi⋅\\varphi_{1x}⋅sin(\\varphi₂) + \\theta_3}__{\\varphi⋅\\varphi_\n",
       "{3x} + \\varphi_{1x}⋅cos(\\varphi₂)⋅cos(\\varphi₃)⋅θ__u - \\varphi_{2x}⋅sin(\\varph\n",
       "i₃)⋅θ__u"
      ]
     },
     "execution_count": 30,
     "metadata": {},
     "output_type": "execute_result"
    }
   ],
   "source": [
    "simplify(lp.Lie_derivative(A, n, pr1_v5,w1).xreplace(pullback).subs(fun_to_sym_angle))"
   ]
  },
  {
   "cell_type": "code",
   "execution_count": 31,
   "metadata": {},
   "outputs": [
    {
     "data": {
      "image/png": "[encoded data removed]",
      "text/latex": [
       "$$0$$"
      ],
      "text/plain": [
       "0"
      ]
     },
     "execution_count": 31,
     "metadata": {},
     "output_type": "execute_result"
    }
   ],
   "source": [
    "simplify(lp.Lie_derivative(A, n, pr1_v6,w1).xreplace(pullback).subs(fun_to_sym_angle))"
   ]
  },
  {
   "cell_type": "markdown",
   "metadata": {},
   "source": [
    "# $w_2$"
   ]
  },
  {
   "cell_type": "code",
   "execution_count": 32,
   "metadata": {},
   "outputs": [
    {
     "data": {
      "image/png": "[encoded data removed]",
      "text/latex": [
       "$$\\theta^{\\varphi_1} \\varphi_{1x} \\sin{\\left (\\varphi_2 \\right )} - \\theta^{\\varphi_3} \\varphi_{3x} + \\varphi_{1x} \\sin{\\left (\\varphi_3 \\right )} \\cos{\\left (\\varphi_2 \\right )} \\theta^{y} + \\varphi_{2x} \\cos{\\left (\\varphi_3 \\right )} \\theta^{y}$$"
      ],
      "text/plain": [
       "\\theta_1}__{\\varphi⋅\\varphi_{1x}⋅sin(\\varphi₂) - \\theta_3}__{\\varphi⋅\\varphi_{\n",
       "3x} + \\varphi_{1x}⋅sin(\\varphi₃)⋅cos(\\varphi₂)⋅θ__y + \\varphi_{2x}⋅cos(\\varphi\n",
       "₃)⋅θ__y"
      ]
     },
     "execution_count": 32,
     "metadata": {},
     "output_type": "execute_result"
    }
   ],
   "source": [
    "simplify(lp.Lie_derivative(A, n, pr1_v4,w2).xreplace(pullback).subs(fun_to_sym_angle))"
   ]
  },
  {
   "cell_type": "code",
   "execution_count": 33,
   "metadata": {},
   "outputs": [
    {
     "data": {
      "image/png": "[encoded data removed]",
      "text/latex": [
       "$$\\varphi_{1x} \\sin{\\left (\\varphi_3 \\right )} \\cos{\\left (\\varphi_2 \\right )} \\theta^{u} + \\varphi_{2x} \\cos{\\left (\\varphi_3 \\right )} \\theta^{u}$$"
      ],
      "text/plain": [
       "\\varphi_{1x}⋅sin(\\varphi₃)⋅cos(\\varphi₂)⋅θ__u + \\varphi_{2x}⋅cos(\\varphi₃)⋅θ__\n",
       "u"
      ]
     },
     "execution_count": 33,
     "metadata": {},
     "output_type": "execute_result"
    }
   ],
   "source": [
    "simplify(lp.Lie_derivative(A, n, pr1_v5,w2).xreplace(pullback).subs(fun_to_sym_angle))"
   ]
  },
  {
   "cell_type": "code",
   "execution_count": 34,
   "metadata": {},
   "outputs": [
    {
     "data": {
      "image/png": "[encoded data removed]",
      "text/latex": [
       "$$0$$"
      ],
      "text/plain": [
       "0"
      ]
     },
     "execution_count": 34,
     "metadata": {},
     "output_type": "execute_result"
    }
   ],
   "source": [
    "simplify(lp.Lie_derivative(A, n, pr1_v6,w2).xreplace(pullback).subs(fun_to_sym_angle))"
   ]
  },
  {
   "cell_type": "markdown",
   "metadata": {},
   "source": [
    "# $w_3$"
   ]
  },
  {
   "cell_type": "code",
   "execution_count": 35,
   "metadata": {},
   "outputs": [
    {
     "data": {
      "image/png": "[encoded data removed]",
      "text/latex": [
       "$$\\theta^{\\varphi_1} \\varphi_{1x} \\sin{\\left (\\varphi_3 \\right )} \\cos{\\left (\\varphi_2 \\right )} + \\theta^{\\varphi_2} \\varphi_{2x} \\cos{\\left (\\varphi_3 \\right )} - \\varphi_{1x} \\sin{\\left (\\varphi_2 \\right )} \\theta^{y} + \\varphi_{3x} \\theta^{y}$$"
      ],
      "text/plain": [
       "\\theta_1}__{\\varphi⋅\\varphi_{1x}⋅sin(\\varphi₃)⋅cos(\\varphi₂) + \\theta_2}__{\\va\n",
       "rphi⋅\\varphi_{2x}⋅cos(\\varphi₃) - \\varphi_{1x}⋅sin(\\varphi₂)⋅θ__y + \\varphi_{3\n",
       "x}⋅θ__y"
      ]
     },
     "execution_count": 35,
     "metadata": {},
     "output_type": "execute_result"
    }
   ],
   "source": [
    "simplify(lp.Lie_derivative(A, n, pr1_v4,w3).xreplace(pullback).subs(fun_to_sym_angle))"
   ]
  },
  {
   "cell_type": "code",
   "execution_count": 36,
   "metadata": {},
   "outputs": [
    {
     "data": {
      "image/png": "[encoded data removed]",
      "text/latex": [
       "$$\\left(- \\varphi_{1x} \\sin{\\left (\\varphi_2 \\right )} + \\varphi_{3x}\\right) \\theta^{u}$$"
      ],
      "text/plain": [
       "(-\\varphi_{1x}⋅sin(\\varphi₂) + \\varphi_{3x})⋅θ__u"
      ]
     },
     "execution_count": 36,
     "metadata": {},
     "output_type": "execute_result"
    }
   ],
   "source": [
    "simplify(lp.Lie_derivative(A, n, pr1_v5,w3).xreplace(pullback).subs(fun_to_sym_angle))"
   ]
  },
  {
   "cell_type": "code",
   "execution_count": 37,
   "metadata": {},
   "outputs": [
    {
     "data": {
      "image/png": "[encoded data removed]",
      "text/latex": [
       "$$0$$"
      ],
      "text/plain": [
       "0"
      ]
     },
     "execution_count": 37,
     "metadata": {},
     "output_type": "execute_result"
    }
   ],
   "source": [
    "simplify(lp.Lie_derivative(A, n, pr1_v6,w3).xreplace(pullback).subs(fun_to_sym_angle))"
   ]
  },
  {
   "cell_type": "code",
   "execution_count": null,
   "metadata": {
    "collapsed": true
   },
   "outputs": [],
   "source": []
  }
 ],
 "metadata": {
  "kernelspec": {
   "display_name": "Python 2.7",
   "language": "python",
   "name": "python2"
  },
  "language_info": {
   "codemirror_mode": {
    "name": "ipython",
    "version": 2
   },
   "file_extension": ".py",
   "mimetype": "text/x-python",
   "name": "python",
   "nbconvert_exporter": "python",
   "pygments_lexer": "ipython2",
   "version": "2.7.15"
  }
 },
 "nbformat": 4,
 "nbformat_minor": 2
}

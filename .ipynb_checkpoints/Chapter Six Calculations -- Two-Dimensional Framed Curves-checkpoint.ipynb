{
 "cells": [
  {
   "cell_type": "markdown",
   "metadata": {},
   "source": [
    "# Invariant Euler Lagrange equations for two-dimensional framed curves\n",
    "<br/>\n",
    "\n",
    "This notebook is dedicated to providing the calculations that go into deriving the invariant Euler Lagrange equations for SE(2) invariant Lagrangians defined over two-dimensional framed curves.  We will rely heavily on the LieSympy module, which was also written by this author.  For the two dimensional case, we can initialize a group action object using the Lie Sympy module and use the attributes of the object to provide many of the ingredients for our derivation.  At times, we will also invoke various methods that provide additional information.\n",
    "\n",
    "We begin this process by first importing the necessary modules for our work.\n",
    "\n",
    "<br/>"
   ]
  },
  {
   "cell_type": "code",
   "execution_count": 1,
   "metadata": {},
   "outputs": [
    {
     "data": {
      "text/html": [
       "<style>.container { width:90% !important; }</style>"
      ],
      "text/plain": [
       "<IPython.core.display.HTML object>"
      ]
     },
     "metadata": {},
     "output_type": "display_data"
    }
   ],
   "source": [
    "from sympy import *\n",
    "from itertools import *\n",
    "import LieSympy as lp\n",
    "import numpy as np\n",
    "init_printing()\n",
    "\n",
    "from IPython.core.display import display, HTML\n",
    "display(HTML(\"<style>.container { width:90% !important; }</style>\"))"
   ]
  },
  {
   "cell_type": "markdown",
   "metadata": {},
   "source": [
    "# Non-Matrix Coordinate System\n",
    "\n",
    "## Initialized the Group Action Object\n",
    "<br/>\n",
    "We start by initializing a group action object.  The class groupAction as defined in the LieSympy module is initialized by providing a set of coordinates for $X\\times U$, a set of coordinates for $G$, and a parameter $n$ that represents the highest order jet space needed for the calculations.  There is certainly a minimal accepted value of $n$, but choosing an $n$ that is larger than the minimal value will not change any calculations.  However, it will increase the memory required to store group action objects.\n",
    "<br/>\n",
    "\n",
    "After initializing the group action object, we invoke a method named Def_transformation().  This method takes three arguements, these being, the expression for the group action (provided as sympy expressions in a list T), a group identity (provided by a list of numbers), and a cross-section, K, (provided as a list of two lists, one being the coordinate functions, and the other being the values of these functions on the cross-section).\n",
    "\n",
    "<br/>\n",
    "The def_transformation() method assigns many attributes to the group action object including:\n",
    "\n",
    "* A list of infinitesimal generators\n",
    "* The moving frame\n",
    "* The recurrence relations for differential invariants\n",
    "* Various substitution dictionaries required for calculations \n",
    "\n",
    "<br/>"
   ]
  },
  {
   "cell_type": "code",
   "execution_count": 2,
   "metadata": {},
   "outputs": [],
   "source": [
    "g = lp.groupAction([['x'],['u','phi']],['a','b','psi'],2)\n",
    "\n",
    "# Define the expressions in terms of variables in the lp module\n",
    "X_expr = cos(lp.psi)*lp.x-sin(lp.psi)*lp.u+lp.a\n",
    "U_expr =  sin(lp.psi)*lp.x+cos(lp.psi)*lp.u+lp.b\n",
    "P_expr = lp.phi+lp.psi\n",
    "\n",
    "# Define the group transformation, identity, and cross-section\n",
    "T = [X_expr, U_expr, P_expr]\n",
    "grp_id = [0,0,0]\n",
    "K = [[0,0,0],[lp.x,lp.u,lp.phi]]\n",
    "\n",
    "# Add defining properties to the group action object\n",
    "g.Def_transformation(T,grp_id,K)\n",
    "\n",
    "# Run the moving frame analysis on the group action object\n",
    "g.Apply_Frame_Analysis()"
   ]
  },
  {
   "cell_type": "markdown",
   "metadata": {},
   "source": [
    "## Attributes of the group action object\n",
    "<br/>\n",
    "The following lines of code display several key attributes of the group action object.  The attributes that are displayed below play an important role in deriving the invariant Euler-Lagrange equations for our problem.\n",
    "\n",
    "<br/>"
   ]
  },
  {
   "cell_type": "code",
   "execution_count": 3,
   "metadata": {},
   "outputs": [
    {
     "data": {
      "image/png": "[encoded data removed]",
      "text/latex": [
       "$$\\left \\{ \\phi : \\phi + \\psi, \\quad \\phi_{x} : \\frac{\\phi_{x}}{- u_{x} \\sin{\\left (\\psi \\right )} + \\cos{\\left (\\psi \\right )}}, \\quad \\phi_{xx} : \\frac{- \\phi_{x} u_{xx} \\sin{\\left (\\psi \\right )} + \\phi_{xx} \\left(u_{x} \\sin{\\left (\\psi \\right )} - \\cos{\\left (\\psi \\right )}\\right)}{\\left(u_{x} \\sin{\\left (\\psi \\right )} - \\cos{\\left (\\psi \\right )}\\right)^{3}}, \\quad u : b + u \\cos{\\left (\\psi \\right )} + x \\sin{\\left (\\psi \\right )}, \\quad u_{x} : \\frac{u_{x} \\cos{\\left (\\psi \\right )} + \\sin{\\left (\\psi \\right )}}{- u_{x} \\sin{\\left (\\psi \\right )} + \\cos{\\left (\\psi \\right )}}, \\quad u_{xx} : - \\frac{u_{xx}}{\\left(u_{x} \\sin{\\left (\\psi \\right )} - \\cos{\\left (\\psi \\right )}\\right)^{3}}, \\quad x : a - u \\sin{\\left (\\psi \\right )} + x \\cos{\\left (\\psi \\right )}\\right \\}$$"
      ],
      "text/plain": [
       "⎧                       φₓ               -φₓ⋅uₓₓ⋅sin(ψ) + φₓₓ⋅(uₓ⋅sin(ψ) - cos\n",
       "⎪φ: φ + ψ, φₓ: ───────────────────, φₓₓ: ─────────────────────────────────────\n",
       "⎨              -uₓ⋅sin(ψ) + cos(ψ)                                     3      \n",
       "⎪                                                  (uₓ⋅sin(ψ) - cos(ψ))       \n",
       "⎩                                                                             \n",
       "\n",
       "(ψ))                                   uₓ⋅cos(ψ) + sin(ψ)               -uₓₓ  \n",
       "────, u: b + u⋅cos(ψ) + x⋅sin(ψ), uₓ: ───────────────────, uₓₓ: ──────────────\n",
       "                                      -uₓ⋅sin(ψ) + cos(ψ)                     \n",
       "                                                                (uₓ⋅sin(ψ) - c\n",
       "                                                                              \n",
       "\n",
       "                                   ⎫\n",
       "───────, x: a - u⋅sin(ψ) + x⋅cos(ψ)⎪\n",
       "      3                            ⎬\n",
       "os(ψ))                             ⎪\n",
       "                                   ⎭"
      ]
     },
     "execution_count": 3,
     "metadata": {},
     "output_type": "execute_result"
    }
   ],
   "source": [
    "g.transformed_subs_backward"
   ]
  },
  {
   "cell_type": "code",
   "execution_count": 4,
   "metadata": {},
   "outputs": [
    {
     "data": {
      "image/png": "[encoded data removed]",
      "text/latex": [
       "$$\\left \\{ H : 0, \\quad I^{\\phi}_{0} : 0, \\quad I^{\\phi}_{1} : \\frac{\\phi_{x}}{u_{x} \\sin{\\left (\\phi \\right )} + \\cos{\\left (\\phi \\right )}}, \\quad I^{\\phi}_{2} : \\frac{- \\phi_{x} u_{xx} \\sin{\\left (\\phi \\right )} + \\phi_{xx} \\left(u_{x} \\sin{\\left (\\phi \\right )} + \\cos{\\left (\\phi \\right )}\\right)}{\\left(u_{x} \\sin{\\left (\\phi \\right )} + \\cos{\\left (\\phi \\right )}\\right)^{3}}, \\quad I^{u}_{0} : 0, \\quad I^{u}_{1} : \\frac{u_{x} \\cos{\\left (\\phi \\right )} - \\sin{\\left (\\phi \\right )}}{u_{x} \\sin{\\left (\\phi \\right )} + \\cos{\\left (\\phi \\right )}}, \\quad I^{u}_{2} : \\frac{u_{xx}}{\\left(u_{x} \\sin{\\left (\\phi \\right )} + \\cos{\\left (\\phi \\right )}\\right)^{3}}\\right \\}$$"
      ],
      "text/plain": [
       "⎧                                 φₓ                  -φₓ⋅uₓₓ⋅sin(φ) + φₓₓ⋅(uₓ\n",
       "⎪H: 0, I_0__φ: 0, I_1__φ: ──────────────────, I_2__φ: ────────────────────────\n",
       "⎨                         uₓ⋅sin(φ) + cos(φ)                                  \n",
       "⎪                                                               (uₓ⋅sin(φ) + c\n",
       "⎩                                                                             \n",
       "\n",
       "⋅sin(φ) + cos(φ))                     uₓ⋅cos(φ) - sin(φ)                   uₓₓ\n",
       "─────────────────, I_0__u: 0, I_1__u: ──────────────────, I_2__u: ────────────\n",
       "      3                               uₓ⋅sin(φ) + cos(φ)                      \n",
       "os(φ))                                                            (uₓ⋅sin(φ) +\n",
       "                                                                              \n",
       "\n",
       "         ⎫\n",
       "─────────⎪\n",
       "        3⎬\n",
       " cos(φ)) ⎪\n",
       "         ⎭"
      ]
     },
     "execution_count": 4,
     "metadata": {},
     "output_type": "execute_result"
    }
   ],
   "source": [
    "g.normals"
   ]
  },
  {
   "cell_type": "code",
   "execution_count": 5,
   "metadata": {},
   "outputs": [
    {
     "data": {
      "image/png": "[encoded data removed]",
      "text/latex": [
       "$$\\left \\{ a : - u \\sin{\\left (\\phi \\right )} - x \\cos{\\left (\\phi \\right )}, \\quad b : - u \\cos{\\left (\\phi \\right )} + x \\sin{\\left (\\phi \\right )}, \\quad \\psi : - \\phi\\right \\}$$"
      ],
      "text/plain": [
       "{a: -u⋅sin(φ) - x⋅cos(φ), b: -u⋅cos(φ) + x⋅sin(φ), ψ: -φ}"
      ]
     },
     "execution_count": 5,
     "metadata": {},
     "output_type": "execute_result"
    }
   ],
   "source": [
    "g.frame"
   ]
  },
  {
   "cell_type": "code",
   "execution_count": 6,
   "metadata": {},
   "outputs": [
    {
     "data": {
      "image/png": "[encoded data removed]",
      "text/latex": [
       "$$\\left [ \\left [ 1, \\quad 0, \\quad 0\\right ], \\quad \\left [ 0, \\quad 1, \\quad 0\\right ], \\quad \\left [ - u, \\quad x, \\quad 1\\right ]\\right ]$$"
      ],
      "text/plain": [
       "[[1, 0, 0], [0, 1, 0], [-u, x, 1]]"
      ]
     },
     "execution_count": 6,
     "metadata": {},
     "output_type": "execute_result"
    }
   ],
   "source": [
    "g.vectors"
   ]
  },
  {
   "cell_type": "code",
   "execution_count": 7,
   "metadata": {},
   "outputs": [
    {
     "data": {
      "image/png": "[encoded data removed]",
      "text/latex": [
       "$$\\left \\{ R_{1} : -1, \\quad R_{2} : - I^{u}_{1}, \\quad R_{3} : - I^{\\phi}_{1}\\right \\}$$"
      ],
      "text/plain": [
       "{R₁: -1, R₂: -I_1__u, R₃: -I_1__φ}"
      ]
     },
     "execution_count": 7,
     "metadata": {},
     "output_type": "execute_result"
    }
   ],
   "source": [
    "g.mc_invariants"
   ]
  },
  {
   "cell_type": "code",
   "execution_count": 8,
   "metadata": {},
   "outputs": [
    {
     "data": {
      "image/png": "[encoded data removed]",
      "text/latex": [
       "$$\\left \\{ \\varepsilon_{1} : 0, \\quad \\varepsilon_{2} : - \\vartheta^{u}, \\quad \\varepsilon_{3} : - \\vartheta^{\\phi}\\right \\}$$"
      ],
      "text/plain": [
       "{varepsilon₁: 0, varepsilon₂: -vartheta__u, varepsilon₃: -vartheta__φ}"
      ]
     },
     "execution_count": 8,
     "metadata": {},
     "output_type": "execute_result"
    }
   ],
   "source": [
    "g.rec_forms"
   ]
  },
  {
   "cell_type": "code",
   "execution_count": 9,
   "metadata": {},
   "outputs": [
    {
     "data": {
      "image/png": "[encoded data removed]",
      "text/latex": [
       "$$\\left \\{ \\vartheta^{\\phi}_{1} : D_{s} \\vartheta^{\\phi} + \\kappa_{\\phi}^{2} \\vartheta^{u}, \\quad \\vartheta^{u}_{1} : \\vartheta^{u} \\left(D_{s} + \\kappa_{\\phi} \\kappa_{u}\\right)\\right \\}$$"
      ],
      "text/plain": [
       "⎧                                  2                                          \n",
       "⎨vartheta_1__φ: Dₛ⋅vartheta__φ + κᵩ ⋅vartheta__u, vartheta_1__u: vartheta__u⋅(\n",
       "⎩                                                                             \n",
       "\n",
       "           ⎫\n",
       "Dₛ + κᵩ⋅κᵤ)⎬\n",
       "           ⎭"
      ]
     },
     "execution_count": 9,
     "metadata": {},
     "output_type": "execute_result"
    }
   ],
   "source": [
    "g.contact_reduction"
   ]
  },
  {
   "cell_type": "markdown",
   "metadata": {},
   "source": [
    "## Prolongation of Infinitesimal Generators"
   ]
  },
  {
   "cell_type": "code",
   "execution_count": 10,
   "metadata": {},
   "outputs": [
    {
     "data": {
      "image/png": "[encoded data removed]",
      "text/latex": [
       "$$\\left [ 1, \\quad 0, \\quad 0, \\quad 0, \\quad 0, \\quad 0, \\quad 0\\right ]$$"
      ],
      "text/plain": [
       "[1, 0, 0, 0, 0, 0, 0]"
      ]
     },
     "execution_count": 10,
     "metadata": {},
     "output_type": "execute_result"
    }
   ],
   "source": [
    "g.Prolong(g.vectors[0],2)"
   ]
  },
  {
   "cell_type": "code",
   "execution_count": 11,
   "metadata": {},
   "outputs": [
    {
     "data": {
      "image/png": "[encoded data removed]",
      "text/latex": [
       "$$\\left [ 0, \\quad 1, \\quad 0, \\quad 0, \\quad 0, \\quad 0, \\quad 0\\right ]$$"
      ],
      "text/plain": [
       "[0, 1, 0, 0, 0, 0, 0]"
      ]
     },
     "execution_count": 11,
     "metadata": {},
     "output_type": "execute_result"
    }
   ],
   "source": [
    "g.Prolong(g.vectors[1],2)"
   ]
  },
  {
   "cell_type": "code",
   "execution_count": 12,
   "metadata": {},
   "outputs": [
    {
     "data": {
      "image/png": "[encoded data removed]",
      "text/latex": [
       "$$\\left [ - u, \\quad x, \\quad 1, \\quad u_{x}^{2} + 1, \\quad \\phi_{x} u_{x}, \\quad 3 u_{x} u_{xx}, \\quad \\phi_{x} u_{xx} + 2 \\phi_{xx} u_{x}\\right ]$$"
      ],
      "text/plain": [
       "⎡            2                                        ⎤\n",
       "⎣-u, x, 1, uₓ  + 1, φₓ⋅uₓ, 3⋅uₓ⋅uₓₓ, φₓ⋅uₓₓ + 2⋅φₓₓ⋅uₓ⎦"
      ]
     },
     "execution_count": 12,
     "metadata": {},
     "output_type": "execute_result"
    }
   ],
   "source": [
    "g.Prolong(g.vectors[2],2)"
   ]
  },
  {
   "cell_type": "markdown",
   "metadata": {},
   "source": [
    "## Invariantization of the of Lie Derivatives of Contact Forms\n",
    "<br/>\n",
    "The following are calculations of the Lie derivatives of the contact forms $\\theta^\\alpha_i$ by $v_j$.  The method Lie_contact_diff() gives us\n",
    "\n",
    "<br/>"
   ]
  },
  {
   "cell_type": "code",
   "execution_count": 13,
   "metadata": {},
   "outputs": [
    {
     "data": {
      "image/png": "[encoded data removed]",
      "text/latex": [
       "$$0$$"
      ],
      "text/plain": [
       "0"
      ]
     },
     "execution_count": 13,
     "metadata": {},
     "output_type": "execute_result"
    }
   ],
   "source": [
    "g.Lie_contact_diff(g.vectors[0], 0, 0)"
   ]
  },
  {
   "cell_type": "code",
   "execution_count": 14,
   "metadata": {},
   "outputs": [
    {
     "data": {
      "image/png": "[encoded data removed]",
      "text/latex": [
       "$$0$$"
      ],
      "text/plain": [
       "0"
      ]
     },
     "execution_count": 14,
     "metadata": {},
     "output_type": "execute_result"
    }
   ],
   "source": [
    "g.Lie_contact_diff(g.vectors[0], 1, 0)"
   ]
  },
  {
   "cell_type": "code",
   "execution_count": 15,
   "metadata": {},
   "outputs": [
    {
     "data": {
      "image/png": "[encoded data removed]",
      "text/latex": [
       "$$0$$"
      ],
      "text/plain": [
       "0"
      ]
     },
     "execution_count": 15,
     "metadata": {},
     "output_type": "execute_result"
    }
   ],
   "source": [
    "g.Lie_contact_diff(g.vectors[1], 0, 0)"
   ]
  },
  {
   "cell_type": "code",
   "execution_count": 16,
   "metadata": {},
   "outputs": [
    {
     "data": {
      "image/png": "[encoded data removed]",
      "text/latex": [
       "$$0$$"
      ],
      "text/plain": [
       "0"
      ]
     },
     "execution_count": 16,
     "metadata": {},
     "output_type": "execute_result"
    }
   ],
   "source": [
    "g.Lie_contact_diff(g.vectors[1], 1, 0)"
   ]
  },
  {
   "cell_type": "code",
   "execution_count": 17,
   "metadata": {},
   "outputs": [
    {
     "data": {
      "image/png": "[encoded data removed]",
      "text/latex": [
       "$$u_{x} \\vartheta^{u}$$"
      ],
      "text/plain": [
       "uₓ⋅vartheta__u"
      ]
     },
     "execution_count": 17,
     "metadata": {},
     "output_type": "execute_result"
    }
   ],
   "source": [
    "g.Lie_contact_diff(g.vectors[2], 0, 0)"
   ]
  },
  {
   "cell_type": "code",
   "execution_count": 18,
   "metadata": {},
   "outputs": [
    {
     "data": {
      "image/png": "[encoded data removed]",
      "text/latex": [
       "$$\\phi_{x} \\vartheta^{u}$$"
      ],
      "text/plain": [
       "φₓ⋅vartheta__u"
      ]
     },
     "execution_count": 18,
     "metadata": {},
     "output_type": "execute_result"
    }
   ],
   "source": [
    "g.Lie_contact_diff(g.vectors[2], 1, 0)"
   ]
  },
  {
   "cell_type": "code",
   "execution_count": 19,
   "metadata": {},
   "outputs": [
    {
     "data": {
      "image/png": "[encoded data removed]",
      "text/latex": [
       "$$2 u_{x} \\vartheta^{u}_{1} + u_{xx} \\vartheta^{u}$$"
      ],
      "text/plain": [
       "2⋅uₓ⋅vartheta_1__u + uₓₓ⋅vartheta__u"
      ]
     },
     "execution_count": 19,
     "metadata": {},
     "output_type": "execute_result"
    }
   ],
   "source": [
    "g.Lie_contact_diff(g.vectors[2], 0, 1)"
   ]
  },
  {
   "cell_type": "markdown",
   "metadata": {},
   "source": [
    "## Derivation of the Invariant Eulerian and Hamiltonian Operators $\\mathcal{A}^*$ and $\\mathcal{B}^*$ "
   ]
  },
  {
   "cell_type": "code",
   "execution_count": 20,
   "metadata": {},
   "outputs": [
    {
     "data": {
      "image/png": "[encoded data removed]",
      "text/latex": [
       "$$\\left[\\begin{matrix}- D_{s} + \\kappa_{\\phi} \\kappa_{u} & \\kappa_{\\phi}^{2}\\\\- \\kappa_{u}^{2} - 1 & - D_{s} - \\kappa_{\\phi} \\kappa_{u}\\end{matrix}\\right]$$"
      ],
      "text/plain": [
       "⎡                   2    ⎤\n",
       "⎢-Dₛ + κᵩ⋅κᵤ      κᵩ     ⎥\n",
       "⎢                        ⎥\n",
       "⎢     2                  ⎥\n",
       "⎣ - κᵤ  - 1   -Dₛ - κᵩ⋅κᵤ⎦"
      ]
     },
     "execution_count": 20,
     "metadata": {},
     "output_type": "execute_result"
    }
   ],
   "source": [
    "g.inv_Euler()"
   ]
  },
  {
   "cell_type": "code",
   "execution_count": 21,
   "metadata": {},
   "outputs": [
    {
     "data": {
      "image/png": "[encoded data removed]",
      "text/latex": [
       "$$\\left[\\begin{matrix}- \\kappa_{\\phi}\\\\\\kappa_{u}\\end{matrix}\\right]$$"
      ],
      "text/plain": [
       "⎡-κᵩ⎤\n",
       "⎢   ⎥\n",
       "⎣κᵤ ⎦"
      ]
     },
     "execution_count": 21,
     "metadata": {},
     "output_type": "execute_result"
    }
   ],
   "source": [
    "g.invariant_Hamilton()"
   ]
  },
  {
   "cell_type": "markdown",
   "metadata": {},
   "source": [
    "# Matrix Coordinate System\n",
    "In this section, we will focus on using gneral matrix coordinates for our frame."
   ]
  },
  {
   "cell_type": "markdown",
   "metadata": {},
   "source": [
    "## Introduction of Coordinates (non-matrix version)\n",
    "Let $G_1 = G_2 = SE(2)$.  Take $(a, b, \\psi)$ and $(x, u, \\varphi)$ to be local coordiantes for $G_1$ and $G_2$ repsectively.  The code below defines the symbols and the standard action of $G1$ on $G2$."
   ]
  },
  {
   "cell_type": "code",
   "execution_count": 22,
   "metadata": {},
   "outputs": [],
   "source": [
    "x = symbols('x')\n",
    "u = Function('u')('x')\n",
    "phi = Function('varphi')('x')\n",
    "\n",
    "a = symbols('a')\n",
    "b = symbols('b')\n",
    "psi = symbols('psi')\n",
    "identity = {a:0, b:0, psi:0}\n",
    "\n",
    "dx = symbols('dx')\n",
    "du = symbols('du')\n",
    "dphi = symbols('d\\\\varphi')"
   ]
  },
  {
   "cell_type": "markdown",
   "metadata": {},
   "source": [
    "# Infinitesimal Generator of the Action"
   ]
  },
  {
   "cell_type": "code",
   "execution_count": 23,
   "metadata": {},
   "outputs": [
    {
     "data": {
      "image/png": "[encoded data removed]",
      "text/latex": [
       "$$\\left [ - u{\\left (x \\right )}, \\quad - x, \\quad 1\\right ]$$"
      ],
      "text/plain": [
       "[-u(x), -x, 1]"
      ]
     },
     "execution_count": 23,
     "metadata": {},
     "output_type": "execute_result"
    }
   ],
   "source": [
    "X = cos(psi)*x-sin(psi)*u+a\n",
    "U = -sin(psi)*x+cos(psi)*u+b\n",
    "Phi = phi+psi\n",
    "\n",
    "v3 = [diff(X,psi).subs(identity), diff(U,psi).subs(identity), diff(Phi,psi).subs(identity)]\n",
    "v3"
   ]
  },
  {
   "cell_type": "markdown",
   "metadata": {},
   "source": [
    "# Lie derivative of $\\theta^\\varphi = d\\varphi-\\varphi_x dx$ with respect to $v_3$"
   ]
  },
  {
   "cell_type": "code",
   "execution_count": 24,
   "metadata": {},
   "outputs": [
    {
     "data": {
      "image/png": "[encoded data removed]",
      "text/latex": [
       "$$\\varphi_{x} \\theta^{u}$$"
      ],
      "text/plain": [
       "varphiₓ⋅θ__u"
      ]
     },
     "execution_count": 24,
     "metadata": {},
     "output_type": "execute_result"
    }
   ],
   "source": [
    "A = [['x'],['u','varphi']]\n",
    "n = 1\n",
    "v3 = [-symbols('u'), x, 1]\n",
    "pr1_v3 = lp.Prolong([['x'],['u','varphi']],v3,1)\n",
    "w = [-symbols('varphi_x'), 0, 1]\n",
    "lp.Lie_derivative(A, n, pr1_v3 ,w)"
   ]
  },
  {
   "cell_type": "markdown",
   "metadata": {},
   "source": [
    "# Introduction of Coordinates (matrix version)"
   ]
  },
  {
   "cell_type": "code",
   "execution_count": 25,
   "metadata": {},
   "outputs": [],
   "source": [
    "F = Matrix([[cos(phi),-sin(phi)],[sin(phi),cos(phi)]])\n",
    "\n",
    "R = Matrix([[cos(psi),-sin(psi)],[sin(psi),cos(psi)]])\n",
    "z = Matrix([x,u])\n",
    "c = Matrix([a,b])\n",
    "identity = {a:0, b:0, psi:0}\n",
    "X = simplify((R*z+c).row(0)[0])\n",
    "U = simplify((R*z+c).row(1)[0])"
   ]
  },
  {
   "cell_type": "markdown",
   "metadata": {},
   "source": [
    "# Basic Contact form $\\theta^\\varphi$\n",
    "The contact forms for the frame portion of our moving frame are given by the linearly independententries of $$dg\\, g^{-1}-g_xg^{-1}dx$$"
   ]
  },
  {
   "cell_type": "code",
   "execution_count": 26,
   "metadata": {},
   "outputs": [
    {
     "data": {
      "image/png": "[encoded data removed]",
      "text/latex": [
       "$$\\left[\\begin{matrix}0 &  \\varphi_x\\ dx - d\\varphi\\\\-  \\varphi_x\\ dx + d\\varphi & 0\\end{matrix}\\right]$$"
      ],
      "text/plain": [
       "⎡            0                \\varphi_x\\⋅dx - d\\varphi⎤\n",
       "⎢                                                     ⎥\n",
       "⎣- \\varphi_x\\⋅dx + d\\varphi              0            ⎦"
      ]
     },
     "execution_count": 26,
     "metadata": {},
     "output_type": "execute_result"
    }
   ],
   "source": [
    "F_x = simplify(diff(F)*F.inv())\n",
    "dF = Matrix([[0,-dphi],[dphi,0]])\n",
    "(dF - F_x*dx).subs({diff(phi,x):symbols('\\\\ \\\\varphi_x\\\\')})"
   ]
  },
  {
   "cell_type": "markdown",
   "metadata": {},
   "source": [
    "# Basic Contact Form In General Matrix Coordinates"
   ]
  },
  {
   "cell_type": "code",
   "execution_count": 27,
   "metadata": {},
   "outputs": [],
   "source": [
    "F11 = Function('F11')('x')\n",
    "F12 = Function('F12')('x')\n",
    "F21 = Function('F21')('x')\n",
    "F22 = Function('F22')('x')\n",
    "\n",
    "F11_x = Function('F11_x')('x')\n",
    "F12_x = Function('F12_x')('x')\n",
    "F21_x = Function('F21_x')('x')\n",
    "F22_x = Function('F22_x')('x')\n",
    "\n",
    "T11 = symbols('T11')\n",
    "T12 = symbols('T12')\n",
    "T21 = symbols('T21')\n",
    "T22 = symbols('T22')\n",
    "\n",
    "d11 = symbols('d_{F_{11}}')\n",
    "d12 = symbols('d_{F_{12}}')\n",
    "d21 = symbols('d_{F_{21}}')\n",
    "d22 = symbols('d_{F_{22}}')\n",
    "\n",
    "B = Matrix([[F11,F12],[F21,F22]])\n",
    "T = Matrix([[T11,T12],[T21,T22]])\n",
    "\n",
    "temp_1 = diff(B,x)*(B.inv()).subs({F11*F22-F12*F21:1, diff(F11,x):d11, diff(F12,x):d12, diff(F21,x):d21, diff(F22,x):d22})\n",
    "temp_2 = simplify(diff(B,x)*(B.inv()))"
   ]
  },
  {
   "cell_type": "code",
   "execution_count": 28,
   "metadata": {},
   "outputs": [
    {
     "data": {
      "image/png": "[encoded data removed]",
      "text/latex": [
       "$$\\left[\\begin{matrix}\\frac{dx \\left(\\operatorname{F_{21}}{\\left (x \\right )} \\frac{d}{d x} \\operatorname{F_{12}}{\\left (x \\right )} - \\operatorname{F_{22}}{\\left (x \\right )} \\frac{d}{d x} \\operatorname{F_{11}}{\\left (x \\right )}\\right) + \\left(\\operatorname{F_{11}}{\\left (x \\right )} \\operatorname{F_{22}}{\\left (x \\right )} - \\operatorname{F_{12}}{\\left (x \\right )} \\operatorname{F_{21}}{\\left (x \\right )}\\right) \\left(- \\operatorname{F_{21}}{\\left (x \\right )} \\frac{d}{d x} \\operatorname{F_{12}}{\\left (x \\right )} + \\operatorname{F_{22}}{\\left (x \\right )} \\frac{d}{d x} \\operatorname{F_{11}}{\\left (x \\right )}\\right)}{\\operatorname{F_{11}}{\\left (x \\right )} \\operatorname{F_{22}}{\\left (x \\right )} - \\operatorname{F_{12}}{\\left (x \\right )} \\operatorname{F_{21}}{\\left (x \\right )}} & \\frac{\\left(\\operatorname{F_{11}}{\\left (x \\right )} \\frac{d}{d x} \\operatorname{F_{12}}{\\left (x \\right )} - \\operatorname{F_{12}}{\\left (x \\right )} \\frac{d}{d x} \\operatorname{F_{11}}{\\left (x \\right )}\\right) \\left(- dx + \\operatorname{F_{11}}{\\left (x \\right )} \\operatorname{F_{22}}{\\left (x \\right )} - \\operatorname{F_{12}}{\\left (x \\right )} \\operatorname{F_{21}}{\\left (x \\right )}\\right)}{\\operatorname{F_{11}}{\\left (x \\right )} \\operatorname{F_{22}}{\\left (x \\right )} - \\operatorname{F_{12}}{\\left (x \\right )} \\operatorname{F_{21}}{\\left (x \\right )}}\\\\\\frac{dx \\left(\\operatorname{F_{21}}{\\left (x \\right )} \\frac{d}{d x} \\operatorname{F_{22}}{\\left (x \\right )} - \\operatorname{F_{22}}{\\left (x \\right )} \\frac{d}{d x} \\operatorname{F_{21}}{\\left (x \\right )}\\right) + \\left(\\operatorname{F_{11}}{\\left (x \\right )} \\operatorname{F_{22}}{\\left (x \\right )} - \\operatorname{F_{12}}{\\left (x \\right )} \\operatorname{F_{21}}{\\left (x \\right )}\\right) \\left(- \\operatorname{F_{21}}{\\left (x \\right )} \\frac{d}{d x} \\operatorname{F_{22}}{\\left (x \\right )} + \\operatorname{F_{22}}{\\left (x \\right )} \\frac{d}{d x} \\operatorname{F_{21}}{\\left (x \\right )}\\right)}{\\operatorname{F_{11}}{\\left (x \\right )} \\operatorname{F_{22}}{\\left (x \\right )} - \\operatorname{F_{12}}{\\left (x \\right )} \\operatorname{F_{21}}{\\left (x \\right )}} & \\frac{\\left(\\operatorname{F_{11}}{\\left (x \\right )} \\frac{d}{d x} \\operatorname{F_{22}}{\\left (x \\right )} - \\operatorname{F_{12}}{\\left (x \\right )} \\frac{d}{d x} \\operatorname{F_{21}}{\\left (x \\right )}\\right) \\left(- dx + \\operatorname{F_{11}}{\\left (x \\right )} \\operatorname{F_{22}}{\\left (x \\right )} - \\operatorname{F_{12}}{\\left (x \\right )} \\operatorname{F_{21}}{\\left (x \\right )}\\right)}{\\operatorname{F_{11}}{\\left (x \\right )} \\operatorname{F_{22}}{\\left (x \\right )} - \\operatorname{F_{12}}{\\left (x \\right )} \\operatorname{F_{21}}{\\left (x \\right )}}\\end{matrix}\\right]$$"
      ],
      "text/plain": [
       "⎡   ⎛       d                   d         ⎞                                   \n",
       "⎢dx⋅⎜F₂₁(x)⋅──(F₁₂(x)) - F₂₂(x)⋅──(F₁₁(x))⎟ + (F₁₁(x)⋅F₂₂(x) - F₁₂(x)⋅F₂₁(x))⋅\n",
       "⎢   ⎝       dx                  dx        ⎠                                   \n",
       "⎢─────────────────────────────────────────────────────────────────────────────\n",
       "⎢                                            F₁₁(x)⋅F₂₂(x) - F₁₂(x)⋅F₂₁(x)    \n",
       "⎢                                                                             \n",
       "⎢   ⎛       d                   d         ⎞                                   \n",
       "⎢dx⋅⎜F₂₁(x)⋅──(F₂₂(x)) - F₂₂(x)⋅──(F₂₁(x))⎟ + (F₁₁(x)⋅F₂₂(x) - F₁₂(x)⋅F₂₁(x))⋅\n",
       "⎢   ⎝       dx                  dx        ⎠                                   \n",
       "⎢─────────────────────────────────────────────────────────────────────────────\n",
       "⎣                                            F₁₁(x)⋅F₂₂(x) - F₁₂(x)⋅F₂₁(x)    \n",
       "\n",
       "⎛         d                   d         ⎞  ⎛       d                   d      \n",
       "⎜- F₂₁(x)⋅──(F₁₂(x)) + F₂₂(x)⋅──(F₁₁(x))⎟  ⎜F₁₁(x)⋅──(F₁₂(x)) - F₁₂(x)⋅──(F₁₁(\n",
       "⎝         dx                  dx        ⎠  ⎝       dx                  dx     \n",
       "─────────────────────────────────────────  ───────────────────────────────────\n",
       "                                                                   F₁₁(x)⋅F₂₂(\n",
       "                                                                              \n",
       "⎛         d                   d         ⎞  ⎛       d                   d      \n",
       "⎜- F₂₁(x)⋅──(F₂₂(x)) + F₂₂(x)⋅──(F₂₁(x))⎟  ⎜F₁₁(x)⋅──(F₂₂(x)) - F₁₂(x)⋅──(F₂₁(\n",
       "⎝         dx                  dx        ⎠  ⎝       dx                  dx     \n",
       "─────────────────────────────────────────  ───────────────────────────────────\n",
       "                                                                   F₁₁(x)⋅F₂₂(\n",
       "\n",
       "   ⎞                                      ⎤\n",
       "x))⎟⋅(-dx + F₁₁(x)⋅F₂₂(x) - F₁₂(x)⋅F₂₁(x))⎥\n",
       "   ⎠                                      ⎥\n",
       "──────────────────────────────────────────⎥\n",
       "x) - F₁₂(x)⋅F₂₁(x)                        ⎥\n",
       "                                          ⎥\n",
       "   ⎞                                      ⎥\n",
       "x))⎟⋅(-dx + F₁₁(x)⋅F₂₂(x) - F₁₂(x)⋅F₂₁(x))⎥\n",
       "   ⎠                                      ⎥\n",
       "──────────────────────────────────────────⎥\n",
       "x) - F₁₂(x)⋅F₂₁(x)                        ⎦"
      ]
     },
     "execution_count": 28,
     "metadata": {},
     "output_type": "execute_result"
    }
   ],
   "source": [
    "simplify(temp_1-temp_2*dx)"
   ]
  },
  {
   "cell_type": "markdown",
   "metadata": {},
   "source": [
    "Note that the determinant of $F$ shows up in several places in the above calculation.  Since $F\\in SO(2)$, we can replace these expressions with one.  Doing so yields:"
   ]
  },
  {
   "cell_type": "code",
   "execution_count": 29,
   "metadata": {
    "scrolled": true
   },
   "outputs": [
    {
     "data": {
      "image/png": "[encoded data removed]",
      "text/latex": [
       "$$\\left[\\begin{matrix}dx \\left(\\operatorname{F_{21}}{\\left (x \\right )} \\frac{d}{d x} \\operatorname{F_{12}}{\\left (x \\right )} - \\operatorname{F_{22}}{\\left (x \\right )} \\frac{d}{d x} \\operatorname{F_{11}}{\\left (x \\right )}\\right) - \\operatorname{F_{21}}{\\left (x \\right )} \\frac{d}{d x} \\operatorname{F_{12}}{\\left (x \\right )} + \\operatorname{F_{22}}{\\left (x \\right )} \\frac{d}{d x} \\operatorname{F_{11}}{\\left (x \\right )} & - dx \\left(\\operatorname{F_{11}}{\\left (x \\right )} \\frac{d}{d x} \\operatorname{F_{12}}{\\left (x \\right )} - \\operatorname{F_{12}}{\\left (x \\right )} \\frac{d}{d x} \\operatorname{F_{11}}{\\left (x \\right )}\\right) + \\operatorname{F_{11}}{\\left (x \\right )} \\frac{d}{d x} \\operatorname{F_{12}}{\\left (x \\right )} - \\operatorname{F_{12}}{\\left (x \\right )} \\frac{d}{d x} \\operatorname{F_{11}}{\\left (x \\right )}\\\\dx \\left(\\operatorname{F_{21}}{\\left (x \\right )} \\frac{d}{d x} \\operatorname{F_{22}}{\\left (x \\right )} - \\operatorname{F_{22}}{\\left (x \\right )} \\frac{d}{d x} \\operatorname{F_{21}}{\\left (x \\right )}\\right) - \\operatorname{F_{21}}{\\left (x \\right )} \\frac{d}{d x} \\operatorname{F_{22}}{\\left (x \\right )} + \\operatorname{F_{22}}{\\left (x \\right )} \\frac{d}{d x} \\operatorname{F_{21}}{\\left (x \\right )} & - dx \\left(\\operatorname{F_{11}}{\\left (x \\right )} \\frac{d}{d x} \\operatorname{F_{22}}{\\left (x \\right )} - \\operatorname{F_{12}}{\\left (x \\right )} \\frac{d}{d x} \\operatorname{F_{21}}{\\left (x \\right )}\\right) + \\operatorname{F_{11}}{\\left (x \\right )} \\frac{d}{d x} \\operatorname{F_{22}}{\\left (x \\right )} - \\operatorname{F_{12}}{\\left (x \\right )} \\frac{d}{d x} \\operatorname{F_{21}}{\\left (x \\right )}\\end{matrix}\\right]$$"
      ],
      "text/plain": [
       "⎡   ⎛       d                   d         ⎞          d                   d    \n",
       "⎢dx⋅⎜F₂₁(x)⋅──(F₁₂(x)) - F₂₂(x)⋅──(F₁₁(x))⎟ - F₂₁(x)⋅──(F₁₂(x)) + F₂₂(x)⋅──(F₁\n",
       "⎢   ⎝       dx                  dx        ⎠          dx                  dx   \n",
       "⎢                                                                             \n",
       "⎢   ⎛       d                   d         ⎞          d                   d    \n",
       "⎢dx⋅⎜F₂₁(x)⋅──(F₂₂(x)) - F₂₂(x)⋅──(F₂₁(x))⎟ - F₂₁(x)⋅──(F₂₂(x)) + F₂₂(x)⋅──(F₂\n",
       "⎣   ⎝       dx                  dx        ⎠          dx                  dx   \n",
       "\n",
       "            ⎛       d                   d         ⎞          d                \n",
       "₁(x))  - dx⋅⎜F₁₁(x)⋅──(F₁₂(x)) - F₁₂(x)⋅──(F₁₁(x))⎟ + F₁₁(x)⋅──(F₁₂(x)) - F₁₂(\n",
       "            ⎝       dx                  dx        ⎠          dx               \n",
       "                                                                              \n",
       "            ⎛       d                   d         ⎞          d                \n",
       "₁(x))  - dx⋅⎜F₁₁(x)⋅──(F₂₂(x)) - F₁₂(x)⋅──(F₂₁(x))⎟ + F₁₁(x)⋅──(F₂₂(x)) - F₁₂(\n",
       "            ⎝       dx                  dx        ⎠          dx               \n",
       "\n",
       "   d         ⎤\n",
       "x)⋅──(F₁₁(x))⎥\n",
       "   dx        ⎥\n",
       "             ⎥\n",
       "   d         ⎥\n",
       "x)⋅──(F₂₁(x))⎥\n",
       "   dx        ⎦"
      ]
     },
     "execution_count": 29,
     "metadata": {},
     "output_type": "execute_result"
    }
   ],
   "source": [
    "temp_1 = diff(B,x)*(B.inv()).subs({F11*F22-F12*F21:1, diff(F11,x):d11, diff(F12,x):d12, diff(F21,x):d21, diff(F22,x):d22})\n",
    "temp_2 = simplify(diff(B,x)*(B.inv())).subs({B.det():1})\n",
    "simplify(temp_1-temp_2*dx)"
   ]
  },
  {
   "cell_type": "markdown",
   "metadata": {},
   "source": [
    "Simplifyin Notation, we get:"
   ]
  },
  {
   "cell_type": "code",
   "execution_count": 30,
   "metadata": {},
   "outputs": [
    {
     "data": {
      "image/png": "[encoded data removed]",
      "text/latex": [
       "$$\\left[\\begin{matrix} dF_{11} F_{22} -  dF_{12} F_{21} - dx \\left( F_{11x} F_{22} -  F_{12x} F_{21}\\right) & -  dF_{11} F_{12} +  dF_{12} F_{11} + dx \\left( F_{11x} F_{12} -  F_{12x} F_{11}\\right)\\\\ dF_{21} F_{22} -  dF_{22} F_{21} - dx \\left( F_{21x} F_{22} -  F_{22x} F_{21}\\right) & -  dF_{21} F_{12} +  dF_{22} F_{11} + dx \\left( F_{21x} F_{12} -  F_{22x} F_{11}\\right)\\end{matrix}\\right]$$"
      ],
      "text/plain": [
       "⎡ dF₁₁⋅F₂₂ -  dF₁₂⋅F₂₁ - dx⋅( F_{11x}⋅F₂₂ -  F_{12x}⋅F₂₁)  - dF₁₁⋅F₁₂ +  dF₁₂⋅\n",
       "⎢                                                                             \n",
       "⎣ dF₂₁⋅F₂₂ -  dF₂₂⋅F₂₁ - dx⋅( F_{21x}⋅F₂₂ -  F_{22x}⋅F₂₁)  - dF₂₁⋅F₁₂ +  dF₂₂⋅\n",
       "\n",
       "F₁₁ + dx⋅( F_{11x}⋅F₁₂ -  F_{12x}⋅F₁₁)⎤\n",
       "                                      ⎥\n",
       "F₁₁ + dx⋅( F_{21x}⋅F₁₂ -  F_{22x}⋅F₁₁)⎦"
      ]
     },
     "execution_count": 30,
     "metadata": {},
     "output_type": "execute_result"
    }
   ],
   "source": [
    "temp_3 = simplify(temp_1.subs({diff(F11,x):symbols('\\\\ dF_11'),diff(F12,x):symbols('\\\\ dF_12'),diff(F21,x):symbols('\\\\ dF_21'),diff(F22,x):symbols('\\\\ dF_22')}).subs({F11:symbols('F_11'),F12:symbols('F_12'),F21:symbols('F_21'),F22:symbols('F_22')}))\n",
    "temp_4 = simplify(temp_3-(temp_2.subs({diff(F11,x):symbols('\\\\ F_{11x}'), diff(F12,x):symbols('\\\\ F_{12x}'), diff(F21,x):symbols('\\\\ F_{21x}'), diff(F22,x):symbols('\\\\ F_{22x}')})).subs({F11:symbols('F_11'),F12:symbols('F_12'),F21:symbols('F_21'),F22:symbols('F_22')})*dx)\n",
    "temp_4"
   ]
  },
  {
   "cell_type": "markdown",
   "metadata": {},
   "source": [
    "Finally, we may simplify the above matrix further using the fact that it is an element of $\\bigwedge^1T^*SO(2)\\otimes \\mathfrak{so}(2)$.  This means that it will is in fact anti-symmetric."
   ]
  },
  {
   "cell_type": "code",
   "execution_count": 31,
   "metadata": {},
   "outputs": [
    {
     "data": {
      "image/png": "[encoded data removed]",
      "text/latex": [
       "$$\\left[\\begin{matrix}0 & -  dF_{11} F_{12} +  dF_{12} F_{11} + dx \\left( F_{11x} F_{12} -  F_{12x} F_{11}\\right)\\\\ dF_{21} F_{22} -  dF_{22} F_{21} - dx \\left( F_{21x} F_{22} -  F_{22x} F_{21}\\right) & 0\\end{matrix}\\right]$$"
      ],
      "text/plain": [
       "⎡                           0                              - dF₁₁⋅F₁₂ +  dF₁₂⋅\n",
       "⎢                                                                             \n",
       "⎣ dF₂₁⋅F₂₂ -  dF₂₂⋅F₂₁ - dx⋅( F_{21x}⋅F₂₂ -  F_{22x}⋅F₂₁)                     \n",
       "\n",
       "F₁₁ + dx⋅( F_{11x}⋅F₁₂ -  F_{12x}⋅F₁₁)⎤\n",
       "                                      ⎥\n",
       "         0                            ⎦"
      ]
     },
     "execution_count": 31,
     "metadata": {},
     "output_type": "execute_result"
    }
   ],
   "source": [
    "Matrix([[0,temp_4[0,1]],[temp_4[1,0],0]])"
   ]
  },
  {
   "cell_type": "markdown",
   "metadata": {},
   "source": [
    "# Expression for matrix invariants"
   ]
  },
  {
   "cell_type": "code",
   "execution_count": 32,
   "metadata": {},
   "outputs": [
    {
     "data": {
      "image/png": "[encoded data removed]",
      "text/latex": [
       "$$\\left[\\begin{matrix}0 & - \\frac{\\frac{d}{d x} \\varphi{\\left (x \\right )}}{\\sin{\\left (\\varphi{\\left (x \\right )} \\right )} \\frac{d}{d x} u{\\left (x \\right )} + \\cos{\\left (\\varphi{\\left (x \\right )} \\right )}}\\\\\\frac{\\frac{d}{d x} \\varphi{\\left (x \\right )}}{\\sin{\\left (\\varphi{\\left (x \\right )} \\right )} \\frac{d}{d x} u{\\left (x \\right )} + \\cos{\\left (\\varphi{\\left (x \\right )} \\right )}} & 0\\end{matrix}\\right]$$"
      ],
      "text/plain": [
       "⎡                                                       d                     \n",
       "⎢                                                      -──(varphi(x))         \n",
       "⎢                                                       dx                    \n",
       "⎢                   0                      ───────────────────────────────────\n",
       "⎢                                                         d                   \n",
       "⎢                                          sin(varphi(x))⋅──(u(x)) + cos(varph\n",
       "⎢                                                         dx                  \n",
       "⎢                                                                             \n",
       "⎢             d                                                               \n",
       "⎢             ──(varphi(x))                                                   \n",
       "⎢             dx                                                              \n",
       "⎢────────────────────────────────────────                     0               \n",
       "⎢               d                                                             \n",
       "⎢sin(varphi(x))⋅──(u(x)) + cos(varphi(x))                                     \n",
       "⎣               dx                                                            \n",
       "\n",
       "     ⎤\n",
       "     ⎥\n",
       "     ⎥\n",
       "─────⎥\n",
       "     ⎥\n",
       "i(x))⎥\n",
       "     ⎥\n",
       "     ⎥\n",
       "     ⎥\n",
       "     ⎥\n",
       "     ⎥\n",
       "     ⎥\n",
       "     ⎥\n",
       "     ⎥\n",
       "     ⎦"
      ]
     },
     "execution_count": 32,
     "metadata": {},
     "output_type": "execute_result"
    }
   ],
   "source": [
    "J1 = simplify(F.transpose()*diff(F,x)/((F.transpose()).row(0)*diff(z,x))[0])\n",
    "J1"
   ]
  },
  {
   "cell_type": "code",
   "execution_count": 33,
   "metadata": {},
   "outputs": [
    {
     "data": {
      "image/png": "[encoded data removed]",
      "text/latex": [
       "$$\\left[\\begin{matrix}- \\frac{\\left(\\frac{d}{d x} \\varphi{\\left (x \\right )}\\right)^{2}}{\\sin^{2}{\\left (\\varphi{\\left (x \\right )} \\right )} \\left(\\frac{d}{d x} u{\\left (x \\right )}\\right)^{2} + \\sin{\\left (2 \\varphi{\\left (x \\right )} \\right )} \\frac{d}{d x} u{\\left (x \\right )} + \\cos^{2}{\\left (\\varphi{\\left (x \\right )} \\right )}} & \\frac{- \\sin{\\left (\\varphi{\\left (x \\right )} \\right )} \\frac{d}{d x} u{\\left (x \\right )} \\frac{d^{2}}{d x^{2}} \\varphi{\\left (x \\right )} + \\sin{\\left (\\varphi{\\left (x \\right )} \\right )} \\frac{d^{2}}{d x^{2}} u{\\left (x \\right )} \\frac{d}{d x} \\varphi{\\left (x \\right )} - \\cos{\\left (\\varphi{\\left (x \\right )} \\right )} \\frac{d^{2}}{d x^{2}} \\varphi{\\left (x \\right )}}{\\left(\\sin{\\left (\\varphi{\\left (x \\right )} \\right )} \\frac{d}{d x} u{\\left (x \\right )} + \\cos{\\left (\\varphi{\\left (x \\right )} \\right )}\\right)^{3}}\\\\\\frac{\\sin{\\left (\\varphi{\\left (x \\right )} \\right )} \\frac{d}{d x} u{\\left (x \\right )} \\frac{d^{2}}{d x^{2}} \\varphi{\\left (x \\right )} - \\sin{\\left (\\varphi{\\left (x \\right )} \\right )} \\frac{d^{2}}{d x^{2}} u{\\left (x \\right )} \\frac{d}{d x} \\varphi{\\left (x \\right )} + \\cos{\\left (\\varphi{\\left (x \\right )} \\right )} \\frac{d^{2}}{d x^{2}} \\varphi{\\left (x \\right )}}{\\left(\\sin{\\left (\\varphi{\\left (x \\right )} \\right )} \\frac{d}{d x} u{\\left (x \\right )} + \\cos{\\left (\\varphi{\\left (x \\right )} \\right )}\\right)^{3}} & - \\frac{\\left(\\frac{d}{d x} \\varphi{\\left (x \\right )}\\right)^{2}}{\\sin^{2}{\\left (\\varphi{\\left (x \\right )} \\right )} \\left(\\frac{d}{d x} u{\\left (x \\right )}\\right)^{2} + \\sin{\\left (2 \\varphi{\\left (x \\right )} \\right )} \\frac{d}{d x} u{\\left (x \\right )} + \\cos^{2}{\\left (\\varphi{\\left (x \\right )} \\right )}}\\end{matrix}\\right]$$"
      ],
      "text/plain": [
       "⎡                                                                             \n",
       "⎢                                                               2             \n",
       "⎢                                                ⎛d            ⎞              \n",
       "⎢                                               -⎜──(varphi(x))⎟              \n",
       "⎢                                                ⎝dx           ⎠              \n",
       "⎢                   ──────────────────────────────────────────────────────────\n",
       "⎢                                             2                               \n",
       "⎢                      2            ⎛d       ⎞                     d          \n",
       "⎢                   sin (varphi(x))⋅⎜──(u(x))⎟  + sin(2⋅varphi(x))⋅──(u(x)) + \n",
       "⎢                                   ⎝dx      ⎠                     dx         \n",
       "⎢                                                                             \n",
       "⎢                          2                               2                  \n",
       "⎢               d         d                               d        d          \n",
       "⎢sin(varphi(x))⋅──(u(x))⋅───(varphi(x)) - sin(varphi(x))⋅───(u(x))⋅──(varphi(x\n",
       "⎢               dx         2                               2       dx         \n",
       "⎢                        dx                              dx                   \n",
       "⎢─────────────────────────────────────────────────────────────────────────────\n",
       "⎢                                                                            3\n",
       "⎢                                  ⎛               d                        ⎞ \n",
       "⎢                                  ⎜sin(varphi(x))⋅──(u(x)) + cos(varphi(x))⎟ \n",
       "⎣                                  ⎝               dx                       ⎠ \n",
       "\n",
       "                                                                2             \n",
       "                                                     d         d              \n",
       "                                    - sin(varphi(x))⋅──(u(x))⋅───(varphi(x)) +\n",
       "                                                     dx         2             \n",
       "                                                              dx              \n",
       "───────────────                     ──────────────────────────────────────────\n",
       "                                                                              \n",
       "   2                                                                   ⎛      \n",
       "cos (varphi(x))                                                        ⎜sin(va\n",
       "                                                                       ⎝      \n",
       "                                                                              \n",
       "                      2                                                       \n",
       "                     d                                                        \n",
       ")) + cos(varphi(x))⋅───(varphi(x))                                            \n",
       "                      2                                                       \n",
       "                    dx                                                        \n",
       "──────────────────────────────────                      ──────────────────────\n",
       "                                                                              \n",
       "                                                           2            ⎛d    \n",
       "                                                        sin (varphi(x))⋅⎜──(u(\n",
       "                                                                        ⎝dx   \n",
       "\n",
       "                  2                                        2           ⎤\n",
       "                 d        d                               d            ⎥\n",
       " sin(varphi(x))⋅───(u(x))⋅──(varphi(x)) - cos(varphi(x))⋅───(varphi(x))⎥\n",
       "                  2       dx                               2           ⎥\n",
       "                dx                                       dx            ⎥\n",
       "───────────────────────────────────────────────────────────────────────⎥\n",
       "                                   3                                   ⎥\n",
       "         d                        ⎞                                    ⎥\n",
       "rphi(x))⋅──(u(x)) + cos(varphi(x))⎟                                    ⎥\n",
       "         dx                       ⎠                                    ⎥\n",
       "                                                                       ⎥\n",
       "                                                                       ⎥\n",
       "                      2                                                ⎥\n",
       "       ⎛d            ⎞                                                 ⎥\n",
       "      -⎜──(varphi(x))⎟                                                 ⎥\n",
       "       ⎝dx           ⎠                                                 ⎥\n",
       "───────────────────────────────────────────────────                    ⎥\n",
       "    2                                                                  ⎥\n",
       "   ⎞                     d             2                               ⎥\n",
       "x))⎟  + sin(2⋅varphi(x))⋅──(u(x)) + cos (varphi(x))                    ⎥\n",
       "   ⎠                     dx                                            ⎦"
      ]
     },
     "execution_count": 33,
     "metadata": {},
     "output_type": "execute_result"
    }
   ],
   "source": [
    "J2 = simplify((((F.transpose()).row(0)*diff(z,x))[0]*(F.transpose())*diff(F,x,2) - (((F.transpose()).row(0)*diff(z,x,2))[0]*(F.transpose())*diff(F,x)))/((F.transpose()).row(0)*diff(z,x))[0]**3)\n",
    "J2"
   ]
  },
  {
   "cell_type": "markdown",
   "metadata": {},
   "source": [
    "From the calculations above, we find that\n",
    "\n",
    "$$\\iota(F_x) = \\begin{bmatrix} 0 & -I^\\varphi_1 \\\\ I^\\varphi_1 & 0 \\end{bmatrix}$$\n",
    "\n",
    "and\n",
    "\n",
    "$$\\iota(F_{xx}) = \\begin{bmatrix} -(I^\\varphi_1)^2 & -I^\\varphi_2 \\\\ I^\\varphi_2 & -(I^\\varphi_1)^2 \\end{bmatrix}$$"
   ]
  },
  {
   "cell_type": "markdown",
   "metadata": {},
   "source": [
    "# Infinitesimal generator $v_3$"
   ]
  },
  {
   "cell_type": "code",
   "execution_count": 34,
   "metadata": {},
   "outputs": [
    {
     "data": {
      "image/png": "[encoded data removed]",
      "text/latex": [
       "$$\\left [ - u{\\left (x \\right )}, \\quad x, \\quad - \\operatorname{F_{21}}{\\left (x \\right )}, \\quad - \\operatorname{F_{22}}{\\left (x \\right )}, \\quad \\operatorname{F_{11}}{\\left (x \\right )}, \\quad \\operatorname{F_{12}}{\\left (x \\right )}\\right ]$$"
      ],
      "text/plain": [
       "[-u(x), x, -F₂₁(x), -F₂₂(x), F₁₁(x), F₁₂(x)]"
      ]
     },
     "execution_count": 34,
     "metadata": {},
     "output_type": "execute_result"
    }
   ],
   "source": [
    "A = [['x'], ['u','F11','F12','F21','F22']]\n",
    "v3 = [diff(X,psi).subs(identity),diff(U,psi).subs(identity)]+flatten(diff(R*B, psi).subs(identity))\n",
    "v3"
   ]
  },
  {
   "cell_type": "code",
   "execution_count": 35,
   "metadata": {},
   "outputs": [
    {
     "data": {
      "image/png": "[encoded data removed]",
      "text/latex": [
       "$$\\left [ - u{\\left (x \\right )}, \\quad x, \\quad - \\operatorname{F_{21}}{\\left (x \\right )}, \\quad - \\operatorname{F_{22}}{\\left (x \\right )}, \\quad \\operatorname{F_{11}}{\\left (x \\right )}, \\quad \\operatorname{F_{12}}{\\left (x \\right )}, \\quad u_{x} \\frac{d}{d x} u{\\left (x \\right )} + 1, \\quad F_{11 x} \\frac{d}{d x} u{\\left (x \\right )} - \\frac{d}{d x} \\operatorname{F_{21}}{\\left (x \\right )}, \\quad F_{12 x} \\frac{d}{d x} u{\\left (x \\right )} - \\frac{d}{d x} \\operatorname{F_{22}}{\\left (x \\right )}, \\quad F_{21 x} \\frac{d}{d x} u{\\left (x \\right )} + \\frac{d}{d x} \\operatorname{F_{11}}{\\left (x \\right )}, \\quad F_{22 x} \\frac{d}{d x} u{\\left (x \\right )} + \\frac{d}{d x} \\operatorname{F_{12}}{\\left (x \\right )}\\right ]$$"
      ],
      "text/plain": [
       "⎡                                               d                   d         \n",
       "⎢-u(x), x, -F₂₁(x), -F₂₂(x), F₁₁(x), F₁₂(x), uₓ⋅──(u(x)) + 1, F₁₁ ₓ⋅──(u(x)) -\n",
       "⎣                                               dx                  dx        \n",
       "\n",
       " d                 d          d                 d          d                 d\n",
       " ──(F₂₁(x)), F₁₂ ₓ⋅──(u(x)) - ──(F₂₂(x)), F₂₁ ₓ⋅──(u(x)) + ──(F₁₁(x)), F₂₂ ₓ⋅─\n",
       " dx                dx         dx                dx         dx                d\n",
       "\n",
       "          d         ⎤\n",
       "─(u(x)) + ──(F₁₂(x))⎥\n",
       "x         dx        ⎦"
      ]
     },
     "execution_count": 35,
     "metadata": {},
     "output_type": "execute_result"
    }
   ],
   "source": [
    "pr1_v3 = lp.Prolong(A, v3, 1)\n",
    "pr1_v3"
   ]
  },
  {
   "cell_type": "markdown",
   "metadata": {},
   "source": [
    "### The following two matrices help keep track of the coordinates for the various components of $v_3$"
   ]
  },
  {
   "cell_type": "code",
   "execution_count": 36,
   "metadata": {},
   "outputs": [
    {
     "data": {
      "image/png": "[encoded data removed]",
      "text/latex": [
       "$$\\left[\\begin{matrix}- \\operatorname{F_{21}}{\\left (x \\right )} & - \\operatorname{F_{22}}{\\left (x \\right )}\\\\\\operatorname{F_{11}}{\\left (x \\right )} & \\operatorname{F_{12}}{\\left (x \\right )}\\end{matrix}\\right]$$"
      ],
      "text/plain": [
       "⎡-F₂₁(x)  -F₂₂(x)⎤\n",
       "⎢                ⎥\n",
       "⎣F₁₁(x)   F₁₂(x) ⎦"
      ]
     },
     "execution_count": 36,
     "metadata": {},
     "output_type": "execute_result"
    }
   ],
   "source": [
    "Matrix([pr1_v3[2:4],pr1_v3[4:6]])"
   ]
  },
  {
   "cell_type": "code",
   "execution_count": 37,
   "metadata": {},
   "outputs": [
    {
     "data": {
      "image/png": "[encoded data removed]",
      "text/latex": [
       "$$\\left[\\begin{matrix}F_{11 x} \\frac{d}{d x} u{\\left (x \\right )} - \\frac{d}{d x} \\operatorname{F_{21}}{\\left (x \\right )} & F_{12 x} \\frac{d}{d x} u{\\left (x \\right )} - \\frac{d}{d x} \\operatorname{F_{22}}{\\left (x \\right )}\\\\F_{21 x} \\frac{d}{d x} u{\\left (x \\right )} + \\frac{d}{d x} \\operatorname{F_{11}}{\\left (x \\right )} & F_{22 x} \\frac{d}{d x} u{\\left (x \\right )} + \\frac{d}{d x} \\operatorname{F_{12}}{\\left (x \\right )}\\end{matrix}\\right]$$"
      ],
      "text/plain": [
       "⎡      d          d                 d          d         ⎤\n",
       "⎢F₁₁ ₓ⋅──(u(x)) - ──(F₂₁(x))  F₁₂ ₓ⋅──(u(x)) - ──(F₂₂(x))⎥\n",
       "⎢      dx         dx                dx         dx        ⎥\n",
       "⎢                                                        ⎥\n",
       "⎢      d          d                 d          d         ⎥\n",
       "⎢F₂₁ ₓ⋅──(u(x)) + ──(F₁₁(x))  F₂₂ ₓ⋅──(u(x)) + ──(F₁₂(x))⎥\n",
       "⎣      dx         dx                dx         dx        ⎦"
      ]
     },
     "execution_count": 37,
     "metadata": {},
     "output_type": "execute_result"
    }
   ],
   "source": [
    "Matrix([pr1_v3[7:9],pr1_v3[9:11]])"
   ]
  },
  {
   "cell_type": "markdown",
   "metadata": {},
   "source": [
    "# Lie Derivatives in General Matrix Coordinates"
   ]
  },
  {
   "cell_type": "code",
   "execution_count": 38,
   "metadata": {},
   "outputs": [],
   "source": [
    "A = [['x'],['u','F11','F12','F21','F22']]\n",
    "n = 1\n",
    "v1 = [-symbols('u'),x,-symbols('F21'),-symbols('F22'),symbols('F11'),symbols('F12')]\n",
    "pr_v1 = lp.Prolong(A, v1, n)\n",
    "w1 = [symbols('F12')*symbols('F11_x')-symbols('F11')*symbols('F12_x'), 0, -symbols('F12'), symbols('F11'), 0, 0]\n",
    "w2 = [symbols('F21')*symbols('F22_x')-symbols('F22')*symbols('F21_x'), 0, 0, 0, symbols('F22'), -symbols('F21')]"
   ]
  },
  {
   "cell_type": "code",
   "execution_count": 39,
   "metadata": {},
   "outputs": [
    {
     "data": {
      "image/png": "[encoded data removed]",
      "text/latex": [
       "$$- F_{11} \\theta^{F22} + F_{12} \\theta^{F21} - F_{21} \\theta^{F12} + F_{22} \\theta^{F11} + \\left(F_{11} F_{12 x} - F_{11 x} F_{12}\\right) \\theta^{u}$$"
      ],
      "text/plain": [
       "-F₁₁⋅θ__F22 + F₁₂⋅θ__F21 - F₂₁⋅θ__F12 + F₂₂⋅θ__F11 + (F₁₁⋅F₁₂ ₓ - F₁₁ ₓ⋅F₁₂)⋅θ\n",
       "__u"
      ]
     },
     "execution_count": 39,
     "metadata": {},
     "output_type": "execute_result"
    }
   ],
   "source": [
    "lp.Lie_derivative(A, n, pr_v1, w1)"
   ]
  },
  {
   "cell_type": "code",
   "execution_count": 40,
   "metadata": {},
   "outputs": [
    {
     "data": {
      "image/png": "[encoded data removed]",
      "text/latex": [
       "$$- F_{11} \\theta^{F22} + F_{12} \\theta^{F21} - F_{21} \\theta^{F12} + F_{22} \\theta^{F11} + \\left(- F_{21} F_{22 x} + F_{21 x} F_{22}\\right) \\theta^{u}$$"
      ],
      "text/plain": [
       "-F₁₁⋅θ__F22 + F₁₂⋅θ__F21 - F₂₁⋅θ__F12 + F₂₂⋅θ__F11 + (-F₂₁⋅F₂₂ ₓ + F₂₁ ₓ⋅F₂₂)⋅\n",
       "θ__u"
      ]
     },
     "execution_count": 40,
     "metadata": {},
     "output_type": "execute_result"
    }
   ],
   "source": [
    "lp.Lie_derivative(A, n, pr_v1,w2)"
   ]
  },
  {
   "cell_type": "markdown",
   "metadata": {},
   "source": [
    "# Create Dictionary to Compute the Pullback of the Basic Contact Form"
   ]
  },
  {
   "cell_type": "code",
   "execution_count": 41,
   "metadata": {},
   "outputs": [],
   "source": [
    "pullback = {symbols('F11'): cos(phi), symbols('F12'): -sin(phi), symbols('F21'): sin(phi), symbols('F22'): cos(phi),\n",
    "            symbols('F11_x'): -sin(phi)*symbols('varphi_x'), symbols('F12_x'): -cos(phi)*symbols('varphi_x'),\n",
    "            symbols('F21_x'): cos(phi)*symbols('varphi_x'), symbols('F22_x'): -sin(phi)*symbols('varphi_x'),\n",
    "            symbols('theta^F11', commutative=False): -sin(phi)*symbols('\\\\theta^\\\\varphi'),\n",
    "            symbols('theta^F12', commutative=False): -cos(phi)*symbols('\\\\theta^\\\\varphi'),\n",
    "            symbols('theta^F21', commutative=False):  cos(phi)*symbols('\\\\theta^\\\\varphi'),\n",
    "            symbols('theta^F22', commutative=False): -sin(phi)*symbols('\\\\theta^\\\\varphi')}"
   ]
  },
  {
   "cell_type": "code",
   "execution_count": 42,
   "metadata": {},
   "outputs": [
    {
     "data": {
      "image/png": "[encoded data removed]",
      "text/latex": [
       "$$- \\varphi_{x} \\theta^{u}$$"
      ],
      "text/plain": [
       "-varphiₓ⋅θ__u"
      ]
     },
     "execution_count": 42,
     "metadata": {},
     "output_type": "execute_result"
    }
   ],
   "source": [
    "simplify(lp.Lie_derivative(A, n, pr_v1,w1).subs(pullback))"
   ]
  },
  {
   "cell_type": "code",
   "execution_count": 43,
   "metadata": {},
   "outputs": [
    {
     "data": {
      "image/png": "[encoded data removed]",
      "text/latex": [
       "$$\\varphi_{x} \\theta^{u}$$"
      ],
      "text/plain": [
       "varphiₓ⋅θ__u"
      ]
     },
     "execution_count": 43,
     "metadata": {},
     "output_type": "execute_result"
    }
   ],
   "source": [
    "simplify(lp.Lie_derivative(A, n, pr_v1,w2).subs(pullback))"
   ]
  },
  {
   "cell_type": "markdown",
   "metadata": {},
   "source": [
    "# Determining W"
   ]
  },
  {
   "cell_type": "code",
   "execution_count": 44,
   "metadata": {},
   "outputs": [],
   "source": [
    "differentials = {diff(F11,x):d11, diff(F12,x):d12, diff(F21,x):d21, diff(F22,x):d22}\n",
    "S = {u:symbols('u'),F11:symbols('F_11'),F12:symbols('F_12'),F21:symbols('F_21'),F22:symbols('F_22'),\n",
    "    diff(F11,x):symbols('F_{11x}'),diff(F12,x):symbols('F_{12x}'),diff(F21,x):symbols('F_{21x}'),diff(F22,x):symbols('F_{22x}')}\n",
    "\n",
    "X = (T*z)[0] + a \n",
    "U = (T*z)[1] + b\n",
    "B_new = T*B\n",
    "\n",
    "U_x = diff(U,x)/diff(X,x)\n",
    "Bx_new = T*diff(B,x)/diff(X,x)\n",
    "\n",
    "invariantize = {T11:symbols('F11'),T12:symbols('F21'),T21:symbols('F12'),T22:symbols('F22')}"
   ]
  },
  {
   "cell_type": "code",
   "execution_count": 45,
   "metadata": {},
   "outputs": [],
   "source": [
    "def pullback_vect_rep(A, w):\n",
    "    temp = []\n",
    "    contact_syms = lp.Contact_sym_plain_nc(A,1)[1:]\n",
    "    for i in range(len(A[1])):\n",
    "        temp.append(simplify(w.subs({contact_syms[i]:1}).subs(dict((p,0) for p in contact_syms))))\n",
    "    return temp\n",
    "\n",
    "def inv_contact_simple(A, X, f, fx):\n",
    "    temp = simplify(lp.inv_contact(A, 1, X, f, fx).subs(invariantize))\n",
    "    return sum([(a)*b for a,b in zip(pullback_vect_rep(A, temp), lp.Contact_sym_plain_nc(A,1)[1:])])"
   ]
  },
  {
   "cell_type": "code",
   "execution_count": 46,
   "metadata": {},
   "outputs": [
    {
     "data": {
      "image/png": "[encoded data removed]",
      "text/latex": [
       "$$\\frac{\\left(F_{11} F_{22} - F_{12} F_{21}\\right) \\theta^{u}}{F_{11} + F_{21} u_{x}}$$"
      ],
      "text/plain": [
       "(F₁₁⋅F₂₂ - F₁₂⋅F₂₁)⋅θ__u\n",
       "────────────────────────\n",
       "      F₁₁ + F₂₁⋅uₓ      "
      ]
     },
     "execution_count": 46,
     "metadata": {},
     "output_type": "execute_result"
    }
   ],
   "source": [
    "inv_contact_simple(A, X, U, U_x)"
   ]
  },
  {
   "cell_type": "code",
   "execution_count": 47,
   "metadata": {},
   "outputs": [
    {
     "data": {
      "image/png": "[encoded data removed]",
      "text/latex": [
       "$$F_{12} \\theta^{F11} - \\frac{F_{21} \\left(F_{11 x} F_{12} + F_{21 x} F_{22}\\right) \\theta^{u}}{F_{11} + F_{21} u_{x}} + F_{22} \\theta^{F21}$$"
      ],
      "text/plain": [
       "             F₂₁⋅(F₁₁ ₓ⋅F₁₂ + F₂₁ ₓ⋅F₂₂)⋅θ__u             \n",
       "F₁₂⋅θ__F11 - ──────────────────────────────── + F₂₂⋅θ__F21\n",
       "                       F₁₁ + F₂₁⋅uₓ                       "
      ]
     },
     "execution_count": 47,
     "metadata": {},
     "output_type": "execute_result"
    }
   ],
   "source": [
    "inv_contact_simple(A, X, B_new[1,0], Bx_new[1,0])"
   ]
  },
  {
   "cell_type": "markdown",
   "metadata": {},
   "source": [
    "using the above expressions and various relations, we see that \n",
    "$$\\vartheta^u_0 = \\frac{F_{11}F_{22} - F_{12} F_{21}}{F_{11} + F_{21} u_{x}}  \\theta^{u}_0.$$\n",
    "\n",
    "$$\\vartheta^2_0 = - \\frac{F_{21} \\left(F_{11 x} F_{12} + F_{21 x} F_{22}\\right)}{F_{11} + F_{21} u_{x}}  \\theta^{u}_0 + \\theta^{2}_0.$$\n",
    "Simplifying the last expression gives:\n",
    "$$\\vartheta^2_0 = F_{21} \\tilde{F}_{12} \\theta^{u} + \\theta^{2}_0$$"
   ]
  }
 ],
 "metadata": {
  "kernelspec": {
   "display_name": "Python 3",
   "language": "python",
   "name": "python3"
  },
  "language_info": {
   "codemirror_mode": {
    "name": "ipython",
    "version": 3
   },
   "file_extension": ".py",
   "mimetype": "text/x-python",
   "name": "python",
   "nbconvert_exporter": "python",
   "pygments_lexer": "ipython3",
   "version": "3.7.3"
  }
 },
 "nbformat": 4,
 "nbformat_minor": 2
}

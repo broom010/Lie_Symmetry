{
 "cells": [
  {
   "cell_type": "markdown",
   "metadata": {},
   "source": [
    "# Derivation of the invariant Euler Lagrange equations for SE(2) invariant Lagrangians defined over two-dimensional framed curves\n",
    "<br/>\n",
    "\n",
    "This notebook is dedicated to providing the calculations that go into deriving the invariant Euler Lagrange equations for SE(2) invariant Lagrangians defined over two-dimensional framed curves.  We will rely heavily on the LieSympy module, which was also written by this author.  For the two dimensional case, we can initialize a group action object using the Lie Sympy module and use the attributes of the object to provide many of the ingredients for our derivation.  At times, we will also invoke various methods that provide additional information.\n",
    "\n",
    "We begin this process by first importing the necessary modules for our work.\n",
    "\n",
    "<br/>"
   ]
  },
  {
   "cell_type": "code",
   "execution_count": 1,
   "metadata": {
    "collapsed": true
   },
   "outputs": [],
   "source": [
    "from sympy import *\n",
    "from itertools import *\n",
    "import LieSympy as lp\n",
    "import numpy as np\n",
    "init_printing()"
   ]
  },
  {
   "cell_type": "markdown",
   "metadata": {},
   "source": [
    "# Initialized the Group Action Object\n",
    "<br/>\n",
    "We start by initializing a group action object.  The class groupAction as defined in the LieSympy module is initialized by providing a set of coordinates for $X\\times U$, a set of coordinates for $G$, and a parameter $n$ that represents the highest order jet space needed for the calculations.  There is certainly a minimal accepted value of $n$, but choosing an $n$ that is larger than the minimal value will not change any calculations.  However, it will increase the memory required to store group action objects.\n",
    "<br/>\n",
    "\n",
    "After initializing the group action object, we invoke a method named Def_transformation().  This method takes three arguements, these being, the expression for the group action (provided as sympy expressions in a list T), a group identity (provided by a list of numbers), and a cross-section, K, (provided as a list of two lists, one being the coordinate functions, and the other being the values of these functions on the cross-section).\n",
    "\n",
    "<br/>\n",
    "The def_transformation() method assigns many attributes to the group action object including:\n",
    "\n",
    "* A list of infinitesimal generators\n",
    "* The moving frame\n",
    "* The recurrence relations for differential invariants\n",
    "* Various substitution dictionaries required for calculations \n",
    "\n",
    "<br/>"
   ]
  },
  {
   "cell_type": "code",
   "execution_count": 2,
   "metadata": {},
   "outputs": [],
   "source": [
    "g = lp.groupAction([['x'],['u','P']],['a','b','psi'],2)\n",
    "\n",
    "# Define the expressions in terms of variables in the lp module\n",
    "X_expr = cos(lp.psi)*lp.x-sin(lp.psi)*lp.u+lp.a\n",
    "U_expr =  sin(lp.psi)*lp.x+cos(lp.psi)*lp.u+lp.b\n",
    "P_expr = lp.P+lp.psi\n",
    "\n",
    "# Define the group transformation, identity, and cross-section\n",
    "T = [X_expr, U_expr, P_expr]\n",
    "grp_id = [0,0,0]\n",
    "K = [[0,0,0],[lp.x,lp.u,lp.P]]\n",
    "\n",
    "# Instantiate the group action object\n",
    "g.Def_transformation(T,grp_id,K)"
   ]
  },
  {
   "cell_type": "markdown",
   "metadata": {},
   "source": [
    "# Attributes of the group action object\n",
    "<br/>\n",
    "The following lines of code display several key attributes of the group action object.  The attributes that are displayed below play an important role in deriving the invariant Euler-Lagrange equations for our problem.\n",
    "\n",
    "<br/>"
   ]
  },
  {
   "cell_type": "code",
   "execution_count": 3,
   "metadata": {},
   "outputs": [
    {
     "data": {
      "image/png": "[encoded data removed]",
      "text/latex": [
       "$$\\left \\{ P : P + \\psi, \\quad P_{x} : \\frac{P_{x}}{- u_{x} \\sin{\\left (\\psi \\right )} + \\cos{\\left (\\psi \\right )}}, \\quad P_{xx} : \\frac{- P_{x} u_{xx} \\sin{\\left (\\psi \\right )} + P_{xx} \\left(u_{x} \\sin{\\left (\\psi \\right )} - \\cos{\\left (\\psi \\right )}\\right)}{\\left(u_{x} \\sin{\\left (\\psi \\right )} - \\cos{\\left (\\psi \\right )}\\right)^{3}}, \\quad u : b + u \\cos{\\left (\\psi \\right )} + x \\sin{\\left (\\psi \\right )}, \\quad u_{x} : \\frac{u_{x} \\cos{\\left (\\psi \\right )} + \\sin{\\left (\\psi \\right )}}{- u_{x} \\sin{\\left (\\psi \\right )} + \\cos{\\left (\\psi \\right )}}, \\quad u_{xx} : - \\frac{u_{xx}}{\\left(u_{x} \\sin{\\left (\\psi \\right )} - \\cos{\\left (\\psi \\right )}\\right)^{3}}, \\quad x : a - u \\sin{\\left (\\psi \\right )} + x \\cos{\\left (\\psi \\right )}\\right \\}$$"
      ],
      "text/plain": [
       "⎧                       Pₓ               -Pₓ⋅uₓₓ⋅sin(ψ) + Pₓₓ⋅(uₓ⋅sin(ψ) - cos\n",
       "⎪P: P + ψ, Pₓ: ───────────────────, Pₓₓ: ─────────────────────────────────────\n",
       "⎨              -uₓ⋅sin(ψ) + cos(ψ)                                     3      \n",
       "⎪                                                  (uₓ⋅sin(ψ) - cos(ψ))       \n",
       "⎩                                                                             \n",
       "\n",
       "(ψ))                                   uₓ⋅cos(ψ) + sin(ψ)               -uₓₓ  \n",
       "────, u: b + u⋅cos(ψ) + x⋅sin(ψ), uₓ: ───────────────────, uₓₓ: ──────────────\n",
       "                                      -uₓ⋅sin(ψ) + cos(ψ)                     \n",
       "                                                                (uₓ⋅sin(ψ) - c\n",
       "                                                                              \n",
       "\n",
       "                                   ⎫\n",
       "───────, x: a - u⋅sin(ψ) + x⋅cos(ψ)⎪\n",
       "      3                            ⎬\n",
       "os(ψ))                             ⎪\n",
       "                                   ⎭"
      ]
     },
     "execution_count": 3,
     "metadata": {},
     "output_type": "execute_result"
    }
   ],
   "source": [
    "g.transformed_subs_backward"
   ]
  },
  {
   "cell_type": "code",
   "execution_count": 4,
   "metadata": {},
   "outputs": [
    {
     "data": {
      "image/png": "[encoded data removed]",
      "text/latex": [
       "$$\\left \\{ H : 0, \\quad I^{P}_{0} : 0, \\quad I^{P}_{1} : \\frac{P_{x}}{u_{x} \\sin{\\left (P \\right )} + \\cos{\\left (P \\right )}}, \\quad I^{P}_{2} : \\frac{- P_{x} u_{xx} \\sin{\\left (P \\right )} + P_{xx} \\left(u_{x} \\sin{\\left (P \\right )} + \\cos{\\left (P \\right )}\\right)}{\\left(u_{x} \\sin{\\left (P \\right )} + \\cos{\\left (P \\right )}\\right)^{3}}, \\quad I^{u}_{0} : 0, \\quad I^{u}_{1} : \\frac{u_{x} \\cos{\\left (P \\right )} - \\sin{\\left (P \\right )}}{u_{x} \\sin{\\left (P \\right )} + \\cos{\\left (P \\right )}}, \\quad I^{u}_{2} : \\frac{u_{xx}}{\\left(u_{x} \\sin{\\left (P \\right )} + \\cos{\\left (P \\right )}\\right)^{3}}\\right \\}$$"
      ],
      "text/plain": [
       "⎧                                 Pₓ                  -Pₓ⋅uₓₓ⋅sin(P) + Pₓₓ⋅(uₓ\n",
       "⎪H: 0, I_0__P: 0, I_1__P: ──────────────────, I_2__P: ────────────────────────\n",
       "⎨                         uₓ⋅sin(P) + cos(P)                                  \n",
       "⎪                                                               (uₓ⋅sin(P) + c\n",
       "⎩                                                                             \n",
       "\n",
       "⋅sin(P) + cos(P))                     uₓ⋅cos(P) - sin(P)                   uₓₓ\n",
       "─────────────────, I_0__u: 0, I_1__u: ──────────────────, I_2__u: ────────────\n",
       "      3                               uₓ⋅sin(P) + cos(P)                      \n",
       "os(P))                                                            (uₓ⋅sin(P) +\n",
       "                                                                              \n",
       "\n",
       "         ⎫\n",
       "─────────⎪\n",
       "        3⎬\n",
       " cos(P)) ⎪\n",
       "         ⎭"
      ]
     },
     "execution_count": 4,
     "metadata": {},
     "output_type": "execute_result"
    }
   ],
   "source": [
    "g.normals"
   ]
  },
  {
   "cell_type": "code",
   "execution_count": 5,
   "metadata": {},
   "outputs": [
    {
     "data": {
      "image/png": "[encoded data removed]",
      "text/latex": [
       "$$\\left \\{ a : - u \\sin{\\left (P \\right )} - x \\cos{\\left (P \\right )}, \\quad b : - u \\cos{\\left (P \\right )} + x \\sin{\\left (P \\right )}, \\quad \\psi : - P\\right \\}$$"
      ],
      "text/plain": [
       "{a: -u⋅sin(P) - x⋅cos(P), b: -u⋅cos(P) + x⋅sin(P), ψ: -P}"
      ]
     },
     "execution_count": 5,
     "metadata": {},
     "output_type": "execute_result"
    }
   ],
   "source": [
    "g.frame"
   ]
  },
  {
   "cell_type": "code",
   "execution_count": 6,
   "metadata": {},
   "outputs": [
    {
     "data": {
      "image/png": "[encoded data removed]",
      "text/latex": [
       "$$\\left [ \\left [ 1, \\quad 0, \\quad 0\\right ], \\quad \\left [ 0, \\quad 1, \\quad 0\\right ], \\quad \\left [ - u, \\quad x, \\quad 1\\right ]\\right ]$$"
      ],
      "text/plain": [
       "[[1, 0, 0], [0, 1, 0], [-u, x, 1]]"
      ]
     },
     "execution_count": 6,
     "metadata": {},
     "output_type": "execute_result"
    }
   ],
   "source": [
    "g.vectors"
   ]
  },
  {
   "cell_type": "code",
   "execution_count": 7,
   "metadata": {},
   "outputs": [
    {
     "data": {
      "image/png": "[encoded data removed]",
      "text/latex": [
       "$$\\left \\{ R_{1} : -1, \\quad R_{2} : - I^{u}_{1}, \\quad R_{3} : - I^{P}_{1}\\right \\}$$"
      ],
      "text/plain": [
       "{R₁: -1, R₂: -I_1__u, R₃: -I_1__P}"
      ]
     },
     "execution_count": 7,
     "metadata": {},
     "output_type": "execute_result"
    }
   ],
   "source": [
    "g.mc_invariants"
   ]
  },
  {
   "cell_type": "code",
   "execution_count": 8,
   "metadata": {},
   "outputs": [
    {
     "data": {
      "image/png": "[encoded data removed]",
      "text/latex": [
       "$$\\left \\{ \\varepsilon_{1} : 0, \\quad \\varepsilon_{2} : - \\vartheta^{u}, \\quad \\varepsilon_{3} : - \\vartheta^{P}\\right \\}$$"
      ],
      "text/plain": [
       "{varepsilon₁: 0, varepsilon₂: -vartheta__u, varepsilon₃: -vartheta__P}"
      ]
     },
     "execution_count": 8,
     "metadata": {},
     "output_type": "execute_result"
    }
   ],
   "source": [
    "g.rec_forms"
   ]
  },
  {
   "cell_type": "code",
   "execution_count": 9,
   "metadata": {},
   "outputs": [
    {
     "data": {
      "image/png": "[encoded data removed]",
      "text/latex": [
       "$$\\left \\{ \\vartheta^{P}_{1} : D_{x} \\vartheta^{P} + \\left(\\kappa^{P}\\right)^{2} \\vartheta^{u}, \\quad \\vartheta^{u}_{1} : \\vartheta^{u} \\left(D_{x} + \\kappa^{P} \\kappa^{u}\\right)\\right \\}$$"
      ],
      "text/plain": [
       "⎧                                    2                                        \n",
       "⎨vartheta_1__P: Dₓ⋅vartheta__P + κ__P ⋅vartheta__u, vartheta_1__u: vartheta__u\n",
       "⎩                                                                             \n",
       "\n",
       "                 ⎫\n",
       "⋅(Dₓ + κ__P⋅κ__u)⎬\n",
       "                 ⎭"
      ]
     },
     "execution_count": 9,
     "metadata": {},
     "output_type": "execute_result"
    }
   ],
   "source": [
    "g.contact_reduction"
   ]
  },
  {
   "cell_type": "markdown",
   "metadata": {},
   "source": [
    "# Prolongation of Infinitesimal Generators"
   ]
  },
  {
   "cell_type": "code",
   "execution_count": 10,
   "metadata": {},
   "outputs": [
    {
     "data": {
      "image/png": "[encoded data removed]",
      "text/latex": [
       "$$\\left [ 1, \\quad 0, \\quad 0, \\quad 0, \\quad 0, \\quad 0, \\quad 0\\right ]$$"
      ],
      "text/plain": [
       "[1, 0, 0, 0, 0, 0, 0]"
      ]
     },
     "execution_count": 10,
     "metadata": {},
     "output_type": "execute_result"
    }
   ],
   "source": [
    "g.Prolong(g.vectors[0],2)"
   ]
  },
  {
   "cell_type": "code",
   "execution_count": 11,
   "metadata": {},
   "outputs": [
    {
     "data": {
      "image/png": "[encoded data removed]",
      "text/latex": [
       "$$\\left [ 0, \\quad 1, \\quad 0, \\quad 0, \\quad 0, \\quad 0, \\quad 0\\right ]$$"
      ],
      "text/plain": [
       "[0, 1, 0, 0, 0, 0, 0]"
      ]
     },
     "execution_count": 11,
     "metadata": {},
     "output_type": "execute_result"
    }
   ],
   "source": [
    "g.Prolong(g.vectors[1],2)"
   ]
  },
  {
   "cell_type": "code",
   "execution_count": 12,
   "metadata": {},
   "outputs": [
    {
     "data": {
      "image/png": "[encoded data removed]",
      "text/latex": [
       "$$\\left [ - u, \\quad x, \\quad 1, \\quad u_{x}^{2} + 1, \\quad P_{x} u_{x}, \\quad 3 u_{x} u_{xx}, \\quad P_{x} u_{xx} + 2 P_{xx} u_{x}\\right ]$$"
      ],
      "text/plain": [
       "⎡            2                                        ⎤\n",
       "⎣-u, x, 1, uₓ  + 1, Pₓ⋅uₓ, 3⋅uₓ⋅uₓₓ, Pₓ⋅uₓₓ + 2⋅Pₓₓ⋅uₓ⎦"
      ]
     },
     "execution_count": 12,
     "metadata": {},
     "output_type": "execute_result"
    }
   ],
   "source": [
    "g.Prolong(g.vectors[2],2)"
   ]
  },
  {
   "cell_type": "markdown",
   "metadata": {},
   "source": [
    "# Invariantization of the of Contact Forms\n",
    "<br/>\n",
    "The following are calculations of the Lie derivatives of the contact forms $\\theta^\\alpha_i$ by $v_j$.  The method\n",
    "<br/>\n",
    "<center>\n",
    "Lie_contact_diff(v_j, alpha, i) \n",
    "</center>\n",
    "gives us\n",
    "\n",
    "<br/>"
   ]
  },
  {
   "cell_type": "code",
   "execution_count": 13,
   "metadata": {},
   "outputs": [
    {
     "data": {
      "image/png": "[encoded data removed]",
      "text/latex": [
       "$$0$$"
      ],
      "text/plain": [
       "0"
      ]
     },
     "execution_count": 13,
     "metadata": {},
     "output_type": "execute_result"
    }
   ],
   "source": [
    "g.Lie_contact_diff(g.vectors[0], 0, 0)"
   ]
  },
  {
   "cell_type": "code",
   "execution_count": 14,
   "metadata": {},
   "outputs": [
    {
     "data": {
      "image/png": "[encoded data removed]",
      "text/latex": [
       "$$0$$"
      ],
      "text/plain": [
       "0"
      ]
     },
     "execution_count": 14,
     "metadata": {},
     "output_type": "execute_result"
    }
   ],
   "source": [
    "g.Lie_contact_diff(g.vectors[0], 1, 0)"
   ]
  },
  {
   "cell_type": "code",
   "execution_count": 15,
   "metadata": {},
   "outputs": [
    {
     "data": {
      "image/png": "[encoded data removed]",
      "text/latex": [
       "$$0$$"
      ],
      "text/plain": [
       "0"
      ]
     },
     "execution_count": 15,
     "metadata": {},
     "output_type": "execute_result"
    }
   ],
   "source": [
    "g.Lie_contact_diff(g.vectors[1], 0, 0)"
   ]
  },
  {
   "cell_type": "code",
   "execution_count": 16,
   "metadata": {},
   "outputs": [
    {
     "data": {
      "image/png": "[encoded data removed]",
      "text/latex": [
       "$$0$$"
      ],
      "text/plain": [
       "0"
      ]
     },
     "execution_count": 16,
     "metadata": {},
     "output_type": "execute_result"
    }
   ],
   "source": [
    "g.Lie_contact_diff(g.vectors[1], 1, 0)"
   ]
  },
  {
   "cell_type": "code",
   "execution_count": 17,
   "metadata": {},
   "outputs": [
    {
     "data": {
      "image/png": "[encoded data removed]",
      "text/latex": [
       "$$u_{x} \\vartheta^{u}$$"
      ],
      "text/plain": [
       "uₓ⋅vartheta__u"
      ]
     },
     "execution_count": 17,
     "metadata": {},
     "output_type": "execute_result"
    }
   ],
   "source": [
    "g.Lie_contact_diff(g.vectors[2], 0, 0)"
   ]
  },
  {
   "cell_type": "code",
   "execution_count": 18,
   "metadata": {},
   "outputs": [
    {
     "data": {
      "image/png": "[encoded data removed]",
      "text/latex": [
       "$$P_{x} \\vartheta^{u}$$"
      ],
      "text/plain": [
       "Pₓ⋅vartheta__u"
      ]
     },
     "execution_count": 18,
     "metadata": {},
     "output_type": "execute_result"
    }
   ],
   "source": [
    "g.Lie_contact_diff(g.vectors[2], 1, 0)"
   ]
  },
  {
   "cell_type": "code",
   "execution_count": 19,
   "metadata": {},
   "outputs": [
    {
     "data": {
      "image/png": "[encoded data removed]",
      "text/latex": [
       "$$2 u_{x} \\vartheta^{u}_{1} + \\vartheta^{u} \\frac{d}{d x} u_{x}$$"
      ],
      "text/plain": [
       "                                 d     \n",
       "2⋅uₓ⋅vartheta_1__u + vartheta__u⋅──(uₓ)\n",
       "                                 dx    "
      ]
     },
     "execution_count": 19,
     "metadata": {},
     "output_type": "execute_result"
    }
   ],
   "source": [
    "g.Lie_contact_diff(g.vectors[2], 0, 1)"
   ]
  },
  {
   "cell_type": "markdown",
   "metadata": {},
   "source": [
    "# Derivation of the Invariant Eulerian and Hamiltonian Operators $\\mathcal{A}^*$ and $\\mathcal{B}^*$ "
   ]
  },
  {
   "cell_type": "code",
   "execution_count": 22,
   "metadata": {},
   "outputs": [
    {
     "data": {
      "image/png": "[encoded data removed]",
      "text/latex": [
       "$$\\left[\\begin{matrix}- D_{x} + \\kappa^{P} \\kappa^{u} & \\left(\\kappa^{P}\\right)^{2}\\\\- \\left(\\kappa^{u}\\right)^{2} - 1 & - D_{x} - \\kappa^{P} \\kappa^{u}\\end{matrix}\\right]$$"
      ],
      "text/plain": [
       "⎡                          2     ⎤\n",
       "⎢-Dₓ + κ__P⋅κ__u       κ__P      ⎥\n",
       "⎢                                ⎥\n",
       "⎢        2                       ⎥\n",
       "⎣  - κ__u  - 1    -Dₓ - κ__P⋅κ__u⎦"
      ]
     },
     "execution_count": 22,
     "metadata": {},
     "output_type": "execute_result"
    }
   ],
   "source": [
    "g.inv_Euler()"
   ]
  },
  {
   "cell_type": "code",
   "execution_count": 23,
   "metadata": {},
   "outputs": [
    {
     "data": {
      "image/png": "[encoded data removed]",
      "text/latex": [
       "$$\\left[\\begin{matrix}- \\kappa^{P}\\\\\\kappa^{u}\\end{matrix}\\right]$$"
      ],
      "text/plain": [
       "⎡-κ__P⎤\n",
       "⎢     ⎥\n",
       "⎣κ__u ⎦"
      ]
     },
     "execution_count": 23,
     "metadata": {},
     "output_type": "execute_result"
    }
   ],
   "source": [
    "g.invariant_Hamilton()"
   ]
  },
  {
   "cell_type": "code",
   "execution_count": null,
   "metadata": {
    "collapsed": true
   },
   "outputs": [],
   "source": []
  }
 ],
 "metadata": {
  "kernelspec": {
   "display_name": "Python 2.7",
   "language": "python",
   "name": "python2"
  },
  "language_info": {
   "codemirror_mode": {
    "name": "ipython",
    "version": 2
   },
   "file_extension": ".py",
   "mimetype": "text/x-python",
   "name": "python",
   "nbconvert_exporter": "python",
   "pygments_lexer": "ipython2",
   "version": "2.7.15"
  }
 },
 "nbformat": 4,
 "nbformat_minor": 2
}

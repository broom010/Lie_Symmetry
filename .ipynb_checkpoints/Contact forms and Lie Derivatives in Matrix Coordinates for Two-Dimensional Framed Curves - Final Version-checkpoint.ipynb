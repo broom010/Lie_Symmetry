{
 "cells": [
  {
   "cell_type": "markdown",
   "metadata": {},
   "source": [
    "# Lie Derivatives in Matrix Coordinates"
   ]
  },
  {
   "cell_type": "markdown",
   "metadata": {},
   "source": [
    "In this notebook, we explore how to express contact forms for a matrix Lie group.  The following is an outline of our work:\n",
    "\n",
    "### Part 1 - Non-matrix version\n",
    "**1)  Introduction of coordinates and group action**\n",
    "\n",
    "**2)  Compute the infinitesimal generator of the action**\n",
    "\n",
    "**3)  Compute the Lie derivative of certain contact forms with respect to the infinitesimal generator**\n",
    "\n",
    "### Part 2 - Matrix version\n",
    "\n",
    "**1)  Introduction of coordinates and group action**\n",
    "\n",
    "**2)  Find the basic contact form in matrix coordinates**\n",
    "\n",
    "**3)  Compute the infinitesimal generator of the action**\n",
    "\n",
    "**4)  Compute the Lie derivative of certain contact forms with respect to the infinitesimal generator**\n",
    "\n",
    "**5)  Compute the pullback of the Lie derivatives (for verification)**\n",
    "\n",
    "\n",
    "\n",
    "We begin this process by importing various python modules and adjustin the printing settings of this notebook."
   ]
  },
  {
   "cell_type": "code",
   "execution_count": 1,
   "metadata": {},
   "outputs": [
    {
     "data": {
      "text/html": [
       "<style>.container { width:80% !important; }</style>"
      ],
      "text/plain": [
       "<IPython.core.display.HTML object>"
      ]
     },
     "metadata": {},
     "output_type": "display_data"
    }
   ],
   "source": [
    "from sympy import *\n",
    "from itertools import *\n",
    "import LieSympy as lp\n",
    "import numpy as np\n",
    "init_printing()\n",
    "\n",
    "from IPython.core.display import display, HTML\n",
    "display(HTML(\"<style>.container { width:80% !important; }</style>\"))"
   ]
  },
  {
   "cell_type": "markdown",
   "metadata": {},
   "source": [
    "# Introduction of Coordinates (non-matrix version)"
   ]
  },
  {
   "cell_type": "markdown",
   "metadata": {},
   "source": [
    "Let $G_1 = G_2 = SE(2)$.  Take $(a, b, \\psi)$ and $(x, u, \\varphi)$ to be local coordiantes for $G_1$ and $G_2$ repsectively.  The code below defines the symbols and the standard action of $G1$ on $G2$."
   ]
  },
  {
   "cell_type": "code",
   "execution_count": 2,
   "metadata": {
    "collapsed": true
   },
   "outputs": [],
   "source": [
    "x = symbols('x')\n",
    "u = Function('u')('x')\n",
    "phi = Function('varphi')('x')\n",
    "\n",
    "a = symbols('a')\n",
    "b = symbols('b')\n",
    "psi = symbols('psi')\n",
    "identity = {a:0, b:0, psi:0}\n",
    "\n",
    "dx = symbols('dx')\n",
    "du = symbols('du')\n",
    "dphi = symbols('d\\\\varphi')"
   ]
  },
  {
   "cell_type": "markdown",
   "metadata": {},
   "source": [
    "# Infinitesimal Generator of the Action"
   ]
  },
  {
   "cell_type": "code",
   "execution_count": 3,
   "metadata": {},
   "outputs": [
    {
     "data": {
      "image/png": "[encoded data removed]",
      "text/latex": [
       "$$\\left [ - u{\\left (x \\right )}, \\quad - x, \\quad 1\\right ]$$"
      ],
      "text/plain": [
       "[-u(x), -x, 1]"
      ]
     },
     "execution_count": 3,
     "metadata": {},
     "output_type": "execute_result"
    }
   ],
   "source": [
    "X = cos(psi)*x-sin(psi)*u+a\n",
    "U = -sin(psi)*x+cos(psi)*u+b\n",
    "Phi = phi+psi\n",
    "\n",
    "v3 = [diff(X,psi).subs(identity), diff(U,psi).subs(identity), diff(Phi,psi).subs(identity)]\n",
    "v3"
   ]
  },
  {
   "cell_type": "markdown",
   "metadata": {},
   "source": [
    "# Lie derivative of $\\theta^\\varphi = d\\varphi-\\varphi_x dx$ with respect to $v_3$"
   ]
  },
  {
   "cell_type": "code",
   "execution_count": 4,
   "metadata": {},
   "outputs": [
    {
     "data": {
      "image/png": "[encoded data removed]",
      "text/latex": [
       "$$\\varphi_{x} \\theta^{u}$$"
      ],
      "text/plain": [
       "varphiₓ⋅θ__u"
      ]
     },
     "execution_count": 4,
     "metadata": {},
     "output_type": "execute_result"
    }
   ],
   "source": [
    "A = [['x'],['u','varphi']]\n",
    "n = 1\n",
    "v3 = [-symbols('u'), x, 1]\n",
    "pr1_v3 = lp.Prolong([['x'],['u','varphi']],v3,1)\n",
    "w = [-symbols('varphi_x'), 0, 1]\n",
    "lp.Lie_derivative(A, n, pr1_v3 ,w)"
   ]
  },
  {
   "cell_type": "markdown",
   "metadata": {},
   "source": [
    "# Introduction of Coordinates (matrix version)"
   ]
  },
  {
   "cell_type": "code",
   "execution_count": 5,
   "metadata": {
    "collapsed": true
   },
   "outputs": [],
   "source": [
    "F = Matrix([[cos(phi),-sin(phi)],[sin(phi),cos(phi)]])\n",
    "\n",
    "R = Matrix([[cos(psi),-sin(psi)],[sin(psi),cos(psi)]])\n",
    "z = Matrix([x,u])\n",
    "c = Matrix([a,b])\n",
    "identity = {a:0, b:0, psi:0}\n",
    "X = simplify((R*z+c).row(0)[0])\n",
    "U = simplify((R*z+c).row(1)[0])"
   ]
  },
  {
   "cell_type": "markdown",
   "metadata": {},
   "source": [
    "# Basic Contact form $\\theta^\\varphi$\n",
    "The contact forms for the frame portion of our moving frame are given by the linearly independententries of $$dg\\, g^{-1}-g_xg^{-1}dx$$"
   ]
  },
  {
   "cell_type": "code",
   "execution_count": 6,
   "metadata": {},
   "outputs": [
    {
     "data": {
      "image/png": "[encoded data removed]",
      "text/latex": [
       "$$\\left[\\begin{matrix}0 &  \\varphi_x\\ dx - d\\varphi\\\\-  \\varphi_x\\ dx + d\\varphi & 0\\end{matrix}\\right]$$"
      ],
      "text/plain": [
       "⎡            0                \\varphi_x\\⋅dx - d\\varphi⎤\n",
       "⎢                                                     ⎥\n",
       "⎣- \\varphi_x\\⋅dx + d\\varphi              0            ⎦"
      ]
     },
     "execution_count": 6,
     "metadata": {},
     "output_type": "execute_result"
    }
   ],
   "source": [
    "F_x = simplify(diff(F)*F.inv())\n",
    "dF = Matrix([[0,-dphi],[dphi,0]])\n",
    "(dF - F_x*dx).subs({diff(phi,x):symbols('\\\\ \\\\varphi_x\\\\')})"
   ]
  },
  {
   "cell_type": "markdown",
   "metadata": {},
   "source": [
    "# Basic Contact Form In General Matrix Coordinates"
   ]
  },
  {
   "cell_type": "code",
   "execution_count": 7,
   "metadata": {
    "collapsed": true
   },
   "outputs": [],
   "source": [
    "F11 = Function('F11')('x')\n",
    "F12 = Function('F12')('x')\n",
    "F21 = Function('F21')('x')\n",
    "F22 = Function('F22')('x')\n",
    "\n",
    "F11_x = Function('F11_x')('x')\n",
    "F12_x = Function('F12_x')('x')\n",
    "F21_x = Function('F21_x')('x')\n",
    "F22_x = Function('F22_x')('x')\n",
    "\n",
    "d11 = symbols('d_{F_{11}}')\n",
    "d12 = symbols('d_{F_{12}}')\n",
    "d21 = symbols('d_{F_{21}}')\n",
    "d22 = symbols('d_{F_{22}}')\n",
    "\n",
    "B = Matrix([[F11,F12],[F21,F22]])\n",
    "\n",
    "T1 = diff(B,x)*(B.inv()).subs({F11*F22-F12*F21:1, diff(F11,x):d11, diff(F12,x):d12, diff(F21,x):d21, diff(F22,x):d22})\n",
    "T2 = simplify(diff(B,x)*(B.inv()))"
   ]
  },
  {
   "cell_type": "code",
   "execution_count": 8,
   "metadata": {},
   "outputs": [
    {
     "data": {
      "image/png": "[encoded data removed]",
      "text/latex": [
       "$$\\left[\\begin{matrix}\\frac{dx \\left(\\operatorname{F_{21}}{\\left (x \\right )} \\frac{d}{d x} \\operatorname{F_{12}}{\\left (x \\right )} - \\operatorname{F_{22}}{\\left (x \\right )} \\frac{d}{d x} \\operatorname{F_{11}}{\\left (x \\right )}\\right) + \\left(\\operatorname{F_{11}}{\\left (x \\right )} \\operatorname{F_{22}}{\\left (x \\right )} - \\operatorname{F_{12}}{\\left (x \\right )} \\operatorname{F_{21}}{\\left (x \\right )}\\right) \\left(- \\operatorname{F_{21}}{\\left (x \\right )} \\frac{d}{d x} \\operatorname{F_{12}}{\\left (x \\right )} + \\operatorname{F_{22}}{\\left (x \\right )} \\frac{d}{d x} \\operatorname{F_{11}}{\\left (x \\right )}\\right)}{\\operatorname{F_{11}}{\\left (x \\right )} \\operatorname{F_{22}}{\\left (x \\right )} - \\operatorname{F_{12}}{\\left (x \\right )} \\operatorname{F_{21}}{\\left (x \\right )}} & \\frac{\\left(\\operatorname{F_{11}}{\\left (x \\right )} \\frac{d}{d x} \\operatorname{F_{12}}{\\left (x \\right )} - \\operatorname{F_{12}}{\\left (x \\right )} \\frac{d}{d x} \\operatorname{F_{11}}{\\left (x \\right )}\\right) \\left(- dx + \\operatorname{F_{11}}{\\left (x \\right )} \\operatorname{F_{22}}{\\left (x \\right )} - \\operatorname{F_{12}}{\\left (x \\right )} \\operatorname{F_{21}}{\\left (x \\right )}\\right)}{\\operatorname{F_{11}}{\\left (x \\right )} \\operatorname{F_{22}}{\\left (x \\right )} - \\operatorname{F_{12}}{\\left (x \\right )} \\operatorname{F_{21}}{\\left (x \\right )}}\\\\\\frac{dx \\left(\\operatorname{F_{21}}{\\left (x \\right )} \\frac{d}{d x} \\operatorname{F_{22}}{\\left (x \\right )} - \\operatorname{F_{22}}{\\left (x \\right )} \\frac{d}{d x} \\operatorname{F_{21}}{\\left (x \\right )}\\right) + \\left(\\operatorname{F_{11}}{\\left (x \\right )} \\operatorname{F_{22}}{\\left (x \\right )} - \\operatorname{F_{12}}{\\left (x \\right )} \\operatorname{F_{21}}{\\left (x \\right )}\\right) \\left(- \\operatorname{F_{21}}{\\left (x \\right )} \\frac{d}{d x} \\operatorname{F_{22}}{\\left (x \\right )} + \\operatorname{F_{22}}{\\left (x \\right )} \\frac{d}{d x} \\operatorname{F_{21}}{\\left (x \\right )}\\right)}{\\operatorname{F_{11}}{\\left (x \\right )} \\operatorname{F_{22}}{\\left (x \\right )} - \\operatorname{F_{12}}{\\left (x \\right )} \\operatorname{F_{21}}{\\left (x \\right )}} & \\frac{\\left(\\operatorname{F_{11}}{\\left (x \\right )} \\frac{d}{d x} \\operatorname{F_{22}}{\\left (x \\right )} - \\operatorname{F_{12}}{\\left (x \\right )} \\frac{d}{d x} \\operatorname{F_{21}}{\\left (x \\right )}\\right) \\left(- dx + \\operatorname{F_{11}}{\\left (x \\right )} \\operatorname{F_{22}}{\\left (x \\right )} - \\operatorname{F_{12}}{\\left (x \\right )} \\operatorname{F_{21}}{\\left (x \\right )}\\right)}{\\operatorname{F_{11}}{\\left (x \\right )} \\operatorname{F_{22}}{\\left (x \\right )} - \\operatorname{F_{12}}{\\left (x \\right )} \\operatorname{F_{21}}{\\left (x \\right )}}\\end{matrix}\\right]$$"
      ],
      "text/plain": [
       "⎡   ⎛       d                   d         ⎞                                   \n",
       "⎢dx⋅⎜F₂₁(x)⋅──(F₁₂(x)) - F₂₂(x)⋅──(F₁₁(x))⎟ + (F₁₁(x)⋅F₂₂(x) - F₁₂(x)⋅F₂₁(x))⋅\n",
       "⎢   ⎝       dx                  dx        ⎠                                   \n",
       "⎢─────────────────────────────────────────────────────────────────────────────\n",
       "⎢                                            F₁₁(x)⋅F₂₂(x) - F₁₂(x)⋅F₂₁(x)    \n",
       "⎢                                                                             \n",
       "⎢   ⎛       d                   d         ⎞                                   \n",
       "⎢dx⋅⎜F₂₁(x)⋅──(F₂₂(x)) - F₂₂(x)⋅──(F₂₁(x))⎟ + (F₁₁(x)⋅F₂₂(x) - F₁₂(x)⋅F₂₁(x))⋅\n",
       "⎢   ⎝       dx                  dx        ⎠                                   \n",
       "⎢─────────────────────────────────────────────────────────────────────────────\n",
       "⎣                                            F₁₁(x)⋅F₂₂(x) - F₁₂(x)⋅F₂₁(x)    \n",
       "\n",
       "⎛         d                   d         ⎞  ⎛       d                   d      \n",
       "⎜- F₂₁(x)⋅──(F₁₂(x)) + F₂₂(x)⋅──(F₁₁(x))⎟  ⎜F₁₁(x)⋅──(F₁₂(x)) - F₁₂(x)⋅──(F₁₁(\n",
       "⎝         dx                  dx        ⎠  ⎝       dx                  dx     \n",
       "─────────────────────────────────────────  ───────────────────────────────────\n",
       "                                                                   F₁₁(x)⋅F₂₂(\n",
       "                                                                              \n",
       "⎛         d                   d         ⎞  ⎛       d                   d      \n",
       "⎜- F₂₁(x)⋅──(F₂₂(x)) + F₂₂(x)⋅──(F₂₁(x))⎟  ⎜F₁₁(x)⋅──(F₂₂(x)) - F₁₂(x)⋅──(F₂₁(\n",
       "⎝         dx                  dx        ⎠  ⎝       dx                  dx     \n",
       "─────────────────────────────────────────  ───────────────────────────────────\n",
       "                                                                   F₁₁(x)⋅F₂₂(\n",
       "\n",
       "   ⎞                                      ⎤\n",
       "x))⎟⋅(-dx + F₁₁(x)⋅F₂₂(x) - F₁₂(x)⋅F₂₁(x))⎥\n",
       "   ⎠                                      ⎥\n",
       "──────────────────────────────────────────⎥\n",
       "x) - F₁₂(x)⋅F₂₁(x)                        ⎥\n",
       "                                          ⎥\n",
       "   ⎞                                      ⎥\n",
       "x))⎟⋅(-dx + F₁₁(x)⋅F₂₂(x) - F₁₂(x)⋅F₂₁(x))⎥\n",
       "   ⎠                                      ⎥\n",
       "──────────────────────────────────────────⎥\n",
       "x) - F₁₂(x)⋅F₂₁(x)                        ⎦"
      ]
     },
     "execution_count": 8,
     "metadata": {},
     "output_type": "execute_result"
    }
   ],
   "source": [
    "simplify(T1-T2*dx)"
   ]
  },
  {
   "cell_type": "markdown",
   "metadata": {},
   "source": [
    "Note that the determinant of $F$ shows up in several places in the above calculation.  Since $F\\in SO(2)$, we can replace these expressions with one.  Doing so yields:"
   ]
  },
  {
   "cell_type": "code",
   "execution_count": 9,
   "metadata": {
    "scrolled": true
   },
   "outputs": [
    {
     "data": {
      "image/png": "[encoded data removed]",
      "text/latex": [
       "$$\\left[\\begin{matrix}dx \\left(\\operatorname{F_{21}}{\\left (x \\right )} \\frac{d}{d x} \\operatorname{F_{12}}{\\left (x \\right )} - \\operatorname{F_{22}}{\\left (x \\right )} \\frac{d}{d x} \\operatorname{F_{11}}{\\left (x \\right )}\\right) - \\operatorname{F_{21}}{\\left (x \\right )} \\frac{d}{d x} \\operatorname{F_{12}}{\\left (x \\right )} + \\operatorname{F_{22}}{\\left (x \\right )} \\frac{d}{d x} \\operatorname{F_{11}}{\\left (x \\right )} & - dx \\left(\\operatorname{F_{11}}{\\left (x \\right )} \\frac{d}{d x} \\operatorname{F_{12}}{\\left (x \\right )} - \\operatorname{F_{12}}{\\left (x \\right )} \\frac{d}{d x} \\operatorname{F_{11}}{\\left (x \\right )}\\right) + \\operatorname{F_{11}}{\\left (x \\right )} \\frac{d}{d x} \\operatorname{F_{12}}{\\left (x \\right )} - \\operatorname{F_{12}}{\\left (x \\right )} \\frac{d}{d x} \\operatorname{F_{11}}{\\left (x \\right )}\\\\dx \\left(\\operatorname{F_{21}}{\\left (x \\right )} \\frac{d}{d x} \\operatorname{F_{22}}{\\left (x \\right )} - \\operatorname{F_{22}}{\\left (x \\right )} \\frac{d}{d x} \\operatorname{F_{21}}{\\left (x \\right )}\\right) - \\operatorname{F_{21}}{\\left (x \\right )} \\frac{d}{d x} \\operatorname{F_{22}}{\\left (x \\right )} + \\operatorname{F_{22}}{\\left (x \\right )} \\frac{d}{d x} \\operatorname{F_{21}}{\\left (x \\right )} & - dx \\left(\\operatorname{F_{11}}{\\left (x \\right )} \\frac{d}{d x} \\operatorname{F_{22}}{\\left (x \\right )} - \\operatorname{F_{12}}{\\left (x \\right )} \\frac{d}{d x} \\operatorname{F_{21}}{\\left (x \\right )}\\right) + \\operatorname{F_{11}}{\\left (x \\right )} \\frac{d}{d x} \\operatorname{F_{22}}{\\left (x \\right )} - \\operatorname{F_{12}}{\\left (x \\right )} \\frac{d}{d x} \\operatorname{F_{21}}{\\left (x \\right )}\\end{matrix}\\right]$$"
      ],
      "text/plain": [
       "⎡   ⎛       d                   d         ⎞          d                   d    \n",
       "⎢dx⋅⎜F₂₁(x)⋅──(F₁₂(x)) - F₂₂(x)⋅──(F₁₁(x))⎟ - F₂₁(x)⋅──(F₁₂(x)) + F₂₂(x)⋅──(F₁\n",
       "⎢   ⎝       dx                  dx        ⎠          dx                  dx   \n",
       "⎢                                                                             \n",
       "⎢   ⎛       d                   d         ⎞          d                   d    \n",
       "⎢dx⋅⎜F₂₁(x)⋅──(F₂₂(x)) - F₂₂(x)⋅──(F₂₁(x))⎟ - F₂₁(x)⋅──(F₂₂(x)) + F₂₂(x)⋅──(F₂\n",
       "⎣   ⎝       dx                  dx        ⎠          dx                  dx   \n",
       "\n",
       "            ⎛       d                   d         ⎞          d                \n",
       "₁(x))  - dx⋅⎜F₁₁(x)⋅──(F₁₂(x)) - F₁₂(x)⋅──(F₁₁(x))⎟ + F₁₁(x)⋅──(F₁₂(x)) - F₁₂(\n",
       "            ⎝       dx                  dx        ⎠          dx               \n",
       "                                                                              \n",
       "            ⎛       d                   d         ⎞          d                \n",
       "₁(x))  - dx⋅⎜F₁₁(x)⋅──(F₂₂(x)) - F₁₂(x)⋅──(F₂₁(x))⎟ + F₁₁(x)⋅──(F₂₂(x)) - F₁₂(\n",
       "            ⎝       dx                  dx        ⎠          dx               \n",
       "\n",
       "   d         ⎤\n",
       "x)⋅──(F₁₁(x))⎥\n",
       "   dx        ⎥\n",
       "             ⎥\n",
       "   d         ⎥\n",
       "x)⋅──(F₂₁(x))⎥\n",
       "   dx        ⎦"
      ]
     },
     "execution_count": 9,
     "metadata": {},
     "output_type": "execute_result"
    }
   ],
   "source": [
    "T1 = diff(B,x)*(B.inv()).subs({F11*F22-F12*F21:1, diff(F11,x):d11, diff(F12,x):d12, diff(F21,x):d21, diff(F22,x):d22})\n",
    "T2 = simplify(diff(B,x)*(B.inv())).subs({B.det():1})\n",
    "simplify(T1-T2*dx)"
   ]
  },
  {
   "cell_type": "markdown",
   "metadata": {},
   "source": [
    "Simplifyin Notation, we get:"
   ]
  },
  {
   "cell_type": "code",
   "execution_count": 10,
   "metadata": {},
   "outputs": [
    {
     "data": {
      "image/png": "[encoded data removed]",
      "text/latex": [
       "$$\\left[\\begin{matrix} dF_{11} F_{22} -  dF_{12} F_{21} - dx \\left( F_{11x} F_{22} -  F_{12x} F_{21}\\right) & -  dF_{11} F_{12} +  dF_{12} F_{11} + dx \\left( F_{11x} F_{12} -  F_{12x} F_{11}\\right)\\\\ dF_{21} F_{22} -  dF_{22} F_{21} - dx \\left( F_{21x} F_{22} -  F_{22x} F_{21}\\right) & -  dF_{21} F_{12} +  dF_{22} F_{11} + dx \\left( F_{21x} F_{12} -  F_{22x} F_{11}\\right)\\end{matrix}\\right]$$"
      ],
      "text/plain": [
       "⎡ dF₁₁⋅F₂₂ -  dF₁₂⋅F₂₁ - dx⋅( F_{11x}⋅F₂₂ -  F_{12x}⋅F₂₁)  - dF₁₁⋅F₁₂ +  dF₁₂⋅\n",
       "⎢                                                                             \n",
       "⎣ dF₂₁⋅F₂₂ -  dF₂₂⋅F₂₁ - dx⋅( F_{21x}⋅F₂₂ -  F_{22x}⋅F₂₁)  - dF₂₁⋅F₁₂ +  dF₂₂⋅\n",
       "\n",
       "F₁₁ + dx⋅( F_{11x}⋅F₁₂ -  F_{12x}⋅F₁₁)⎤\n",
       "                                      ⎥\n",
       "F₁₁ + dx⋅( F_{21x}⋅F₁₂ -  F_{22x}⋅F₁₁)⎦"
      ]
     },
     "execution_count": 10,
     "metadata": {},
     "output_type": "execute_result"
    }
   ],
   "source": [
    "temp = simplify(T1.subs({diff(F11,x):symbols('\\\\ dF_11'),diff(F12,x):symbols('\\\\ dF_12'),diff(F21,x):symbols('\\\\ dF_21'),diff(F22,x):symbols('\\\\ dF_22')}).subs({F11:symbols('F_11'),F12:symbols('F_12'),F21:symbols('F_21'),F22:symbols('F_22')}))\n",
    "temp2 = simplify(temp-(T2.subs({diff(F11,x):symbols('\\\\ F_{11x}'), diff(F12,x):symbols('\\\\ F_{12x}'), diff(F21,x):symbols('\\\\ F_{21x}'), diff(F22,x):symbols('\\\\ F_{22x}')})).subs({F11:symbols('F_11'),F12:symbols('F_12'),F21:symbols('F_21'),F22:symbols('F_22')})*dx)\n",
    "temp2"
   ]
  },
  {
   "cell_type": "markdown",
   "metadata": {},
   "source": [
    "Finally, we may simplify the above matrix further using the fact that it is an element of $\\bigwedge^1T^*SO(2)\\otimes \\mathfrak{so}(2)$.  This means that it will is in fact anti-symmetric."
   ]
  },
  {
   "cell_type": "code",
   "execution_count": 11,
   "metadata": {},
   "outputs": [
    {
     "data": {
      "image/png": "[encoded data removed]",
      "text/latex": [
       "$$\\left[\\begin{matrix}0 & -  dF_{11} F_{12} +  dF_{12} F_{11} + dx \\left( F_{11x} F_{12} -  F_{12x} F_{11}\\right)\\\\ dF_{21} F_{22} -  dF_{22} F_{21} - dx \\left( F_{21x} F_{22} -  F_{22x} F_{21}\\right) & 0\\end{matrix}\\right]$$"
      ],
      "text/plain": [
       "⎡                           0                              - dF₁₁⋅F₁₂ +  dF₁₂⋅\n",
       "⎢                                                                             \n",
       "⎣ dF₂₁⋅F₂₂ -  dF₂₂⋅F₂₁ - dx⋅( F_{21x}⋅F₂₂ -  F_{22x}⋅F₂₁)                     \n",
       "\n",
       "F₁₁ + dx⋅( F_{11x}⋅F₁₂ -  F_{12x}⋅F₁₁)⎤\n",
       "                                      ⎥\n",
       "         0                            ⎦"
      ]
     },
     "execution_count": 11,
     "metadata": {},
     "output_type": "execute_result"
    }
   ],
   "source": [
    "Matrix([[0,temp2[0,1]],[temp2[1,0],0]])"
   ]
  },
  {
   "cell_type": "markdown",
   "metadata": {},
   "source": [
    "# Expression for matrix invariants"
   ]
  },
  {
   "cell_type": "code",
   "execution_count": 12,
   "metadata": {},
   "outputs": [
    {
     "data": {
      "image/png": "[encoded data removed]",
      "text/latex": [
       "$$\\left[\\begin{matrix}0 & - \\frac{\\frac{d}{d x} \\varphi{\\left (x \\right )}}{\\sin{\\left (\\varphi{\\left (x \\right )} \\right )} \\frac{d}{d x} u{\\left (x \\right )} + \\cos{\\left (\\varphi{\\left (x \\right )} \\right )}}\\\\\\frac{\\frac{d}{d x} \\varphi{\\left (x \\right )}}{\\sin{\\left (\\varphi{\\left (x \\right )} \\right )} \\frac{d}{d x} u{\\left (x \\right )} + \\cos{\\left (\\varphi{\\left (x \\right )} \\right )}} & 0\\end{matrix}\\right]$$"
      ],
      "text/plain": [
       "⎡                                                       d                     \n",
       "⎢                                                      -──(varphi(x))         \n",
       "⎢                                                       dx                    \n",
       "⎢                   0                      ───────────────────────────────────\n",
       "⎢                                                         d                   \n",
       "⎢                                          sin(varphi(x))⋅──(u(x)) + cos(varph\n",
       "⎢                                                         dx                  \n",
       "⎢                                                                             \n",
       "⎢             d                                                               \n",
       "⎢             ──(varphi(x))                                                   \n",
       "⎢             dx                                                              \n",
       "⎢────────────────────────────────────────                     0               \n",
       "⎢               d                                                             \n",
       "⎢sin(varphi(x))⋅──(u(x)) + cos(varphi(x))                                     \n",
       "⎣               dx                                                            \n",
       "\n",
       "     ⎤\n",
       "     ⎥\n",
       "     ⎥\n",
       "─────⎥\n",
       "     ⎥\n",
       "i(x))⎥\n",
       "     ⎥\n",
       "     ⎥\n",
       "     ⎥\n",
       "     ⎥\n",
       "     ⎥\n",
       "     ⎥\n",
       "     ⎥\n",
       "     ⎥\n",
       "     ⎦"
      ]
     },
     "execution_count": 12,
     "metadata": {},
     "output_type": "execute_result"
    }
   ],
   "source": [
    "J1 = simplify(F.transpose()*diff(F,x)/((F.transpose()).row(0)*diff(z,x))[0])\n",
    "J1"
   ]
  },
  {
   "cell_type": "code",
   "execution_count": 13,
   "metadata": {},
   "outputs": [
    {
     "data": {
      "image/png": "[encoded data removed]",
      "text/latex": [
       "$$\\left[\\begin{matrix}- \\frac{\\left(\\frac{d}{d x} \\varphi{\\left (x \\right )}\\right)^{2}}{\\sin^{2}{\\left (\\varphi{\\left (x \\right )} \\right )} \\left(\\frac{d}{d x} u{\\left (x \\right )}\\right)^{2} + \\sin{\\left (2 \\varphi{\\left (x \\right )} \\right )} \\frac{d}{d x} u{\\left (x \\right )} + \\cos^{2}{\\left (\\varphi{\\left (x \\right )} \\right )}} & \\frac{- \\sin{\\left (\\varphi{\\left (x \\right )} \\right )} \\frac{d}{d x} u{\\left (x \\right )} \\frac{d^{2}}{d x^{2}} \\varphi{\\left (x \\right )} + \\sin{\\left (\\varphi{\\left (x \\right )} \\right )} \\frac{d^{2}}{d x^{2}} u{\\left (x \\right )} \\frac{d}{d x} \\varphi{\\left (x \\right )} - \\cos{\\left (\\varphi{\\left (x \\right )} \\right )} \\frac{d^{2}}{d x^{2}} \\varphi{\\left (x \\right )}}{\\left(\\sin{\\left (\\varphi{\\left (x \\right )} \\right )} \\frac{d}{d x} u{\\left (x \\right )} + \\cos{\\left (\\varphi{\\left (x \\right )} \\right )}\\right)^{3}}\\\\\\frac{\\sin{\\left (\\varphi{\\left (x \\right )} \\right )} \\frac{d}{d x} u{\\left (x \\right )} \\frac{d^{2}}{d x^{2}} \\varphi{\\left (x \\right )} - \\sin{\\left (\\varphi{\\left (x \\right )} \\right )} \\frac{d^{2}}{d x^{2}} u{\\left (x \\right )} \\frac{d}{d x} \\varphi{\\left (x \\right )} + \\cos{\\left (\\varphi{\\left (x \\right )} \\right )} \\frac{d^{2}}{d x^{2}} \\varphi{\\left (x \\right )}}{\\left(\\sin{\\left (\\varphi{\\left (x \\right )} \\right )} \\frac{d}{d x} u{\\left (x \\right )} + \\cos{\\left (\\varphi{\\left (x \\right )} \\right )}\\right)^{3}} & - \\frac{\\left(\\frac{d}{d x} \\varphi{\\left (x \\right )}\\right)^{2}}{\\sin^{2}{\\left (\\varphi{\\left (x \\right )} \\right )} \\left(\\frac{d}{d x} u{\\left (x \\right )}\\right)^{2} + \\sin{\\left (2 \\varphi{\\left (x \\right )} \\right )} \\frac{d}{d x} u{\\left (x \\right )} + \\cos^{2}{\\left (\\varphi{\\left (x \\right )} \\right )}}\\end{matrix}\\right]$$"
      ],
      "text/plain": [
       "⎡                                                                             \n",
       "⎢                                                               2             \n",
       "⎢                                                ⎛d            ⎞              \n",
       "⎢                                               -⎜──(varphi(x))⎟              \n",
       "⎢                                                ⎝dx           ⎠              \n",
       "⎢                   ──────────────────────────────────────────────────────────\n",
       "⎢                                             2                               \n",
       "⎢                      2            ⎛d       ⎞                     d          \n",
       "⎢                   sin (varphi(x))⋅⎜──(u(x))⎟  + sin(2⋅varphi(x))⋅──(u(x)) + \n",
       "⎢                                   ⎝dx      ⎠                     dx         \n",
       "⎢                                                                             \n",
       "⎢                          2                               2                  \n",
       "⎢               d         d                               d        d          \n",
       "⎢sin(varphi(x))⋅──(u(x))⋅───(varphi(x)) - sin(varphi(x))⋅───(u(x))⋅──(varphi(x\n",
       "⎢               dx         2                               2       dx         \n",
       "⎢                        dx                              dx                   \n",
       "⎢─────────────────────────────────────────────────────────────────────────────\n",
       "⎢                                                                            3\n",
       "⎢                                  ⎛               d                        ⎞ \n",
       "⎢                                  ⎜sin(varphi(x))⋅──(u(x)) + cos(varphi(x))⎟ \n",
       "⎣                                  ⎝               dx                       ⎠ \n",
       "\n",
       "                                                                2             \n",
       "                                                     d         d              \n",
       "                                    - sin(varphi(x))⋅──(u(x))⋅───(varphi(x)) +\n",
       "                                                     dx         2             \n",
       "                                                              dx              \n",
       "───────────────                     ──────────────────────────────────────────\n",
       "                                                                              \n",
       "   2                                                                   ⎛      \n",
       "cos (varphi(x))                                                        ⎜sin(va\n",
       "                                                                       ⎝      \n",
       "                                                                              \n",
       "                      2                                                       \n",
       "                     d                                                        \n",
       ")) + cos(varphi(x))⋅───(varphi(x))                                            \n",
       "                      2                                                       \n",
       "                    dx                                                        \n",
       "──────────────────────────────────                      ──────────────────────\n",
       "                                                                              \n",
       "                                                           2            ⎛d    \n",
       "                                                        sin (varphi(x))⋅⎜──(u(\n",
       "                                                                        ⎝dx   \n",
       "\n",
       "                  2                                        2           ⎤\n",
       "                 d        d                               d            ⎥\n",
       " sin(varphi(x))⋅───(u(x))⋅──(varphi(x)) - cos(varphi(x))⋅───(varphi(x))⎥\n",
       "                  2       dx                               2           ⎥\n",
       "                dx                                       dx            ⎥\n",
       "───────────────────────────────────────────────────────────────────────⎥\n",
       "                                   3                                   ⎥\n",
       "         d                        ⎞                                    ⎥\n",
       "rphi(x))⋅──(u(x)) + cos(varphi(x))⎟                                    ⎥\n",
       "         dx                       ⎠                                    ⎥\n",
       "                                                                       ⎥\n",
       "                                                                       ⎥\n",
       "                      2                                                ⎥\n",
       "       ⎛d            ⎞                                                 ⎥\n",
       "      -⎜──(varphi(x))⎟                                                 ⎥\n",
       "       ⎝dx           ⎠                                                 ⎥\n",
       "───────────────────────────────────────────────────                    ⎥\n",
       "    2                                                                  ⎥\n",
       "   ⎞                     d             2                               ⎥\n",
       "x))⎟  + sin(2⋅varphi(x))⋅──(u(x)) + cos (varphi(x))                    ⎥\n",
       "   ⎠                     dx                                            ⎦"
      ]
     },
     "execution_count": 13,
     "metadata": {},
     "output_type": "execute_result"
    }
   ],
   "source": [
    "J2 = simplify((((F.transpose()).row(0)*diff(z,x))[0]*(F.transpose())*diff(F,x,2) - (((F.transpose()).row(0)*diff(z,x,2))[0]*(F.transpose())*diff(F,x)))/((F.transpose()).row(0)*diff(z,x))[0]**3)\n",
    "J2"
   ]
  },
  {
   "cell_type": "markdown",
   "metadata": {},
   "source": [
    "From the calculations above, we find that\n",
    "\n",
    "$$\\iota(F_x) = \\begin{bmatrix} 0 & -I^\\varphi_1 \\\\ I^\\varphi_1 & 0 \\end{bmatrix}$$\n",
    "\n",
    "and\n",
    "\n",
    "$$\\iota(F_{xx}) = \\begin{bmatrix} -(I^\\varphi_1)^2 & -I^\\varphi_2 \\\\ I^\\varphi_2 & -(I^\\varphi_1)^2 \\end{bmatrix}$$"
   ]
  },
  {
   "cell_type": "markdown",
   "metadata": {},
   "source": [
    "# Infinitesimal generator $v_3$"
   ]
  },
  {
   "cell_type": "code",
   "execution_count": 14,
   "metadata": {},
   "outputs": [
    {
     "data": {
      "image/png": "[encoded data removed]",
      "text/latex": [
       "$$\\left [ - u{\\left (x \\right )}, \\quad x, \\quad - \\operatorname{F_{21}}{\\left (x \\right )}, \\quad - \\operatorname{F_{22}}{\\left (x \\right )}, \\quad \\operatorname{F_{11}}{\\left (x \\right )}, \\quad \\operatorname{F_{12}}{\\left (x \\right )}\\right ]$$"
      ],
      "text/plain": [
       "[-u(x), x, -F₂₁(x), -F₂₂(x), F₁₁(x), F₁₂(x)]"
      ]
     },
     "execution_count": 14,
     "metadata": {},
     "output_type": "execute_result"
    }
   ],
   "source": [
    "A = [['x'], ['u','F11','F12','F21','F22']]\n",
    "v3 = [diff(X,psi).subs(identity),diff(U,psi).subs(identity)]+flatten(diff(R*B, psi).subs(identity))\n",
    "v3"
   ]
  },
  {
   "cell_type": "code",
   "execution_count": 15,
   "metadata": {},
   "outputs": [
    {
     "data": {
      "image/png": "[encoded data removed]",
      "text/latex": [
       "$$\\left [ - u{\\left (x \\right )}, \\quad x, \\quad - \\operatorname{F_{21}}{\\left (x \\right )}, \\quad - \\operatorname{F_{22}}{\\left (x \\right )}, \\quad \\operatorname{F_{11}}{\\left (x \\right )}, \\quad \\operatorname{F_{12}}{\\left (x \\right )}, \\quad u_{x} \\frac{d}{d x} u{\\left (x \\right )} + 1, \\quad F_{11 x} \\frac{d}{d x} u{\\left (x \\right )} - \\frac{d}{d x} \\operatorname{F_{21}}{\\left (x \\right )}, \\quad F_{12 x} \\frac{d}{d x} u{\\left (x \\right )} - \\frac{d}{d x} \\operatorname{F_{22}}{\\left (x \\right )}, \\quad F_{21 x} \\frac{d}{d x} u{\\left (x \\right )} + \\frac{d}{d x} \\operatorname{F_{11}}{\\left (x \\right )}, \\quad F_{22 x} \\frac{d}{d x} u{\\left (x \\right )} + \\frac{d}{d x} \\operatorname{F_{12}}{\\left (x \\right )}\\right ]$$"
      ],
      "text/plain": [
       "⎡                                               d                   d         \n",
       "⎢-u(x), x, -F₂₁(x), -F₂₂(x), F₁₁(x), F₁₂(x), uₓ⋅──(u(x)) + 1, F₁₁ ₓ⋅──(u(x)) -\n",
       "⎣                                               dx                  dx        \n",
       "\n",
       " d                 d          d                 d          d                 d\n",
       " ──(F₂₁(x)), F₁₂ ₓ⋅──(u(x)) - ──(F₂₂(x)), F₂₁ ₓ⋅──(u(x)) + ──(F₁₁(x)), F₂₂ ₓ⋅─\n",
       " dx                dx         dx                dx         dx                d\n",
       "\n",
       "          d         ⎤\n",
       "─(u(x)) + ──(F₁₂(x))⎥\n",
       "x         dx        ⎦"
      ]
     },
     "execution_count": 15,
     "metadata": {},
     "output_type": "execute_result"
    }
   ],
   "source": [
    "pr1_v3 = lp.Prolong(A, v3, 1)\n",
    "pr1_v3"
   ]
  },
  {
   "cell_type": "markdown",
   "metadata": {},
   "source": [
    "### The following two matrices help keep track of the coordinates for the various components of $v_3$"
   ]
  },
  {
   "cell_type": "code",
   "execution_count": 16,
   "metadata": {},
   "outputs": [
    {
     "data": {
      "image/png": "[encoded data removed]",
      "text/latex": [
       "$$\\left[\\begin{matrix}- \\operatorname{F_{21}}{\\left (x \\right )} & - \\operatorname{F_{22}}{\\left (x \\right )}\\\\\\operatorname{F_{11}}{\\left (x \\right )} & \\operatorname{F_{12}}{\\left (x \\right )}\\end{matrix}\\right]$$"
      ],
      "text/plain": [
       "⎡-F₂₁(x)  -F₂₂(x)⎤\n",
       "⎢                ⎥\n",
       "⎣F₁₁(x)   F₁₂(x) ⎦"
      ]
     },
     "execution_count": 16,
     "metadata": {},
     "output_type": "execute_result"
    }
   ],
   "source": [
    "Matrix([pr1_v3[2:4],pr1_v3[4:6]])"
   ]
  },
  {
   "cell_type": "code",
   "execution_count": 17,
   "metadata": {},
   "outputs": [
    {
     "data": {
      "image/png": "[encoded data removed]",
      "text/latex": [
       "$$\\left[\\begin{matrix}F_{11 x} \\frac{d}{d x} u{\\left (x \\right )} - \\frac{d}{d x} \\operatorname{F_{21}}{\\left (x \\right )} & F_{12 x} \\frac{d}{d x} u{\\left (x \\right )} - \\frac{d}{d x} \\operatorname{F_{22}}{\\left (x \\right )}\\\\F_{21 x} \\frac{d}{d x} u{\\left (x \\right )} + \\frac{d}{d x} \\operatorname{F_{11}}{\\left (x \\right )} & F_{22 x} \\frac{d}{d x} u{\\left (x \\right )} + \\frac{d}{d x} \\operatorname{F_{12}}{\\left (x \\right )}\\end{matrix}\\right]$$"
      ],
      "text/plain": [
       "⎡      d          d                 d          d         ⎤\n",
       "⎢F₁₁ ₓ⋅──(u(x)) - ──(F₂₁(x))  F₁₂ ₓ⋅──(u(x)) - ──(F₂₂(x))⎥\n",
       "⎢      dx         dx                dx         dx        ⎥\n",
       "⎢                                                        ⎥\n",
       "⎢      d          d                 d          d         ⎥\n",
       "⎢F₂₁ ₓ⋅──(u(x)) + ──(F₁₁(x))  F₂₂ ₓ⋅──(u(x)) + ──(F₁₂(x))⎥\n",
       "⎣      dx         dx                dx         dx        ⎦"
      ]
     },
     "execution_count": 17,
     "metadata": {},
     "output_type": "execute_result"
    }
   ],
   "source": [
    "Matrix([pr1_v3[7:9],pr1_v3[9:11]])"
   ]
  },
  {
   "cell_type": "markdown",
   "metadata": {},
   "source": [
    "# Lie Derivatives in General Matrix Coordinates"
   ]
  },
  {
   "cell_type": "code",
   "execution_count": 18,
   "metadata": {
    "collapsed": true
   },
   "outputs": [],
   "source": [
    "A = [['x'],['u','F11','F12','F21','F22']]\n",
    "n = 1\n",
    "v1 = [-symbols('u'),x,-symbols('F21'),-symbols('F22'),symbols('F11'),symbols('F12')]\n",
    "pr_v1 = lp.Prolong(A, v1, n)\n",
    "w1 = [symbols('F12')*symbols('F11_x')-symbols('F11')*symbols('F12_x'), 0, -symbols('F12'), symbols('F11'), 0, 0]\n",
    "w2 = [symbols('F21')*symbols('F22_x')-symbols('F22')*symbols('F21_x'), 0, 0, 0, symbols('F22'), -symbols('F21')]"
   ]
  },
  {
   "cell_type": "code",
   "execution_count": 19,
   "metadata": {},
   "outputs": [
    {
     "data": {
      "image/png": "[encoded data removed]",
      "text/latex": [
       "$$- F_{11} \\theta^{F22} + F_{12} \\theta^{F21} - F_{21} \\theta^{F12} + F_{22} \\theta^{F11} + \\left(F_{11} F_{12 x} - F_{11 x} F_{12}\\right) \\theta^{u}$$"
      ],
      "text/plain": [
       "-F₁₁⋅θ__F22 + F₁₂⋅θ__F21 - F₂₁⋅θ__F12 + F₂₂⋅θ__F11 + (F₁₁⋅F₁₂ ₓ - F₁₁ ₓ⋅F₁₂)⋅θ\n",
       "__u"
      ]
     },
     "execution_count": 19,
     "metadata": {},
     "output_type": "execute_result"
    }
   ],
   "source": [
    "lp.Lie_derivative(A, n, pr_v1, w1)"
   ]
  },
  {
   "cell_type": "code",
   "execution_count": 20,
   "metadata": {},
   "outputs": [
    {
     "data": {
      "image/png": "[encoded data removed]",
      "text/latex": [
       "$$- F_{11} \\theta^{F22} + F_{12} \\theta^{F21} - F_{21} \\theta^{F12} + F_{22} \\theta^{F11} + \\left(- F_{21} F_{22 x} + F_{21 x} F_{22}\\right) \\theta^{u}$$"
      ],
      "text/plain": [
       "-F₁₁⋅θ__F22 + F₁₂⋅θ__F21 - F₂₁⋅θ__F12 + F₂₂⋅θ__F11 + (-F₂₁⋅F₂₂ ₓ + F₂₁ ₓ⋅F₂₂)⋅\n",
       "θ__u"
      ]
     },
     "execution_count": 20,
     "metadata": {},
     "output_type": "execute_result"
    }
   ],
   "source": [
    "lp.Lie_derivative(A, n, pr_v1,w2)"
   ]
  },
  {
   "cell_type": "markdown",
   "metadata": {},
   "source": [
    "# Create Dictionary to Compute the Pullback of the Basic Contact Form"
   ]
  },
  {
   "cell_type": "code",
   "execution_count": 21,
   "metadata": {
    "collapsed": true
   },
   "outputs": [],
   "source": [
    "pullback = {symbols('F11'): cos(phi), symbols('F12'): -sin(phi), symbols('F21'): sin(phi), symbols('F22'): cos(phi),\n",
    "            symbols('F11_x'): -sin(phi)*symbols('varphi_x'), symbols('F12_x'): -cos(phi)*symbols('varphi_x'),\n",
    "            symbols('F21_x'): cos(phi)*symbols('varphi_x'), symbols('F22_x'): -sin(phi)*symbols('varphi_x'),\n",
    "            symbols('theta^F11', commutative=False): -sin(phi)*symbols('varphi_x')*symbols('\\\\theta^\\\\varphi'),\n",
    "            symbols('theta^F12', commutative=False): -cos(phi)*symbols('varphi_x')*symbols('\\\\theta^\\\\varphi'),\n",
    "            symbols('theta^F21', commutative=False):  cos(phi)*symbols('varphi_x')*symbols('\\\\theta^\\\\varphi'),\n",
    "            symbols('theta^F22', commutative=False): -sin(phi)*symbols('varphi_x')*symbols('\\\\theta^\\\\varphi')}"
   ]
  },
  {
   "cell_type": "code",
   "execution_count": 22,
   "metadata": {},
   "outputs": [
    {
     "data": {
      "image/png": "[encoded data removed]",
      "text/latex": [
       "$$- \\varphi_{x} \\theta^{u}$$"
      ],
      "text/plain": [
       "-varphiₓ⋅θ__u"
      ]
     },
     "execution_count": 22,
     "metadata": {},
     "output_type": "execute_result"
    }
   ],
   "source": [
    "simplify(lp.Lie_derivative(A, n, pr_v1,w1).subs(pullback))"
   ]
  },
  {
   "cell_type": "code",
   "execution_count": 23,
   "metadata": {},
   "outputs": [
    {
     "data": {
      "image/png": "[encoded data removed]",
      "text/latex": [
       "$$\\varphi_{x} \\theta^{u}$$"
      ],
      "text/plain": [
       "varphiₓ⋅θ__u"
      ]
     },
     "execution_count": 23,
     "metadata": {},
     "output_type": "execute_result"
    }
   ],
   "source": [
    "simplify(lp.Lie_derivative(A, n, pr_v1,w2).subs(pullback))"
   ]
  }
 ],
 "metadata": {
  "kernelspec": {
   "display_name": "Python 2.7",
   "language": "python",
   "name": "python2"
  },
  "language_info": {
   "codemirror_mode": {
    "name": "ipython",
    "version": 2
   },
   "file_extension": ".py",
   "mimetype": "text/x-python",
   "name": "python",
   "nbconvert_exporter": "python",
   "pygments_lexer": "ipython2",
   "version": "2.7.15"
  }
 },
 "nbformat": 4,
 "nbformat_minor": 2
}

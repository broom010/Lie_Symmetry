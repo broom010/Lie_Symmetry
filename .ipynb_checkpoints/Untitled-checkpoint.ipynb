{
 "cells": [
  {
   "cell_type": "markdown",
   "metadata": {},
   "source": [
    "# This is a test"
   ]
  },
  {
   "cell_type": "code",
   "execution_count": 1,
   "metadata": {
    "collapsed": true
   },
   "outputs": [],
   "source": [
    "import importlib\n",
    "import numpy as np\n",
    "from sympy import *\n",
    "import GrpTransform as gt         # Custom module written by Jimmy Broomfield\n",
    "import prolong_Fast as pf\n",
    "init_printing()"
   ]
  },
  {
   "cell_type": "code",
   "execution_count": 2,
   "metadata": {
    "collapsed": true
   },
   "outputs": [],
   "source": [
    "r = 3\n",
    "n = 4\n",
    "x = symbols('x')\n",
    "temp = dict(('a%d'%k, symbols('a%d'%k)) for k in range(1,r+1))\n",
    "locals().update(temp)\n",
    "temp = dict(('varphi'+'x'*k, Function('varphi'+'x'*k)(x)) for k in range(0,n+1))\n",
    "locals().update(temp)"
   ]
  },
  {
   "cell_type": "code",
   "execution_count": 8,
   "metadata": {},
   "outputs": [
    {
     "ename": "NameError",
     "evalue": "name 'a' is not defined",
     "output_type": "error",
     "traceback": [
      "\u001b[1;31m---------------------------------------------------------------------------\u001b[0m",
      "\u001b[1;31mNameError\u001b[0m                                 Traceback (most recent call last)",
      "\u001b[1;32m<ipython-input-8-e123bf939ee1>\u001b[0m in \u001b[0;36m<module>\u001b[1;34m()\u001b[0m\n\u001b[0;32m      1\u001b[0m \u001b[0mdict\u001b[0m\u001b[1;33m(\u001b[0m\u001b[1;33m(\u001b[0m\u001b[1;34m'a%d'\u001b[0m\u001b[1;33m%\u001b[0m\u001b[0mk\u001b[0m\u001b[1;33m,\u001b[0m \u001b[0msymbols\u001b[0m\u001b[1;33m(\u001b[0m\u001b[1;34m'a%d'\u001b[0m\u001b[1;33m%\u001b[0m\u001b[0mk\u001b[0m\u001b[1;33m)\u001b[0m\u001b[1;33m)\u001b[0m \u001b[1;32mfor\u001b[0m \u001b[0mk\u001b[0m \u001b[1;32min\u001b[0m \u001b[0mrange\u001b[0m\u001b[1;33m(\u001b[0m\u001b[1;36m1\u001b[0m\u001b[1;33m,\u001b[0m\u001b[0mr\u001b[0m\u001b[1;33m+\u001b[0m\u001b[1;36m1\u001b[0m\u001b[1;33m)\u001b[0m\u001b[1;33m)\u001b[0m\u001b[1;33m\u001b[0m\u001b[0m\n\u001b[1;32m----> 2\u001b[1;33m \u001b[0msubstitutions\u001b[0m \u001b[1;33m=\u001b[0m \u001b[0mdict\u001b[0m\u001b[1;33m(\u001b[0m\u001b[0mzip\u001b[0m\u001b[1;33m(\u001b[0m\u001b[1;33m[\u001b[0m\u001b[0mdiff\u001b[0m\u001b[1;33m(\u001b[0m\u001b[0mvarphi\u001b[0m\u001b[1;33m,\u001b[0m\u001b[0mx\u001b[0m\u001b[1;33m,\u001b[0m\u001b[0mn\u001b[0m\u001b[1;33m)\u001b[0m \u001b[1;32mfor\u001b[0m \u001b[0mn\u001b[0m \u001b[1;32min\u001b[0m \u001b[0mrange\u001b[0m\u001b[1;33m(\u001b[0m\u001b[1;36m5\u001b[0m\u001b[1;33m)\u001b[0m\u001b[1;33m]\u001b[0m\u001b[1;33m,\u001b[0m\u001b[0ma\u001b[0m\u001b[1;33m)\u001b[0m\u001b[1;33m)\u001b[0m\u001b[1;33m\u001b[0m\u001b[0m\n\u001b[0m",
      "\u001b[1;31mNameError\u001b[0m: name 'a' is not defined"
     ]
    }
   ],
   "source": [
    "dict(('a%d'%k, symbols('a%d'%k)) for k in range(1,r+1))\n",
    "substitutions = dict(zip([diff(varphi,x,n) for n in range(5)],a))"
   ]
  },
  {
   "cell_type": "code",
   "execution_count": 7,
   "metadata": {
    "collapsed": true
   },
   "outputs": [],
   "source": [
    "u = symbols('u')\n",
    "O = symbols('P')"
   ]
  },
  {
   "cell_type": "markdown",
   "metadata": {},
   "source": [
    "# Prolongation of $v_3$"
   ]
  },
  {
   "cell_type": "code",
   "execution_count": 5,
   "metadata": {},
   "outputs": [
    {
     "ename": "NameError",
     "evalue": "name 'substitutions' is not defined",
     "output_type": "error",
     "traceback": [
      "\u001b[1;31m---------------------------------------------------------------------------\u001b[0m",
      "\u001b[1;31mNameError\u001b[0m                                 Traceback (most recent call last)",
      "\u001b[1;32m<ipython-input-5-26a3d135ee1d>\u001b[0m in \u001b[0;36m<module>\u001b[1;34m()\u001b[0m\n\u001b[0;32m      1\u001b[0m \u001b[0mV\u001b[0m \u001b[1;33m=\u001b[0m \u001b[0mpf\u001b[0m\u001b[1;33m.\u001b[0m\u001b[0mProlong\u001b[0m\u001b[1;33m(\u001b[0m\u001b[1;33m[\u001b[0m\u001b[1;34m'x'\u001b[0m\u001b[1;33m]\u001b[0m\u001b[1;33m,\u001b[0m\u001b[1;33m[\u001b[0m\u001b[1;34m'u'\u001b[0m\u001b[1;33m,\u001b[0m \u001b[1;34m'P'\u001b[0m\u001b[1;33m]\u001b[0m\u001b[1;33m,\u001b[0m \u001b[1;33m[\u001b[0m\u001b[1;33m-\u001b[0m\u001b[0mu\u001b[0m\u001b[1;33m,\u001b[0m\u001b[0mx\u001b[0m\u001b[1;33m,\u001b[0m\u001b[1;36m1\u001b[0m\u001b[1;33m]\u001b[0m\u001b[1;33m,\u001b[0m \u001b[1;36m3\u001b[0m\u001b[1;33m)\u001b[0m\u001b[1;33m\u001b[0m\u001b[0m\n\u001b[1;32m----> 2\u001b[1;33m \u001b[1;33m[\u001b[0m\u001b[0msimplify\u001b[0m\u001b[1;33m(\u001b[0m\u001b[0mV\u001b[0m\u001b[1;33m[\u001b[0m\u001b[0mi\u001b[0m\u001b[1;33m]\u001b[0m\u001b[1;33m)\u001b[0m\u001b[1;33m.\u001b[0m\u001b[0msubs\u001b[0m\u001b[1;33m(\u001b[0m\u001b[0msubstitutions\u001b[0m\u001b[1;33m)\u001b[0m \u001b[1;32mfor\u001b[0m \u001b[0mi\u001b[0m \u001b[1;32min\u001b[0m \u001b[0mrange\u001b[0m\u001b[1;33m(\u001b[0m\u001b[0mlen\u001b[0m\u001b[1;33m(\u001b[0m\u001b[0mV\u001b[0m\u001b[1;33m)\u001b[0m\u001b[1;33m)\u001b[0m\u001b[1;33m]\u001b[0m\u001b[1;33m\u001b[0m\u001b[0m\n\u001b[0m",
      "\u001b[1;31mNameError\u001b[0m: name 'substitutions' is not defined"
     ]
    }
   ],
   "source": [
    "V = pf.Prolong(['x'],['u', 'P'], [-u,x,1], 3)\n",
    "[simplify(V[i]).subs(substitutions) for i in range(len(V))]"
   ]
  },
  {
   "cell_type": "markdown",
   "metadata": {},
   "source": [
    "## Invariant Euler Lagrange equations for $\\kappa\\, ds$"
   ]
  },
  {
   "cell_type": "code",
   "execution_count": 12,
   "metadata": {
    "collapsed": true
   },
   "outputs": [],
   "source": [
    "x = symbols('x')\n",
    "u = Function('u')(x)\n",
    "P = Function('P')(x)"
   ]
  },
  {
   "cell_type": "code",
   "execution_count": 13,
   "metadata": {
    "collapsed": true
   },
   "outputs": [],
   "source": [
    "expr = cos(P)+diff(u,x)*sin(P)\n",
    "I1 = diff(u,x)\n",
    "I2 = diff(u,x,2)\n",
    "J2 = diff(P,x)"
   ]
  },
  {
   "cell_type": "code",
   "execution_count": 14,
   "metadata": {},
   "outputs": [
    {
     "data": {
      "image/png": "[encoded data removed]",
      "text/latex": [
       "$$- \\frac{d}{d x} P{\\left (x \\right )} \\left(\\frac{d}{d x} u{\\left (x \\right )}\\right)^{3} - \\frac{d}{d x} P{\\left (x \\right )} \\frac{d}{d x} u{\\left (x \\right )} + \\frac{d}{d x} u{\\left (x \\right )} \\frac{d^{2}}{d x^{2}}  u{\\left (x \\right )} + 1$$"
      ],
      "text/plain": [
       "                     3                                  2          \n",
       "  d        ⎛d       ⎞    d        d          d         d           \n",
       "- ──(P(x))⋅⎜──(u(x))⎟  - ──(P(x))⋅──(u(x)) + ──(u(x))⋅───(u(x)) + 1\n",
       "  dx       ⎝dx      ⎠    dx       dx         dx         2          \n",
       "                                                      dx           "
      ]
     },
     "execution_count": 14,
     "metadata": {},
     "output_type": "execute_result"
    }
   ],
   "source": [
    "simplify(1+I1*I2-I1*J2-I1**3*J2)"
   ]
  },
  {
   "cell_type": "code",
   "execution_count": 15,
   "metadata": {},
   "outputs": [
    {
     "data": {
      "image/png": "[encoded data removed]",
      "text/latex": [
       "$$\\frac{d}{d x} u{\\left (x \\right )} \\frac{d^{2}}{d x^{2}}  u{\\left (x \\right )}$$"
      ],
      "text/plain": [
       "           2      \n",
       "d         d       \n",
       "──(u(x))⋅───(u(x))\n",
       "dx         2      \n",
       "         dx       "
      ]
     },
     "execution_count": 15,
     "metadata": {},
     "output_type": "execute_result"
    }
   ],
   "source": [
    "I1*I2"
   ]
  },
  {
   "cell_type": "markdown",
   "metadata": {},
   "source": [
    "# Euler Elastica"
   ]
  },
  {
   "cell_type": "code",
   "execution_count": 71,
   "metadata": {
    "collapsed": true
   },
   "outputs": [],
   "source": [
    "x = symbols('x')\n",
    "u = Function('u')(x)\n",
    "kappa = diff(u,x,2)/(1.+diff(u,x)**2)**(3/2)\n",
    "Lagrangian = (1./2.)*kappa**2*sqrt(1.+diff(u,x)**2)"
   ]
  },
  {
   "cell_type": "code",
   "execution_count": 84,
   "metadata": {
    "collapsed": true
   },
   "outputs": [],
   "source": [
    "I3 = 1./(sqrt(1.+diff(u,x)**2))*diff(kappa,x)\n",
    "kappa_s = I3\n",
    "\n",
    "I_4 = 1./(sqrt(1.+diff(u,x)**2))*diff(kappa_s,x)\n",
    "kappa_ss = I_4 - 3*kappa**3"
   ]
  },
  {
   "cell_type": "code",
   "execution_count": 85,
   "metadata": {},
   "outputs": [
    {
     "data": {
      "image/png": "[encoded data removed]",
      "text/latex": [
       "$$\\frac{1}{\\left(\\left(\\frac{d}{d x} u{\\left (x \\right )}\\right)^{2} + 1.0\\right)^{\\frac{5}{2}}} \\left(1.0 \\left(\\left(\\frac{d}{d x} u{\\left (x \\right )}\\right)^{2} + 1.0\\right) \\frac{d^{3}}{d x^{3}}  u{\\left (x \\right )} - 2.0 \\frac{d}{d x} u{\\left (x \\right )} \\left(\\frac{d^{2}}{d x^{2}}  u{\\left (x \\right )}\\right)^{2}\\right)$$"
      ],
      "text/plain": [
       "                                                            2\n",
       "    ⎛          2      ⎞   3                      ⎛  2      ⎞ \n",
       "    ⎜⎛d       ⎞       ⎟  d              d        ⎜ d       ⎟ \n",
       "1.0⋅⎜⎜──(u(x))⎟  + 1.0⎟⋅───(u(x)) - 2.0⋅──(u(x))⋅⎜───(u(x))⎟ \n",
       "    ⎝⎝dx      ⎠       ⎠   3             dx       ⎜  2      ⎟ \n",
       "                        dx                       ⎝dx       ⎠ \n",
       "─────────────────────────────────────────────────────────────\n",
       "                                       5/2                   \n",
       "                    ⎛          2      ⎞                      \n",
       "                    ⎜⎛d       ⎞       ⎟                      \n",
       "                    ⎜⎜──(u(x))⎟  + 1.0⎟                      \n",
       "                    ⎝⎝dx      ⎠       ⎠                      "
      ]
     },
     "execution_count": 85,
     "metadata": {},
     "output_type": "execute_result"
    }
   ],
   "source": [
    "simplify(kappa_s)"
   ]
  },
  {
   "cell_type": "code",
   "execution_count": 86,
   "metadata": {},
   "outputs": [
    {
     "data": {
      "image/png": "[encoded data removed]",
      "text/latex": [
       "$$\\frac{1.0}{1.0 \\left(\\frac{d}{d x} u{\\left (x \\right )}\\right)^{8} + 4.0 \\left(\\frac{d}{d x} u{\\left (x \\right )}\\right)^{6} + 6.0 \\left(\\frac{d}{d x} u{\\left (x \\right )}\\right)^{4} + 4.0 \\left(\\frac{d}{d x} u{\\left (x \\right )}\\right)^{2} + 1.0} \\left(1.0 \\left(\\frac{d}{d x} u{\\left (x \\right )}\\right)^{4} \\frac{d^{4}}{d x^{4}}  u{\\left (x \\right )} - 7.0 \\left(\\frac{d}{d x} u{\\left (x \\right )}\\right)^{3} \\frac{d^{2}}{d x^{2}}  u{\\left (x \\right )} \\frac{d^{3}}{d x^{3}}  u{\\left (x \\right )} + 5.0 \\left(\\frac{d}{d x} u{\\left (x \\right )}\\right)^{2} \\left(\\frac{d^{2}}{d x^{2}}  u{\\left (x \\right )}\\right)^{3} + 2.0 \\left(\\frac{d}{d x} u{\\left (x \\right )}\\right)^{2} \\frac{d^{4}}{d x^{4}}  u{\\left (x \\right )} - 7.0 \\frac{d}{d x} u{\\left (x \\right )} \\frac{d^{2}}{d x^{2}}  u{\\left (x \\right )} \\frac{d^{3}}{d x^{3}}  u{\\left (x \\right )} - 5.0 \\left(\\frac{d^{2}}{d x^{2}}  u{\\left (x \\right )}\\right)^{3} + 1.0 \\frac{d^{4}}{d x^{4}}  u{\\left (x \\right )}\\right)$$"
      ],
      "text/plain": [
       "    ⎛                                                                         \n",
       "    ⎜              4   4                       3   2         3                \n",
       "    ⎜    ⎛d       ⎞   d              ⎛d       ⎞   d         d              ⎛d \n",
       "1.0⋅⎜1.0⋅⎜──(u(x))⎟ ⋅───(u(x)) - 7.0⋅⎜──(u(x))⎟ ⋅───(u(x))⋅───(u(x)) + 5.0⋅⎜──\n",
       "    ⎜    ⎝dx      ⎠    4             ⎝dx      ⎠    2         3             ⎝dx\n",
       "    ⎝                dx                          dx        dx                 \n",
       "──────────────────────────────────────────────────────────────────────────────\n",
       "                                                                           8  \n",
       "                                                                 ⎛d       ⎞   \n",
       "                                                             1.0⋅⎜──(u(x))⎟  +\n",
       "                                                                 ⎝dx      ⎠   \n",
       "\n",
       "                    3                                                         \n",
       "       2 ⎛  2      ⎞                  2   4                        2         3\n",
       "      ⎞  ⎜ d       ⎟        ⎛d       ⎞   d              d         d         d \n",
       "(u(x))⎟ ⋅⎜───(u(x))⎟  + 2.0⋅⎜──(u(x))⎟ ⋅───(u(x)) - 7.0⋅──(u(x))⋅───(u(x))⋅───\n",
       "      ⎠  ⎜  2      ⎟        ⎝dx      ⎠    4             dx         2         3\n",
       "         ⎝dx       ⎠                    dx                       dx        dx \n",
       "──────────────────────────────────────────────────────────────────────────────\n",
       "               6                 4                 2                          \n",
       "     ⎛d       ⎞        ⎛d       ⎞        ⎛d       ⎞                           \n",
       " 4.0⋅⎜──(u(x))⎟  + 6.0⋅⎜──(u(x))⎟  + 4.0⋅⎜──(u(x))⎟  + 1.0                    \n",
       "     ⎝dx      ⎠        ⎝dx      ⎠        ⎝dx      ⎠                           \n",
       "\n",
       "                        3                ⎞\n",
       "             ⎛  2      ⎞          4      ⎟\n",
       "             ⎜ d       ⎟         d       ⎟\n",
       "(u(x)) - 5.0⋅⎜───(u(x))⎟  + 1.0⋅───(u(x))⎟\n",
       "             ⎜  2      ⎟          4      ⎟\n",
       "             ⎝dx       ⎠        dx       ⎠\n",
       "──────────────────────────────────────────\n",
       "                                          \n",
       "                                          \n",
       "                                          \n",
       "                                          "
      ]
     },
     "execution_count": 86,
     "metadata": {},
     "output_type": "execute_result"
    }
   ],
   "source": [
    "simplify(kappa_ss)"
   ]
  },
  {
   "cell_type": "markdown",
   "metadata": {},
   "source": [
    "## Invariant Euler Elastica"
   ]
  },
  {
   "cell_type": "code",
   "execution_count": 87,
   "metadata": {},
   "outputs": [
    {
     "data": {
      "image/png": "[encoded data removed]",
      "text/latex": [
       "$$\\frac{1.0}{1.0 \\left(\\frac{d}{d x} u{\\left (x \\right )}\\right)^{8} + 4.0 \\left(\\frac{d}{d x} u{\\left (x \\right )}\\right)^{6} + 6.0 \\left(\\frac{d}{d x} u{\\left (x \\right )}\\right)^{4} + 4.0 \\left(\\frac{d}{d x} u{\\left (x \\right )}\\right)^{2} + 1.0} \\left(1.0 \\left(\\frac{d}{d x} u{\\left (x \\right )}\\right)^{4} \\frac{d^{4}}{d x^{4}}  u{\\left (x \\right )} - 7.0 \\left(\\frac{d}{d x} u{\\left (x \\right )}\\right)^{3} \\frac{d^{2}}{d x^{2}}  u{\\left (x \\right )} \\frac{d^{3}}{d x^{3}}  u{\\left (x \\right )} + 5.5 \\left(\\frac{d}{d x} u{\\left (x \\right )}\\right)^{2} \\left(\\frac{d^{2}}{d x^{2}}  u{\\left (x \\right )}\\right)^{3} + 2.0 \\left(\\frac{d}{d x} u{\\left (x \\right )}\\right)^{2} \\frac{d^{4}}{d x^{4}}  u{\\left (x \\right )} - 7.0 \\frac{d}{d x} u{\\left (x \\right )} \\frac{d^{2}}{d x^{2}}  u{\\left (x \\right )} \\frac{d^{3}}{d x^{3}}  u{\\left (x \\right )} - 4.5 \\left(\\frac{d^{2}}{d x^{2}}  u{\\left (x \\right )}\\right)^{3} + 1.0 \\frac{d^{4}}{d x^{4}}  u{\\left (x \\right )}\\right)$$"
      ],
      "text/plain": [
       "    ⎛                                                                         \n",
       "    ⎜              4   4                       3   2         3                \n",
       "    ⎜    ⎛d       ⎞   d              ⎛d       ⎞   d         d              ⎛d \n",
       "1.0⋅⎜1.0⋅⎜──(u(x))⎟ ⋅───(u(x)) - 7.0⋅⎜──(u(x))⎟ ⋅───(u(x))⋅───(u(x)) + 5.5⋅⎜──\n",
       "    ⎜    ⎝dx      ⎠    4             ⎝dx      ⎠    2         3             ⎝dx\n",
       "    ⎝                dx                          dx        dx                 \n",
       "──────────────────────────────────────────────────────────────────────────────\n",
       "                                                                           8  \n",
       "                                                                 ⎛d       ⎞   \n",
       "                                                             1.0⋅⎜──(u(x))⎟  +\n",
       "                                                                 ⎝dx      ⎠   \n",
       "\n",
       "                    3                                                         \n",
       "       2 ⎛  2      ⎞                  2   4                        2         3\n",
       "      ⎞  ⎜ d       ⎟        ⎛d       ⎞   d              d         d         d \n",
       "(u(x))⎟ ⋅⎜───(u(x))⎟  + 2.0⋅⎜──(u(x))⎟ ⋅───(u(x)) - 7.0⋅──(u(x))⋅───(u(x))⋅───\n",
       "      ⎠  ⎜  2      ⎟        ⎝dx      ⎠    4             dx         2         3\n",
       "         ⎝dx       ⎠                    dx                       dx        dx \n",
       "──────────────────────────────────────────────────────────────────────────────\n",
       "               6                 4                 2                          \n",
       "     ⎛d       ⎞        ⎛d       ⎞        ⎛d       ⎞                           \n",
       " 4.0⋅⎜──(u(x))⎟  + 6.0⋅⎜──(u(x))⎟  + 4.0⋅⎜──(u(x))⎟  + 1.0                    \n",
       "     ⎝dx      ⎠        ⎝dx      ⎠        ⎝dx      ⎠                           \n",
       "\n",
       "                        3                ⎞\n",
       "             ⎛  2      ⎞          4      ⎟\n",
       "             ⎜ d       ⎟         d       ⎟\n",
       "(u(x)) - 4.5⋅⎜───(u(x))⎟  + 1.0⋅───(u(x))⎟\n",
       "             ⎜  2      ⎟          4      ⎟\n",
       "             ⎝dx       ⎠        dx       ⎠\n",
       "──────────────────────────────────────────\n",
       "                                          \n",
       "                                          \n",
       "                                          \n",
       "                                          "
      ]
     },
     "execution_count": 87,
     "metadata": {},
     "output_type": "execute_result"
    }
   ],
   "source": [
    "simplify(kappa_ss + 1./2.*kappa**3)"
   ]
  },
  {
   "cell_type": "markdown",
   "metadata": {},
   "source": [
    "## Classic Euler Elastica"
   ]
  },
  {
   "cell_type": "code",
   "execution_count": 88,
   "metadata": {
    "scrolled": false
   },
   "outputs": [
    {
     "data": {
      "image/png": "[encoded data removed]",
      "text/latex": [
       "$$\\frac{1.0}{\\sqrt{\\left(\\frac{d}{d x} u{\\left (x \\right )}\\right)^{2} + 1.0} \\left(1.0 \\left(\\frac{d}{d x} u{\\left (x \\right )}\\right)^{6} + 3.0 \\left(\\frac{d}{d x} u{\\left (x \\right )}\\right)^{4} + 3.0 \\left(\\frac{d}{d x} u{\\left (x \\right )}\\right)^{2} + 1.0\\right)} \\left(1.0 \\left(\\frac{d}{d x} u{\\left (x \\right )}\\right)^{4} \\frac{d^{4}}{d x^{4}}  u{\\left (x \\right )} - 6.0 \\left(\\frac{d}{d x} u{\\left (x \\right )}\\right)^{3} \\frac{d^{2}}{d x^{2}}  u{\\left (x \\right )} \\frac{d^{3}}{d x^{3}}  u{\\left (x \\right )} + 6.0 \\left(\\frac{d}{d x} u{\\left (x \\right )}\\right)^{2} \\left(\\frac{d^{2}}{d x^{2}}  u{\\left (x \\right )}\\right)^{3} + 2.0 \\left(\\frac{d}{d x} u{\\left (x \\right )}\\right)^{2} \\frac{d^{4}}{d x^{4}}  u{\\left (x \\right )} - 6.0 \\frac{d}{d x} u{\\left (x \\right )} \\frac{d^{2}}{d x^{2}}  u{\\left (x \\right )} \\frac{d^{3}}{d x^{3}}  u{\\left (x \\right )} - 1.5 \\left(\\frac{d^{2}}{d x^{2}}  u{\\left (x \\right )}\\right)^{3} + 1.0 \\frac{d^{4}}{d x^{4}}  u{\\left (x \\right )}\\right)$$"
      ],
      "text/plain": [
       "    ⎛                                                                         \n",
       "    ⎜              4   4                       3   2         3                \n",
       "    ⎜    ⎛d       ⎞   d              ⎛d       ⎞   d         d              ⎛d \n",
       "1.0⋅⎜1.0⋅⎜──(u(x))⎟ ⋅───(u(x)) - 6.0⋅⎜──(u(x))⎟ ⋅───(u(x))⋅───(u(x)) + 6.0⋅⎜──\n",
       "    ⎜    ⎝dx      ⎠    4             ⎝dx      ⎠    2         3             ⎝dx\n",
       "    ⎝                dx                          dx        dx                 \n",
       "──────────────────────────────────────────────────────────────────────────────\n",
       "                                                              ________________\n",
       "                                                             ╱           2    \n",
       "                                                            ╱  ⎛d       ⎞     \n",
       "                                                           ╱   ⎜──(u(x))⎟  + 1\n",
       "                                                         ╲╱    ⎝dx      ⎠     \n",
       "\n",
       "                    3                                                         \n",
       "       2 ⎛  2      ⎞                  2   4                        2         3\n",
       "      ⎞  ⎜ d       ⎟        ⎛d       ⎞   d              d         d         d \n",
       "(u(x))⎟ ⋅⎜───(u(x))⎟  + 2.0⋅⎜──(u(x))⎟ ⋅───(u(x)) - 6.0⋅──(u(x))⋅───(u(x))⋅───\n",
       "      ⎠  ⎜  2      ⎟        ⎝dx      ⎠    4             dx         2         3\n",
       "         ⎝dx       ⎠                    dx                       dx        dx \n",
       "──────────────────────────────────────────────────────────────────────────────\n",
       "___                                                                           \n",
       "    ⎛              6                 4                 2      ⎞               \n",
       "    ⎜    ⎛d       ⎞        ⎛d       ⎞        ⎛d       ⎞       ⎟               \n",
       ".0 ⋅⎜1.0⋅⎜──(u(x))⎟  + 3.0⋅⎜──(u(x))⎟  + 3.0⋅⎜──(u(x))⎟  + 1.0⎟               \n",
       "    ⎝    ⎝dx      ⎠        ⎝dx      ⎠        ⎝dx      ⎠       ⎠               \n",
       "\n",
       "                        3                ⎞\n",
       "             ⎛  2      ⎞          4      ⎟\n",
       "             ⎜ d       ⎟         d       ⎟\n",
       "(u(x)) - 1.5⋅⎜───(u(x))⎟  + 1.0⋅───(u(x))⎟\n",
       "             ⎜  2      ⎟          4      ⎟\n",
       "             ⎝dx       ⎠        dx       ⎠\n",
       "──────────────────────────────────────────\n",
       "                                          \n",
       "                                          \n",
       "                                          \n",
       "                                          \n",
       "                                          "
      ]
     },
     "execution_count": 88,
     "metadata": {},
     "output_type": "execute_result"
    }
   ],
   "source": [
    "simplify(-diff(diff(Lagrangian,diff(u,x)),x) + diff(diff(Lagrangian,diff(u,x,2)),x,2))"
   ]
  },
  {
   "cell_type": "markdown",
   "metadata": {},
   "source": [
    "# Framed Curve Lagrangian Examples\n",
    "## Example 1"
   ]
  },
  {
   "cell_type": "code",
   "execution_count": 120,
   "metadata": {
    "collapsed": true
   },
   "outputs": [],
   "source": [
    "x = symbols('x')\n",
    "u = Function('u')(x)\n",
    "P = Function('P')(x)\n",
    "Lagrangian = (cos(P) + sin(P)*diff(u,x))"
   ]
  },
  {
   "cell_type": "markdown",
   "metadata": {},
   "source": [
    "### Classical Approach"
   ]
  },
  {
   "cell_type": "code",
   "execution_count": 121,
   "metadata": {},
   "outputs": [
    {
     "data": {
      "image/png": "[encoded data removed]",
      "text/latex": [
       "$$\\cos{\\left (P{\\left (x \\right )} \\right )} \\frac{d}{d x} P{\\left (x \\right )}$$"
      ],
      "text/plain": [
       "          d       \n",
       "cos(P(x))⋅──(P(x))\n",
       "          dx      "
      ]
     },
     "execution_count": 121,
     "metadata": {},
     "output_type": "execute_result"
    }
   ],
   "source": [
    "diff(diff(Lagrangian,diff(u,x)),x)"
   ]
  },
  {
   "cell_type": "code",
   "execution_count": 122,
   "metadata": {},
   "outputs": [
    {
     "data": {
      "image/png": "[encoded data removed]",
      "text/latex": [
       "$$- \\sin{\\left (P{\\left (x \\right )} \\right )} + \\cos{\\left (P{\\left (x \\right )} \\right )} \\frac{d}{d x} u{\\left (x \\right )}$$"
      ],
      "text/plain": [
       "                       d       \n",
       "-sin(P(x)) + cos(P(x))⋅──(u(x))\n",
       "                       dx      "
      ]
     },
     "execution_count": 122,
     "metadata": {},
     "output_type": "execute_result"
    }
   ],
   "source": [
    "diff(Lagrangian,P)"
   ]
  },
  {
   "cell_type": "markdown",
   "metadata": {},
   "source": [
    "These two equations can be summarized as:\n",
    "$$\\varphi_x = 0$$\n",
    "and\n",
    "$$u_x = \\tan(\\varphi)$$"
   ]
  },
  {
   "cell_type": "markdown",
   "metadata": {},
   "source": [
    "### Invariant Approach"
   ]
  },
  {
   "cell_type": "code",
   "execution_count": 177,
   "metadata": {
    "collapsed": true
   },
   "outputs": [],
   "source": [
    "kappa = (diff(u,x)*cos(P) - sin(P))/(cos(P) + diff(u,x)*sin(P))\n",
    "mu = diff(P,x)/(cos(P) + diff(u,x)*sin(P))"
   ]
  },
  {
   "cell_type": "code",
   "execution_count": 178,
   "metadata": {},
   "outputs": [
    {
     "data": {
      "image/png": "[encoded data removed]",
      "text/latex": [
       "$$- \\frac{- \\sin{\\left (P{\\left (x \\right )} \\right )} + \\cos{\\left (P{\\left (x \\right )} \\right )} \\frac{d}{d x} u{\\left (x \\right )}}{\\sin{\\left (P{\\left (x \\right )} \\right )} \\frac{d}{d x} u{\\left (x \\right )} + \\cos{\\left (P{\\left (x \\right )} \\right )}}$$"
      ],
      "text/plain": [
       " ⎛                       d       ⎞ \n",
       "-⎜-sin(P(x)) + cos(P(x))⋅──(u(x))⎟ \n",
       " ⎝                       dx      ⎠ \n",
       "───────────────────────────────────\n",
       "             d                     \n",
       "   sin(P(x))⋅──(u(x)) + cos(P(x))  \n",
       "             dx                    "
      ]
     },
     "execution_count": 178,
     "metadata": {},
     "output_type": "execute_result"
    }
   ],
   "source": [
    "-kappa"
   ]
  },
  {
   "cell_type": "code",
   "execution_count": 179,
   "metadata": {},
   "outputs": [
    {
     "data": {
      "image/png": "[encoded data removed]",
      "text/latex": [
       "$$- \\frac{\\frac{d}{d x} P{\\left (x \\right )}}{\\sin{\\left (P{\\left (x \\right )} \\right )} \\frac{d}{d x} u{\\left (x \\right )} + \\cos{\\left (P{\\left (x \\right )} \\right )}}$$"
      ],
      "text/plain": [
       "           d                  \n",
       "          -──(P(x))           \n",
       "           dx                 \n",
       "──────────────────────────────\n",
       "          d                   \n",
       "sin(P(x))⋅──(u(x)) + cos(P(x))\n",
       "          dx                  "
      ]
     },
     "execution_count": 179,
     "metadata": {},
     "output_type": "execute_result"
    }
   ],
   "source": [
    "-mu"
   ]
  },
  {
   "cell_type": "markdown",
   "metadata": {},
   "source": [
    "If the these two expressions are zero, then we again arive at the result that\n",
    "$$\\varphi_x = 0$$\n",
    "and\n",
    "$$u_x = \\tan(\\varphi)$$"
   ]
  },
  {
   "cell_type": "markdown",
   "metadata": {},
   "source": [
    "## Example 2"
   ]
  },
  {
   "cell_type": "code",
   "execution_count": 180,
   "metadata": {
    "collapsed": true
   },
   "outputs": [],
   "source": [
    "x = symbols('x')\n",
    "u = Function('u')(x)\n",
    "P = Function('P')(x)\n",
    "kappa = (diff(u,x)*cos(P) - sin(P))/(cos(P) + diff(u,x)*sin(P))\n",
    "mu = diff(P,x)/(cos(P) + diff(u,x)*sin(P))\n",
    "Lagrangian = kappa*(cos(P)+sin(P)*diff(u,x))"
   ]
  },
  {
   "cell_type": "markdown",
   "metadata": {},
   "source": [
    "### Classical Approach"
   ]
  },
  {
   "cell_type": "code",
   "execution_count": 181,
   "metadata": {},
   "outputs": [
    {
     "data": {
      "image/png": "[encoded data removed]",
      "text/latex": [
       "$$\\sin{\\left (P{\\left (x \\right )} \\right )} \\frac{d}{d x} P{\\left (x \\right )}$$"
      ],
      "text/plain": [
       "          d       \n",
       "sin(P(x))⋅──(P(x))\n",
       "          dx      "
      ]
     },
     "execution_count": 181,
     "metadata": {},
     "output_type": "execute_result"
    }
   ],
   "source": [
    "simplify(diff(Lagrangian,u) - diff(diff(Lagrangian,diff(u,x)),x))"
   ]
  },
  {
   "cell_type": "code",
   "execution_count": 182,
   "metadata": {},
   "outputs": [
    {
     "data": {
      "image/png": "[encoded data removed]",
      "text/latex": [
       "$$- \\sin{\\left (P{\\left (x \\right )} \\right )} \\frac{d}{d x} u{\\left (x \\right )} - \\cos{\\left (P{\\left (x \\right )} \\right )}$$"
      ],
      "text/plain": [
       "            d                   \n",
       "- sin(P(x))⋅──(u(x)) - cos(P(x))\n",
       "            dx                  "
      ]
     },
     "execution_count": 182,
     "metadata": {},
     "output_type": "execute_result"
    }
   ],
   "source": [
    "simplify(diff(Lagrangian,P) - diff(diff(Lagrangian,diff(P,x)),x))"
   ]
  },
  {
   "cell_type": "markdown",
   "metadata": {},
   "source": [
    "These two equations can be summarized as:\n",
    "$$\\varphi_x = 0$$\n",
    "and\n",
    "$$u_x = -\\cot(\\varphi)$$"
   ]
  },
  {
   "cell_type": "markdown",
   "metadata": {},
   "source": [
    "### Invariant Approach"
   ]
  },
  {
   "cell_type": "code",
   "execution_count": 127,
   "metadata": {
    "collapsed": true
   },
   "outputs": [],
   "source": [
    "E_kappa = 1\n",
    "E_mu = 0\n",
    "Hamiltonian = -kappa"
   ]
  },
  {
   "cell_type": "code",
   "execution_count": 129,
   "metadata": {},
   "outputs": [
    {
     "data": {
      "image/png": "[encoded data removed]",
      "text/latex": [
       "$$- \\frac{2 \\left(\\sin{\\left (P{\\left (x \\right )} \\right )} - \\cos{\\left (P{\\left (x \\right )} \\right )} \\frac{d}{d x} u{\\left (x \\right )}\\right) \\frac{d}{d x} P{\\left (x \\right )}}{\\left(\\sin{\\left (P{\\left (x \\right )} \\right )} \\frac{d}{d x} u{\\left (x \\right )} + \\cos{\\left (P{\\left (x \\right )} \\right )}\\right)^{2}}$$"
      ],
      "text/plain": [
       "   ⎛                      d       ⎞ d        \n",
       "-2⋅⎜sin(P(x)) - cos(P(x))⋅──(u(x))⎟⋅──(P(x)) \n",
       "   ⎝                      dx      ⎠ dx       \n",
       "─────────────────────────────────────────────\n",
       "                                      2      \n",
       "      ⎛          d                   ⎞       \n",
       "      ⎜sin(P(x))⋅──(u(x)) + cos(P(x))⎟       \n",
       "      ⎝          dx                  ⎠       "
      ]
     },
     "execution_count": 129,
     "metadata": {},
     "output_type": "execute_result"
    }
   ],
   "source": [
    "simplify(kappa*mu*E_kappa - mu*Hamiltonian)"
   ]
  },
  {
   "cell_type": "code",
   "execution_count": 134,
   "metadata": {},
   "outputs": [
    {
     "data": {
      "image/png": "[encoded data removed]",
      "text/latex": [
       "$$-1 - \\frac{2 \\left(\\sin{\\left (P{\\left (x \\right )} \\right )} - \\cos{\\left (P{\\left (x \\right )} \\right )} \\frac{d}{d x} u{\\left (x \\right )}\\right)^{2}}{\\left(\\sin{\\left (P{\\left (x \\right )} \\right )} \\frac{d}{d x} u{\\left (x \\right )} + \\cos{\\left (P{\\left (x \\right )} \\right )}\\right)^{2}}$$"
      ],
      "text/plain": [
       "                                       2\n",
       "       ⎛                      d       ⎞ \n",
       "     2⋅⎜sin(P(x)) - cos(P(x))⋅──(u(x))⎟ \n",
       "       ⎝                      dx      ⎠ \n",
       "-1 - ───────────────────────────────────\n",
       "                                      2 \n",
       "      ⎛          d                   ⎞  \n",
       "      ⎜sin(P(x))⋅──(u(x)) + cos(P(x))⎟  \n",
       "      ⎝          dx                  ⎠  "
      ]
     },
     "execution_count": 134,
     "metadata": {},
     "output_type": "execute_result"
    }
   ],
   "source": [
    "simplify(-(1+kappa**2)*E_kappa + kappa*Hamiltonian)"
   ]
  },
  {
   "cell_type": "markdown",
   "metadata": {},
   "source": [
    "These equations can be summarized as:\n",
    "$$\\varphi_x = 0$$\n",
    "and\n",
    "$$u_x = i$$"
   ]
  },
  {
   "cell_type": "markdown",
   "metadata": {},
   "source": [
    "## Example 3"
   ]
  },
  {
   "cell_type": "code",
   "execution_count": 167,
   "metadata": {
    "collapsed": true
   },
   "outputs": [],
   "source": [
    "x = symbols('x')\n",
    "u = Function('u')(x)\n",
    "P = Function('P')(x)\n",
    "kappa = (diff(u,x)*cos(P) - sin(P))/(cos(P) + diff(u,x)*sin(P))\n",
    "mu = diff(P,x)/(cos(P) + diff(u,x)*sin(P))\n",
    "Lagrangian = mu*(cos(P)+sin(P)*diff(u,x))"
   ]
  },
  {
   "cell_type": "markdown",
   "metadata": {},
   "source": [
    "### Classical Approach"
   ]
  },
  {
   "cell_type": "code",
   "execution_count": 168,
   "metadata": {},
   "outputs": [
    {
     "data": {
      "image/png": "[encoded data removed]",
      "text/latex": [
       "$$0$$"
      ],
      "text/plain": [
       "0"
      ]
     },
     "execution_count": 168,
     "metadata": {},
     "output_type": "execute_result"
    }
   ],
   "source": [
    "simplify(diff(Lagrangian, diff(Lagrangian,u) - diff(diff(Lagrangian,diff(u,x)),x))"
   ]
  },
  {
   "cell_type": "code",
   "execution_count": 169,
   "metadata": {},
   "outputs": [
    {
     "data": {
      "image/png": "[encoded data removed]",
      "text/latex": [
       "$$0$$"
      ],
      "text/plain": [
       "0"
      ]
     },
     "execution_count": 169,
     "metadata": {},
     "output_type": "execute_result"
    }
   ],
   "source": [
    "simplify(diff(Lagrangian,P) - diff(diff(Lagrangian,diff(P,x)),x))"
   ]
  },
  {
   "cell_type": "markdown",
   "metadata": {},
   "source": [
    "Here we find that the Lagrangian $L = \\mu\\, ds$ is a null Lagrangian"
   ]
  },
  {
   "cell_type": "markdown",
   "metadata": {},
   "source": [
    "### Invariant Approach"
   ]
  },
  {
   "cell_type": "code",
   "execution_count": 142,
   "metadata": {
    "collapsed": true
   },
   "outputs": [],
   "source": [
    "E_kappa = 0\n",
    "E_mu = 1\n",
    "Hamiltonian = -mu"
   ]
  },
  {
   "cell_type": "code",
   "execution_count": 143,
   "metadata": {},
   "outputs": [
    {
     "data": {
      "image/png": "[encoded data removed]",
      "text/latex": [
       "$$\\frac{2 \\left(\\frac{d}{d x} P{\\left (x \\right )}\\right)^{2}}{\\left(\\sin{\\left (P{\\left (x \\right )} \\right )} \\frac{d}{d x} u{\\left (x \\right )} + \\cos{\\left (P{\\left (x \\right )} \\right )}\\right)^{2}}$$"
      ],
      "text/plain": [
       "                      2          \n",
       "            ⎛d       ⎞           \n",
       "          2⋅⎜──(P(x))⎟           \n",
       "            ⎝dx      ⎠           \n",
       "─────────────────────────────────\n",
       "                                2\n",
       "⎛          d                   ⎞ \n",
       "⎜sin(P(x))⋅──(u(x)) + cos(P(x))⎟ \n",
       "⎝          dx                  ⎠ "
      ]
     },
     "execution_count": 143,
     "metadata": {},
     "output_type": "execute_result"
    }
   ],
   "source": [
    "simplify(mu**2*E_mu - mu*Hamiltonian)"
   ]
  },
  {
   "cell_type": "code",
   "execution_count": 144,
   "metadata": {},
   "outputs": [
    {
     "data": {
      "image/png": "[encoded data removed]",
      "text/latex": [
       "$$0$$"
      ],
      "text/plain": [
       "0"
      ]
     },
     "execution_count": 144,
     "metadata": {},
     "output_type": "execute_result"
    }
   ],
   "source": [
    "simplify(kappa*mu*E_mu+kappa*Hamiltonian)"
   ]
  },
  {
   "cell_type": "markdown",
   "metadata": {},
   "source": [
    "These equations reduce to a single equation:\n",
    "    \n",
    "$$\\varphi_x = 0$$\n",
    "\n",
    "This is not quite the same as the original Euler-Lagrange Equations."
   ]
  },
  {
   "cell_type": "markdown",
   "metadata": {},
   "source": [
    "# Example for $SE(3)$ Symmetry with $L=\\kappa\\,ds$"
   ]
  },
  {
   "cell_type": "code",
   "execution_count": 156,
   "metadata": {
    "collapsed": true
   },
   "outputs": [],
   "source": [
    "x = symbols('x')\n",
    "u = Function('u')(x)\n",
    "kappa = diff(u,x,2)/(1.+diff(u,x)**2)**(3/2)\n",
    "Lagrangian = kappa*sqrt(1.+diff(u,x)**2)"
   ]
  },
  {
   "cell_type": "code",
   "execution_count": 157,
   "metadata": {
    "collapsed": true
   },
   "outputs": [],
   "source": [
    "I3 = 1./(sqrt(1.+diff(u,x)**2))*diff(kappa,x)\n",
    "kappa_s = I3\n",
    "\n",
    "I_4 = 1./(sqrt(1.+diff(u,x)**2))*diff(kappa_s,x)\n",
    "kappa_ss = I_4 - 3*kappa**3"
   ]
  },
  {
   "cell_type": "markdown",
   "metadata": {},
   "source": [
    "## Classical Result"
   ]
  },
  {
   "cell_type": "code",
   "execution_count": 158,
   "metadata": {},
   "outputs": [
    {
     "data": {
      "image/png": "[encoded data removed]",
      "text/latex": [
       "$$0$$"
      ],
      "text/plain": [
       "0"
      ]
     },
     "execution_count": 158,
     "metadata": {},
     "output_type": "execute_result"
    }
   ],
   "source": [
    "simplify(diff(Lagrangian,u)-diff(diff(Lagrangian,diff(u,x)),x) + diff(diff(Lagrangian,diff(u,x,2)),x,2))"
   ]
  },
  {
   "cell_type": "markdown",
   "metadata": {},
   "source": [
    "This means that this Lagrangian is a null Lagrangian"
   ]
  },
  {
   "cell_type": "markdown",
   "metadata": {},
   "source": [
    "## Invariant Result"
   ]
  },
  {
   "cell_type": "code",
   "execution_count": 159,
   "metadata": {
    "collapsed": true
   },
   "outputs": [],
   "source": [
    "E_kappa = 1.\n",
    "H = -kappa"
   ]
  },
  {
   "cell_type": "code",
   "execution_count": 162,
   "metadata": {},
   "outputs": [
    {
     "data": {
      "image/png": "[encoded data removed]",
      "text/latex": [
       "$$0$$"
      ],
      "text/plain": [
       "0"
      ]
     },
     "execution_count": 162,
     "metadata": {},
     "output_type": "execute_result"
    }
   ],
   "source": [
    "simplify(kappa**2*E_kappa + kappa*H)"
   ]
  },
  {
   "cell_type": "markdown",
   "metadata": {},
   "source": [
    "Here we have a consistent result, i.e. $L$ is a null Lagrangian."
   ]
  },
  {
   "cell_type": "code",
   "execution_count": 170,
   "metadata": {
    "collapsed": true
   },
   "outputs": [],
   "source": [
    "Psi = symbols('Psi')"
   ]
  },
  {
   "cell_type": "code",
   "execution_count": 174,
   "metadata": {},
   "outputs": [
    {
     "data": {
      "image/png": "[encoded data removed]",
      "text/latex": [
       "$$\\frac{1}{\\left(\\sin{\\left (\\Psi \\right )} \\frac{d}{d x} u{\\left (x \\right )} - \\cos{\\left (\\Psi \\right )}\\right)^{3}} \\left(\\left(\\sin{\\left (\\Psi \\right )} \\frac{d}{d x} u{\\left (x \\right )} - \\cos{\\left (\\Psi \\right )}\\right) \\frac{d^{2}}{d x^{2}}  P{\\left (x \\right )} - \\sin{\\left (\\Psi \\right )} \\frac{d}{d x} P{\\left (x \\right )} \\frac{d^{2}}{d x^{2}}  u{\\left (x \\right )}\\right)$$"
      ],
      "text/plain": [
       "                             2                           2      \n",
       "⎛       d                ⎞  d                 d         d       \n",
       "⎜sin(Ψ)⋅──(u(x)) - cos(Ψ)⎟⋅───(P(x)) - sin(Ψ)⋅──(P(x))⋅───(u(x))\n",
       "⎝       dx               ⎠   2                dx         2      \n",
       "                           dx                          dx       \n",
       "────────────────────────────────────────────────────────────────\n",
       "                                            3                   \n",
       "                  ⎛       d                ⎞                    \n",
       "                  ⎜sin(Ψ)⋅──(u(x)) - cos(Ψ)⎟                    \n",
       "                  ⎝       dx               ⎠                    "
      ]
     },
     "execution_count": 174,
     "metadata": {},
     "output_type": "execute_result"
    }
   ],
   "source": [
    "simplify(1/(cos(Psi)-diff(u,x)*sin(Psi))*diff(diff(P,x)/(cos(Psi)-diff(u,x)*sin(Psi)),x))"
   ]
  },
  {
   "cell_type": "code",
   "execution_count": 183,
   "metadata": {},
   "outputs": [
    {
     "data": {
      "image/png": "[encoded data removed]",
      "text/latex": [
       "$$\\frac{\\sin{\\left (2 \\Psi \\right )} \\frac{d}{d x} u{\\left (x \\right )} - \\cos{\\left (2 \\Psi \\right )}}{\\sin{\\left (\\Psi \\right )} \\frac{d}{d x} u{\\left (x \\right )} - \\cos{\\left (\\Psi \\right )}}$$"
      ],
      "text/plain": [
       "         d                  \n",
       "sin(2⋅Ψ)⋅──(u(x)) - cos(2⋅Ψ)\n",
       "         dx                 \n",
       "────────────────────────────\n",
       "         d                  \n",
       "  sin(Ψ)⋅──(u(x)) - cos(Ψ)  \n",
       "         dx                 "
      ]
     },
     "execution_count": 183,
     "metadata": {},
     "output_type": "execute_result"
    }
   ],
   "source": [
    "simplify(cos(Psi)-sin(Psi)*((sin(Psi)+diff(u,x)*cos(Psi))/(cos(Psi)-diff(u,x)*sin(Psi))))"
   ]
  },
  {
   "cell_type": "code",
   "execution_count": 184,
   "metadata": {
    "collapsed": true
   },
   "outputs": [],
   "source": [
    "a = (sin(Psi)+diff(u,x)*cos(Psi))/(cos(Psi)-diff(u,x)*sin(Psi))"
   ]
  },
  {
   "cell_type": "code",
   "execution_count": 185,
   "metadata": {},
   "outputs": [
    {
     "data": {
      "image/png": "[encoded data removed]",
      "text/latex": [
       "$$\\frac{\\sin{\\left (2 \\Psi \\right )} \\frac{d}{d x} u{\\left (x \\right )} - \\cos{\\left (2 \\Psi \\right )}}{\\sin{\\left (\\Psi \\right )} \\frac{d}{d x} u{\\left (x \\right )} - \\cos{\\left (\\Psi \\right )}}$$"
      ],
      "text/plain": [
       "         d                  \n",
       "sin(2⋅Ψ)⋅──(u(x)) - cos(2⋅Ψ)\n",
       "         dx                 \n",
       "────────────────────────────\n",
       "         d                  \n",
       "  sin(Ψ)⋅──(u(x)) - cos(Ψ)  \n",
       "         dx                 "
      ]
     },
     "execution_count": 185,
     "metadata": {},
     "output_type": "execute_result"
    }
   ],
   "source": [
    "simplify(cos(Psi)-sin(Psi)*a)"
   ]
  },
  {
   "cell_type": "code",
   "execution_count": 188,
   "metadata": {},
   "outputs": [
    {
     "data": {
      "image/png": "[encoded data removed]",
      "text/latex": [
       "$$\\frac{\\sin{\\left (2 P{\\left (x \\right )} \\right )} \\frac{d}{d x} u{\\left (x \\right )} + \\cos{\\left (2 P{\\left (x \\right )} \\right )}}{\\sin{\\left (P{\\left (x \\right )} \\right )} \\frac{d}{d x} u{\\left (x \\right )} + \\cos{\\left (P{\\left (x \\right )} \\right )}}$$"
      ],
      "text/plain": [
       "            d                     \n",
       "sin(2⋅P(x))⋅──(u(x)) + cos(2⋅P(x))\n",
       "            dx                    \n",
       "──────────────────────────────────\n",
       "            d                     \n",
       "  sin(P(x))⋅──(u(x)) + cos(P(x))  \n",
       "            dx                    "
      ]
     },
     "execution_count": 188,
     "metadata": {},
     "output_type": "execute_result"
    }
   ],
   "source": [
    "simplify((cos(P)**2+2*diff(u,x)*sin(P)*cos(P)-sin(P)**2)/(cos(P)+diff(u,x)*sin(P)))"
   ]
  },
  {
   "cell_type": "code",
   "execution_count": 198,
   "metadata": {},
   "outputs": [
    {
     "data": {
      "image/png": "[encoded data removed]",
      "text/latex": [
       "$$\\frac{ux \\sin{\\left (2 \\varphi \\right )} + \\cos{\\left (2 \\varphi \\right )}}{ux \\sin{\\left (\\varphi \\right )} + \\cos{\\left (\\varphi \\right )}}$$"
      ],
      "text/plain": [
       "ux⋅sin(2⋅varphi) + cos(2⋅varphi)\n",
       "────────────────────────────────\n",
       "  ux⋅sin(varphi) + cos(varphi)  "
      ]
     },
     "execution_count": 198,
     "metadata": {},
     "output_type": "execute_result"
    }
   ],
   "source": [
    "simplify((cos(P)+sin(P)*(diff(u,x)*cos(P)-sin(P))/(cos(P)+diff(u,x)*sin(P)))).subs(diff(u,x), ux).subs(P,varphi)"
   ]
  },
  {
   "cell_type": "code",
   "execution_count": 197,
   "metadata": {
    "collapsed": true
   },
   "outputs": [],
   "source": [
    "ux = Symbol('ux')\n",
    "varphi = Symbol('varphi')"
   ]
  },
  {
   "cell_type": "code",
   "execution_count": null,
   "metadata": {
    "collapsed": true
   },
   "outputs": [],
   "source": [
    "def apply_vect(F,v,n):\n",
    "    \n",
    "    w = pf.Prolong(['x'],['u', 'P'], v, n)\n",
    "    g = diff(F,x)*w[0]\n",
    "    for i in range(1,2*n,2):\n",
    "        g = g+diff(F,diff(u,x))"
   ]
  },
  {
   "cell_type": "code",
   "execution_count": 199,
   "metadata": {},
   "outputs": [
    {
     "data": {
      "image/png": "[encoded data removed]",
      "text/latex": [
       "$$\\left [ 1, \\quad 3, \\quad 5, \\quad 7, \\quad 9\\right ]$$"
      ],
      "text/plain": [
       "[1, 3, 5, 7, 9]"
      ]
     },
     "execution_count": 199,
     "metadata": {},
     "output_type": "execute_result"
    }
   ],
   "source": [
    "range(1,10,2)"
   ]
  },
  {
   "cell_type": "code",
   "execution_count": 250,
   "metadata": {
    "collapsed": true
   },
   "outputs": [],
   "source": [
    "substitutions = dict(zip([diff(varphi,x,n) for n in range(5)],a))"
   ]
  },
  {
   "cell_type": "code",
   "execution_count": 241,
   "metadata": {
    "collapsed": true
   },
   "outputs": [],
   "source": [
    "temp.keys().sort()"
   ]
  },
  {
   "cell_type": "code",
   "execution_count": 247,
   "metadata": {
    "collapsed": true
   },
   "outputs": [],
   "source": [
    "a = temp.keys()"
   ]
  },
  {
   "cell_type": "code",
   "execution_count": 248,
   "metadata": {
    "collapsed": true
   },
   "outputs": [],
   "source": [
    "a.sort()"
   ]
  },
  {
   "cell_type": "code",
   "execution_count": 249,
   "metadata": {},
   "outputs": [
    {
     "data": {
      "text/plain": [
       "['varphi', 'varphix', 'varphixx', 'varphixxx', 'varphixxxx']"
      ]
     },
     "execution_count": 249,
     "metadata": {},
     "output_type": "execute_result"
    }
   ],
   "source": [
    "a"
   ]
  },
  {
   "cell_type": "code",
   "execution_count": 251,
   "metadata": {},
   "outputs": [
    {
     "data": {
      "text/plain": [
       "{Derivative(varphi(x), x): 'varphix',\n",
       " Derivative(varphi(x), x, x): 'varphixx',\n",
       " Derivative(varphi(x), x, x, x): 'varphixxx',\n",
       " Derivative(varphi(x), x, x, x, x): 'varphixxxx',\n",
       " varphi(x): 'varphi'}"
      ]
     },
     "execution_count": 251,
     "metadata": {},
     "output_type": "execute_result"
    }
   ],
   "source": [
    "substitutions"
   ]
  },
  {
   "cell_type": "code",
   "execution_count": 283,
   "metadata": {
    "collapsed": true
   },
   "outputs": [],
   "source": [
    "A = [symbols('t'), symbols('w')]"
   ]
  },
  {
   "cell_type": "code",
   "execution_count": 286,
   "metadata": {
    "collapsed": true
   },
   "outputs": [],
   "source": [
    "locals().update({str(A[i]): A[i] for i in range(len(A))})"
   ]
  },
  {
   "cell_type": "code",
   "execution_count": 287,
   "metadata": {},
   "outputs": [
    {
     "data": {
      "image/png": "[encoded data removed]",
      "text/latex": [
       "$$w$$"
      ],
      "text/plain": [
       "w"
      ]
     },
     "execution_count": 287,
     "metadata": {},
     "output_type": "execute_result"
    }
   ],
   "source": [
    "w"
   ]
  },
  {
   "cell_type": "code",
   "execution_count": 282,
   "metadata": {},
   "outputs": [
    {
     "data": {
      "image/png": "[encoded data removed]",
      "text/latex": [
       "$$t$$"
      ],
      "text/plain": [
       "t"
      ]
     },
     "execution_count": 282,
     "metadata": {},
     "output_type": "execute_result"
    }
   ],
   "source": [
    "t"
   ]
  },
  {
   "cell_type": "code",
   "execution_count": null,
   "metadata": {
    "collapsed": true
   },
   "outputs": [],
   "source": []
  }
 ],
 "metadata": {
  "kernelspec": {
   "display_name": "Python 3",
   "language": "python",
   "name": "python3"
  },
  "language_info": {
   "codemirror_mode": {
    "name": "ipython",
    "version": 3
   },
   "file_extension": ".py",
   "mimetype": "text/x-python",
   "name": "python",
   "nbconvert_exporter": "python",
   "pygments_lexer": "ipython3",
   "version": "3.6.2"
  }
 },
 "nbformat": 4,
 "nbformat_minor": 2
}

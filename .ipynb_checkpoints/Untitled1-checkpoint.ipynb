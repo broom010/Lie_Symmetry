{
 "cells": [
  {
   "cell_type": "markdown",
   "metadata": {},
   "source": [
    "# Import modules and define dictionary merge"
   ]
  },
  {
   "cell_type": "code",
   "execution_count": 520,
   "metadata": {
    "collapsed": true
   },
   "outputs": [],
   "source": [
    "import importlib\n",
    "import numpy as np\n",
    "from sympy import *\n",
    "import GrpTransform as gt         # Custom module written by Jimmy Broomfield\n",
    "import prolong_Fast as pf\n",
    "init_printing()"
   ]
  },
  {
   "cell_type": "code",
   "execution_count": 521,
   "metadata": {
    "collapsed": true
   },
   "outputs": [],
   "source": [
    "def merge_two_dicts(x, y):\n",
    "    z = x.copy()   # start with x's keys and values\n",
    "    z.update(y)    # modifies z with y's keys and values & returns None\n",
    "    return z"
   ]
  },
  {
   "cell_type": "markdown",
   "metadata": {},
   "source": [
    "# Define variables and dictionaries"
   ]
  },
  {
   "cell_type": "code",
   "execution_count": 522,
   "metadata": {
    "collapsed": true
   },
   "outputs": [],
   "source": [
    "x = Symbol('x')\n",
    "u = Function('u')(x)\n",
    "varphi = Function('varphi')(x)\n",
    "P = Function('P')(x)\n",
    "\n",
    "locals().update(dict(('a%d'%k, symbols('a%d'%k)) for k in range(1,4)))\n",
    "\n",
    "u_subs = dict(('u'+'x'*k, Function('u'+'x'*k)(x)) for k in range(0,5))\n",
    "P_subs = dict(('P'+'x'*k, Function('P'+'x'*k)(x)) for k in range(0,5))\n",
    "\n",
    "a = u_subs.keys()\n",
    "a.sort()\n",
    "u_sub_forward = dict(zip([diff(u,x,n) for n in range(5)],a))\n",
    "u_sub_backward = {v: k for k, v in u_sub_forward.iteritems()}\n",
    "\n",
    "a = P_subs.keys()\n",
    "a.sort()\n",
    "P_sub_forward = dict(zip([diff(P,x,n) for n in range(5)],a))\n",
    "P_sub_backward = {v: k for k, v in P_sub_forward.iteritems()}\n",
    "varphi_sub_forward = dict(zip([diff(varphi,x,n) for n in range(5)],a))\n",
    "varphi_sub_backward = {v: k for k, v in varphi_sub_forward.iteritems()}\n",
    "\n",
    "master_sub_forward = merge_two_dicts(u_sub_forward, P_sub_forward)\n",
    "master_sub_backward = merge_two_dicts(u_sub_backward, P_sub_backward)"
   ]
  },
  {
   "cell_type": "code",
   "execution_count": 523,
   "metadata": {},
   "outputs": [
    {
     "data": {
      "text/plain": [
       "{'u': u(x), 'ux': ux(x), 'uxx': uxx(x), 'uxxx': uxxx(x), 'uxxxx': uxxxx(x)}"
      ]
     },
     "execution_count": 523,
     "metadata": {},
     "output_type": "execute_result"
    }
   ],
   "source": [
    "u_subs"
   ]
  },
  {
   "cell_type": "code",
   "execution_count": 524,
   "metadata": {
    "collapsed": true
   },
   "outputs": [],
   "source": [
    "# Custome group parameters\n",
    "a = Symbol('a')\n",
    "b = Symbol('b')\n",
    "psi = Symbol('psi')"
   ]
  },
  {
   "cell_type": "markdown",
   "metadata": {},
   "source": [
    "# Define the group action"
   ]
  },
  {
   "cell_type": "code",
   "execution_count": 525,
   "metadata": {
    "collapsed": true
   },
   "outputs": [],
   "source": [
    "expr_X = cos(psi)*x-sin(psi)*u+a\n",
    "expr_U = sin(psi)*x+cos(psi)*u+b\n",
    "expr_Varphi = P+psi\n",
    "\n",
    "transformed_subs_backward = {x:expr_X, u:expr_U, P:expr_Varphi}\n",
    "transformed_subs_forward = {v: k for k, v in transformed_subs_backward.iteritems()}\n",
    "transformed_subs_backward_bare = {x:expr_X.subs(master_sub_forward), u.subs(master_sub_forward):expr_U.subs(master_sub_forward), P.subs(master_sub_forward):expr_Varphi.subs(master_sub_forward)}\n",
    "transformed_subs_forward_bare = {v: k for k, v in transformed_subs_backward.iteritems()}"
   ]
  },
  {
   "cell_type": "markdown",
   "metadata": {},
   "source": [
    "# Define a functions to extract and apply infinitesimal generators"
   ]
  },
  {
   "cell_type": "code",
   "execution_count": 526,
   "metadata": {
    "collapsed": true
   },
   "outputs": [],
   "source": [
    "def vect_Field(A, param):\n",
    "    v = []\n",
    "    for i in range(len(A)):\n",
    "        v.append(diff(A[i],param).subs({param:0}))\n",
    "    return v"
   ]
  },
  {
   "cell_type": "code",
   "execution_count": 527,
   "metadata": {
    "collapsed": true
   },
   "outputs": [],
   "source": [
    "def apply_vect(v,f,A):\n",
    "    n = max([ode_order(f,Function(var)) for var in A[1]])\n",
    "    f = f.subs(u_sub_forward).subs(P_sub_forward)\n",
    "    var = pf.fullJetAll(A[0],A[1],n)\n",
    "    v = pf.Prolong(A[0],A[1], v, n)\n",
    "    g = 0\n",
    "    for i in range(len(v)):\n",
    "        g = g + diff(f,var[i])*v[i]\n",
    "    return g.subs(master_sub_forward)"
   ]
  },
  {
   "cell_type": "code",
   "execution_count": 538,
   "metadata": {},
   "outputs": [
    {
     "data": {
      "image/png": "[encoded data removed]",
      "text/latex": [
       "$$1$$"
      ],
      "text/plain": [
       "1"
      ]
     },
     "execution_count": 538,
     "metadata": {},
     "output_type": "execute_result"
    }
   ],
   "source": [
    "apply_vect(v3,P,A)"
   ]
  },
  {
   "cell_type": "markdown",
   "metadata": {},
   "source": [
    "# Define implicit differentiation operators"
   ]
  },
  {
   "cell_type": "code",
   "execution_count": 529,
   "metadata": {
    "collapsed": true
   },
   "outputs": [],
   "source": [
    "def Dx(f):\n",
    "    return 1/diff(expr_X,x)*diff(f,x)\n",
    "\n",
    "def Dnx(f, n):\n",
    "    for i in range(n):\n",
    "        f = Dx(f)\n",
    "    return simplify(f)"
   ]
  },
  {
   "cell_type": "code",
   "execution_count": 489,
   "metadata": {},
   "outputs": [
    {
     "data": {
      "image/png": "[encoded data removed]",
      "text/latex": [
       "$$a + x \\cos{\\left (\\psi \\right )} - u{\\left (x \\right )} \\sin{\\left (\\psi \\right )}$$"
      ],
      "text/plain": [
       "a + x⋅cos(ψ) - u(x)⋅sin(ψ)"
      ]
     },
     "execution_count": 489,
     "metadata": {},
     "output_type": "execute_result"
    }
   ],
   "source": []
  },
  {
   "cell_type": "markdown",
   "metadata": {},
   "source": [
    "# Define a function to give the moving frame for a cross-section"
   ]
  },
  {
   "cell_type": "code",
   "execution_count": 530,
   "metadata": {
    "collapsed": true
   },
   "outputs": [],
   "source": [
    "def moving_frame(A,K):\n",
    "    B = [A[i] - K[i] for i in range(len(A))]\n",
    "    return solve(B)[0]"
   ]
  },
  {
   "cell_type": "code",
   "execution_count": 531,
   "metadata": {
    "collapsed": true
   },
   "outputs": [],
   "source": [
    "Phantoms = [expr_X, expr_U, expr_Varphi]\n",
    "K = [0,0,0]\n",
    "\n",
    "frame = moving_frame(Phantoms,K)"
   ]
  },
  {
   "cell_type": "markdown",
   "metadata": {},
   "source": [
    "# Define invariantization and the normalized invariants"
   ]
  },
  {
   "cell_type": "code",
   "execution_count": 532,
   "metadata": {
    "collapsed": true
   },
   "outputs": [],
   "source": [
    "def invariantization(f,frame):\n",
    "    f = f+0*x\n",
    "    return simplify(f.subs(frame))\n",
    "\n",
    "def normalized_invariant(U,n,frame):\n",
    "    f = Dnx(U,n)\n",
    "    return simplify(f.subs(frame))"
   ]
  },
  {
   "cell_type": "code",
   "execution_count": 533,
   "metadata": {
    "collapsed": true
   },
   "outputs": [],
   "source": [
    "def special_transform_back(f):\n",
    "    return f.subs(master_sub_forward).xreplace(transformed_subs_backward_bare).subs(master_sub_backward)"
   ]
  },
  {
   "cell_type": "markdown",
   "metadata": {},
   "source": [
    "# Determine the recurrence relations"
   ]
  },
  {
   "cell_type": "code",
   "execution_count": 534,
   "metadata": {
    "collapsed": true
   },
   "outputs": [],
   "source": [
    "R1 = Symbol('R1')\n",
    "R2 = Symbol('R2')\n",
    "R3 = Symbol('R3')\n",
    "\n",
    "v1 = vect_Field(Phantoms, a)\n",
    "v2 = vect_Field(Phantoms, b)\n",
    "v3 = vect_Field(Phantoms, psi)\n",
    "\n",
    "A = [['x'],['u','P']]\n",
    "\n",
    "def rec_Relations(Phantoms, frame):\n",
    "    B = []\n",
    "    \n",
    "    for w in Phantoms:\n",
    "        s = w.subs(transformed_subs_forward)\n",
    "        w1 = special_transform_back(apply_vect(v1,s.subs(transformed_subs_forward),A).subs(master_sub_forward))\n",
    "        w2 = special_transform_back(apply_vect(v2,s.subs(transformed_subs_forward),A).subs(master_sub_forward))\n",
    "        w3 = special_transform_back(apply_vect(v3,s.subs(transformed_subs_forward),A).subs(master_sub_forward))\n",
    "        expression = invariantization(diff(s,x),frame) + R1*invariantization(w1,frame) + R2*invariantization(w2,frame) + R3*invariantization(w3,frame)\n",
    "        B.append(expression)\n",
    "    return solve(B)"
   ]
  },
  {
   "cell_type": "code",
   "execution_count": 535,
   "metadata": {},
   "outputs": [
    {
     "data": {
      "image/png": "[encoded data removed]",
      "text/latex": [
       "$$\\left [ a + x \\cos{\\left (\\psi \\right )} - u{\\left (x \\right )} \\sin{\\left (\\psi \\right )}, \\quad b + x \\sin{\\left (\\psi \\right )} + u{\\left (x \\right )} \\cos{\\left (\\psi \\right )}, \\quad \\psi + P{\\left (x \\right )}\\right ]$$"
      ],
      "text/plain": [
       "[a + x⋅cos(ψ) - u(x)⋅sin(ψ), b + x⋅sin(ψ) + u(x)⋅cos(ψ), ψ + P(x)]"
      ]
     },
     "execution_count": 535,
     "metadata": {},
     "output_type": "execute_result"
    }
   ],
   "source": [
    "Phantoms"
   ]
  },
  {
   "cell_type": "code",
   "execution_count": 536,
   "metadata": {},
   "outputs": [
    {
     "data": {
      "image/png": "[encoded data removed]",
      "text/latex": [
       "$$\\left \\{ R_{1} : -1, \\quad R_{2} : - \\frac{d}{d x} u{\\left (x \\right )}, \\quad R_{3} : - \\frac{d}{d x} P{\\left (x \\right )}\\right \\}$$"
      ],
      "text/plain": [
       "⎧             d              d       ⎫\n",
       "⎨R₁: -1, R₂: -──(u(x)), R₃: -──(P(x))⎬\n",
       "⎩             dx             dx      ⎭"
      ]
     },
     "execution_count": 536,
     "metadata": {},
     "output_type": "execute_result"
    }
   ],
   "source": [
    "mc_invariants = rec_Relations(Phantoms, frame)\n",
    "mc_invariants"
   ]
  },
  {
   "cell_type": "markdown",
   "metadata": {},
   "source": [
    "# Invariant differentiation from recurrence relations"
   ]
  },
  {
   "cell_type": "code",
   "execution_count": 492,
   "metadata": {
    "collapsed": true
   },
   "outputs": [],
   "source": [
    "def DI_x(f, mc_invariants):\n",
    "    s = f.subs(transformed_subs_forward)\n",
    "    print(s)\n",
    "    w1 = special_transform_back(apply_vect(v1,s.subs(transformed_subs_forward),A).subs(master_sub_forward))\n",
    "    w2 = special_transform_back(apply_vect(v2,s.subs(transformed_subs_forward),A).subs(master_sub_forward))\n",
    "    w3 = special_transform_back(apply_vect(v3,s.subs(transformed_subs_forward),A).subs(master_sub_forward))\n",
    "    c1 = mc_invariants[R1]\n",
    "    c2 = mc_invariants[R2]\n",
    "    c3 = mc_invariants[R3]\n",
    "    return invariantization(diff(s,x),frame) + c1*invariantization(w1,frame) + c2*invariantization(w2,frame) + c3*invariantization(w3,frame)"
   ]
  },
  {
   "cell_type": "markdown",
   "metadata": {},
   "source": [
    "## Example"
   ]
  },
  {
   "cell_type": "code",
   "execution_count": 494,
   "metadata": {},
   "outputs": [
    {
     "name": "stdout",
     "output_type": "stream",
     "text": [
      "Derivative(u(x), x)\n"
     ]
    },
    {
     "data": {
      "image/png": "[encoded data removed]",
      "text/latex": [
       "$$- \\left(\\left(\\frac{d}{d x} u{\\left (x \\right )}\\right)^{2} + 1\\right) \\frac{d}{d x} P{\\left (x \\right )} + \\frac{d^{2}}{d x^{2}}  u{\\left (x \\right )}$$"
      ],
      "text/plain": [
       "  ⎛          2    ⎞              2      \n",
       "  ⎜⎛d       ⎞     ⎟ d           d       \n",
       "- ⎜⎜──(u(x))⎟  + 1⎟⋅──(P(x)) + ───(u(x))\n",
       "  ⎝⎝dx      ⎠     ⎠ dx           2      \n",
       "                               dx       "
      ]
     },
     "execution_count": 494,
     "metadata": {},
     "output_type": "execute_result"
    }
   ],
   "source": [
    "R1 = Symbol('R1')\n",
    "R2 = Symbol('R2')\n",
    "R3 = Symbol('R3')\n",
    "\n",
    "v1 = vect_Field(Phantoms, a)\n",
    "v2 = vect_Field(Phantoms, b)\n",
    "v3 = vect_Field(Phantoms, psi)\n",
    "\n",
    "A = [['x'],['u','P']]\n",
    "simplify(DI_x(diff(u,x), mc_invariants))"
   ]
  },
  {
   "cell_type": "markdown",
   "metadata": {},
   "source": [
    "# Exterior derivative\n",
    "\n",
    "The following computation returns an array that corresponds to a one-form.  The example below gives $$d(u\\cdot x) = u\\,dx+x\\,du$$"
   ]
  },
  {
   "cell_type": "code",
   "execution_count": 17,
   "metadata": {
    "collapsed": true
   },
   "outputs": [],
   "source": [
    "def exterior_diff(f,A):\n",
    "    C = []\n",
    "    n = max([ode_order(f,Function(var)) for var in A[1]])\n",
    "    f = f.subs(u_sub_forward).subs(P_sub_forward)\n",
    "    var = pf.fullJetAll(A[0],A[1],n)\n",
    "    for w in var:\n",
    "        C.append(diff(f,w))\n",
    "    return C"
   ]
  },
  {
   "cell_type": "code",
   "execution_count": 39,
   "metadata": {},
   "outputs": [
    {
     "data": {
      "image/png": "[encoded data removed]",
      "text/latex": [
       "$$\\left [ u, \\quad x, \\quad 0, \\quad 0, \\quad 0, \\quad 0\\right ]$$"
      ],
      "text/plain": [
       "[u, x, 0, 0, 0, 0]"
      ]
     },
     "execution_count": 39,
     "metadata": {},
     "output_type": "execute_result"
    }
   ],
   "source": [
    "v1 = vect_Field(Phantoms, a)\n",
    "v2 = vect_Field(Phantoms, b)\n",
    "v3 = vect_Field(Phantoms, psi)\n",
    "\n",
    "exterior_diff(u*x,A)+[0]*3"
   ]
  },
  {
   "cell_type": "code",
   "execution_count": 539,
   "metadata": {},
   "outputs": [
    {
     "data": {
      "text/plain": [
       "{Derivative(u(x), x): 'ux',\n",
       " Derivative(u(x), x, x): 'uxx',\n",
       " Derivative(u(x), x, x, x): 'uxxx',\n",
       " Derivative(u(x), x, x, x, x): 'uxxxx',\n",
       " u(x): 'u'}"
      ]
     },
     "execution_count": 539,
     "metadata": {},
     "output_type": "execute_result"
    }
   ],
   "source": [
    "u_sub_forward"
   ]
  },
  {
   "cell_type": "markdown",
   "metadata": {},
   "source": [
    "# Define basic contact forms"
   ]
  },
  {
   "cell_type": "code",
   "execution_count": 270,
   "metadata": {
    "collapsed": true
   },
   "outputs": [],
   "source": [
    "def basic_contact(var_index, i, A):\n",
    "    n = i+1\n",
    "    var = pf.fullJetAll(A[0],A[1],n)\n",
    "    C = [-master_sub_backward[var[var_index+2*i+3]]]+[0]*(var_index*2+2)\n",
    "    D = [0]*(1+var_index+i*2)+[1]\n",
    "    s = max(len(C),len(D))\n",
    "    C = C+[0]*(s-len(C))\n",
    "    D = D+[0]*(s-len(D))\n",
    "    F = [a+b+0*Symbol('x') for a,b in zip(C,D)]\n",
    "    return [t.subs(master_sub_forward) for t in F]"
   ]
  },
  {
   "cell_type": "code",
   "execution_count": 271,
   "metadata": {},
   "outputs": [
    {
     "data": {
      "image/png": "[encoded data removed]",
      "text/latex": [
       "$$\\left [ - ux, \\quad 1, \\quad 0\\right ]$$"
      ],
      "text/plain": [
       "[-ux, 1, 0]"
      ]
     },
     "execution_count": 271,
     "metadata": {},
     "output_type": "execute_result"
    }
   ],
   "source": [
    "basic_contact(0,0,A)"
   ]
  },
  {
   "cell_type": "markdown",
   "metadata": {},
   "source": [
    "# Add differential one-forms"
   ]
  },
  {
   "cell_type": "code",
   "execution_count": 273,
   "metadata": {
    "collapsed": true
   },
   "outputs": [],
   "source": [
    "def add_Diff_Forms(C,D):\n",
    "    s = max(len(C),len(D))\n",
    "    C = C+[0]*(s-len(C))\n",
    "    D = D+[0]*(s-len(D))\n",
    "    return [a+b for a,b in zip(C,D)]"
   ]
  },
  {
   "cell_type": "markdown",
   "metadata": {},
   "source": [
    "# Lie derivatives of contact forms"
   ]
  },
  {
   "cell_type": "code",
   "execution_count": 451,
   "metadata": {
    "collapsed": true
   },
   "outputs": [],
   "source": [
    "contact_symbol = [Symbol('vartheta^u'),Symbol('vartheta^varphi'),Symbol('vartheta^u_1'),Symbol('vartheta^varphi_1'),Symbol('vartheta^u_2'),Symbol('vartheta^varphi_2')]\n",
    "A = [['x'],['u','P']]\n",
    "def Lie_contact_diff(v, var_index, i, A):\n",
    "    n = i+1\n",
    "    v_p = pf.Prolong(A[0],A[1],v,n)\n",
    "    var = pf.fullJetAll(A[0],A[1],n)\n",
    "    C = exterior_diff(v_p[1+var_index+2*i],A)\n",
    "    D = exterior_diff(v_p[0],A)\n",
    "    U_xi = [master_sub_backward[var[var_index+2*i+3]]]*len(D)\n",
    "    D = [-a*b for a,b in zip(D,U_xi)]\n",
    "    s = max(len(C),len(D))\n",
    "    C = C + [0]*(s-len(C))\n",
    "    D = D + [0]*(s-len(D))\n",
    "    F = [-v_p[var_index+2*i+3]]+[0]*(s-1)\n",
    "    Contact = [sum(t).subs(master_sub_forward) for t in zip(C,D,F)]\n",
    "    expr = 0\n",
    "    for i in range(len(Contact)-1):\n",
    "        expr = expr + Contact[i+1]*contact_symbol[i]\n",
    "    return expr.subs(master_str_to_symbol)"
   ]
  },
  {
   "cell_type": "code",
   "execution_count": 457,
   "metadata": {},
   "outputs": [
    {
     "data": {
      "image/png": "[encoded data removed]",
      "text/latex": [
       "$$2 u_{x} \\vartheta^{u}_{1} + u_{xx} \\vartheta^{u}$$"
      ],
      "text/plain": [
       "2⋅uₓ⋅vartheta_1__u + uₓₓ⋅vartheta__u"
      ]
     },
     "execution_count": 457,
     "metadata": {},
     "output_type": "execute_result"
    }
   ],
   "source": [
    "Lie_contact_diff(v3, 0, 1, A)"
   ]
  },
  {
   "cell_type": "code",
   "execution_count": 274,
   "metadata": {},
   "outputs": [
    {
     "data": {
      "image/png": "[encoded data removed]",
      "text/latex": [
       "$$\\left [ 0, \\quad 0, \\quad 0\\right ]$$"
      ],
      "text/plain": [
       "[0, 0, 0]"
      ]
     },
     "execution_count": 274,
     "metadata": {},
     "output_type": "execute_result"
    }
   ],
   "source": [
    "add_Diff_Forms([-Symbol('ux')*t for t in basic_contact(0,0,A)],Lie_contact_diff(v3, 0, 0, A))"
   ]
  },
  {
   "cell_type": "code",
   "execution_count": 540,
   "metadata": {},
   "outputs": [
    {
     "data": {
      "text/plain": [
       "{Derivative(P(x), x): 'Px',\n",
       " Derivative(P(x), x, x): 'Pxx',\n",
       " Derivative(P(x), x, x, x): 'Pxxx',\n",
       " Derivative(P(x), x, x, x, x): 'Pxxxx',\n",
       " Derivative(u(x), x): 'ux',\n",
       " Derivative(u(x), x, x): 'uxx',\n",
       " Derivative(u(x), x, x, x): 'uxxx',\n",
       " Derivative(u(x), x, x, x, x): 'uxxxx',\n",
       " P(x): 'P',\n",
       " u(x): 'u'}"
      ]
     },
     "execution_count": 540,
     "metadata": {},
     "output_type": "execute_result"
    }
   ],
   "source": [
    "master_sub_forward"
   ]
  },
  {
   "cell_type": "markdown",
   "metadata": {},
   "source": [
    "# Total derivatives"
   ]
  },
  {
   "cell_type": "code",
   "execution_count": null,
   "metadata": {
    "collapsed": true
   },
   "outputs": [],
   "source": [
    "def total_diff(f):\n",
    "    var = copy.copy(master_str_to_symbol.values())\n",
    "    var.remove(x)\n",
    "    expr = diff(f,x) + 0*x\n",
    "    for s in var\n",
    "        expr = expr + s*diff(f,s)"
   ]
  },
  {
   "cell_type": "code",
   "execution_count": 552,
   "metadata": {},
   "outputs": [
    {
     "ename": "TypeError",
     "evalue": "cannot determine truth value of Relational",
     "output_type": "error",
     "traceback": [
      "\u001b[1;31m---------------------------------------------------------------------------\u001b[0m",
      "\u001b[1;31mTypeError\u001b[0m                                 Traceback (most recent call last)",
      "\u001b[1;32m<ipython-input-552-fb22f6a6599a>\u001b[0m in \u001b[0;36m<module>\u001b[1;34m()\u001b[0m\n\u001b[1;32m----> 1\u001b[1;33m \u001b[0mmaster_str_to_symbol\u001b[0m\u001b[1;33m.\u001b[0m\u001b[0mvalues\u001b[0m\u001b[1;33m(\u001b[0m\u001b[1;33m)\u001b[0m\u001b[1;33m.\u001b[0m\u001b[0msort\u001b[0m\u001b[1;33m(\u001b[0m\u001b[1;33m)\u001b[0m\u001b[1;33m\u001b[0m\u001b[0m\n\u001b[0m",
      "\u001b[1;32mC:\\Users\\jimmy\\Anaconda3\\envs\\py27\\lib\\site-packages\\sympy\\core\\relational.pyc\u001b[0m in \u001b[0;36m__nonzero__\u001b[1;34m(self)\u001b[0m\n\u001b[0;32m    193\u001b[0m \u001b[1;33m\u001b[0m\u001b[0m\n\u001b[0;32m    194\u001b[0m     \u001b[1;32mdef\u001b[0m \u001b[0m__nonzero__\u001b[0m\u001b[1;33m(\u001b[0m\u001b[0mself\u001b[0m\u001b[1;33m)\u001b[0m\u001b[1;33m:\u001b[0m\u001b[1;33m\u001b[0m\u001b[0m\n\u001b[1;32m--> 195\u001b[1;33m         \u001b[1;32mraise\u001b[0m \u001b[0mTypeError\u001b[0m\u001b[1;33m(\u001b[0m\u001b[1;34m\"cannot determine truth value of Relational\"\u001b[0m\u001b[1;33m)\u001b[0m\u001b[1;33m\u001b[0m\u001b[0m\n\u001b[0m\u001b[0;32m    196\u001b[0m \u001b[1;33m\u001b[0m\u001b[0m\n\u001b[0;32m    197\u001b[0m     \u001b[0m__bool__\u001b[0m \u001b[1;33m=\u001b[0m \u001b[0m__nonzero__\u001b[0m\u001b[1;33m\u001b[0m\u001b[0m\n",
      "\u001b[1;31mTypeError\u001b[0m: cannot determine truth value of Relational"
     ]
    }
   ],
   "source": []
  },
  {
   "cell_type": "markdown",
   "metadata": {},
   "source": [
    "# Vertical derivatives"
   ]
  },
  {
   "cell_type": "code",
   "execution_count": 544,
   "metadata": {
    "collapsed": true
   },
   "outputs": [],
   "source": [
    "def vertical_diff(f):\n",
    "    C = []\n",
    "    n = max([ode_order(f,Function(var)) for var in A[1]])\n",
    "    f = f.subs(u_sub_forward).subs(P_sub_forward)\n",
    "    var = pf.fullJetAll(A[0],A[1],n)[1:]\n",
    "    for w in var:\n",
    "        C.append(diff(f,w))\n",
    "    expr = 0*x\n",
    "    for i in range(len(C)):\n",
    "        expr = expr + C[i]*contact_symbol[i]\n",
    "    return expr"
   ]
  },
  {
   "cell_type": "code",
   "execution_count": 548,
   "metadata": {},
   "outputs": [
    {
     "data": {
      "image/png": "[encoded data removed]",
      "text/latex": [
       "$$\\vartheta^{u}_{1}$$"
      ],
      "text/plain": [
       "vartheta_1__u"
      ]
     },
     "execution_count": 548,
     "metadata": {},
     "output_type": "execute_result"
    }
   ],
   "source": [
    "# Test\n",
    "vertical_diff(diff(u,x))"
   ]
  },
  {
   "cell_type": "markdown",
   "metadata": {},
   "source": [
    "# Horizontal derivatives"
   ]
  },
  {
   "cell_type": "code",
   "execution_count": 317,
   "metadata": {
    "collapsed": true
   },
   "outputs": [],
   "source": [
    "def horizontal_diff(f):\n",
    "    C = []\n",
    "    n = max([ode_order(f,Function(var)) for var in A[1]])\n",
    "    f = f.subs(u_sub_forward).subs(P_sub_forward)\n",
    "    var = pf.fullJetAll(A[0],A[1],n)\n",
    "    for w in var:\n",
    "        C.append(diff(f,w))\n",
    "    return C"
   ]
  },
  {
   "cell_type": "code",
   "execution_count": 318,
   "metadata": {},
   "outputs": [
    {
     "data": {
      "image/png": "[encoded data removed]",
      "text/latex": [
       "$$\\left [ ux, \\quad 0, \\quad 0, \\quad x, \\quad 0\\right ]$$"
      ],
      "text/plain": [
       "[ux, 0, 0, x, 0]"
      ]
     },
     "execution_count": 318,
     "metadata": {},
     "output_type": "execute_result"
    }
   ],
   "source": [
    "# Test\n",
    "horizontal_diff(x*diff(u,x))"
   ]
  },
  {
   "cell_type": "markdown",
   "metadata": {},
   "source": [
    "# Recurrence relations for invariant vertical differentiation of fuctions"
   ]
  },
  {
   "cell_type": "code",
   "execution_count": 348,
   "metadata": {
    "collapsed": true
   },
   "outputs": [],
   "source": [
    "epsilon_1 = Symbol('varepsilon_1')\n",
    "epsilon_2 = Symbol('varepsilon_2')\n",
    "epsilon_3 = Symbol('varepsilon_3')\n",
    "\n",
    "def rec_Relations_Forms(Phantoms, frame, A):\n",
    "    B = []\n",
    "    C = [0, theta_u, theta_phi]\n",
    "    for i in range(len(Phantoms)):\n",
    "        w = Phantoms[i]\n",
    "        s = w.subs(transformed_subs_forward)\n",
    "        w1 = special_transform_back(apply_vect(v1,s.subs(transformed_subs_forward),A).subs(master_sub_forward))\n",
    "        w2 = special_transform_back(apply_vect(v2,s.subs(transformed_subs_forward),A).subs(master_sub_forward))\n",
    "        w3 = special_transform_back(apply_vect(v3,s.subs(transformed_subs_forward),A).subs(master_sub_forward))\n",
    "        expression = C[i] + epsilon_1*invariantization(w1,frame) + epsilon_2*invariantization(w2,frame) + epsilon_3*invariantization(w3,frame)\n",
    "        B.append(expression)\n",
    "    return solve(B,[epsilon_1,epsilon_2,epsilon_3])"
   ]
  },
  {
   "cell_type": "code",
   "execution_count": 349,
   "metadata": {},
   "outputs": [
    {
     "data": {
      "image/png": "[encoded data removed]",
      "text/latex": [
       "$$\\left \\{ \\varepsilon_{1} : 0, \\quad \\varepsilon_{2} : - \\vartheta^{u}, \\quad \\varepsilon_{3} : - \\vartheta^{\\varphi}\\right \\}$$"
      ],
      "text/plain": [
       "{varepsilon₁: 0, varepsilon₂: -vartheta__u, varepsilon₃: -vartheta__varphi}"
      ]
     },
     "execution_count": 349,
     "metadata": {},
     "output_type": "execute_result"
    }
   ],
   "source": [
    "rec_Relations_Forms(Phantoms,frame,A)"
   ]
  },
  {
   "cell_type": "code",
   "execution_count": null,
   "metadata": {
    "collapsed": true
   },
   "outputs": [],
   "source": [
    "rec_forms = rec_Relations_Forms(Phantoms,frame,A)\n",
    "\n",
    "def inv_vert_diff_fnc(f, eps):\n",
    "    g = invariantization(vertical_diff(f))"
   ]
  },
  {
   "cell_type": "markdown",
   "metadata": {},
   "source": [
    "# Invariant vertical differentiation of 1st level invariants"
   ]
  },
  {
   "cell_type": "markdown",
   "metadata": {},
   "source": [
    "# Invariant vertical differentation of invariant horizontal one-forms"
   ]
  },
  {
   "cell_type": "code",
   "execution_count": null,
   "metadata": {
    "collapsed": true
   },
   "outputs": [],
   "source": []
  },
  {
   "cell_type": "markdown",
   "metadata": {},
   "source": [
    "# Invariant Euler-Lagrange Equations"
   ]
  },
  {
   "cell_type": "code",
   "execution_count": 122,
   "metadata": {},
   "outputs": [
    {
     "data": {
      "text/plain": [
       "['x', 'u', 'P', 'ux', 'Px', 'uxx', 'Pxx']"
      ]
     },
     "execution_count": 122,
     "metadata": {},
     "output_type": "execute_result"
    }
   ],
   "source": []
  },
  {
   "cell_type": "code",
   "execution_count": 415,
   "metadata": {},
   "outputs": [
    {
     "data": {
      "text/plain": [
       "['u', 'u_x', 'u_xx']"
      ]
     },
     "execution_count": 415,
     "metadata": {},
     "output_type": "execute_result"
    }
   ],
   "source": [
    "new_list = dict(('u'+'_'*(1-int(k == 0))+'x'*k, symbols('u'+'_'*(1-int(k == 0))+'x'*k)) for k in range(n)).keys()\n",
    "new_list.sort()\n",
    "new_list"
   ]
  },
  {
   "cell_type": "code",
   "execution_count": 416,
   "metadata": {},
   "outputs": [
    {
     "data": {
      "text/plain": [
       "{'u': u(x), 'u_x': Derivative(u(x), x), 'u_xx': Derivative(u(x), x, x)}"
      ]
     },
     "execution_count": 416,
     "metadata": {},
     "output_type": "execute_result"
    }
   ],
   "source": [
    "dict(zip(new_list, [diff(u,x,k) for k in range(n)]))"
   ]
  },
  {
   "cell_type": "code",
   "execution_count": 383,
   "metadata": {},
   "outputs": [
    {
     "data": {
      "image/png": "[encoded data removed]",
      "text/latex": [
       "$$0$$"
      ],
      "text/plain": [
       "0"
      ]
     },
     "execution_count": 383,
     "metadata": {},
     "output_type": "execute_result"
    }
   ],
   "source": [
    "1-int(0 == 0)"
   ]
  },
  {
   "cell_type": "code",
   "execution_count": 453,
   "metadata": {
    "collapsed": true
   },
   "outputs": [],
   "source": [
    "n = 4\n",
    "\n",
    "u_str_to_symbol = dict(('u'+'x'*k, symbols('u'+'_'*(1-int(k == 0))+'x'*k)) for k in range(n))\n",
    "a = u_str_to_symbol.keys()\n",
    "a.sort()\n",
    "u_str_to_function = dict(zip(a, [diff(u,x,k) for k in range(n)]))\n",
    "u_function_to_symbol = dict((diff(u,x,k), symbols('u'+'_'*(1-int(k == 0))+'x'*k)) for k in range(n))\n",
    "\n",
    "phi_str_to_symbol = dict(('P'+'x'*k, symbols('varphi'+'_'*(1-int(k == 0))+'x'*k)) for k in range(n))\n",
    "a = phi_str_to_symbol.keys()\n",
    "a.sort()\n",
    "phi_str_to_function = dict(zip(a, [diff(varphi,x,k) for k in range(n)]))\n",
    "phi_function_to_symbol = dict((diff(varphi,x,k), symbols('varphi'+'_'*(1-int(k == 0))+'x'*k)) for k in range(n))\n",
    "\n",
    "master_str_to_symbol = merge_two_dicts({'x': symbols('x')}, merge_two_dicts(u_str_to_symbol, phi_str_to_symbol))\n",
    "master_str_to_function = merge_two_dicts({'x': symbols('x')}, merge_two_dicts(u_str_to_function, phi_str_to_function))\n",
    "master_function_to_symbol = merge_two_dicts({'x': symbols('x')}, merge_two_dicts(u_function_to_symbol, phi_function_to_symbol))\n",
    "\n",
    "locals().update(master_str_to_function)\n",
    "locals().update(master_str_to_symbol)"
   ]
  },
  {
   "cell_type": "code",
   "execution_count": null,
   "metadata": {
    "collapsed": true
   },
   "outputs": [],
   "source": [
    "master_"
   ]
  }
 ],
 "metadata": {
  "kernelspec": {
   "display_name": "Python 2.7",
   "language": "python",
   "name": "python2"
  },
  "language_info": {
   "codemirror_mode": {
    "name": "ipython",
    "version": 2
   },
   "file_extension": ".py",
   "mimetype": "text/x-python",
   "name": "python",
   "nbconvert_exporter": "python",
   "pygments_lexer": "ipython2",
   "version": "2.7.15"
  }
 },
 "nbformat": 4,
 "nbformat_minor": 2
}

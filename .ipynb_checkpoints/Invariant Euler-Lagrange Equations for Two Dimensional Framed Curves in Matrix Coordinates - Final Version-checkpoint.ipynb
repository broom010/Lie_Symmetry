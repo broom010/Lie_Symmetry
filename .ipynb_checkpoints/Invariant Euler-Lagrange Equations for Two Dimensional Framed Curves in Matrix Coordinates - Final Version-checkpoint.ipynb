{
 "cells": [
  {
   "cell_type": "markdown",
   "metadata": {},
   "source": [
    "# Derivation of the invariant Euler Lagrange equations for SE(3) invariant Lagrangians defined over three-dimensional framed curves\n",
    "<br/>\n",
    "\n",
    "This notebook is dedicated to providing the calculations that go into deriving the invariant Euler Lagrange equations for SE(3) invariant Lagrangians defined over three-dimensional framed curves.  Unfortunately, we will not be able to use the full functionality of LieSympy as we did in the two dimensional case.  This is due to difficulties that arise in solving the normalization equations for the moving frame as well as the issue of assigning coordinates to a three dimensional framed curve and to SE(3) in general.  Therefore we will make use of LieSympy when possible, but many of our calculations will be carried out in full view within the notebook.\n",
    "\n",
    "We begin this process by first importing the necessary modules for our work.\n",
    "\n",
    "<br/>"
   ]
  },
  {
   "cell_type": "code",
   "execution_count": 1,
   "metadata": {},
   "outputs": [
    {
     "data": {
      "text/html": [
       "<style>.container { width:80% !important; }</style>"
      ],
      "text/plain": [
       "<IPython.core.display.HTML object>"
      ]
     },
     "metadata": {},
     "output_type": "display_data"
    }
   ],
   "source": [
    "from sympy import *\n",
    "from itertools import *\n",
    "import LieSympy as lp\n",
    "import numpy as np\n",
    "init_printing()\n",
    "\n",
    "from IPython.core.display import display, HTML\n",
    "display(HTML(\"<style>.container { width:80% !important; }</style>\"))"
   ]
  },
  {
   "cell_type": "markdown",
   "metadata": {},
   "source": [
    "# Initialized Symbols and Expressions\n",
    "<br/>\n",
    "We start by initializing the variables and expressions that will be needed for our calculations.  We will use Cardan angles in expressing coordinates for the $SO(3)$ components of $SE(3)$ and the framed curve."
   ]
  },
  {
   "cell_type": "markdown",
   "metadata": {},
   "source": [
    "#### Symbols"
   ]
  },
  {
   "cell_type": "code",
   "execution_count": 2,
   "metadata": {
    "collapsed": true
   },
   "outputs": [],
   "source": [
    "x = symbols('x')\n",
    "y = Function('y')('x')\n",
    "u = Function('u')('x')\n",
    "\n",
    "a = symbols('a')\n",
    "b = symbols('b')\n",
    "c = symbols('c')\n",
    "\n",
    "phi1 = Function('varphi_1')('x')\n",
    "phi2 = Function('varphi_2')('x')\n",
    "phi3 = Function('varphi_3')('x')\n",
    "\n",
    "psi1 = symbols('psi_1')\n",
    "psi2 = symbols('psi_2')\n",
    "psi3 = symbols('psi_3')"
   ]
  },
  {
   "cell_type": "markdown",
   "metadata": {},
   "source": [
    "#### Cardan Angles for $F$ and $R$.  Vectors $z$ and $v$"
   ]
  },
  {
   "cell_type": "code",
   "execution_count": 3,
   "metadata": {
    "collapsed": true
   },
   "outputs": [],
   "source": [
    "F_U = Matrix([[cos(phi1),-sin(phi1),0],[sin(phi1),cos(phi1),0],[0,0,1]])\n",
    "F_Y = Matrix([[cos(phi2),0,-sin(phi2)],[0,1,0],[sin(phi2),0,cos(phi2)]])\n",
    "F_X = Matrix([[1,0,0],[0,cos(phi3),-sin(phi3)],[0,sin(phi3),cos(phi3)]])\n",
    "\n",
    "F = F_U*F_Y*F_X\n",
    "\n",
    "R_U = Matrix([[cos(psi1),-sin(psi1),0],[sin(psi1),cos(psi1),0],[0,0,1]])\n",
    "R_Y = Matrix([[cos(psi2),0,-sin(psi2)],[0,1,0],[sin(psi2),0,cos(psi2)]])\n",
    "R_X = Matrix([[1,0,0],[0,cos(psi3),-sin(psi3)],[0,sin(psi3),cos(psi3)]])\n",
    "\n",
    "R = R_X*R_Y*R_U\n",
    "\n",
    "z = Matrix([x,y,u])\n",
    "v = Matrix([a,b,c])"
   ]
  },
  {
   "cell_type": "markdown",
   "metadata": {},
   "source": [
    "#### Transformation Rules for Base and Jet Coordinates"
   ]
  },
  {
   "cell_type": "code",
   "execution_count": 4,
   "metadata": {
    "collapsed": true
   },
   "outputs": [],
   "source": [
    "X = simplify((R*z+v).row(0)[0])\n",
    "Y = simplify((R*z+v).row(1)[0])\n",
    "U = simplify((R*z+v).row(2)[0])\n",
    "F_new = R*F\n",
    "\n",
    "Dx = diff(X,x)\n",
    "Y_x = simplify(diff(Y,x)/Dx)\n",
    "Y_xx = diff(Y_x,x)/Dx\n",
    "U_x = simplify(diff(U,x)/Dx)\n",
    "U_xx = diff(U_x,x)/Dx\n",
    "\n",
    "F_new_x = diff(F_new,x)/Dx\n",
    "F_new_xx = diff(F_new_x,x)/Dx\n",
    "\n",
    "identity = {a:0, b:0, c:0, psi1:0, psi2:0, psi3:0}"
   ]
  },
  {
   "cell_type": "markdown",
   "metadata": {},
   "source": [
    "#### Moving Frame for the Cross-section $X=Y=U=0, F_{new} = I_{3\\times 3}$"
   ]
  },
  {
   "cell_type": "code",
   "execution_count": 5,
   "metadata": {
    "collapsed": true
   },
   "outputs": [],
   "source": [
    "frame = {a:-x*cos(phi1)*cos(phi2) - u*sin(phi2) - y*sin(phi1)*cos(phi2),\n",
    "         b: x*sin(phi1)*cos(phi3) + x*sin(phi2)*sin(phi3)*cos(phi1) - u*sin(phi3)*cos(phi2) \n",
    "         + y*sin(phi1)*sin(phi2)*sin(phi3) - y*cos(phi1)*cos(phi3),\n",
    "         c: -x*sin(phi1)*sin(phi3) + x*sin(phi2)*cos(phi1)*cos(phi3) - u*cos(phi2)*cos(phi3) \n",
    "         + y*sin(phi1)*sin(phi2)*cos(phi3) + y*sin(phi3)*cos(phi1),\n",
    "         psi1:-phi1, psi2:-phi2, psi3:-phi3}"
   ]
  },
  {
   "cell_type": "markdown",
   "metadata": {},
   "source": [
    "The following calculations verify that the frame does indeed work for our choice of coordinates"
   ]
  },
  {
   "cell_type": "code",
   "execution_count": 6,
   "metadata": {},
   "outputs": [
    {
     "data": {
      "image/png": "[encoded data removed]",
      "text/latex": [
       "$$\\left[\\begin{matrix}1 & 0 & 0\\\\0 & 1 & 0\\\\0 & 0 & 1\\end{matrix}\\right]$$"
      ],
      "text/plain": [
       "⎡1  0  0⎤\n",
       "⎢       ⎥\n",
       "⎢0  1  0⎥\n",
       "⎢       ⎥\n",
       "⎣0  0  1⎦"
      ]
     },
     "execution_count": 6,
     "metadata": {},
     "output_type": "execute_result"
    }
   ],
   "source": [
    "simplify(F_new.xreplace(frame))"
   ]
  },
  {
   "cell_type": "code",
   "execution_count": 7,
   "metadata": {},
   "outputs": [
    {
     "data": {
      "image/png": "[encoded data removed]",
      "text/latex": [
       "$$0$$"
      ],
      "text/plain": [
       "0"
      ]
     },
     "execution_count": 7,
     "metadata": {},
     "output_type": "execute_result"
    }
   ],
   "source": [
    "simplify(X.xreplace(frame))"
   ]
  },
  {
   "cell_type": "code",
   "execution_count": 8,
   "metadata": {},
   "outputs": [
    {
     "data": {
      "image/png": "[encoded data removed]",
      "text/latex": [
       "$$0$$"
      ],
      "text/plain": [
       "0"
      ]
     },
     "execution_count": 8,
     "metadata": {},
     "output_type": "execute_result"
    }
   ],
   "source": [
    "simplify(Y.xreplace(frame))"
   ]
  },
  {
   "cell_type": "code",
   "execution_count": 9,
   "metadata": {},
   "outputs": [
    {
     "data": {
      "image/png": "[encoded data removed]",
      "text/latex": [
       "$$0$$"
      ],
      "text/plain": [
       "0"
      ]
     },
     "execution_count": 9,
     "metadata": {},
     "output_type": "execute_result"
    }
   ],
   "source": [
    "simplify(U.xreplace(frame))"
   ]
  },
  {
   "cell_type": "markdown",
   "metadata": {},
   "source": [
    "# Infinitesimal Generators"
   ]
  },
  {
   "cell_type": "markdown",
   "metadata": {},
   "source": [
    "For the \"curve\" portion of our framed curve, i.e. the $\\mathcal{R}^3$ component, the infinitesimal generators are:"
   ]
  },
  {
   "cell_type": "code",
   "execution_count": 10,
   "metadata": {},
   "outputs": [
    {
     "data": {
      "image/png": "[encoded data removed]",
      "text/latex": [
       "$$\\left [ - y{\\left (x \\right )}, \\quad x, \\quad 0\\right ]$$"
      ],
      "text/plain": [
       "[-y(x), x, 0]"
      ]
     },
     "execution_count": 10,
     "metadata": {},
     "output_type": "execute_result"
    }
   ],
   "source": [
    "[diff(X,psi1).subs(identity),diff(Y,psi1).subs(identity),diff(U,psi1).subs(identity)]"
   ]
  },
  {
   "cell_type": "code",
   "execution_count": 11,
   "metadata": {},
   "outputs": [
    {
     "data": {
      "image/png": "[encoded data removed]",
      "text/latex": [
       "$$\\left [ - u{\\left (x \\right )}, \\quad 0, \\quad x\\right ]$$"
      ],
      "text/plain": [
       "[-u(x), 0, x]"
      ]
     },
     "execution_count": 11,
     "metadata": {},
     "output_type": "execute_result"
    }
   ],
   "source": [
    "[diff(X,psi2).subs(identity),diff(Y,psi2).subs(identity),diff(U,psi2).subs(identity)]"
   ]
  },
  {
   "cell_type": "code",
   "execution_count": 12,
   "metadata": {},
   "outputs": [
    {
     "data": {
      "image/png": "[encoded data removed]",
      "text/latex": [
       "$$\\left [ 0, \\quad - u{\\left (x \\right )}, \\quad y{\\left (x \\right )}\\right ]$$"
      ],
      "text/plain": [
       "[0, -u(x), y(x)]"
      ]
     },
     "execution_count": 12,
     "metadata": {},
     "output_type": "execute_result"
    }
   ],
   "source": [
    "[diff(X,psi3).subs(identity),diff(Y,psi3).subs(identity),diff(U,psi3).subs(identity)]"
   ]
  },
  {
   "cell_type": "markdown",
   "metadata": {},
   "source": [
    "For the \"frame\" portion of our framed curve, i.e. the $SO(3)$ component, the infinitesimal generators are:"
   ]
  },
  {
   "cell_type": "code",
   "execution_count": 13,
   "metadata": {},
   "outputs": [
    {
     "data": {
      "image/png": "[encoded data removed]",
      "text/latex": [
       "$$\\left[\\begin{matrix}- \\sin{\\left (\\varphi_{1}{\\left (x \\right )} \\right )} \\cos{\\left (\\varphi_{2}{\\left (x \\right )} \\right )} & \\sin{\\left (\\varphi_{1}{\\left (x \\right )} \\right )} \\sin{\\left (\\varphi_{2}{\\left (x \\right )} \\right )} \\sin{\\left (\\varphi_{3}{\\left (x \\right )} \\right )} - \\cos{\\left (\\varphi_{1}{\\left (x \\right )} \\right )} \\cos{\\left (\\varphi_{3}{\\left (x \\right )} \\right )} & \\sin{\\left (\\varphi_{1}{\\left (x \\right )} \\right )} \\sin{\\left (\\varphi_{2}{\\left (x \\right )} \\right )} \\cos{\\left (\\varphi_{3}{\\left (x \\right )} \\right )} + \\sin{\\left (\\varphi_{3}{\\left (x \\right )} \\right )} \\cos{\\left (\\varphi_{1}{\\left (x \\right )} \\right )}\\\\\\cos{\\left (\\varphi_{1}{\\left (x \\right )} \\right )} \\cos{\\left (\\varphi_{2}{\\left (x \\right )} \\right )} & - \\sin{\\left (\\varphi_{1}{\\left (x \\right )} \\right )} \\cos{\\left (\\varphi_{3}{\\left (x \\right )} \\right )} - \\sin{\\left (\\varphi_{2}{\\left (x \\right )} \\right )} \\sin{\\left (\\varphi_{3}{\\left (x \\right )} \\right )} \\cos{\\left (\\varphi_{1}{\\left (x \\right )} \\right )} & \\sin{\\left (\\varphi_{1}{\\left (x \\right )} \\right )} \\sin{\\left (\\varphi_{3}{\\left (x \\right )} \\right )} - \\sin{\\left (\\varphi_{2}{\\left (x \\right )} \\right )} \\cos{\\left (\\varphi_{1}{\\left (x \\right )} \\right )} \\cos{\\left (\\varphi_{3}{\\left (x \\right )} \\right )}\\\\0 & 0 & 0\\end{matrix}\\right]$$"
      ],
      "text/plain": [
       "⎡-sin(varphi₁(x))⋅cos(varphi₂(x))  sin(varphi₁(x))⋅sin(varphi₂(x))⋅sin(varphi₃\n",
       "⎢                                                                             \n",
       "⎢cos(varphi₁(x))⋅cos(varphi₂(x))   -sin(varphi₁(x))⋅cos(varphi₃(x)) - sin(varp\n",
       "⎢                                                                             \n",
       "⎣               0                                                          0  \n",
       "\n",
       "(x)) - cos(varphi₁(x))⋅cos(varphi₃(x))   sin(varphi₁(x))⋅sin(varphi₂(x))⋅cos(v\n",
       "                                                                              \n",
       "hi₂(x))⋅sin(varphi₃(x))⋅cos(varphi₁(x))  sin(varphi₁(x))⋅sin(varphi₃(x)) - sin\n",
       "                                                                              \n",
       "                                                                              \n",
       "\n",
       "arphi₃(x)) + sin(varphi₃(x))⋅cos(varphi₁(x))⎤\n",
       "                                            ⎥\n",
       "(varphi₂(x))⋅cos(varphi₁(x))⋅cos(varphi₃(x))⎥\n",
       "                                            ⎥\n",
       "   0                                        ⎦"
      ]
     },
     "execution_count": 13,
     "metadata": {},
     "output_type": "execute_result"
    }
   ],
   "source": [
    "diff(F_new,psi1).subs(identity)"
   ]
  },
  {
   "cell_type": "code",
   "execution_count": 14,
   "metadata": {},
   "outputs": [
    {
     "data": {
      "image/png": "[encoded data removed]",
      "text/latex": [
       "$$\\left[\\begin{matrix}- \\sin{\\left (\\varphi_{2}{\\left (x \\right )} \\right )} & - \\sin{\\left (\\varphi_{3}{\\left (x \\right )} \\right )} \\cos{\\left (\\varphi_{2}{\\left (x \\right )} \\right )} & - \\cos{\\left (\\varphi_{2}{\\left (x \\right )} \\right )} \\cos{\\left (\\varphi_{3}{\\left (x \\right )} \\right )}\\\\0 & 0 & 0\\\\\\cos{\\left (\\varphi_{1}{\\left (x \\right )} \\right )} \\cos{\\left (\\varphi_{2}{\\left (x \\right )} \\right )} & - \\sin{\\left (\\varphi_{1}{\\left (x \\right )} \\right )} \\cos{\\left (\\varphi_{3}{\\left (x \\right )} \\right )} - \\sin{\\left (\\varphi_{2}{\\left (x \\right )} \\right )} \\sin{\\left (\\varphi_{3}{\\left (x \\right )} \\right )} \\cos{\\left (\\varphi_{1}{\\left (x \\right )} \\right )} & \\sin{\\left (\\varphi_{1}{\\left (x \\right )} \\right )} \\sin{\\left (\\varphi_{3}{\\left (x \\right )} \\right )} - \\sin{\\left (\\varphi_{2}{\\left (x \\right )} \\right )} \\cos{\\left (\\varphi_{1}{\\left (x \\right )} \\right )} \\cos{\\left (\\varphi_{3}{\\left (x \\right )} \\right )}\\end{matrix}\\right]$$"
      ],
      "text/plain": [
       "⎡       -sin(varphi₂(x))                                   -sin(varphi₃(x))⋅co\n",
       "⎢                                                                             \n",
       "⎢               0                                                         0   \n",
       "⎢                                                                             \n",
       "⎣cos(varphi₁(x))⋅cos(varphi₂(x))  -sin(varphi₁(x))⋅cos(varphi₃(x)) - sin(varph\n",
       "\n",
       "s(varphi₂(x))                                                   -cos(varphi₂(x\n",
       "                                                                              \n",
       "                                                                              \n",
       "                                                                              \n",
       "i₂(x))⋅sin(varphi₃(x))⋅cos(varphi₁(x))  sin(varphi₁(x))⋅sin(varphi₃(x)) - sin(\n",
       "\n",
       "))⋅cos(varphi₃(x))                         ⎤\n",
       "                                           ⎥\n",
       "  0                                        ⎥\n",
       "                                           ⎥\n",
       "varphi₂(x))⋅cos(varphi₁(x))⋅cos(varphi₃(x))⎦"
      ]
     },
     "execution_count": 14,
     "metadata": {},
     "output_type": "execute_result"
    }
   ],
   "source": [
    "diff(F_new,psi2).subs(identity)"
   ]
  },
  {
   "cell_type": "code",
   "execution_count": 15,
   "metadata": {},
   "outputs": [
    {
     "data": {
      "image/png": "[encoded data removed]",
      "text/latex": [
       "$$\\left[\\begin{matrix}0 & 0 & 0\\\\- \\sin{\\left (\\varphi_{2}{\\left (x \\right )} \\right )} & - \\sin{\\left (\\varphi_{3}{\\left (x \\right )} \\right )} \\cos{\\left (\\varphi_{2}{\\left (x \\right )} \\right )} & - \\cos{\\left (\\varphi_{2}{\\left (x \\right )} \\right )} \\cos{\\left (\\varphi_{3}{\\left (x \\right )} \\right )}\\\\\\sin{\\left (\\varphi_{1}{\\left (x \\right )} \\right )} \\cos{\\left (\\varphi_{2}{\\left (x \\right )} \\right )} & - \\sin{\\left (\\varphi_{1}{\\left (x \\right )} \\right )} \\sin{\\left (\\varphi_{2}{\\left (x \\right )} \\right )} \\sin{\\left (\\varphi_{3}{\\left (x \\right )} \\right )} + \\cos{\\left (\\varphi_{1}{\\left (x \\right )} \\right )} \\cos{\\left (\\varphi_{3}{\\left (x \\right )} \\right )} & - \\sin{\\left (\\varphi_{1}{\\left (x \\right )} \\right )} \\sin{\\left (\\varphi_{2}{\\left (x \\right )} \\right )} \\cos{\\left (\\varphi_{3}{\\left (x \\right )} \\right )} - \\sin{\\left (\\varphi_{3}{\\left (x \\right )} \\right )} \\cos{\\left (\\varphi_{1}{\\left (x \\right )} \\right )}\\end{matrix}\\right]$$"
      ],
      "text/plain": [
       "⎡               0                                                         0   \n",
       "⎢                                                                             \n",
       "⎢       -sin(varphi₂(x))                                   -sin(varphi₃(x))⋅co\n",
       "⎢                                                                             \n",
       "⎣sin(varphi₁(x))⋅cos(varphi₂(x))  -sin(varphi₁(x))⋅sin(varphi₂(x))⋅sin(varphi₃\n",
       "\n",
       "                                                                              \n",
       "                                                                              \n",
       "s(varphi₂(x))                                                    -cos(varphi₂(\n",
       "                                                                              \n",
       "(x)) + cos(varphi₁(x))⋅cos(varphi₃(x))  -sin(varphi₁(x))⋅sin(varphi₂(x))⋅cos(v\n",
       "\n",
       "  0                                         ⎤\n",
       "                                            ⎥\n",
       "x))⋅cos(varphi₃(x))                         ⎥\n",
       "                                            ⎥\n",
       "arphi₃(x)) - sin(varphi₃(x))⋅cos(varphi₁(x))⎦"
      ]
     },
     "execution_count": 15,
     "metadata": {},
     "output_type": "execute_result"
    }
   ],
   "source": [
    "diff(F_new,psi3).subs(identity)"
   ]
  },
  {
   "cell_type": "markdown",
   "metadata": {},
   "source": [
    "We should note that we could just have well realized that these expression are found by applying $\\dfrac{dR}{d\\psi_j}\\bigg|_{id}$ to either $z$ or $F$, i.e. we can multiply by one of the following three matrices:"
   ]
  },
  {
   "cell_type": "code",
   "execution_count": 41,
   "metadata": {},
   "outputs": [
    {
     "data": {
      "image/png": "[encoded data removed]",
      "text/latex": [
       "$$\\left[\\begin{matrix}0 & -1 & 0\\\\1 & 0 & 0\\\\0 & 0 & 0\\end{matrix}\\right]$$"
      ],
      "text/plain": [
       "⎡0  -1  0⎤\n",
       "⎢        ⎥\n",
       "⎢1  0   0⎥\n",
       "⎢        ⎥\n",
       "⎣0  0   0⎦"
      ]
     },
     "execution_count": 41,
     "metadata": {},
     "output_type": "execute_result"
    }
   ],
   "source": [
    "V_4 = diff(R,psi1).subs(identity)\n",
    "V_4"
   ]
  },
  {
   "cell_type": "code",
   "execution_count": 42,
   "metadata": {},
   "outputs": [
    {
     "data": {
      "image/png": "[encoded data removed]",
      "text/latex": [
       "$$\\left[\\begin{matrix}0 & 0 & -1\\\\0 & 0 & 0\\\\1 & 0 & 0\\end{matrix}\\right]$$"
      ],
      "text/plain": [
       "⎡0  0  -1⎤\n",
       "⎢        ⎥\n",
       "⎢0  0  0 ⎥\n",
       "⎢        ⎥\n",
       "⎣1  0  0 ⎦"
      ]
     },
     "execution_count": 42,
     "metadata": {},
     "output_type": "execute_result"
    }
   ],
   "source": [
    "V_5 = diff(R,psi2).subs(identity)\n",
    "V_5"
   ]
  },
  {
   "cell_type": "code",
   "execution_count": 43,
   "metadata": {},
   "outputs": [
    {
     "data": {
      "image/png": "[encoded data removed]",
      "text/latex": [
       "$$\\left[\\begin{matrix}0 & 0 & 0\\\\0 & 0 & -1\\\\0 & 1 & 0\\end{matrix}\\right]$$"
      ],
      "text/plain": [
       "⎡0  0  0 ⎤\n",
       "⎢        ⎥\n",
       "⎢0  0  -1⎥\n",
       "⎢        ⎥\n",
       "⎣0  1  0 ⎦"
      ]
     },
     "execution_count": 43,
     "metadata": {},
     "output_type": "execute_result"
    }
   ],
   "source": [
    "V_6 = diff(R,psi3).subs(identity)\n",
    "V_6"
   ]
  },
  {
   "cell_type": "markdown",
   "metadata": {},
   "source": [
    "# A Note About the Action of $SO(3)$ on Frames\n",
    "Before moving on, we should note that the action of $SO(3)$ on the frame matrix $F$ view above can also be analyzed in the absense of an explicit parameterization of $F$ in $SO(3)$.  This is done by simply analyzing the aciton of $SO(3)$ on $\\mathfrak{gl}(3)$ and imposing relation of various components.  This viewpoint is demonstrated below."
   ]
  },
  {
   "cell_type": "code",
   "execution_count": 19,
   "metadata": {
    "collapsed": true
   },
   "outputs": [],
   "source": [
    "F11 = symbols('F11')\n",
    "F12 = symbols('F12')\n",
    "F13 = symbols('F13')\n",
    "F21 = symbols('F21')\n",
    "F22 = symbols('F22')\n",
    "F23 = symbols('F23')\n",
    "F31 = symbols('F31')\n",
    "F32 = symbols('F32')\n",
    "F33 = symbols('F33')\n",
    "\n",
    "F = Matrix([[F11,F12,F13],[F21,F22,F23],[F31,F32,F33]])"
   ]
  },
  {
   "cell_type": "code",
   "execution_count": 20,
   "metadata": {},
   "outputs": [
    {
     "data": {
      "image/png": "[encoded data removed]",
      "text/latex": [
       "$$\\left[\\begin{matrix}- F_{21} & - F_{22} & - F_{23}\\\\F_{11} & F_{12} & F_{13}\\\\0 & 0 & 0\\end{matrix}\\right]$$"
      ],
      "text/plain": [
       "⎡-F₂₁  -F₂₂  -F₂₃⎤\n",
       "⎢                ⎥\n",
       "⎢F₁₁   F₁₂   F₁₃ ⎥\n",
       "⎢                ⎥\n",
       "⎣ 0     0     0  ⎦"
      ]
     },
     "execution_count": 20,
     "metadata": {},
     "output_type": "execute_result"
    }
   ],
   "source": [
    "diff(R*F,psi1).subs(identity)"
   ]
  },
  {
   "cell_type": "code",
   "execution_count": 21,
   "metadata": {},
   "outputs": [
    {
     "data": {
      "image/png": "[encoded data removed]",
      "text/latex": [
       "$$\\left[\\begin{matrix}- F_{31} & - F_{32} & - F_{33}\\\\0 & 0 & 0\\\\F_{11} & F_{12} & F_{13}\\end{matrix}\\right]$$"
      ],
      "text/plain": [
       "⎡-F₃₁  -F₃₂  -F₃₃⎤\n",
       "⎢                ⎥\n",
       "⎢ 0     0     0  ⎥\n",
       "⎢                ⎥\n",
       "⎣F₁₁   F₁₂   F₁₃ ⎦"
      ]
     },
     "execution_count": 21,
     "metadata": {},
     "output_type": "execute_result"
    }
   ],
   "source": [
    "diff(R*F,psi2).subs(identity)"
   ]
  },
  {
   "cell_type": "code",
   "execution_count": 22,
   "metadata": {},
   "outputs": [
    {
     "data": {
      "image/png": "[encoded data removed]",
      "text/latex": [
       "$$\\left[\\begin{matrix}0 & 0 & 0\\\\- F_{31} & - F_{32} & - F_{33}\\\\F_{21} & F_{22} & F_{23}\\end{matrix}\\right]$$"
      ],
      "text/plain": [
       "⎡ 0     0     0  ⎤\n",
       "⎢                ⎥\n",
       "⎢-F₃₁  -F₃₂  -F₃₃⎥\n",
       "⎢                ⎥\n",
       "⎣F₂₁   F₂₂   F₂₃ ⎦"
      ]
     },
     "execution_count": 22,
     "metadata": {},
     "output_type": "execute_result"
    }
   ],
   "source": [
    "diff(R*F,psi3).subs(identity)"
   ]
  },
  {
   "cell_type": "markdown",
   "metadata": {},
   "source": [
    "# Prolongation of Infinitesimal Generators\n",
    "If we prolong the infinitesimal generators for the group action given above using the jet coordinates $(x,y,u,\\varphi_1,\\varphi_2,\\varphi_3, y_x,u_x,\\varphi_{1,x},\\varphi_{2,x},\\varphi_{3,x})$, we will end up with a complicated mess.  Instead, we can express the prolongations as the restriction of the prolongations induced by the ebedding $SO(3)\\hookrightarrow\\mathfrak{gl}(3)$.  Expressing the prolonged infinitesimal generators in coordinates will require a rather long array.  Instead of doing this, we will display only the additional components of $\\texttt{pr}^1(v_i)$ that arise in prolonging $v_i$."
   ]
  },
  {
   "cell_type": "code",
   "execution_count": 23,
   "metadata": {
    "collapsed": true
   },
   "outputs": [],
   "source": [
    "v1 = [-symbols('y'), x, 0, -F21, -F22, -F23, F11, F12, F13, 0, 0, 0]\n",
    "v2 = [-symbols('u'), 0, x, -F31, -F32, -F33, 0, 0, 0, F11, F12, F13]\n",
    "v3 = [0, -symbols('u'), symbols('y'), 0, 0, 0, -F31, -F32, -F33, F21, F22, F23]\n",
    "\n",
    "A = [['x'], ['y','u','F11','F12','F13','F21','F22','F23','F31','F32','F33']]"
   ]
  },
  {
   "cell_type": "code",
   "execution_count": 24,
   "metadata": {},
   "outputs": [
    {
     "data": {
      "image/png": "[encoded data removed]",
      "text/latex": [
       "$$\\left [ y_{x}^{2} + 1, \\quad u_{x} y_{x}, \\quad F_{11 x} y_{x} - F_{21 x}, \\quad F_{12 x} y_{x} - F_{22 x}, \\quad F_{13 x} y_{x} - F_{23 x}, \\quad F_{11 x} + F_{21 x} y_{x}, \\quad F_{12 x} + F_{22 x} y_{x}, \\quad F_{13 x} + F_{23 x} y_{x}, \\quad F_{31 x} y_{x}, \\quad F_{32 x} y_{x}, \\quad F_{33 x} y_{x}\\right ]$$"
      ],
      "text/plain": [
       "⎡  2                                                                          \n",
       "⎣yₓ  + 1, uₓ⋅yₓ, F₁₁ ₓ⋅yₓ - F₂₁ ₓ, F₁₂ ₓ⋅yₓ - F₂₂ ₓ, F₁₃ ₓ⋅yₓ - F₂₃ ₓ, F₁₁ ₓ +\n",
       "\n",
       "                                                                           ⎤\n",
       " F₂₁ ₓ⋅yₓ, F₁₂ ₓ + F₂₂ ₓ⋅yₓ, F₁₃ ₓ + F₂₃ ₓ⋅yₓ, F₃₁ ₓ⋅yₓ, F₃₂ ₓ⋅yₓ, F₃₃ ₓ⋅yₓ⎦"
      ]
     },
     "execution_count": 24,
     "metadata": {},
     "output_type": "execute_result"
    }
   ],
   "source": [
    "lp.Prolong(A, v1, 1)[len(v1):]"
   ]
  },
  {
   "cell_type": "code",
   "execution_count": 25,
   "metadata": {},
   "outputs": [
    {
     "data": {
      "image/png": "[encoded data removed]",
      "text/latex": [
       "$$\\left [ u_{x} y_{x}, \\quad u_{x}^{2} + 1, \\quad F_{11 x} u_{x} - F_{31 x}, \\quad F_{12 x} u_{x} - F_{32 x}, \\quad F_{13 x} u_{x} - F_{33 x}, \\quad F_{21 x} u_{x}, \\quad F_{22 x} u_{x}, \\quad F_{23 x} u_{x}, \\quad F_{11 x} + F_{31 x} u_{x}, \\quad F_{12 x} + F_{32 x} u_{x}, \\quad F_{13 x} + F_{33 x} u_{x}\\right ]$$"
      ],
      "text/plain": [
       "⎡         2                                                                   \n",
       "⎣uₓ⋅yₓ, uₓ  + 1, F₁₁ ₓ⋅uₓ - F₃₁ ₓ, F₁₂ ₓ⋅uₓ - F₃₂ ₓ, F₁₃ ₓ⋅uₓ - F₃₃ ₓ, F₂₁ ₓ⋅u\n",
       "\n",
       "                                                                           ⎤\n",
       "ₓ, F₂₂ ₓ⋅uₓ, F₂₃ ₓ⋅uₓ, F₁₁ ₓ + F₃₁ ₓ⋅uₓ, F₁₂ ₓ + F₃₂ ₓ⋅uₓ, F₁₃ ₓ + F₃₃ ₓ⋅uₓ⎦"
      ]
     },
     "execution_count": 25,
     "metadata": {},
     "output_type": "execute_result"
    }
   ],
   "source": [
    "lp.Prolong(A, v2, 1)[len(v1):]"
   ]
  },
  {
   "cell_type": "code",
   "execution_count": 26,
   "metadata": {},
   "outputs": [
    {
     "data": {
      "image/png": "[encoded data removed]",
      "text/latex": [
       "$$\\left [ - u_{x}, \\quad y_{x}, \\quad 0, \\quad 0, \\quad 0, \\quad - F_{31 x}, \\quad - F_{32 x}, \\quad - F_{33 x}, \\quad F_{21 x}, \\quad F_{22 x}, \\quad F_{23 x}\\right ]$$"
      ],
      "text/plain": [
       "[-uₓ, yₓ, 0, 0, 0, -F₃₁ ₓ, -F₃₂ ₓ, -F₃₃ ₓ, F₂₁ ₓ, F₂₂ ₓ, F₂₃ ₓ]"
      ]
     },
     "execution_count": 26,
     "metadata": {},
     "output_type": "execute_result"
    }
   ],
   "source": [
    "lp.Prolong(A, v3, 1)[len(v1):]"
   ]
  },
  {
   "cell_type": "markdown",
   "metadata": {},
   "source": [
    "# Create groupAction Object\n",
    "In the following cell, we create a groupAction object and define the group transformation.  This will allow us to use some of the functionality of the class.  The Apply_Frame_Analysis() method cannot be applied in this situation because the symbolic solver cannot comple key steps."
   ]
  },
  {
   "cell_type": "code",
   "execution_count": 30,
   "metadata": {
    "collapsed": true
   },
   "outputs": [],
   "source": [
    "g = lp.groupAction([['x'],['y','u','F11', 'F12', 'F13', 'F21', 'F22', 'F23', 'F31', 'F32', 'F33']],['a','b','c', 'psi1', 'psi2', 'psi3'],2)\n",
    "F_expr = R*F\n",
    "lp_conversion = {a:lp.a, b:lp.b, c:lp.c, psi1:lp.psi1, psi2:lp.psi2, psi3:lp.psi3, x:lp.x, y:lp.y, u:lp.u,F11:lp.F11, F12:lp.F12, F13:lp.F13, F21:lp.F21, F22:lp.F22, F23:lp.F23, F31:lp.F31, F32:lp.F32, F33:lp.F33}\n",
    "\n",
    "# Define the group transformation, identity, and cross-section\n",
    "T = [X.subs(lp_conversion), Y.subs(lp_conversion), U.subs(lp_conversion), F_expr[0].subs(lp_conversion), F_expr[1].subs(lp_conversion), F_expr[2].subs(lp_conversion), F_expr[3].subs(lp_conversion), F_expr[4].subs(lp_conversion), F_expr[5].subs(lp_conversion), F_expr[6].subs(lp_conversion), F_expr[7].subs(lp_conversion), F_expr[8].subs(lp_conversion)]\n",
    "grp_id = [0,0,0,0,0,0]\n",
    "K = [[0,0,0,1,0,0,0,1,0,0,0,1],[lp.x,lp.y,lp.u,lp.F11,lp.F12,lp.F13,lp.F21,lp.F22,lp.F23,lp.F31,lp.F32,lp.F33]]\n",
    "\n",
    "# Add defining properties to the group action object\n",
    "g.Def_transformation(T,grp_id,K)"
   ]
  },
  {
   "cell_type": "markdown",
   "metadata": {},
   "source": [
    "# Recurrence Relations for Differential Invariants\n",
    "Determining the Mauer-Cartan invariants that show up in the recurrence relations for differential invariants requires solving an overdetermined system of equations.  Symbolic algebra systems can run into various problems when trying to solve such systems.  For this reason (and due to the relative ease) we will solve for the invariants by splitting the calculation into various steps."
   ]
  },
  {
   "cell_type": "code",
   "execution_count": 69,
   "metadata": {},
   "outputs": [],
   "source": [
    "F11 = Function('F11')('x')\n",
    "F12 = Function('F12')('x')\n",
    "F13 = Function('F13')('x')\n",
    "F21 = Function('F21')('x')\n",
    "F22 = Function('F22')('x')\n",
    "F23 = Function('F23')('x')\n",
    "F31 = Function('F31')('x')\n",
    "F32 = Function('F32')('x')\n",
    "F33 = Function('F33')('x')\n",
    "\n",
    "F = Matrix([[F11,F12,F13],[F21,F22,F23],[F31,F32,F33]])\n",
    "\n",
    "F_new = R*F"
   ]
  },
  {
   "cell_type": "code",
   "execution_count": 71,
   "metadata": {},
   "outputs": [
    {
     "data": {
      "image/png": "[encoded data removed]",
      "text/latex": [
       "$$\\left[\\begin{matrix}\\frac{\\sin{\\left (\\psi_{1} \\right )} \\cos{\\left (\\psi_{2} \\right )} \\frac{d}{d x} \\operatorname{F_{21}}{\\left (x \\right )} + \\sin{\\left (\\psi_{2} \\right )} \\frac{d}{d x} \\operatorname{F_{31}}{\\left (x \\right )} - \\cos{\\left (\\psi_{1} \\right )} \\cos{\\left (\\psi_{2} \\right )} \\frac{d}{d x} \\operatorname{F_{11}}{\\left (x \\right )}}{\\sin{\\left (\\psi_{1} \\right )} \\cos{\\left (\\psi_{2} \\right )} \\frac{d}{d x} y{\\left (x \\right )} + \\sin{\\left (\\psi_{2} \\right )} \\frac{d}{d x} u{\\left (x \\right )} - \\cos{\\left (\\psi_{1} \\right )} \\cos{\\left (\\psi_{2} \\right )}} & \\frac{\\sin{\\left (\\psi_{1} \\right )} \\cos{\\left (\\psi_{2} \\right )} \\frac{d}{d x} \\operatorname{F_{22}}{\\left (x \\right )} + \\sin{\\left (\\psi_{2} \\right )} \\frac{d}{d x} \\operatorname{F_{32}}{\\left (x \\right )} - \\cos{\\left (\\psi_{1} \\right )} \\cos{\\left (\\psi_{2} \\right )} \\frac{d}{d x} \\operatorname{F_{12}}{\\left (x \\right )}}{\\sin{\\left (\\psi_{1} \\right )} \\cos{\\left (\\psi_{2} \\right )} \\frac{d}{d x} y{\\left (x \\right )} + \\sin{\\left (\\psi_{2} \\right )} \\frac{d}{d x} u{\\left (x \\right )} - \\cos{\\left (\\psi_{1} \\right )} \\cos{\\left (\\psi_{2} \\right )}} & \\frac{\\sin{\\left (\\psi_{1} \\right )} \\cos{\\left (\\psi_{2} \\right )} \\frac{d}{d x} \\operatorname{F_{23}}{\\left (x \\right )} + \\sin{\\left (\\psi_{2} \\right )} \\frac{d}{d x} \\operatorname{F_{33}}{\\left (x \\right )} - \\cos{\\left (\\psi_{1} \\right )} \\cos{\\left (\\psi_{2} \\right )} \\frac{d}{d x} \\operatorname{F_{13}}{\\left (x \\right )}}{\\sin{\\left (\\psi_{1} \\right )} \\cos{\\left (\\psi_{2} \\right )} \\frac{d}{d x} y{\\left (x \\right )} + \\sin{\\left (\\psi_{2} \\right )} \\frac{d}{d x} u{\\left (x \\right )} - \\cos{\\left (\\psi_{1} \\right )} \\cos{\\left (\\psi_{2} \\right )}}\\\\\\frac{- \\left(\\sin{\\left (\\psi_{1} \\right )} \\cos{\\left (\\psi_{3} \\right )} - \\sin{\\left (\\psi_{2} \\right )} \\sin{\\left (\\psi_{3} \\right )} \\cos{\\left (\\psi_{1} \\right )}\\right) \\frac{d}{d x} \\operatorname{F_{11}}{\\left (x \\right )} - \\left(\\sin{\\left (\\psi_{1} \\right )} \\sin{\\left (\\psi_{2} \\right )} \\sin{\\left (\\psi_{3} \\right )} + \\cos{\\left (\\psi_{1} \\right )} \\cos{\\left (\\psi_{3} \\right )}\\right) \\frac{d}{d x} \\operatorname{F_{21}}{\\left (x \\right )} + \\sin{\\left (\\psi_{3} \\right )} \\cos{\\left (\\psi_{2} \\right )} \\frac{d}{d x} \\operatorname{F_{31}}{\\left (x \\right )}}{\\sin{\\left (\\psi_{1} \\right )} \\cos{\\left (\\psi_{2} \\right )} \\frac{d}{d x} y{\\left (x \\right )} + \\sin{\\left (\\psi_{2} \\right )} \\frac{d}{d x} u{\\left (x \\right )} - \\cos{\\left (\\psi_{1} \\right )} \\cos{\\left (\\psi_{2} \\right )}} & \\frac{- \\left(\\sin{\\left (\\psi_{1} \\right )} \\cos{\\left (\\psi_{3} \\right )} - \\sin{\\left (\\psi_{2} \\right )} \\sin{\\left (\\psi_{3} \\right )} \\cos{\\left (\\psi_{1} \\right )}\\right) \\frac{d}{d x} \\operatorname{F_{12}}{\\left (x \\right )} - \\left(\\sin{\\left (\\psi_{1} \\right )} \\sin{\\left (\\psi_{2} \\right )} \\sin{\\left (\\psi_{3} \\right )} + \\cos{\\left (\\psi_{1} \\right )} \\cos{\\left (\\psi_{3} \\right )}\\right) \\frac{d}{d x} \\operatorname{F_{22}}{\\left (x \\right )} + \\sin{\\left (\\psi_{3} \\right )} \\cos{\\left (\\psi_{2} \\right )} \\frac{d}{d x} \\operatorname{F_{32}}{\\left (x \\right )}}{\\sin{\\left (\\psi_{1} \\right )} \\cos{\\left (\\psi_{2} \\right )} \\frac{d}{d x} y{\\left (x \\right )} + \\sin{\\left (\\psi_{2} \\right )} \\frac{d}{d x} u{\\left (x \\right )} - \\cos{\\left (\\psi_{1} \\right )} \\cos{\\left (\\psi_{2} \\right )}} & \\frac{- \\left(\\sin{\\left (\\psi_{1} \\right )} \\cos{\\left (\\psi_{3} \\right )} - \\sin{\\left (\\psi_{2} \\right )} \\sin{\\left (\\psi_{3} \\right )} \\cos{\\left (\\psi_{1} \\right )}\\right) \\frac{d}{d x} \\operatorname{F_{13}}{\\left (x \\right )} - \\left(\\sin{\\left (\\psi_{1} \\right )} \\sin{\\left (\\psi_{2} \\right )} \\sin{\\left (\\psi_{3} \\right )} + \\cos{\\left (\\psi_{1} \\right )} \\cos{\\left (\\psi_{3} \\right )}\\right) \\frac{d}{d x} \\operatorname{F_{23}}{\\left (x \\right )} + \\sin{\\left (\\psi_{3} \\right )} \\cos{\\left (\\psi_{2} \\right )} \\frac{d}{d x} \\operatorname{F_{33}}{\\left (x \\right )}}{\\sin{\\left (\\psi_{1} \\right )} \\cos{\\left (\\psi_{2} \\right )} \\frac{d}{d x} y{\\left (x \\right )} + \\sin{\\left (\\psi_{2} \\right )} \\frac{d}{d x} u{\\left (x \\right )} - \\cos{\\left (\\psi_{1} \\right )} \\cos{\\left (\\psi_{2} \\right )}}\\\\\\frac{- \\left(\\sin{\\left (\\psi_{1} \\right )} \\sin{\\left (\\psi_{3} \\right )} + \\sin{\\left (\\psi_{2} \\right )} \\cos{\\left (\\psi_{1} \\right )} \\cos{\\left (\\psi_{3} \\right )}\\right) \\frac{d}{d x} \\operatorname{F_{11}}{\\left (x \\right )} + \\left(\\sin{\\left (\\psi_{1} \\right )} \\sin{\\left (\\psi_{2} \\right )} \\cos{\\left (\\psi_{3} \\right )} - \\sin{\\left (\\psi_{3} \\right )} \\cos{\\left (\\psi_{1} \\right )}\\right) \\frac{d}{d x} \\operatorname{F_{21}}{\\left (x \\right )} - \\cos{\\left (\\psi_{2} \\right )} \\cos{\\left (\\psi_{3} \\right )} \\frac{d}{d x} \\operatorname{F_{31}}{\\left (x \\right )}}{\\sin{\\left (\\psi_{1} \\right )} \\cos{\\left (\\psi_{2} \\right )} \\frac{d}{d x} y{\\left (x \\right )} + \\sin{\\left (\\psi_{2} \\right )} \\frac{d}{d x} u{\\left (x \\right )} - \\cos{\\left (\\psi_{1} \\right )} \\cos{\\left (\\psi_{2} \\right )}} & \\frac{- \\left(\\sin{\\left (\\psi_{1} \\right )} \\sin{\\left (\\psi_{3} \\right )} + \\sin{\\left (\\psi_{2} \\right )} \\cos{\\left (\\psi_{1} \\right )} \\cos{\\left (\\psi_{3} \\right )}\\right) \\frac{d}{d x} \\operatorname{F_{12}}{\\left (x \\right )} + \\left(\\sin{\\left (\\psi_{1} \\right )} \\sin{\\left (\\psi_{2} \\right )} \\cos{\\left (\\psi_{3} \\right )} - \\sin{\\left (\\psi_{3} \\right )} \\cos{\\left (\\psi_{1} \\right )}\\right) \\frac{d}{d x} \\operatorname{F_{22}}{\\left (x \\right )} - \\cos{\\left (\\psi_{2} \\right )} \\cos{\\left (\\psi_{3} \\right )} \\frac{d}{d x} \\operatorname{F_{32}}{\\left (x \\right )}}{\\sin{\\left (\\psi_{1} \\right )} \\cos{\\left (\\psi_{2} \\right )} \\frac{d}{d x} y{\\left (x \\right )} + \\sin{\\left (\\psi_{2} \\right )} \\frac{d}{d x} u{\\left (x \\right )} - \\cos{\\left (\\psi_{1} \\right )} \\cos{\\left (\\psi_{2} \\right )}} & \\frac{- \\left(\\sin{\\left (\\psi_{1} \\right )} \\sin{\\left (\\psi_{3} \\right )} + \\sin{\\left (\\psi_{2} \\right )} \\cos{\\left (\\psi_{1} \\right )} \\cos{\\left (\\psi_{3} \\right )}\\right) \\frac{d}{d x} \\operatorname{F_{13}}{\\left (x \\right )} + \\left(\\sin{\\left (\\psi_{1} \\right )} \\sin{\\left (\\psi_{2} \\right )} \\cos{\\left (\\psi_{3} \\right )} - \\sin{\\left (\\psi_{3} \\right )} \\cos{\\left (\\psi_{1} \\right )}\\right) \\frac{d}{d x} \\operatorname{F_{23}}{\\left (x \\right )} - \\cos{\\left (\\psi_{2} \\right )} \\cos{\\left (\\psi_{3} \\right )} \\frac{d}{d x} \\operatorname{F_{33}}{\\left (x \\right )}}{\\sin{\\left (\\psi_{1} \\right )} \\cos{\\left (\\psi_{2} \\right )} \\frac{d}{d x} y{\\left (x \\right )} + \\sin{\\left (\\psi_{2} \\right )} \\frac{d}{d x} u{\\left (x \\right )} - \\cos{\\left (\\psi_{1} \\right )} \\cos{\\left (\\psi_{2} \\right )}}\\end{matrix}\\right]$$"
      ],
      "text/plain": [
       "⎡                                                 d                    d      \n",
       "⎢                                 sin(ψ₁)⋅cos(ψ₂)⋅──(F₂₁(x)) + sin(ψ₂)⋅──(F₃₁(\n",
       "⎢                                                 dx                   dx     \n",
       "⎢                                 ────────────────────────────────────────────\n",
       "⎢                                                        d                  d \n",
       "⎢                                        sin(ψ₁)⋅cos(ψ₂)⋅──(y(x)) + sin(ψ₂)⋅──\n",
       "⎢                                                        dx                 dx\n",
       "⎢                                                                             \n",
       "⎢                                              d                              \n",
       "⎢- (sin(ψ₁)⋅cos(ψ₃) - sin(ψ₂)⋅sin(ψ₃)⋅cos(ψ₁))⋅──(F₁₁(x)) - (sin(ψ₁)⋅sin(ψ₂)⋅s\n",
       "⎢                                              dx                             \n",
       "⎢─────────────────────────────────────────────────────────────────────────────\n",
       "⎢                                                        d                  d \n",
       "⎢                                        sin(ψ₁)⋅cos(ψ₂)⋅──(y(x)) + sin(ψ₂)⋅──\n",
       "⎢                                                        dx                 dx\n",
       "⎢                                                                             \n",
       "⎢                                              d                              \n",
       "⎢- (sin(ψ₁)⋅sin(ψ₃) + sin(ψ₂)⋅cos(ψ₁)⋅cos(ψ₃))⋅──(F₁₁(x)) + (sin(ψ₁)⋅sin(ψ₂)⋅c\n",
       "⎢                                              dx                             \n",
       "⎢─────────────────────────────────────────────────────────────────────────────\n",
       "⎢                                                        d                  d \n",
       "⎢                                        sin(ψ₁)⋅cos(ψ₂)⋅──(y(x)) + sin(ψ₂)⋅──\n",
       "⎣                                                        dx                 dx\n",
       "\n",
       "                      d                                                       \n",
       "x)) - cos(ψ₁)⋅cos(ψ₂)⋅──(F₁₁(x))                                              \n",
       "                      dx                                                      \n",
       "────────────────────────────────                                              \n",
       "                                                                              \n",
       "(u(x)) - cos(ψ₁)⋅cos(ψ₂)                                                      \n",
       "                                                                              \n",
       "                                                                              \n",
       "                          d                            d                      \n",
       "in(ψ₃) + cos(ψ₁)⋅cos(ψ₃))⋅──(F₂₁(x)) + sin(ψ₃)⋅cos(ψ₂)⋅──(F₃₁(x))  - (sin(ψ₁)⋅\n",
       "                          dx                           dx                     \n",
       "─────────────────────────────────────────────────────────────────  ───────────\n",
       "                                                                              \n",
       "(u(x)) - cos(ψ₁)⋅cos(ψ₂)                                                      \n",
       "                                                                              \n",
       "                                                                              \n",
       "                          d                            d                      \n",
       "os(ψ₃) - sin(ψ₃)⋅cos(ψ₁))⋅──(F₂₁(x)) - cos(ψ₂)⋅cos(ψ₃)⋅──(F₃₁(x))  - (sin(ψ₁)⋅\n",
       "                          dx                           dx                     \n",
       "─────────────────────────────────────────────────────────────────  ───────────\n",
       "                                                                              \n",
       "(u(x)) - cos(ψ₁)⋅cos(ψ₂)                                                      \n",
       "                                                                              \n",
       "\n",
       "                                      d                    d                  \n",
       "                      sin(ψ₁)⋅cos(ψ₂)⋅──(F₂₂(x)) + sin(ψ₂)⋅──(F₃₂(x)) - cos(ψ₁\n",
       "                                      dx                   dx                 \n",
       "                      ────────────────────────────────────────────────────────\n",
       "                                             d                  d             \n",
       "                             sin(ψ₁)⋅cos(ψ₂)⋅──(y(x)) + sin(ψ₂)⋅──(u(x)) - cos\n",
       "                                             dx                 dx            \n",
       "                                                                              \n",
       "                                   d                                          \n",
       "cos(ψ₃) - sin(ψ₂)⋅sin(ψ₃)⋅cos(ψ₁))⋅──(F₁₂(x)) - (sin(ψ₁)⋅sin(ψ₂)⋅sin(ψ₃) + cos\n",
       "                                   dx                                         \n",
       "──────────────────────────────────────────────────────────────────────────────\n",
       "                                             d                  d             \n",
       "                             sin(ψ₁)⋅cos(ψ₂)⋅──(y(x)) + sin(ψ₂)⋅──(u(x)) - cos\n",
       "                                             dx                 dx            \n",
       "                                                                              \n",
       "                                   d                                          \n",
       "sin(ψ₃) + sin(ψ₂)⋅cos(ψ₁)⋅cos(ψ₃))⋅──(F₁₂(x)) + (sin(ψ₁)⋅sin(ψ₂)⋅cos(ψ₃) - sin\n",
       "                                   dx                                         \n",
       "──────────────────────────────────────────────────────────────────────────────\n",
       "                                             d                  d             \n",
       "                             sin(ψ₁)⋅cos(ψ₂)⋅──(y(x)) + sin(ψ₂)⋅──(u(x)) - cos\n",
       "                                             dx                 dx            \n",
       "\n",
       "          d                                                                   \n",
       ")⋅cos(ψ₂)⋅──(F₁₂(x))                                                          \n",
       "          dx                                                                  \n",
       "────────────────────                                                          \n",
       "                                                                              \n",
       "(ψ₁)⋅cos(ψ₂)                                                                  \n",
       "                                                                              \n",
       "                                                                              \n",
       "              d                            d                                  \n",
       "(ψ₁)⋅cos(ψ₃))⋅──(F₂₂(x)) + sin(ψ₃)⋅cos(ψ₂)⋅──(F₃₂(x))  - (sin(ψ₁)⋅cos(ψ₃) - si\n",
       "              dx                           dx                                 \n",
       "─────────────────────────────────────────────────────  ───────────────────────\n",
       "                                                                              \n",
       "(ψ₁)⋅cos(ψ₂)                                                                  \n",
       "                                                                              \n",
       "                                                                              \n",
       "              d                            d                                  \n",
       "(ψ₃)⋅cos(ψ₁))⋅──(F₂₂(x)) - cos(ψ₂)⋅cos(ψ₃)⋅──(F₃₂(x))  - (sin(ψ₁)⋅sin(ψ₃) + si\n",
       "              dx                           dx                                 \n",
       "─────────────────────────────────────────────────────  ───────────────────────\n",
       "                                                                              \n",
       "(ψ₁)⋅cos(ψ₂)                                                                  \n",
       "                                                                              \n",
       "\n",
       "                          d                    d                            d \n",
       "          sin(ψ₁)⋅cos(ψ₂)⋅──(F₂₃(x)) + sin(ψ₂)⋅──(F₃₃(x)) - cos(ψ₁)⋅cos(ψ₂)⋅──\n",
       "                          dx                   dx                           dx\n",
       "          ────────────────────────────────────────────────────────────────────\n",
       "                                 d                  d                         \n",
       "                 sin(ψ₁)⋅cos(ψ₂)⋅──(y(x)) + sin(ψ₂)⋅──(u(x)) - cos(ψ₁)⋅cos(ψ₂)\n",
       "                                 dx                 dx                        \n",
       "                                                                              \n",
       "                       d                                                      \n",
       "n(ψ₂)⋅sin(ψ₃)⋅cos(ψ₁))⋅──(F₁₃(x)) - (sin(ψ₁)⋅sin(ψ₂)⋅sin(ψ₃) + cos(ψ₁)⋅cos(ψ₃)\n",
       "                       dx                                                     \n",
       "──────────────────────────────────────────────────────────────────────────────\n",
       "                                 d                  d                         \n",
       "                 sin(ψ₁)⋅cos(ψ₂)⋅──(y(x)) + sin(ψ₂)⋅──(u(x)) - cos(ψ₁)⋅cos(ψ₂)\n",
       "                                 dx                 dx                        \n",
       "                                                                              \n",
       "                       d                                                      \n",
       "n(ψ₂)⋅cos(ψ₁)⋅cos(ψ₃))⋅──(F₁₃(x)) + (sin(ψ₁)⋅sin(ψ₂)⋅cos(ψ₃) - sin(ψ₃)⋅cos(ψ₁)\n",
       "                       dx                                                     \n",
       "──────────────────────────────────────────────────────────────────────────────\n",
       "                                 d                  d                         \n",
       "                 sin(ψ₁)⋅cos(ψ₂)⋅──(y(x)) + sin(ψ₂)⋅──(u(x)) - cos(ψ₁)⋅cos(ψ₂)\n",
       "                                 dx                 dx                        \n",
       "\n",
       "                                         ⎤\n",
       "(F₁₃(x))                                 ⎥\n",
       "                                         ⎥\n",
       "────────                                 ⎥\n",
       "                                         ⎥\n",
       "                                         ⎥\n",
       "                                         ⎥\n",
       "                                         ⎥\n",
       "  d                            d         ⎥\n",
       ")⋅──(F₂₃(x)) + sin(ψ₃)⋅cos(ψ₂)⋅──(F₃₃(x))⎥\n",
       "  dx                           dx        ⎥\n",
       "─────────────────────────────────────────⎥\n",
       "                                         ⎥\n",
       "                                         ⎥\n",
       "                                         ⎥\n",
       "                                         ⎥\n",
       "  d                            d         ⎥\n",
       ")⋅──(F₂₃(x)) - cos(ψ₂)⋅cos(ψ₃)⋅──(F₃₃(x))⎥\n",
       "  dx                           dx        ⎥\n",
       "─────────────────────────────────────────⎥\n",
       "                                         ⎥\n",
       "                                         ⎥\n",
       "                                         ⎦"
      ]
     },
     "execution_count": 71,
     "metadata": {},
     "output_type": "execute_result"
    }
   ],
   "source": [
    "F_new_x = diff(F_new,x)/Dx\n",
    "simplify(F_new_x)"
   ]
  },
  {
   "cell_type": "code",
   "execution_count": 75,
   "metadata": {},
   "outputs": [
    {
     "data": {
      "image/png": "[encoded data removed]",
      "text/latex": [
       "$$\\frac{- \\left(\\sin{\\left (\\varphi_{1}{\\left (x \\right )} \\right )} \\cos{\\left (\\varphi_{3}{\\left (x \\right )} \\right )} + \\sin{\\left (\\varphi_{2}{\\left (x \\right )} \\right )} \\sin{\\left (\\varphi_{3}{\\left (x \\right )} \\right )} \\cos{\\left (\\varphi_{1}{\\left (x \\right )} \\right )}\\right) \\frac{d}{d x} \\operatorname{F_{11}}{\\left (x \\right )} - \\left(\\sin{\\left (\\varphi_{1}{\\left (x \\right )} \\right )} \\sin{\\left (\\varphi_{2}{\\left (x \\right )} \\right )} \\sin{\\left (\\varphi_{3}{\\left (x \\right )} \\right )} - \\cos{\\left (\\varphi_{1}{\\left (x \\right )} \\right )} \\cos{\\left (\\varphi_{3}{\\left (x \\right )} \\right )}\\right) \\frac{d}{d x} \\operatorname{F_{21}}{\\left (x \\right )} + \\sin{\\left (\\varphi_{3}{\\left (x \\right )} \\right )} \\cos{\\left (\\varphi_{2}{\\left (x \\right )} \\right )} \\frac{d}{d x} \\operatorname{F_{31}}{\\left (x \\right )}}{\\sin{\\left (\\varphi_{1}{\\left (x \\right )} \\right )} \\cos{\\left (\\varphi_{2}{\\left (x \\right )} \\right )} \\frac{d}{d x} y{\\left (x \\right )} + \\sin{\\left (\\varphi_{2}{\\left (x \\right )} \\right )} \\frac{d}{d x} u{\\left (x \\right )} + \\cos{\\left (\\varphi_{1}{\\left (x \\right )} \\right )} \\cos{\\left (\\varphi_{2}{\\left (x \\right )} \\right )}}$$"
      ],
      "text/plain": [
       "                                                                              \n",
       "- (sin(varphi₁(x))⋅cos(varphi₃(x)) + sin(varphi₂(x))⋅sin(varphi₃(x))⋅cos(varph\n",
       "                                                                              \n",
       "──────────────────────────────────────────────────────────────────────────────\n",
       "                                                                              \n",
       "                                                                    sin(varphi\n",
       "                                                                              \n",
       "\n",
       "        d                                                                     \n",
       "i₁(x)))⋅──(F₁₁(x)) - (sin(varphi₁(x))⋅sin(varphi₂(x))⋅sin(varphi₃(x)) - cos(va\n",
       "        dx                                                                    \n",
       "──────────────────────────────────────────────────────────────────────────────\n",
       "                      d                          d                            \n",
       "₁(x))⋅cos(varphi₂(x))⋅──(y(x)) + sin(varphi₂(x))⋅──(u(x)) + cos(varphi₁(x))⋅co\n",
       "                      dx                         dx                           \n",
       "\n",
       "                           d                                            d     \n",
       "rphi₁(x))⋅cos(varphi₃(x)))⋅──(F₂₁(x)) + sin(varphi₃(x))⋅cos(varphi₂(x))⋅──(F₃₁\n",
       "                           dx                                           dx    \n",
       "──────────────────────────────────────────────────────────────────────────────\n",
       "                                                                              \n",
       "s(varphi₂(x))                                                                 \n",
       "                                                                              \n",
       "\n",
       "    \n",
       "(x))\n",
       "    \n",
       "────\n",
       "    \n",
       "    \n",
       "    "
      ]
     },
     "execution_count": 75,
     "metadata": {},
     "output_type": "execute_result"
    }
   ],
   "source": [
    "simplify((F_new_x.xreplace(frame))[1,0])"
   ]
  },
  {
   "cell_type": "code",
   "execution_count": null,
   "metadata": {
    "collapsed": true
   },
   "outputs": [],
   "source": []
  }
 ],
 "metadata": {
  "kernelspec": {
   "display_name": "Python 2.7",
   "language": "python",
   "name": "python2"
  },
  "language_info": {
   "codemirror_mode": {
    "name": "ipython",
    "version": 2
   },
   "file_extension": ".py",
   "mimetype": "text/x-python",
   "name": "python",
   "nbconvert_exporter": "python",
   "pygments_lexer": "ipython2",
   "version": "2.7.15"
  }
 },
 "nbformat": 4,
 "nbformat_minor": 2
}

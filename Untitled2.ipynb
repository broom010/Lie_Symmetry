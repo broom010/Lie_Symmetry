{
 "cells": [
  {
   "cell_type": "code",
   "execution_count": 2,
   "metadata": {},
   "outputs": [],
   "source": [
    "from sympy import *\n",
    "from itertools import *\n",
    "import LieSympy as lp\n",
    "import numpy as np\n",
    "import copy as copy\n",
    "init_printing()"
   ]
  },
  {
   "cell_type": "code",
   "execution_count": 3,
   "metadata": {},
   "outputs": [],
   "source": [
    "g = lp.groupAction([['x'],['u','P']],['a','b','psi'],3)"
   ]
  },
  {
   "cell_type": "code",
   "execution_count": 4,
   "metadata": {},
   "outputs": [],
   "source": [
    "T = [lp.cos(lp.psi)*lp.x-sin(lp.psi)*lp.u+lp.a,\\\n",
    "     sin(lp.psi)*lp.x+cos(lp.psi)*lp.u+lp.b,\\\n",
    "     lp.P+lp.psi]\n",
    "\n",
    "g.Def_transformation(T,[0,0,0],[0,0,0])"
   ]
  },
  {
   "cell_type": "code",
   "execution_count": 5,
   "metadata": {},
   "outputs": [],
   "source": [
    "g.moving_frame()"
   ]
  },
  {
   "cell_type": "code",
   "execution_count": 6,
   "metadata": {},
   "outputs": [
    {
     "data": {
      "image/png": "[encoded data removed]",
      "text/latex": [
       "$$\\left \\{ a : - u \\sin{\\left (P \\right )} - x \\cos{\\left (P \\right )}, \\quad b : - u \\cos{\\left (P \\right )} + x \\sin{\\left (P \\right )}, \\quad \\psi : - P\\right \\}$$"
      ],
      "text/plain": [
       "{a: -u⋅sin(P) - x⋅cos(P), b: -u⋅cos(P) + x⋅sin(P), ψ: -P}"
      ]
     },
     "execution_count": 6,
     "metadata": {},
     "output_type": "execute_result"
    }
   ],
   "source": [
    "g.frame"
   ]
  },
  {
   "cell_type": "code",
   "execution_count": 9,
   "metadata": {},
   "outputs": [
    {
     "data": {
      "image/png": "[encoded data removed]",
      "text/latex": [
       "$$\\frac{u_{x} \\cos{\\left (P \\right )} - \\sin{\\left (P \\right )}}{u_{x} \\sin{\\left (P \\right )} + \\cos{\\left (P \\right )}}$$"
      ],
      "text/plain": [
       "uₓ⋅cos(P) - sin(P)\n",
       "──────────────────\n",
       "uₓ⋅sin(P) + cos(P)"
      ]
     },
     "execution_count": 9,
     "metadata": {},
     "output_type": "execute_result"
    }
   ],
   "source": [
    "g.Dx((lp.u).subs(g.master_function_to_symbol))"
   ]
  },
  {
   "cell_type": "code",
   "execution_count": 12,
   "metadata": {},
   "outputs": [
    {
     "data": {
      "image/png": "[encoded data removed]",
      "text/latex": [
       "$$\\frac{\\frac{d}{d x} u_{x}}{\\left(u_{x} \\sin{\\left (P \\right )} + \\cos{\\left (P \\right )}\\right) \\left(u_{x} \\sin{\\left (\\psi \\right )} - \\cos{\\left (\\psi \\right )}\\right)^{2}}$$"
      ],
      "text/plain": [
       "                  d                       \n",
       "                  ──(uₓ)                  \n",
       "                  dx                      \n",
       "──────────────────────────────────────────\n",
       "                                         2\n",
       "(uₓ⋅sin(P) + cos(P))⋅(uₓ⋅sin(ψ) - cos(ψ)) "
      ]
     },
     "execution_count": 12,
     "metadata": {},
     "output_type": "execute_result"
    }
   ],
   "source": [
    "g.Dnx((lp.u).subs(g.master_function_to_symbol),2)"
   ]
  },
  {
   "cell_type": "code",
   "execution_count": 5,
   "metadata": {},
   "outputs": [
    {
     "data": {
      "image/png": "[encoded data removed]",
      "text/latex": [
       "$$\\frac{d}{d x} u{\\left (x \\right )}$$"
      ],
      "text/plain": [
       "d       \n",
       "──(u(x))\n",
       "dx      "
      ]
     },
     "execution_count": 5,
     "metadata": {},
     "output_type": "execute_result"
    }
   ],
   "source": [
    "diff(lp.u,lp.x)"
   ]
  },
  {
   "cell_type": "code",
   "execution_count": null,
   "metadata": {},
   "outputs": [],
   "source": []
  }
 ],
 "metadata": {
  "kernelspec": {
   "display_name": "Python 2.7",
   "language": "python",
   "name": "python2"
  },
  "language_info": {
   "codemirror_mode": {
    "name": "ipython",
    "version": 2
   },
   "file_extension": ".py",
   "mimetype": "text/x-python",
   "name": "python",
   "nbconvert_exporter": "python",
   "pygments_lexer": "ipython2",
   "version": "2.7.15"
  }
 },
 "nbformat": 4,
 "nbformat_minor": 2
}

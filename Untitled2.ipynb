{
 "cells": [
  {
   "cell_type": "code",
   "execution_count": 1,
   "metadata": {
    "collapsed": true
   },
   "outputs": [],
   "source": [
    "from IPython.display import display\n",
    "from sympy import *\n",
    "import numpy as np\n",
    "import copy as copy\n",
    "init_printing(use_latex=True)\n",
    "from itertools import *"
   ]
  },
  {
   "cell_type": "code",
   "execution_count": 229,
   "metadata": {
    "collapsed": true
   },
   "outputs": [],
   "source": [
    "x = symbols('x')\n",
    "y = Function('y')('x')\n",
    "u = Function('u')('x')\n",
    "varphi = Function('varphi')('x')\n",
    "\n",
    "a = symbols('a')\n",
    "b = symbols('b')\n",
    "c = symbols('c')\n",
    "\n",
    "phi1 = Function('varphi_1')('x')\n",
    "phi2 = Function('varphi_2')('x')\n",
    "phi3 = Function('varphi_3')('x')\n",
    "\n",
    "psi1 = symbols('psi_1')\n",
    "psi2 = symbols('psi_2')\n",
    "psi3 = symbols('psi_3')"
   ]
  },
  {
   "cell_type": "markdown",
   "metadata": {
    "collapsed": true
   },
   "source": [
    "## Cardan Angles"
   ]
  },
  {
   "cell_type": "code",
   "execution_count": 344,
   "metadata": {
    "collapsed": true
   },
   "outputs": [],
   "source": [
    "F_U = Matrix([[cos(phi1),-sin(phi1),0],[sin(phi1),cos(phi1),0],[0,0,1]])\n",
    "F_Y = Matrix([[cos(phi2),0,-sin(phi2)],[0,1,0],[sin(phi2),0,cos(phi2)]])\n",
    "F_X = Matrix([[1,0,0],[0,cos(phi3),-sin(phi3)],[0,sin(phi3),cos(phi3)]])\n",
    "\n",
    "F = F_U*F_Y*F_X"
   ]
  },
  {
   "cell_type": "code",
   "execution_count": 231,
   "metadata": {
    "collapsed": true,
    "scrolled": true
   },
   "outputs": [],
   "source": [
    "R_U = Matrix([[cos(psi1),-sin(psi1),0],[sin(psi1),cos(psi1),0],[0,0,1]])\n",
    "R_Y = Matrix([[cos(psi2),0,-sin(psi2)],[0,1,0],[sin(psi2),0,cos(psi2)]])\n",
    "R_X = Matrix([[1,0,0],[0,cos(psi3),-sin(psi3)],[0,sin(psi3),cos(psi3)]])\n",
    "\n",
    "R = R_X*R_Y*R_U"
   ]
  },
  {
   "cell_type": "code",
   "execution_count": 369,
   "metadata": {
    "collapsed": true
   },
   "outputs": [],
   "source": [
    "X = (R*z+A).row(0)[0]\n",
    "Y = (R*z+A).row(1)[0]\n",
    "U = (R*z+A).row(2)[0]\n",
    "F_new = R*F\n",
    "\n",
    "Dx = diff(X,x)\n",
    "Y_x = diff(Y,x)/Dx\n",
    "Y_xx = diff(Y_x,x)/Dx\n",
    "U_x = diff(U,x)/Dx\n",
    "U_xx = diff(U_x,x)/Dx\n",
    "\n",
    "F_new_x = diff(F_new,x)/Dx\n",
    "\n",
    "frame = {psi1:-phi1, psi2:-phi2, psi3:-phi3}"
   ]
  },
  {
   "cell_type": "code",
   "execution_count": 241,
   "metadata": {},
   "outputs": [
    {
     "data": {
      "image/png": "[encoded data removed]",
      "text/latex": [
       "$$\\left[\\begin{matrix}1 & 0 & 0\\\\0 & 1 & 0\\\\0 & 0 & 1\\end{matrix}\\right]$$"
      ],
      "text/plain": [
       "⎡1  0  0⎤\n",
       "⎢       ⎥\n",
       "⎢0  1  0⎥\n",
       "⎢       ⎥\n",
       "⎣0  0  1⎦"
      ]
     },
     "execution_count": 241,
     "metadata": {},
     "output_type": "execute_result"
    }
   ],
   "source": [
    "simplify(F_new.xreplace(frame))"
   ]
  },
  {
   "cell_type": "markdown",
   "metadata": {},
   "source": [
    "#### Invariant derivatives of curvature invariants"
   ]
  },
  {
   "cell_type": "code",
   "execution_count": 342,
   "metadata": {
    "collapsed": true
   },
   "outputs": [],
   "source": [
    "theta_y = symbols('theta^y_0', commutative=False)\n",
    "theta_u = symbols('theta^u_0', commutative=False)\n",
    "\n",
    "theta_p1 = symbols('vartheta^1_0', commutative=False)\n",
    "theta_p2 = symbols('vartheta^2_0', commutative=False)\n",
    "theta_p3 = symbols('vartheta^3_0', commutative=False)\n",
    "\n",
    "theta_11 = symbols('theta^11_0', commutative=False)\n",
    "theta_12 = symbols('theta^12_0', commutative=False)\n",
    "theta_13 = symbols('theta^13_0', commutative=False)\n",
    "theta_21 = symbols('theta^21_0', commutative=False)\n",
    "theta_22 = symbols('theta^22_0', commutative=False)\n",
    "theta_23 = symbols('theta^23_0', commutative=False)\n",
    "theta_31 = symbols('theta^31_0', commutative=False)\n",
    "theta_32 = symbols('theta^32_0', commutative=False)\n",
    "theta_33 = symbols('theta^33_0', commutative=False)"
   ]
  },
  {
   "cell_type": "code",
   "execution_count": 323,
   "metadata": {
    "collapsed": true
   },
   "outputs": [],
   "source": [
    "contact_forms = {y:theta_y, u:theta_u, phi1:theta_p1, phi2:theta_p2, phi3:theta_p3}\n",
    "vars = [phi1, phi2, phi3]"
   ]
  },
  {
   "cell_type": "code",
   "execution_count": 329,
   "metadata": {},
   "outputs": [
    {
     "data": {
      "text/latex": [
       "$$\\text{the invariantization of } \\vartheta^{11}_0\\text{ is: } \\\\- \\sin{\\left (\\varphi_{1}{\\left (x \\right )} \\right )} \\cos{\\left (\\varphi_{2}{\\left (x \\right )} \\right )} \\theta^{1}_{0} - \\sin{\\left (\\varphi_{2}{\\left (x \\right )} \\right )} \\cos{\\left (\\varphi_{1}{\\left (x \\right )} \\right )} \\theta^{3}_{0}\\\\ \\\\ \\\\$$"
      ],
      "text/plain": [
       "<IPython.core.display.Math object>"
      ]
     },
     "metadata": {},
     "output_type": "display_data"
    },
    {
     "data": {
      "text/latex": [
       "$$\\text{the invariantization of } \\vartheta^{12}_0\\text{ is: } \\\\\\sin{\\left (\\varphi_{1}{\\left (x \\right )} \\right )} \\sin{\\left (\\varphi_{2}{\\left (x \\right )} \\right )} \\theta^{3}_{0} - \\cos{\\left (\\varphi_{1}{\\left (x \\right )} \\right )} \\cos{\\left (\\varphi_{2}{\\left (x \\right )} \\right )} \\theta^{1}_{0}\\\\ \\\\ \\\\$$"
      ],
      "text/plain": [
       "<IPython.core.display.Math object>"
      ]
     },
     "metadata": {},
     "output_type": "display_data"
    },
    {
     "data": {
      "text/latex": [
       "$$\\text{the invariantization of } \\vartheta^{13}_0\\text{ is: } \\\\- \\cos{\\left (\\varphi_{2}{\\left (x \\right )} \\right )} \\theta^{3}_{0}\\\\ \\\\ \\\\$$"
      ],
      "text/plain": [
       "<IPython.core.display.Math object>"
      ]
     },
     "metadata": {},
     "output_type": "display_data"
    },
    {
     "data": {
      "text/latex": [
       "$$\\text{the invariantization of } \\vartheta^{21}_0\\text{ is: } \\\\\\left(- \\sin{\\left (\\varphi_{1}{\\left (x \\right )} \\right )} \\sin{\\left (\\varphi_{3}{\\left (x \\right )} \\right )} - \\sin{\\left (\\varphi_{2}{\\left (x \\right )} \\right )} \\cos{\\left (\\varphi_{1}{\\left (x \\right )} \\right )} \\cos{\\left (\\varphi_{3}{\\left (x \\right )} \\right )}\\right) \\theta^{3}_{0} + \\left(\\sin{\\left (\\varphi_{1}{\\left (x \\right )} \\right )} \\sin{\\left (\\varphi_{2}{\\left (x \\right )} \\right )} \\sin{\\left (\\varphi_{3}{\\left (x \\right )} \\right )} + \\cos{\\left (\\varphi_{1}{\\left (x \\right )} \\right )} \\cos{\\left (\\varphi_{3}{\\left (x \\right )} \\right )}\\right) \\theta^{1}_{0} - \\sin{\\left (\\varphi_{3}{\\left (x \\right )} \\right )} \\cos{\\left (\\varphi_{1}{\\left (x \\right )} \\right )} \\cos{\\left (\\varphi_{2}{\\left (x \\right )} \\right )} \\theta^{3}_{0}\\\\ \\\\ \\\\$$"
      ],
      "text/plain": [
       "<IPython.core.display.Math object>"
      ]
     },
     "metadata": {},
     "output_type": "display_data"
    },
    {
     "data": {
      "text/latex": [
       "$$\\text{the invariantization of } \\vartheta^{22}_0\\text{ is: } \\\\\\left(- \\sin{\\left (\\varphi_{1}{\\left (x \\right )} \\right )} \\cos{\\left (\\varphi_{3}{\\left (x \\right )} \\right )} + \\sin{\\left (\\varphi_{2}{\\left (x \\right )} \\right )} \\sin{\\left (\\varphi_{3}{\\left (x \\right )} \\right )} \\cos{\\left (\\varphi_{1}{\\left (x \\right )} \\right )}\\right) \\theta^{1}_{0} + \\left(\\sin{\\left (\\varphi_{1}{\\left (x \\right )} \\right )} \\sin{\\left (\\varphi_{2}{\\left (x \\right )} \\right )} \\cos{\\left (\\varphi_{3}{\\left (x \\right )} \\right )} - \\sin{\\left (\\varphi_{3}{\\left (x \\right )} \\right )} \\cos{\\left (\\varphi_{1}{\\left (x \\right )} \\right )}\\right) \\theta^{3}_{0} + \\sin{\\left (\\varphi_{1}{\\left (x \\right )} \\right )} \\sin{\\left (\\varphi_{3}{\\left (x \\right )} \\right )} \\cos{\\left (\\varphi_{2}{\\left (x \\right )} \\right )} \\theta^{3}_{0}\\\\ \\\\ \\\\$$"
      ],
      "text/plain": [
       "<IPython.core.display.Math object>"
      ]
     },
     "metadata": {},
     "output_type": "display_data"
    },
    {
     "data": {
      "text/latex": [
       "$$\\text{the invariantization of } \\vartheta^{23}_0\\text{ is: } \\\\\\sin{\\left (\\varphi_{2}{\\left (x \\right )} \\right )} \\sin{\\left (\\varphi_{3}{\\left (x \\right )} \\right )} \\theta^{3}_{0} - \\cos{\\left (\\varphi_{2}{\\left (x \\right )} \\right )} \\cos{\\left (\\varphi_{3}{\\left (x \\right )} \\right )} \\theta^{3}_{0}\\\\ \\\\ \\\\$$"
      ],
      "text/plain": [
       "<IPython.core.display.Math object>"
      ]
     },
     "metadata": {},
     "output_type": "display_data"
    },
    {
     "data": {
      "text/latex": [
       "$$\\text{the invariantization of } \\vartheta^{31}_0\\text{ is: } \\\\\\left(\\sin{\\left (\\varphi_{1}{\\left (x \\right )} \\right )} \\cos{\\left (\\varphi_{3}{\\left (x \\right )} \\right )} - \\sin{\\left (\\varphi_{2}{\\left (x \\right )} \\right )} \\sin{\\left (\\varphi_{3}{\\left (x \\right )} \\right )} \\cos{\\left (\\varphi_{1}{\\left (x \\right )} \\right )}\\right) \\theta^{3}_{0} + \\left(- \\sin{\\left (\\varphi_{1}{\\left (x \\right )} \\right )} \\sin{\\left (\\varphi_{2}{\\left (x \\right )} \\right )} \\cos{\\left (\\varphi_{3}{\\left (x \\right )} \\right )} + \\sin{\\left (\\varphi_{3}{\\left (x \\right )} \\right )} \\cos{\\left (\\varphi_{1}{\\left (x \\right )} \\right )}\\right) \\theta^{1}_{0} + \\cos{\\left (\\varphi_{1}{\\left (x \\right )} \\right )} \\cos{\\left (\\varphi_{2}{\\left (x \\right )} \\right )} \\cos{\\left (\\varphi_{3}{\\left (x \\right )} \\right )} \\theta^{3}_{0}\\\\ \\\\ \\\\$$"
      ],
      "text/plain": [
       "<IPython.core.display.Math object>"
      ]
     },
     "metadata": {},
     "output_type": "display_data"
    },
    {
     "data": {
      "text/latex": [
       "$$\\text{the invariantization of } \\vartheta^{32}_0\\text{ is: } \\\\\\left(- \\sin{\\left (\\varphi_{1}{\\left (x \\right )} \\right )} \\sin{\\left (\\varphi_{3}{\\left (x \\right )} \\right )} - \\sin{\\left (\\varphi_{2}{\\left (x \\right )} \\right )} \\cos{\\left (\\varphi_{1}{\\left (x \\right )} \\right )} \\cos{\\left (\\varphi_{3}{\\left (x \\right )} \\right )}\\right) \\theta^{1}_{0} + \\left(\\sin{\\left (\\varphi_{1}{\\left (x \\right )} \\right )} \\sin{\\left (\\varphi_{2}{\\left (x \\right )} \\right )} \\sin{\\left (\\varphi_{3}{\\left (x \\right )} \\right )} + \\cos{\\left (\\varphi_{1}{\\left (x \\right )} \\right )} \\cos{\\left (\\varphi_{3}{\\left (x \\right )} \\right )}\\right) \\theta^{3}_{0} - \\sin{\\left (\\varphi_{1}{\\left (x \\right )} \\right )} \\cos{\\left (\\varphi_{2}{\\left (x \\right )} \\right )} \\cos{\\left (\\varphi_{3}{\\left (x \\right )} \\right )} \\theta^{3}_{0}\\\\ \\\\ \\\\$$"
      ],
      "text/plain": [
       "<IPython.core.display.Math object>"
      ]
     },
     "metadata": {},
     "output_type": "display_data"
    },
    {
     "data": {
      "text/latex": [
       "$$\\text{the invariantization of } \\vartheta^{33}_0\\text{ is: } \\\\- \\sin{\\left (\\varphi_{2}{\\left (x \\right )} \\right )} \\cos{\\left (\\varphi_{3}{\\left (x \\right )} \\right )} \\theta^{3}_{0} - \\sin{\\left (\\varphi_{3}{\\left (x \\right )} \\right )} \\cos{\\left (\\varphi_{2}{\\left (x \\right )} \\right )} \\theta^{3}_{0}\\\\ \\\\ \\\\$$"
      ],
      "text/plain": [
       "<IPython.core.display.Math object>"
      ]
     },
     "metadata": {},
     "output_type": "display_data"
    }
   ],
   "source": [
    "for (i,j) in list(product([1,2,3], repeat=2)):\n",
    "    display(Math('\\\\text{the invariantization of } \\\\vartheta^{'+str(i)+str(j)+'}_0\\\\text{ is: } \\\\\\\\' + latex(sum([diff(F[i-1,j-1],s)*contact_forms[s] for s in vars]))+'\\\\\\\\ \\\\\\\\ \\\\\\\\'))"
   ]
  },
  {
   "cell_type": "code",
   "execution_count": 345,
   "metadata": {},
   "outputs": [
    {
     "data": {
      "image/png": "[encoded data removed]",
      "text/latex": [
       "$$\\left[\\begin{matrix}0 & - (\\sin{\\left (\\varphi_{3}{\\left (x \\right )} \\right )} \\vartheta^{2}_{0} + \\cos{\\left (\\varphi_{2}{\\left (x \\right )} \\right )} \\cos{\\left (\\varphi_{3}{\\left (x \\right )} \\right )} \\vartheta^{1}_{0}) & \\sin{\\left (\\varphi_{3}{\\left (x \\right )} \\right )} \\cos{\\left (\\varphi_{2}{\\left (x \\right )} \\right )} \\vartheta^{1}_{0} - \\cos{\\left (\\varphi_{3}{\\left (x \\right )} \\right )} \\vartheta^{2}_{0}\\\\\\sin{\\left (\\varphi_{3}{\\left (x \\right )} \\right )} \\vartheta^{2}_{0} + \\cos{\\left (\\varphi_{2}{\\left (x \\right )} \\right )} \\cos{\\left (\\varphi_{3}{\\left (x \\right )} \\right )} \\vartheta^{1}_{0} & 0 & - (\\sin{\\left (\\varphi_{2}{\\left (x \\right )} \\right )} \\vartheta^{1}_{0} + \\vartheta^{3}_{0})\\\\- \\sin{\\left (\\varphi_{3}{\\left (x \\right )} \\right )} \\cos{\\left (\\varphi_{2}{\\left (x \\right )} \\right )} \\vartheta^{1}_{0} + \\cos{\\left (\\varphi_{3}{\\left (x \\right )} \\right )} \\vartheta^{2}_{0} & \\sin{\\left (\\varphi_{2}{\\left (x \\right )} \\right )} \\vartheta^{1}_{0} + \\vartheta^{3}_{0} & 0\\end{matrix}\\right]$$"
      ],
      "text/plain": [
       "⎡                                   0                                      -(s\n",
       "⎢                                                                             \n",
       "⎢sin(varphi₃(x))⋅vartheta²₀ + cos(varphi₂(x))⋅cos(varphi₃(x))⋅vartheta¹₀      \n",
       "⎢                                                                             \n",
       "⎣-sin(varphi₃(x))⋅cos(varphi₂(x))⋅vartheta¹₀ + cos(varphi₃(x))⋅vartheta²₀     \n",
       "\n",
       "in(varphi₃(x))⋅vartheta²₀ + cos(varphi₂(x))⋅cos(varphi₃(x))⋅vartheta¹₀)  sin(v\n",
       "                                                                              \n",
       "                                 0                                            \n",
       "                                                                              \n",
       "              sin(varphi₂(x))⋅vartheta¹₀ + vartheta³₀                         \n",
       "\n",
       "arphi₃(x))⋅cos(varphi₂(x))⋅vartheta¹₀ - cos(varphi₃(x))⋅vartheta²₀⎤\n",
       "                                                                  ⎥\n",
       "         -(sin(varphi₂(x))⋅vartheta¹₀ + vartheta³₀)               ⎥\n",
       "                                                                  ⎥\n",
       "                              0                                   ⎦"
      ]
     },
     "execution_count": 345,
     "metadata": {},
     "output_type": "execute_result"
    }
   ],
   "source": [
    "simplify(F.transpose()*(diff(F,phi1)*theta_p1+diff(F,phi2)*theta_p2+diff(F,phi3)*theta_p3))"
   ]
  },
  {
   "cell_type": "code",
   "execution_count": 348,
   "metadata": {
    "collapsed": true
   },
   "outputs": [],
   "source": [
    "F = F_Y*F_U*F_X"
   ]
  },
  {
   "cell_type": "code",
   "execution_count": 349,
   "metadata": {},
   "outputs": [
    {
     "data": {
      "image/png": "[encoded data removed]",
      "text/latex": [
       "$$\\left[\\begin{matrix}0 & - (\\sin{\\left (\\varphi_{3}{\\left (x \\right )} \\right )} \\cos{\\left (\\varphi_{1}{\\left (x \\right )} \\right )} \\vartheta^{2}_{0} + \\cos{\\left (\\varphi_{3}{\\left (x \\right )} \\right )} \\vartheta^{1}_{0}) & \\sin{\\left (\\varphi_{3}{\\left (x \\right )} \\right )} \\vartheta^{1}_{0} - \\cos{\\left (\\varphi_{1}{\\left (x \\right )} \\right )} \\cos{\\left (\\varphi_{3}{\\left (x \\right )} \\right )} \\vartheta^{2}_{0}\\\\\\sin{\\left (\\varphi_{3}{\\left (x \\right )} \\right )} \\cos{\\left (\\varphi_{1}{\\left (x \\right )} \\right )} \\vartheta^{2}_{0} + \\cos{\\left (\\varphi_{3}{\\left (x \\right )} \\right )} \\vartheta^{1}_{0} & 0 & \\sin{\\left (\\varphi_{1}{\\left (x \\right )} \\right )} \\vartheta^{2}_{0} - \\vartheta^{3}_{0}\\\\- \\sin{\\left (\\varphi_{3}{\\left (x \\right )} \\right )} \\vartheta^{1}_{0} + \\cos{\\left (\\varphi_{1}{\\left (x \\right )} \\right )} \\cos{\\left (\\varphi_{3}{\\left (x \\right )} \\right )} \\vartheta^{2}_{0} & - \\sin{\\left (\\varphi_{1}{\\left (x \\right )} \\right )} \\vartheta^{2}_{0} + \\vartheta^{3}_{0} & 0\\end{matrix}\\right]$$"
      ],
      "text/plain": [
       "⎡                                   0                                      -(s\n",
       "⎢                                                                             \n",
       "⎢sin(varphi₃(x))⋅cos(varphi₁(x))⋅vartheta²₀ + cos(varphi₃(x))⋅vartheta¹₀      \n",
       "⎢                                                                             \n",
       "⎣-sin(varphi₃(x))⋅vartheta¹₀ + cos(varphi₁(x))⋅cos(varphi₃(x))⋅vartheta²₀     \n",
       "\n",
       "in(varphi₃(x))⋅cos(varphi₁(x))⋅vartheta²₀ + cos(varphi₃(x))⋅vartheta¹₀)  sin(v\n",
       "                                                                              \n",
       "                                 0                                            \n",
       "                                                                              \n",
       "              -sin(varphi₁(x))⋅vartheta²₀ + vartheta³₀                        \n",
       "\n",
       "arphi₃(x))⋅vartheta¹₀ - cos(varphi₁(x))⋅cos(varphi₃(x))⋅vartheta²₀⎤\n",
       "                                                                  ⎥\n",
       "           sin(varphi₁(x))⋅vartheta²₀ - vartheta³₀                ⎥\n",
       "                                                                  ⎥\n",
       "                              0                                   ⎦"
      ]
     },
     "execution_count": 349,
     "metadata": {},
     "output_type": "execute_result"
    }
   ],
   "source": [
    "simplify(F.transpose()*(diff(F,phi1)*theta_p1+diff(F,phi2)*theta_p2+diff(F,phi3)*theta_p3))"
   ]
  },
  {
   "cell_type": "code",
   "execution_count": 350,
   "metadata": {
    "collapsed": true
   },
   "outputs": [],
   "source": [
    "F = F_Y*F_X*F_U"
   ]
  },
  {
   "cell_type": "code",
   "execution_count": 351,
   "metadata": {},
   "outputs": [
    {
     "data": {
      "image/png": "[encoded data removed]",
      "text/latex": [
       "$$\\left[\\begin{matrix}0 & - (\\sin{\\left (\\varphi_{3}{\\left (x \\right )} \\right )} \\vartheta^{2}_{0} + \\vartheta^{1}_{0}) & - (\\sin{\\left (\\varphi_{1}{\\left (x \\right )} \\right )} \\vartheta^{3}_{0} + \\cos{\\left (\\varphi_{1}{\\left (x \\right )} \\right )} \\cos{\\left (\\varphi_{3}{\\left (x \\right )} \\right )} \\vartheta^{2}_{0})\\\\\\sin{\\left (\\varphi_{3}{\\left (x \\right )} \\right )} \\vartheta^{2}_{0} + \\vartheta^{1}_{0} & 0 & \\sin{\\left (\\varphi_{1}{\\left (x \\right )} \\right )} \\cos{\\left (\\varphi_{3}{\\left (x \\right )} \\right )} \\vartheta^{2}_{0} - \\cos{\\left (\\varphi_{1}{\\left (x \\right )} \\right )} \\vartheta^{3}_{0}\\\\\\sin{\\left (\\varphi_{1}{\\left (x \\right )} \\right )} \\vartheta^{3}_{0} + \\cos{\\left (\\varphi_{1}{\\left (x \\right )} \\right )} \\cos{\\left (\\varphi_{3}{\\left (x \\right )} \\right )} \\vartheta^{2}_{0} & - \\sin{\\left (\\varphi_{1}{\\left (x \\right )} \\right )} \\cos{\\left (\\varphi_{3}{\\left (x \\right )} \\right )} \\vartheta^{2}_{0} + \\cos{\\left (\\varphi_{1}{\\left (x \\right )} \\right )} \\vartheta^{3}_{0} & 0\\end{matrix}\\right]$$"
      ],
      "text/plain": [
       "⎡                                   0                                         \n",
       "⎢                                                                             \n",
       "⎢                sin(varphi₃(x))⋅vartheta²₀ + vartheta¹₀                      \n",
       "⎢                                                                             \n",
       "⎣sin(varphi₁(x))⋅vartheta³₀ + cos(varphi₁(x))⋅cos(varphi₃(x))⋅vartheta²₀  -sin\n",
       "\n",
       "           -(sin(varphi₃(x))⋅vartheta²₀ + vartheta¹₀)                 -(sin(va\n",
       "                                                                              \n",
       "                               0                                       sin(var\n",
       "                                                                              \n",
       "(varphi₁(x))⋅cos(varphi₃(x))⋅vartheta²₀ + cos(varphi₁(x))⋅vartheta³₀          \n",
       "\n",
       "rphi₁(x))⋅vartheta³₀ + cos(varphi₁(x))⋅cos(varphi₃(x))⋅vartheta²₀)⎤\n",
       "                                                                  ⎥\n",
       "phi₁(x))⋅cos(varphi₃(x))⋅vartheta²₀ - cos(varphi₁(x))⋅vartheta³₀  ⎥\n",
       "                                                                  ⎥\n",
       "                            0                                     ⎦"
      ]
     },
     "execution_count": 351,
     "metadata": {},
     "output_type": "execute_result"
    }
   ],
   "source": [
    "simplify(F.transpose()*(diff(F,phi1)*theta_p1+diff(F,phi2)*theta_p2+diff(F,phi3)*theta_p3))"
   ]
  },
  {
   "cell_type": "code",
   "execution_count": 352,
   "metadata": {
    "collapsed": true
   },
   "outputs": [],
   "source": [
    "F = F_X*F_Y*F_U"
   ]
  },
  {
   "cell_type": "code",
   "execution_count": 353,
   "metadata": {},
   "outputs": [
    {
     "data": {
      "image/png": "[encoded data removed]",
      "text/latex": [
       "$$\\left[\\begin{matrix}0 & \\sin{\\left (\\varphi_{2}{\\left (x \\right )} \\right )} \\vartheta^{3}_{0} - \\vartheta^{1}_{0} & - (\\sin{\\left (\\varphi_{1}{\\left (x \\right )} \\right )} \\cos{\\left (\\varphi_{2}{\\left (x \\right )} \\right )} \\vartheta^{3}_{0} + \\cos{\\left (\\varphi_{1}{\\left (x \\right )} \\right )} \\vartheta^{2}_{0})\\\\- \\sin{\\left (\\varphi_{2}{\\left (x \\right )} \\right )} \\vartheta^{3}_{0} + \\vartheta^{1}_{0} & 0 & \\sin{\\left (\\varphi_{1}{\\left (x \\right )} \\right )} \\vartheta^{2}_{0} - \\cos{\\left (\\varphi_{1}{\\left (x \\right )} \\right )} \\cos{\\left (\\varphi_{2}{\\left (x \\right )} \\right )} \\vartheta^{3}_{0}\\\\\\sin{\\left (\\varphi_{1}{\\left (x \\right )} \\right )} \\cos{\\left (\\varphi_{2}{\\left (x \\right )} \\right )} \\vartheta^{3}_{0} + \\cos{\\left (\\varphi_{1}{\\left (x \\right )} \\right )} \\vartheta^{2}_{0} & - \\sin{\\left (\\varphi_{1}{\\left (x \\right )} \\right )} \\vartheta^{2}_{0} + \\cos{\\left (\\varphi_{1}{\\left (x \\right )} \\right )} \\cos{\\left (\\varphi_{2}{\\left (x \\right )} \\right )} \\vartheta^{3}_{0} & 0\\end{matrix}\\right]$$"
      ],
      "text/plain": [
       "⎡                                   0                                         \n",
       "⎢                                                                             \n",
       "⎢               -sin(varphi₂(x))⋅vartheta³₀ + vartheta¹₀                      \n",
       "⎢                                                                             \n",
       "⎣sin(varphi₁(x))⋅cos(varphi₂(x))⋅vartheta³₀ + cos(varphi₁(x))⋅vartheta²₀  -sin\n",
       "\n",
       "            sin(varphi₂(x))⋅vartheta³₀ - vartheta¹₀                   -(sin(va\n",
       "                                                                              \n",
       "                               0                                       sin(var\n",
       "                                                                              \n",
       "(varphi₁(x))⋅vartheta²₀ + cos(varphi₁(x))⋅cos(varphi₂(x))⋅vartheta³₀          \n",
       "\n",
       "rphi₁(x))⋅cos(varphi₂(x))⋅vartheta³₀ + cos(varphi₁(x))⋅vartheta²₀)⎤\n",
       "                                                                  ⎥\n",
       "phi₁(x))⋅vartheta²₀ - cos(varphi₁(x))⋅cos(varphi₂(x))⋅vartheta³₀  ⎥\n",
       "                                                                  ⎥\n",
       "                            0                                     ⎦"
      ]
     },
     "execution_count": 353,
     "metadata": {},
     "output_type": "execute_result"
    }
   ],
   "source": [
    "simplify(F.transpose()*(diff(F,phi1)*theta_p1+diff(F,phi2)*theta_p2+diff(F,phi3)*theta_p3))"
   ]
  },
  {
   "cell_type": "code",
   "execution_count": 354,
   "metadata": {
    "collapsed": true
   },
   "outputs": [],
   "source": [
    "F = F_U*F_Y*F_X"
   ]
  },
  {
   "cell_type": "code",
   "execution_count": 355,
   "metadata": {},
   "outputs": [
    {
     "data": {
      "image/png": "[encoded data removed]",
      "text/latex": [
       "$$\\left[\\begin{matrix}0 & - (\\sin{\\left (\\varphi_{3}{\\left (x \\right )} \\right )} \\vartheta^{2}_{0} + \\cos{\\left (\\varphi_{2}{\\left (x \\right )} \\right )} \\cos{\\left (\\varphi_{3}{\\left (x \\right )} \\right )} \\vartheta^{1}_{0}) & \\sin{\\left (\\varphi_{3}{\\left (x \\right )} \\right )} \\cos{\\left (\\varphi_{2}{\\left (x \\right )} \\right )} \\vartheta^{1}_{0} - \\cos{\\left (\\varphi_{3}{\\left (x \\right )} \\right )} \\vartheta^{2}_{0}\\\\\\sin{\\left (\\varphi_{3}{\\left (x \\right )} \\right )} \\vartheta^{2}_{0} + \\cos{\\left (\\varphi_{2}{\\left (x \\right )} \\right )} \\cos{\\left (\\varphi_{3}{\\left (x \\right )} \\right )} \\vartheta^{1}_{0} & 0 & - (\\sin{\\left (\\varphi_{2}{\\left (x \\right )} \\right )} \\vartheta^{1}_{0} + \\vartheta^{3}_{0})\\\\- \\sin{\\left (\\varphi_{3}{\\left (x \\right )} \\right )} \\cos{\\left (\\varphi_{2}{\\left (x \\right )} \\right )} \\vartheta^{1}_{0} + \\cos{\\left (\\varphi_{3}{\\left (x \\right )} \\right )} \\vartheta^{2}_{0} & \\sin{\\left (\\varphi_{2}{\\left (x \\right )} \\right )} \\vartheta^{1}_{0} + \\vartheta^{3}_{0} & 0\\end{matrix}\\right]$$"
      ],
      "text/plain": [
       "⎡                                   0                                      -(s\n",
       "⎢                                                                             \n",
       "⎢sin(varphi₃(x))⋅vartheta²₀ + cos(varphi₂(x))⋅cos(varphi₃(x))⋅vartheta¹₀      \n",
       "⎢                                                                             \n",
       "⎣-sin(varphi₃(x))⋅cos(varphi₂(x))⋅vartheta¹₀ + cos(varphi₃(x))⋅vartheta²₀     \n",
       "\n",
       "in(varphi₃(x))⋅vartheta²₀ + cos(varphi₂(x))⋅cos(varphi₃(x))⋅vartheta¹₀)  sin(v\n",
       "                                                                              \n",
       "                                 0                                            \n",
       "                                                                              \n",
       "              sin(varphi₂(x))⋅vartheta¹₀ + vartheta³₀                         \n",
       "\n",
       "arphi₃(x))⋅cos(varphi₂(x))⋅vartheta¹₀ - cos(varphi₃(x))⋅vartheta²₀⎤\n",
       "                                                                  ⎥\n",
       "         -(sin(varphi₂(x))⋅vartheta¹₀ + vartheta³₀)               ⎥\n",
       "                                                                  ⎥\n",
       "                              0                                   ⎦"
      ]
     },
     "execution_count": 355,
     "metadata": {},
     "output_type": "execute_result"
    }
   ],
   "source": [
    "simplify(F.transpose()*(diff(F,phi1)*theta_p1+diff(F,phi2)*theta_p2+diff(F,phi3)*theta_p3))"
   ]
  },
  {
   "cell_type": "code",
   "execution_count": 381,
   "metadata": {
    "collapsed": true
   },
   "outputs": [],
   "source": [
    "P = Matrix([[cos(varphi),-sin(varphi)],[sin(varphi),cos(varphi)]])"
   ]
  },
  {
   "cell_type": "code",
   "execution_count": 3,
   "metadata": {},
   "outputs": [
    {
     "ename": "NameError",
     "evalue": "name 'lp' is not defined",
     "output_type": "error",
     "traceback": [
      "\u001b[1;31m---------------------------------------------------------------------------\u001b[0m",
      "\u001b[1;31mNameError\u001b[0m                                 Traceback (most recent call last)",
      "\u001b[1;32m<ipython-input-3-0d6109537bdb>\u001b[0m in \u001b[0;36m<module>\u001b[1;34m()\u001b[0m\n\u001b[1;32m----> 1\u001b[1;33m \u001b[0mlp\u001b[0m\u001b[1;33m.\u001b[0m\u001b[0mnJet\u001b[0m\u001b[1;33m(\u001b[0m\u001b[1;33m[\u001b[0m\u001b[1;34m'x'\u001b[0m\u001b[1;33m]\u001b[0m\u001b[1;33m,\u001b[0m\u001b[1;33m[\u001b[0m\u001b[1;34m'u'\u001b[0m\u001b[1;33m,\u001b[0m\u001b[1;34m'varphi'\u001b[0m\u001b[1;33m,\u001b[0m\u001b[0mn\u001b[0m\u001b[1;33m]\u001b[0m\u001b[1;33m)\u001b[0m\u001b[1;33m\u001b[0m\u001b[0m\n\u001b[0m",
      "\u001b[1;31mNameError\u001b[0m: name 'lp' is not defined"
     ]
    }
   ],
   "source": [
    "P[0,0]*diff(P[0,0],x)"
   ]
  },
  {
   "cell_type": "code",
   "execution_count": 1,
   "metadata": {
    "collapsed": true
   },
   "outputs": [],
   "source": [
    "import LieSympy as lp\n",
    "from sympy import *\n",
    "init_printing(use_latex=True)"
   ]
  },
  {
   "cell_type": "code",
   "execution_count": 2,
   "metadata": {},
   "outputs": [
    {
     "data": {
      "image/png": "[encoded data removed]",
      "text/latex": [
       "$$\\left [ - u, \\quad x, \\quad 1, \\quad u_{x}^{2} + 1, \\quad u_{x} \\varphi_{x}, \\quad 3 u_{x} u_{xx}, \\quad 2 u_{x} \\varphi_{xx} + u_{xx} \\varphi_{x}\\right ]$$"
      ],
      "text/plain": [
       "⎡            2                                                       ⎤\n",
       "⎣-u, x, 1, uₓ  + 1, uₓ⋅varphiₓ, 3⋅uₓ⋅uₓₓ, 2⋅uₓ⋅varphiₓₓ + uₓₓ⋅varphiₓ⎦"
      ]
     },
     "execution_count": 2,
     "metadata": {},
     "output_type": "execute_result"
    }
   ],
   "source": [
    "x = symbols('x')\n",
    "u = symbols('u')\n",
    "varphi = symbols('varphi')\n",
    "lp.Prolong(['x'],['u','varphi'],[-u,x,1+0*x],2)"
   ]
  },
  {
   "cell_type": "code",
   "execution_count": 3,
   "metadata": {},
   "outputs": [
    {
     "ename": "NameError",
     "evalue": "name 'g' is not defined",
     "output_type": "error",
     "traceback": [
      "\u001b[1;31m---------------------------------------------------------------------------\u001b[0m",
      "\u001b[1;31mNameError\u001b[0m                                 Traceback (most recent call last)",
      "\u001b[1;32m<ipython-input-3-fc5effd78af8>\u001b[0m in \u001b[0;36m<module>\u001b[1;34m()\u001b[0m\n\u001b[1;32m----> 1\u001b[1;33m \u001b[0mg\u001b[0m\u001b[1;33m.\u001b[0m\u001b[0minv_Euler\u001b[0m\u001b[1;33m(\u001b[0m\u001b[1;33m)\u001b[0m\u001b[1;33m\u001b[0m\u001b[0m\n\u001b[0m",
      "\u001b[1;31mNameError\u001b[0m: name 'g' is not defined"
     ]
    }
   ],
   "source": [
    "g.inv_Euler()"
   ]
  },
  {
   "cell_type": "code",
   "execution_count": null,
   "metadata": {
    "collapsed": true
   },
   "outputs": [],
   "source": []
  }
 ],
 "metadata": {
  "kernelspec": {
   "display_name": "Python 2.7",
   "language": "python",
   "name": "python2"
  },
  "language_info": {
   "codemirror_mode": {
    "name": "ipython",
    "version": 2
   },
   "file_extension": ".py",
   "mimetype": "text/x-python",
   "name": "python",
   "nbconvert_exporter": "python",
   "pygments_lexer": "ipython2",
   "version": "2.7.15"
  }
 },
 "nbformat": 4,
 "nbformat_minor": 2
}

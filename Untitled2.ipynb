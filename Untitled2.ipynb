{
 "cells": [
  {
   "cell_type": "code",
   "execution_count": 1,
   "metadata": {
    "collapsed": true
   },
   "outputs": [],
   "source": [
    "from sympy import *\n",
    "import numpy as np\n",
    "import copy as copy\n",
    "init_printing()"
   ]
  },
  {
   "cell_type": "code",
   "execution_count": 45,
   "metadata": {},
   "outputs": [],
   "source": [
    "x = symbols('x')\n",
    "y = symbols('y')\n",
    "u = symbols('u')\n",
    "\n",
    "d = symbols('d')\n",
    "e = symbols('e')\n",
    "f = symbols('f')\n",
    "\n",
    "g = symbols('g')\n",
    "h = symbols('h')\n",
    "k = symbols('k')\n",
    "\n",
    "l = symbols('l')\n",
    "o = symbols('o')\n",
    "p = symbols('p')\n",
    "\n",
    "r11 = symbols('r11')\n",
    "r12 = symbols('r12')\n",
    "r13 = symbols('r13')\n",
    "\n",
    "r21 = symbols('r21')\n",
    "r22 = symbols('r22')\n",
    "r23 = symbols('r23')\n",
    "\n",
    "r31 = symbols('r31')\n",
    "r32 = symbols('r32')\n",
    "r33 = symbols('r33')"
   ]
  },
  {
   "cell_type": "code",
   "execution_count": 46,
   "metadata": {},
   "outputs": [],
   "source": [
    "P = Matrix([[d,e,f],\n",
    "            [g,h,k],\n",
    "           [l,o,p]])\n",
    "\n",
    "R = Matrix([[r11,r12,r13],\n",
    "            [r21,r22,r23],\n",
    "           [r31,r32,r33]])"
   ]
  },
  {
   "cell_type": "code",
   "execution_count": 42,
   "metadata": {},
   "outputs": [
    {
     "data": {
      "image/png": "[encoded data removed]",
      "text/latex": [
       "$$\\left[\\begin{matrix}P_{11} r_{11} + P_{21} r_{12} + P_{31} r_{13} & P_{12} r_{11} + P_{22} r_{12} + P_{32} r_{13} & P_{13} r_{11} + P_{23} r_{12} + P_{33} r_{13}\\\\P_{11} r_{21} + P_{21} r_{22} + P_{31} r_{23} & P_{12} r_{21} + P_{22} r_{22} + P_{32} r_{23} & P_{13} r_{21} + P_{23} r_{22} + P_{33} r_{23}\\\\P_{11} r_{31} + P_{21} r_{32} + P_{31} r_{33} & P_{12} r_{31} + P_{22} r_{32} + P_{32} r_{33} & P_{13} r_{31} + P_{23} r_{32} + P_{33} r_{33}\\end{matrix}\\right]$$"
      ],
      "text/plain": [
       "⎡P₁₁⋅r₁₁ + P₂₁⋅r₁₂ + P₃₁⋅r₁₃  P₁₂⋅r₁₁ + P₂₂⋅r₁₂ + P₃₂⋅r₁₃  P₁₃⋅r₁₁ + P₂₃⋅r₁₂ +\n",
       "⎢                                                                             \n",
       "⎢P₁₁⋅r₂₁ + P₂₁⋅r₂₂ + P₃₁⋅r₂₃  P₁₂⋅r₂₁ + P₂₂⋅r₂₂ + P₃₂⋅r₂₃  P₁₃⋅r₂₁ + P₂₃⋅r₂₂ +\n",
       "⎢                                                                             \n",
       "⎣P₁₁⋅r₃₁ + P₂₁⋅r₃₂ + P₃₁⋅r₃₃  P₁₂⋅r₃₁ + P₂₂⋅r₃₂ + P₃₂⋅r₃₃  P₁₃⋅r₃₁ + P₂₃⋅r₃₂ +\n",
       "\n",
       " P₃₃⋅r₁₃⎤\n",
       "        ⎥\n",
       " P₃₃⋅r₂₃⎥\n",
       "        ⎥\n",
       " P₃₃⋅r₃₃⎦"
      ]
     },
     "execution_count": 42,
     "metadata": {},
     "output_type": "execute_result"
    }
   ],
   "source": [
    "R*P"
   ]
  },
  {
   "cell_type": "code",
   "execution_count": 52,
   "metadata": {},
   "outputs": [
    {
     "data": {
      "image/png": "[encoded data removed]",
      "text/latex": [
       "$$- f x - k y - p u$$"
      ],
      "text/plain": [
       "-f⋅x - k⋅y - p⋅u"
      ]
     },
     "execution_count": 52,
     "metadata": {},
     "output_type": "execute_result"
    }
   ],
   "source": [
    "(-P.T*Matrix([[x],[y],[u]]))[2]"
   ]
  },
  {
   "cell_type": "code",
   "execution_count": null,
   "metadata": {
    "collapsed": true
   },
   "outputs": [],
   "source": []
  }
 ],
 "metadata": {
  "kernelspec": {
   "display_name": "Python 2.7",
   "language": "python",
   "name": "python2"
  },
  "language_info": {
   "codemirror_mode": {
    "name": "ipython",
    "version": 2
   },
   "file_extension": ".py",
   "mimetype": "text/x-python",
   "name": "python",
   "nbconvert_exporter": "python",
   "pygments_lexer": "ipython2",
   "version": "2.7.15"
  }
 },
 "nbformat": 4,
 "nbformat_minor": 2
}

{
 "cells": [
  {
   "cell_type": "markdown",
   "metadata": {},
   "source": [
    "# Derivation of the invariant Euler Lagrange equations for SE(2) invariant Lagrangians defined over three-dimensional framed curves\n",
    "<br/>\n",
    "\n",
    "This notebook is dedicated to providing the calculations that go into deriving the invariant Euler Lagrange equations for SE(2) invariant Lagrangians defined over three-dimensional framed curves.  Unfortunately, we will not be able to use the full functionality of LieSympy as we did in the two dimensional case.  This is due to difficulties that arise in solving the normalization equations for the moving frame as well as the issue of assigning coordinates to a three dimensional framed curve and to SE(2) in general.  Therefore we will make use of LieSympy when possible, but many of our calculations will be carried out in full view within the notebook.\n",
    "\n",
    "We begin this process by first importing the necessary modules for our work.\n",
    "\n",
    "<br/>"
   ]
  },
  {
   "cell_type": "code",
   "execution_count": 1,
   "metadata": {},
   "outputs": [
    {
     "data": {
      "text/html": [
       "<style>.container { width:80% !important; }</style>"
      ],
      "text/plain": [
       "<IPython.core.display.HTML object>"
      ]
     },
     "metadata": {},
     "output_type": "display_data"
    }
   ],
   "source": [
    "from sympy import *\n",
    "from itertools import *\n",
    "import LieSympy as lp\n",
    "import numpy as np\n",
    "init_printing()\n",
    "\n",
    "from IPython.core.display import display, HTML\n",
    "display(HTML(\"<style>.container { width:80% !important; }</style>\"))"
   ]
  },
  {
   "cell_type": "markdown",
   "metadata": {},
   "source": [
    "# Initialized Symbols and Expressions\n",
    "<br/>\n",
    "We start by initializing the variables and expressions that will be needed for our calculations.  We will use Cardan angles in expressing coordinates for the $SO(3)$ components of $SE(3)$ and the framed curve."
   ]
  },
  {
   "cell_type": "markdown",
   "metadata": {},
   "source": [
    "#### Symbols"
   ]
  },
  {
   "cell_type": "code",
   "execution_count": 2,
   "metadata": {
    "collapsed": true
   },
   "outputs": [],
   "source": [
    "x = symbols('x')\n",
    "u = Function('u')('x')\n",
    "\n",
    "a = symbols('a')\n",
    "b = symbols('b')\n",
    "\n",
    "phi = Function('varphi')('x')\n",
    "\n",
    "psi = symbols('psi')"
   ]
  },
  {
   "cell_type": "markdown",
   "metadata": {},
   "source": [
    "#### Cardan Angles for $F$ and $R$.  Vectors $z$ and $v$"
   ]
  },
  {
   "cell_type": "code",
   "execution_count": 3,
   "metadata": {
    "collapsed": true
   },
   "outputs": [],
   "source": [
    "F = Matrix([[cos(phi),-sin(phi)],[sin(phi),cos(phi)]])\n",
    "\n",
    "R = Matrix([[cos(psi),-sin(psi)],[sin(psi),cos(psi)]])\n",
    "\n",
    "z = Matrix([x,u])\n",
    "v = Matrix([a,b])"
   ]
  },
  {
   "cell_type": "markdown",
   "metadata": {},
   "source": [
    "#### Transformation Rules for Base and Jet Coordinates"
   ]
  },
  {
   "cell_type": "code",
   "execution_count": 4,
   "metadata": {
    "collapsed": true
   },
   "outputs": [],
   "source": [
    "X = simplify((R*z+v).row(0)[0])\n",
    "U = simplify((R*z+v).row(1)[0])\n",
    "F_new = R*F\n",
    "\n",
    "Dx = diff(X,x)\n",
    "U_x = simplify(diff(U,x)/Dx)\n",
    "U_xx = diff(U_x,x)/Dx\n",
    "\n",
    "F_new_x = diff(F_new,x)/Dx\n",
    "F_new_xx = diff(F_new_x,x)/Dx\n",
    "\n",
    "identity = {a:0, b:0, psi:0}"
   ]
  },
  {
   "cell_type": "markdown",
   "metadata": {},
   "source": [
    "#### Moving Frame for the Cross-section $X=U=0, F_{new} = I_{2\\times 2}$"
   ]
  },
  {
   "cell_type": "code",
   "execution_count": 5,
   "metadata": {
    "collapsed": true
   },
   "outputs": [],
   "source": [
    "frame = {a:-(F.transpose()*z)[0,0], b:-(F.transpose()*z)[1,0], psi:-phi}"
   ]
  },
  {
   "cell_type": "markdown",
   "metadata": {},
   "source": [
    "The following calculations verify that the frame does indeed work for our choice of coordinates"
   ]
  },
  {
   "cell_type": "code",
   "execution_count": 6,
   "metadata": {},
   "outputs": [
    {
     "data": {
      "image/png": "[encoded data removed]",
      "text/latex": [
       "$$\\left[\\begin{matrix}1 & 0\\\\0 & 1\\end{matrix}\\right]$$"
      ],
      "text/plain": [
       "⎡1  0⎤\n",
       "⎢    ⎥\n",
       "⎣0  1⎦"
      ]
     },
     "execution_count": 6,
     "metadata": {},
     "output_type": "execute_result"
    }
   ],
   "source": [
    "simplify(F_new.xreplace(frame))"
   ]
  },
  {
   "cell_type": "code",
   "execution_count": 7,
   "metadata": {},
   "outputs": [
    {
     "data": {
      "image/png": "[encoded data removed]",
      "text/latex": [
       "$$0$$"
      ],
      "text/plain": [
       "0"
      ]
     },
     "execution_count": 7,
     "metadata": {},
     "output_type": "execute_result"
    }
   ],
   "source": [
    "simplify(X.xreplace(frame))"
   ]
  },
  {
   "cell_type": "code",
   "execution_count": 8,
   "metadata": {},
   "outputs": [
    {
     "data": {
      "image/png": "[encoded data removed]",
      "text/latex": [
       "$$0$$"
      ],
      "text/plain": [
       "0"
      ]
     },
     "execution_count": 8,
     "metadata": {},
     "output_type": "execute_result"
    }
   ],
   "source": [
    "simplify(U.xreplace(frame))"
   ]
  },
  {
   "cell_type": "markdown",
   "metadata": {},
   "source": [
    "# Infinitesimal Generators"
   ]
  },
  {
   "cell_type": "markdown",
   "metadata": {},
   "source": [
    "For the \"curve\" portion of our framed curve, i.e. the $\\mathcal{R}^3$ component, the infinitesimal generators are:"
   ]
  },
  {
   "cell_type": "code",
   "execution_count": 9,
   "metadata": {},
   "outputs": [
    {
     "data": {
      "image/png": "[encoded data removed]",
      "text/latex": [
       "$$\\left [ 1, \\quad 0, \\quad 0, \\quad 0, \\quad 0, \\quad 0\\right ]$$"
      ],
      "text/plain": [
       "[1, 0, 0, 0, 0, 0]"
      ]
     },
     "execution_count": 9,
     "metadata": {},
     "output_type": "execute_result"
    }
   ],
   "source": [
    "[diff(X,a).subs(identity), diff(U,a).subs(identity), diff(F_new[0,0],a).subs(identity), diff(F_new[0,1],a).subs(identity), diff(F_new[1,0],a).subs(identity), diff(F_new[1,1],a).subs(identity)]"
   ]
  },
  {
   "cell_type": "code",
   "execution_count": 10,
   "metadata": {},
   "outputs": [
    {
     "data": {
      "image/png": "[encoded data removed]",
      "text/latex": [
       "$$\\left [ 0, \\quad 1, \\quad 0, \\quad 0, \\quad 0, \\quad 0\\right ]$$"
      ],
      "text/plain": [
       "[0, 1, 0, 0, 0, 0]"
      ]
     },
     "execution_count": 10,
     "metadata": {},
     "output_type": "execute_result"
    }
   ],
   "source": [
    "[diff(X,b).subs(identity), diff(U,b).subs(identity), diff(F_new[0,0],b).subs(identity), diff(F_new[0,1],b).subs(identity), diff(F_new[1,0],b).subs(identity), diff(F_new[1,1],b).subs(identity)]"
   ]
  },
  {
   "cell_type": "code",
   "execution_count": 11,
   "metadata": {},
   "outputs": [
    {
     "data": {
      "image/png": "[encoded data removed]",
      "text/latex": [
       "$$\\left [ - u{\\left (x \\right )}, \\quad x, \\quad - \\sin{\\left (\\varphi{\\left (x \\right )} \\right )}, \\quad - \\cos{\\left (\\varphi{\\left (x \\right )} \\right )}, \\quad \\cos{\\left (\\varphi{\\left (x \\right )} \\right )}, \\quad - \\sin{\\left (\\varphi{\\left (x \\right )} \\right )}\\right ]$$"
      ],
      "text/plain": [
       "[-u(x), x, -sin(varphi(x)), -cos(varphi(x)), cos(varphi(x)), -sin(varphi(x))]"
      ]
     },
     "execution_count": 11,
     "metadata": {},
     "output_type": "execute_result"
    }
   ],
   "source": [
    "[diff(X,psi).subs(identity), diff(U,psi).subs(identity), diff(F_new[0,0],psi).subs(identity), diff(F_new[0,1],psi).subs(identity), diff(F_new[1,0],psi).subs(identity), diff(F_new[1,1],psi).subs(identity)]"
   ]
  },
  {
   "cell_type": "markdown",
   "metadata": {},
   "source": [
    "For the \"frame\" portion of our framed curve, i.e. the $SO(3)$ component, the infinitesimal generators are:"
   ]
  },
  {
   "cell_type": "code",
   "execution_count": 12,
   "metadata": {},
   "outputs": [
    {
     "data": {
      "image/png": "[encoded data removed]",
      "text/latex": [
       "$$\\left[\\begin{matrix}- \\sin{\\left (\\varphi{\\left (x \\right )} \\right )} \\frac{d}{d x} \\varphi{\\left (x \\right )} & - \\cos{\\left (\\varphi{\\left (x \\right )} \\right )} \\frac{d}{d x} \\varphi{\\left (x \\right )}\\\\\\cos{\\left (\\varphi{\\left (x \\right )} \\right )} \\frac{d}{d x} \\varphi{\\left (x \\right )} & - \\sin{\\left (\\varphi{\\left (x \\right )} \\right )} \\frac{d}{d x} \\varphi{\\left (x \\right )}\\end{matrix}\\right]$$"
      ],
      "text/plain": [
       "⎡                d                              d            ⎤\n",
       "⎢-sin(varphi(x))⋅──(varphi(x))  -cos(varphi(x))⋅──(varphi(x))⎥\n",
       "⎢                dx                             dx           ⎥\n",
       "⎢                                                            ⎥\n",
       "⎢               d                               d            ⎥\n",
       "⎢cos(varphi(x))⋅──(varphi(x))   -sin(varphi(x))⋅──(varphi(x))⎥\n",
       "⎣               dx                              dx           ⎦"
      ]
     },
     "execution_count": 12,
     "metadata": {},
     "output_type": "execute_result"
    }
   ],
   "source": [
    "diff(F_new,x).subs(identity)"
   ]
  },
  {
   "cell_type": "code",
   "execution_count": 13,
   "metadata": {},
   "outputs": [
    {
     "data": {
      "image/png": "[encoded data removed]",
      "text/latex": [
       "$$\\left[\\begin{matrix}\\cos{\\left (\\varphi{\\left (x \\right )} \\right )} & - \\sin{\\left (\\varphi{\\left (x \\right )} \\right )}\\\\\\sin{\\left (\\varphi{\\left (x \\right )} \\right )} & \\cos{\\left (\\varphi{\\left (x \\right )} \\right )}\\end{matrix}\\right]$$"
      ],
      "text/plain": [
       "⎡cos(varphi(x))  -sin(varphi(x))⎤\n",
       "⎢                               ⎥\n",
       "⎣sin(varphi(x))  cos(varphi(x)) ⎦"
      ]
     },
     "execution_count": 13,
     "metadata": {},
     "output_type": "execute_result"
    }
   ],
   "source": [
    "F"
   ]
  },
  {
   "cell_type": "markdown",
   "metadata": {},
   "source": [
    "We should note that we could just have well realized that these expression are found by applying $\\dfrac{dR}{d\\psi_j}\\bigg|_{id}$ to either $z$ or $F$, i.e. we can multiply by one of the following three matrices:"
   ]
  },
  {
   "cell_type": "code",
   "execution_count": 14,
   "metadata": {},
   "outputs": [
    {
     "data": {
      "image/png": "[encoded data removed]",
      "text/latex": [
       "$$\\left[\\begin{matrix}0 & -1\\\\1 & 0\\end{matrix}\\right]$$"
      ],
      "text/plain": [
       "⎡0  -1⎤\n",
       "⎢     ⎥\n",
       "⎣1  0 ⎦"
      ]
     },
     "execution_count": 14,
     "metadata": {},
     "output_type": "execute_result"
    }
   ],
   "source": [
    "V = diff(R,psi).subs(identity)\n",
    "V"
   ]
  },
  {
   "cell_type": "markdown",
   "metadata": {},
   "source": [
    "# A Note About the Action of $SO(2)$ on Frames\n",
    "Before moving on, we should note that the action of $SO(2)$ on the frame matrix $F$ view above can also be analyzed in the absense of an explicit parameterization of $F$ in $SO(2)$.  This is done by simply analyzing the aciton of $SO(2)$ on $M_{2\\times2}(\\mathbb{R})$ and imposing relation of various components.  This viewpoint is demonstrated below."
   ]
  },
  {
   "cell_type": "code",
   "execution_count": 15,
   "metadata": {
    "collapsed": true
   },
   "outputs": [],
   "source": [
    "F11 = symbols('F11')\n",
    "F12 = symbols('F12')\n",
    "F21 = symbols('F21')\n",
    "F22 = symbols('F22')\n",
    "\n",
    "F = Matrix([[F11,F12],[F21,F22]])"
   ]
  },
  {
   "cell_type": "code",
   "execution_count": 16,
   "metadata": {},
   "outputs": [
    {
     "data": {
      "image/png": "[encoded data removed]",
      "text/latex": [
       "$$\\left[\\begin{matrix}- F_{21} & - F_{22}\\\\F_{11} & F_{12}\\end{matrix}\\right]$$"
      ],
      "text/plain": [
       "⎡-F₂₁  -F₂₂⎤\n",
       "⎢          ⎥\n",
       "⎣F₁₁   F₁₂ ⎦"
      ]
     },
     "execution_count": 16,
     "metadata": {},
     "output_type": "execute_result"
    }
   ],
   "source": [
    "diff(R*F,psi).subs(identity)"
   ]
  },
  {
   "cell_type": "markdown",
   "metadata": {},
   "source": [
    "# Prolongation of Infinitesimal Generators\n",
    "If we prolong the infinitesimal generators for the group action given above using the jet coordinates $(x,y,u,\\varphi_1,\\varphi_2,\\varphi_3, y_x,u_x,\\varphi_{1,x},\\varphi_{2,x},\\varphi_{3,x})$, we will end up with a complicated mess.  Instead, we can express the prolongations as the restriction of the prolongations induced by the ebedding $SO(3)\\hookrightarrow\\mathfrak{gl}(3)$.  Expressing the prolonged infinitesimal generators in coordinates will require a rather long array.  Instead of doing this, we will display only the additional components of $\\texttt{pr}^1(v_i)$ that arise in prolonging $v_i$."
   ]
  },
  {
   "cell_type": "code",
   "execution_count": 17,
   "metadata": {
    "collapsed": true
   },
   "outputs": [],
   "source": [
    "v1 = [-symbols('u'), x, -F21, -F22, F11, F12]\n",
    "\n",
    "A = [['x'], ['u','F11','F12','F21','F22']]"
   ]
  },
  {
   "cell_type": "code",
   "execution_count": 18,
   "metadata": {},
   "outputs": [
    {
     "data": {
      "image/png": "[encoded data removed]",
      "text/latex": [
       "$$\\left [ - u, \\quad x, \\quad - F_{21}, \\quad - F_{22}, \\quad F_{11}, \\quad F_{12}, \\quad u_{x}^{2} + 1, \\quad F_{11 x} u_{x} - F_{21 x}, \\quad F_{12 x} u_{x} - F_{22 x}, \\quad F_{11 x} + F_{21 x} u_{x}, \\quad F_{12 x} + F_{22 x} u_{x}\\right ]$$"
      ],
      "text/plain": [
       "⎡                               2                                             \n",
       "⎣-u, x, -F₂₁, -F₂₂, F₁₁, F₁₂, uₓ  + 1, F₁₁ ₓ⋅uₓ - F₂₁ ₓ, F₁₂ ₓ⋅uₓ - F₂₂ ₓ, F₁₁\n",
       "\n",
       "                               ⎤\n",
       " ₓ + F₂₁ ₓ⋅uₓ, F₁₂ ₓ + F₂₂ ₓ⋅uₓ⎦"
      ]
     },
     "execution_count": 18,
     "metadata": {},
     "output_type": "execute_result"
    }
   ],
   "source": [
    "lp.Prolong(A, v1, 1)"
   ]
  }
 ],
 "metadata": {
  "kernelspec": {
   "display_name": "Python 2.7",
   "language": "python",
   "name": "python2"
  },
  "language_info": {
   "codemirror_mode": {
    "name": "ipython",
    "version": 2
   },
   "file_extension": ".py",
   "mimetype": "text/x-python",
   "name": "python",
   "nbconvert_exporter": "python",
   "pygments_lexer": "ipython2",
   "version": "2.7.15"
  }
 },
 "nbformat": 4,
 "nbformat_minor": 2
}

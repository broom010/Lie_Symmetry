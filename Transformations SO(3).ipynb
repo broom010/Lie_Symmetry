{
 "cells": [
  {
   "cell_type": "code",
   "execution_count": 11,
   "metadata": {},
   "outputs": [
    {
     "data": {
      "text/html": [
       "<style>.container { width:80% !important; }</style>"
      ],
      "text/plain": [
       "<IPython.core.display.HTML object>"
      ]
     },
     "metadata": {},
     "output_type": "display_data"
    }
   ],
   "source": [
    "import numpy as np\n",
    "from sympy import *\n",
    "init_printing()\n",
    "\n",
    "from IPython.core.display import display, HTML\n",
    "display(HTML(\"<style>.container { width:80% !important; }</style>\"))"
   ]
  },
  {
   "cell_type": "code",
   "execution_count": 8,
   "metadata": {
    "collapsed": true
   },
   "outputs": [],
   "source": [
    "x = symbols('x')\n",
    "y = Function('y')('x')\n",
    "u = Function('u')('x')\n",
    "\n",
    "a = symbols('a')\n",
    "b = symbols('b')\n",
    "c = symbols('c')\n",
    "\n",
    "phi1 = Function('varphi_1')('x')\n",
    "phi2 = Function('varphi_2')('x')\n",
    "phi3 = Function('varphi_3')('x')\n",
    "\n",
    "psi1 = symbols('psi_1')\n",
    "psi2 = symbols('psi_2')\n",
    "psi3 = symbols('psi_3')\n",
    "\n",
    "dx = symbols('dx')\n",
    "dp1 = symbols('d\\\\phi_1')\n",
    "dp2 = symbols('d\\\\phi_2')\n",
    "dp3 = symbols('d\\\\phi_3')\n",
    "\n",
    "differentials = {diff(phi1,x):dp1, diff(phi2,x):dp2, diff(phi3,x):dp3}"
   ]
  },
  {
   "cell_type": "code",
   "execution_count": 3,
   "metadata": {
    "collapsed": true
   },
   "outputs": [],
   "source": [
    "F_U = Matrix([[cos(phi1),-sin(phi1),0],[sin(phi1),cos(phi1),0],[0,0,1]])\n",
    "F_Y = Matrix([[cos(phi2),0,-sin(phi2)],[0,1,0],[sin(phi2),0,cos(phi2)]])\n",
    "F_X = Matrix([[1,0,0],[0,cos(phi3),-sin(phi3)],[0,sin(phi3),cos(phi3)]])\n",
    "\n",
    "F = F_U*F_Y*F_X\n",
    "\n",
    "R_U = Matrix([[cos(psi1),-sin(psi1),0],[sin(psi1),cos(psi1),0],[0,0,1]])\n",
    "R_Y = Matrix([[cos(psi2),0,-sin(psi2)],[0,1,0],[sin(psi2),0,cos(psi2)]])\n",
    "R_X = Matrix([[1,0,0],[0,cos(psi3),-sin(psi3)],[0,sin(psi3),cos(psi3)]])\n",
    "\n",
    "R = R_X*R_Y*R_U\n",
    "\n",
    "z = Matrix([x,y,u])\n",
    "v = Matrix([a,b,c])"
   ]
  },
  {
   "cell_type": "code",
   "execution_count": 4,
   "metadata": {
    "collapsed": true
   },
   "outputs": [],
   "source": [
    "X = simplify((R*z+v).row(0)[0])\n",
    "Y = simplify((R*z+v).row(1)[0])\n",
    "U = simplify((R*z+v).row(2)[0])\n",
    "F_new = R*F\n",
    "\n",
    "Dx = diff(X,x)\n",
    "Y_x = simplify(diff(Y,x)/Dx)\n",
    "Y_xx = diff(Y_x,x)/Dx\n",
    "U_x = simplify(diff(U,x)/Dx)\n",
    "U_xx = diff(U_x,x)/Dx\n",
    "\n",
    "F_new_x = diff(F_new,x)/Dx\n",
    "F_new_xx = diff(F_new_x,x)/Dx\n",
    "\n",
    "identity = {a:0, b:0, c:0, psi1:0, psi2:0, psi3:0}"
   ]
  },
  {
   "cell_type": "code",
   "execution_count": 14,
   "metadata": {
    "collapsed": true
   },
   "outputs": [],
   "source": [
    "A = simplify(diff(F)*F.transpose()).subs(differentials)-simplify(diff(F,x)*F.transpose())*dx"
   ]
  },
  {
   "cell_type": "code",
   "execution_count": 16,
   "metadata": {},
   "outputs": [
    {
     "data": {
      "image/png": "[encoded data removed]",
      "text/latex": [
       "$$d\\phi_3 \\cos{\\left (\\varphi_{2}{\\left (x \\right )} \\right )} \\frac{d}{d x} \\varphi_{2}{\\left (x \\right )} - dx \\left(\\sin{\\left (\\varphi_{2}{\\left (x \\right )} \\right )} \\frac{d^{2}}{d x^{2}} \\varphi_{3}{\\left (x \\right )} + \\cos{\\left (\\varphi_{2}{\\left (x \\right )} \\right )} \\frac{d}{d x} \\varphi_{2}{\\left (x \\right )} \\frac{d}{d x} \\varphi_{3}{\\left (x \\right )} + \\frac{d^{2}}{d x^{2}} \\varphi_{1}{\\left (x \\right )}\\right)$$"
      ],
      "text/plain": [
       "                                           ⎛                  2               \n",
       "                       d                   ⎜                 d                \n",
       "d\\phi₃⋅cos(varphi₂(x))⋅──(varphi₂(x)) - dx⋅⎜sin(varphi₂(x))⋅───(varphi₃(x)) + \n",
       "                       dx                  ⎜                  2               \n",
       "                                           ⎝                dx                \n",
       "\n",
       "                                                  2            ⎞\n",
       "                d              d                 d             ⎟\n",
       "cos(varphi₂(x))⋅──(varphi₂(x))⋅──(varphi₃(x)) + ───(varphi₁(x))⎟\n",
       "                dx             dx                 2            ⎟\n",
       "                                                dx             ⎠"
      ]
     },
     "execution_count": 16,
     "metadata": {},
     "output_type": "execute_result"
    }
   ],
   "source": [
    "diff(A[1,0],x)"
   ]
  },
  {
   "cell_type": "code",
   "execution_count": 17,
   "metadata": {},
   "outputs": [
    {
     "data": {
      "image/png": "[encoded data removed]",
      "text/latex": [
       "$$\\left[\\begin{matrix}0 & - d\\phi_1 - d\\phi_3 \\sin{\\left (\\varphi_{2}{\\left (x \\right )} \\right )} - dx \\left(- \\sin{\\left (\\varphi_{2}{\\left (x \\right )} \\right )} \\frac{d}{d x} \\varphi_{3}{\\left (x \\right )} - \\frac{d}{d x} \\varphi_{1}{\\left (x \\right )}\\right) & - d\\phi_2 \\cos{\\left (\\varphi_{1}{\\left (x \\right )} \\right )} + d\\phi_3 \\sin{\\left (\\varphi_{1}{\\left (x \\right )} \\right )} \\cos{\\left (\\varphi_{2}{\\left (x \\right )} \\right )} - dx \\left(\\sin{\\left (\\varphi_{1}{\\left (x \\right )} \\right )} \\cos{\\left (\\varphi_{2}{\\left (x \\right )} \\right )} \\frac{d}{d x} \\varphi_{3}{\\left (x \\right )} - \\cos{\\left (\\varphi_{1}{\\left (x \\right )} \\right )} \\frac{d}{d x} \\varphi_{2}{\\left (x \\right )}\\right)\\\\d\\phi_1 + d\\phi_3 \\sin{\\left (\\varphi_{2}{\\left (x \\right )} \\right )} - dx \\left(\\sin{\\left (\\varphi_{2}{\\left (x \\right )} \\right )} \\frac{d}{d x} \\varphi_{3}{\\left (x \\right )} + \\frac{d}{d x} \\varphi_{1}{\\left (x \\right )}\\right) & 0 & - d\\phi_2 \\sin{\\left (\\varphi_{1}{\\left (x \\right )} \\right )} - d\\phi_3 \\cos{\\left (\\varphi_{1}{\\left (x \\right )} \\right )} \\cos{\\left (\\varphi_{2}{\\left (x \\right )} \\right )} - dx \\left(- \\sin{\\left (\\varphi_{1}{\\left (x \\right )} \\right )} \\frac{d}{d x} \\varphi_{2}{\\left (x \\right )} - \\cos{\\left (\\varphi_{1}{\\left (x \\right )} \\right )} \\cos{\\left (\\varphi_{2}{\\left (x \\right )} \\right )} \\frac{d}{d x} \\varphi_{3}{\\left (x \\right )}\\right)\\\\d\\phi_2 \\cos{\\left (\\varphi_{1}{\\left (x \\right )} \\right )} - d\\phi_3 \\sin{\\left (\\varphi_{1}{\\left (x \\right )} \\right )} \\cos{\\left (\\varphi_{2}{\\left (x \\right )} \\right )} - dx \\left(- \\sin{\\left (\\varphi_{1}{\\left (x \\right )} \\right )} \\cos{\\left (\\varphi_{2}{\\left (x \\right )} \\right )} \\frac{d}{d x} \\varphi_{3}{\\left (x \\right )} + \\cos{\\left (\\varphi_{1}{\\left (x \\right )} \\right )} \\frac{d}{d x} \\varphi_{2}{\\left (x \\right )}\\right) & d\\phi_2 \\sin{\\left (\\varphi_{1}{\\left (x \\right )} \\right )} + d\\phi_3 \\cos{\\left (\\varphi_{1}{\\left (x \\right )} \\right )} \\cos{\\left (\\varphi_{2}{\\left (x \\right )} \\right )} - dx \\left(\\sin{\\left (\\varphi_{1}{\\left (x \\right )} \\right )} \\frac{d}{d x} \\varphi_{2}{\\left (x \\right )} + \\cos{\\left (\\varphi_{1}{\\left (x \\right )} \\right )} \\cos{\\left (\\varphi_{2}{\\left (x \\right )} \\right )} \\frac{d}{d x} \\varphi_{3}{\\left (x \\right )}\\right) & 0\\end{matrix}\\right]$$"
      ],
      "text/plain": [
       "⎡                                                                             \n",
       "⎢                                                                           0 \n",
       "⎢                                                                             \n",
       "⎢                                                                             \n",
       "⎢                                                                      ⎛      \n",
       "⎢                                 d\\phi₁ + d\\phi₃⋅sin(varphi₂(x)) - dx⋅⎜sin(va\n",
       "⎢                                                                      ⎝      \n",
       "⎢                                                                             \n",
       "⎢                                                                     ⎛       \n",
       "⎢d\\phi₂⋅cos(varphi₁(x)) - d\\phi₃⋅sin(varphi₁(x))⋅cos(varphi₂(x)) - dx⋅⎜- sin(v\n",
       "⎣                                                                     ⎝       \n",
       "\n",
       "                                                                              \n",
       "                                                                              \n",
       "                                                                              \n",
       "                                                                              \n",
       "          d                d             ⎞                                    \n",
       "rphi₂(x))⋅──(varphi₃(x)) + ──(varphi₁(x))⎟                                    \n",
       "          dx               dx            ⎠                                    \n",
       "                                                                              \n",
       "                           d                                d             ⎞   \n",
       "arphi₁(x))⋅cos(varphi₂(x))⋅──(varphi₃(x)) + cos(varphi₁(x))⋅──(varphi₂(x))⎟  d\n",
       "                           dx                               dx            ⎠   \n",
       "\n",
       "                                                                   ⎛          \n",
       "                             -d\\phi₁ - d\\phi₃⋅sin(varphi₂(x)) - dx⋅⎜- sin(varp\n",
       "                                                                   ⎝          \n",
       "                                                                              \n",
       "                                                                              \n",
       "                                                                         0    \n",
       "                                                                              \n",
       "                                                                              \n",
       "                                                                    ⎛         \n",
       "\\phi₂⋅sin(varphi₁(x)) + d\\phi₃⋅cos(varphi₁(x))⋅cos(varphi₂(x)) - dx⋅⎜sin(varph\n",
       "                                                                    ⎝         \n",
       "\n",
       "        d                d             ⎞                                      \n",
       "hi₂(x))⋅──(varphi₃(x)) - ──(varphi₁(x))⎟                                  -d\\p\n",
       "        dx               dx            ⎠                                      \n",
       "                                                                              \n",
       "                                                                              \n",
       "                                                                         -d\\ph\n",
       "                                                                              \n",
       "                                                                              \n",
       "       d                                                d             ⎞       \n",
       "i₁(x))⋅──(varphi₂(x)) + cos(varphi₁(x))⋅cos(varphi₂(x))⋅──(varphi₃(x))⎟       \n",
       "       dx                                               dx            ⎠       \n",
       "\n",
       "                                                                  ⎛           \n",
       "hi₂⋅cos(varphi₁(x)) + d\\phi₃⋅sin(varphi₁(x))⋅cos(varphi₂(x)) - dx⋅⎜sin(varphi₁\n",
       "                                                                  ⎝           \n",
       "                                                                              \n",
       "                                                                 ⎛            \n",
       "i₂⋅sin(varphi₁(x)) - d\\phi₃⋅cos(varphi₁(x))⋅cos(varphi₂(x)) - dx⋅⎜- sin(varphi\n",
       "                                                                 ⎝            \n",
       "                                                                              \n",
       "                                                                              \n",
       "                                                                       0      \n",
       "                                                                              \n",
       "\n",
       "                     d                                d             ⎞ ⎤\n",
       "(x))⋅cos(varphi₂(x))⋅──(varphi₃(x)) - cos(varphi₁(x))⋅──(varphi₂(x))⎟ ⎥\n",
       "                     dx                               dx            ⎠ ⎥\n",
       "                                                                      ⎥\n",
       "      d                                                d             ⎞⎥\n",
       "₁(x))⋅──(varphi₂(x)) - cos(varphi₁(x))⋅cos(varphi₂(x))⋅──(varphi₃(x))⎟⎥\n",
       "      dx                                               dx            ⎠⎥\n",
       "                                                                      ⎥\n",
       "                                                                      ⎥\n",
       "                                                                      ⎥\n",
       "                                                                      ⎦"
      ]
     },
     "execution_count": 17,
     "metadata": {},
     "output_type": "execute_result"
    }
   ],
   "source": []
  },
  {
   "cell_type": "code",
   "execution_count": 18,
   "metadata": {},
   "outputs": [
    {
     "name": "stdout",
     "output_type": "stream",
     "text": [
      "\\left[\\begin{matrix}0 & - d\\phi_1 - d\\phi_3 \\sin{\\left (\\varphi_{2}{\\left (x \\right )} \\right )} - dx \\left(- \\sin{\\left (\\varphi_{2}{\\left (x \\right )} \\right )} \\frac{d}{d x} \\varphi_{3}{\\left (x \\right )} - \\frac{d}{d x} \\varphi_{1}{\\left (x \\right )}\\right) & - d\\phi_2 \\cos{\\left (\\varphi_{1}{\\left (x \\right )} \\right )} + d\\phi_3 \\sin{\\left (\\varphi_{1}{\\left (x \\right )} \\right )} \\cos{\\left (\\varphi_{2}{\\left (x \\right )} \\right )} - dx \\left(\\sin{\\left (\\varphi_{1}{\\left (x \\right )} \\right )} \\cos{\\left (\\varphi_{2}{\\left (x \\right )} \\right )} \\frac{d}{d x} \\varphi_{3}{\\left (x \\right )} - \\cos{\\left (\\varphi_{1}{\\left (x \\right )} \\right )} \\frac{d}{d x} \\varphi_{2}{\\left (x \\right )}\\right)\\\\d\\phi_1 + d\\phi_3 \\sin{\\left (\\varphi_{2}{\\left (x \\right )} \\right )} - dx \\left(\\sin{\\left (\\varphi_{2}{\\left (x \\right )} \\right )} \\frac{d}{d x} \\varphi_{3}{\\left (x \\right )} + \\frac{d}{d x} \\varphi_{1}{\\left (x \\right )}\\right) & 0 & - d\\phi_2 \\sin{\\left (\\varphi_{1}{\\left (x \\right )} \\right )} - d\\phi_3 \\cos{\\left (\\varphi_{1}{\\left (x \\right )} \\right )} \\cos{\\left (\\varphi_{2}{\\left (x \\right )} \\right )} - dx \\left(- \\sin{\\left (\\varphi_{1}{\\left (x \\right )} \\right )} \\frac{d}{d x} \\varphi_{2}{\\left (x \\right )} - \\cos{\\left (\\varphi_{1}{\\left (x \\right )} \\right )} \\cos{\\left (\\varphi_{2}{\\left (x \\right )} \\right )} \\frac{d}{d x} \\varphi_{3}{\\left (x \\right )}\\right)\\\\d\\phi_2 \\cos{\\left (\\varphi_{1}{\\left (x \\right )} \\right )} - d\\phi_3 \\sin{\\left (\\varphi_{1}{\\left (x \\right )} \\right )} \\cos{\\left (\\varphi_{2}{\\left (x \\right )} \\right )} - dx \\left(- \\sin{\\left (\\varphi_{1}{\\left (x \\right )} \\right )} \\cos{\\left (\\varphi_{2}{\\left (x \\right )} \\right )} \\frac{d}{d x} \\varphi_{3}{\\left (x \\right )} + \\cos{\\left (\\varphi_{1}{\\left (x \\right )} \\right )} \\frac{d}{d x} \\varphi_{2}{\\left (x \\right )}\\right) & d\\phi_2 \\sin{\\left (\\varphi_{1}{\\left (x \\right )} \\right )} + d\\phi_3 \\cos{\\left (\\varphi_{1}{\\left (x \\right )} \\right )} \\cos{\\left (\\varphi_{2}{\\left (x \\right )} \\right )} - dx \\left(\\sin{\\left (\\varphi_{1}{\\left (x \\right )} \\right )} \\frac{d}{d x} \\varphi_{2}{\\left (x \\right )} + \\cos{\\left (\\varphi_{1}{\\left (x \\right )} \\right )} \\cos{\\left (\\varphi_{2}{\\left (x \\right )} \\right )} \\frac{d}{d x} \\varphi_{3}{\\left (x \\right )}\\right) & 0\\end{matrix}\\right]\n"
     ]
    }
   ],
   "source": [
    "print(latex(A))"
   ]
  },
  {
   "cell_type": "code",
   "execution_count": 19,
   "metadata": {},
   "outputs": [
    {
     "data": {
      "image/png": "[encoded data removed]",
      "text/latex": [
       "$$\\left[\\begin{matrix}0 & - d\\phi_1 - d\\phi_3 \\sin{\\left (\\varphi_{2}{\\left (x \\right )} \\right )} - dx \\left(- \\sin{\\left (\\varphi_{2}{\\left (x \\right )} \\right )} \\frac{d}{d x} \\varphi_{3}{\\left (x \\right )} - \\frac{d}{d x} \\varphi_{1}{\\left (x \\right )}\\right) & - d\\phi_2 \\cos{\\left (\\varphi_{1}{\\left (x \\right )} \\right )} + d\\phi_3 \\sin{\\left (\\varphi_{1}{\\left (x \\right )} \\right )} \\cos{\\left (\\varphi_{2}{\\left (x \\right )} \\right )} - dx \\left(\\sin{\\left (\\varphi_{1}{\\left (x \\right )} \\right )} \\cos{\\left (\\varphi_{2}{\\left (x \\right )} \\right )} \\frac{d}{d x} \\varphi_{3}{\\left (x \\right )} - \\cos{\\left (\\varphi_{1}{\\left (x \\right )} \\right )} \\frac{d}{d x} \\varphi_{2}{\\left (x \\right )}\\right)\\\\d\\phi_1 + d\\phi_3 \\sin{\\left (\\varphi_{2}{\\left (x \\right )} \\right )} - dx \\left(\\sin{\\left (\\varphi_{2}{\\left (x \\right )} \\right )} \\frac{d}{d x} \\varphi_{3}{\\left (x \\right )} + \\frac{d}{d x} \\varphi_{1}{\\left (x \\right )}\\right) & 0 & - d\\phi_2 \\sin{\\left (\\varphi_{1}{\\left (x \\right )} \\right )} - d\\phi_3 \\cos{\\left (\\varphi_{1}{\\left (x \\right )} \\right )} \\cos{\\left (\\varphi_{2}{\\left (x \\right )} \\right )} - dx \\left(- \\sin{\\left (\\varphi_{1}{\\left (x \\right )} \\right )} \\frac{d}{d x} \\varphi_{2}{\\left (x \\right )} - \\cos{\\left (\\varphi_{1}{\\left (x \\right )} \\right )} \\cos{\\left (\\varphi_{2}{\\left (x \\right )} \\right )} \\frac{d}{d x} \\varphi_{3}{\\left (x \\right )}\\right)\\\\d\\phi_2 \\cos{\\left (\\varphi_{1}{\\left (x \\right )} \\right )} - d\\phi_3 \\sin{\\left (\\varphi_{1}{\\left (x \\right )} \\right )} \\cos{\\left (\\varphi_{2}{\\left (x \\right )} \\right )} - dx \\left(- \\sin{\\left (\\varphi_{1}{\\left (x \\right )} \\right )} \\cos{\\left (\\varphi_{2}{\\left (x \\right )} \\right )} \\frac{d}{d x} \\varphi_{3}{\\left (x \\right )} + \\cos{\\left (\\varphi_{1}{\\left (x \\right )} \\right )} \\frac{d}{d x} \\varphi_{2}{\\left (x \\right )}\\right) & d\\phi_2 \\sin{\\left (\\varphi_{1}{\\left (x \\right )} \\right )} + d\\phi_3 \\cos{\\left (\\varphi_{1}{\\left (x \\right )} \\right )} \\cos{\\left (\\varphi_{2}{\\left (x \\right )} \\right )} - dx \\left(\\sin{\\left (\\varphi_{1}{\\left (x \\right )} \\right )} \\frac{d}{d x} \\varphi_{2}{\\left (x \\right )} + \\cos{\\left (\\varphi_{1}{\\left (x \\right )} \\right )} \\cos{\\left (\\varphi_{2}{\\left (x \\right )} \\right )} \\frac{d}{d x} \\varphi_{3}{\\left (x \\right )}\\right) & 0\\end{matrix}\\right]$$"
      ],
      "text/plain": [
       "⎡                                                                             \n",
       "⎢                                                                           0 \n",
       "⎢                                                                             \n",
       "⎢                                                                             \n",
       "⎢                                                                      ⎛      \n",
       "⎢                                 d\\phi₁ + d\\phi₃⋅sin(varphi₂(x)) - dx⋅⎜sin(va\n",
       "⎢                                                                      ⎝      \n",
       "⎢                                                                             \n",
       "⎢                                                                     ⎛       \n",
       "⎢d\\phi₂⋅cos(varphi₁(x)) - d\\phi₃⋅sin(varphi₁(x))⋅cos(varphi₂(x)) - dx⋅⎜- sin(v\n",
       "⎣                                                                     ⎝       \n",
       "\n",
       "                                                                              \n",
       "                                                                              \n",
       "                                                                              \n",
       "                                                                              \n",
       "          d                d             ⎞                                    \n",
       "rphi₂(x))⋅──(varphi₃(x)) + ──(varphi₁(x))⎟                                    \n",
       "          dx               dx            ⎠                                    \n",
       "                                                                              \n",
       "                           d                                d             ⎞   \n",
       "arphi₁(x))⋅cos(varphi₂(x))⋅──(varphi₃(x)) + cos(varphi₁(x))⋅──(varphi₂(x))⎟  d\n",
       "                           dx                               dx            ⎠   \n",
       "\n",
       "                                                                   ⎛          \n",
       "                             -d\\phi₁ - d\\phi₃⋅sin(varphi₂(x)) - dx⋅⎜- sin(varp\n",
       "                                                                   ⎝          \n",
       "                                                                              \n",
       "                                                                              \n",
       "                                                                         0    \n",
       "                                                                              \n",
       "                                                                              \n",
       "                                                                    ⎛         \n",
       "\\phi₂⋅sin(varphi₁(x)) + d\\phi₃⋅cos(varphi₁(x))⋅cos(varphi₂(x)) - dx⋅⎜sin(varph\n",
       "                                                                    ⎝         \n",
       "\n",
       "        d                d             ⎞                                      \n",
       "hi₂(x))⋅──(varphi₃(x)) - ──(varphi₁(x))⎟                                  -d\\p\n",
       "        dx               dx            ⎠                                      \n",
       "                                                                              \n",
       "                                                                              \n",
       "                                                                         -d\\ph\n",
       "                                                                              \n",
       "                                                                              \n",
       "       d                                                d             ⎞       \n",
       "i₁(x))⋅──(varphi₂(x)) + cos(varphi₁(x))⋅cos(varphi₂(x))⋅──(varphi₃(x))⎟       \n",
       "       dx                                               dx            ⎠       \n",
       "\n",
       "                                                                  ⎛           \n",
       "hi₂⋅cos(varphi₁(x)) + d\\phi₃⋅sin(varphi₁(x))⋅cos(varphi₂(x)) - dx⋅⎜sin(varphi₁\n",
       "                                                                  ⎝           \n",
       "                                                                              \n",
       "                                                                 ⎛            \n",
       "i₂⋅sin(varphi₁(x)) - d\\phi₃⋅cos(varphi₁(x))⋅cos(varphi₂(x)) - dx⋅⎜- sin(varphi\n",
       "                                                                 ⎝            \n",
       "                                                                              \n",
       "                                                                              \n",
       "                                                                       0      \n",
       "                                                                              \n",
       "\n",
       "                     d                                d             ⎞ ⎤\n",
       "(x))⋅cos(varphi₂(x))⋅──(varphi₃(x)) - cos(varphi₁(x))⋅──(varphi₂(x))⎟ ⎥\n",
       "                     dx                               dx            ⎠ ⎥\n",
       "                                                                      ⎥\n",
       "      d                                                d             ⎞⎥\n",
       "₁(x))⋅──(varphi₂(x)) - cos(varphi₁(x))⋅cos(varphi₂(x))⋅──(varphi₃(x))⎟⎥\n",
       "      dx                                               dx            ⎠⎥\n",
       "                                                                      ⎥\n",
       "                                                                      ⎥\n",
       "                                                                      ⎥\n",
       "                                                                      ⎦"
      ]
     },
     "execution_count": 19,
     "metadata": {},
     "output_type": "execute_result"
    }
   ],
   "source": [
    "A"
   ]
  },
  {
   "cell_type": "code",
   "execution_count": null,
   "metadata": {
    "collapsed": true
   },
   "outputs": [],
   "source": []
  }
 ],
 "metadata": {
  "kernelspec": {
   "display_name": "Python 2.7",
   "language": "python",
   "name": "python2"
  },
  "language_info": {
   "codemirror_mode": {
    "name": "ipython",
    "version": 2
   },
   "file_extension": ".py",
   "mimetype": "text/x-python",
   "name": "python",
   "nbconvert_exporter": "python",
   "pygments_lexer": "ipython2",
   "version": "2.7.15"
  }
 },
 "nbformat": 4,
 "nbformat_minor": 2
}

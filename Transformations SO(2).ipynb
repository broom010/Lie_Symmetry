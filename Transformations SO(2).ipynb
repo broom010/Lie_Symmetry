{
 "cells": [
  {
   "cell_type": "code",
   "execution_count": 1,
   "metadata": {
    "collapsed": true
   },
   "outputs": [],
   "source": [
    "import numpy as np\n",
    "from sympy import *\n",
    "init_printing()"
   ]
  },
  {
   "cell_type": "code",
   "execution_count": 37,
   "metadata": {
    "collapsed": true
   },
   "outputs": [],
   "source": [
    "x = symbols('x')\n",
    "dx = symbols('dx', commutative=False)\n",
    "x_new = symbols('\\\\widetilde{x}')\n",
    "x_0 = symbols('x^0')\n",
    "u = symbols('u')\n",
    "u_x = symbols('u_x')\n",
    "\n",
    "a = symbols('a')\n",
    "psi = symbols('psi')\n",
    "\n",
    "phi = Function('phi')('x')\n",
    "dp = symbols('d\\\\phi')"
   ]
  },
  {
   "cell_type": "code",
   "execution_count": 9,
   "metadata": {},
   "outputs": [],
   "source": [
    "X = x + a\n",
    "U = (F11*sin(psi) + F21*cos(psi)).subs({F11:F11_x*x+(F11-F11_x*x_0),F21:F21_x*x+(F21-F21_x*x_0)})"
   ]
  },
  {
   "cell_type": "code",
   "execution_count": 10,
   "metadata": {},
   "outputs": [
    {
     "data": {
      "image/png": "[encoded data removed]",
      "text/latex": [
       "$$F_{11 x} \\sin{\\left (\\psi \\right )} + F_{21 x} \\cos{\\left (\\psi \\right )}$$"
      ],
      "text/plain": [
       "F₁₁ ₓ⋅sin(ψ) + F₂₁ ₓ⋅cos(ψ)"
      ]
     },
     "execution_count": 10,
     "metadata": {},
     "output_type": "execute_result"
    }
   ],
   "source": [
    "diff(simplify(U.subs({x:x_new-a})),x_new)"
   ]
  },
  {
   "cell_type": "code",
   "execution_count": 21,
   "metadata": {
    "collapsed": true
   },
   "outputs": [],
   "source": [
    "F11 = symbols('F11')\n",
    "F12 = symbols('F12')\n",
    "F21 = symbols('F21')\n",
    "F22 = symbols('F22')\n",
    "\n",
    "F11_x = symbols('F11_x')\n",
    "F12_x = symbols('F12_x')\n",
    "F21_x = symbols('F21_x')\n",
    "F22_x = symbols('F22_x')\n",
    "\n",
    "F = Matrix([[F11,F12],[F21,F22]])\n",
    "F = Matrix([[cos(phi),-sin(phi)],[sin(phi),cos(phi)]])\n",
    "R = Matrix([[cos(psi),-sin(psi)],[sin(psi),cos(psi)]])"
   ]
  },
  {
   "cell_type": "code",
   "execution_count": 22,
   "metadata": {},
   "outputs": [
    {
     "name": "stdout",
     "output_type": "stream",
     "text": [
      "\\sin{\\left (\\psi \\right )} \\cos{\\left (\\phi{\\left (x \\right )} \\right )} + \\sin{\\left (\\phi{\\left (x \\right )} \\right )} \\cos{\\left (\\psi \\right )}\n"
     ]
    }
   ],
   "source": [
    "print(latex((R*F)[1,0]))"
   ]
  },
  {
   "cell_type": "code",
   "execution_count": 23,
   "metadata": {},
   "outputs": [
    {
     "data": {
      "image/png": "[encoded data removed]",
      "text/latex": [
       "$$\\sin{\\left (\\psi \\right )} \\cos{\\left (\\phi{\\left (x \\right )} \\right )} + \\sin{\\left (\\phi{\\left (x \\right )} \\right )} \\cos{\\left (\\psi \\right )}$$"
      ],
      "text/plain": [
       "sin(ψ)⋅cos(φ(x)) + sin(φ(x))⋅cos(ψ)"
      ]
     },
     "execution_count": 23,
     "metadata": {},
     "output_type": "execute_result"
    }
   ],
   "source": [
    "(R*F)[1,0]"
   ]
  },
  {
   "cell_type": "code",
   "execution_count": 24,
   "metadata": {},
   "outputs": [
    {
     "data": {
      "image/png": "[encoded data removed]",
      "text/latex": [
       "$$- u \\sin{\\left (\\psi \\right )} + x \\cos{\\left (\\psi \\right )}$$"
      ],
      "text/plain": [
       "-u⋅sin(ψ) + x⋅cos(ψ)"
      ]
     },
     "execution_count": 24,
     "metadata": {},
     "output_type": "execute_result"
    }
   ],
   "source": [
    "(R*Matrix([x,u]))[0,0]"
   ]
  },
  {
   "cell_type": "code",
   "execution_count": 25,
   "metadata": {},
   "outputs": [
    {
     "data": {
      "image/png": "[encoded data removed]",
      "text/latex": [
       "$$\\left[\\begin{matrix}- d\\phi \\sin{\\left (\\phi{\\left (x \\right )} \\right )} \\frac{d}{d x} \\phi{\\left (x \\right )} - d\\phi \\cos{\\left (\\phi{\\left (x \\right )} \\right )} \\frac{d}{d x} \\phi{\\left (x \\right )} & - d\\phi \\sin{\\left (\\phi{\\left (x \\right )} \\right )} \\frac{d}{d x} \\phi{\\left (x \\right )} - d\\phi \\cos{\\left (\\phi{\\left (x \\right )} \\right )} \\frac{d}{d x} \\phi{\\left (x \\right )}\\\\- d\\phi \\sin{\\left (\\phi{\\left (x \\right )} \\right )} \\frac{d}{d x} \\phi{\\left (x \\right )} + d\\phi \\cos{\\left (\\phi{\\left (x \\right )} \\right )} \\frac{d}{d x} \\phi{\\left (x \\right )} & - d\\phi \\sin{\\left (\\phi{\\left (x \\right )} \\right )} \\frac{d}{d x} \\phi{\\left (x \\right )} + d\\phi \\cos{\\left (\\phi{\\left (x \\right )} \\right )} \\frac{d}{d x} \\phi{\\left (x \\right )}\\end{matrix}\\right]$$"
      ],
      "text/plain": [
       "⎡                  d                          d                           d   \n",
       "⎢- d\\phi⋅sin(φ(x))⋅──(φ(x)) - d\\phi⋅cos(φ(x))⋅──(φ(x))  - d\\phi⋅sin(φ(x))⋅──(φ\n",
       "⎢                  dx                         dx                          dx  \n",
       "⎢                                                                             \n",
       "⎢                  d                          d                           d   \n",
       "⎢- d\\phi⋅sin(φ(x))⋅──(φ(x)) + d\\phi⋅cos(φ(x))⋅──(φ(x))  - d\\phi⋅sin(φ(x))⋅──(φ\n",
       "⎣                  dx                         dx                          dx  \n",
       "\n",
       "                       d       ⎤\n",
       "(x)) - d\\phi⋅cos(φ(x))⋅──(φ(x))⎥\n",
       "                       dx      ⎥\n",
       "                               ⎥\n",
       "                       d       ⎥\n",
       "(x)) + d\\phi⋅cos(φ(x))⋅──(φ(x))⎥\n",
       "                       dx      ⎦"
      ]
     },
     "execution_count": 25,
     "metadata": {},
     "output_type": "execute_result"
    }
   ],
   "source": [
    "diff(F)*Matrix([[dp, dp],[dp,dp]])"
   ]
  },
  {
   "cell_type": "code",
   "execution_count": 26,
   "metadata": {},
   "outputs": [
    {
     "data": {
      "image/png": "[encoded data removed]",
      "text/latex": [
       "$$\\left[\\begin{matrix}- d\\phi \\cos{\\left (2 \\phi{\\left (x \\right )} \\right )} \\frac{d}{d x} \\phi{\\left (x \\right )} & - 2 d\\phi \\sin^{2}{\\left (\\phi{\\left (x \\right )} + \\frac{\\pi}{4} \\right )} \\frac{d}{d x} \\phi{\\left (x \\right )}\\\\2 d\\phi \\cos^{2}{\\left (\\phi{\\left (x \\right )} + \\frac{\\pi}{4} \\right )} \\frac{d}{d x} \\phi{\\left (x \\right )} & d\\phi \\cos{\\left (2 \\phi{\\left (x \\right )} \\right )} \\frac{d}{d x} \\phi{\\left (x \\right )}\\end{matrix}\\right]$$"
      ],
      "text/plain": [
       "⎡                     d                       2⎛       π⎞ d       ⎤\n",
       "⎢  -d\\phi⋅cos(2⋅φ(x))⋅──(φ(x))    -2⋅d\\phi⋅sin ⎜φ(x) + ─⎟⋅──(φ(x))⎥\n",
       "⎢                     dx                       ⎝       4⎠ dx      ⎥\n",
       "⎢                                                                 ⎥\n",
       "⎢           2⎛       π⎞ d                              d          ⎥\n",
       "⎢2⋅d\\phi⋅cos ⎜φ(x) + ─⎟⋅──(φ(x))     d\\phi⋅cos(2⋅φ(x))⋅──(φ(x))   ⎥\n",
       "⎣            ⎝       4⎠ dx                             dx         ⎦"
      ]
     },
     "execution_count": 26,
     "metadata": {},
     "output_type": "execute_result"
    }
   ],
   "source": [
    "simplify(diff(F)*Matrix([[dp, dp],[dp,dp]])*simplify(F.inv()))"
   ]
  },
  {
   "cell_type": "code",
   "execution_count": 27,
   "metadata": {
    "collapsed": true
   },
   "outputs": [],
   "source": [
    "d11 = symbols('dF_11')\n",
    "d12 = symbols('dF_12')\n",
    "d21 = symbols('dF_21')\n",
    "d22 = symbols('dF_22')"
   ]
  },
  {
   "cell_type": "code",
   "execution_count": 28,
   "metadata": {},
   "outputs": [
    {
     "data": {
      "image/png": "[encoded data removed]",
      "text/latex": [
       "$$\\left[\\begin{matrix}dF_{11} \\cos{\\left (\\phi{\\left (x \\right )} \\right )} - dF_{12} \\sin{\\left (\\phi{\\left (x \\right )} \\right )} & dF_{11} \\sin{\\left (\\phi{\\left (x \\right )} \\right )} + dF_{12} \\cos{\\left (\\phi{\\left (x \\right )} \\right )}\\\\dF_{21} \\cos{\\left (\\phi{\\left (x \\right )} \\right )} - dF_{22} \\sin{\\left (\\phi{\\left (x \\right )} \\right )} & dF_{21} \\sin{\\left (\\phi{\\left (x \\right )} \\right )} + dF_{22} \\cos{\\left (\\phi{\\left (x \\right )} \\right )}\\end{matrix}\\right]$$"
      ],
      "text/plain": [
       "⎡dF₁₁⋅cos(φ(x)) - dF₁₂⋅sin(φ(x))  dF₁₁⋅sin(φ(x)) + dF₁₂⋅cos(φ(x))⎤\n",
       "⎢                                                                ⎥\n",
       "⎣dF₂₁⋅cos(φ(x)) - dF₂₂⋅sin(φ(x))  dF₂₁⋅sin(φ(x)) + dF₂₂⋅cos(φ(x))⎦"
      ]
     },
     "execution_count": 28,
     "metadata": {},
     "output_type": "execute_result"
    }
   ],
   "source": [
    "Matrix([[d11,d12],[d21,d22]])*F.transpose()"
   ]
  },
  {
   "cell_type": "code",
   "execution_count": 33,
   "metadata": {},
   "outputs": [
    {
     "data": {
      "image/png": "[encoded data removed]",
      "text/latex": [
       "$$\\left[\\begin{matrix}0 & - d\\phi\\\\d\\phi & 0\\end{matrix}\\right]$$"
      ],
      "text/plain": [
       "⎡  0    -d\\phi⎤\n",
       "⎢             ⎥\n",
       "⎣d\\phi    0   ⎦"
      ]
     },
     "execution_count": 33,
     "metadata": {},
     "output_type": "execute_result"
    }
   ],
   "source": [
    "F = Matrix([[cos(phi),-sin(phi)],[sin(phi),cos(phi)]])\n",
    "simplify(diff(F)*F.transpose()).subs({diff(phi,x):dp})"
   ]
  },
  {
   "cell_type": "code",
   "execution_count": 32,
   "metadata": {},
   "outputs": [
    {
     "data": {
      "image/png": "[encoded data removed]",
      "text/latex": [
       "$$\\left[\\begin{matrix}0 & - \\frac{d}{d x} \\phi{\\left (x \\right )}\\\\\\frac{d}{d x} \\phi{\\left (x \\right )} & 0\\end{matrix}\\right]$$"
      ],
      "text/plain": [
       "⎡           d       ⎤\n",
       "⎢   0      -──(φ(x))⎥\n",
       "⎢           dx      ⎥\n",
       "⎢                   ⎥\n",
       "⎢d                  ⎥\n",
       "⎢──(φ(x))      0    ⎥\n",
       "⎣dx                 ⎦"
      ]
     },
     "execution_count": 32,
     "metadata": {},
     "output_type": "execute_result"
    }
   ],
   "source": [
    "simplify(diff(F,x)*F.transpose())"
   ]
  },
  {
   "cell_type": "code",
   "execution_count": 38,
   "metadata": {},
   "outputs": [
    {
     "data": {
      "image/png": "[encoded data removed]",
      "text/latex": [
       "$$\\left[\\begin{matrix}0 & - d\\phi + \\frac{d}{d x} \\phi{\\left (x \\right )} dx\\\\d\\phi - \\frac{d}{d x} \\phi{\\left (x \\right )} dx & 0\\end{matrix}\\right]$$"
      ],
      "text/plain": [
       "⎡                              d          ⎤\n",
       "⎢         0           -d\\phi + ──(φ(x))⋅dx⎥\n",
       "⎢                              dx         ⎥\n",
       "⎢                                         ⎥\n",
       "⎢        d                                ⎥\n",
       "⎢d\\phi - ──(φ(x))⋅dx           0          ⎥\n",
       "⎣        dx                               ⎦"
      ]
     },
     "execution_count": 38,
     "metadata": {},
     "output_type": "execute_result"
    }
   ],
   "source": [
    "simplify(diff(F)*F.transpose()).subs({diff(phi,x):dp})-simplify(diff(F,x)*F.transpose())*dx"
   ]
  },
  {
   "cell_type": "code",
   "execution_count": null,
   "metadata": {
    "collapsed": true
   },
   "outputs": [],
   "source": []
  }
 ],
 "metadata": {
  "kernelspec": {
   "display_name": "Python 2.7",
   "language": "python",
   "name": "python2"
  },
  "language_info": {
   "codemirror_mode": {
    "name": "ipython",
    "version": 2
   },
   "file_extension": ".py",
   "mimetype": "text/x-python",
   "name": "python",
   "nbconvert_exporter": "python",
   "pygments_lexer": "ipython2",
   "version": "2.7.15"
  }
 },
 "nbformat": 4,
 "nbformat_minor": 2
}

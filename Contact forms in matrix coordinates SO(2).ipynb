{
 "cells": [
  {
   "cell_type": "code",
   "execution_count": 1,
   "metadata": {},
   "outputs": [
    {
     "data": {
      "text/html": [
       "<style>.container { width:80% !important; }</style>"
      ],
      "text/plain": [
       "<IPython.core.display.HTML object>"
      ]
     },
     "metadata": {},
     "output_type": "display_data"
    }
   ],
   "source": [
    "from sympy import *\n",
    "from itertools import *\n",
    "import LieSympy as lp\n",
    "import numpy as np\n",
    "init_printing()\n",
    "\n",
    "from IPython.core.display import display, HTML\n",
    "display(HTML(\"<style>.container { width:80% !important; }</style>\"))"
   ]
  },
  {
   "cell_type": "code",
   "execution_count": 11,
   "metadata": {
    "collapsed": true
   },
   "outputs": [],
   "source": [
    "x = symbols('x')\n",
    "u = Function('u')('x')\n",
    "phi = Function('varphi')('x')\n",
    "\n",
    "a = symbols('a')\n",
    "b = symbols('b')\n",
    "psi = symbols('psi')\n",
    "\n",
    "dphi = symbols('d\\\\varphi')\n",
    "dx = symbols('dx')"
   ]
  },
  {
   "cell_type": "code",
   "execution_count": 3,
   "metadata": {
    "collapsed": true
   },
   "outputs": [],
   "source": [
    "F = Matrix([[cos(phi),-sin(phi)],[sin(phi),cos(phi)]])\n",
    "\n",
    "R = Matrix([[cos(psi),-sin(psi)],[sin(psi),cos(psi)]])\n",
    "\n",
    "z = Matrix([x,u])\n",
    "v = Matrix([a,b])"
   ]
  },
  {
   "cell_type": "code",
   "execution_count": 6,
   "metadata": {
    "collapsed": true
   },
   "outputs": [],
   "source": [
    "X = simplify((R*z+v).row(0)[0])\n",
    "U = simplify((R*z+v).row(1)[0])\n",
    "F_new = R*F\n",
    "\n",
    "Dx = diff(X,x)\n",
    "U_x = simplify(diff(U,x)/Dx)\n",
    "U_xx = diff(U_x,x)/Dx\n",
    "\n",
    "F_new_x = diff(F_new,x)/Dx\n",
    "F_new_xx = diff(F_new_x,x)/Dx\n",
    "\n",
    "identity = {a:0, b:0, psi:0}\n",
    "frame = {a:-(F.transpose()*z)[0,0], b:-(F.transpose()*z)[1,0], psi:-phi}"
   ]
  },
  {
   "cell_type": "markdown",
   "metadata": {},
   "source": [
    "# Basic Contact form $\\theta^\\varphi$"
   ]
  },
  {
   "cell_type": "code",
   "execution_count": 12,
   "metadata": {},
   "outputs": [],
   "source": [
    "F_x = simplify(diff(F)*F.inv())"
   ]
  },
  {
   "cell_type": "code",
   "execution_count": 148,
   "metadata": {},
   "outputs": [
    {
     "data": {
      "image/png": "[encoded data removed]",
      "text/latex": [
       "$$\\left[\\begin{matrix}0 &  \\varphi_x\\ dx - d\\varphi\\\\-  \\varphi_x\\ dx + d\\varphi & 0\\end{matrix}\\right]$$"
      ],
      "text/plain": [
       "⎡            0                \\varphi_x\\⋅dx - d\\varphi⎤\n",
       "⎢                                                     ⎥\n",
       "⎣- \\varphi_x\\⋅dx + d\\varphi              0            ⎦"
      ]
     },
     "execution_count": 148,
     "metadata": {},
     "output_type": "execute_result"
    }
   ],
   "source": [
    "dF = Matrix([[0,-dphi],[dphi,0]])\n",
    "(dF - F_x*dx).subs({diff(phi,x):symbols('\\\\ \\\\varphi_x\\\\')})"
   ]
  },
  {
   "cell_type": "code",
   "execution_count": 206,
   "metadata": {
    "collapsed": true
   },
   "outputs": [],
   "source": [
    "A = [['x'],['u','varphi']]\n",
    "n = 2\n",
    "A_flat = [item for sublist in A for item in sublist]\n",
    "A_jet = [lp.str_usc(A, p) for p in lp.fullJet(A[0], A[1], n-1)]\n",
    "A_jet_no_underscore = lp.fullJet(A[0], A[1], n-1)\n",
    "S = [lp.str_sym(A, n), lp.reverse_dict(lp.str_sym(A, n)), lp.str_fun(A, n), lp.reverse_dict(lp.str_fun(A, n)), lp.sym_fun(A, n), lp.reverse_dict(lp.sym_fun(A, n))]\n",
    "diff_symbs = [symbols('d' + c, commutative=False) for c in A_flat]"
   ]
  },
  {
   "cell_type": "code",
   "execution_count": 208,
   "metadata": {},
   "outputs": [
    {
     "data": {
      "image/png": "[encoded data removed]",
      "text/latex": [
       "$$\\frac{d}{d x} \\varphi{\\left (x \\right )} \\vartheta^{u}$$"
      ],
      "text/plain": [
       "d                        \n",
       "──(varphi(x))⋅vartheta__u\n",
       "dx                       "
      ]
     },
     "execution_count": 208,
     "metadata": {},
     "output_type": "execute_result"
    }
   ],
   "source": [
    "v = [-symbols('u'), x, symbols('phi')]\n",
    "v1 = lp.Prolong([['x'],['u','varphi']],v,1)\n",
    "w = [-diff(phi,x), 0, 1]\n",
    "Lie_derivative(lp.Prolong([['x'],['u','varphi']],v,1),w)"
   ]
  },
  {
   "cell_type": "markdown",
   "metadata": {},
   "source": [
    "# Infinitesimal generator $v_3$"
   ]
  },
  {
   "cell_type": "code",
   "execution_count": 238,
   "metadata": {},
   "outputs": [],
   "source": [
    "F11 = Function('F11')('x')\n",
    "F12 = Function('F12')('x')\n",
    "F21 = Function('F21')('x')\n",
    "F22 = Function('F22')('x')\n",
    "\n",
    "F11_x = Function('F11_x')('x')\n",
    "F12_x = Function('F12_x')('x')\n",
    "F21_x = Function('F21_x')('x')\n",
    "F22_x = Function('F22_x')('x')\n",
    "\n",
    "d11 = symbols('d_{F_{11}}')\n",
    "d12 = symbols('d_{F_{12}}')\n",
    "d21 = symbols('d_{F_{21}}')\n",
    "d22 = symbols('d_{F_{22}}')\n",
    "\n",
    "v1 = [-symbols('u'),x,-symbols('F21'),-symbols('F22'),symbols('F11'),symbols('F12')]\n",
    "\n",
    "A = [['x'], ['u','F11','F12','F21','F22']]"
   ]
  },
  {
   "cell_type": "code",
   "execution_count": 239,
   "metadata": {},
   "outputs": [
    {
     "data": {
      "image/png": "[encoded data removed]",
      "text/latex": [
       "$$\\left [ - u, \\quad x, \\quad - F_{21}, \\quad - F_{22}, \\quad F_{11}, \\quad F_{12}, \\quad u_{x}^{2} + 1, \\quad F_{11 x} u_{x} - F_{21 x}, \\quad F_{12 x} u_{x} - F_{22 x}, \\quad F_{11 x} + F_{21 x} u_{x}, \\quad F_{12 x} + F_{22 x} u_{x}\\right ]$$"
      ],
      "text/plain": [
       "⎡                               2                                             \n",
       "⎣-u, x, -F₂₁, -F₂₂, F₁₁, F₁₂, uₓ  + 1, F₁₁ ₓ⋅uₓ - F₂₁ ₓ, F₁₂ ₓ⋅uₓ - F₂₂ ₓ, F₁₁\n",
       "\n",
       "                               ⎤\n",
       " ₓ + F₂₁ ₓ⋅uₓ, F₁₂ ₓ + F₂₂ ₓ⋅uₓ⎦"
      ]
     },
     "execution_count": 239,
     "metadata": {},
     "output_type": "execute_result"
    }
   ],
   "source": [
    "pr_v1 = lp.Prolong(A, v1, 1)\n",
    "pr_v1"
   ]
  },
  {
   "cell_type": "code",
   "execution_count": 150,
   "metadata": {},
   "outputs": [
    {
     "data": {
      "image/png": "[encoded data removed]",
      "text/latex": [
       "$$\\left[\\begin{matrix}- \\operatorname{F_{21}}{\\left (x \\right )} & - \\operatorname{F_{22}}{\\left (x \\right )}\\\\\\operatorname{F_{11}}{\\left (x \\right )} & \\operatorname{F_{12}}{\\left (x \\right )}\\end{matrix}\\right]$$"
      ],
      "text/plain": [
       "⎡-F₂₁(x)  -F₂₂(x)⎤\n",
       "⎢                ⎥\n",
       "⎣F₁₁(x)   F₁₂(x) ⎦"
      ]
     },
     "execution_count": 150,
     "metadata": {},
     "output_type": "execute_result"
    }
   ],
   "source": [
    "Matrix([pr_v1[2:4],pr_v1[4:6]])"
   ]
  },
  {
   "cell_type": "code",
   "execution_count": 151,
   "metadata": {},
   "outputs": [
    {
     "data": {
      "image/png": "[encoded data removed]",
      "text/latex": [
       "$$\\left[\\begin{matrix}F_{11 x} u_{x} - \\frac{d}{d x} \\operatorname{F_{21}}{\\left (x \\right )} & F_{12 x} u_{x} - \\frac{d}{d x} \\operatorname{F_{22}}{\\left (x \\right )}\\\\F_{21 x} u_{x} + \\frac{d}{d x} \\operatorname{F_{11}}{\\left (x \\right )} & F_{22 x} u_{x} + \\frac{d}{d x} \\operatorname{F_{12}}{\\left (x \\right )}\\end{matrix}\\right]$$"
      ],
      "text/plain": [
       "⎡           d                      d         ⎤\n",
       "⎢F₁₁ ₓ⋅uₓ - ──(F₂₁(x))  F₁₂ ₓ⋅uₓ - ──(F₂₂(x))⎥\n",
       "⎢           dx                     dx        ⎥\n",
       "⎢                                            ⎥\n",
       "⎢           d                      d         ⎥\n",
       "⎢F₂₁ ₓ⋅uₓ + ──(F₁₁(x))  F₂₂ ₓ⋅uₓ + ──(F₁₂(x))⎥\n",
       "⎣           dx                     dx        ⎦"
      ]
     },
     "execution_count": 151,
     "metadata": {},
     "output_type": "execute_result"
    }
   ],
   "source": [
    "Matrix([pr_v1[7:9],pr_v1[9:11]])"
   ]
  },
  {
   "cell_type": "code",
   "execution_count": 66,
   "metadata": {},
   "outputs": [],
   "source": [
    "B = Matrix([[F11,F12],[F21,F22]])"
   ]
  },
  {
   "cell_type": "code",
   "execution_count": 309,
   "metadata": {},
   "outputs": [
    {
     "data": {
      "image/png": "[encoded data removed]",
      "text/latex": [
       "$$\\left[\\begin{matrix}- \\operatorname{F_{21}}{\\left (x \\right )} \\frac{d}{d x} \\operatorname{F_{12}}{\\left (x \\right )} + \\operatorname{F_{22}}{\\left (x \\right )} \\frac{d}{d x} \\operatorname{F_{11}}{\\left (x \\right )} & \\operatorname{F_{11}}{\\left (x \\right )} \\frac{d}{d x} \\operatorname{F_{12}}{\\left (x \\right )} - \\operatorname{F_{12}}{\\left (x \\right )} \\frac{d}{d x} \\operatorname{F_{11}}{\\left (x \\right )}\\\\- \\operatorname{F_{21}}{\\left (x \\right )} \\frac{d}{d x} \\operatorname{F_{22}}{\\left (x \\right )} + \\operatorname{F_{22}}{\\left (x \\right )} \\frac{d}{d x} \\operatorname{F_{21}}{\\left (x \\right )} & \\operatorname{F_{11}}{\\left (x \\right )} \\frac{d}{d x} \\operatorname{F_{22}}{\\left (x \\right )} - \\operatorname{F_{12}}{\\left (x \\right )} \\frac{d}{d x} \\operatorname{F_{21}}{\\left (x \\right )}\\end{matrix}\\right]$$"
      ],
      "text/plain": [
       "⎡         d                   d                  d                   d        \n",
       "⎢- F₂₁(x)⋅──(F₁₂(x)) + F₂₂(x)⋅──(F₁₁(x))  F₁₁(x)⋅──(F₁₂(x)) - F₁₂(x)⋅──(F₁₁(x)\n",
       "⎢         dx                  dx                 dx                  dx       \n",
       "⎢                                                                             \n",
       "⎢         d                   d                  d                   d        \n",
       "⎢- F₂₁(x)⋅──(F₂₂(x)) + F₂₂(x)⋅──(F₂₁(x))  F₁₁(x)⋅──(F₂₂(x)) - F₁₂(x)⋅──(F₂₁(x)\n",
       "⎣         dx                  dx                 dx                  dx       \n",
       "\n",
       " ⎤\n",
       ")⎥\n",
       " ⎥\n",
       " ⎥\n",
       " ⎥\n",
       ")⎥\n",
       " ⎦"
      ]
     },
     "execution_count": 309,
     "metadata": {},
     "output_type": "execute_result"
    }
   ],
   "source": [
    "T1 = diff(B,x)*(B.inv()).subs({F11*F22-F12*F21:1, diff(F11,x):d11, diff(F12,x):d12, diff(F21,x):d21, diff(F22,x):d22})\n",
    "T1"
   ]
  },
  {
   "cell_type": "code",
   "execution_count": 279,
   "metadata": {},
   "outputs": [
    {
     "data": {
      "image/png": "[encoded data removed]",
      "text/latex": [
       "$$\\left[\\begin{matrix}dx \\left(\\operatorname{F_{21}}{\\left (x \\right )} \\frac{d}{d x} \\operatorname{F_{12}}{\\left (x \\right )} - \\operatorname{F_{22}}{\\left (x \\right )} \\frac{d}{d x} \\operatorname{F_{11}}{\\left (x \\right )}\\right) - \\operatorname{F_{21}}{\\left (x \\right )} \\frac{d}{d x} \\operatorname{F_{12}}{\\left (x \\right )} + \\operatorname{F_{22}}{\\left (x \\right )} \\frac{d}{d x} \\operatorname{F_{11}}{\\left (x \\right )} & - dx \\left(\\operatorname{F_{11}}{\\left (x \\right )} \\frac{d}{d x} \\operatorname{F_{12}}{\\left (x \\right )} - \\operatorname{F_{12}}{\\left (x \\right )} \\frac{d}{d x} \\operatorname{F_{11}}{\\left (x \\right )}\\right) + \\operatorname{F_{11}}{\\left (x \\right )} \\frac{d}{d x} \\operatorname{F_{12}}{\\left (x \\right )} - \\operatorname{F_{12}}{\\left (x \\right )} \\frac{d}{d x} \\operatorname{F_{11}}{\\left (x \\right )}\\\\dx \\left(\\operatorname{F_{21}}{\\left (x \\right )} \\frac{d}{d x} \\operatorname{F_{22}}{\\left (x \\right )} - \\operatorname{F_{22}}{\\left (x \\right )} \\frac{d}{d x} \\operatorname{F_{21}}{\\left (x \\right )}\\right) - \\operatorname{F_{21}}{\\left (x \\right )} \\frac{d}{d x} \\operatorname{F_{22}}{\\left (x \\right )} + \\operatorname{F_{22}}{\\left (x \\right )} \\frac{d}{d x} \\operatorname{F_{21}}{\\left (x \\right )} & - dx \\left(\\operatorname{F_{11}}{\\left (x \\right )} \\frac{d}{d x} \\operatorname{F_{22}}{\\left (x \\right )} - \\operatorname{F_{12}}{\\left (x \\right )} \\frac{d}{d x} \\operatorname{F_{21}}{\\left (x \\right )}\\right) + \\operatorname{F_{11}}{\\left (x \\right )} \\frac{d}{d x} \\operatorname{F_{22}}{\\left (x \\right )} - \\operatorname{F_{12}}{\\left (x \\right )} \\frac{d}{d x} \\operatorname{F_{21}}{\\left (x \\right )}\\end{matrix}\\right]$$"
      ],
      "text/plain": [
       "⎡   ⎛       d                   d         ⎞          d                   d    \n",
       "⎢dx⋅⎜F₂₁(x)⋅──(F₁₂(x)) - F₂₂(x)⋅──(F₁₁(x))⎟ - F₂₁(x)⋅──(F₁₂(x)) + F₂₂(x)⋅──(F₁\n",
       "⎢   ⎝       dx                  dx        ⎠          dx                  dx   \n",
       "⎢                                                                             \n",
       "⎢   ⎛       d                   d         ⎞          d                   d    \n",
       "⎢dx⋅⎜F₂₁(x)⋅──(F₂₂(x)) - F₂₂(x)⋅──(F₂₁(x))⎟ - F₂₁(x)⋅──(F₂₂(x)) + F₂₂(x)⋅──(F₂\n",
       "⎣   ⎝       dx                  dx        ⎠          dx                  dx   \n",
       "\n",
       "            ⎛       d                   d         ⎞          d                \n",
       "₁(x))  - dx⋅⎜F₁₁(x)⋅──(F₁₂(x)) - F₁₂(x)⋅──(F₁₁(x))⎟ + F₁₁(x)⋅──(F₁₂(x)) - F₁₂(\n",
       "            ⎝       dx                  dx        ⎠          dx               \n",
       "                                                                              \n",
       "            ⎛       d                   d         ⎞          d                \n",
       "₁(x))  - dx⋅⎜F₁₁(x)⋅──(F₂₂(x)) - F₁₂(x)⋅──(F₂₁(x))⎟ + F₁₁(x)⋅──(F₂₂(x)) - F₁₂(\n",
       "            ⎝       dx                  dx        ⎠          dx               \n",
       "\n",
       "   d         ⎤\n",
       "x)⋅──(F₁₁(x))⎥\n",
       "   dx        ⎥\n",
       "             ⎥\n",
       "   d         ⎥\n",
       "x)⋅──(F₂₁(x))⎥\n",
       "   dx        ⎦"
      ]
     },
     "execution_count": 279,
     "metadata": {},
     "output_type": "execute_result"
    }
   ],
   "source": [
    "T2 = simplify(diff(B,x)*(B.inv())).subs({F11*F22-F12*F21:1})\n",
    "simplify(T1-T2*dx)"
   ]
  },
  {
   "cell_type": "code",
   "execution_count": 328,
   "metadata": {},
   "outputs": [],
   "source": [
    "temp = simplify(T1.subs({diff(F11,x):symbols('\\\\ dF_11'),diff(F12,x):symbols('\\\\ dF_12'),diff(F21,x):symbols('\\\\ dF_21'),diff(F22,x):symbols('\\\\ dF_22')}).subs({F11:symbols('F_11'),F12:symbols('F_12'),F21:symbols('F_21'),F22:symbols('F_22')}))"
   ]
  },
  {
   "cell_type": "code",
   "execution_count": 349,
   "metadata": {},
   "outputs": [
    {
     "data": {
      "image/png": "[encoded data removed]",
      "text/latex": [
       "$$\\left[\\begin{matrix} dF_{11} F_{22} -  dF_{12} F_{21} - dx \\left( F_{11x} F_{22} -  F_{12x} F_{21}\\right) & -  dF_{11} F_{12} +  dF_{12} F_{11} + dx \\left( F_{11x} F_{12} -  F_{12x} F_{11}\\right)\\\\ dF_{21} F_{22} -  dF_{22} F_{21} - dx \\left( F_{21x} F_{22} -  F_{22x} F_{21}\\right) & -  dF_{21} F_{12} +  dF_{22} F_{11} + dx \\left( F_{21x} F_{12} -  F_{22x} F_{11}\\right)\\end{matrix}\\right]$$"
      ],
      "text/plain": [
       "⎡ dF₁₁⋅F₂₂ -  dF₁₂⋅F₂₁ - dx⋅( F_{11x}⋅F₂₂ -  F_{12x}⋅F₂₁)  - dF₁₁⋅F₁₂ +  dF₁₂⋅\n",
       "⎢                                                                             \n",
       "⎣ dF₂₁⋅F₂₂ -  dF₂₂⋅F₂₁ - dx⋅( F_{21x}⋅F₂₂ -  F_{22x}⋅F₂₁)  - dF₂₁⋅F₁₂ +  dF₂₂⋅\n",
       "\n",
       "F₁₁ + dx⋅( F_{11x}⋅F₁₂ -  F_{12x}⋅F₁₁)⎤\n",
       "                                      ⎥\n",
       "F₁₁ + dx⋅( F_{21x}⋅F₁₂ -  F_{22x}⋅F₁₁)⎦"
      ]
     },
     "execution_count": 349,
     "metadata": {},
     "output_type": "execute_result"
    }
   ],
   "source": [
    "simplify(temp-(T2.subs({diff(F11,x):symbols('\\\\ F_{11x}'), diff(F12,x):symbols('\\\\ F_{12x}'), diff(F21,x):symbols('\\\\ F_{21x}'), diff(F22,x):symbols('\\\\ F_{22x}')})).subs({F11:symbols('F_11'),F12:symbols('F_12'),F21:symbols('F_21'),F22:symbols('F_22')})*dx)"
   ]
  },
  {
   "cell_type": "code",
   "execution_count": 346,
   "metadata": {},
   "outputs": [
    {
     "data": {
      "image/png": "[encoded data removed]",
      "text/latex": [
       "$$\\left[\\begin{matrix}F_{11x} \\operatorname{F_{22}}{\\left (x \\right )} - F_{12x} \\operatorname{F_{21}}{\\left (x \\right )} & - F_{11x} \\operatorname{F_{12}}{\\left (x \\right )} + F_{12x} \\operatorname{F_{11}}{\\left (x \\right )}\\\\F_{21x} \\operatorname{F_{22}}{\\left (x \\right )} - F_{22x} \\operatorname{F_{21}}{\\left (x \\right )} & - F_{21x} \\operatorname{F_{12}}{\\left (x \\right )} + F_{22x} \\operatorname{F_{11}}{\\left (x \\right )}\\end{matrix}\\right]$$"
      ],
      "text/plain": [
       "⎡F_{11x}⋅F₂₂(x) - F_{12x}⋅F₂₁(x)  -F_{11x}⋅F₁₂(x) + F_{12x}⋅F₁₁(x)⎤\n",
       "⎢                                                                 ⎥\n",
       "⎣F_{21x}⋅F₂₂(x) - F_{22x}⋅F₂₁(x)  -F_{21x}⋅F₁₂(x) + F_{22x}⋅F₁₁(x)⎦"
      ]
     },
     "execution_count": 346,
     "metadata": {},
     "output_type": "execute_result"
    }
   ],
   "source": [
    "T2.xreplace({diff(F11,x):symbols('F_{11x}'), diff(F12,x):symbols('F_{12x}'), diff(F21,x):symbols('F_{21x}'), diff(F22,x):symbols('F_{22x}')})"
   ]
  },
  {
   "cell_type": "code",
   "execution_count": 345,
   "metadata": {},
   "outputs": [
    {
     "data": {
      "image/png": "[encoded data removed]",
      "text/latex": [
       "$$F_{11x}$$"
      ],
      "text/plain": [
       "F₁₁ₓ"
      ]
     },
     "execution_count": 345,
     "metadata": {},
     "output_type": "execute_result"
    }
   ],
   "source": [
    "symbols('F_11x')"
   ]
  },
  {
   "cell_type": "markdown",
   "metadata": {},
   "source": [
    "# Lie Derivatives"
   ]
  },
  {
   "cell_type": "code",
   "execution_count": 212,
   "metadata": {
    "collapsed": true
   },
   "outputs": [],
   "source": [
    "A = [['x'],['u','F11','F12','F21','F22']]\n",
    "n = 2\n",
    "A_flat = [item for sublist in A for item in sublist]\n",
    "A_jet = [lp.str_usc(A, p) for p in lp.fullJet(A[0], A[1], n-1)]\n",
    "A_jet_no_underscore = lp.fullJet(A[0], A[1], n-1)\n",
    "S = [lp.str_sym(A, n), lp.reverse_dict(lp.str_sym(A, n)), lp.str_fun(A, n), lp.reverse_dict(lp.str_fun(A, n)), lp.sym_fun(A, n), lp.reverse_dict(lp.sym_fun(A, n))]\n",
    "diff_symbs = [symbols('d' + c, commutative=False) for c in A_flat]"
   ]
  },
  {
   "cell_type": "code",
   "execution_count": 267,
   "metadata": {
    "collapsed": true
   },
   "outputs": [],
   "source": [
    "def interior_prod(v,w):\n",
    "    return [simplify(w[i]*v[i]) for i in range(len(w))]\n",
    "\n",
    "def ext_diff(f):\n",
    "    return [diff(f,symbols(var)) for var in A_jet]\n",
    "\n",
    "def two_form_diff(w):\n",
    "    C = []\n",
    "    for i in range(len(A_jet)):\n",
    "        vec = w+[0 for j in range(len(A_jet)-len(w))]\n",
    "        temp = [diff(vec[i], symbols(var)) for var in A_jet]\n",
    "        temp[i] = 0\n",
    "        C.append(temp)\n",
    "    return Matrix(C)-Matrix(C).transpose()\n",
    "\n",
    "def int_two_prod(v,w):\n",
    "    W = [0 for i in range(len(A_jet))]\n",
    "    O = two_form_diff(w).transpose()\n",
    "    for i in range(len(W)):\n",
    "        W[i] = -sum(interior_prod(v,O[i,:]))\n",
    "    return W\n",
    "\n",
    "def Lie_derivative(v,w):\n",
    "    temp = [simplify(c+d) for c,d in zip(ext_diff(sum(interior_prod(v,w))),int_two_prod(v,w))]\n",
    "    symbs = lp.Contact_sym(A, n)\n",
    "    for i in range(1,len(symbs)):\n",
    "        symbs[i] = symbols(str(symbs[i]),commutative=False)\n",
    "    return sum([c*d for c,d in zip(temp, symbs)])"
   ]
  },
  {
   "cell_type": "code",
   "execution_count": 268,
   "metadata": {
    "collapsed": true
   },
   "outputs": [],
   "source": [
    "w = [symbols('F21')*symbols('F22_x')-symbols('F22')*symbols('F21_x'), 0, 0, symbols('F22'), 0, -symbols('F21')]"
   ]
  },
  {
   "cell_type": "code",
   "execution_count": 269,
   "metadata": {},
   "outputs": [
    {
     "data": {
      "image/png": "[encoded data removed]",
      "text/latex": [
       "$$\\left(- F_{11} - F_{22}\\right) \\vartheta^{F22} + \\left(F_{12} - F_{21}\\right) \\vartheta^{F12} + \\left(- F_{21} F_{22 x} + F_{21 x} F_{22}\\right) \\vartheta^{u}$$"
      ],
      "text/plain": [
       "(-F₁₁ - F₂₂)⋅vartheta__F22 + (F₁₂ - F₂₁)⋅vartheta__F12 + (-F₂₁⋅F₂₂ ₓ + F₂₁ ₓ⋅F\n",
       "₂₂)⋅vartheta__u"
      ]
     },
     "execution_count": 269,
     "metadata": {},
     "output_type": "execute_result"
    }
   ],
   "source": [
    "Lie_derivative(pr_v1,w)"
   ]
  },
  {
   "cell_type": "code",
   "execution_count": 99,
   "metadata": {},
   "outputs": [
    {
     "data": {
      "image/png": "[encoded data removed]",
      "text/latex": [
       "$$\\left [ - u, \\quad x, \\quad - F_{21}, \\quad - F_{22}, \\quad F_{11}, \\quad F_{12}, \\quad u_{x}^{2} + 1, \\quad F_{11 x} u_{x} - F_{21 x}, \\quad F_{12 x} u_{x} - F_{22 x}, \\quad F_{11 x} + F_{21 x} u_{x}, \\quad F_{12 x} + F_{22 x} u_{x}\\right ]$$"
      ],
      "text/plain": [
       "⎡                               2                                             \n",
       "⎣-u, x, -F₂₁, -F₂₂, F₁₁, F₁₂, uₓ  + 1, F₁₁ ₓ⋅uₓ - F₂₁ ₓ, F₁₂ ₓ⋅uₓ - F₂₂ ₓ, F₁₁\n",
       "\n",
       "                               ⎤\n",
       " ₓ + F₂₁ ₓ⋅uₓ, F₁₂ ₓ + F₂₂ ₓ⋅uₓ⎦"
      ]
     },
     "execution_count": 99,
     "metadata": {},
     "output_type": "execute_result"
    }
   ],
   "source": [
    "pr_v1"
   ]
  },
  {
   "cell_type": "code",
   "execution_count": 270,
   "metadata": {},
   "outputs": [
    {
     "data": {
      "image/png": "[encoded data removed]",
      "text/latex": [
       "$$\\left [ F_{11} F_{22 x} - F_{12} F_{21 x} + F_{21} \\left(F_{12 x} + F_{22 x} u_{x}\\right) - F_{22} \\left(F_{11 x} + F_{21 x} u_{x}\\right), \\quad 0, \\quad 0, \\quad F_{12}, \\quad F_{12} + F_{22 x} u, \\quad - F_{11} - F_{21 x} u + F_{22}, \\quad 0, \\quad 0, \\quad 0, \\quad - F_{22} u, \\quad F_{21} u\\right ]$$"
      ],
      "text/plain": [
       "[F₁₁⋅F₂₂ ₓ - F₁₂⋅F₂₁ ₓ + F₂₁⋅(F₁₂ ₓ + F₂₂ ₓ⋅uₓ) - F₂₂⋅(F₁₁ ₓ + F₂₁ ₓ⋅uₓ), 0, 0\n",
       ", F₁₂, F₁₂ + F₂₂ ₓ⋅u, -F₁₁ - F₂₁ ₓ⋅u + F₂₂, 0, 0, 0, -F₂₂⋅u, F₂₁⋅u]"
      ]
     },
     "execution_count": 270,
     "metadata": {},
     "output_type": "execute_result"
    }
   ],
   "source": [
    "int_two_prod(pr_v1,w)"
   ]
  },
  {
   "cell_type": "code",
   "execution_count": 242,
   "metadata": {},
   "outputs": [
    {
     "data": {
      "image/png": "[encoded data removed]",
      "text/latex": [
       "$$\\left [ - u, \\quad x, \\quad - F_{21}, \\quad - F_{22}, \\quad F_{11}, \\quad F_{12}, \\quad u_{x}^{2} + 1, \\quad F_{11 x} u_{x} - F_{21 x}, \\quad F_{12 x} u_{x} - F_{22 x}, \\quad F_{11 x} + F_{21 x} u_{x}, \\quad F_{12 x} + F_{22 x} u_{x}\\right ]$$"
      ],
      "text/plain": [
       "⎡                               2                                             \n",
       "⎣-u, x, -F₂₁, -F₂₂, F₁₁, F₁₂, uₓ  + 1, F₁₁ ₓ⋅uₓ - F₂₁ ₓ, F₁₂ ₓ⋅uₓ - F₂₂ ₓ, F₁₁\n",
       "\n",
       "                               ⎤\n",
       " ₓ + F₂₁ ₓ⋅uₓ, F₁₂ ₓ + F₂₂ ₓ⋅uₓ⎦"
      ]
     },
     "execution_count": 242,
     "metadata": {},
     "output_type": "execute_result"
    }
   ],
   "source": [
    "pr_v1"
   ]
  },
  {
   "cell_type": "code",
   "execution_count": 271,
   "metadata": {},
   "outputs": [
    {
     "data": {
      "image/png": "[encoded data removed]",
      "text/latex": [
       "$$\\left[\\begin{array}{ccccccccccc}0 & 0 & 0 & 0 & F_{22 x} & - F_{21 x} & 0 & 0 & 0 & - F_{22} & F_{21}\\\\0 & 0 & 0 & 0 & 0 & 0 & 0 & 0 & 0 & 0 & 0\\\\0 & 0 & 0 & 0 & 0 & 0 & 0 & 0 & 0 & 0 & 0\\\\0 & 0 & 0 & 0 & 0 & 1 & 0 & 0 & 0 & 0 & 0\\\\- F_{22 x} & 0 & 0 & 0 & 0 & 1 & 0 & 0 & 0 & 0 & 0\\\\F_{21 x} & 0 & 0 & -1 & -1 & 0 & 0 & 0 & 0 & 0 & 0\\\\0 & 0 & 0 & 0 & 0 & 0 & 0 & 0 & 0 & 0 & 0\\\\0 & 0 & 0 & 0 & 0 & 0 & 0 & 0 & 0 & 0 & 0\\\\0 & 0 & 0 & 0 & 0 & 0 & 0 & 0 & 0 & 0 & 0\\\\F_{22} & 0 & 0 & 0 & 0 & 0 & 0 & 0 & 0 & 0 & 0\\\\- F_{21} & 0 & 0 & 0 & 0 & 0 & 0 & 0 & 0 & 0 & 0\\end{array}\\right]$$"
      ],
      "text/plain": [
       "⎡  0     0  0  0   F₂₂ ₓ  -F₂₁ ₓ  0  0  0  -F₂₂  F₂₁⎤\n",
       "⎢                                                   ⎥\n",
       "⎢  0     0  0  0     0      0     0  0  0   0     0 ⎥\n",
       "⎢                                                   ⎥\n",
       "⎢  0     0  0  0     0      0     0  0  0   0     0 ⎥\n",
       "⎢                                                   ⎥\n",
       "⎢  0     0  0  0     0      1     0  0  0   0     0 ⎥\n",
       "⎢                                                   ⎥\n",
       "⎢-F₂₂ ₓ  0  0  0     0      1     0  0  0   0     0 ⎥\n",
       "⎢                                                   ⎥\n",
       "⎢F₂₁ ₓ   0  0  -1   -1      0     0  0  0   0     0 ⎥\n",
       "⎢                                                   ⎥\n",
       "⎢  0     0  0  0     0      0     0  0  0   0     0 ⎥\n",
       "⎢                                                   ⎥\n",
       "⎢  0     0  0  0     0      0     0  0  0   0     0 ⎥\n",
       "⎢                                                   ⎥\n",
       "⎢  0     0  0  0     0      0     0  0  0   0     0 ⎥\n",
       "⎢                                                   ⎥\n",
       "⎢ F₂₂    0  0  0     0      0     0  0  0   0     0 ⎥\n",
       "⎢                                                   ⎥\n",
       "⎣ -F₂₁   0  0  0     0      0     0  0  0   0     0 ⎦"
      ]
     },
     "execution_count": 271,
     "metadata": {},
     "output_type": "execute_result"
    }
   ],
   "source": [
    "two_form_diff(w)"
   ]
  },
  {
   "cell_type": "code",
   "execution_count": 275,
   "metadata": {},
   "outputs": [
    {
     "data": {
      "image/png": "[encoded data removed]",
      "text/latex": [
       "$$\\left [ 0, \\quad - F_{21} F_{22 x} + F_{21 x} F_{22}, \\quad 0, \\quad - F_{21}, \\quad - F_{12} - F_{22 x} u, \\quad F_{21 x} u - 2 F_{22}, \\quad 0, \\quad 0, \\quad 0, \\quad F_{22} u, \\quad - F_{21} u\\right ]$$"
      ],
      "text/plain": [
       "[0, -F₂₁⋅F₂₂ ₓ + F₂₁ ₓ⋅F₂₂, 0, -F₂₁, -F₁₂ - F₂₂ ₓ⋅u, F₂₁ ₓ⋅u - 2⋅F₂₂, 0, 0, 0,\n",
       " F₂₂⋅u, -F₂₁⋅u]"
      ]
     },
     "execution_count": 275,
     "metadata": {},
     "output_type": "execute_result"
    }
   ],
   "source": [
    "ext_diff(sum(interior_prod(pr_v1,w)))"
   ]
  },
  {
   "cell_type": "code",
   "execution_count": 276,
   "metadata": {},
   "outputs": [
    {
     "data": {
      "image/png": "[encoded data removed]",
      "text/latex": [
       "$$\\left [ F_{11} F_{22 x} - F_{12} F_{21 x} + F_{21} \\left(F_{12 x} + F_{22 x} u_{x}\\right) - F_{22} \\left(F_{11 x} + F_{21 x} u_{x}\\right), \\quad F_{21} F_{22 x} - F_{21 x} F_{22}, \\quad 0, \\quad F_{12} + F_{21}, \\quad 2 F_{12} + 2 F_{22 x} u, \\quad - F_{11} - 2 F_{21 x} u + 3 F_{22}, \\quad 0, \\quad 0, \\quad 0, \\quad - 2 F_{22} u, \\quad 2 F_{21} u\\right ]$$"
      ],
      "text/plain": [
       "[F₁₁⋅F₂₂ ₓ - F₁₂⋅F₂₁ ₓ + F₂₁⋅(F₁₂ ₓ + F₂₂ ₓ⋅uₓ) - F₂₂⋅(F₁₁ ₓ + F₂₁ ₓ⋅uₓ), F₂₁⋅\n",
       "F₂₂ ₓ - F₂₁ ₓ⋅F₂₂, 0, F₁₂ + F₂₁, 2⋅F₁₂ + 2⋅F₂₂ ₓ⋅u, -F₁₁ - 2⋅F₂₁ ₓ⋅u + 3⋅F₂₂, \n",
       "0, 0, 0, -2⋅F₂₂⋅u, 2⋅F₂₁⋅u]"
      ]
     },
     "execution_count": 276,
     "metadata": {},
     "output_type": "execute_result"
    }
   ],
   "source": [
    "[(a-b) for a,b in zip(int_two_prod(pr_v1,w),ext_diff(sum(interior_prod(pr_v1,w))))]"
   ]
  },
  {
   "cell_type": "markdown",
   "metadata": {},
   "source": [
    "# Lie derivative of w1"
   ]
  },
  {
   "cell_type": "code",
   "execution_count": 297,
   "metadata": {
    "collapsed": true
   },
   "outputs": [],
   "source": [
    "w = [symbols('F12')*symbols('F11_x')-symbols('F11')*symbols('F12_x'), 0, -symbols('F12'), 0, symbols('F11'), 0]"
   ]
  },
  {
   "cell_type": "code",
   "execution_count": 298,
   "metadata": {},
   "outputs": [
    {
     "data": {
      "image/png": "[encoded data removed]",
      "text/latex": [
       "$$\\left(F_{11} + F_{22}\\right) \\vartheta^{F11} + \\left(F_{12} - F_{21}\\right) \\vartheta^{F21} + \\left(F_{11} F_{12 x} - F_{11 x} F_{12}\\right) \\vartheta^{u}$$"
      ],
      "text/plain": [
       "(F₁₁ + F₂₂)⋅vartheta__F11 + (F₁₂ - F₂₁)⋅vartheta__F21 + (F₁₁⋅F₁₂ ₓ - F₁₁ ₓ⋅F₁₂\n",
       ")⋅vartheta__u"
      ]
     },
     "execution_count": 298,
     "metadata": {},
     "output_type": "execute_result"
    }
   ],
   "source": [
    "Lie_derivative(pr_v1,w)"
   ]
  },
  {
   "cell_type": "code",
   "execution_count": 299,
   "metadata": {},
   "outputs": [
    {
     "data": {
      "image/png": "[encoded data removed]",
      "text/latex": [
       "$$\\left(- \\sin^{2}{\\left (\\varphi{\\left (x \\right )} \\right )} - \\cos^{2}{\\left (\\varphi{\\left (x \\right )} \\right )}\\right) \\vartheta^{u} - 2 \\sin{\\left (\\varphi{\\left (x \\right )} \\right )} \\vartheta^{F21} + 2 \\cos{\\left (\\varphi{\\left (x \\right )} \\right )} \\vartheta^{F11}$$"
      ],
      "text/plain": [
       "⎛     2                 2           ⎞                                         \n",
       "⎝- sin (varphi(x)) - cos (varphi(x))⎠⋅vartheta__u - 2⋅sin(varphi(x))⋅vartheta_\n",
       "\n",
       "                                     \n",
       "_F21 + 2⋅cos(varphi(x))⋅vartheta__F11"
      ]
     },
     "execution_count": 299,
     "metadata": {},
     "output_type": "execute_result"
    }
   ],
   "source": [
    "Lie_derivative(pr_v1,w).subs({symbols('F11_x'):-sin(phi),symbols('F12_x'):-cos(phi),symbols('F21_x'):cos(phi),symbols('F22_x'):-sin(phi)}).subs({symbols('F11'):cos(phi),symbols('F12'):-sin(phi),symbols('F21'):sin(phi),symbols('F22'):cos(phi)})"
   ]
  },
  {
   "cell_type": "code",
   "execution_count": 300,
   "metadata": {},
   "outputs": [],
   "source": [
    "w = [symbols('F21')*symbols('F22_x')-symbols('F22')*symbols('F21_x'), 0, 0, symbols('F22'), 0, -symbols('F21')]"
   ]
  },
  {
   "cell_type": "code",
   "execution_count": 312,
   "metadata": {},
   "outputs": [
    {
     "data": {
      "image/png": "[encoded data removed]",
      "text/latex": [
       "$$- F_{11} \\vartheta^{F22} + F_{12} \\vartheta^{F21} - F_{21} \\vartheta^{F12} + F_{22} \\vartheta^{F11} + \\left(- F_{21} F_{22 x} + F_{21 x} F_{22}\\right) \\vartheta^{u}$$"
      ],
      "text/plain": [
       "-F₁₁⋅vartheta__F22 + F₁₂⋅vartheta__F21 - F₂₁⋅vartheta__F12 + F₂₂⋅vartheta__F11\n",
       " + (-F₂₁⋅F₂₂ ₓ + F₂₁ ₓ⋅F₂₂)⋅vartheta__u"
      ]
     },
     "execution_count": 312,
     "metadata": {},
     "output_type": "execute_result"
    }
   ],
   "source": [
    "Lie_derivative(pr_v1,w)"
   ]
  },
  {
   "cell_type": "code",
   "execution_count": 294,
   "metadata": {},
   "outputs": [
    {
     "data": {
      "image/png": "[encoded data removed]",
      "text/latex": [
       "$$\\left(\\sin^{2}{\\left (\\varphi{\\left (x \\right )} \\right )} + \\cos^{2}{\\left (\\varphi{\\left (x \\right )} \\right )}\\right) \\vartheta^{u} - 2 \\sin{\\left (\\varphi{\\left (x \\right )} \\right )} \\vartheta^{F12} - 2 \\cos{\\left (\\varphi{\\left (x \\right )} \\right )} \\vartheta^{F22}$$"
      ],
      "text/plain": [
       "⎛   2                 2           ⎞                                           \n",
       "⎝sin (varphi(x)) + cos (varphi(x))⎠⋅vartheta__u - 2⋅sin(varphi(x))⋅vartheta__F\n",
       "\n",
       "                                   \n",
       "12 - 2⋅cos(varphi(x))⋅vartheta__F22"
      ]
     },
     "execution_count": 294,
     "metadata": {},
     "output_type": "execute_result"
    }
   ],
   "source": [
    "Lie_derivative(pr_v1,w).subs({symbols('F11_x'):-sin(phi),symbols('F12_x'):-cos(phi),symbols('F21_x'):cos(phi),symbols('F22_x'):-sin(phi)}).subs({symbols('F11'):cos(phi),symbols('F12'):-sin(phi),symbols('F21'):sin(phi),symbols('F22'):cos(phi)})"
   ]
  },
  {
   "cell_type": "markdown",
   "metadata": {},
   "source": [
    "# Testing The Lie derivative"
   ]
  },
  {
   "cell_type": "code",
   "execution_count": 314,
   "metadata": {},
   "outputs": [
    {
     "data": {
      "image/png": "[encoded data removed]",
      "text/latex": [
       "$$\\left [ - F_{11} \\left(F_{12 x} u_{x} - F_{22 x}\\right) - F_{11 x} F_{22} + F_{12} \\left(F_{11 x} u_{x} - F_{21 x}\\right) + F_{12 x} F_{21}, \\quad F_{11} F_{12 x} - F_{11 x} F_{12}, \\quad F_{11} + F_{22}, \\quad 0, \\quad F_{12} - F_{21}, \\quad 0, \\quad 0, \\quad 0, \\quad 0, \\quad 0, \\quad 0\\right ]$$"
      ],
      "text/plain": [
       "[-F₁₁⋅(F₁₂ ₓ⋅uₓ - F₂₂ ₓ) - F₁₁ ₓ⋅F₂₂ + F₁₂⋅(F₁₁ ₓ⋅uₓ - F₂₁ ₓ) + F₁₂ ₓ⋅F₂₁, F₁₁\n",
       "⋅F₁₂ ₓ - F₁₁ ₓ⋅F₁₂, F₁₁ + F₂₂, 0, F₁₂ - F₂₁, 0, 0, 0, 0, 0, 0]"
      ]
     },
     "execution_count": 314,
     "metadata": {},
     "output_type": "execute_result"
    }
   ],
   "source": [
    "w = [symbols('F12')*symbols('F11_x')-symbols('F11')*symbols('F12_x'), 0, -symbols('F12'), 0, symbols('F11'), 0]\n",
    "[simplify(c+d) for c,d in zip(ext_diff(sum(interior_prod(pr_v1,w))),int_two_prod(pr_v1,w))]"
   ]
  },
  {
   "cell_type": "code",
   "execution_count": 315,
   "metadata": {},
   "outputs": [
    {
     "data": {
      "image/png": "[encoded data removed]",
      "text/latex": [
       "$$\\left(F_{11} + F_{22}\\right) \\vartheta^{F11} + \\left(F_{12} - F_{21}\\right) \\vartheta^{F21} + \\left(F_{11} F_{12 x} - F_{11 x} F_{12}\\right) \\vartheta^{u}$$"
      ],
      "text/plain": [
       "(F₁₁ + F₂₂)⋅vartheta__F11 + (F₁₂ - F₂₁)⋅vartheta__F21 + (F₁₁⋅F₁₂ ₓ - F₁₁ ₓ⋅F₁₂\n",
       ")⋅vartheta__u"
      ]
     },
     "execution_count": 315,
     "metadata": {},
     "output_type": "execute_result"
    }
   ],
   "source": [
    "Lie_derivative(pr_v1,w)"
   ]
  },
  {
   "cell_type": "code",
   "execution_count": 352,
   "metadata": {},
   "outputs": [
    {
     "data": {
      "image/png": "[encoded data removed]",
      "text/latex": [
       "$$\\left [ F_{11} F_{22 x} - F_{12} F_{21 x} + F_{21} \\left(F_{12 x} + F_{22 x} u_{x}\\right) - F_{22} \\left(F_{11 x} + F_{21 x} u_{x}\\right), \\quad - F_{21} F_{22 x} + F_{21 x} F_{22}, \\quad F_{22}, \\quad - F_{21}, \\quad F_{12}, \\quad - F_{11}, \\quad 0, \\quad 0, \\quad 0, \\quad 0, \\quad 0\\right ]$$"
      ],
      "text/plain": [
       "[F₁₁⋅F₂₂ ₓ - F₁₂⋅F₂₁ ₓ + F₂₁⋅(F₁₂ ₓ + F₂₂ ₓ⋅uₓ) - F₂₂⋅(F₁₁ ₓ + F₂₁ ₓ⋅uₓ), -F₂₁\n",
       "⋅F₂₂ ₓ + F₂₁ ₓ⋅F₂₂, F₂₂, -F₂₁, F₁₂, -F₁₁, 0, 0, 0, 0, 0]"
      ]
     },
     "execution_count": 352,
     "metadata": {},
     "output_type": "execute_result"
    }
   ],
   "source": [
    "w = [symbols('F21')*symbols('F22_x')-symbols('F22')*symbols('F21_x'), 0, 0, 0, symbols('F22'), -symbols('F21')]\n",
    "[simplify(c+d) for c,d in zip(ext_diff(sum(interior_prod(pr_v1,w))),int_two_prod(pr_v1,w))]"
   ]
  },
  {
   "cell_type": "code",
   "execution_count": 313,
   "metadata": {},
   "outputs": [
    {
     "data": {
      "image/png": "[encoded data removed]",
      "text/latex": [
       "$$- F_{11} \\vartheta^{F22} + F_{12} \\vartheta^{F21} - F_{21} \\vartheta^{F12} + F_{22} \\vartheta^{F11} + \\left(- F_{21} F_{22 x} + F_{21 x} F_{22}\\right) \\vartheta^{u}$$"
      ],
      "text/plain": [
       "-F₁₁⋅vartheta__F22 + F₁₂⋅vartheta__F21 - F₂₁⋅vartheta__F12 + F₂₂⋅vartheta__F11\n",
       " + (-F₂₁⋅F₂₂ ₓ + F₂₁ ₓ⋅F₂₂)⋅vartheta__u"
      ]
     },
     "execution_count": 313,
     "metadata": {},
     "output_type": "execute_result"
    }
   ],
   "source": [
    "Lie_derivative(pr_v1,w)"
   ]
  },
  {
   "cell_type": "code",
   "execution_count": 353,
   "metadata": {},
   "outputs": [
    {
     "data": {
      "image/png": "[encoded data removed]",
      "text/latex": [
       "$$\\left(\\sin^{2}{\\left (\\varphi{\\left (x \\right )} \\right )} + \\cos^{2}{\\left (\\varphi{\\left (x \\right )} \\right )}\\right) \\vartheta^{u} - \\sin{\\left (\\varphi{\\left (x \\right )} \\right )} \\vartheta^{F12} - \\sin{\\left (\\varphi{\\left (x \\right )} \\right )} \\vartheta^{F21} + \\cos{\\left (\\varphi{\\left (x \\right )} \\right )} \\vartheta^{F11} - \\cos{\\left (\\varphi{\\left (x \\right )} \\right )} \\vartheta^{F22}$$"
      ],
      "text/plain": [
       "⎛   2                 2           ⎞                                           \n",
       "⎝sin (varphi(x)) + cos (varphi(x))⎠⋅vartheta__u - sin(varphi(x))⋅vartheta__F12\n",
       "\n",
       "                                                                              \n",
       " - sin(varphi(x))⋅vartheta__F21 + cos(varphi(x))⋅vartheta__F11 - cos(varphi(x)\n",
       "\n",
       "               \n",
       ")⋅vartheta__F22"
      ]
     },
     "execution_count": 353,
     "metadata": {},
     "output_type": "execute_result"
    }
   ],
   "source": [
    "Lie_derivative(pr_v1,w).subs({symbols('F11_x'):-sin(phi),symbols('F12_x'):-cos(phi),symbols('F21_x'):cos(phi),symbols('F22_x'):-sin(phi)}).subs({symbols('F11'):cos(phi),symbols('F12'):-sin(phi),symbols('F21'):sin(phi),symbols('F22'):cos(phi)})"
   ]
  },
  {
   "cell_type": "code",
   "execution_count": 371,
   "metadata": {},
   "outputs": [
    {
     "data": {
      "image/png": "[encoded data removed]",
      "text/latex": [
       "$$\\left[\\begin{matrix}\\operatorname{F_{11}}{\\left (x \\right )} \\frac{d}{d x} \\operatorname{F_{11}}{\\left (x \\right )} + \\operatorname{F_{12}}{\\left (x \\right )} \\frac{d}{d x} \\operatorname{F_{21}}{\\left (x \\right )} & \\operatorname{F_{11}}{\\left (x \\right )} \\frac{d}{d x} \\operatorname{F_{12}}{\\left (x \\right )} + \\operatorname{F_{12}}{\\left (x \\right )} \\frac{d}{d x} \\operatorname{F_{22}}{\\left (x \\right )}\\\\\\operatorname{F_{21}}{\\left (x \\right )} \\frac{d}{d x} \\operatorname{F_{11}}{\\left (x \\right )} + \\operatorname{F_{22}}{\\left (x \\right )} \\frac{d}{d x} \\operatorname{F_{21}}{\\left (x \\right )} & \\operatorname{F_{21}}{\\left (x \\right )} \\frac{d}{d x} \\operatorname{F_{12}}{\\left (x \\right )} + \\operatorname{F_{22}}{\\left (x \\right )} \\frac{d}{d x} \\operatorname{F_{22}}{\\left (x \\right )}\\end{matrix}\\right]$$"
      ],
      "text/plain": [
       "⎡       d                   d                  d                   d         ⎤\n",
       "⎢F₁₁(x)⋅──(F₁₁(x)) + F₁₂(x)⋅──(F₂₁(x))  F₁₁(x)⋅──(F₁₂(x)) + F₁₂(x)⋅──(F₂₂(x))⎥\n",
       "⎢       dx                  dx                 dx                  dx        ⎥\n",
       "⎢                                                                            ⎥\n",
       "⎢       d                   d                  d                   d         ⎥\n",
       "⎢F₂₁(x)⋅──(F₁₁(x)) + F₂₂(x)⋅──(F₂₁(x))  F₂₁(x)⋅──(F₁₂(x)) + F₂₂(x)⋅──(F₂₂(x))⎥\n",
       "⎣       dx                  dx                 dx                  dx        ⎦"
      ]
     },
     "execution_count": 371,
     "metadata": {},
     "output_type": "execute_result"
    }
   ],
   "source": [
    "B*diff(B,x)"
   ]
  },
  {
   "cell_type": "code",
   "execution_count": 379,
   "metadata": {},
   "outputs": [
    {
     "data": {
      "image/png": "[encoded data removed]",
      "text/latex": [
       "$$\\left[\\begin{matrix}- \\sin{\\left (2 \\varphi{\\left (x \\right )} \\right )} \\frac{d}{d x} \\varphi{\\left (x \\right )} & - \\cos{\\left (2 \\varphi{\\left (x \\right )} \\right )} \\frac{d}{d x} \\varphi{\\left (x \\right )}\\\\\\cos{\\left (2 \\varphi{\\left (x \\right )} \\right )} \\frac{d}{d x} \\varphi{\\left (x \\right )} & - \\sin{\\left (2 \\varphi{\\left (x \\right )} \\right )} \\frac{d}{d x} \\varphi{\\left (x \\right )}\\end{matrix}\\right]$$"
      ],
      "text/plain": [
       "⎡                  d                                d            ⎤\n",
       "⎢-sin(2⋅varphi(x))⋅──(varphi(x))  -cos(2⋅varphi(x))⋅──(varphi(x))⎥\n",
       "⎢                  dx                               dx           ⎥\n",
       "⎢                                                                ⎥\n",
       "⎢                 d                                 d            ⎥\n",
       "⎢cos(2⋅varphi(x))⋅──(varphi(x))   -sin(2⋅varphi(x))⋅──(varphi(x))⎥\n",
       "⎣                 dx                                dx           ⎦"
      ]
     },
     "execution_count": 379,
     "metadata": {},
     "output_type": "execute_result"
    }
   ],
   "source": [
    "simplify(F*diff(F,x))"
   ]
  },
  {
   "cell_type": "code",
   "execution_count": 372,
   "metadata": {},
   "outputs": [
    {
     "data": {
      "image/png": "[encoded data removed]",
      "text/latex": [
       "$$\\left[\\begin{matrix}\\operatorname{F_{11}}{\\left (x \\right )} \\frac{d}{d x} \\operatorname{F_{11}}{\\left (x \\right )} + \\operatorname{F_{12}}{\\left (x \\right )} \\frac{d}{d x} \\operatorname{F_{12}}{\\left (x \\right )} & \\operatorname{F_{21}}{\\left (x \\right )} \\frac{d}{d x} \\operatorname{F_{11}}{\\left (x \\right )} + \\operatorname{F_{22}}{\\left (x \\right )} \\frac{d}{d x} \\operatorname{F_{12}}{\\left (x \\right )}\\\\\\operatorname{F_{11}}{\\left (x \\right )} \\frac{d}{d x} \\operatorname{F_{21}}{\\left (x \\right )} + \\operatorname{F_{12}}{\\left (x \\right )} \\frac{d}{d x} \\operatorname{F_{22}}{\\left (x \\right )} & \\operatorname{F_{21}}{\\left (x \\right )} \\frac{d}{d x} \\operatorname{F_{21}}{\\left (x \\right )} + \\operatorname{F_{22}}{\\left (x \\right )} \\frac{d}{d x} \\operatorname{F_{22}}{\\left (x \\right )}\\end{matrix}\\right]$$"
      ],
      "text/plain": [
       "⎡       d                   d                  d                   d         ⎤\n",
       "⎢F₁₁(x)⋅──(F₁₁(x)) + F₁₂(x)⋅──(F₁₂(x))  F₂₁(x)⋅──(F₁₁(x)) + F₂₂(x)⋅──(F₁₂(x))⎥\n",
       "⎢       dx                  dx                 dx                  dx        ⎥\n",
       "⎢                                                                            ⎥\n",
       "⎢       d                   d                  d                   d         ⎥\n",
       "⎢F₁₁(x)⋅──(F₂₁(x)) + F₁₂(x)⋅──(F₂₂(x))  F₂₁(x)⋅──(F₂₁(x)) + F₂₂(x)⋅──(F₂₂(x))⎥\n",
       "⎣       dx                  dx                 dx                  dx        ⎦"
      ]
     },
     "execution_count": 372,
     "metadata": {},
     "output_type": "execute_result"
    }
   ],
   "source": [
    "diff(B,x)*B.transpose()"
   ]
  },
  {
   "cell_type": "code",
   "execution_count": 373,
   "metadata": {},
   "outputs": [
    {
     "data": {
      "image/png": "[encoded data removed]",
      "text/latex": [
       "$$\\left[\\begin{matrix}\\operatorname{F_{11}}{\\left (x \\right )} \\frac{d}{d x} \\operatorname{F_{11}}{\\left (x \\right )} + \\operatorname{F_{12}}{\\left (x \\right )} \\frac{d}{d x} \\operatorname{F_{12}}{\\left (x \\right )} & \\operatorname{F_{11}}{\\left (x \\right )} \\frac{d}{d x} \\operatorname{F_{21}}{\\left (x \\right )} + \\operatorname{F_{12}}{\\left (x \\right )} \\frac{d}{d x} \\operatorname{F_{22}}{\\left (x \\right )}\\\\\\operatorname{F_{21}}{\\left (x \\right )} \\frac{d}{d x} \\operatorname{F_{11}}{\\left (x \\right )} + \\operatorname{F_{22}}{\\left (x \\right )} \\frac{d}{d x} \\operatorname{F_{12}}{\\left (x \\right )} & \\operatorname{F_{21}}{\\left (x \\right )} \\frac{d}{d x} \\operatorname{F_{21}}{\\left (x \\right )} + \\operatorname{F_{22}}{\\left (x \\right )} \\frac{d}{d x} \\operatorname{F_{22}}{\\left (x \\right )}\\end{matrix}\\right]$$"
      ],
      "text/plain": [
       "⎡       d                   d                  d                   d         ⎤\n",
       "⎢F₁₁(x)⋅──(F₁₁(x)) + F₁₂(x)⋅──(F₁₂(x))  F₁₁(x)⋅──(F₂₁(x)) + F₁₂(x)⋅──(F₂₂(x))⎥\n",
       "⎢       dx                  dx                 dx                  dx        ⎥\n",
       "⎢                                                                            ⎥\n",
       "⎢       d                   d                  d                   d         ⎥\n",
       "⎢F₂₁(x)⋅──(F₁₁(x)) + F₂₂(x)⋅──(F₁₂(x))  F₂₁(x)⋅──(F₂₁(x)) + F₂₂(x)⋅──(F₂₂(x))⎥\n",
       "⎣       dx                  dx                 dx                  dx        ⎦"
      ]
     },
     "execution_count": 373,
     "metadata": {},
     "output_type": "execute_result"
    }
   ],
   "source": [
    "B*(diff(B,x).transpose())"
   ]
  },
  {
   "cell_type": "code",
   "execution_count": null,
   "metadata": {
    "collapsed": true
   },
   "outputs": [],
   "source": []
  }
 ],
 "metadata": {
  "kernelspec": {
   "display_name": "Python 2.7",
   "language": "python",
   "name": "python2"
  },
  "language_info": {
   "codemirror_mode": {
    "name": "ipython",
    "version": 2
   },
   "file_extension": ".py",
   "mimetype": "text/x-python",
   "name": "python",
   "nbconvert_exporter": "python",
   "pygments_lexer": "ipython2",
   "version": "2.7.15"
  }
 },
 "nbformat": 4,
 "nbformat_minor": 2
}

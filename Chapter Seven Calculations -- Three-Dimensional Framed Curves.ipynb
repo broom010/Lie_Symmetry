{
 "cells": [
  {
   "cell_type": "markdown",
   "metadata": {},
   "source": [
    "# Invariant Euler Lagrange equations for three-dimensional framed curves\n",
    "<br/>\n",
    "\n",
    "This notebook is dedicated to providing the calculations that go into deriving the invariant Euler Lagrange equations for SE(3) invariant Lagrangians defined over two-dimensional framed curves.  We will rely heavily on the LieSympy module, which was also written by this author."
   ]
  },
  {
   "cell_type": "markdown",
   "metadata": {},
   "source": [
    "# Lie Derivatives in Matrix Coordinates"
   ]
  },
  {
   "cell_type": "markdown",
   "metadata": {},
   "source": [
    "In this notebook, we explore how to express contact forms for a matrix Lie group.  The following is an outline of our work:\n",
    "\n",
    "**1)  Introduction of coordinates and group action**\n",
    "\n",
    "**2)  Find the basic contact form in matrix coordinates**\n",
    "\n",
    "**3)  Compute the infinitesimal generator of the action**\n",
    "\n",
    "**4)  Compute the Lie derivative of certain contact forms with respect to the infinitesimal generator**\n",
    "\n",
    "**5)  Compute the pullback of the Lie derivatives**\n",
    "\n",
    "**6)  Compute the invariant Eulerian operator $\\mathcal{A}^*$**\n",
    "\n",
    "**7)  Determine the structure of the $W$ term in the invariant Euler-Lagrange equations**\n",
    "\n",
    "We begin this process by importing various python modules and adjustin the printing settings of this notebook."
   ]
  },
  {
   "cell_type": "code",
   "execution_count": 1,
   "metadata": {},
   "outputs": [
    {
     "data": {
      "text/html": [
       "<style>.container { width:95% !important; }</style>"
      ],
      "text/plain": [
       "<IPython.core.display.HTML object>"
      ]
     },
     "metadata": {},
     "output_type": "display_data"
    }
   ],
   "source": [
    "from sympy import *\n",
    "from itertools import *\n",
    "import LieSympy as lp\n",
    "import numpy as np\n",
    "init_printing()\n",
    "\n",
    "from IPython.core.display import display, HTML\n",
    "display(HTML(\"<style>.container { width:95% !important; }</style>\"))"
   ]
  },
  {
   "cell_type": "markdown",
   "metadata": {},
   "source": [
    "# Introduction of Coordinates"
   ]
  },
  {
   "cell_type": "markdown",
   "metadata": {},
   "source": [
    "Let $G_1 = G_2 = SE(2)$.  Take $(a, b, \\psi)$ and $(x, u, \\varphi)$ to be local coordiantes for $G_1$ and $G_2$ repsectively.  The code below defines the symbols and the standard action of $G1$ on $G2$."
   ]
  },
  {
   "cell_type": "code",
   "execution_count": 2,
   "metadata": {},
   "outputs": [],
   "source": [
    "x = symbols('x')\n",
    "y = Function('y')('x')\n",
    "u = Function('u')('x')\n",
    "\n",
    "a = symbols('a')\n",
    "b = symbols('b')\n",
    "c = symbols('c')\n",
    "\n",
    "phi1 = Function('varphi_1')('x')\n",
    "phi2 = Function('varphi_2')('x')\n",
    "phi3 = Function('varphi_3')('x')\n",
    "\n",
    "psi1 = symbols('psi_1')\n",
    "psi2 = symbols('psi_2')\n",
    "psi3 = symbols('psi_3')\n",
    "identity = {a:0, b:0, c:0, psi1:0, psi2:0, psi3:0}\n",
    "\n",
    "dx = symbols('dx')\n",
    "dp1 = symbols('d\\\\varphi_1')\n",
    "dp2 = symbols('d\\\\varphi_2')\n",
    "dp3 = symbols('d\\\\varphi_3')"
   ]
  },
  {
   "cell_type": "markdown",
   "metadata": {},
   "source": [
    "# Infinitesimal Generator of the Action"
   ]
  },
  {
   "cell_type": "code",
   "execution_count": 3,
   "metadata": {},
   "outputs": [],
   "source": [
    "F_U = Matrix([[cos(phi1),-sin(phi1),0],[sin(phi1),cos(phi1),0],[0,0,1]])\n",
    "F_Y = Matrix([[cos(phi2),0,-sin(phi2)],[0,1,0],[sin(phi2),0,cos(phi2)]])\n",
    "F_X = Matrix([[1,0,0],[0,cos(phi3),-sin(phi3)],[0,sin(phi3),cos(phi3)]])\n",
    "\n",
    "F = F_X*F_Y*F_U\n",
    "F11 = Function('F11')('x')\n",
    "F12 = Function('F12')('x')\n",
    "F13 = Function('F13')('x')\n",
    "F21 = Function('F21')('x')\n",
    "F22 = Function('F22')('x')\n",
    "F23 = Function('F23')('x')\n",
    "F31 = Function('F31')('x')\n",
    "F32 = Function('F32')('x')\n",
    "F33 = Function('F33')('x')\n",
    "\n",
    "dF11 = symbols('dF_11')\n",
    "dF12 = symbols('dF_12')\n",
    "dF13 = symbols('dF_13')\n",
    "dF21 = symbols('dF_21')\n",
    "dF22 = symbols('dF_22')\n",
    "dF23 = symbols('dF_23')\n",
    "dF31 = symbols('dF_31')\n",
    "dF32 = symbols('dF_32')\n",
    "dF33 = symbols('dF_33')\n",
    "\n",
    "B = Matrix([[F11,F12,F13],[F21,F22,F23],[F31,F32,F33]])\n",
    "\n",
    "T11 = symbols('T11')\n",
    "T12 = symbols('T12')\n",
    "T13 = symbols('T13')\n",
    "T21 = symbols('T21')\n",
    "T22 = symbols('T22')\n",
    "T23 = symbols('T23')\n",
    "T31 = symbols('T31')\n",
    "T32 = symbols('T32')\n",
    "T33 = symbols('T33')\n",
    "\n",
    "T = Matrix([[T11,T12,T13],[T21,T22,T23],[T31,T32,T33]])\n",
    "\n",
    "R_U = Matrix([[cos(psi1),-sin(psi1),0],[sin(psi1),cos(psi1),0],[0,0,1]])\n",
    "R_Y = Matrix([[cos(psi2),0,-sin(psi2)],[0,1,0],[sin(psi2),0,cos(psi2)]])\n",
    "R_X = Matrix([[1,0,0],[0,cos(psi3),-sin(psi3)],[0,sin(psi3),cos(psi3)]])\n",
    "\n",
    "R = R_X*R_Y*R_U\n",
    "z = Matrix([x,y,u])\n",
    "v = Matrix([a,b,c])\n",
    "\n",
    "X = simplify((R*z+v).row(0)[0])\n",
    "Y = simplify((R*z+v).row(1)[0])\n",
    "U = simplify((R*z+v).row(2)[0])\n",
    "B_new = R*B\n",
    "\n",
    "# Define quantities for prolongation\n",
    "A = [['x'],['y','u','F11','F12','F13','F21','F22','F23','F31','F32','F33']]\n",
    "n = 1\n",
    "\n",
    "# Dictionaries for substitutions\n",
    "differentials = {diff(F11,x):dF11, diff(F12,x):dF12, diff(F13,x):dF13,\n",
    "                 diff(F21,x):dF21, diff(F22,x):dF22, diff(F23,x):dF23,\n",
    "                 diff(F31,x):dF31, diff(F32,x):dF32, diff(F33,x):dF33}\n",
    "\n",
    "S = {y:symbols('y'), u:symbols('u'), diff(y,x):symbols('y_x'), diff(u,x):symbols('u_x'),\n",
    "           F11:symbols('F_11'), F12:symbols('F_12'), F13:symbols('F_13'),\n",
    "           F21:symbols('F_21'), F22:symbols('F_22'), F23:symbols('F_23'),\n",
    "           F31:symbols('F_31'), F32:symbols('F_32'), F33:symbols('F_33'),\n",
    "           diff(F11,x):symbols('F_11x'), diff(F12,x):symbols('F_12x'), diff(F13,x):symbols('F_13x'),\n",
    "           diff(F21,x):symbols('F_21x'), diff(F22,x):symbols('F_22x'), diff(F23,x):symbols('F_23x'),\n",
    "           diff(F31,x):symbols('F_31x'), diff(F32,x):symbols('F_32x'), diff(F33,x):symbols('F_33x')}\n",
    "\n",
    "invariantize = {T11:symbols('F11'),T12:symbols('F21'),T13:symbols('F31'), T21:symbols('F12'),T22:symbols('F22'),T23:symbols('F32'), T31:symbols('F13'),T32:symbols('F23'),T33:symbols('F33')}"
   ]
  },
  {
   "cell_type": "markdown",
   "metadata": {},
   "source": [
    "# $v_1$, $v_2$, $v_3$"
   ]
  },
  {
   "cell_type": "code",
   "execution_count": 4,
   "metadata": {},
   "outputs": [
    {
     "data": {
      "image/png": "[encoded data removed]",
      "text/latex": [
       "$$\\left [ 1, \\quad 0, \\quad 0, \\quad 0, \\quad 0, \\quad 0, \\quad 0, \\quad 0, \\quad 0, \\quad 0, \\quad 0, \\quad 0\\right ]$$"
      ],
      "text/plain": [
       "[1, 0, 0, 0, 0, 0, 0, 0, 0, 0, 0, 0]"
      ]
     },
     "execution_count": 4,
     "metadata": {},
     "output_type": "execute_result"
    }
   ],
   "source": [
    "v1 = [diff(X,a).subs(identity), diff(Y,a).subs(identity), diff(U,a).subs(identity)]+ flatten(diff(B_new,a).subs(identity))\n",
    "v1"
   ]
  },
  {
   "cell_type": "code",
   "execution_count": 5,
   "metadata": {},
   "outputs": [
    {
     "data": {
      "image/png": "[encoded data removed]",
      "text/latex": [
       "$$\\left [ 0, \\quad 1, \\quad 0, \\quad 0, \\quad 0, \\quad 0, \\quad 0, \\quad 0, \\quad 0, \\quad 0, \\quad 0, \\quad 0\\right ]$$"
      ],
      "text/plain": [
       "[0, 1, 0, 0, 0, 0, 0, 0, 0, 0, 0, 0]"
      ]
     },
     "execution_count": 5,
     "metadata": {},
     "output_type": "execute_result"
    }
   ],
   "source": [
    "v2 = [diff(X,b).subs(identity), diff(Y,b).subs(identity), diff(U,b).subs(identity)]+ flatten(diff(B_new,b).subs(identity))\n",
    "v2"
   ]
  },
  {
   "cell_type": "code",
   "execution_count": 6,
   "metadata": {},
   "outputs": [
    {
     "data": {
      "image/png": "[encoded data removed]",
      "text/latex": [
       "$$\\left [ 0, \\quad 0, \\quad 1, \\quad 0, \\quad 0, \\quad 0, \\quad 0, \\quad 0, \\quad 0, \\quad 0, \\quad 0, \\quad 0\\right ]$$"
      ],
      "text/plain": [
       "[0, 0, 1, 0, 0, 0, 0, 0, 0, 0, 0, 0]"
      ]
     },
     "execution_count": 6,
     "metadata": {},
     "output_type": "execute_result"
    }
   ],
   "source": [
    "v3 = [diff(X,c).subs(identity), diff(Y,c).subs(identity), diff(U,c).subs(identity)]+ flatten(diff(B_new,c).subs(identity))\n",
    "v3"
   ]
  },
  {
   "cell_type": "markdown",
   "metadata": {},
   "source": [
    "# $v_4$"
   ]
  },
  {
   "cell_type": "code",
   "execution_count": 7,
   "metadata": {},
   "outputs": [
    {
     "data": {
      "image/png": "[encoded data removed]",
      "text/latex": [
       "$$\\left [ - y{\\left (x \\right )}, \\quad x, \\quad 0, \\quad - \\operatorname{F_{21}}{\\left (x \\right )}, \\quad - \\operatorname{F_{22}}{\\left (x \\right )}, \\quad - \\operatorname{F_{23}}{\\left (x \\right )}, \\quad \\operatorname{F_{11}}{\\left (x \\right )}, \\quad \\operatorname{F_{12}}{\\left (x \\right )}, \\quad \\operatorname{F_{13}}{\\left (x \\right )}, \\quad 0, \\quad 0, \\quad 0\\right ]$$"
      ],
      "text/plain": [
       "[-y(x), x, 0, -F₂₁(x), -F₂₂(x), -F₂₃(x), F₁₁(x), F₁₂(x), F₁₃(x), 0, 0, 0]"
      ]
     },
     "execution_count": 7,
     "metadata": {},
     "output_type": "execute_result"
    }
   ],
   "source": [
    "v4 = [diff(X,psi1).subs(identity), diff(Y,psi1).subs(identity), diff(U,psi1).subs(identity)]+ flatten(diff(B_new,psi1).subs(identity))\n",
    "v4"
   ]
  },
  {
   "cell_type": "code",
   "execution_count": 8,
   "metadata": {},
   "outputs": [
    {
     "data": {
      "image/png": "[encoded data removed]",
      "text/latex": [
       "$$\\left [ - y, \\quad x, \\quad 0, \\quad - F_{21}, \\quad - F_{22}, \\quad - F_{23}, \\quad F_{11}, \\quad F_{12}, \\quad F_{13}, \\quad 0, \\quad 0, \\quad 0, \\quad y_{x}^{2} + 1, \\quad u_{x} y_{x}, \\quad F_{11 x} y_{x} - F_{21x}, \\quad F_{12 x} y_{x} - F_{22x}, \\quad F_{13 x} y_{x} - F_{23x}, \\quad F_{21 x} y_{x} + F_{11x}, \\quad F_{22 x} y_{x} + F_{12x}, \\quad F_{23 x} y_{x} + F_{13x}, \\quad F_{31 x} y_{x}, \\quad F_{32 x} y_{x}, \\quad F_{33 x} y_{x}\\right ]$$"
      ],
      "text/plain": [
       "⎡                                                      2                      \n",
       "⎣-y, x, 0, -F₂₁, -F₂₂, -F₂₃, F₁₁, F₁₂, F₁₃, 0, 0, 0, yₓ  + 1, uₓ⋅yₓ, F₁₁ ₓ⋅yₓ \n",
       "\n",
       "                                                                              \n",
       "- F₂₁ₓ, F₁₂ ₓ⋅yₓ - F₂₂ₓ, F₁₃ ₓ⋅yₓ - F₂₃ₓ, F₂₁ ₓ⋅yₓ + F₁₁ₓ, F₂₂ ₓ⋅yₓ + F₁₂ₓ, F₂\n",
       "\n",
       "                                           ⎤\n",
       "₃ ₓ⋅yₓ + F₁₃ₓ, F₃₁ ₓ⋅yₓ, F₃₂ ₓ⋅yₓ, F₃₃ ₓ⋅yₓ⎦"
      ]
     },
     "execution_count": 8,
     "metadata": {},
     "output_type": "execute_result"
    }
   ],
   "source": [
    "pr1_v4 = [v.subs(S) for v in lp.Prolong(A, v4, n)]\n",
    "pr1_v4"
   ]
  },
  {
   "cell_type": "markdown",
   "metadata": {},
   "source": [
    "# $v_5$"
   ]
  },
  {
   "cell_type": "code",
   "execution_count": 9,
   "metadata": {},
   "outputs": [
    {
     "data": {
      "image/png": "[encoded data removed]",
      "text/latex": [
       "$$\\left [ - u{\\left (x \\right )}, \\quad 0, \\quad x, \\quad - \\operatorname{F_{31}}{\\left (x \\right )}, \\quad - \\operatorname{F_{32}}{\\left (x \\right )}, \\quad - \\operatorname{F_{33}}{\\left (x \\right )}, \\quad 0, \\quad 0, \\quad 0, \\quad \\operatorname{F_{11}}{\\left (x \\right )}, \\quad \\operatorname{F_{12}}{\\left (x \\right )}, \\quad \\operatorname{F_{13}}{\\left (x \\right )}\\right ]$$"
      ],
      "text/plain": [
       "[-u(x), 0, x, -F₃₁(x), -F₃₂(x), -F₃₃(x), 0, 0, 0, F₁₁(x), F₁₂(x), F₁₃(x)]"
      ]
     },
     "execution_count": 9,
     "metadata": {},
     "output_type": "execute_result"
    }
   ],
   "source": [
    "v5 = [diff(X,psi2).subs(identity), diff(Y,psi2).subs(identity), diff(U,psi2).subs(identity)]+ flatten(diff(B_new,psi2).subs(identity))\n",
    "v5"
   ]
  },
  {
   "cell_type": "code",
   "execution_count": 10,
   "metadata": {},
   "outputs": [
    {
     "data": {
      "image/png": "[encoded data removed]",
      "text/latex": [
       "$$\\left [ - u, \\quad 0, \\quad x, \\quad - F_{31}, \\quad - F_{32}, \\quad - F_{33}, \\quad 0, \\quad 0, \\quad 0, \\quad F_{11}, \\quad F_{12}, \\quad F_{13}, \\quad u_{x} y_{x}, \\quad u_{x}^{2} + 1, \\quad F_{11 x} u_{x} - F_{31x}, \\quad F_{12 x} u_{x} - F_{32x}, \\quad F_{13 x} u_{x} - F_{33x}, \\quad F_{21 x} u_{x}, \\quad F_{22 x} u_{x}, \\quad F_{23 x} u_{x}, \\quad F_{31 x} u_{x} + F_{11x}, \\quad F_{32 x} u_{x} + F_{12x}, \\quad F_{33 x} u_{x} + F_{13x}\\right ]$$"
      ],
      "text/plain": [
       "⎡                                                             2               \n",
       "⎣-u, 0, x, -F₃₁, -F₃₂, -F₃₃, 0, 0, 0, F₁₁, F₁₂, F₁₃, uₓ⋅yₓ, uₓ  + 1, F₁₁ ₓ⋅uₓ \n",
       "\n",
       "                                                                              \n",
       "- F₃₁ₓ, F₁₂ ₓ⋅uₓ - F₃₂ₓ, F₁₃ ₓ⋅uₓ - F₃₃ₓ, F₂₁ ₓ⋅uₓ, F₂₂ ₓ⋅uₓ, F₂₃ ₓ⋅uₓ, F₃₁ ₓ⋅\n",
       "\n",
       "                                           ⎤\n",
       "uₓ + F₁₁ₓ, F₃₂ ₓ⋅uₓ + F₁₂ₓ, F₃₃ ₓ⋅uₓ + F₁₃ₓ⎦"
      ]
     },
     "execution_count": 10,
     "metadata": {},
     "output_type": "execute_result"
    }
   ],
   "source": [
    "pr1_v5 = [v.subs(S) for v in lp.Prolong(A, v5, n)]\n",
    "pr1_v5"
   ]
  },
  {
   "cell_type": "markdown",
   "metadata": {},
   "source": [
    "# $v_6$"
   ]
  },
  {
   "cell_type": "code",
   "execution_count": 11,
   "metadata": {},
   "outputs": [
    {
     "data": {
      "image/png": "[encoded data removed]",
      "text/latex": [
       "$$\\left [ 0, \\quad - u{\\left (x \\right )}, \\quad y{\\left (x \\right )}, \\quad 0, \\quad 0, \\quad 0, \\quad - \\operatorname{F_{31}}{\\left (x \\right )}, \\quad - \\operatorname{F_{32}}{\\left (x \\right )}, \\quad - \\operatorname{F_{33}}{\\left (x \\right )}, \\quad \\operatorname{F_{21}}{\\left (x \\right )}, \\quad \\operatorname{F_{22}}{\\left (x \\right )}, \\quad \\operatorname{F_{23}}{\\left (x \\right )}\\right ]$$"
      ],
      "text/plain": [
       "[0, -u(x), y(x), 0, 0, 0, -F₃₁(x), -F₃₂(x), -F₃₃(x), F₂₁(x), F₂₂(x), F₂₃(x)]"
      ]
     },
     "execution_count": 11,
     "metadata": {},
     "output_type": "execute_result"
    }
   ],
   "source": [
    "v6 = [diff(X,psi3).subs(identity), diff(Y,psi3).subs(identity), diff(U,psi3).subs(identity)]+ flatten(diff(B_new,psi3).subs(identity))\n",
    "v6"
   ]
  },
  {
   "cell_type": "code",
   "execution_count": 12,
   "metadata": {},
   "outputs": [
    {
     "data": {
      "image/png": "[encoded data removed]",
      "text/latex": [
       "$$\\left [ 0, \\quad - u, \\quad y, \\quad 0, \\quad 0, \\quad 0, \\quad - F_{31}, \\quad - F_{32}, \\quad - F_{33}, \\quad F_{21}, \\quad F_{22}, \\quad F_{23}, \\quad - u_{x}, \\quad y_{x}, \\quad 0, \\quad 0, \\quad 0, \\quad - F_{31x}, \\quad - F_{32x}, \\quad - F_{33x}, \\quad F_{21x}, \\quad F_{22x}, \\quad F_{23x}\\right ]$$"
      ],
      "text/plain": [
       "[0, -u, y, 0, 0, 0, -F₃₁, -F₃₂, -F₃₃, F₂₁, F₂₂, F₂₃, -uₓ, yₓ, 0, 0, 0, -F₃₁ₓ, \n",
       "-F₃₂ₓ, -F₃₃ₓ, F₂₁ₓ, F₂₂ₓ, F₂₃ₓ]"
      ]
     },
     "execution_count": 12,
     "metadata": {},
     "output_type": "execute_result"
    }
   ],
   "source": [
    "pr1_v6 = [v.subs(S) for v in lp.Prolong(A, v6, n)]\n",
    "pr1_v6"
   ]
  },
  {
   "cell_type": "markdown",
   "metadata": {},
   "source": [
    "# Basic Contact forms\n",
    "The contact forms for the frame portion of our moving frame are given by the linearly independententries of $$dg\\, g^{-1}-g_xg^{-1}dx$$"
   ]
  },
  {
   "cell_type": "code",
   "execution_count": 13,
   "metadata": {},
   "outputs": [
    {
     "data": {
      "image/png": "[encoded data removed]",
      "text/latex": [
       "$$\\left[\\begin{matrix}0 & F_{21} dF_{11} + F_{22} dF_{12} + F_{23} dF_{13} - dx \\left(F_{11x} F_{21} + F_{12x} F_{22} + F_{13x} F_{23}\\right) & F_{31} dF_{11} + F_{32} dF_{12} + F_{33} dF_{13} - dx \\left(F_{11x} F_{31} + F_{12x} F_{32} + F_{13x} F_{33}\\right)\\\\F_{11} dF_{21} + F_{12} dF_{22} + F_{13} dF_{23} - dx \\left(F_{11} F_{21x} + F_{12} F_{22x} + F_{13} F_{23x}\\right) & 0 & F_{31} dF_{21} + F_{32} dF_{22} + F_{33} dF_{23} - dx \\left(F_{21x} F_{31} + F_{22x} F_{32} + F_{23x} F_{33}\\right)\\\\F_{11} dF_{31} + F_{12} dF_{32} + F_{13} dF_{33} - dx \\left(F_{11} F_{31x} + F_{12} F_{32x} + F_{13} F_{33x}\\right) & F_{21} dF_{31} + F_{22} dF_{32} + F_{23} dF_{33} - dx \\left(F_{21} F_{31x} + F_{22} F_{32x} + F_{23} F_{33x}\\right) & 0\\end{matrix}\\right]$$"
      ],
      "text/plain": [
       "⎡                                 0                                    F₂₁⋅dF₁\n",
       "⎢                                                                             \n",
       "⎢F₁₁⋅dF₂₁ + F₁₂⋅dF₂₂ + F₁₃⋅dF₂₃ - dx⋅(F₁₁⋅F₂₁ₓ + F₁₂⋅F₂₂ₓ + F₁₃⋅F₂₃ₓ)         \n",
       "⎢                                                                             \n",
       "⎣F₁₁⋅dF₃₁ + F₁₂⋅dF₃₂ + F₁₃⋅dF₃₃ - dx⋅(F₁₁⋅F₃₁ₓ + F₁₂⋅F₃₂ₓ + F₁₃⋅F₃₃ₓ)  F₂₁⋅dF₃\n",
       "\n",
       "₁ + F₂₂⋅dF₁₂ + F₂₃⋅dF₁₃ - dx⋅(F₁₁ₓ⋅F₂₁ + F₁₂ₓ⋅F₂₂ + F₁₃ₓ⋅F₂₃)  F₃₁⋅dF₁₁ + F₃₂⋅\n",
       "                                                                              \n",
       "                          0                                    F₃₁⋅dF₂₁ + F₃₂⋅\n",
       "                                                                              \n",
       "₁ + F₂₂⋅dF₃₂ + F₂₃⋅dF₃₃ - dx⋅(F₂₁⋅F₃₁ₓ + F₂₂⋅F₃₂ₓ + F₂₃⋅F₃₃ₓ)                 \n",
       "\n",
       "dF₁₂ + F₃₃⋅dF₁₃ - dx⋅(F₁₁ₓ⋅F₃₁ + F₁₂ₓ⋅F₃₂ + F₁₃ₓ⋅F₃₃)⎤\n",
       "                                                     ⎥\n",
       "dF₂₂ + F₃₃⋅dF₂₃ - dx⋅(F₂₁ₓ⋅F₃₁ + F₂₂ₓ⋅F₃₂ + F₂₃ₓ⋅F₃₃)⎥\n",
       "                                                     ⎥\n",
       "                  0                                  ⎦"
      ]
     },
     "execution_count": 13,
     "metadata": {},
     "output_type": "execute_result"
    }
   ],
   "source": [
    "temp = (diff(B,x)*B.transpose()).subs(differentials).subs(S) -(diff(B,x)*B.transpose()).subs(S)*dx\n",
    "temp2 = Matrix([[0,temp[0,1],temp[0,2]],[temp[1,0],0,temp[1,2]],[temp[2,0],temp[2,1], 0]])\n",
    "temp2"
   ]
  },
  {
   "cell_type": "code",
   "execution_count": 14,
   "metadata": {},
   "outputs": [
    {
     "data": {
      "image/png": "[encoded data removed]",
      "text/latex": [
       "$$\\left[\\begin{matrix}0 & - d\\varphi_1 \\cos{\\left (\\varphi_{2}{\\left (x \\right )} \\right )} \\cos{\\left (\\varphi_{3}{\\left (x \\right )} \\right )} + d\\varphi_2 \\sin{\\left (\\varphi_{3}{\\left (x \\right )} \\right )} - dx \\sin{\\left (\\varphi_{3}{\\left (x \\right )} \\right )} \\frac{d}{d x} \\varphi_{2}{\\left (x \\right )} + dx \\cos{\\left (\\varphi_{2}{\\left (x \\right )} \\right )} \\cos{\\left (\\varphi_{3}{\\left (x \\right )} \\right )} \\frac{d}{d x} \\varphi_{1}{\\left (x \\right )} & - d\\varphi_1 \\sin{\\left (\\varphi_{3}{\\left (x \\right )} \\right )} \\cos{\\left (\\varphi_{2}{\\left (x \\right )} \\right )} - d\\varphi_2 \\cos{\\left (\\varphi_{3}{\\left (x \\right )} \\right )} + dx \\sin{\\left (\\varphi_{3}{\\left (x \\right )} \\right )} \\cos{\\left (\\varphi_{2}{\\left (x \\right )} \\right )} \\frac{d}{d x} \\varphi_{1}{\\left (x \\right )} + dx \\cos{\\left (\\varphi_{3}{\\left (x \\right )} \\right )} \\frac{d}{d x} \\varphi_{2}{\\left (x \\right )}\\\\d\\varphi_1 \\cos{\\left (\\varphi_{2}{\\left (x \\right )} \\right )} \\cos{\\left (\\varphi_{3}{\\left (x \\right )} \\right )} - d\\varphi_2 \\sin{\\left (\\varphi_{3}{\\left (x \\right )} \\right )} + dx \\sin{\\left (\\varphi_{3}{\\left (x \\right )} \\right )} \\frac{d}{d x} \\varphi_{2}{\\left (x \\right )} - dx \\cos{\\left (\\varphi_{2}{\\left (x \\right )} \\right )} \\cos{\\left (\\varphi_{3}{\\left (x \\right )} \\right )} \\frac{d}{d x} \\varphi_{1}{\\left (x \\right )} & 0 & d\\varphi_1 \\sin{\\left (\\varphi_{2}{\\left (x \\right )} \\right )} - d\\varphi_3 - dx \\sin{\\left (\\varphi_{2}{\\left (x \\right )} \\right )} \\frac{d}{d x} \\varphi_{1}{\\left (x \\right )} + dx \\frac{d}{d x} \\varphi_{3}{\\left (x \\right )}\\\\d\\varphi_1 \\sin{\\left (\\varphi_{3}{\\left (x \\right )} \\right )} \\cos{\\left (\\varphi_{2}{\\left (x \\right )} \\right )} + d\\varphi_2 \\cos{\\left (\\varphi_{3}{\\left (x \\right )} \\right )} - dx \\sin{\\left (\\varphi_{3}{\\left (x \\right )} \\right )} \\cos{\\left (\\varphi_{2}{\\left (x \\right )} \\right )} \\frac{d}{d x} \\varphi_{1}{\\left (x \\right )} - dx \\cos{\\left (\\varphi_{3}{\\left (x \\right )} \\right )} \\frac{d}{d x} \\varphi_{2}{\\left (x \\right )} & - d\\varphi_1 \\sin{\\left (\\varphi_{2}{\\left (x \\right )} \\right )} + d\\varphi_3 + dx \\sin{\\left (\\varphi_{2}{\\left (x \\right )} \\right )} \\frac{d}{d x} \\varphi_{1}{\\left (x \\right )} - dx \\frac{d}{d x} \\varphi_{3}{\\left (x \\right )} & 0\\end{matrix}\\right]$$"
      ],
      "text/plain": [
       "⎡                                                                             \n",
       "⎢                                                                             \n",
       "⎢                                                                             \n",
       "⎢                                                                             \n",
       "⎢                                                                             \n",
       "⎢d\\varphi₁⋅cos(varphi₂(x))⋅cos(varphi₃(x)) - d\\varphi₂⋅sin(varphi₃(x)) + dx⋅si\n",
       "⎢                                                                             \n",
       "⎢                                                                             \n",
       "⎢                                                                             \n",
       "⎢d\\varphi₁⋅sin(varphi₃(x))⋅cos(varphi₂(x)) + d\\varphi₂⋅cos(varphi₃(x)) - dx⋅si\n",
       "⎣                                                                             \n",
       "\n",
       "                                                                              \n",
       " 0                                                                            \n",
       "                                                                              \n",
       "                                                                              \n",
       "              d                                                   d           \n",
       "n(varphi₃(x))⋅──(varphi₂(x)) - dx⋅cos(varphi₂(x))⋅cos(varphi₃(x))⋅──(varphi₁(x\n",
       "              dx                                                  dx          \n",
       "                                                                              \n",
       "                              d                                   d           \n",
       "n(varphi₃(x))⋅cos(varphi₂(x))⋅──(varphi₁(x)) - dx⋅cos(varphi₃(x))⋅──(varphi₂(x\n",
       "                              dx                                  dx          \n",
       "\n",
       "                                                                              \n",
       "    -d\\varphi₁⋅cos(varphi₂(x))⋅cos(varphi₃(x)) + d\\varphi₂⋅sin(varphi₃(x)) - d\n",
       "                                                                              \n",
       "                                                                              \n",
       "                                                                              \n",
       "))                                                                            \n",
       "                                                                              \n",
       "                                                                              \n",
       "                                                                              \n",
       "))                                  -d\\varphi₁⋅sin(varphi₂(x)) + d\\varphi₃ + d\n",
       "                                                                              \n",
       "\n",
       "                  d                                                   d       \n",
       "x⋅sin(varphi₃(x))⋅──(varphi₂(x)) + dx⋅cos(varphi₂(x))⋅cos(varphi₃(x))⋅──(varph\n",
       "                  dx                                                  dx      \n",
       "                                                                              \n",
       "                                                                              \n",
       "    0                                                                         \n",
       "                                                                              \n",
       "                                                                              \n",
       "                  d                   d                                       \n",
       "x⋅sin(varphi₂(x))⋅──(varphi₁(x)) - dx⋅──(varphi₃(x))                          \n",
       "                  dx                  dx                                      \n",
       "\n",
       "                                                                              \n",
       "i₁(x))  -d\\varphi₁⋅sin(varphi₃(x))⋅cos(varphi₂(x)) - d\\varphi₂⋅cos(varphi₃(x))\n",
       "                                                                              \n",
       "                                                                              \n",
       "                                                                              \n",
       "                                        d\\varphi₁⋅sin(varphi₂(x)) - d\\varphi₃ \n",
       "                                                                              \n",
       "                                                                              \n",
       "                                                                              \n",
       "                                                                              \n",
       "                                                                              \n",
       "\n",
       "                                      d                                   d   \n",
       " + dx⋅sin(varphi₃(x))⋅cos(varphi₂(x))⋅──(varphi₁(x)) + dx⋅cos(varphi₃(x))⋅──(v\n",
       "                                      dx                                  dx  \n",
       "                                                                              \n",
       "                     d                   d                                    \n",
       "- dx⋅sin(varphi₂(x))⋅──(varphi₁(x)) + dx⋅──(varphi₃(x))                       \n",
       "                     dx                  dx                                   \n",
       "                                                                              \n",
       "                                                                              \n",
       "        0                                                                     \n",
       "                                                                              \n",
       "\n",
       "          ⎤\n",
       "arphi₂(x))⎥\n",
       "          ⎥\n",
       "          ⎥\n",
       "          ⎥\n",
       "          ⎥\n",
       "          ⎥\n",
       "          ⎥\n",
       "          ⎥\n",
       "          ⎥\n",
       "          ⎦"
      ]
     },
     "execution_count": 14,
     "metadata": {},
     "output_type": "execute_result"
    }
   ],
   "source": [
    "temp = (diff(F,x)*F.transpose()).subs({diff(phi1,x):dp1, diff(phi2,x):dp2, diff(phi3,x):dp3}).subs(S) -(diff(F,x)*F.transpose()).subs(S)*dx\n",
    "temp2 = Matrix([[0,temp[0,1],temp[0,2]],[temp[1,0],0,temp[1,2]],[temp[2,0],temp[2,1], 0]])\n",
    "simplify(temp2)"
   ]
  },
  {
   "cell_type": "markdown",
   "metadata": {},
   "source": [
    "# Lie Derivatives in General Matrix Coordinates"
   ]
  },
  {
   "cell_type": "code",
   "execution_count": 15,
   "metadata": {},
   "outputs": [],
   "source": [
    "w1_lower = [-(symbols('F11')*symbols('F21_x')+symbols('F12')*symbols('F22_x')+symbols('F13')*symbols('F23_x')), 0, 0, 0, 0, 0, symbols('F11'), symbols('F12'), symbols('F13'), 0, 0, 0]\n",
    "w1_upper = [-(symbols('F21')*symbols('F11_x')+symbols('F22')*symbols('F12_x')+symbols('F23')*symbols('F13_x')), 0, 0, symbols('F21'), symbols('F22'), symbols('F23'), 0, 0, 0, 0, 0, 0]\n",
    "\n",
    "w2_lower = [-(symbols('F11')*symbols('F31_x')+symbols('F12')*symbols('F32_x')+symbols('F13')*symbols('F33_x')), 0, 0, 0, 0, 0, 0, 0, 0, symbols('F11'), symbols('F12'), symbols('F13')]\n",
    "w2_upper = [-(symbols('F31')*symbols('F11_x')+symbols('F32')*symbols('F12_x')+symbols('F33')*symbols('F13_x')),0, 0, symbols('F31'), symbols('F32'), symbols('F33'), 0, 0, 0, 0, 0, 0]\n",
    "\n",
    "w3_lower = [-(symbols('F21')*symbols('F31_x')+symbols('F22')*symbols('F32_x')+symbols('F23')*symbols('F33_x')), 0, 0, 0, 0, 0, symbols('F31'), symbols('F32'), symbols('F33'), 0, 0, 0]\n",
    "w3_upper = [-(symbols('F11')*symbols('F31_x')+symbols('F12')*symbols('F32_x')+symbols('F13')*symbols('F33_x')), 0, 0, 0, 0, 0, 0, 0, 0, symbols('F21'), symbols('F22'), symbols('F23')]\n",
    "\n",
    "\n",
    "w1 = [0.5*(a-b) for a,b in zip(w1_lower,w1_upper)]\n",
    "w2 = [0.5*(a-b) for a,b in zip(w2_lower,w2_upper)]\n",
    "w3 = [0.5*(a-b) for a,b in zip(w3_lower,w3_upper)]"
   ]
  },
  {
   "cell_type": "markdown",
   "metadata": {},
   "source": [
    "# $w_1$"
   ]
  },
  {
   "cell_type": "code",
   "execution_count": 16,
   "metadata": {},
   "outputs": [
    {
     "data": {
      "image/png": "[encoded data removed]",
      "text/latex": [
       "$$- F_{21} \\theta^{F21} - F_{22} \\theta^{F22} - F_{23} \\theta^{F23} + \\left(F_{11} F_{21 x} + F_{12} F_{22 x} + F_{13} F_{23 x}\\right) \\theta^{y}$$"
      ],
      "text/plain": [
       "-F₂₁⋅θ__F21 - F₂₂⋅θ__F22 - F₂₃⋅θ__F23 + (F₁₁⋅F₂₁ ₓ + F₁₂⋅F₂₂ ₓ + F₁₃⋅F₂₃ ₓ)⋅θ_\n",
       "_y"
      ]
     },
     "execution_count": 16,
     "metadata": {},
     "output_type": "execute_result"
    }
   ],
   "source": [
    "lp.Lie_derivative(A, n, pr1_v4, w1_lower)"
   ]
  },
  {
   "cell_type": "code",
   "execution_count": 17,
   "metadata": {},
   "outputs": [
    {
     "data": {
      "image/png": "[encoded data removed]",
      "text/latex": [
       "$$- F_{31} \\theta^{F21} - F_{32} \\theta^{F22} - F_{33} \\theta^{F23} + \\left(F_{11} F_{21 x} + F_{12} F_{22 x} + F_{13} F_{23 x}\\right) \\theta^{u}$$"
      ],
      "text/plain": [
       "-F₃₁⋅θ__F21 - F₃₂⋅θ__F22 - F₃₃⋅θ__F23 + (F₁₁⋅F₂₁ ₓ + F₁₂⋅F₂₂ ₓ + F₁₃⋅F₂₃ ₓ)⋅θ_\n",
       "_u"
      ]
     },
     "execution_count": 17,
     "metadata": {},
     "output_type": "execute_result"
    }
   ],
   "source": [
    "lp.Lie_derivative(A, n, pr1_v5, w1_lower)"
   ]
  },
  {
   "cell_type": "code",
   "execution_count": 18,
   "metadata": {
    "scrolled": true
   },
   "outputs": [
    {
     "data": {
      "image/png": "[encoded data removed]",
      "text/latex": [
       "$$0$$"
      ],
      "text/plain": [
       "0"
      ]
     },
     "execution_count": 18,
     "metadata": {},
     "output_type": "execute_result"
    }
   ],
   "source": [
    "lp.Lie_derivative(A, n, pr1_v6, w1_lower)"
   ]
  },
  {
   "cell_type": "code",
   "execution_count": 19,
   "metadata": {},
   "outputs": [
    {
     "data": {
      "image/png": "[encoded data removed]",
      "text/latex": [
       "$$F_{11} \\theta^{F11} + F_{12} \\theta^{F12} + F_{13} \\theta^{F13} + \\left(F_{11 x} F_{21} + F_{12 x} F_{22} + F_{13 x} F_{23}\\right) \\theta^{y}$$"
      ],
      "text/plain": [
       "F₁₁⋅θ__F11 + F₁₂⋅θ__F12 + F₁₃⋅θ__F13 + (F₁₁ ₓ⋅F₂₁ + F₁₂ ₓ⋅F₂₂ + F₁₃ ₓ⋅F₂₃)⋅θ__\n",
       "y"
      ]
     },
     "execution_count": 19,
     "metadata": {},
     "output_type": "execute_result"
    }
   ],
   "source": [
    "lp.Lie_derivative(A, n, pr1_v4, w1_upper)"
   ]
  },
  {
   "cell_type": "code",
   "execution_count": 20,
   "metadata": {},
   "outputs": [
    {
     "data": {
      "image/png": "[encoded data removed]",
      "text/latex": [
       "$$\\left(F_{11 x} F_{21} + F_{12 x} F_{22} + F_{13 x} F_{23}\\right) \\theta^{u}$$"
      ],
      "text/plain": [
       "(F₁₁ ₓ⋅F₂₁ + F₁₂ ₓ⋅F₂₂ + F₁₃ ₓ⋅F₂₃)⋅θ__u"
      ]
     },
     "execution_count": 20,
     "metadata": {},
     "output_type": "execute_result"
    }
   ],
   "source": [
    "lp.Lie_derivative(A, n, pr1_v5, w1_upper)"
   ]
  },
  {
   "cell_type": "code",
   "execution_count": 21,
   "metadata": {},
   "outputs": [
    {
     "data": {
      "image/png": "[encoded data removed]",
      "text/latex": [
       "$$- F_{31} \\theta^{F11} - F_{32} \\theta^{F12} - F_{33} \\theta^{F13}$$"
      ],
      "text/plain": [
       "-F₃₁⋅θ__F11 - F₃₂⋅θ__F12 - F₃₃⋅θ__F13"
      ]
     },
     "execution_count": 21,
     "metadata": {},
     "output_type": "execute_result"
    }
   ],
   "source": [
    "lp.Lie_derivative(A, n, pr1_v6, w1_upper)"
   ]
  },
  {
   "cell_type": "markdown",
   "metadata": {},
   "source": [
    "# $w_2$"
   ]
  },
  {
   "cell_type": "code",
   "execution_count": 22,
   "metadata": {},
   "outputs": [
    {
     "data": {
      "image/png": "[encoded data removed]",
      "text/latex": [
       "$$- F_{21} \\theta^{F31} - F_{22} \\theta^{F32} - F_{23} \\theta^{F33} + \\left(F_{11} F_{31 x} + F_{12} F_{32 x} + F_{13} F_{33 x}\\right) \\theta^{y}$$"
      ],
      "text/plain": [
       "-F₂₁⋅θ__F31 - F₂₂⋅θ__F32 - F₂₃⋅θ__F33 + (F₁₁⋅F₃₁ ₓ + F₁₂⋅F₃₂ ₓ + F₁₃⋅F₃₃ ₓ)⋅θ_\n",
       "_y"
      ]
     },
     "execution_count": 22,
     "metadata": {},
     "output_type": "execute_result"
    }
   ],
   "source": [
    "lp.Lie_derivative(A, n, pr1_v4, w2_lower)"
   ]
  },
  {
   "cell_type": "code",
   "execution_count": 23,
   "metadata": {},
   "outputs": [
    {
     "data": {
      "image/png": "[encoded data removed]",
      "text/latex": [
       "$$- F_{31} \\theta^{F31} - F_{32} \\theta^{F32} - F_{33} \\theta^{F33} + \\left(F_{11} F_{31 x} + F_{12} F_{32 x} + F_{13} F_{33 x}\\right) \\theta^{u}$$"
      ],
      "text/plain": [
       "-F₃₁⋅θ__F31 - F₃₂⋅θ__F32 - F₃₃⋅θ__F33 + (F₁₁⋅F₃₁ ₓ + F₁₂⋅F₃₂ ₓ + F₁₃⋅F₃₃ ₓ)⋅θ_\n",
       "_u"
      ]
     },
     "execution_count": 23,
     "metadata": {},
     "output_type": "execute_result"
    }
   ],
   "source": [
    "lp.Lie_derivative(A, n, pr1_v5, w2_lower)"
   ]
  },
  {
   "cell_type": "code",
   "execution_count": 24,
   "metadata": {},
   "outputs": [
    {
     "data": {
      "image/png": "[encoded data removed]",
      "text/latex": [
       "$$0$$"
      ],
      "text/plain": [
       "0"
      ]
     },
     "execution_count": 24,
     "metadata": {},
     "output_type": "execute_result"
    }
   ],
   "source": [
    "lp.Lie_derivative(A, n, pr1_v6, w2_lower)"
   ]
  },
  {
   "cell_type": "code",
   "execution_count": 25,
   "metadata": {},
   "outputs": [
    {
     "data": {
      "image/png": "[encoded data removed]",
      "text/latex": [
       "$$\\left(F_{11 x} F_{31} + F_{12 x} F_{32} + F_{13 x} F_{33}\\right) \\theta^{y}$$"
      ],
      "text/plain": [
       "(F₁₁ ₓ⋅F₃₁ + F₁₂ ₓ⋅F₃₂ + F₁₃ ₓ⋅F₃₃)⋅θ__y"
      ]
     },
     "execution_count": 25,
     "metadata": {},
     "output_type": "execute_result"
    }
   ],
   "source": [
    "lp.Lie_derivative(A, n, pr1_v4, w2_upper)"
   ]
  },
  {
   "cell_type": "code",
   "execution_count": 26,
   "metadata": {},
   "outputs": [
    {
     "data": {
      "image/png": "[encoded data removed]",
      "text/latex": [
       "$$F_{11} \\theta^{F11} + F_{12} \\theta^{F12} + F_{13} \\theta^{F13} + \\left(F_{11 x} F_{31} + F_{12 x} F_{32} + F_{13 x} F_{33}\\right) \\theta^{u}$$"
      ],
      "text/plain": [
       "F₁₁⋅θ__F11 + F₁₂⋅θ__F12 + F₁₃⋅θ__F13 + (F₁₁ ₓ⋅F₃₁ + F₁₂ ₓ⋅F₃₂ + F₁₃ ₓ⋅F₃₃)⋅θ__\n",
       "u"
      ]
     },
     "execution_count": 26,
     "metadata": {},
     "output_type": "execute_result"
    }
   ],
   "source": [
    "lp.Lie_derivative(A, n, pr1_v5, w2_upper)"
   ]
  },
  {
   "cell_type": "code",
   "execution_count": 27,
   "metadata": {},
   "outputs": [
    {
     "data": {
      "image/png": "[encoded data removed]",
      "text/latex": [
       "$$F_{21} \\theta^{F11} + F_{22} \\theta^{F12} + F_{23} \\theta^{F13}$$"
      ],
      "text/plain": [
       "F₂₁⋅θ__F11 + F₂₂⋅θ__F12 + F₂₃⋅θ__F13"
      ]
     },
     "execution_count": 27,
     "metadata": {},
     "output_type": "execute_result"
    }
   ],
   "source": [
    "lp.Lie_derivative(A, n, pr1_v6, w2_upper)"
   ]
  },
  {
   "cell_type": "markdown",
   "metadata": {},
   "source": [
    "# $w_3$"
   ]
  },
  {
   "cell_type": "code",
   "execution_count": 28,
   "metadata": {},
   "outputs": [
    {
     "data": {
      "image/png": "[encoded data removed]",
      "text/latex": [
       "$$\\left(F_{21} F_{31 x} + F_{22} F_{32 x} + F_{23} F_{33 x}\\right) \\theta^{y}$$"
      ],
      "text/plain": [
       "(F₂₁⋅F₃₁ ₓ + F₂₂⋅F₃₂ ₓ + F₂₃⋅F₃₃ ₓ)⋅θ__y"
      ]
     },
     "execution_count": 28,
     "metadata": {},
     "output_type": "execute_result"
    }
   ],
   "source": [
    "lp.Lie_derivative(A, n, pr1_v4, w3_lower)"
   ]
  },
  {
   "cell_type": "code",
   "execution_count": 29,
   "metadata": {},
   "outputs": [
    {
     "data": {
      "image/png": "[encoded data removed]",
      "text/latex": [
       "$$F_{11} \\theta^{F21} + F_{12} \\theta^{F22} + F_{13} \\theta^{F23} + \\left(F_{21} F_{31 x} + F_{22} F_{32 x} + F_{23} F_{33 x}\\right) \\theta^{u}$$"
      ],
      "text/plain": [
       "F₁₁⋅θ__F21 + F₁₂⋅θ__F22 + F₁₃⋅θ__F23 + (F₂₁⋅F₃₁ ₓ + F₂₂⋅F₃₂ ₓ + F₂₃⋅F₃₃ ₓ)⋅θ__\n",
       "u"
      ]
     },
     "execution_count": 29,
     "metadata": {},
     "output_type": "execute_result"
    }
   ],
   "source": [
    "lp.Lie_derivative(A, n, pr1_v5, w3_lower)"
   ]
  },
  {
   "cell_type": "code",
   "execution_count": 30,
   "metadata": {},
   "outputs": [
    {
     "data": {
      "image/png": "[encoded data removed]",
      "text/latex": [
       "$$F_{21} \\theta^{F21} + F_{22} \\theta^{F22} + F_{23} \\theta^{F23}$$"
      ],
      "text/plain": [
       "F₂₁⋅θ__F21 + F₂₂⋅θ__F22 + F₂₃⋅θ__F23"
      ]
     },
     "execution_count": 30,
     "metadata": {},
     "output_type": "execute_result"
    }
   ],
   "source": [
    "lp.Lie_derivative(A, n, pr1_v6, w3_lower)"
   ]
  },
  {
   "cell_type": "code",
   "execution_count": 31,
   "metadata": {},
   "outputs": [
    {
     "data": {
      "image/png": "[encoded data removed]",
      "text/latex": [
       "$$F_{11} \\theta^{F31} + F_{12} \\theta^{F32} + F_{13} \\theta^{F33} + \\left(F_{11} F_{31 x} + F_{12} F_{32 x} + F_{13} F_{33 x}\\right) \\theta^{y}$$"
      ],
      "text/plain": [
       "F₁₁⋅θ__F31 + F₁₂⋅θ__F32 + F₁₃⋅θ__F33 + (F₁₁⋅F₃₁ ₓ + F₁₂⋅F₃₂ ₓ + F₁₃⋅F₃₃ ₓ)⋅θ__\n",
       "y"
      ]
     },
     "execution_count": 31,
     "metadata": {},
     "output_type": "execute_result"
    }
   ],
   "source": [
    "lp.Lie_derivative(A, n, pr1_v4, w3_upper)"
   ]
  },
  {
   "cell_type": "code",
   "execution_count": 32,
   "metadata": {},
   "outputs": [
    {
     "data": {
      "image/png": "[encoded data removed]",
      "text/latex": [
       "$$\\left(F_{11} F_{31 x} + F_{12} F_{32 x} + F_{13} F_{33 x}\\right) \\theta^{u}$$"
      ],
      "text/plain": [
       "(F₁₁⋅F₃₁ ₓ + F₁₂⋅F₃₂ ₓ + F₁₃⋅F₃₃ ₓ)⋅θ__u"
      ]
     },
     "execution_count": 32,
     "metadata": {},
     "output_type": "execute_result"
    }
   ],
   "source": [
    "lp.Lie_derivative(A, n, pr1_v5, w3_upper)"
   ]
  },
  {
   "cell_type": "code",
   "execution_count": 33,
   "metadata": {},
   "outputs": [
    {
     "data": {
      "image/png": "[encoded data removed]",
      "text/latex": [
       "$$- F_{31} \\theta^{F31} - F_{32} \\theta^{F32} - F_{33} \\theta^{F33}$$"
      ],
      "text/plain": [
       "-F₃₁⋅θ__F31 - F₃₂⋅θ__F32 - F₃₃⋅θ__F33"
      ]
     },
     "execution_count": 33,
     "metadata": {},
     "output_type": "execute_result"
    }
   ],
   "source": [
    "lp.Lie_derivative(A, n, pr1_v6, w3_upper)"
   ]
  },
  {
   "cell_type": "markdown",
   "metadata": {},
   "source": [
    "# Create Dictionary to Compute the Pullback of the Basic Contact Form"
   ]
  },
  {
   "cell_type": "code",
   "execution_count": 34,
   "metadata": {},
   "outputs": [],
   "source": [
    "def pb_contact_form(i,j):\n",
    "    return diff(F[i-1,j-1],phi1)*symbols('\\\\theta^{\\\\varphi_1}') + diff(F[i-1,j-1],phi2)*symbols('\\\\theta^{\\\\varphi_2}') + diff(F[i-1,j-1],phi3)*symbols('\\\\theta^{\\\\varphi_3}')\n",
    "\n",
    "fun_to_sym_angle = {phi1: symbols('\\\\varphi_1'), phi2: symbols('\\\\varphi_2'), phi3: symbols('\\\\varphi_3'),\n",
    "                   diff(phi1,x): symbols('\\\\varphi_{1x}'), diff(phi2,x): symbols('\\\\varphi_{2x}'), diff(phi3,x): symbols('\\\\varphi_{3x}')}\n",
    "\n",
    "temp3 = diff(F,x).subs(fun_to_sym_angle)\n",
    "\n",
    "pullback = {symbols('theta^F11', commutative=False):pb_contact_form(1,1),\n",
    "            symbols('theta^F12', commutative=False):pb_contact_form(1,2),\n",
    "            symbols('theta^F13', commutative=False):pb_contact_form(1,3),\n",
    "            symbols('theta^F21', commutative=False):pb_contact_form(2,1),\n",
    "            symbols('theta^F22', commutative=False):pb_contact_form(2,2),\n",
    "            symbols('theta^F23', commutative=False):pb_contact_form(2,3),\n",
    "            symbols('theta^F31', commutative=False):pb_contact_form(3,1),\n",
    "            symbols('theta^F32', commutative=False):pb_contact_form(3,2),\n",
    "            symbols('theta^F33', commutative=False):pb_contact_form(3,3),\n",
    "            symbols('F_11'): F[0,0], symbols('F_12'): F[0,1], symbols('F_13'): F[0,2],\n",
    "            symbols('F_21'): F[1,0], symbols('F_22'): F[1,1], symbols('F_23'): F[1,2],\n",
    "            symbols('F_31'): F[2,0], symbols('F_32'): F[2,1], symbols('F_33'): F[2,2],\n",
    "            symbols('F11'): F[0,0], symbols('F12'): F[0,1], symbols('F13'): F[0,2],\n",
    "            symbols('F21'): F[1,0], symbols('F22'): F[1,1], symbols('F23'): F[1,2],\n",
    "            symbols('F31'): F[2,0], symbols('F32'): F[2,1], symbols('F33'): F[2,2],\n",
    "            symbols('F11_x'): temp3[0,0], symbols('F12_x'): temp3[0,1], symbols('F13_x'): temp3[0,2],\n",
    "            symbols('F21_x'): temp3[1,0], symbols('F22_x'): temp3[1,1], symbols('F23_x'): temp3[1,2],\n",
    "            symbols('F31_x'): temp3[2,0], symbols('F32_x'): temp3[2,1], symbols('F33_x'): temp3[2,2]}"
   ]
  },
  {
   "cell_type": "markdown",
   "metadata": {},
   "source": [
    "# $w_1$"
   ]
  },
  {
   "cell_type": "code",
   "execution_count": 35,
   "metadata": {},
   "outputs": [],
   "source": [
    "q1_4_lower = simplify(lp.Lie_derivative(A, n, pr1_v4,w1_lower).xreplace(pullback).subs(fun_to_sym_angle))\n",
    "q1_5_lower = simplify(lp.Lie_derivative(A, n, pr1_v5,w1_lower).xreplace(pullback).subs(fun_to_sym_angle))\n",
    "q1_6_lower = simplify(lp.Lie_derivative(A, n, pr1_v6,w1_lower).xreplace(pullback).subs(fun_to_sym_angle))\n",
    "q1_4_upper = simplify(lp.Lie_derivative(A, n, pr1_v4,w1_upper).xreplace(pullback).subs(fun_to_sym_angle))\n",
    "q1_5_upper = simplify(lp.Lie_derivative(A, n, pr1_v5,w1_upper).xreplace(pullback).subs(fun_to_sym_angle))\n",
    "q1_6_upper = simplify(lp.Lie_derivative(A, n, pr1_v6,w1_upper).xreplace(pullback).subs(fun_to_sym_angle))"
   ]
  },
  {
   "cell_type": "code",
   "execution_count": 36,
   "metadata": {},
   "outputs": [
    {
     "data": {
      "image/png": "[encoded data removed]",
      "text/latex": [
       "$$\\varphi_{1x} \\cos{\\left (\\varphi_2 \\right )} \\cos{\\left (\\varphi_3 \\right )} \\theta^{y} - \\varphi_{2x} \\sin{\\left (\\varphi_3 \\right )} \\theta^{y}$$"
      ],
      "text/plain": [
       "\\varphi_{1x}⋅cos(\\varphi₂)⋅cos(\\varphi₃)⋅θ__y - \\varphi_{2x}⋅sin(\\varphi₃)⋅θ__\n",
       "y"
      ]
     },
     "execution_count": 36,
     "metadata": {},
     "output_type": "execute_result"
    }
   ],
   "source": [
    "q1_4_lower"
   ]
  },
  {
   "cell_type": "code",
   "execution_count": 37,
   "metadata": {},
   "outputs": [
    {
     "data": {
      "image/png": "[encoded data removed]",
      "text/latex": [
       "$$- \\theta^{\\varphi_1} \\sin{\\left (\\varphi_2 \\right )} + \\theta^{\\varphi_3} + \\varphi_{1x} \\cos{\\left (\\varphi_2 \\right )} \\cos{\\left (\\varphi_3 \\right )} \\theta^{u} - \\varphi_{2x} \\sin{\\left (\\varphi_3 \\right )} \\theta^{u}$$"
      ],
      "text/plain": [
       "-\\theta_1}__{\\varphi⋅sin(\\varphi₂) + \\theta_3}__{\\varphi + \\varphi_{1x}⋅cos(\\v\n",
       "arphi₂)⋅cos(\\varphi₃)⋅θ__u - \\varphi_{2x}⋅sin(\\varphi₃)⋅θ__u"
      ]
     },
     "execution_count": 37,
     "metadata": {},
     "output_type": "execute_result"
    }
   ],
   "source": [
    "q1_5_lower"
   ]
  },
  {
   "cell_type": "code",
   "execution_count": 38,
   "metadata": {},
   "outputs": [
    {
     "data": {
      "image/png": "[encoded data removed]",
      "text/latex": [
       "$$0$$"
      ],
      "text/plain": [
       "0"
      ]
     },
     "execution_count": 38,
     "metadata": {},
     "output_type": "execute_result"
    }
   ],
   "source": [
    "q1_6_lower"
   ]
  },
  {
   "cell_type": "markdown",
   "metadata": {},
   "source": [
    "# $w_2$"
   ]
  },
  {
   "cell_type": "code",
   "execution_count": 39,
   "metadata": {},
   "outputs": [],
   "source": [
    "q2_4_lower = simplify(lp.Lie_derivative(A, n, pr1_v4,w2_lower).xreplace(pullback).subs(fun_to_sym_angle))\n",
    "q2_5_lower = simplify(lp.Lie_derivative(A, n, pr1_v5,w2_lower).xreplace(pullback).subs(fun_to_sym_angle))\n",
    "q2_6_lower = simplify(lp.Lie_derivative(A, n, pr1_v6,w2_lower).xreplace(pullback).subs(fun_to_sym_angle))\n",
    "q2_4_upper = simplify(lp.Lie_derivative(A, n, pr1_v4,w2_upper).xreplace(pullback).subs(fun_to_sym_angle))\n",
    "q2_5_upper = simplify(lp.Lie_derivative(A, n, pr1_v5,w2_upper).xreplace(pullback).subs(fun_to_sym_angle))\n",
    "q2_6_upper = simplify(lp.Lie_derivative(A, n, pr1_v6,w2_upper).xreplace(pullback).subs(fun_to_sym_angle))"
   ]
  },
  {
   "cell_type": "code",
   "execution_count": 40,
   "metadata": {},
   "outputs": [
    {
     "data": {
      "image/png": "[encoded data removed]",
      "text/latex": [
       "$$\\theta^{\\varphi_1} \\sin{\\left (\\varphi_2 \\right )} - \\theta^{\\varphi_3} + \\varphi_{1x} \\sin{\\left (\\varphi_3 \\right )} \\cos{\\left (\\varphi_2 \\right )} \\theta^{y} + \\varphi_{2x} \\cos{\\left (\\varphi_3 \\right )} \\theta^{y}$$"
      ],
      "text/plain": [
       "\\theta_1}__{\\varphi⋅sin(\\varphi₂) - \\theta_3}__{\\varphi + \\varphi_{1x}⋅sin(\\va\n",
       "rphi₃)⋅cos(\\varphi₂)⋅θ__y + \\varphi_{2x}⋅cos(\\varphi₃)⋅θ__y"
      ]
     },
     "execution_count": 40,
     "metadata": {},
     "output_type": "execute_result"
    }
   ],
   "source": [
    "q2_4_lower"
   ]
  },
  {
   "cell_type": "code",
   "execution_count": 41,
   "metadata": {},
   "outputs": [
    {
     "data": {
      "image/png": "[encoded data removed]",
      "text/latex": [
       "$$\\varphi_{1x} \\sin{\\left (\\varphi_3 \\right )} \\cos{\\left (\\varphi_2 \\right )} \\theta^{u} + \\varphi_{2x} \\cos{\\left (\\varphi_3 \\right )} \\theta^{u}$$"
      ],
      "text/plain": [
       "\\varphi_{1x}⋅sin(\\varphi₃)⋅cos(\\varphi₂)⋅θ__u + \\varphi_{2x}⋅cos(\\varphi₃)⋅θ__\n",
       "u"
      ]
     },
     "execution_count": 41,
     "metadata": {},
     "output_type": "execute_result"
    }
   ],
   "source": [
    "q2_5_lower"
   ]
  },
  {
   "cell_type": "code",
   "execution_count": 42,
   "metadata": {},
   "outputs": [
    {
     "data": {
      "image/png": "[encoded data removed]",
      "text/latex": [
       "$$0$$"
      ],
      "text/plain": [
       "0"
      ]
     },
     "execution_count": 42,
     "metadata": {},
     "output_type": "execute_result"
    }
   ],
   "source": [
    "q2_6_lower"
   ]
  },
  {
   "cell_type": "markdown",
   "metadata": {},
   "source": [
    "# $w_3$"
   ]
  },
  {
   "cell_type": "code",
   "execution_count": 43,
   "metadata": {},
   "outputs": [],
   "source": [
    "q3_4_lower = simplify(lp.Lie_derivative(A, n, pr1_v4,w3_lower).xreplace(pullback).subs(fun_to_sym_angle))\n",
    "q3_5_lower = simplify(lp.Lie_derivative(A, n, pr1_v5,w3_lower).xreplace(pullback).subs(fun_to_sym_angle))\n",
    "q3_6_lower = simplify(lp.Lie_derivative(A, n, pr1_v6,w3_lower).xreplace(pullback).subs(fun_to_sym_angle))\n",
    "q3_4_upper = simplify(lp.Lie_derivative(A, n, pr1_v4,w3_upper).xreplace(pullback).subs(fun_to_sym_angle))\n",
    "q3_5_upper = simplify(lp.Lie_derivative(A, n, pr1_v5,w3_upper).xreplace(pullback).subs(fun_to_sym_angle))\n",
    "q3_6_upper = simplify(lp.Lie_derivative(A, n, pr1_v6,w3_upper).xreplace(pullback).subs(fun_to_sym_angle))"
   ]
  },
  {
   "cell_type": "code",
   "execution_count": 44,
   "metadata": {},
   "outputs": [
    {
     "data": {
      "image/png": "[encoded data removed]",
      "text/latex": [
       "$$\\left(- \\varphi_{1x} \\sin{\\left (\\varphi_2 \\right )} + \\varphi_{3x}\\right) \\theta^{y}$$"
      ],
      "text/plain": [
       "(-\\varphi_{1x}⋅sin(\\varphi₂) + \\varphi_{3x})⋅θ__y"
      ]
     },
     "execution_count": 44,
     "metadata": {},
     "output_type": "execute_result"
    }
   ],
   "source": [
    "q3_4_lower"
   ]
  },
  {
   "cell_type": "code",
   "execution_count": 45,
   "metadata": {},
   "outputs": [
    {
     "data": {
      "image/png": "[encoded data removed]",
      "text/latex": [
       "$$\\theta^{\\varphi_1} \\cos{\\left (\\varphi_2 \\right )} \\cos{\\left (\\varphi_3 \\right )} - \\theta^{\\varphi_2} \\sin{\\left (\\varphi_3 \\right )} - \\varphi_{1x} \\sin{\\left (\\varphi_2 \\right )} \\theta^{u} + \\varphi_{3x} \\theta^{u}$$"
      ],
      "text/plain": [
       "\\theta_1}__{\\varphi⋅cos(\\varphi₂)⋅cos(\\varphi₃) - \\theta_2}__{\\varphi⋅sin(\\var\n",
       "phi₃) - \\varphi_{1x}⋅sin(\\varphi₂)⋅θ__u + \\varphi_{3x}⋅θ__u"
      ]
     },
     "execution_count": 45,
     "metadata": {},
     "output_type": "execute_result"
    }
   ],
   "source": [
    "q3_5_lower"
   ]
  },
  {
   "cell_type": "code",
   "execution_count": 46,
   "metadata": {},
   "outputs": [
    {
     "data": {
      "image/png": "[encoded data removed]",
      "text/latex": [
       "$$0$$"
      ],
      "text/plain": [
       "0"
      ]
     },
     "execution_count": 46,
     "metadata": {},
     "output_type": "execute_result"
    }
   ],
   "source": [
    "q3_6_lower"
   ]
  },
  {
   "cell_type": "markdown",
   "metadata": {},
   "source": [
    "# Pullback of $w_i$"
   ]
  },
  {
   "cell_type": "code",
   "execution_count": 47,
   "metadata": {},
   "outputs": [],
   "source": [
    "w1_angle_lower = simplify(F11.subs(S).subs(pullback)*pb_contact_form(2,1) + F12.subs(S).subs(pullback)*pb_contact_form(2,2) + F13.subs(S).subs(pullback)*pb_contact_form(2,3))\n",
    "w1_angle_upper = simplify(F21.subs(S).subs(pullback)*pb_contact_form(1,1) + F22.subs(S).subs(pullback)*pb_contact_form(1,2) + F23.subs(S).subs(pullback)*pb_contact_form(1,3))\n",
    "w2_angle_lower = simplify(F11.subs(S).subs(pullback)*pb_contact_form(3,1) + F12.subs(S).subs(pullback)*pb_contact_form(3,2) + F13.subs(S).subs(pullback)*pb_contact_form(3,3))\n",
    "w2_angle_upper = simplify(F31.subs(S).subs(pullback)*pb_contact_form(1,1) + F32.subs(S).subs(pullback)*pb_contact_form(1,2) + F33.subs(S).subs(pullback)*pb_contact_form(1,3))\n",
    "w3_angle_lower = simplify(F21.subs(S).subs(pullback)*pb_contact_form(3,1) + F22.subs(S).subs(pullback)*pb_contact_form(3,2) + F23.subs(S).subs(pullback)*pb_contact_form(3,3))\n",
    "w3_angle_upper = simplify(F31.subs(S).subs(pullback)*pb_contact_form(2,1) + F32.subs(S).subs(pullback)*pb_contact_form(2,2) + F33.subs(S).subs(pullback)*pb_contact_form(2,3))"
   ]
  },
  {
   "cell_type": "code",
   "execution_count": 48,
   "metadata": {},
   "outputs": [],
   "source": [
    "S1 = {symbols('theta^y',commutative=False):0, symbols('theta^u',commutative=False):0, symbols('\\\\theta^{\\\\varphi_1}'):1, symbols('\\\\theta^{\\\\varphi_2}'):0, symbols('\\\\theta^{\\\\varphi_3}'):0}\n",
    "S2 = {symbols('theta^y',commutative=False):0, symbols('theta^u',commutative=False):0, symbols('\\\\theta^{\\\\varphi_1}'):0, symbols('\\\\theta^{\\\\varphi_2}'):1, symbols('\\\\theta^{\\\\varphi_3}'):0}\n",
    "S3 = {symbols('theta^y',commutative=False):0, symbols('theta^u',commutative=False):0, symbols('\\\\theta^{\\\\varphi_1}'):0, symbols('\\\\theta^{\\\\varphi_2}'):0, symbols('\\\\theta^{\\\\varphi_3}'):1}\n",
    "\n",
    "def pullback_vect_rep_1(w):\n",
    "    return [w.subs(S1), w.subs(S2), w.subs(S3)]\n",
    "\n",
    "M_lower = simplify(Matrix([pullback_vect_rep_1(w1_angle_lower), pullback_vect_rep_1(w2_angle_upper), pullback_vect_rep_1(w3_angle_lower)])).transpose()\n",
    "M_upper = simplify(Matrix([pullback_vect_rep_1(w1_angle_upper), pullback_vect_rep_1(w2_angle_upper), pullback_vect_rep_1(w3_angle_upper)])).transpose()"
   ]
  },
  {
   "cell_type": "code",
   "execution_count": 49,
   "metadata": {},
   "outputs": [
    {
     "data": {
      "image/png": "[encoded data removed]",
      "text/latex": [
       "$$\\left[\\begin{matrix}\\cos{\\left (\\varphi_{2}{\\left (x \\right )} \\right )} \\cos{\\left (\\varphi_{3}{\\left (x \\right )} \\right )} & - \\sin{\\left (\\varphi_{3}{\\left (x \\right )} \\right )} \\cos{\\left (\\varphi_{2}{\\left (x \\right )} \\right )} & - \\sin{\\left (\\varphi_{2}{\\left (x \\right )} \\right )}\\\\- \\sin{\\left (\\varphi_{3}{\\left (x \\right )} \\right )} & - \\cos{\\left (\\varphi_{3}{\\left (x \\right )} \\right )} & 0\\\\0 & 0 & 1\\end{matrix}\\right]$$"
      ],
      "text/plain": [
       "⎡cos(varphi₂(x))⋅cos(varphi₃(x))  -sin(varphi₃(x))⋅cos(varphi₂(x))  -sin(varph\n",
       "⎢                                                                             \n",
       "⎢       -sin(varphi₃(x))                  -cos(varphi₃(x))                 0  \n",
       "⎢                                                                             \n",
       "⎣               0                                0                         1  \n",
       "\n",
       "i₂(x))⎤\n",
       "      ⎥\n",
       "      ⎥\n",
       "      ⎥\n",
       "      ⎦"
      ]
     },
     "execution_count": 49,
     "metadata": {},
     "output_type": "execute_result"
    }
   ],
   "source": [
    "M_lower"
   ]
  },
  {
   "cell_type": "code",
   "execution_count": 50,
   "metadata": {},
   "outputs": [
    {
     "data": {
      "image/png": "[encoded data removed]",
      "text/latex": [
       "$$\\left[\\begin{matrix}- \\cos{\\left (\\varphi_{2}{\\left (x \\right )} \\right )} \\cos{\\left (\\varphi_{3}{\\left (x \\right )} \\right )} & - \\sin{\\left (\\varphi_{3}{\\left (x \\right )} \\right )} \\cos{\\left (\\varphi_{2}{\\left (x \\right )} \\right )} & \\sin{\\left (\\varphi_{2}{\\left (x \\right )} \\right )}\\\\\\sin{\\left (\\varphi_{3}{\\left (x \\right )} \\right )} & - \\cos{\\left (\\varphi_{3}{\\left (x \\right )} \\right )} & 0\\\\0 & 0 & -1\\end{matrix}\\right]$$"
      ],
      "text/plain": [
       "⎡-cos(varphi₂(x))⋅cos(varphi₃(x))  -sin(varphi₃(x))⋅cos(varphi₂(x))  sin(varph\n",
       "⎢                                                                             \n",
       "⎢        sin(varphi₃(x))                   -cos(varphi₃(x))                 0 \n",
       "⎢                                                                             \n",
       "⎣               0                                 0                        -1 \n",
       "\n",
       "i₂(x))⎤\n",
       "      ⎥\n",
       "      ⎥\n",
       "      ⎥\n",
       "      ⎦"
      ]
     },
     "execution_count": 50,
     "metadata": {},
     "output_type": "execute_result"
    }
   ],
   "source": [
    "M_upper"
   ]
  },
  {
   "cell_type": "markdown",
   "metadata": {},
   "source": [
    "# Lie Derivatives of $w_1$"
   ]
  },
  {
   "cell_type": "markdown",
   "metadata": {},
   "source": [
    "lower"
   ]
  },
  {
   "cell_type": "code",
   "execution_count": 51,
   "metadata": {},
   "outputs": [
    {
     "data": {
      "image/png": "[encoded data removed]",
      "text/latex": [
       "$$\\left[\\begin{matrix}0 & 0 & 0\\end{matrix}\\right]$$"
      ],
      "text/plain": [
       "[0  0  0]"
      ]
     },
     "execution_count": 51,
     "metadata": {},
     "output_type": "execute_result"
    }
   ],
   "source": [
    "simplify(M_lower.subs(fun_to_sym_angle).inv()*Matrix(pullback_vect_rep_1(q1_4_lower))).transpose()"
   ]
  },
  {
   "cell_type": "code",
   "execution_count": 52,
   "metadata": {},
   "outputs": [
    {
     "data": {
      "image/png": "[encoded data removed]",
      "text/latex": [
       "$$\\left[\\begin{matrix}0 & 0 & 1\\end{matrix}\\right]$$"
      ],
      "text/plain": [
       "[0  0  1]"
      ]
     },
     "execution_count": 52,
     "metadata": {},
     "output_type": "execute_result"
    }
   ],
   "source": [
    "simplify(M_lower.subs(fun_to_sym_angle).inv()*Matrix(pullback_vect_rep_1(q1_5_lower))).transpose()"
   ]
  },
  {
   "cell_type": "code",
   "execution_count": 53,
   "metadata": {},
   "outputs": [
    {
     "data": {
      "image/png": "[encoded data removed]",
      "text/latex": [
       "$$\\left[\\begin{matrix}0 & 0 & 0\\end{matrix}\\right]$$"
      ],
      "text/plain": [
       "[0  0  0]"
      ]
     },
     "execution_count": 53,
     "metadata": {},
     "output_type": "execute_result"
    }
   ],
   "source": [
    "simplify(M_lower.subs(fun_to_sym_angle).inv()*Matrix(pullback_vect_rep_1(q1_6_lower))).transpose()"
   ]
  },
  {
   "cell_type": "markdown",
   "metadata": {},
   "source": [
    "upper"
   ]
  },
  {
   "cell_type": "code",
   "execution_count": 54,
   "metadata": {},
   "outputs": [
    {
     "data": {
      "image/png": "[encoded data removed]",
      "text/latex": [
       "$$\\left[\\begin{matrix}0 & 0 & 0\\end{matrix}\\right]$$"
      ],
      "text/plain": [
       "[0  0  0]"
      ]
     },
     "execution_count": 54,
     "metadata": {},
     "output_type": "execute_result"
    }
   ],
   "source": [
    "simplify(M_upper.subs(fun_to_sym_angle).inv()*Matrix(pullback_vect_rep_1(q1_4_upper))).transpose()"
   ]
  },
  {
   "cell_type": "code",
   "execution_count": 55,
   "metadata": {},
   "outputs": [
    {
     "data": {
      "image/png": "[encoded data removed]",
      "text/latex": [
       "$$\\left[\\begin{matrix}0 & 0 & 0\\end{matrix}\\right]$$"
      ],
      "text/plain": [
       "[0  0  0]"
      ]
     },
     "execution_count": 55,
     "metadata": {},
     "output_type": "execute_result"
    }
   ],
   "source": [
    "simplify(M_upper.subs(fun_to_sym_angle).inv()*Matrix(pullback_vect_rep_1(q1_5_upper))).transpose()"
   ]
  },
  {
   "cell_type": "code",
   "execution_count": 56,
   "metadata": {},
   "outputs": [
    {
     "data": {
      "image/png": "[encoded data removed]",
      "text/latex": [
       "$$\\left[\\begin{matrix}0 & -1 & 0\\end{matrix}\\right]$$"
      ],
      "text/plain": [
       "[0  -1  0]"
      ]
     },
     "execution_count": 56,
     "metadata": {},
     "output_type": "execute_result"
    }
   ],
   "source": [
    "simplify(M_upper.subs(fun_to_sym_angle).inv()*Matrix(pullback_vect_rep_1(q1_6_upper))).transpose()"
   ]
  },
  {
   "cell_type": "markdown",
   "metadata": {},
   "source": [
    "# Lie Derivatives of $w_2$"
   ]
  },
  {
   "cell_type": "markdown",
   "metadata": {},
   "source": [
    "lower"
   ]
  },
  {
   "cell_type": "code",
   "execution_count": 57,
   "metadata": {},
   "outputs": [
    {
     "data": {
      "image/png": "[encoded data removed]",
      "text/latex": [
       "$$\\left[\\begin{matrix}0 & 0 & -1\\end{matrix}\\right]$$"
      ],
      "text/plain": [
       "[0  0  -1]"
      ]
     },
     "execution_count": 57,
     "metadata": {},
     "output_type": "execute_result"
    }
   ],
   "source": [
    "simplify(M_lower.subs(fun_to_sym_angle).inv()*Matrix(pullback_vect_rep_1(q2_4_lower))).transpose()"
   ]
  },
  {
   "cell_type": "code",
   "execution_count": 58,
   "metadata": {},
   "outputs": [
    {
     "data": {
      "image/png": "[encoded data removed]",
      "text/latex": [
       "$$\\left[\\begin{matrix}0 & 0 & 0\\end{matrix}\\right]$$"
      ],
      "text/plain": [
       "[0  0  0]"
      ]
     },
     "execution_count": 58,
     "metadata": {},
     "output_type": "execute_result"
    }
   ],
   "source": [
    "simplify(M_lower.subs(fun_to_sym_angle).inv()*Matrix(pullback_vect_rep_1(q2_5_lower))).transpose()"
   ]
  },
  {
   "cell_type": "code",
   "execution_count": 59,
   "metadata": {},
   "outputs": [
    {
     "data": {
      "image/png": "[encoded data removed]",
      "text/latex": [
       "$$\\left[\\begin{matrix}0 & 0 & 0\\end{matrix}\\right]$$"
      ],
      "text/plain": [
       "[0  0  0]"
      ]
     },
     "execution_count": 59,
     "metadata": {},
     "output_type": "execute_result"
    }
   ],
   "source": [
    "simplify(M_lower.subs(fun_to_sym_angle).inv()*Matrix(pullback_vect_rep_1(q2_6_lower))).transpose()"
   ]
  },
  {
   "cell_type": "markdown",
   "metadata": {},
   "source": [
    "upper"
   ]
  },
  {
   "cell_type": "code",
   "execution_count": 60,
   "metadata": {},
   "outputs": [
    {
     "data": {
      "image/png": "[encoded data removed]",
      "text/latex": [
       "$$\\left[\\begin{matrix}0 & 0 & 0\\end{matrix}\\right]$$"
      ],
      "text/plain": [
       "[0  0  0]"
      ]
     },
     "execution_count": 60,
     "metadata": {},
     "output_type": "execute_result"
    }
   ],
   "source": [
    "simplify(M_upper.subs(fun_to_sym_angle).inv()*Matrix(pullback_vect_rep_1(q2_4_upper))).transpose()"
   ]
  },
  {
   "cell_type": "code",
   "execution_count": 61,
   "metadata": {},
   "outputs": [
    {
     "data": {
      "image/png": "[encoded data removed]",
      "text/latex": [
       "$$\\left[\\begin{matrix}0 & 0 & 0\\end{matrix}\\right]$$"
      ],
      "text/plain": [
       "[0  0  0]"
      ]
     },
     "execution_count": 61,
     "metadata": {},
     "output_type": "execute_result"
    }
   ],
   "source": [
    "simplify(M_upper.subs(fun_to_sym_angle).inv()*Matrix(pullback_vect_rep_1(q2_5_upper))).transpose()"
   ]
  },
  {
   "cell_type": "code",
   "execution_count": 62,
   "metadata": {},
   "outputs": [
    {
     "data": {
      "image/png": "[encoded data removed]",
      "text/latex": [
       "$$\\left[\\begin{matrix}1 & 0 & 0\\end{matrix}\\right]$$"
      ],
      "text/plain": [
       "[1  0  0]"
      ]
     },
     "execution_count": 62,
     "metadata": {},
     "output_type": "execute_result"
    }
   ],
   "source": [
    "simplify(M_upper.subs(fun_to_sym_angle).inv()*Matrix(pullback_vect_rep_1(q2_6_upper))).transpose()"
   ]
  },
  {
   "cell_type": "markdown",
   "metadata": {},
   "source": [
    "# Lie Derivatives of $w_3$"
   ]
  },
  {
   "cell_type": "markdown",
   "metadata": {},
   "source": [
    "lower"
   ]
  },
  {
   "cell_type": "code",
   "execution_count": 63,
   "metadata": {},
   "outputs": [
    {
     "data": {
      "image/png": "[encoded data removed]",
      "text/latex": [
       "$$\\left[\\begin{matrix}0 & 0 & 0\\end{matrix}\\right]$$"
      ],
      "text/plain": [
       "[0  0  0]"
      ]
     },
     "execution_count": 63,
     "metadata": {},
     "output_type": "execute_result"
    }
   ],
   "source": [
    "simplify(M_lower.subs(fun_to_sym_angle).inv()*Matrix(pullback_vect_rep_1(q3_4_lower))).transpose()"
   ]
  },
  {
   "cell_type": "code",
   "execution_count": 64,
   "metadata": {},
   "outputs": [
    {
     "data": {
      "image/png": "[encoded data removed]",
      "text/latex": [
       "$$\\left[\\begin{matrix}1 & 0 & 0\\end{matrix}\\right]$$"
      ],
      "text/plain": [
       "[1  0  0]"
      ]
     },
     "execution_count": 64,
     "metadata": {},
     "output_type": "execute_result"
    }
   ],
   "source": [
    "simplify(M_lower.subs(fun_to_sym_angle).inv()*Matrix(pullback_vect_rep_1(q3_5_lower))).transpose()"
   ]
  },
  {
   "cell_type": "code",
   "execution_count": 65,
   "metadata": {},
   "outputs": [
    {
     "data": {
      "image/png": "[encoded data removed]",
      "text/latex": [
       "$$\\left[\\begin{matrix}0 & 0 & 0\\end{matrix}\\right]$$"
      ],
      "text/plain": [
       "[0  0  0]"
      ]
     },
     "execution_count": 65,
     "metadata": {},
     "output_type": "execute_result"
    }
   ],
   "source": [
    "simplify(M_lower.subs(fun_to_sym_angle).inv()*Matrix(pullback_vect_rep_1(q3_6_lower))).transpose()"
   ]
  },
  {
   "cell_type": "markdown",
   "metadata": {},
   "source": [
    "upper"
   ]
  },
  {
   "cell_type": "code",
   "execution_count": 66,
   "metadata": {},
   "outputs": [
    {
     "data": {
      "image/png": "[encoded data removed]",
      "text/latex": [
       "$$\\left[\\begin{matrix}0 & -1 & 0\\end{matrix}\\right]$$"
      ],
      "text/plain": [
       "[0  -1  0]"
      ]
     },
     "execution_count": 66,
     "metadata": {},
     "output_type": "execute_result"
    }
   ],
   "source": [
    "simplify(M_upper.subs(fun_to_sym_angle).inv()*Matrix(pullback_vect_rep_1(q3_4_upper))).transpose()"
   ]
  },
  {
   "cell_type": "code",
   "execution_count": 67,
   "metadata": {},
   "outputs": [
    {
     "data": {
      "image/png": "[encoded data removed]",
      "text/latex": [
       "$$\\left[\\begin{matrix}0 & 0 & 0\\end{matrix}\\right]$$"
      ],
      "text/plain": [
       "[0  0  0]"
      ]
     },
     "execution_count": 67,
     "metadata": {},
     "output_type": "execute_result"
    }
   ],
   "source": [
    "simplify(M_upper.subs(fun_to_sym_angle).inv()*Matrix(pullback_vect_rep_1(q3_5_upper))).transpose()"
   ]
  },
  {
   "cell_type": "code",
   "execution_count": 68,
   "metadata": {},
   "outputs": [
    {
     "data": {
      "image/png": "[encoded data removed]",
      "text/latex": [
       "$$\\left[\\begin{matrix}0 & 0 & 0\\end{matrix}\\right]$$"
      ],
      "text/plain": [
       "[0  0  0]"
      ]
     },
     "execution_count": 68,
     "metadata": {},
     "output_type": "execute_result"
    }
   ],
   "source": [
    "simplify(M_upper.subs(fun_to_sym_angle).inv()*Matrix(pullback_vect_rep_1(q3_6_upper))).transpose()"
   ]
  },
  {
   "cell_type": "markdown",
   "metadata": {},
   "source": [
    "# Summary of the Lie Derivatives of Contact Forms"
   ]
  },
  {
   "cell_type": "markdown",
   "metadata": {},
   "source": [
    "The Lie Derivatives of $w_1$, $w_2$, and $w_3$ with respect to $v_1$, $v_2$, and $v_3$ are:\n",
    "\\begin{align*}\n",
    "\t&v_4(\\theta^{1}_0) = (F_{11}F_{21,x}+F_{12}F_{22,x}+F_{13}F_{23,x})\\theta^y_0\\\\\n",
    "\t&v_5(\\theta^{1}_0) = (F_{11}F_{21,x}+F_{12}F_{22,x}+F_{13}F_{23,x})\\theta^u_0 + \\theta^{3}_0\\\\\n",
    "\t&v_6(\\theta^{1}_0) = 0\\\\ \\\\\n",
    "\t&v_4(\\theta^{2}_0) = (F_{11}F_{31,x}+F_{12}F_{32,x}+F_{13}F_{33,x})\\theta^y_0-\\theta^3_0\\\\\n",
    "\t&v_5(\\theta^{2}_0) = (F_{11}F_{31,x}+F_{12}F_{32,x}+F_{13}F_{33,x})\\theta^u_0\\\\\n",
    "\t&v_6(\\theta^{2}_0) = 0\\\\ \\\\\n",
    "\t&v_4(\\theta^{3}_0) = (F_{21}F_{31,x}+F_{22}F_{32,x}+F_{23}F_{33,x})\\theta^y_0\\\\\n",
    "\t&v_5(\\theta^{3}_0) = (F_{21}F_{31,x}+F_{22}F_{32,x}+F_{23}F_{33,x})\\theta^u_0 + \\theta^1_0\\\\\n",
    "\t&v_6(\\theta^{3}_0) = 0\n",
    "\\end{align*}"
   ]
  },
  {
   "cell_type": "markdown",
   "metadata": {
    "collapsed": true
   },
   "source": [
    "# Invariant Vertical Derivatives of Curvature Invariants"
   ]
  },
  {
   "cell_type": "code",
   "execution_count": 69,
   "metadata": {},
   "outputs": [],
   "source": [
    "S = lp.make_S(A, 1)\n",
    "\n",
    "ky = symbols('kappa^y')\n",
    "ku = symbols('kappa^u')\n",
    "k21 = symbols('kappa^21')\n",
    "k31 = symbols('kappa^31')\n",
    "k32 = symbols('kappa^32')\n",
    "Ds = symbols('\\\\mathcal{D}_s')\n",
    "\n",
    "invariant_sub = {symbols('y_x'):ky, symbols('u_x'):ku, symbols('F11_x'):0, symbols('F22_x'):0, symbols('F33_x'):0, \n",
    "                 symbols('F21_x'):k21, symbols('F12_x'):-k21, symbols('F31_x'):k31, symbols('F13_x'):-k31, symbols('F32_x'):k32, symbols('F23_x'):-k32}\n",
    "contact_reduction = {symbols('vartheta^y_1'):(Ds+ky*k21)*symbols('vartheta^y_0',commutative=False) + (ky*k31-k32)*symbols('vartheta^u_0',commutative=False),\n",
    "                    symbols('vartheta^u_1'):(k32-k21*ku)*symbols('vartheta^y_0',commutative=False) + (Ds+ku*k21)*symbols('vartheta^u_0',commutative=False),\n",
    "                    symbols('vartheta^1_1'):(k21)**2*symbols('vartheta^y_0',commutative=False) + (k21*k31)*symbols('vartheta^u_0',commutative=False) + Ds*symbols('vartheta^1_0',commutative=False) + k31*symbols('vartheta^3_0',commutative=False),\n",
    "                    symbols('vartheta^2_1'):k21*k31*symbols('vartheta^y_0',commutative=False) + (k31)**2*symbols('vartheta^u_0',commutative=False) + Ds*symbols('vartheta^2_0',commutative=False) - k31*symbols('vartheta^3_0',commutative=False),\n",
    "                    symbols('vartheta^3_1'):k21*k32*symbols('vartheta^y_0',commutative=False) + k31*k32*symbols('vartheta^u_0',commutative=False) + k31*symbols('vartheta^1_0',commutative=False) + Ds*symbols('vartheta^3_0',commutative=False)}"
   ]
  },
  {
   "cell_type": "code",
   "execution_count": 70,
   "metadata": {},
   "outputs": [],
   "source": [
    "def test_apply_vect(B, S, v, f):\n",
    "    A = B[0]\n",
    "\n",
    "    n = max([ode_order(f, Function(var)) for var in A[1]])\n",
    "    f = f.subs(S[5])\n",
    "    var = lp.fullJet(A[0], A[1], n)\n",
    "    vect = lp.Prolong(A, v, n)\n",
    "    g = 0\n",
    "    for i in range(len(vect)):\n",
    "        g = g + diff(f, S[0][var[i]])*vect[i]\n",
    "    return g.subs(S[5])"
   ]
  },
  {
   "cell_type": "markdown",
   "metadata": {},
   "source": [
    "# $d_{\\mathcal{V}} \\kappa^y$"
   ]
  },
  {
   "cell_type": "code",
   "execution_count": 71,
   "metadata": {
    "scrolled": true
   },
   "outputs": [
    {
     "data": {
      "image/png": "[encoded data removed]",
      "text/latex": [
       "$$- u_{x} y_{x} \\vartheta^{2}_{0} + u_{x} \\vartheta^{3}_{0} + \\vartheta^{y}_{1} - \\left(y_{x}^{2} + 1\\right) \\vartheta^{1}_{0}$$"
      ],
      "text/plain": [
       "                                                    ⎛  2    ⎞           \n",
       "-uₓ⋅yₓ⋅vartheta²₀ + uₓ⋅vartheta³₀ + vartheta_1__y - ⎝yₓ  + 1⎠⋅vartheta¹₀"
      ]
     },
     "execution_count": 71,
     "metadata": {},
     "output_type": "execute_result"
    }
   ],
   "source": [
    "dvky = symbols('vartheta^y_1') - test_apply_vect([A,1], S, v4, diff(y,x))*symbols('vartheta^1_0',commutative=False) - test_apply_vect([A,1], S, v5, diff(y,x))*symbols('vartheta^2_0',commutative=False) - test_apply_vect([A,1], S, v6, diff(y,x)) *symbols('vartheta^3_0',commutative=False)\n",
    "dvky"
   ]
  },
  {
   "cell_type": "code",
   "execution_count": 72,
   "metadata": {},
   "outputs": [
    {
     "data": {
      "image/png": "[encoded data removed]",
      "text/latex": [
       "$$- \\kappa^{u} \\kappa^{y} \\vartheta^{2}_{0} + \\kappa^{u} \\vartheta^{3}_{0} + \\left(\\mathcal{D}_s + \\kappa^{21} \\kappa^{y}\\right) \\vartheta^{y}_{0} - \\left(\\left(\\kappa^{y}\\right)^{2} + 1\\right) \\vartheta^{1}_{0} + \\left(\\kappa^{31} \\kappa^{y} - \\kappa^{32}\\right) \\vartheta^{u}_{0}$$"
      ],
      "text/plain": [
       "                                                                              \n",
       "-κ__u⋅κ__y⋅vartheta²₀ + κ__u⋅vartheta³₀ + (\\mathcal{D}ₛ + κ²¹⋅κ__y)⋅vartheta_0\n",
       "\n",
       "      ⎛    2    ⎞                                            \n",
       "__y - ⎝κ__y  + 1⎠⋅vartheta¹₀ + (κ³¹⋅κ__y - κ³²)⋅vartheta_0__u"
      ]
     },
     "execution_count": 72,
     "metadata": {},
     "output_type": "execute_result"
    }
   ],
   "source": [
    "dvky = simplify(dvky.subs(invariant_sub).subs(contact_reduction))\n",
    "dvky"
   ]
  },
  {
   "cell_type": "markdown",
   "metadata": {},
   "source": [
    "# $d_{\\mathcal{V}} \\kappa^u$"
   ]
  },
  {
   "cell_type": "code",
   "execution_count": 73,
   "metadata": {},
   "outputs": [
    {
     "data": {
      "image/png": "[encoded data removed]",
      "text/latex": [
       "$$- u_{x} y_{x} \\vartheta^{1}_{0} + \\vartheta^{u}_{1} - y_{x} \\vartheta^{3}_{0} - \\left(u_{x}^{2} + 1\\right) \\vartheta^{2}_{0}$$"
      ],
      "text/plain": [
       "                                                    ⎛  2    ⎞           \n",
       "-uₓ⋅yₓ⋅vartheta¹₀ + vartheta_1__u - yₓ⋅vartheta³₀ - ⎝uₓ  + 1⎠⋅vartheta²₀"
      ]
     },
     "execution_count": 73,
     "metadata": {},
     "output_type": "execute_result"
    }
   ],
   "source": [
    "dvku = symbols('vartheta^u_1') - test_apply_vect([A,1], S, v4, diff(u,x))*symbols('vartheta^1_0',commutative=False) - test_apply_vect([A,1], S, v5, diff(u,x))*symbols('vartheta^2_0',commutative=False) -test_apply_vect([A,1], S, v6, diff(u,x)) *symbols('vartheta^3_0',commutative=False)\n",
    "dvku"
   ]
  },
  {
   "cell_type": "code",
   "execution_count": 74,
   "metadata": {},
   "outputs": [
    {
     "data": {
      "image/png": "[encoded data removed]",
      "text/latex": [
       "$$- \\kappa^{u} \\kappa^{y} \\vartheta^{1}_{0} - \\kappa^{y} \\vartheta^{3}_{0} + \\left(\\mathcal{D}_s + \\kappa^{21} \\kappa^{u}\\right) \\vartheta^{u}_{0} - \\left(\\left(\\kappa^{u}\\right)^{2} + 1\\right) \\vartheta^{2}_{0} + \\left(- \\kappa^{21} \\kappa^{u} + \\kappa^{32}\\right) \\vartheta^{y}_{0}$$"
      ],
      "text/plain": [
       "                                                                              \n",
       "-κ__u⋅κ__y⋅vartheta¹₀ - κ__y⋅vartheta³₀ + (\\mathcal{D}ₛ + κ²¹⋅κ__u)⋅vartheta_0\n",
       "\n",
       "      ⎛    2    ⎞                                             \n",
       "__u - ⎝κ__u  + 1⎠⋅vartheta²₀ + (-κ²¹⋅κ__u + κ³²)⋅vartheta_0__y"
      ]
     },
     "execution_count": 74,
     "metadata": {},
     "output_type": "execute_result"
    }
   ],
   "source": [
    "dvku = simplify(dvku.subs(invariant_sub).subs(contact_reduction))\n",
    "dvku"
   ]
  },
  {
   "cell_type": "markdown",
   "metadata": {},
   "source": [
    "# $d_{\\mathcal{V}} \\kappa^{21}$"
   ]
  },
  {
   "cell_type": "code",
   "execution_count": 75,
   "metadata": {},
   "outputs": [
    {
     "data": {
      "image/png": "[encoded data removed]",
      "text/latex": [
       "$$- F_{21 x} u_{x} \\vartheta^{2}_{0} + F_{31 x} \\vartheta^{3}_{0} + \\vartheta^{1}_{1} - \\left(F_{11 x} + F_{21 x} y_{x}\\right) \\vartheta^{1}_{0}$$"
      ],
      "text/plain": [
       "-F₂₁ ₓ⋅uₓ⋅vartheta²₀ + F₃₁ ₓ⋅vartheta³₀ + vartheta¹₁ - (F₁₁ ₓ + F₂₁ ₓ⋅yₓ)⋅vart\n",
       "heta¹₀"
      ]
     },
     "execution_count": 75,
     "metadata": {},
     "output_type": "execute_result"
    }
   ],
   "source": [
    "dvk21 = symbols('vartheta^1_1') - test_apply_vect([A,1], S, v4, diff(F21,x))*symbols('vartheta^1_0',commutative=False) - test_apply_vect([A,1], S, v5, diff(F21,x))*symbols('vartheta^2_0',commutative=False) -test_apply_vect([A,1], S, v6, diff(F21,x)) *symbols('vartheta^3_0',commutative=False)\n",
    "dvk21"
   ]
  },
  {
   "cell_type": "code",
   "execution_count": 76,
   "metadata": {},
   "outputs": [
    {
     "data": {
      "image/png": "[encoded data removed]",
      "text/latex": [
       "$$\\mathcal{D}_s \\vartheta^{1}_{0} + \\left(\\kappa^{21}\\right)^{2} \\vartheta^{y}_{0} + \\kappa^{21} \\kappa^{31} \\vartheta^{u}_{0} - \\kappa^{21} \\kappa^{u} \\vartheta^{2}_{0} - \\kappa^{21} \\kappa^{y} \\vartheta^{1}_{0} + 2 \\kappa^{31} \\vartheta^{3}_{0}$$"
      ],
      "text/plain": [
       "                             2                                                \n",
       "\\mathcal{D}ₛ⋅vartheta¹₀ + κ²¹ ⋅vartheta_0__y + κ²¹⋅κ³¹⋅vartheta_0__u - κ²¹⋅κ__\n",
       "\n",
       "                                                     \n",
       "u⋅vartheta²₀ - κ²¹⋅κ__y⋅vartheta¹₀ + 2⋅κ³¹⋅vartheta³₀"
      ]
     },
     "execution_count": 76,
     "metadata": {},
     "output_type": "execute_result"
    }
   ],
   "source": [
    "dvk21 = simplify(dvk21.subs(invariant_sub).subs(contact_reduction))\n",
    "dvk21"
   ]
  },
  {
   "cell_type": "markdown",
   "metadata": {},
   "source": [
    "# $d_{\\mathcal{V}} \\kappa^{31}$"
   ]
  },
  {
   "cell_type": "code",
   "execution_count": 77,
   "metadata": {},
   "outputs": [
    {
     "data": {
      "image/png": "[encoded data removed]",
      "text/latex": [
       "$$- F_{21 x} \\vartheta^{3}_{0} - F_{31 x} y_{x} \\vartheta^{1}_{0} + \\vartheta^{2}_{1} - \\left(F_{11 x} + F_{31 x} u_{x}\\right) \\vartheta^{2}_{0}$$"
      ],
      "text/plain": [
       "-F₂₁ ₓ⋅vartheta³₀ - F₃₁ ₓ⋅yₓ⋅vartheta¹₀ + vartheta²₁ - (F₁₁ ₓ + F₃₁ ₓ⋅uₓ)⋅vart\n",
       "heta²₀"
      ]
     },
     "execution_count": 77,
     "metadata": {},
     "output_type": "execute_result"
    }
   ],
   "source": [
    "dvk31 = symbols('vartheta^2_1') - test_apply_vect([A,1], S, v4, diff(F31,x))*symbols('vartheta^1_0',commutative=False) - test_apply_vect([A,1], S, v5, diff(F31,x))*symbols('vartheta^2_0',commutative=False) -test_apply_vect([A,1], S, v6, diff(F31,x)) *symbols('vartheta^3_0',commutative=False)\n",
    "dvk31"
   ]
  },
  {
   "cell_type": "code",
   "execution_count": 78,
   "metadata": {},
   "outputs": [
    {
     "data": {
      "image/png": "[encoded data removed]",
      "text/latex": [
       "$$\\mathcal{D}_s \\vartheta^{2}_{0} + \\kappa^{21} \\kappa^{31} \\vartheta^{y}_{0} - \\kappa^{21} \\vartheta^{3}_{0} + \\left(\\kappa^{31}\\right)^{2} \\vartheta^{u}_{0} - \\kappa^{31} \\kappa^{u} \\vartheta^{2}_{0} - \\kappa^{31} \\kappa^{y} \\vartheta^{1}_{0} - \\kappa^{31} \\vartheta^{3}_{0}$$"
      ],
      "text/plain": [
       "                                                                      2       \n",
       "\\mathcal{D}ₛ⋅vartheta²₀ + κ²¹⋅κ³¹⋅vartheta_0__y - κ²¹⋅vartheta³₀ + κ³¹ ⋅varthe\n",
       "\n",
       "                                                                    \n",
       "ta_0__u - κ³¹⋅κ__u⋅vartheta²₀ - κ³¹⋅κ__y⋅vartheta¹₀ - κ³¹⋅vartheta³₀"
      ]
     },
     "execution_count": 78,
     "metadata": {},
     "output_type": "execute_result"
    }
   ],
   "source": [
    "dvk31 = simplify(dvk31.subs(invariant_sub).subs(contact_reduction))\n",
    "dvk31"
   ]
  },
  {
   "cell_type": "markdown",
   "metadata": {},
   "source": [
    "# $d_{\\mathcal{V}} \\kappa^{32}$"
   ]
  },
  {
   "cell_type": "code",
   "execution_count": 79,
   "metadata": {},
   "outputs": [
    {
     "data": {
      "image/png": "[encoded data removed]",
      "text/latex": [
       "$$- F_{22 x} \\vartheta^{3}_{0} - F_{32 x} y_{x} \\vartheta^{1}_{0} + \\vartheta^{3}_{1} - \\left(F_{12 x} + F_{32 x} u_{x}\\right) \\vartheta^{2}_{0}$$"
      ],
      "text/plain": [
       "-F₂₂ ₓ⋅vartheta³₀ - F₃₂ ₓ⋅yₓ⋅vartheta¹₀ + vartheta³₁ - (F₁₂ ₓ + F₃₂ ₓ⋅uₓ)⋅vart\n",
       "heta²₀"
      ]
     },
     "execution_count": 79,
     "metadata": {},
     "output_type": "execute_result"
    }
   ],
   "source": [
    "dvk32 = symbols('vartheta^3_1') - test_apply_vect([A,1], S, v4, diff(F32,x))*symbols('vartheta^1_0',commutative=False) - test_apply_vect([A,1], S, v5, diff(F32,x))*symbols('vartheta^2_0',commutative=False) -test_apply_vect([A,1], S, v6, diff(F32,x)) *symbols('vartheta^3_0',commutative=False)\n",
    "dvk32"
   ]
  },
  {
   "cell_type": "code",
   "execution_count": 80,
   "metadata": {},
   "outputs": [
    {
     "data": {
      "image/png": "[encoded data removed]",
      "text/latex": [
       "$$\\mathcal{D}_s \\vartheta^{3}_{0} + \\kappa^{21} \\kappa^{32} \\vartheta^{y}_{0} + \\kappa^{31} \\kappa^{32} \\vartheta^{u}_{0} + \\kappa^{31} \\vartheta^{1}_{0} - \\kappa^{32} \\kappa^{y} \\vartheta^{1}_{0} + \\left(\\kappa^{21} - \\kappa^{32} \\kappa^{u}\\right) \\vartheta^{2}_{0}$$"
      ],
      "text/plain": [
       "\\mathcal{D}ₛ⋅vartheta³₀ + κ²¹⋅κ³²⋅vartheta_0__y + κ³¹⋅κ³²⋅vartheta_0__u + κ³¹⋅\n",
       "vartheta¹₀ - κ³²⋅κ__y⋅vartheta¹₀ + (κ²¹ - κ³²⋅κ__u)⋅vartheta²₀"
      ]
     },
     "execution_count": 80,
     "metadata": {},
     "output_type": "execute_result"
    }
   ],
   "source": [
    "dvk32 = simplify(dvk32.subs(invariant_sub).subs(contact_reduction))\n",
    "dvk32"
   ]
  },
  {
   "cell_type": "markdown",
   "metadata": {},
   "source": [
    "# Eulerian operator $\\mathcal{A}^*$"
   ]
  },
  {
   "cell_type": "code",
   "execution_count": 81,
   "metadata": {},
   "outputs": [],
   "source": [
    "contact_symbols = [symbols('vartheta^y_0',commutative=False) ,symbols('vartheta^u_0',commutative=False), symbols('vartheta^1_0',commutative=False), symbols('vartheta^2_0',commutative=False), symbols('vartheta^3_0',commutative=False)] \n",
    "contact_zeros = {symbols('vartheta^y_0',commutative=False):0,symbols('vartheta^u_0',commutative=False):0,symbols('vartheta^1_0',commutative=False):0, symbols('vartheta^2_0',commutative=False):0,symbols('vartheta^3_0',commutative=False):0}\n",
    "dvk = [dvky, dvku, dvk21, dvk31, dvk32]"
   ]
  },
  {
   "cell_type": "markdown",
   "metadata": {},
   "source": [
    "## $\\mathcal{A}$"
   ]
  },
  {
   "cell_type": "code",
   "execution_count": 82,
   "metadata": {},
   "outputs": [
    {
     "data": {
      "image/png": "[encoded data removed]",
      "text/latex": [
       "$$\\left[\\begin{matrix}\\mathcal{D}_s + \\kappa^{21} \\kappa^{y} & \\kappa^{31} \\kappa^{y} - \\kappa^{32} & - \\left(\\kappa^{y}\\right)^{2} - 1 & - \\kappa^{u} \\kappa^{y} & \\kappa^{u}\\\\- \\kappa^{21} \\kappa^{u} + \\kappa^{32} & \\mathcal{D}_s + \\kappa^{21} \\kappa^{u} & - \\kappa^{u} \\kappa^{y} & - \\left(\\kappa^{u}\\right)^{2} - 1 & - \\kappa^{y}\\\\\\left(\\kappa^{21}\\right)^{2} & \\kappa^{21} \\kappa^{31} & \\mathcal{D}_s - \\kappa^{21} \\kappa^{y} & - \\kappa^{21} \\kappa^{u} & 2 \\kappa^{31}\\\\\\kappa^{21} \\kappa^{31} & \\left(\\kappa^{31}\\right)^{2} & - \\kappa^{31} \\kappa^{y} & \\mathcal{D}_s - \\kappa^{31} \\kappa^{u} & - \\kappa^{21} - \\kappa^{31}\\\\\\kappa^{21} \\kappa^{32} & \\kappa^{31} \\kappa^{32} & \\kappa^{31} - \\kappa^{32} \\kappa^{y} & \\kappa^{21} - \\kappa^{32} \\kappa^{u} & \\mathcal{D}_s\\end{matrix}\\right]$$"
      ],
      "text/plain": [
       "⎡                                                              2              \n",
       "⎢\\mathcal{D}ₛ + κ²¹⋅κ__y      κ³¹⋅κ__y - κ³²             - κ__y  - 1          \n",
       "⎢                                                                             \n",
       "⎢                                                                             \n",
       "⎢    -κ²¹⋅κ__u + κ³²      \\mathcal{D}ₛ + κ²¹⋅κ__u        -κ__u⋅κ__y           \n",
       "⎢                                                                             \n",
       "⎢            2                                                                \n",
       "⎢         κ²¹                     κ²¹⋅κ³¹          \\mathcal{D}ₛ - κ²¹⋅κ__y    \n",
       "⎢                                                                             \n",
       "⎢                                     2                                       \n",
       "⎢        κ²¹⋅κ³¹                   κ³¹                    -κ³¹⋅κ__y         \\m\n",
       "⎢                                                                             \n",
       "⎣        κ²¹⋅κ³²                  κ³¹⋅κ³²              κ³¹ - κ³²⋅κ__y         \n",
       "\n",
       "                                   ⎤\n",
       "    -κ__u⋅κ__y             κ__u    ⎥\n",
       "                                   ⎥\n",
       "          2                        ⎥\n",
       "    - κ__u  - 1           -κ__y    ⎥\n",
       "                                   ⎥\n",
       "                                   ⎥\n",
       "     -κ²¹⋅κ__u            2⋅κ³¹    ⎥\n",
       "                                   ⎥\n",
       "                                   ⎥\n",
       "athcal{D}ₛ - κ³¹⋅κ__u   -κ²¹ - κ³¹ ⎥\n",
       "                                   ⎥\n",
       "  κ²¹ - κ³²⋅κ__u       \\mathcal{D}ₛ⎦"
      ]
     },
     "execution_count": 82,
     "metadata": {},
     "output_type": "execute_result"
    }
   ],
   "source": [
    "temp = []\n",
    "for j in range(5):\n",
    "    temp.append([dvk[j].subs({contact_symbols[i]:1}).subs(contact_zeros) for i in range(len(contact_symbols))])\n",
    "Matrix(temp)"
   ]
  },
  {
   "cell_type": "markdown",
   "metadata": {},
   "source": [
    "## $\\mathcal{A}^*$"
   ]
  },
  {
   "cell_type": "code",
   "execution_count": 83,
   "metadata": {},
   "outputs": [
    {
     "data": {
      "image/png": "[encoded data removed]",
      "text/latex": [
       "$$\\left[\\begin{matrix}- \\mathcal{D}_s + \\kappa^{21} \\kappa^{y} & - \\kappa^{21} \\kappa^{u} + \\kappa^{32} & \\left(\\kappa^{21}\\right)^{2} & \\kappa^{21} \\kappa^{31} & \\kappa^{21} \\kappa^{32}\\\\\\kappa^{31} \\kappa^{y} - \\kappa^{32} & - \\mathcal{D}_s + \\kappa^{21} \\kappa^{u} & \\kappa^{21} \\kappa^{31} & \\left(\\kappa^{31}\\right)^{2} & \\kappa^{31} \\kappa^{32}\\\\- \\left(\\kappa^{y}\\right)^{2} - 1 & - \\kappa^{u} \\kappa^{y} & - \\mathcal{D}_s - \\kappa^{21} \\kappa^{y} & - \\kappa^{31} \\kappa^{y} & \\kappa^{31} - \\kappa^{32} \\kappa^{y}\\\\- \\kappa^{u} \\kappa^{y} & - \\left(\\kappa^{u}\\right)^{2} - 1 & - \\kappa^{21} \\kappa^{u} & - \\mathcal{D}_s - \\kappa^{31} \\kappa^{u} & \\kappa^{21} - \\kappa^{32} \\kappa^{u}\\\\\\kappa^{u} & - \\kappa^{y} & 2 \\kappa^{31} & - \\kappa^{21} - \\kappa^{31} & - \\mathcal{D}_s\\end{matrix}\\right]$$"
      ],
      "text/plain": [
       "⎡                                                                 2           \n",
       "⎢-\\mathcal{D}ₛ + κ²¹⋅κ__y      -κ²¹⋅κ__u + κ³²                 κ²¹            \n",
       "⎢                                                                             \n",
       "⎢                                                                             \n",
       "⎢     κ³¹⋅κ__y - κ³²       -\\mathcal{D}ₛ + κ²¹⋅κ__u          κ²¹⋅κ³¹          \n",
       "⎢                                                                             \n",
       "⎢            2                                                                \n",
       "⎢      - κ__y  - 1                -κ__u⋅κ__y         -\\mathcal{D}ₛ - κ²¹⋅κ__y \n",
       "⎢                                                                             \n",
       "⎢                                      2                                      \n",
       "⎢       -κ__u⋅κ__y               - κ__u  - 1                -κ²¹⋅κ__u         \n",
       "⎢                                                                             \n",
       "⎣          κ__u                     -κ__y                     2⋅κ³¹           \n",
       "\n",
       "                                         ⎤\n",
       "         κ²¹⋅κ³¹              κ²¹⋅κ³²    ⎥\n",
       "                                         ⎥\n",
       "              2                          ⎥\n",
       "           κ³¹                κ³¹⋅κ³²    ⎥\n",
       "                                         ⎥\n",
       "                                         ⎥\n",
       "        -κ³¹⋅κ__y          κ³¹ - κ³²⋅κ__y⎥\n",
       "                                         ⎥\n",
       "                                         ⎥\n",
       " -\\mathcal{D}ₛ - κ³¹⋅κ__u  κ²¹ - κ³²⋅κ__u⎥\n",
       "                                         ⎥\n",
       "        -κ²¹ - κ³¹         -\\mathcal{D}ₛ ⎦"
      ]
     },
     "execution_count": 83,
     "metadata": {},
     "output_type": "execute_result"
    }
   ],
   "source": [
    "temp = []\n",
    "for j in range(5):\n",
    "    temp.append([dvk[j].subs({contact_symbols[i]:1}).subs(contact_zeros).subs({Ds: - Ds}) for i in range(len(contact_symbols))])\n",
    "mc_A = Matrix(temp).transpose()\n",
    "mc_A"
   ]
  },
  {
   "cell_type": "markdown",
   "metadata": {},
   "source": [
    "# Determine W"
   ]
  },
  {
   "cell_type": "code",
   "execution_count": 84,
   "metadata": {},
   "outputs": [],
   "source": [
    "X = (T*z)[0] + a \n",
    "Y = (T*z)[1] + b\n",
    "U = (T*z)[2] + b\n",
    "B_new = T*B\n",
    "\n",
    "Y_x = diff(Y,x)/diff(X,x)\n",
    "U_x = diff(U,x)/diff(X,x)\n",
    "Y_xx = diff(Y_x,x)/diff(X,x)\n",
    "U_xx = diff(U_x,x)/diff(X,x)\n",
    "Bx_new = T*diff(B,x)/diff(X,x)"
   ]
  },
  {
   "cell_type": "code",
   "execution_count": 85,
   "metadata": {},
   "outputs": [
    {
     "data": {
      "image/png": "[encoded data removed]",
      "text/latex": [
       "$$\\frac{\\left(T_{11} + T_{12} y_{x} + T_{13} u_{x}\\right) \\left(T_{22} \\theta^{y} + T_{23} \\theta^{u}\\right) - \\left(T_{21} + T_{22} y_{x} + T_{23} u_{x}\\right) \\left(T_{12} \\theta^{y} + T_{13} \\theta^{u}\\right)}{T_{11} + T_{12} y_{x} + T_{13} u_{x}}$$"
      ],
      "text/plain": [
       "(T₁₁ + T₁₂⋅yₓ + T₁₃⋅uₓ)⋅(T₂₂⋅θ__y + T₂₃⋅θ__u) - (T₂₁ + T₂₂⋅yₓ + T₂₃⋅uₓ)⋅(T₁₂⋅θ\n",
       "──────────────────────────────────────────────────────────────────────────────\n",
       "                                    T₁₁ + T₁₂⋅yₓ + T₁₃⋅uₓ                     \n",
       "\n",
       "__y + T₁₃⋅θ__u)\n",
       "───────────────\n",
       "               "
      ]
     },
     "execution_count": 85,
     "metadata": {},
     "output_type": "execute_result"
    }
   ],
   "source": [
    "simplify(lp.inv_contact(A, 1, X, Y, Y_x))"
   ]
  },
  {
   "cell_type": "code",
   "execution_count": 86,
   "metadata": {},
   "outputs": [],
   "source": [
    "def pullback_vect_rep(A, w):\n",
    "    temp = []\n",
    "    contact_syms = lp.Contact_sym_plain_nc(A,1)[1:]\n",
    "    for i in range(len(A[1])):\n",
    "        temp.append(simplify(w.subs({contact_syms[i]:1}).subs(dict((p,0) for p in contact_syms))))\n",
    "    return temp\n",
    "\n",
    "def inv_contact_simple(A, X, f, fx):\n",
    "    temp = simplify(lp.inv_contact(A, 1, X, f, fx).subs(invariantize))\n",
    "    return sum([(a)*b for a,b in zip(pullback_vect_rep(A, temp), lp.Contact_sym_plain_nc(A,1)[1:])])"
   ]
  },
  {
   "cell_type": "markdown",
   "metadata": {},
   "source": [
    "# $\\vartheta^y_0$"
   ]
  },
  {
   "cell_type": "code",
   "execution_count": 87,
   "metadata": {},
   "outputs": [
    {
     "data": {
      "image/png": "[encoded data removed]",
      "text/latex": [
       "$$\\frac{\\left(F_{11} F_{22} - F_{12} F_{21} - F_{21} F_{32} u_{x} + F_{22} F_{31} u_{x}\\right) \\theta^{y}}{F_{11} + F_{21} y_{x} + F_{31} u_{x}} + \\frac{\\left(F_{11} F_{32} - F_{12} F_{31} + F_{21} F_{32} y_{x} - F_{22} F_{31} y_{x}\\right) \\theta^{u}}{F_{11} + F_{21} y_{x} + F_{31} u_{x}}$$"
      ],
      "text/plain": [
       "(F₁₁⋅F₂₂ - F₁₂⋅F₂₁ - F₂₁⋅F₃₂⋅uₓ + F₂₂⋅F₃₁⋅uₓ)⋅θ__y   (F₁₁⋅F₃₂ - F₁₂⋅F₃₁ + F₂₁⋅\n",
       "────────────────────────────────────────────────── + ─────────────────────────\n",
       "              F₁₁ + F₂₁⋅yₓ + F₃₁⋅uₓ                                F₁₁ + F₂₁⋅y\n",
       "\n",
       "F₃₂⋅yₓ - F₂₂⋅F₃₁⋅yₓ)⋅θ__u\n",
       "─────────────────────────\n",
       "ₓ + F₃₁⋅uₓ               "
      ]
     },
     "execution_count": 87,
     "metadata": {},
     "output_type": "execute_result"
    }
   ],
   "source": [
    "var_y = inv_contact_simple(A, X, Y, Y_x)\n",
    "var_y"
   ]
  },
  {
   "cell_type": "markdown",
   "metadata": {},
   "source": [
    "# $\\vartheta^u_0$"
   ]
  },
  {
   "cell_type": "code",
   "execution_count": 88,
   "metadata": {},
   "outputs": [
    {
     "data": {
      "image/png": "[encoded data removed]",
      "text/latex": [
       "$$\\frac{\\left(F_{11} F_{23} - F_{13} F_{21} - F_{21} F_{33} u_{x} + F_{23} F_{31} u_{x}\\right) \\theta^{y}}{F_{11} + F_{21} y_{x} + F_{31} u_{x}} + \\frac{\\left(F_{11} F_{33} - F_{13} F_{31} + F_{21} F_{33} y_{x} - F_{23} F_{31} y_{x}\\right) \\theta^{u}}{F_{11} + F_{21} y_{x} + F_{31} u_{x}}$$"
      ],
      "text/plain": [
       "(F₁₁⋅F₂₃ - F₁₃⋅F₂₁ - F₂₁⋅F₃₃⋅uₓ + F₂₃⋅F₃₁⋅uₓ)⋅θ__y   (F₁₁⋅F₃₃ - F₁₃⋅F₃₁ + F₂₁⋅\n",
       "────────────────────────────────────────────────── + ─────────────────────────\n",
       "              F₁₁ + F₂₁⋅yₓ + F₃₁⋅uₓ                                F₁₁ + F₂₁⋅y\n",
       "\n",
       "F₃₃⋅yₓ - F₂₃⋅F₃₁⋅yₓ)⋅θ__u\n",
       "─────────────────────────\n",
       "ₓ + F₃₁⋅uₓ               "
      ]
     },
     "execution_count": 88,
     "metadata": {},
     "output_type": "execute_result"
    }
   ],
   "source": [
    "var_u = inv_contact_simple(A, X, U, U_x)\n",
    "var_u"
   ]
  },
  {
   "cell_type": "markdown",
   "metadata": {},
   "source": [
    "# $\\vartheta^1_0$"
   ]
  },
  {
   "cell_type": "code",
   "execution_count": 89,
   "metadata": {},
   "outputs": [
    {
     "data": {
      "image/png": "[encoded data removed]",
      "text/latex": [
       "$$F_{12} \\theta^{F11} - \\frac{F_{21} \\left(F_{11 x} F_{12} + F_{21 x} F_{22} + F_{31 x} F_{32}\\right) \\theta^{y}}{F_{11} + F_{21} y_{x} + F_{31} u_{x}} + F_{22} \\theta^{F21} - \\frac{F_{31} \\left(F_{11 x} F_{12} + F_{21 x} F_{22} + F_{31 x} F_{32}\\right) \\theta^{u}}{F_{11} + F_{21} y_{x} + F_{31} u_{x}} + F_{32} \\theta^{F31}$$"
      ],
      "text/plain": [
       "             F₂₁⋅(F₁₁ ₓ⋅F₁₂ + F₂₁ ₓ⋅F₂₂ + F₃₁ ₓ⋅F₃₂)⋅θ__y                F₃₁⋅(\n",
       "F₁₂⋅θ__F11 - ──────────────────────────────────────────── + F₂₂⋅θ__F21 - ─────\n",
       "                        F₁₁ + F₂₁⋅yₓ + F₃₁⋅uₓ                                 \n",
       "\n",
       "F₁₁ ₓ⋅F₁₂ + F₂₁ ₓ⋅F₂₂ + F₃₁ ₓ⋅F₃₂)⋅θ__u             \n",
       "─────────────────────────────────────── + F₃₂⋅θ__F31\n",
       "      F₁₁ + F₂₁⋅yₓ + F₃₁⋅uₓ                         "
      ]
     },
     "execution_count": 89,
     "metadata": {},
     "output_type": "execute_result"
    }
   ],
   "source": [
    "var_1 = inv_contact_simple(A, X, B_new[1,0], Bx_new[1,0])\n",
    "var_1"
   ]
  },
  {
   "cell_type": "code",
   "execution_count": 90,
   "metadata": {},
   "outputs": [
    {
     "data": {
      "image/png": "[encoded data removed]",
      "text/latex": [
       "$$F_{12} \\theta^{F11} + F_{22} \\theta^{F21} + F_{32} \\theta^{F31}$$"
      ],
      "text/plain": [
       "F₁₂⋅θ__F11 + F₂₂⋅θ__F21 + F₃₂⋅θ__F31"
      ]
     },
     "execution_count": 90,
     "metadata": {},
     "output_type": "execute_result"
    }
   ],
   "source": [
    "temp = var_1.subs({symbols('theta^y',commutative=False):0, symbols('theta^u',commutative=False):0})\n",
    "temp"
   ]
  },
  {
   "cell_type": "code",
   "execution_count": 91,
   "metadata": {},
   "outputs": [
    {
     "data": {
      "image/png": "[encoded data removed]",
      "text/latex": [
       "$$\\theta^{\\varphi_1} - \\theta^{\\varphi_3} \\sin{\\left (\\varphi_{2}{\\left (x \\right )} \\right )}$$"
      ],
      "text/plain": [
       "\\theta_1}__{\\varphi - \\theta_3}__{\\varphi⋅sin(varphi₂(x))"
      ]
     },
     "execution_count": 91,
     "metadata": {},
     "output_type": "execute_result"
    }
   ],
   "source": [
    "simplify(temp.subs(pullback))"
   ]
  },
  {
   "cell_type": "code",
   "execution_count": 92,
   "metadata": {},
   "outputs": [
    {
     "data": {
      "image/png": "[encoded data removed]",
      "text/latex": [
       "$$\\left [ \\cos{\\left (\\varphi_2 \\right )} \\cos{\\left (\\varphi_3 \\right )}, \\quad - \\sin{\\left (\\varphi_3 \\right )} \\cos{\\left (\\varphi_2 \\right )}, \\quad - \\sin{\\left (\\varphi_2 \\right )}\\right ]$$"
      ],
      "text/plain": [
       "[cos(\\varphi₂)⋅cos(\\varphi₃), -sin(\\varphi₃)⋅cos(\\varphi₂), -sin(\\varphi₂)]"
      ]
     },
     "execution_count": 92,
     "metadata": {},
     "output_type": "execute_result"
    }
   ],
   "source": [
    "var_1_list = list(simplify(M_lower.subs(fun_to_sym_angle).inv()*Matrix(pullback_vect_rep_1(simplify(temp.xreplace(pullback).subs(fun_to_sym_angle))))).transpose())\n",
    "var_1_list"
   ]
  },
  {
   "cell_type": "markdown",
   "metadata": {},
   "source": [
    "# $\\vartheta^2_0$"
   ]
  },
  {
   "cell_type": "code",
   "execution_count": 93,
   "metadata": {},
   "outputs": [
    {
     "data": {
      "image/png": "[encoded data removed]",
      "text/latex": [
       "$$F_{13} \\theta^{F11} - \\frac{F_{21} \\left(F_{11 x} F_{13} + F_{21 x} F_{23} + F_{31 x} F_{33}\\right) \\theta^{y}}{F_{11} + F_{21} y_{x} + F_{31} u_{x}} + F_{23} \\theta^{F21} - \\frac{F_{31} \\left(F_{11 x} F_{13} + F_{21 x} F_{23} + F_{31 x} F_{33}\\right) \\theta^{u}}{F_{11} + F_{21} y_{x} + F_{31} u_{x}} + F_{33} \\theta^{F31}$$"
      ],
      "text/plain": [
       "             F₂₁⋅(F₁₁ ₓ⋅F₁₃ + F₂₁ ₓ⋅F₂₃ + F₃₁ ₓ⋅F₃₃)⋅θ__y                F₃₁⋅(\n",
       "F₁₃⋅θ__F11 - ──────────────────────────────────────────── + F₂₃⋅θ__F21 - ─────\n",
       "                        F₁₁ + F₂₁⋅yₓ + F₃₁⋅uₓ                                 \n",
       "\n",
       "F₁₁ ₓ⋅F₁₃ + F₂₁ ₓ⋅F₂₃ + F₃₁ ₓ⋅F₃₃)⋅θ__u             \n",
       "─────────────────────────────────────── + F₃₃⋅θ__F31\n",
       "      F₁₁ + F₂₁⋅yₓ + F₃₁⋅uₓ                         "
      ]
     },
     "execution_count": 93,
     "metadata": {},
     "output_type": "execute_result"
    }
   ],
   "source": [
    "var_2 = inv_contact_simple(A, X, B_new[2,0], Bx_new[2,0])\n",
    "var_2"
   ]
  },
  {
   "cell_type": "code",
   "execution_count": 94,
   "metadata": {},
   "outputs": [
    {
     "data": {
      "image/png": "[encoded data removed]",
      "text/latex": [
       "$$F_{13} \\theta^{F11} + F_{23} \\theta^{F21} + F_{33} \\theta^{F31}$$"
      ],
      "text/plain": [
       "F₁₃⋅θ__F11 + F₂₃⋅θ__F21 + F₃₃⋅θ__F31"
      ]
     },
     "execution_count": 94,
     "metadata": {},
     "output_type": "execute_result"
    }
   ],
   "source": [
    "temp = var_2.subs({symbols('theta^y',commutative=False):0, symbols('theta^u',commutative=False):0})\n",
    "temp"
   ]
  },
  {
   "cell_type": "code",
   "execution_count": 95,
   "metadata": {},
   "outputs": [
    {
     "data": {
      "image/png": "[encoded data removed]",
      "text/latex": [
       "$$\\theta^{\\varphi_2} \\cos{\\left (\\varphi_{1}{\\left (x \\right )} \\right )} + \\theta^{\\varphi_3} \\sin{\\left (\\varphi_{1}{\\left (x \\right )} \\right )} \\cos{\\left (\\varphi_{2}{\\left (x \\right )} \\right )}$$"
      ],
      "text/plain": [
       "\\theta_2}__{\\varphi⋅cos(varphi₁(x)) + \\theta_3}__{\\varphi⋅sin(varphi₁(x))⋅cos(\n",
       "varphi₂(x))"
      ]
     },
     "execution_count": 95,
     "metadata": {},
     "output_type": "execute_result"
    }
   ],
   "source": [
    "simplify(temp.subs(pullback))"
   ]
  },
  {
   "cell_type": "code",
   "execution_count": 96,
   "metadata": {},
   "outputs": [
    {
     "data": {
      "image/png": "[encoded data removed]",
      "text/latex": [
       "$$\\left [ \\sin{\\left (\\varphi_1 \\right )} \\sin{\\left (\\varphi_2 \\right )} \\cos{\\left (\\varphi_3 \\right )} - \\sin{\\left (\\varphi_3 \\right )} \\cos{\\left (\\varphi_1 \\right )}, \\quad - \\sin{\\left (\\varphi_1 \\right )} \\sin{\\left (\\varphi_2 \\right )} \\sin{\\left (\\varphi_3 \\right )} - \\cos{\\left (\\varphi_1 \\right )} \\cos{\\left (\\varphi_3 \\right )}, \\quad \\sin{\\left (\\varphi_1 \\right )} \\cos{\\left (\\varphi_2 \\right )}\\right ]$$"
      ],
      "text/plain": [
       "[sin(\\varphi₁)⋅sin(\\varphi₂)⋅cos(\\varphi₃) - sin(\\varphi₃)⋅cos(\\varphi₁), -sin\n",
       "(\\varphi₁)⋅sin(\\varphi₂)⋅sin(\\varphi₃) - cos(\\varphi₁)⋅cos(\\varphi₃), sin(\\var\n",
       "phi₁)⋅cos(\\varphi₂)]"
      ]
     },
     "execution_count": 96,
     "metadata": {},
     "output_type": "execute_result"
    }
   ],
   "source": [
    "var_2_list = list(simplify(M_lower.subs(fun_to_sym_angle).inv()*Matrix(pullback_vect_rep_1(simplify(temp.xreplace(pullback).subs(fun_to_sym_angle))))).transpose())\n",
    "var_2_list"
   ]
  },
  {
   "cell_type": "markdown",
   "metadata": {},
   "source": [
    "# $\\vartheta^3_0$"
   ]
  },
  {
   "cell_type": "code",
   "execution_count": 97,
   "metadata": {},
   "outputs": [
    {
     "data": {
      "image/png": "[encoded data removed]",
      "text/latex": [
       "$$F_{13} \\theta^{F12} - \\frac{F_{21} \\left(F_{12 x} F_{13} + F_{22 x} F_{23} + F_{32 x} F_{33}\\right) \\theta^{y}}{F_{11} + F_{21} y_{x} + F_{31} u_{x}} + F_{23} \\theta^{F22} - \\frac{F_{31} \\left(F_{12 x} F_{13} + F_{22 x} F_{23} + F_{32 x} F_{33}\\right) \\theta^{u}}{F_{11} + F_{21} y_{x} + F_{31} u_{x}} + F_{33} \\theta^{F32}$$"
      ],
      "text/plain": [
       "             F₂₁⋅(F₁₂ ₓ⋅F₁₃ + F₂₂ ₓ⋅F₂₃ + F₃₂ ₓ⋅F₃₃)⋅θ__y                F₃₁⋅(\n",
       "F₁₃⋅θ__F12 - ──────────────────────────────────────────── + F₂₃⋅θ__F22 - ─────\n",
       "                        F₁₁ + F₂₁⋅yₓ + F₃₁⋅uₓ                                 \n",
       "\n",
       "F₁₂ ₓ⋅F₁₃ + F₂₂ ₓ⋅F₂₃ + F₃₂ ₓ⋅F₃₃)⋅θ__u             \n",
       "─────────────────────────────────────── + F₃₃⋅θ__F32\n",
       "      F₁₁ + F₂₁⋅yₓ + F₃₁⋅uₓ                         "
      ]
     },
     "execution_count": 97,
     "metadata": {},
     "output_type": "execute_result"
    }
   ],
   "source": [
    "var_3 = inv_contact_simple(A, X, B_new[2,1], Bx_new[2,1])\n",
    "var_3"
   ]
  },
  {
   "cell_type": "code",
   "execution_count": 98,
   "metadata": {},
   "outputs": [
    {
     "data": {
      "image/png": "[encoded data removed]",
      "text/latex": [
       "$$F_{13} \\theta^{F12} + F_{23} \\theta^{F22} + F_{33} \\theta^{F32}$$"
      ],
      "text/plain": [
       "F₁₃⋅θ__F12 + F₂₃⋅θ__F22 + F₃₃⋅θ__F32"
      ]
     },
     "execution_count": 98,
     "metadata": {},
     "output_type": "execute_result"
    }
   ],
   "source": [
    "temp = var_3.subs({symbols('theta^y',commutative=False):0, symbols('theta^u',commutative=False):0})\n",
    "temp"
   ]
  },
  {
   "cell_type": "code",
   "execution_count": 99,
   "metadata": {},
   "outputs": [
    {
     "data": {
      "image/png": "[encoded data removed]",
      "text/latex": [
       "$$\\left [ \\sin{\\left (\\varphi_1 \\right )} \\sin{\\left (\\varphi_3 \\right )} + \\sin{\\left (\\varphi_2 \\right )} \\cos{\\left (\\varphi_1 \\right )} \\cos{\\left (\\varphi_3 \\right )}, \\quad \\sin{\\left (\\varphi_1 \\right )} \\cos{\\left (\\varphi_3 \\right )} - \\sin{\\left (\\varphi_2 \\right )} \\sin{\\left (\\varphi_3 \\right )} \\cos{\\left (\\varphi_1 \\right )}, \\quad \\cos{\\left (\\varphi_1 \\right )} \\cos{\\left (\\varphi_2 \\right )}\\right ]$$"
      ],
      "text/plain": [
       "[sin(\\varphi₁)⋅sin(\\varphi₃) + sin(\\varphi₂)⋅cos(\\varphi₁)⋅cos(\\varphi₃), sin(\n",
       "\\varphi₁)⋅cos(\\varphi₃) - sin(\\varphi₂)⋅sin(\\varphi₃)⋅cos(\\varphi₁), cos(\\varp\n",
       "hi₁)⋅cos(\\varphi₂)]"
      ]
     },
     "execution_count": 99,
     "metadata": {},
     "output_type": "execute_result"
    }
   ],
   "source": [
    "var_3_list = list(simplify(M_lower.subs(fun_to_sym_angle).inv()*Matrix(pullback_vect_rep_1(simplify(temp.xreplace(pullback).subs(fun_to_sym_angle))))).transpose())\n",
    "var_3_list"
   ]
  },
  {
   "cell_type": "code",
   "execution_count": 100,
   "metadata": {},
   "outputs": [
    {
     "data": {
      "image/png": "[encoded data removed]",
      "text/latex": [
       "$$\\left[\\begin{matrix}\\cos{\\left (\\varphi_{1}{\\left (x \\right )} \\right )} \\cos{\\left (\\varphi_{2}{\\left (x \\right )} \\right )} & - \\sin{\\left (\\varphi_{1}{\\left (x \\right )} \\right )} \\cos{\\left (\\varphi_{2}{\\left (x \\right )} \\right )} & - \\sin{\\left (\\varphi_{2}{\\left (x \\right )} \\right )}\\\\\\sin{\\left (\\varphi_{1}{\\left (x \\right )} \\right )} \\cos{\\left (\\varphi_{3}{\\left (x \\right )} \\right )} - \\sin{\\left (\\varphi_{2}{\\left (x \\right )} \\right )} \\sin{\\left (\\varphi_{3}{\\left (x \\right )} \\right )} \\cos{\\left (\\varphi_{1}{\\left (x \\right )} \\right )} & \\sin{\\left (\\varphi_{1}{\\left (x \\right )} \\right )} \\sin{\\left (\\varphi_{2}{\\left (x \\right )} \\right )} \\sin{\\left (\\varphi_{3}{\\left (x \\right )} \\right )} + \\cos{\\left (\\varphi_{1}{\\left (x \\right )} \\right )} \\cos{\\left (\\varphi_{3}{\\left (x \\right )} \\right )} & - \\sin{\\left (\\varphi_{3}{\\left (x \\right )} \\right )} \\cos{\\left (\\varphi_{2}{\\left (x \\right )} \\right )}\\\\\\sin{\\left (\\varphi_{1}{\\left (x \\right )} \\right )} \\sin{\\left (\\varphi_{3}{\\left (x \\right )} \\right )} + \\sin{\\left (\\varphi_{2}{\\left (x \\right )} \\right )} \\cos{\\left (\\varphi_{1}{\\left (x \\right )} \\right )} \\cos{\\left (\\varphi_{3}{\\left (x \\right )} \\right )} & - \\sin{\\left (\\varphi_{1}{\\left (x \\right )} \\right )} \\sin{\\left (\\varphi_{2}{\\left (x \\right )} \\right )} \\cos{\\left (\\varphi_{3}{\\left (x \\right )} \\right )} + \\sin{\\left (\\varphi_{3}{\\left (x \\right )} \\right )} \\cos{\\left (\\varphi_{1}{\\left (x \\right )} \\right )} & \\cos{\\left (\\varphi_{2}{\\left (x \\right )} \\right )} \\cos{\\left (\\varphi_{3}{\\left (x \\right )} \\right )}\\end{matrix}\\right]$$"
      ],
      "text/plain": [
       "⎡                         cos(varphi₁(x))⋅cos(varphi₂(x))                     \n",
       "⎢                                                                             \n",
       "⎢sin(varphi₁(x))⋅cos(varphi₃(x)) - sin(varphi₂(x))⋅sin(varphi₃(x))⋅cos(varphi₁\n",
       "⎢                                                                             \n",
       "⎣sin(varphi₁(x))⋅sin(varphi₃(x)) + sin(varphi₂(x))⋅cos(varphi₁(x))⋅cos(varphi₃\n",
       "\n",
       "                               -sin(varphi₁(x))⋅cos(varphi₂(x))               \n",
       "                                                                              \n",
       "(x))  sin(varphi₁(x))⋅sin(varphi₂(x))⋅sin(varphi₃(x)) + cos(varphi₁(x))⋅cos(va\n",
       "                                                                              \n",
       "(x))  -sin(varphi₁(x))⋅sin(varphi₂(x))⋅cos(varphi₃(x)) + sin(varphi₃(x))⋅cos(v\n",
       "\n",
       "                    -sin(varphi₂(x))        ⎤\n",
       "                                            ⎥\n",
       "rphi₃(x))   -sin(varphi₃(x))⋅cos(varphi₂(x))⎥\n",
       "                                            ⎥\n",
       "arphi₁(x))  cos(varphi₂(x))⋅cos(varphi₃(x)) ⎦"
      ]
     },
     "execution_count": 100,
     "metadata": {},
     "output_type": "execute_result"
    }
   ],
   "source": [
    "F"
   ]
  },
  {
   "cell_type": "markdown",
   "metadata": {},
   "source": [
    "From the expressions above, we see that the lower right $3\\times 3$ block of $W$ is given by:\n",
    "$$(F_{11} + F_{21} y_{x} + F_{31} u_{x})\\begin{pmatrix}F_{33} & -F_{32} & F_{31}\\\\\n",
    "\tF_{23} & -F_{22} & F_{21}\\\\\n",
    "\tF_{13} & -F_{12} & F_{11}\n",
    "\\end{pmatrix} $$"
   ]
  },
  {
   "cell_type": "markdown",
   "metadata": {},
   "source": [
    "# Determinant of $W$"
   ]
  },
  {
   "cell_type": "markdown",
   "metadata": {},
   "source": [
    "The determinant of the upper right portions is derived below:"
   ]
  },
  {
   "cell_type": "code",
   "execution_count": 101,
   "metadata": {},
   "outputs": [
    {
     "data": {
      "image/png": "[encoded data removed]",
      "text/latex": [
       "$$F_{11}^{2} F_{22} F_{33} - F_{11}^{2} F_{23} F_{32} - F_{11} F_{12} F_{21} F_{33} + F_{11} F_{12} F_{23} F_{31} + F_{11} F_{13} F_{21} F_{32} - F_{11} F_{13} F_{22} F_{31} + F_{11} F_{21} F_{22} F_{33} y_{x} - F_{11} F_{21} F_{23} F_{32} y_{x} + F_{11} F_{22} F_{31} F_{33} u_{x} - F_{11} F_{23} F_{31} F_{32} u_{x} - F_{12} F_{21}^{2} F_{33} y_{x} + F_{12} F_{21} F_{23} F_{31} y_{x} - F_{12} F_{21} F_{31} F_{33} u_{x} + F_{12} F_{23} F_{31}^{2} u_{x} + F_{13} F_{21}^{2} F_{32} y_{x} - F_{13} F_{21} F_{22} F_{31} y_{x} + F_{13} F_{21} F_{31} F_{32} u_{x} - F_{13} F_{22} F_{31}^{2} u_{x}$$"
      ],
      "text/plain": [
       "   2              2                                                           \n",
       "F₁₁ ⋅F₂₂⋅F₃₃ - F₁₁ ⋅F₂₃⋅F₃₂ - F₁₁⋅F₁₂⋅F₂₁⋅F₃₃ + F₁₁⋅F₁₂⋅F₂₃⋅F₃₁ + F₁₁⋅F₁₃⋅F₂₁⋅\n",
       "\n",
       "                                                                              \n",
       "F₃₂ - F₁₁⋅F₁₃⋅F₂₂⋅F₃₁ + F₁₁⋅F₂₁⋅F₂₂⋅F₃₃⋅yₓ - F₁₁⋅F₂₁⋅F₂₃⋅F₃₂⋅yₓ + F₁₁⋅F₂₂⋅F₃₁⋅\n",
       "\n",
       "                                     2                                        \n",
       "F₃₃⋅uₓ - F₁₁⋅F₂₃⋅F₃₁⋅F₃₂⋅uₓ - F₁₂⋅F₂₁ ⋅F₃₃⋅yₓ + F₁₂⋅F₂₁⋅F₂₃⋅F₃₁⋅yₓ - F₁₂⋅F₂₁⋅F\n",
       "\n",
       "                       2             2                                        \n",
       "₃₁⋅F₃₃⋅uₓ + F₁₂⋅F₂₃⋅F₃₁ ⋅uₓ + F₁₃⋅F₂₁ ⋅F₃₂⋅yₓ - F₁₃⋅F₂₁⋅F₂₂⋅F₃₁⋅yₓ + F₁₃⋅F₂₁⋅F\n",
       "\n",
       "                       2   \n",
       "₃₁⋅F₃₂⋅uₓ - F₁₃⋅F₂₂⋅F₃₁ ⋅uₓ"
      ]
     },
     "execution_count": 101,
     "metadata": {},
     "output_type": "execute_result"
    }
   ],
   "source": [
    "expand(simplify(simplify((symbols('F11') + symbols('F21')*symbols('y_x') + symbols('F31')* symbols('u_x'))*Matrix([[var_y.subs({symbols('theta^y', commutative=False):1,symbols('theta^u', commutative=False):0}),var_u.subs({symbols('theta^y', commutative=False):1,symbols('theta^u', commutative=False):0})],\n",
    "        [var_y.subs({symbols('theta^y', commutative=False):0,symbols('theta^u', commutative=False):1}),var_u.subs({symbols('theta^y', commutative=False):0,symbols('theta^u', commutative=False):1})]])).det()))"
   ]
  },
  {
   "cell_type": "code",
   "execution_count": 102,
   "metadata": {},
   "outputs": [],
   "source": [
    "det_relation = det(B).subs({F11:symbols('F11'), F12:symbols('F12'), F13:symbols('F13'),\n",
    "           F21:symbols('F21'), F22:symbols('F22'), F23:symbols('F23'),\n",
    "           F31:symbols('F31'), F32:symbols('F32'), F33:symbols('F33'),})"
   ]
  },
  {
   "cell_type": "code",
   "execution_count": 103,
   "metadata": {},
   "outputs": [
    {
     "data": {
      "image/png": "[encoded data removed]",
      "text/latex": [
       "$$F_{11} F_{22} F_{33} - F_{11} F_{23} F_{32} - F_{12} F_{21} F_{33} + F_{12} F_{23} F_{31} + F_{13} F_{21} F_{32} - F_{13} F_{22} F_{31}$$"
      ],
      "text/plain": [
       "F₁₁⋅F₂₂⋅F₃₃ - F₁₁⋅F₂₃⋅F₃₂ - F₁₂⋅F₂₁⋅F₃₃ + F₁₂⋅F₂₃⋅F₃₁ + F₁₃⋅F₂₁⋅F₃₂ - F₁₃⋅F₂₂⋅\n",
       "F₃₁"
      ]
     },
     "execution_count": 103,
     "metadata": {},
     "output_type": "execute_result"
    }
   ],
   "source": [
    "det_relation"
   ]
  },
  {
   "cell_type": "code",
   "execution_count": 104,
   "metadata": {},
   "outputs": [
    {
     "data": {
      "image/png": "[encoded data removed]",
      "text/latex": [
       "$$F_{11} + F_{21} y_{x} + F_{31} u_{x}$$"
      ],
      "text/plain": [
       "F₁₁ + F₂₁⋅yₓ + F₃₁⋅uₓ"
      ]
     },
     "execution_count": 104,
     "metadata": {},
     "output_type": "execute_result"
    }
   ],
   "source": [
    "simplify(expand(simplify(simplify((symbols('F11') + symbols('F21')*symbols('y_x') + symbols('F31')* symbols('u_x'))*Matrix([[var_y.subs({symbols('theta^y', commutative=False):1,symbols('theta^u', commutative=False):0}),var_u.subs({symbols('theta^y', commutative=False):1,symbols('theta^u', commutative=False):0})],\n",
    "        [var_y.subs({symbols('theta^y', commutative=False):0,symbols('theta^u', commutative=False):1}),var_u.subs({symbols('theta^y', commutative=False):0,symbols('theta^u', commutative=False):1})]])).det()))/det_relation)"
   ]
  },
  {
   "cell_type": "markdown",
   "metadata": {},
   "source": [
    "Using this information, we find that the determinant of $W$ is given by\n",
    "\n",
    "$$-(F_{11}+F_{21}y_x+F_{31}u_x)^3.$$"
   ]
  }
 ],
 "metadata": {
  "kernelspec": {
   "display_name": "Python 3",
   "language": "python",
   "name": "python3"
  },
  "language_info": {
   "codemirror_mode": {
    "name": "ipython",
    "version": 3
   },
   "file_extension": ".py",
   "mimetype": "text/x-python",
   "name": "python",
   "nbconvert_exporter": "python",
   "pygments_lexer": "ipython3",
   "version": "3.7.3"
  }
 },
 "nbformat": 4,
 "nbformat_minor": 2
}

{
 "cells": [
  {
   "cell_type": "markdown",
   "metadata": {},
   "source": [
    "# Import modules and define dictionary merge"
   ]
  },
  {
   "cell_type": "code",
   "execution_count": 1,
   "metadata": {},
   "outputs": [],
   "source": [
    "import numpy as np\n",
    "from sympy import *\n",
    "from LieSympy import *\n",
    "init_printing()"
   ]
  },
  {
   "cell_type": "code",
   "execution_count": 2,
   "metadata": {},
   "outputs": [],
   "source": [
    "dx = Symbol('dx')\n",
    "D_x = Symbol('D_x')"
   ]
  },
  {
   "cell_type": "code",
   "execution_count": 3,
   "metadata": {},
   "outputs": [
    {
     "data": {
      "image/png": "[encoded data removed]",
      "text/latex": [
       "$$\\left [ - u, \\quad x, \\quad 1, \\quad u_{x}^{2} + 1, \\quad u_{x} \\varphi_{x}, \\quad 3 u_{x} u_{xx}, \\quad 2 u_{x} \\varphi_{xx} + u_{xx} \\varphi_{x}, \\quad 4 u_{x} u_{xxx} + 3 u_{xx}^{2}, \\quad 3 u_{x} \\varphi_{xxx} + 3 u_{xx} \\varphi_{xx} + u_{xxx} \\varphi_{x}\\right ]$$"
      ],
      "text/plain": [
       "⎡            2                                                                \n",
       "⎣-u, x, 1, uₓ  + 1, uₓ⋅varphiₓ, 3⋅uₓ⋅uₓₓ, 2⋅uₓ⋅varphiₓₓ + uₓₓ⋅varphiₓ, 4⋅uₓ⋅uₓ\n",
       "\n",
       "          2                                                ⎤\n",
       "ₓₓ + 3⋅uₓₓ , 3⋅uₓ⋅varphiₓₓₓ + 3⋅uₓₓ⋅varphiₓₓ + uₓₓₓ⋅varphiₓ⎦"
      ]
     },
     "execution_count": 3,
     "metadata": {},
     "output_type": "execute_result"
    }
   ],
   "source": [
    "Prolong(['x'],['u','P'],[-u,x,1],3)"
   ]
  },
  {
   "cell_type": "markdown",
   "metadata": {},
   "source": [
    "# The implicit differentiation operators"
   ]
  },
  {
   "cell_type": "code",
   "execution_count": 4,
   "metadata": {},
   "outputs": [
    {
     "data": {
      "image/png": "[encoded data removed]",
      "text/latex": [
       "$$- \\frac{u_{xx}}{\\left(u_{x} \\sin{\\left (\\psi \\right )} - \\cos{\\left (\\psi \\right )}\\right)^{3}}$$"
      ],
      "text/plain": [
       "        -uₓₓ         \n",
       "─────────────────────\n",
       "                    3\n",
       "(uₓ⋅sin(ψ) - cos(ψ)) "
      ]
     },
     "execution_count": 4,
     "metadata": {},
     "output_type": "execute_result"
    }
   ],
   "source": [
    "# test\n",
    "Dnx(u,2)"
   ]
  },
  {
   "cell_type": "markdown",
   "metadata": {},
   "source": [
    "# Define the moving frame for a cross-section"
   ]
  },
  {
   "cell_type": "code",
   "execution_count": 5,
   "metadata": {},
   "outputs": [
    {
     "data": {
      "image/png": "[encoded data removed]",
      "text/latex": [
       "$$\\left \\{ a : - u \\sin{\\left (\\varphi \\right )} - x \\cos{\\left (\\varphi \\right )}, \\quad b : - u \\cos{\\left (\\varphi \\right )} + x \\sin{\\left (\\varphi \\right )}, \\quad \\psi : - \\varphi\\right \\}$$"
      ],
      "text/plain": [
       "{a: -u⋅sin(varphi) - x⋅cos(varphi), b: -u⋅cos(varphi) + x⋅sin(varphi), ψ: -var\n",
       "phi}"
      ]
     },
     "execution_count": 5,
     "metadata": {},
     "output_type": "execute_result"
    }
   ],
   "source": [
    "# test\n",
    "K = [0,0,0]\n",
    "\n",
    "frame = moving_frame(Phantoms,K)\n",
    "frame"
   ]
  },
  {
   "cell_type": "markdown",
   "metadata": {},
   "source": [
    "# Invariantization and the normalized invariants"
   ]
  },
  {
   "cell_type": "code",
   "execution_count": 6,
   "metadata": {},
   "outputs": [
    {
     "data": {
      "image/png": "[encoded data removed]",
      "text/latex": [
       "$$\\frac{u_{x} \\cos{\\left (\\varphi \\right )} - \\sin{\\left (\\varphi \\right )}}{u_{x} \\sin{\\left (\\varphi \\right )} + \\cos{\\left (\\varphi \\right )}}$$"
      ],
      "text/plain": [
       "uₓ⋅cos(varphi) - sin(varphi)\n",
       "────────────────────────────\n",
       "uₓ⋅sin(varphi) + cos(varphi)"
      ]
     },
     "execution_count": 6,
     "metadata": {},
     "output_type": "execute_result"
    }
   ],
   "source": [
    "# test\n",
    "normalized_invariant(u,1,frame)"
   ]
  },
  {
   "cell_type": "code",
   "execution_count": 7,
   "metadata": {},
   "outputs": [
    {
     "data": {
      "image/png": "[encoded data removed]",
      "text/latex": [
       "$$u_{x} u_{xx}$$"
      ],
      "text/plain": [
       "uₓ⋅uₓₓ"
      ]
     },
     "execution_count": 7,
     "metadata": {},
     "output_type": "execute_result"
    }
   ],
   "source": [
    "invariantization(ux*uxx+u*uxx+x*P+P, frame)"
   ]
  },
  {
   "cell_type": "markdown",
   "metadata": {},
   "source": [
    "# Determine recurrence relations"
   ]
  },
  {
   "cell_type": "code",
   "execution_count": 8,
   "metadata": {},
   "outputs": [
    {
     "data": {
      "image/png": "[encoded data removed]",
      "text/latex": [
       "$$\\left \\{ R_{1} : -1, \\quad R_{2} : - u_{x}, \\quad R_{3} : - \\varphi_{x}\\right \\}$$"
      ],
      "text/plain": [
       "{R₁: -1, R₂: -uₓ, R₃: -varphiₓ}"
      ]
     },
     "execution_count": 8,
     "metadata": {},
     "output_type": "execute_result"
    }
   ],
   "source": [
    "# test\n",
    "mc_invariants = rec_Relations(Phantoms, frame)\n",
    "mc_invariants"
   ]
  },
  {
   "cell_type": "markdown",
   "metadata": {},
   "source": [
    "# Invariant differentiation from recurrence relations"
   ]
  },
  {
   "cell_type": "code",
   "execution_count": 9,
   "metadata": {},
   "outputs": [],
   "source": [
    "def DI_x(f, mc_invariants):\n",
    "    s = f.subs(transformed_subs_forward)\n",
    "    w1 = apply_vect(v1,s.subs(transformed_subs_forward),A)\n",
    "    w2 = apply_vect(v2,s.subs(transformed_subs_forward),A)\n",
    "    w3 = apply_vect(v3,s.subs(transformed_subs_forward),A)\n",
    "    c1 = mc_invariants[R1]\n",
    "    c2 = mc_invariants[R2]\n",
    "    c3 = mc_invariants[R3]\n",
    "    print(invariantization(diff(f.subs(master_str_to_function),x).subs(master_function_to_str),frame))\n",
    "    expression = invariantization(diff(f.subs(master_str_to_function),x).subs(master_function_to_symbol),frame) + c1*invariantization(w1,frame) + c2*invariantization(w2,frame) + c3*invariantization(w3,frame)\n",
    "    return expression"
   ]
  },
  {
   "cell_type": "code",
   "execution_count": null,
   "metadata": {},
   "outputs": [],
   "source": []
  },
  {
   "cell_type": "markdown",
   "metadata": {},
   "source": [
    "# Exterior derivative"
   ]
  },
  {
   "cell_type": "code",
   "execution_count": 10,
   "metadata": {},
   "outputs": [],
   "source": [
    "def exterior_diff(f,A):\n",
    "    C = []\n",
    "    f = f.subs(master_symbol_to_function)\n",
    "    n = max([ode_order(f,Function(var)) for var in A[1]])\n",
    "    f = f.subs(master_function_to_symbol)\n",
    "    var = fullJet(A[0],A[1],n)\n",
    "    for w in var:\n",
    "        C.append(diff(f,master_str_to_symbol[w]))\n",
    "    return C"
   ]
  },
  {
   "cell_type": "code",
   "execution_count": 11,
   "metadata": {},
   "outputs": [
    {
     "data": {
      "image/png": "[encoded data removed]",
      "text/latex": [
       "$$\\left [ u_{x}, \\quad 0, \\quad 0, \\quad x, \\quad 0\\right ]$$"
      ],
      "text/plain": [
       "[uₓ, 0, 0, x, 0]"
      ]
     },
     "execution_count": 11,
     "metadata": {},
     "output_type": "execute_result"
    }
   ],
   "source": [
    "exterior_diff(ux*x,A)"
   ]
  },
  {
   "cell_type": "markdown",
   "metadata": {},
   "source": [
    "# Add differential one-forms"
   ]
  },
  {
   "cell_type": "code",
   "execution_count": 12,
   "metadata": {},
   "outputs": [],
   "source": [
    "def add_Diff_Forms(C,D):\n",
    "    s = max(len(C),len(D))\n",
    "    C = C+[0]*(s-len(C))\n",
    "    D = D+[0]*(s-len(D))\n",
    "    return [a+b for a,b in zip(C,D)]"
   ]
  },
  {
   "cell_type": "markdown",
   "metadata": {},
   "source": [
    "# Lie derivatives of contact forms"
   ]
  },
  {
   "cell_type": "code",
   "execution_count": 13,
   "metadata": {},
   "outputs": [],
   "source": [
    "def Lie_contact_diff(v, var_index, i):\n",
    "    n = i+1\n",
    "    v_p = Prolong(A[0],A[1],v,n)\n",
    "    var = fullJet(A[0],A[1],n)\n",
    "    C = exterior_diff(v_p[1+var_index+2*i],A)\n",
    "    D = exterior_diff(v_p[0],A)\n",
    "    U_xi = [master_str_to_function[var[var_index+2*i+3]]]*len(D)\n",
    "    D = [-a*b for a,b in zip(D,U_xi)]\n",
    "    s = max(len(C),len(D))\n",
    "    C = C + [0]*(s-len(C))\n",
    "    D = D + [0]*(s-len(D))\n",
    "    F = [-v_p[var_index+2*i+3]]+[0]*(s-1)\n",
    "    Contact = [sum(t).subs(master_function_to_str) for t in zip(C,D,F)]\n",
    "    expr = 0\n",
    "    for i in range(len(Contact)-1):\n",
    "        expr = expr + Contact[i+1]*contact_symbol[i]\n",
    "    return expr.subs(master_str_to_symbol)"
   ]
  },
  {
   "cell_type": "code",
   "execution_count": 14,
   "metadata": {},
   "outputs": [
    {
     "data": {
      "image/png": "[encoded data removed]",
      "text/latex": [
       "$$u_{x} \\vartheta^{u}$$"
      ],
      "text/plain": [
       "uₓ⋅vartheta__u"
      ]
     },
     "execution_count": 14,
     "metadata": {},
     "output_type": "execute_result"
    }
   ],
   "source": [
    "invariantization(Lie_contact_diff(v3, 0, 0),frame)"
   ]
  },
  {
   "cell_type": "markdown",
   "metadata": {},
   "source": [
    "# Total Derivatives"
   ]
  },
  {
   "cell_type": "code",
   "execution_count": 15,
   "metadata": {},
   "outputs": [],
   "source": [
    "def total_diff(f):\n",
    "    var = copy.copy(master_str_to_symbol.keys())\n",
    "    var.remove('x')\n",
    "    var.sort()\n",
    "    expr = diff(f,x)+0*x\n",
    "    for i in range(len(var)-1):\n",
    "        expr = expr + master_str_to_symbol[var[i+1]]*diff(f,master_str_to_symbol[var[i]])\n",
    "    return expr"
   ]
  },
  {
   "cell_type": "code",
   "execution_count": 16,
   "metadata": {},
   "outputs": [
    {
     "data": {
      "image/png": "[encoded data removed]",
      "text/latex": [
       "$$u \\varphi_{x} + u_{x} \\varphi$$"
      ],
      "text/plain": [
       "u⋅varphiₓ + uₓ⋅varphi"
      ]
     },
     "execution_count": 16,
     "metadata": {},
     "output_type": "execute_result"
    }
   ],
   "source": [
    "total_diff(P*u)"
   ]
  },
  {
   "cell_type": "markdown",
   "metadata": {},
   "source": [
    "# Vertical derivatives"
   ]
  },
  {
   "cell_type": "code",
   "execution_count": 17,
   "metadata": {},
   "outputs": [],
   "source": [
    "def vertical_diff(f):\n",
    "    C = []\n",
    "    f = f.subs(master_symbol_to_function)\n",
    "    n = max([ode_order(f,Function(var)) for var in A[1]])\n",
    "    var = fullJet(A[0],A[1],n)[1:]\n",
    "    f = f.subs(master_function_to_symbol)\n",
    "    for w in var:\n",
    "        C.append(diff(f,master_str_to_symbol[w]))\n",
    "    expr = 0*x\n",
    "    for i in range(len(C)):\n",
    "        expr = expr + C[i]*contact_symbol[i]\n",
    "    return expr"
   ]
  },
  {
   "cell_type": "code",
   "execution_count": 18,
   "metadata": {},
   "outputs": [
    {
     "data": {
      "image/png": "[encoded data removed]",
      "text/latex": [
       "$$u \\vartheta^{u}_{1} + u_{x} \\vartheta^{u}$$"
      ],
      "text/plain": [
       "u⋅vartheta_1__u + uₓ⋅vartheta__u"
      ]
     },
     "execution_count": 18,
     "metadata": {},
     "output_type": "execute_result"
    }
   ],
   "source": [
    "vertical_diff(u*ux)"
   ]
  },
  {
   "cell_type": "markdown",
   "metadata": {},
   "source": [
    "# Horizontal derivatives"
   ]
  },
  {
   "cell_type": "code",
   "execution_count": 19,
   "metadata": {},
   "outputs": [],
   "source": [
    "def horizontal_diff(f):\n",
    "    return total_diff(f)*dx"
   ]
  },
  {
   "cell_type": "code",
   "execution_count": 20,
   "metadata": {},
   "outputs": [
    {
     "data": {
      "image/png": "[encoded data removed]",
      "text/latex": [
       "$$dx \\left(u_{x} + u_{xx} x\\right)$$"
      ],
      "text/plain": [
       "dx⋅(uₓ + uₓₓ⋅x)"
      ]
     },
     "execution_count": 20,
     "metadata": {},
     "output_type": "execute_result"
    }
   ],
   "source": [
    "# Test\n",
    "horizontal_diff(x*ux)"
   ]
  },
  {
   "cell_type": "markdown",
   "metadata": {},
   "source": [
    "# Invariant differentiation rec relations"
   ]
  },
  {
   "cell_type": "code",
   "execution_count": 21,
   "metadata": {},
   "outputs": [
    {
     "data": {
      "image/png": "[encoded data removed]",
      "text/latex": [
       "$$\\left [ \\vartheta^{u}, \\quad \\vartheta^{\\varphi}, \\quad \\vartheta^{u}_{1}, \\quad \\vartheta^{\\varphi}_{1}, \\quad \\vartheta^{u}_{2}, \\quad \\vartheta^{\\varphi}_{2}\\right ]$$"
      ],
      "text/plain": [
       "[vartheta__u, vartheta__varphi, vartheta_1__u, vartheta_1__varphi, vartheta_2_\n",
       "_u, vartheta_2__varphi]"
      ]
     },
     "execution_count": 21,
     "metadata": {},
     "output_type": "execute_result"
    }
   ],
   "source": [
    "contact_symbol"
   ]
  },
  {
   "cell_type": "code",
   "execution_count": 22,
   "metadata": {},
   "outputs": [],
   "source": [
    "theta_u = contact_symbol[0]\n",
    "theta_phi = contact_symbol[1]"
   ]
  },
  {
   "cell_type": "code",
   "execution_count": 23,
   "metadata": {},
   "outputs": [],
   "source": [
    "def rec_Relations_Forms(Phantoms, frame, A):\n",
    "    B = []\n",
    "    C = [0, theta_u, theta_phi]\n",
    "    for i in range(len(Phantoms)):\n",
    "        w = Phantoms[i]\n",
    "        s = w.subs(transformed_subs_forward)\n",
    "        w1 = apply_vect(v1,s.subs(transformed_subs_forward),A)\n",
    "        w2 = apply_vect(v2,s.subs(transformed_subs_forward),A)\n",
    "        w3 = apply_vect(v3,s.subs(transformed_subs_forward),A)\n",
    "        expression = C[i] + epsilon_1*invariantization(w1,frame) + epsilon_2*invariantization(w2,frame) + epsilon_3*invariantization(w3,frame)\n",
    "        B.append(expression)\n",
    "    return solve(B,[epsilon_1,epsilon_2,epsilon_3])"
   ]
  },
  {
   "cell_type": "code",
   "execution_count": 24,
   "metadata": {},
   "outputs": [
    {
     "data": {
      "image/png": "[encoded data removed]",
      "text/latex": [
       "$$\\left \\{ \\varepsilon_{1} : 0, \\quad \\varepsilon_{2} : - \\vartheta^{u}, \\quad \\varepsilon_{3} : - \\vartheta^{\\varphi}\\right \\}$$"
      ],
      "text/plain": [
       "{varepsilon₁: 0, varepsilon₂: -vartheta__u, varepsilon₃: -vartheta__varphi}"
      ]
     },
     "execution_count": 24,
     "metadata": {},
     "output_type": "execute_result"
    }
   ],
   "source": [
    "rec_forms = rec_Relations_Forms(Phantoms,frame,A)\n",
    "rec_forms"
   ]
  },
  {
   "cell_type": "markdown",
   "metadata": {},
   "source": [
    "# Invariant Vertical Differentiation"
   ]
  },
  {
   "cell_type": "code",
   "execution_count": 25,
   "metadata": {},
   "outputs": [],
   "source": [
    "def inv_D_x_contact(var_index, i):\n",
    "    w1 = invariantization(Lie_contact_diff(v1, var_index, i),frame)\n",
    "    w2 = invariantization(Lie_contact_diff(v2, var_index, i),frame)\n",
    "    w3 = invariantization(Lie_contact_diff(v3, var_index, i),frame)\n",
    "    return contact_symbol[var_index+2] + mc_invariants[R1]*w1+ mc_invariants[R2]*w2+ mc_invariants[R3]*w3"
   ]
  },
  {
   "cell_type": "code",
   "execution_count": 50,
   "metadata": {},
   "outputs": [
    {
     "data": {
      "image/png": "[encoded data removed]",
      "text/latex": [
       "$$- \\varphi_{x}^{2} \\vartheta^{u} + \\vartheta^{\\varphi}_{1}$$"
      ],
      "text/plain": [
       "         2                                 \n",
       "- varphiₓ ⋅vartheta__u + vartheta_1__varphi"
      ]
     },
     "execution_count": 50,
     "metadata": {},
     "output_type": "execute_result"
    }
   ],
   "source": [
    "inv_D_x_contact(1,0)"
   ]
  },
  {
   "cell_type": "code",
   "execution_count": 27,
   "metadata": {},
   "outputs": [],
   "source": [
    "contact_reduction = {contact_symbol[2]:solve(D_x*contact_symbol[0]-inv_D_x_contact(0,0), contact_symbol[2])[0],contact_symbol[3]:solve(D_x*contact_symbol[1]-inv_D_x_contact(1,0), contact_symbol[3])[0]}"
   ]
  },
  {
   "cell_type": "markdown",
   "metadata": {},
   "source": [
    "# Invariant Vertical Differentiation"
   ]
  },
  {
   "cell_type": "code",
   "execution_count": 28,
   "metadata": {},
   "outputs": [],
   "source": [
    "def invariant_vert_diff(var_index, i):\n",
    "    expr = contact_symbol[var_index+2*i]\n",
    "    w1 = rec_forms[epsilon_1]*invariantization(Prolong(A[0],A[1],v1,i)[1+var_index+2*i],frame)\n",
    "    w2 = rec_forms[epsilon_2]*invariantization(Prolong(A[0],A[1],v2,i)[1+var_index+2*i],frame)\n",
    "    w3 = rec_forms[epsilon_3]*invariantization(Prolong(A[0],A[1],v3,i)[1+var_index+2*i],frame)\n",
    "    expr = expr + w1 + w2 + w3\n",
    "    return expr"
   ]
  },
  {
   "cell_type": "code",
   "execution_count": 49,
   "metadata": {},
   "outputs": [
    {
     "data": {
      "image/png": "[encoded data removed]",
      "text/latex": [
       "$$D_{x} \\vartheta^{\\varphi} - u_{x} \\varphi_{x} \\vartheta^{\\varphi} + \\varphi_{x}^{2} \\vartheta^{u}$$"
      ],
      "text/plain": [
       "                                                           2            \n",
       "Dₓ⋅vartheta__varphi - uₓ⋅varphiₓ⋅vartheta__varphi + varphiₓ ⋅vartheta__u"
      ]
     },
     "execution_count": 49,
     "metadata": {},
     "output_type": "execute_result"
    }
   ],
   "source": [
    "invariant_vert_diff(1,1).subs(contact_reduction)"
   ]
  },
  {
   "cell_type": "markdown",
   "metadata": {},
   "source": [
    "# Invariant Eulerian Operator A*"
   ]
  },
  {
   "cell_type": "code",
   "execution_count": 30,
   "metadata": {},
   "outputs": [],
   "source": [
    "def invariant_Euler():\n",
    "    a11 = invariant_vert_diff(0,1).subs(contact_reduction).subs({contact_symbol[0]:1,contact_symbol[1]:0}).subs({D_x:-D_x})\n",
    "    a21 = invariant_vert_diff(0,1).subs(contact_reduction).subs({contact_symbol[0]:0,contact_symbol[1]:1}).subs({D_x:-D_x})\n",
    "    a12 = invariant_vert_diff(1,1).subs(contact_reduction).subs({contact_symbol[0]:1,contact_symbol[1]:0}).subs({D_x:-D_x})\n",
    "    a22 = invariant_vert_diff(1,1).subs(contact_reduction).subs({contact_symbol[0]:0,contact_symbol[1]:1}).subs({D_x:-D_x})\n",
    "    return Matrix([[a11,a12],[a21,a22]])"
   ]
  },
  {
   "cell_type": "code",
   "execution_count": 31,
   "metadata": {},
   "outputs": [
    {
     "data": {
      "image/png": "[encoded data removed]",
      "text/latex": [
       "$$\\left[\\begin{matrix}- D_{x} + u_{x} \\varphi_{x} & \\varphi_{x}^{2}\\\\- u_{x}^{2} - 1 & - D_{x} - u_{x} \\varphi_{x}\\end{matrix}\\right]$$"
      ],
      "text/plain": [
       "⎡                             2    ⎤\n",
       "⎢-Dₓ + uₓ⋅varphiₓ      varphiₓ     ⎥\n",
       "⎢                                  ⎥\n",
       "⎢       2                          ⎥\n",
       "⎣   - uₓ  - 1      -Dₓ - uₓ⋅varphiₓ⎦"
      ]
     },
     "execution_count": 31,
     "metadata": {},
     "output_type": "execute_result"
    }
   ],
   "source": [
    "invariant_Euler()"
   ]
  },
  {
   "cell_type": "markdown",
   "metadata": {},
   "source": [
    "# Invariant Hamiltonian Operator B*"
   ]
  },
  {
   "cell_type": "code",
   "execution_count": 32,
   "metadata": {},
   "outputs": [],
   "source": [
    "def invariant_Hamilton():\n",
    "    r = [R1,R2,R3]\n",
    "    ep = [epsilon_1,epsilon_2,epsilon_3]\n",
    "    vectors = [v1,v2,v3]\n",
    "    w1 = 0*x\n",
    "    w2 = 0*x\n",
    "    for i in range(3):\n",
    "        w1 = w1-mc_invariants[r[i]]*diff(vectors[i][0],u)*contact_symbol[0]+total_diff(vectors[i][0])*rec_forms[ep[i]]\n",
    "        w2 = w2-mc_invariants[r[i]]*diff(vectors[i][0],P)*contact_symbol[1]\n",
    "    b1 = (w1+w2).subs({contact_symbol[0]:1, contact_symbol[1]:0}).subs({D_x:-D_x})\n",
    "    b2 = (w1+w2).subs({contact_symbol[0]:0, contact_symbol[1]:1}).subs({D_x:-D_x})\n",
    "    return Matrix([[b1],[b2]])"
   ]
  },
  {
   "cell_type": "code",
   "execution_count": 33,
   "metadata": {},
   "outputs": [
    {
     "data": {
      "image/png": "[encoded data removed]",
      "text/latex": [
       "$$\\left[\\begin{matrix}- \\varphi_{x}\\\\u_{x}\\end{matrix}\\right]$$"
      ],
      "text/plain": [
       "⎡-varphiₓ⎤\n",
       "⎢        ⎥\n",
       "⎣   uₓ   ⎦"
      ]
     },
     "execution_count": 33,
     "metadata": {},
     "output_type": "execute_result"
    }
   ],
   "source": [
    "invariant_Hamilton()"
   ]
  },
  {
   "cell_type": "markdown",
   "metadata": {},
   "source": [
    "# Define the Euler Operator $\\mathcal{E}_s$"
   ]
  },
  {
   "cell_type": "code",
   "execution_count": 34,
   "metadata": {},
   "outputs": [],
   "source": [
    "def Euler(L,var_index):\n",
    "    var = ['u','P']\n",
    "    var_sub = [var[var_index]+'x'*k for k in range(1,3)]\n",
    "    expr = 0*x\n",
    "    for i in range(len(var_sub)):\n",
    "        expr = expr + (-1)**i*diff(diff(L,master_str_to_symbol[var_sub[i]]).subs(master_symbol_to_function),x,i)\n",
    "    return expr.subs(master_function_to_symbol)"
   ]
  },
  {
   "cell_type": "code",
   "execution_count": 35,
   "metadata": {},
   "outputs": [
    {
     "data": {
      "image/png": "[encoded data removed]",
      "text/latex": [
       "$$1$$"
      ],
      "text/plain": [
       "1"
      ]
     },
     "execution_count": 35,
     "metadata": {},
     "output_type": "execute_result"
    }
   ],
   "source": [
    "Euler(ux,0)"
   ]
  },
  {
   "cell_type": "markdown",
   "metadata": {},
   "source": [
    "# Define the Hamiltonian Operator $\\mathcal{H}$"
   ]
  },
  {
   "cell_type": "code",
   "execution_count": 36,
   "metadata": {},
   "outputs": [],
   "source": [
    "# Need dictionaries first"
   ]
  },
  {
   "cell_type": "markdown",
   "metadata": {},
   "source": [
    "# Invariant Euler-Lagrange Equations"
   ]
  },
  {
   "cell_type": "code",
   "execution_count": 56,
   "metadata": {},
   "outputs": [],
   "source": [
    "def inv_Euler_Lagrange(L):\n",
    "    inv_A = invariant_Euler()\n",
    "    inv_B = invariant_Hamilton()\n",
    "    expr1 = (inv_A[0,0]*Euler(L,0)+inv_A[0,1]*Euler(L,1)-(-L)*inv_B[0,0]).subs({D_x:0})\n",
    "    expr2 = (inv_A[1,0]*Euler(L,0)+inv_A[1,1]*Euler(L,1)-(-L)*inv_B[1,0]).subs({D_x:0})\n",
    "    return solve(Matrix([[expr1],[expr2]]))"
   ]
  },
  {
   "cell_type": "code",
   "execution_count": 58,
   "metadata": {},
   "outputs": [
    {
     "data": {
      "image/png": "[encoded data removed]",
      "text/latex": [
       "$$\\left [ \\right ]$$"
      ],
      "text/plain": [
       "[]"
      ]
     },
     "execution_count": 58,
     "metadata": {},
     "output_type": "execute_result"
    }
   ],
   "source": [
    "inv_Euler_Lagrange(ux)"
   ]
  },
  {
   "cell_type": "code",
   "execution_count": null,
   "metadata": {},
   "outputs": [],
   "source": []
  },
  {
   "cell_type": "markdown",
   "metadata": {},
   "source": [
    "# Example\n",
    "Examples of calculation that can by done with Lie_symmetry"
   ]
  },
  {
   "cell_type": "markdown",
   "metadata": {},
   "source": [
    "### Prolongation"
   ]
  },
  {
   "cell_type": "code",
   "execution_count": 39,
   "metadata": {},
   "outputs": [
    {
     "data": {
      "image/png": "[encoded data removed]",
      "text/latex": [
       "$$\\left [ - u, \\quad x, \\quad 1, \\quad u_{x}^{2} + 1, \\quad u_{x} \\varphi_{x}, \\quad 3 u_{x} u_{xx}, \\quad 2 u_{x} \\varphi_{xx} + u_{xx} \\varphi_{x}, \\quad 4 u_{x} u_{xxx} + 3 u_{xx}^{2}, \\quad 3 u_{x} \\varphi_{xxx} + 3 u_{xx} \\varphi_{xx} + u_{xxx} \\varphi_{x}\\right ]$$"
      ],
      "text/plain": [
       "⎡            2                                                                \n",
       "⎣-u, x, 1, uₓ  + 1, uₓ⋅varphiₓ, 3⋅uₓ⋅uₓₓ, 2⋅uₓ⋅varphiₓₓ + uₓₓ⋅varphiₓ, 4⋅uₓ⋅uₓ\n",
       "\n",
       "          2                                                ⎤\n",
       "ₓₓ + 3⋅uₓₓ , 3⋅uₓ⋅varphiₓₓₓ + 3⋅uₓₓ⋅varphiₓₓ + uₓₓₓ⋅varphiₓ⎦"
      ]
     },
     "execution_count": 39,
     "metadata": {},
     "output_type": "execute_result"
    }
   ],
   "source": [
    "Prolong(['x'],['u','P'],[-u,x,1],3)"
   ]
  },
  {
   "cell_type": "markdown",
   "metadata": {},
   "source": [
    "### Moving Frame"
   ]
  },
  {
   "cell_type": "code",
   "execution_count": 40,
   "metadata": {},
   "outputs": [
    {
     "data": {
      "image/png": "[encoded data removed]",
      "text/latex": [
       "$$\\left \\{ a : - u \\sin{\\left (\\varphi \\right )} - x \\cos{\\left (\\varphi \\right )}, \\quad b : - u \\cos{\\left (\\varphi \\right )} + x \\sin{\\left (\\varphi \\right )}, \\quad \\psi : - \\varphi\\right \\}$$"
      ],
      "text/plain": [
       "{a: -u⋅sin(varphi) - x⋅cos(varphi), b: -u⋅cos(varphi) + x⋅sin(varphi), ψ: -var\n",
       "phi}"
      ]
     },
     "execution_count": 40,
     "metadata": {},
     "output_type": "execute_result"
    }
   ],
   "source": [
    "moving_frame(Phantoms,K)"
   ]
  },
  {
   "cell_type": "markdown",
   "metadata": {},
   "source": [
    "### Invariantization of $I_{u,1}$"
   ]
  },
  {
   "cell_type": "code",
   "execution_count": 41,
   "metadata": {},
   "outputs": [
    {
     "data": {
      "image/png": "[encoded data removed]",
      "text/latex": [
       "$$\\frac{u_{x} \\cos{\\left (\\varphi \\right )} - \\sin{\\left (\\varphi \\right )}}{u_{x} \\sin{\\left (\\varphi \\right )} + \\cos{\\left (\\varphi \\right )}}$$"
      ],
      "text/plain": [
       "uₓ⋅cos(varphi) - sin(varphi)\n",
       "────────────────────────────\n",
       "uₓ⋅sin(varphi) + cos(varphi)"
      ]
     },
     "execution_count": 41,
     "metadata": {},
     "output_type": "execute_result"
    }
   ],
   "source": [
    "normalized_invariant(u,1,frame)"
   ]
  },
  {
   "cell_type": "markdown",
   "metadata": {},
   "source": [
    "### Invariant Eulerian $A^*$"
   ]
  },
  {
   "cell_type": "code",
   "execution_count": 42,
   "metadata": {},
   "outputs": [
    {
     "data": {
      "image/png": "[encoded data removed]",
      "text/latex": [
       "$$\\left[\\begin{matrix}- D_{x} + u_{x} \\varphi_{x} & \\varphi_{x}^{2}\\\\- u_{x}^{2} - 1 & - D_{x} - u_{x} \\varphi_{x}\\end{matrix}\\right]$$"
      ],
      "text/plain": [
       "⎡                             2    ⎤\n",
       "⎢-Dₓ + uₓ⋅varphiₓ      varphiₓ     ⎥\n",
       "⎢                                  ⎥\n",
       "⎢       2                          ⎥\n",
       "⎣   - uₓ  - 1      -Dₓ - uₓ⋅varphiₓ⎦"
      ]
     },
     "execution_count": 42,
     "metadata": {},
     "output_type": "execute_result"
    }
   ],
   "source": [
    "invariant_Euler()"
   ]
  },
  {
   "cell_type": "markdown",
   "metadata": {},
   "source": [
    "### Invaiant Hamiltonian $B^*$"
   ]
  },
  {
   "cell_type": "code",
   "execution_count": 43,
   "metadata": {},
   "outputs": [
    {
     "data": {
      "image/png": "[encoded data removed]",
      "text/latex": [
       "$$\\left[\\begin{matrix}- \\varphi_{x}\\\\u_{x}\\end{matrix}\\right]$$"
      ],
      "text/plain": [
       "⎡-varphiₓ⎤\n",
       "⎢        ⎥\n",
       "⎣   uₓ   ⎦"
      ]
     },
     "execution_count": 43,
     "metadata": {},
     "output_type": "execute_result"
    }
   ],
   "source": [
    "invariant_Hamilton()"
   ]
  },
  {
   "cell_type": "markdown",
   "metadata": {},
   "source": [
    "### The simplified Invariant Euler-Lagrange equations for $L\\,dx=\\mu\\,ds$"
   ]
  },
  {
   "cell_type": "code",
   "execution_count": 44,
   "metadata": {},
   "outputs": [
    {
     "data": {
      "image/png": "[encoded data removed]",
      "text/latex": [
       "$$\\left [ \\left \\{ u_{x} : 0, \\quad \\varphi_{x} : 0\\right \\}\\right ]$$"
      ],
      "text/plain": [
       "[{uₓ: 0, varphiₓ: 0}]"
      ]
     },
     "execution_count": 44,
     "metadata": {},
     "output_type": "execute_result"
    }
   ],
   "source": [
    "inv_Euler_Lagrange(Px)"
   ]
  },
  {
   "cell_type": "code",
   "execution_count": 45,
   "metadata": {},
   "outputs": [
    {
     "data": {
      "image/png": "[encoded data removed]",
      "text/latex": [
       "$$\\left [ a - u \\sin{\\left (\\psi \\right )} + x \\cos{\\left (\\psi \\right )}, \\quad b + u \\cos{\\left (\\psi \\right )} + x \\sin{\\left (\\psi \\right )}, \\quad \\psi + \\varphi{\\left (x \\right )}\\right ]$$"
      ],
      "text/plain": [
       "[a - u⋅sin(ψ) + x⋅cos(ψ), b + u⋅cos(ψ) + x⋅sin(ψ), ψ + varphi(x)]"
      ]
     },
     "execution_count": 45,
     "metadata": {},
     "output_type": "execute_result"
    }
   ],
   "source": [
    "Phantoms"
   ]
  },
  {
   "cell_type": "code",
   "execution_count": null,
   "metadata": {},
   "outputs": [],
   "source": []
  }
 ],
 "metadata": {
  "kernelspec": {
   "display_name": "Python 2.7",
   "language": "python",
   "name": "python2"
  },
  "language_info": {
   "codemirror_mode": {
    "name": "ipython",
    "version": 2
   },
   "file_extension": ".py",
   "mimetype": "text/x-python",
   "name": "python",
   "nbconvert_exporter": "python",
   "pygments_lexer": "ipython2",
   "version": "2.7.15"
  }
 },
 "nbformat": 4,
 "nbformat_minor": 2
}

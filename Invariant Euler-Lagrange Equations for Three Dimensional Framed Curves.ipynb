{
 "cells": [
  {
   "cell_type": "markdown",
   "metadata": {},
   "source": [
    "# Derivation of the invariant Euler Lagrange equations for SE(3) invariant Lagrangians defined over three-dimensional framed curves\n",
    "<br/>\n",
    "\n",
    "This notebook is dedicated to providing the calculations that go into deriving the invariant Euler Lagrange equations for SE(3) invariant Lagrangians defined over three-dimensional framed curves.  Unfortunately, we will not be able to use the full functionality of LieSympy as we did in the two dimensional case.  This is due to difficulties that arise in solving the normalization equations for the moving frame as well as the issue of assigning coordinates to a three dimensional framed curve and to SE(3) in general.  Therefore we will make use of LieSympy when possible, but many of our calculations will be carried out in full view within the notebook.\n",
    "\n",
    "We begin this process by first importing the necessary modules for our work.\n",
    "\n",
    "<br/>"
   ]
  },
  {
   "cell_type": "code",
   "execution_count": 1,
   "metadata": {},
   "outputs": [
    {
     "data": {
      "text/html": [
       "<style>.container { width:80% !important; }</style>"
      ],
      "text/plain": [
       "<IPython.core.display.HTML object>"
      ]
     },
     "metadata": {},
     "output_type": "display_data"
    }
   ],
   "source": [
    "from sympy import *\n",
    "from itertools import *\n",
    "import LieSympy as lp\n",
    "import numpy as np\n",
    "init_printing()\n",
    "\n",
    "from IPython.core.display import display, HTML\n",
    "display(HTML(\"<style>.container { width:80% !important; }</style>\"))"
   ]
  },
  {
   "cell_type": "markdown",
   "metadata": {},
   "source": [
    "# Initialized Symbols and Expressions\n",
    "<br/>\n",
    "We start by initializing the variables and expressions that will be needed for our calculations.  We will use Cardan angles in expressing coordinates for the $SO(3)$ components of $SE(3)$ and the framed curve."
   ]
  },
  {
   "cell_type": "markdown",
   "metadata": {},
   "source": [
    "#### Symbols"
   ]
  },
  {
   "cell_type": "code",
   "execution_count": 2,
   "metadata": {
    "collapsed": true
   },
   "outputs": [],
   "source": [
    "x = symbols('x')\n",
    "y = Function('y')('x')\n",
    "u = Function('u')('x')\n",
    "\n",
    "a = symbols('a')\n",
    "b = symbols('b')\n",
    "c = symbols('c')\n",
    "\n",
    "phi1 = Function('varphi_1')('x')\n",
    "phi2 = Function('varphi_2')('x')\n",
    "phi3 = Function('varphi_3')('x')\n",
    "\n",
    "psi1 = symbols('psi_1')\n",
    "psi2 = symbols('psi_2')\n",
    "psi3 = symbols('psi_3')"
   ]
  },
  {
   "cell_type": "markdown",
   "metadata": {},
   "source": [
    "#### Cardan Angles for $F$ and $R$.  Vectors $z$ and $v$"
   ]
  },
  {
   "cell_type": "code",
   "execution_count": 53,
   "metadata": {
    "collapsed": true
   },
   "outputs": [],
   "source": [
    "F_U = Matrix([[cos(phi1),-sin(phi1),0],[sin(phi1),cos(phi1),0],[0,0,1]])\n",
    "F_Y = Matrix([[cos(phi2),0,-sin(phi2)],[0,1,0],[sin(phi2),0,cos(phi2)]])\n",
    "F_X = Matrix([[1,0,0],[0,cos(phi3),-sin(phi3)],[0,sin(phi3),cos(phi3)]])\n",
    "\n",
    "F = F_U*F_Y*F_X\n",
    "\n",
    "R_U = Matrix([[cos(psi1),-sin(psi1),0],[sin(psi1),cos(psi1),0],[0,0,1]])\n",
    "R_Y = Matrix([[cos(psi2),0,-sin(psi2)],[0,1,0],[sin(psi2),0,cos(psi2)]])\n",
    "R_X = Matrix([[1,0,0],[0,cos(psi3),-sin(psi3)],[0,sin(psi3),cos(psi3)]])\n",
    "\n",
    "R = R_X*R_Y*R_U\n",
    "\n",
    "z = Matrix([x,y,u])\n",
    "v = Matrix([a,b,c])"
   ]
  },
  {
   "cell_type": "markdown",
   "metadata": {},
   "source": [
    "#### Transformation Rules for Base and Jet Coordinates"
   ]
  },
  {
   "cell_type": "code",
   "execution_count": 4,
   "metadata": {
    "collapsed": true
   },
   "outputs": [],
   "source": [
    "X = simplify((R*z+v).row(0)[0])\n",
    "Y = simplify((R*z+v).row(1)[0])\n",
    "U = simplify((R*z+v).row(2)[0])\n",
    "F_new = R*F\n",
    "\n",
    "Dx = diff(X,x)\n",
    "Y_x = simplify(diff(Y,x)/Dx)\n",
    "Y_xx = diff(Y_x,x)/Dx\n",
    "U_x = simplify(diff(U,x)/Dx)\n",
    "U_xx = diff(U_x,x)/Dx\n",
    "\n",
    "F_new_x = diff(F_new,x)/Dx\n",
    "F_new_xx = diff(F_new_x,x)/Dx\n",
    "\n",
    "identity = {a:0, b:0, c:0, psi1:0, psi2:0, psi3:0}"
   ]
  },
  {
   "cell_type": "markdown",
   "metadata": {},
   "source": [
    "#### Moving Frame for the Cross-section $X=Y=U=0, F_{new} = I_{3\\times 3}$"
   ]
  },
  {
   "cell_type": "code",
   "execution_count": 5,
   "metadata": {
    "collapsed": true
   },
   "outputs": [],
   "source": [
    "frame = {a:-x*cos(phi1)*cos(phi2) - u*sin(phi2) - y*sin(phi1)*cos(phi2),\n",
    "         b: x*sin(phi1)*cos(phi3) + x*sin(phi2)*sin(phi3)*cos(phi1) - u*sin(phi3)*cos(phi2) \n",
    "         + y*sin(phi1)*sin(phi2)*sin(phi3) - y*cos(phi1)*cos(phi3),\n",
    "         c: -x*sin(phi1)*sin(phi3) + x*sin(phi2)*cos(phi1)*cos(phi3) - u*cos(phi2)*cos(phi3) \n",
    "         + y*sin(phi1)*sin(phi2)*cos(phi3) + y*sin(phi3)*cos(phi1),\n",
    "         psi1:-phi1, psi2:-phi2, psi3:-phi3}"
   ]
  },
  {
   "cell_type": "markdown",
   "metadata": {},
   "source": [
    "The following calculations verify that the frame does indeed work for our choice of coordinates"
   ]
  },
  {
   "cell_type": "code",
   "execution_count": 6,
   "metadata": {},
   "outputs": [
    {
     "data": {
      "image/png": "[encoded data removed]",
      "text/latex": [
       "$$\\left[\\begin{matrix}1 & 0 & 0\\\\0 & 1 & 0\\\\0 & 0 & 1\\end{matrix}\\right]$$"
      ],
      "text/plain": [
       "⎡1  0  0⎤\n",
       "⎢       ⎥\n",
       "⎢0  1  0⎥\n",
       "⎢       ⎥\n",
       "⎣0  0  1⎦"
      ]
     },
     "execution_count": 6,
     "metadata": {},
     "output_type": "execute_result"
    }
   ],
   "source": [
    "simplify(F_new.xreplace(frame))"
   ]
  },
  {
   "cell_type": "code",
   "execution_count": 7,
   "metadata": {},
   "outputs": [
    {
     "data": {
      "image/png": "[encoded data removed]",
      "text/latex": [
       "$$0$$"
      ],
      "text/plain": [
       "0"
      ]
     },
     "execution_count": 7,
     "metadata": {},
     "output_type": "execute_result"
    }
   ],
   "source": [
    "simplify(X.xreplace(frame))"
   ]
  },
  {
   "cell_type": "code",
   "execution_count": 8,
   "metadata": {},
   "outputs": [
    {
     "data": {
      "image/png": "[encoded data removed]",
      "text/latex": [
       "$$0$$"
      ],
      "text/plain": [
       "0"
      ]
     },
     "execution_count": 8,
     "metadata": {},
     "output_type": "execute_result"
    }
   ],
   "source": [
    "simplify(Y.xreplace(frame))"
   ]
  },
  {
   "cell_type": "code",
   "execution_count": 9,
   "metadata": {},
   "outputs": [
    {
     "data": {
      "image/png": "[encoded data removed]",
      "text/latex": [
       "$$0$$"
      ],
      "text/plain": [
       "0"
      ]
     },
     "execution_count": 9,
     "metadata": {},
     "output_type": "execute_result"
    }
   ],
   "source": [
    "simplify(U.xreplace(frame))"
   ]
  },
  {
   "cell_type": "markdown",
   "metadata": {},
   "source": [
    "# Infinitesimal Generators"
   ]
  },
  {
   "cell_type": "markdown",
   "metadata": {},
   "source": [
    "For the \"curve\" portion of our framed curve, i.e. the $\\mathcal{R}^3$ component, the infinitesimal generators are:"
   ]
  },
  {
   "cell_type": "code",
   "execution_count": 98,
   "metadata": {},
   "outputs": [
    {
     "data": {
      "image/png": "[encoded data removed]",
      "text/latex": [
       "$$\\left [ - y{\\left (x \\right )}, \\quad x, \\quad 0\\right ]$$"
      ],
      "text/plain": [
       "[-y(x), x, 0]"
      ]
     },
     "execution_count": 98,
     "metadata": {},
     "output_type": "execute_result"
    }
   ],
   "source": [
    "[diff(X,psi1).subs(identity),diff(Y,psi1).subs(identity),diff(U,psi1).subs(identity)]"
   ]
  },
  {
   "cell_type": "code",
   "execution_count": 99,
   "metadata": {},
   "outputs": [
    {
     "data": {
      "image/png": "[encoded data removed]",
      "text/latex": [
       "$$\\left [ - u{\\left (x \\right )}, \\quad 0, \\quad x\\right ]$$"
      ],
      "text/plain": [
       "[-u(x), 0, x]"
      ]
     },
     "execution_count": 99,
     "metadata": {},
     "output_type": "execute_result"
    }
   ],
   "source": [
    "[diff(X,psi2).subs(identity),diff(Y,psi2).subs(identity),diff(U,psi2).subs(identity)]"
   ]
  },
  {
   "cell_type": "code",
   "execution_count": 100,
   "metadata": {},
   "outputs": [
    {
     "data": {
      "image/png": "[encoded data removed]",
      "text/latex": [
       "$$\\left [ 0, \\quad - u{\\left (x \\right )}, \\quad y{\\left (x \\right )}\\right ]$$"
      ],
      "text/plain": [
       "[0, -u(x), y(x)]"
      ]
     },
     "execution_count": 100,
     "metadata": {},
     "output_type": "execute_result"
    }
   ],
   "source": [
    "[diff(X,psi3).subs(identity),diff(Y,psi3).subs(identity),diff(U,psi3).subs(identity)]"
   ]
  },
  {
   "cell_type": "markdown",
   "metadata": {},
   "source": [
    "For the \"frame\" portion of our framed curve, i.e. the $SO(3)$ component, the infinitesimal generators are:"
   ]
  },
  {
   "cell_type": "code",
   "execution_count": 179,
   "metadata": {},
   "outputs": [
    {
     "data": {
      "image/png": "[encoded data removed]",
      "text/latex": [
       "$$\\left[\\begin{matrix}- \\sin{\\left (\\varphi_{1}{\\left (x \\right )} \\right )} \\cos{\\left (\\varphi_{2}{\\left (x \\right )} \\right )} & \\sin{\\left (\\varphi_{1}{\\left (x \\right )} \\right )} \\sin{\\left (\\varphi_{2}{\\left (x \\right )} \\right )} \\sin{\\left (\\varphi_{3}{\\left (x \\right )} \\right )} - \\cos{\\left (\\varphi_{1}{\\left (x \\right )} \\right )} \\cos{\\left (\\varphi_{3}{\\left (x \\right )} \\right )} & \\sin{\\left (\\varphi_{1}{\\left (x \\right )} \\right )} \\sin{\\left (\\varphi_{2}{\\left (x \\right )} \\right )} \\cos{\\left (\\varphi_{3}{\\left (x \\right )} \\right )} + \\sin{\\left (\\varphi_{3}{\\left (x \\right )} \\right )} \\cos{\\left (\\varphi_{1}{\\left (x \\right )} \\right )}\\\\\\cos{\\left (\\varphi_{1}{\\left (x \\right )} \\right )} \\cos{\\left (\\varphi_{2}{\\left (x \\right )} \\right )} & - \\sin{\\left (\\varphi_{1}{\\left (x \\right )} \\right )} \\cos{\\left (\\varphi_{3}{\\left (x \\right )} \\right )} - \\sin{\\left (\\varphi_{2}{\\left (x \\right )} \\right )} \\sin{\\left (\\varphi_{3}{\\left (x \\right )} \\right )} \\cos{\\left (\\varphi_{1}{\\left (x \\right )} \\right )} & \\sin{\\left (\\varphi_{1}{\\left (x \\right )} \\right )} \\sin{\\left (\\varphi_{3}{\\left (x \\right )} \\right )} - \\sin{\\left (\\varphi_{2}{\\left (x \\right )} \\right )} \\cos{\\left (\\varphi_{1}{\\left (x \\right )} \\right )} \\cos{\\left (\\varphi_{3}{\\left (x \\right )} \\right )}\\\\0 & 0 & 0\\end{matrix}\\right]$$"
      ],
      "text/plain": [
       "⎡-sin(varphi₁(x))⋅cos(varphi₂(x))  sin(varphi₁(x))⋅sin(varphi₂(x))⋅sin(varphi₃\n",
       "⎢                                                                             \n",
       "⎢cos(varphi₁(x))⋅cos(varphi₂(x))   -sin(varphi₁(x))⋅cos(varphi₃(x)) - sin(varp\n",
       "⎢                                                                             \n",
       "⎣               0                                                          0  \n",
       "\n",
       "(x)) - cos(varphi₁(x))⋅cos(varphi₃(x))   sin(varphi₁(x))⋅sin(varphi₂(x))⋅cos(v\n",
       "                                                                              \n",
       "hi₂(x))⋅sin(varphi₃(x))⋅cos(varphi₁(x))  sin(varphi₁(x))⋅sin(varphi₃(x)) - sin\n",
       "                                                                              \n",
       "                                                                              \n",
       "\n",
       "arphi₃(x)) + sin(varphi₃(x))⋅cos(varphi₁(x))⎤\n",
       "                                            ⎥\n",
       "(varphi₂(x))⋅cos(varphi₁(x))⋅cos(varphi₃(x))⎥\n",
       "                                            ⎥\n",
       "   0                                        ⎦"
      ]
     },
     "execution_count": 179,
     "metadata": {},
     "output_type": "execute_result"
    }
   ],
   "source": [
    "X1 = diff(F_new,psi1).subs(identity)\n",
    "X1"
   ]
  },
  {
   "cell_type": "code",
   "execution_count": 180,
   "metadata": {},
   "outputs": [
    {
     "data": {
      "image/png": "[encoded data removed]",
      "text/latex": [
       "$$\\left[\\begin{matrix}- \\sin{\\left (\\varphi_{2}{\\left (x \\right )} \\right )} & - \\sin{\\left (\\varphi_{3}{\\left (x \\right )} \\right )} \\cos{\\left (\\varphi_{2}{\\left (x \\right )} \\right )} & - \\cos{\\left (\\varphi_{2}{\\left (x \\right )} \\right )} \\cos{\\left (\\varphi_{3}{\\left (x \\right )} \\right )}\\\\0 & 0 & 0\\\\\\cos{\\left (\\varphi_{1}{\\left (x \\right )} \\right )} \\cos{\\left (\\varphi_{2}{\\left (x \\right )} \\right )} & - \\sin{\\left (\\varphi_{1}{\\left (x \\right )} \\right )} \\cos{\\left (\\varphi_{3}{\\left (x \\right )} \\right )} - \\sin{\\left (\\varphi_{2}{\\left (x \\right )} \\right )} \\sin{\\left (\\varphi_{3}{\\left (x \\right )} \\right )} \\cos{\\left (\\varphi_{1}{\\left (x \\right )} \\right )} & \\sin{\\left (\\varphi_{1}{\\left (x \\right )} \\right )} \\sin{\\left (\\varphi_{3}{\\left (x \\right )} \\right )} - \\sin{\\left (\\varphi_{2}{\\left (x \\right )} \\right )} \\cos{\\left (\\varphi_{1}{\\left (x \\right )} \\right )} \\cos{\\left (\\varphi_{3}{\\left (x \\right )} \\right )}\\end{matrix}\\right]$$"
      ],
      "text/plain": [
       "⎡       -sin(varphi₂(x))                                   -sin(varphi₃(x))⋅co\n",
       "⎢                                                                             \n",
       "⎢               0                                                         0   \n",
       "⎢                                                                             \n",
       "⎣cos(varphi₁(x))⋅cos(varphi₂(x))  -sin(varphi₁(x))⋅cos(varphi₃(x)) - sin(varph\n",
       "\n",
       "s(varphi₂(x))                                                   -cos(varphi₂(x\n",
       "                                                                              \n",
       "                                                                              \n",
       "                                                                              \n",
       "i₂(x))⋅sin(varphi₃(x))⋅cos(varphi₁(x))  sin(varphi₁(x))⋅sin(varphi₃(x)) - sin(\n",
       "\n",
       "))⋅cos(varphi₃(x))                         ⎤\n",
       "                                           ⎥\n",
       "  0                                        ⎥\n",
       "                                           ⎥\n",
       "varphi₂(x))⋅cos(varphi₁(x))⋅cos(varphi₃(x))⎦"
      ]
     },
     "execution_count": 180,
     "metadata": {},
     "output_type": "execute_result"
    }
   ],
   "source": [
    "X2 = diff(F_new,psi2).subs(identity)\n",
    "X2"
   ]
  },
  {
   "cell_type": "code",
   "execution_count": 181,
   "metadata": {},
   "outputs": [
    {
     "data": {
      "image/png": "[encoded data removed]",
      "text/latex": [
       "$$\\left[\\begin{matrix}0 & 0 & 0\\\\- \\sin{\\left (\\varphi_{2}{\\left (x \\right )} \\right )} & - \\sin{\\left (\\varphi_{3}{\\left (x \\right )} \\right )} \\cos{\\left (\\varphi_{2}{\\left (x \\right )} \\right )} & - \\cos{\\left (\\varphi_{2}{\\left (x \\right )} \\right )} \\cos{\\left (\\varphi_{3}{\\left (x \\right )} \\right )}\\\\\\sin{\\left (\\varphi_{1}{\\left (x \\right )} \\right )} \\cos{\\left (\\varphi_{2}{\\left (x \\right )} \\right )} & - \\sin{\\left (\\varphi_{1}{\\left (x \\right )} \\right )} \\sin{\\left (\\varphi_{2}{\\left (x \\right )} \\right )} \\sin{\\left (\\varphi_{3}{\\left (x \\right )} \\right )} + \\cos{\\left (\\varphi_{1}{\\left (x \\right )} \\right )} \\cos{\\left (\\varphi_{3}{\\left (x \\right )} \\right )} & - \\sin{\\left (\\varphi_{1}{\\left (x \\right )} \\right )} \\sin{\\left (\\varphi_{2}{\\left (x \\right )} \\right )} \\cos{\\left (\\varphi_{3}{\\left (x \\right )} \\right )} - \\sin{\\left (\\varphi_{3}{\\left (x \\right )} \\right )} \\cos{\\left (\\varphi_{1}{\\left (x \\right )} \\right )}\\end{matrix}\\right]$$"
      ],
      "text/plain": [
       "⎡               0                                                         0   \n",
       "⎢                                                                             \n",
       "⎢       -sin(varphi₂(x))                                   -sin(varphi₃(x))⋅co\n",
       "⎢                                                                             \n",
       "⎣sin(varphi₁(x))⋅cos(varphi₂(x))  -sin(varphi₁(x))⋅sin(varphi₂(x))⋅sin(varphi₃\n",
       "\n",
       "                                                                              \n",
       "                                                                              \n",
       "s(varphi₂(x))                                                    -cos(varphi₂(\n",
       "                                                                              \n",
       "(x)) + cos(varphi₁(x))⋅cos(varphi₃(x))  -sin(varphi₁(x))⋅sin(varphi₂(x))⋅cos(v\n",
       "\n",
       "  0                                         ⎤\n",
       "                                            ⎥\n",
       "x))⋅cos(varphi₃(x))                         ⎥\n",
       "                                            ⎥\n",
       "arphi₃(x)) - sin(varphi₃(x))⋅cos(varphi₁(x))⎦"
      ]
     },
     "execution_count": 181,
     "metadata": {},
     "output_type": "execute_result"
    }
   ],
   "source": [
    "X3 = diff(F_new,psi3).subs(identity)\n",
    "X3"
   ]
  },
  {
   "cell_type": "markdown",
   "metadata": {},
   "source": [
    "We should note that we could just have well realized that these expression are found by applying $\\dfrac{dR}{d\\psi_j}\\bigg|_{id}$ to either $z$ or $F$, i.e. we can multiply by one of the following three matrices:"
   ]
  },
  {
   "cell_type": "code",
   "execution_count": 104,
   "metadata": {},
   "outputs": [
    {
     "data": {
      "image/png": "[encoded data removed]",
      "text/latex": [
       "$$\\left[\\begin{matrix}0 & -1 & 0\\\\1 & 0 & 0\\\\0 & 0 & 0\\end{matrix}\\right]$$"
      ],
      "text/plain": [
       "⎡0  -1  0⎤\n",
       "⎢        ⎥\n",
       "⎢1  0   0⎥\n",
       "⎢        ⎥\n",
       "⎣0  0   0⎦"
      ]
     },
     "execution_count": 104,
     "metadata": {},
     "output_type": "execute_result"
    }
   ],
   "source": [
    "V_4 = diff(R,psi1).subs(identity)\n",
    "V_4"
   ]
  },
  {
   "cell_type": "code",
   "execution_count": 105,
   "metadata": {},
   "outputs": [
    {
     "data": {
      "image/png": "[encoded data removed]",
      "text/latex": [
       "$$\\left[\\begin{matrix}0 & 0 & -1\\\\0 & 0 & 0\\\\1 & 0 & 0\\end{matrix}\\right]$$"
      ],
      "text/plain": [
       "⎡0  0  -1⎤\n",
       "⎢        ⎥\n",
       "⎢0  0  0 ⎥\n",
       "⎢        ⎥\n",
       "⎣1  0  0 ⎦"
      ]
     },
     "execution_count": 105,
     "metadata": {},
     "output_type": "execute_result"
    }
   ],
   "source": [
    "V_5 = diff(R,psi2).subs(identity)\n",
    "V_5"
   ]
  },
  {
   "cell_type": "code",
   "execution_count": 106,
   "metadata": {},
   "outputs": [
    {
     "data": {
      "image/png": "[encoded data removed]",
      "text/latex": [
       "$$\\left[\\begin{matrix}0 & 0 & 0\\\\0 & 0 & -1\\\\0 & 1 & 0\\end{matrix}\\right]$$"
      ],
      "text/plain": [
       "⎡0  0  0 ⎤\n",
       "⎢        ⎥\n",
       "⎢0  0  -1⎥\n",
       "⎢        ⎥\n",
       "⎣0  1  0 ⎦"
      ]
     },
     "execution_count": 106,
     "metadata": {},
     "output_type": "execute_result"
    }
   ],
   "source": [
    "V_6 = diff(R,psi3).subs(identity)\n",
    "V_6"
   ]
  },
  {
   "cell_type": "code",
   "execution_count": 124,
   "metadata": {},
   "outputs": [
    {
     "data": {
      "image/png": "[encoded data removed]",
      "text/latex": [
       "$$\\left(\\sin{\\left (\\psi_{1} \\right )} \\cos{\\left (\\psi_{3} \\right )} - \\sin{\\left (\\psi_{2} \\right )} \\sin{\\left (\\psi_{3} \\right )} \\cos{\\left (\\psi_{1} \\right )}\\right) \\cos{\\left (\\varphi_{1}{\\left (x \\right )} \\right )} \\cos{\\left (\\varphi_{2}{\\left (x \\right )} \\right )} + \\left(\\sin{\\left (\\psi_{1} \\right )} \\sin{\\left (\\psi_{2} \\right )} \\sin{\\left (\\psi_{3} \\right )} + \\cos{\\left (\\psi_{1} \\right )} \\cos{\\left (\\psi_{3} \\right )}\\right) \\sin{\\left (\\varphi_{1}{\\left (x \\right )} \\right )} \\cos{\\left (\\varphi_{2}{\\left (x \\right )} \\right )} - \\sin{\\left (\\psi_{3} \\right )} \\sin{\\left (\\varphi_{2}{\\left (x \\right )} \\right )} \\cos{\\left (\\psi_{2} \\right )}$$"
      ],
      "text/plain": [
       "(sin(ψ₁)⋅cos(ψ₃) - sin(ψ₂)⋅sin(ψ₃)⋅cos(ψ₁))⋅cos(varphi₁(x))⋅cos(varphi₂(x)) + \n",
       "(sin(ψ₁)⋅sin(ψ₂)⋅sin(ψ₃) + cos(ψ₁)⋅cos(ψ₃))⋅sin(varphi₁(x))⋅cos(varphi₂(x)) - \n",
       "sin(ψ₃)⋅sin(varphi₂(x))⋅cos(ψ₂)"
      ]
     },
     "execution_count": 124,
     "metadata": {},
     "output_type": "execute_result"
    }
   ],
   "source": [
    "F_new[1,0]"
   ]
  },
  {
   "cell_type": "code",
   "execution_count": 144,
   "metadata": {
    "collapsed": true
   },
   "outputs": [],
   "source": [
    "def invariant_contact(idx):\n",
    "    temp = simplify(diff(F_new[idx[0],idx[1]],phi1).subs(frame))*symbols('vartheta^alpha_0', commutative=False)\n",
    "    temp = temp + simplify(diff(F_new[idx[0],idx[1]],phi2).subs(frame))*symbols('vartheta^beta_0', commutative=False)\n",
    "    return temp + simplify(diff(F_new[idx[0],idx[1]],phi3).subs(frame))*symbols('vartheta^gamma_0', commutative=False)"
   ]
  },
  {
   "cell_type": "code",
   "execution_count": 212,
   "metadata": {},
   "outputs": [
    {
     "data": {
      "image/png": "[encoded data removed]",
      "text/latex": [
       "$$\\sin{\\left (\\varphi_{3}{\\left (x \\right )} \\right )} \\vartheta^{\\beta}_{0} + \\cos{\\left (\\varphi_{2}{\\left (x \\right )} \\right )} \\cos{\\left (\\varphi_{3}{\\left (x \\right )} \\right )} \\vartheta^{\\alpha}_{0}$$"
      ],
      "text/plain": [
       "sin(varphi₃(x))⋅vartheta_0__β + cos(varphi₂(x))⋅cos(varphi₃(x))⋅vartheta_0__α"
      ]
     },
     "execution_count": 212,
     "metadata": {},
     "output_type": "execute_result"
    }
   ],
   "source": [
    "invariant_contact([1,0])"
   ]
  },
  {
   "cell_type": "code",
   "execution_count": null,
   "metadata": {
    "collapsed": true
   },
   "outputs": [],
   "source": [
    "simplify(cos(phi3)/cos(phi2)*invariant_contact([1,0])-sin(phi3)/cos(phi2)*invariant_contact([2,0]))"
   ]
  },
  {
   "cell_type": "code",
   "execution_count": null,
   "metadata": {
    "collapsed": true
   },
   "outputs": [],
   "source": [
    "simplify(cos(phi3)/cos(phi2)*invariant_contact([1,0])-sin(phi3)/cos(phi2)*invariant_contact([2,0]))"
   ]
  },
  {
   "cell_type": "code",
   "execution_count": 155,
   "metadata": {},
   "outputs": [
    {
     "data": {
      "image/png": "[encoded data removed]",
      "text/latex": [
       "$$- \\sin{\\left (\\varphi_{3}{\\left (x \\right )} \\right )} \\cos{\\left (\\varphi_{2}{\\left (x \\right )} \\right )} \\vartheta^{\\alpha}_{0} + \\cos{\\left (\\varphi_{3}{\\left (x \\right )} \\right )} \\vartheta^{\\beta}_{0}$$"
      ],
      "text/plain": [
       "-sin(varphi₃(x))⋅cos(varphi₂(x))⋅vartheta_0__α + cos(varphi₃(x))⋅vartheta_0__β"
      ]
     },
     "execution_count": 155,
     "metadata": {},
     "output_type": "execute_result"
    }
   ],
   "source": [
    "invariant_contact([2,0])"
   ]
  },
  {
   "cell_type": "code",
   "execution_count": 147,
   "metadata": {},
   "outputs": [
    {
     "data": {
      "image/png": "[encoded data removed]",
      "text/latex": [
       "$$\\sin{\\left (\\varphi_{2}{\\left (x \\right )} \\right )} \\vartheta^{\\alpha}_{0} + \\vartheta^{\\gamma}_{0}$$"
      ],
      "text/plain": [
       "sin(varphi₂(x))⋅vartheta_0__α + vartheta_0__γ"
      ]
     },
     "execution_count": 147,
     "metadata": {},
     "output_type": "execute_result"
    }
   ],
   "source": [
    "invariant_contact([2,1])"
   ]
  },
  {
   "cell_type": "code",
   "execution_count": 149,
   "metadata": {},
   "outputs": [
    {
     "data": {
      "image/png": "[encoded data removed]",
      "text/latex": [
       "$$\\left[\\begin{matrix}\\cos{\\left (\\varphi_{2}{\\left (x \\right )} \\right )} \\cos{\\left (\\varphi_{3}{\\left (x \\right )} \\right )} & - \\sin{\\left (\\varphi_{3}{\\left (x \\right )} \\right )} \\cos{\\left (\\varphi_{2}{\\left (x \\right )} \\right )} & \\sin{\\left (\\varphi_{2}{\\left (x \\right )} \\right )}\\\\\\sin{\\left (\\varphi_{3}{\\left (x \\right )} \\right )} & \\cos{\\left (\\varphi_{3}{\\left (x \\right )} \\right )} & 0\\\\0 & 0 & 1\\end{matrix}\\right]$$"
      ],
      "text/plain": [
       "⎡cos(varphi₂(x))⋅cos(varphi₃(x))  -sin(varphi₃(x))⋅cos(varphi₂(x))  sin(varphi\n",
       "⎢                                                                             \n",
       "⎢        sin(varphi₃(x))                  cos(varphi₃(x))                  0  \n",
       "⎢                                                                             \n",
       "⎣               0                                0                         1  \n",
       "\n",
       "₂(x))⎤\n",
       "     ⎥\n",
       "     ⎥\n",
       "     ⎥\n",
       "     ⎦"
      ]
     },
     "execution_count": 149,
     "metadata": {},
     "output_type": "execute_result"
    }
   ],
   "source": [
    "Mat = Matrix([[cos(phi2)*cos(phi3), -cos(phi2)*sin(phi3), sin(phi2)],[sin(phi3), cos(phi3), 0],[0,0,1]])\n",
    "Mat"
   ]
  },
  {
   "cell_type": "code",
   "execution_count": 193,
   "metadata": {},
   "outputs": [
    {
     "data": {
      "image/png": "[encoded data removed]",
      "text/latex": [
       "$$\\left[\\begin{matrix}\\frac{\\cos{\\left (\\varphi_{3}{\\left (x \\right )} \\right )}}{\\cos{\\left (\\varphi_{2}{\\left (x \\right )} \\right )}} & \\sin{\\left (\\varphi_{3}{\\left (x \\right )} \\right )} & - \\cos{\\left (\\varphi_{3}{\\left (x \\right )} \\right )} \\tan{\\left (\\varphi_{2}{\\left (x \\right )} \\right )}\\\\- \\frac{\\sin{\\left (\\varphi_{3}{\\left (x \\right )} \\right )}}{\\cos{\\left (\\varphi_{2}{\\left (x \\right )} \\right )}} & \\cos{\\left (\\varphi_{3}{\\left (x \\right )} \\right )} & \\sin{\\left (\\varphi_{3}{\\left (x \\right )} \\right )} \\tan{\\left (\\varphi_{2}{\\left (x \\right )} \\right )}\\\\0 & 0 & 1\\end{matrix}\\right]$$"
      ],
      "text/plain": [
       "⎡ cos(varphi₃(x))                                                    ⎤\n",
       "⎢ ───────────────   sin(varphi₃(x))  -cos(varphi₃(x))⋅tan(varphi₂(x))⎥\n",
       "⎢ cos(varphi₂(x))                                                    ⎥\n",
       "⎢                                                                    ⎥\n",
       "⎢-sin(varphi₃(x))                                                    ⎥\n",
       "⎢─────────────────  cos(varphi₃(x))  sin(varphi₃(x))⋅tan(varphi₂(x)) ⎥\n",
       "⎢ cos(varphi₂(x))                                                    ⎥\n",
       "⎢                                                                    ⎥\n",
       "⎣        0                 0                        1                ⎦"
      ]
     },
     "execution_count": 193,
     "metadata": {},
     "output_type": "execute_result"
    }
   ],
   "source": [
    "Mat_inv = simplify(Mat.inv())\n",
    "Mat_inv"
   ]
  },
  {
   "cell_type": "code",
   "execution_count": 200,
   "metadata": {},
   "outputs": [
    {
     "data": {
      "image/png": "[encoded data removed]",
      "text/latex": [
       "$$\\left[\\begin{matrix}- \\sin{\\left (\\varphi_{1}{\\left (x \\right )} \\right )} \\cos{\\left (\\varphi_{2}{\\left (x \\right )} \\right )} & - \\sin{\\left (\\varphi_{2}{\\left (x \\right )} \\right )} \\cos{\\left (\\varphi_{1}{\\left (x \\right )} \\right )} & 0\\\\\\sin{\\left (\\varphi_{1}{\\left (x \\right )} \\right )} \\sin{\\left (\\varphi_{2}{\\left (x \\right )} \\right )} \\sin{\\left (\\varphi_{3}{\\left (x \\right )} \\right )} - \\cos{\\left (\\varphi_{1}{\\left (x \\right )} \\right )} \\cos{\\left (\\varphi_{3}{\\left (x \\right )} \\right )} & - \\sin{\\left (\\varphi_{3}{\\left (x \\right )} \\right )} \\cos{\\left (\\varphi_{1}{\\left (x \\right )} \\right )} \\cos{\\left (\\varphi_{2}{\\left (x \\right )} \\right )} & \\sin{\\left (\\varphi_{1}{\\left (x \\right )} \\right )} \\sin{\\left (\\varphi_{3}{\\left (x \\right )} \\right )} - \\sin{\\left (\\varphi_{2}{\\left (x \\right )} \\right )} \\cos{\\left (\\varphi_{1}{\\left (x \\right )} \\right )} \\cos{\\left (\\varphi_{3}{\\left (x \\right )} \\right )}\\\\\\sin{\\left (\\varphi_{1}{\\left (x \\right )} \\right )} \\sin{\\left (\\varphi_{2}{\\left (x \\right )} \\right )} \\cos{\\left (\\varphi_{3}{\\left (x \\right )} \\right )} + \\sin{\\left (\\varphi_{3}{\\left (x \\right )} \\right )} \\cos{\\left (\\varphi_{1}{\\left (x \\right )} \\right )} & - \\cos{\\left (\\varphi_{1}{\\left (x \\right )} \\right )} \\cos{\\left (\\varphi_{2}{\\left (x \\right )} \\right )} \\cos{\\left (\\varphi_{3}{\\left (x \\right )} \\right )} & \\sin{\\left (\\varphi_{1}{\\left (x \\right )} \\right )} \\cos{\\left (\\varphi_{3}{\\left (x \\right )} \\right )} + \\sin{\\left (\\varphi_{2}{\\left (x \\right )} \\right )} \\sin{\\left (\\varphi_{3}{\\left (x \\right )} \\right )} \\cos{\\left (\\varphi_{1}{\\left (x \\right )} \\right )}\\\\\\cos{\\left (\\varphi_{1}{\\left (x \\right )} \\right )} \\cos{\\left (\\varphi_{2}{\\left (x \\right )} \\right )} & - \\sin{\\left (\\varphi_{1}{\\left (x \\right )} \\right )} \\sin{\\left (\\varphi_{2}{\\left (x \\right )} \\right )} & 0\\\\- \\sin{\\left (\\varphi_{1}{\\left (x \\right )} \\right )} \\cos{\\left (\\varphi_{3}{\\left (x \\right )} \\right )} - \\sin{\\left (\\varphi_{2}{\\left (x \\right )} \\right )} \\sin{\\left (\\varphi_{3}{\\left (x \\right )} \\right )} \\cos{\\left (\\varphi_{1}{\\left (x \\right )} \\right )} & - \\sin{\\left (\\varphi_{1}{\\left (x \\right )} \\right )} \\sin{\\left (\\varphi_{3}{\\left (x \\right )} \\right )} \\cos{\\left (\\varphi_{2}{\\left (x \\right )} \\right )} & - \\sin{\\left (\\varphi_{1}{\\left (x \\right )} \\right )} \\sin{\\left (\\varphi_{2}{\\left (x \\right )} \\right )} \\cos{\\left (\\varphi_{3}{\\left (x \\right )} \\right )} - \\sin{\\left (\\varphi_{3}{\\left (x \\right )} \\right )} \\cos{\\left (\\varphi_{1}{\\left (x \\right )} \\right )}\\\\\\sin{\\left (\\varphi_{1}{\\left (x \\right )} \\right )} \\sin{\\left (\\varphi_{3}{\\left (x \\right )} \\right )} - \\sin{\\left (\\varphi_{2}{\\left (x \\right )} \\right )} \\cos{\\left (\\varphi_{1}{\\left (x \\right )} \\right )} \\cos{\\left (\\varphi_{3}{\\left (x \\right )} \\right )} & - \\sin{\\left (\\varphi_{1}{\\left (x \\right )} \\right )} \\cos{\\left (\\varphi_{2}{\\left (x \\right )} \\right )} \\cos{\\left (\\varphi_{3}{\\left (x \\right )} \\right )} & \\sin{\\left (\\varphi_{1}{\\left (x \\right )} \\right )} \\sin{\\left (\\varphi_{2}{\\left (x \\right )} \\right )} \\sin{\\left (\\varphi_{3}{\\left (x \\right )} \\right )} - \\cos{\\left (\\varphi_{1}{\\left (x \\right )} \\right )} \\cos{\\left (\\varphi_{3}{\\left (x \\right )} \\right )}\\\\0 & \\cos{\\left (\\varphi_{2}{\\left (x \\right )} \\right )} & 0\\\\0 & - \\sin{\\left (\\varphi_{2}{\\left (x \\right )} \\right )} \\sin{\\left (\\varphi_{3}{\\left (x \\right )} \\right )} & \\cos{\\left (\\varphi_{2}{\\left (x \\right )} \\right )} \\cos{\\left (\\varphi_{3}{\\left (x \\right )} \\right )}\\\\0 & - \\sin{\\left (\\varphi_{2}{\\left (x \\right )} \\right )} \\cos{\\left (\\varphi_{3}{\\left (x \\right )} \\right )} & - \\sin{\\left (\\varphi_{3}{\\left (x \\right )} \\right )} \\cos{\\left (\\varphi_{2}{\\left (x \\right )} \\right )}\\end{matrix}\\right]$$"
      ],
      "text/plain": [
       "⎡                         -sin(varphi₁(x))⋅cos(varphi₂(x))                    \n",
       "⎢                                                                             \n",
       "⎢sin(varphi₁(x))⋅sin(varphi₂(x))⋅sin(varphi₃(x)) - cos(varphi₁(x))⋅cos(varphi₃\n",
       "⎢                                                                             \n",
       "⎢sin(varphi₁(x))⋅sin(varphi₂(x))⋅cos(varphi₃(x)) + sin(varphi₃(x))⋅cos(varphi₁\n",
       "⎢                                                                             \n",
       "⎢                         cos(varphi₁(x))⋅cos(varphi₂(x))                     \n",
       "⎢                                                                             \n",
       "⎢-sin(varphi₁(x))⋅cos(varphi₃(x)) - sin(varphi₂(x))⋅sin(varphi₃(x))⋅cos(varphi\n",
       "⎢                                                                             \n",
       "⎢sin(varphi₁(x))⋅sin(varphi₃(x)) - sin(varphi₂(x))⋅cos(varphi₁(x))⋅cos(varphi₃\n",
       "⎢                                                                             \n",
       "⎢                                        0                                    \n",
       "⎢                                                                             \n",
       "⎢                                        0                                    \n",
       "⎢                                                                             \n",
       "⎣                                        0                                    \n",
       "\n",
       "               -sin(varphi₂(x))⋅cos(varphi₁(x))                               \n",
       "                                                                              \n",
       "(x))   -sin(varphi₃(x))⋅cos(varphi₁(x))⋅cos(varphi₂(x))  sin(varphi₁(x))⋅sin(v\n",
       "                                                                              \n",
       "(x))   -cos(varphi₁(x))⋅cos(varphi₂(x))⋅cos(varphi₃(x))  sin(varphi₁(x))⋅cos(v\n",
       "                                                                              \n",
       "               -sin(varphi₁(x))⋅sin(varphi₂(x))                               \n",
       "                                                                              \n",
       "₁(x))  -sin(varphi₁(x))⋅sin(varphi₃(x))⋅cos(varphi₂(x))  -sin(varphi₁(x))⋅sin(\n",
       "                                                                              \n",
       "(x))   -sin(varphi₁(x))⋅cos(varphi₂(x))⋅cos(varphi₃(x))  sin(varphi₁(x))⋅sin(v\n",
       "                                                                              \n",
       "                       cos(varphi₂(x))                                        \n",
       "                                                                              \n",
       "               -sin(varphi₂(x))⋅sin(varphi₃(x))                               \n",
       "                                                                              \n",
       "               -sin(varphi₂(x))⋅cos(varphi₃(x))                               \n",
       "\n",
       "                   0                                         ⎤\n",
       "                                                             ⎥\n",
       "arphi₃(x)) - sin(varphi₂(x))⋅cos(varphi₁(x))⋅cos(varphi₃(x)) ⎥\n",
       "                                                             ⎥\n",
       "arphi₃(x)) + sin(varphi₂(x))⋅sin(varphi₃(x))⋅cos(varphi₁(x)) ⎥\n",
       "                                                             ⎥\n",
       "                   0                                         ⎥\n",
       "                                                             ⎥\n",
       "varphi₂(x))⋅cos(varphi₃(x)) - sin(varphi₃(x))⋅cos(varphi₁(x))⎥\n",
       "                                                             ⎥\n",
       "arphi₂(x))⋅sin(varphi₃(x)) - cos(varphi₁(x))⋅cos(varphi₃(x)) ⎥\n",
       "                                                             ⎥\n",
       "                   0                                         ⎥\n",
       "                                                             ⎥\n",
       "    cos(varphi₂(x))⋅cos(varphi₃(x))                          ⎥\n",
       "                                                             ⎥\n",
       "    -sin(varphi₃(x))⋅cos(varphi₂(x))                         ⎦"
      ]
     },
     "execution_count": 200,
     "metadata": {},
     "output_type": "execute_result"
    }
   ],
   "source": [
    "Matrix(flatten(F)).jacobian([phi1, phi2, phi3])"
   ]
  },
  {
   "cell_type": "code",
   "execution_count": 209,
   "metadata": {},
   "outputs": [
    {
     "data": {
      "image/png": "[encoded data removed]",
      "text/latex": [
       "$$\\left\\{\\left ( 1, \\quad 0, \\quad 0\\right )\\right\\}$$"
      ],
      "text/plain": [
       "{(1, 0, 0)}"
      ]
     },
     "execution_count": 209,
     "metadata": {},
     "output_type": "execute_result"
    }
   ],
   "source": [
    "linsolve(Matrix(flatten(F)).jacobian([phi1, phi2, phi3]).col_insert(3,Matrix(flatten(Matrix(X1)))),(x,y,z))"
   ]
  },
  {
   "cell_type": "code",
   "execution_count": 210,
   "metadata": {},
   "outputs": [
    {
     "data": {
      "image/png": "[encoded data removed]",
      "text/latex": [
       "$$\\left\\{\\left ( \\sin{\\left (\\varphi_{1}{\\left (x \\right )} \\right )} \\tan{\\left (\\varphi_{2}{\\left (x \\right )} \\right )}, \\quad \\cos{\\left (\\varphi_{1}{\\left (x \\right )} \\right )}, \\quad - \\frac{\\sin{\\left (\\varphi_{1}{\\left (x \\right )} \\right )}}{\\cos{\\left (\\varphi_{2}{\\left (x \\right )} \\right )}}\\right )\\right\\}$$"
      ],
      "text/plain": [
       "⎧⎛                                                  -sin(varphi₁(x)) ⎞⎫\n",
       "⎨⎜sin(varphi₁(x))⋅tan(varphi₂(x)), cos(varphi₁(x)), ─────────────────⎟⎬\n",
       "⎩⎝                                                   cos(varphi₂(x)) ⎠⎭"
      ]
     },
     "execution_count": 210,
     "metadata": {},
     "output_type": "execute_result"
    }
   ],
   "source": [
    "linsolve(Matrix(flatten(F)).jacobian([phi1, phi2, phi3]).col_insert(3,Matrix(flatten(Matrix(X2)))),(x,y,z))"
   ]
  },
  {
   "cell_type": "code",
   "execution_count": 211,
   "metadata": {},
   "outputs": [
    {
     "data": {
      "image/png": "[encoded data removed]",
      "text/latex": [
       "$$\\left\\{\\left ( - \\cos{\\left (\\varphi_{1}{\\left (x \\right )} \\right )} \\tan{\\left (\\varphi_{2}{\\left (x \\right )} \\right )}, \\quad \\sin{\\left (\\varphi_{1}{\\left (x \\right )} \\right )}, \\quad \\frac{\\cos{\\left (\\varphi_{1}{\\left (x \\right )} \\right )}}{\\cos{\\left (\\varphi_{2}{\\left (x \\right )} \\right )}}\\right )\\right\\}$$"
      ],
      "text/plain": [
       "⎧⎛                                                   cos(varphi₁(x))⎞⎫\n",
       "⎨⎜-cos(varphi₁(x))⋅tan(varphi₂(x)), sin(varphi₁(x)), ───────────────⎟⎬\n",
       "⎩⎝                                                   cos(varphi₂(x))⎠⎭"
      ]
     },
     "execution_count": 211,
     "metadata": {},
     "output_type": "execute_result"
    }
   ],
   "source": [
    "linsolve(Matrix(flatten(F)).jacobian([phi1, phi2, phi3]).col_insert(3,Matrix(flatten(Matrix(X3)))),(x,y,z))"
   ]
  },
  {
   "cell_type": "code",
   "execution_count": 186,
   "metadata": {},
   "outputs": [
    {
     "data": {
      "image/png": "[encoded data removed]",
      "text/latex": [
       "$$\\left [ - \\sin{\\left (\\varphi_{1}{\\left (x \\right )} \\right )} \\cos{\\left (\\varphi_{2}{\\left (x \\right )} \\right )}, \\quad \\sin{\\left (\\varphi_{1}{\\left (x \\right )} \\right )} \\sin{\\left (\\varphi_{2}{\\left (x \\right )} \\right )} \\sin{\\left (\\varphi_{3}{\\left (x \\right )} \\right )} - \\cos{\\left (\\varphi_{1}{\\left (x \\right )} \\right )} \\cos{\\left (\\varphi_{3}{\\left (x \\right )} \\right )}, \\quad \\sin{\\left (\\varphi_{1}{\\left (x \\right )} \\right )} \\sin{\\left (\\varphi_{2}{\\left (x \\right )} \\right )} \\cos{\\left (\\varphi_{3}{\\left (x \\right )} \\right )} + \\sin{\\left (\\varphi_{3}{\\left (x \\right )} \\right )} \\cos{\\left (\\varphi_{1}{\\left (x \\right )} \\right )}, \\quad \\cos{\\left (\\varphi_{1}{\\left (x \\right )} \\right )} \\cos{\\left (\\varphi_{2}{\\left (x \\right )} \\right )}, \\quad - \\sin{\\left (\\varphi_{1}{\\left (x \\right )} \\right )} \\cos{\\left (\\varphi_{3}{\\left (x \\right )} \\right )} - \\sin{\\left (\\varphi_{2}{\\left (x \\right )} \\right )} \\sin{\\left (\\varphi_{3}{\\left (x \\right )} \\right )} \\cos{\\left (\\varphi_{1}{\\left (x \\right )} \\right )}, \\quad \\sin{\\left (\\varphi_{1}{\\left (x \\right )} \\right )} \\sin{\\left (\\varphi_{3}{\\left (x \\right )} \\right )} - \\sin{\\left (\\varphi_{2}{\\left (x \\right )} \\right )} \\cos{\\left (\\varphi_{1}{\\left (x \\right )} \\right )} \\cos{\\left (\\varphi_{3}{\\left (x \\right )} \\right )}, \\quad 0, \\quad 0, \\quad 0\\right ]$$"
      ],
      "text/plain": [
       "[-sin(varphi₁(x))⋅cos(varphi₂(x)), sin(varphi₁(x))⋅sin(varphi₂(x))⋅sin(varphi₃\n",
       "(x)) - cos(varphi₁(x))⋅cos(varphi₃(x)), sin(varphi₁(x))⋅sin(varphi₂(x))⋅cos(va\n",
       "rphi₃(x)) + sin(varphi₃(x))⋅cos(varphi₁(x)), cos(varphi₁(x))⋅cos(varphi₂(x)), \n",
       "-sin(varphi₁(x))⋅cos(varphi₃(x)) - sin(varphi₂(x))⋅sin(varphi₃(x))⋅cos(varphi₁\n",
       "(x)), sin(varphi₁(x))⋅sin(varphi₃(x)) - sin(varphi₂(x))⋅cos(varphi₁(x))⋅cos(va\n",
       "rphi₃(x)), 0, 0, 0]"
      ]
     },
     "execution_count": 186,
     "metadata": {},
     "output_type": "execute_result"
    }
   ],
   "source": [
    "flatten(Matrix(X1))"
   ]
  },
  {
   "cell_type": "code",
   "execution_count": 168,
   "metadata": {},
   "outputs": [
    {
     "data": {
      "image/png": "[encoded data removed]",
      "text/latex": [
       "$$\\left[\\begin{matrix}\\cos{\\left (\\varphi_{1}{\\left (x \\right )} \\right )} \\cos{\\left (\\varphi_{2}{\\left (x \\right )} \\right )} & - \\sin{\\left (\\varphi_{1}{\\left (x \\right )} \\right )} \\cos{\\left (\\varphi_{3}{\\left (x \\right )} \\right )} - \\sin{\\left (\\varphi_{2}{\\left (x \\right )} \\right )} \\sin{\\left (\\varphi_{3}{\\left (x \\right )} \\right )} \\cos{\\left (\\varphi_{1}{\\left (x \\right )} \\right )} & \\sin{\\left (\\varphi_{1}{\\left (x \\right )} \\right )} \\sin{\\left (\\varphi_{3}{\\left (x \\right )} \\right )} - \\sin{\\left (\\varphi_{2}{\\left (x \\right )} \\right )} \\cos{\\left (\\varphi_{1}{\\left (x \\right )} \\right )} \\cos{\\left (\\varphi_{3}{\\left (x \\right )} \\right )}\\\\\\sin{\\left (\\varphi_{1}{\\left (x \\right )} \\right )} \\cos{\\left (\\varphi_{2}{\\left (x \\right )} \\right )} & - \\sin{\\left (\\varphi_{1}{\\left (x \\right )} \\right )} \\sin{\\left (\\varphi_{2}{\\left (x \\right )} \\right )} \\sin{\\left (\\varphi_{3}{\\left (x \\right )} \\right )} + \\cos{\\left (\\varphi_{1}{\\left (x \\right )} \\right )} \\cos{\\left (\\varphi_{3}{\\left (x \\right )} \\right )} & - \\sin{\\left (\\varphi_{1}{\\left (x \\right )} \\right )} \\sin{\\left (\\varphi_{2}{\\left (x \\right )} \\right )} \\cos{\\left (\\varphi_{3}{\\left (x \\right )} \\right )} - \\sin{\\left (\\varphi_{3}{\\left (x \\right )} \\right )} \\cos{\\left (\\varphi_{1}{\\left (x \\right )} \\right )}\\\\\\sin{\\left (\\varphi_{2}{\\left (x \\right )} \\right )} & \\sin{\\left (\\varphi_{3}{\\left (x \\right )} \\right )} \\cos{\\left (\\varphi_{2}{\\left (x \\right )} \\right )} & \\cos{\\left (\\varphi_{2}{\\left (x \\right )} \\right )} \\cos{\\left (\\varphi_{3}{\\left (x \\right )} \\right )}\\end{matrix}\\right]$$"
      ],
      "text/plain": [
       "⎡cos(varphi₁(x))⋅cos(varphi₂(x))  -sin(varphi₁(x))⋅cos(varphi₃(x)) - sin(varph\n",
       "⎢                                                                             \n",
       "⎢sin(varphi₁(x))⋅cos(varphi₂(x))  -sin(varphi₁(x))⋅sin(varphi₂(x))⋅sin(varphi₃\n",
       "⎢                                                                             \n",
       "⎣        sin(varphi₂(x))                                   sin(varphi₃(x))⋅cos\n",
       "\n",
       "i₂(x))⋅sin(varphi₃(x))⋅cos(varphi₁(x))  sin(varphi₁(x))⋅sin(varphi₃(x)) - sin(\n",
       "                                                                              \n",
       "(x)) + cos(varphi₁(x))⋅cos(varphi₃(x))  -sin(varphi₁(x))⋅sin(varphi₂(x))⋅cos(v\n",
       "                                                                              \n",
       "(varphi₂(x))                                                     cos(varphi₂(x\n",
       "\n",
       "varphi₂(x))⋅cos(varphi₁(x))⋅cos(varphi₃(x)) ⎤\n",
       "                                            ⎥\n",
       "arphi₃(x)) - sin(varphi₃(x))⋅cos(varphi₁(x))⎥\n",
       "                                            ⎥\n",
       "))⋅cos(varphi₃(x))                          ⎦"
      ]
     },
     "execution_count": 168,
     "metadata": {},
     "output_type": "execute_result"
    }
   ],
   "source": [
    "F"
   ]
  },
  {
   "cell_type": "code",
   "execution_count": 192,
   "metadata": {
    "collapsed": true
   },
   "outputs": [],
   "source": [
    "Perm = Matrix([[0,0,1],[0,1,0],[1,0,0]])"
   ]
  },
  {
   "cell_type": "code",
   "execution_count": 194,
   "metadata": {},
   "outputs": [
    {
     "data": {
      "image/png": "[encoded data removed]",
      "text/latex": [
       "$$\\left[\\begin{matrix}1 & 0 & 0\\\\\\sin{\\left (\\varphi_{3}{\\left (x \\right )} \\right )} \\tan{\\left (\\varphi_{2}{\\left (x \\right )} \\right )} & \\cos{\\left (\\varphi_{3}{\\left (x \\right )} \\right )} & - \\frac{\\sin{\\left (\\varphi_{3}{\\left (x \\right )} \\right )}}{\\cos{\\left (\\varphi_{2}{\\left (x \\right )} \\right )}}\\\\- \\cos{\\left (\\varphi_{3}{\\left (x \\right )} \\right )} \\tan{\\left (\\varphi_{2}{\\left (x \\right )} \\right )} & \\sin{\\left (\\varphi_{3}{\\left (x \\right )} \\right )} & \\frac{\\cos{\\left (\\varphi_{3}{\\left (x \\right )} \\right )}}{\\cos{\\left (\\varphi_{2}{\\left (x \\right )} \\right )}}\\end{matrix}\\right]$$"
      ],
      "text/plain": [
       "⎡               1                         0                 0        ⎤\n",
       "⎢                                                                    ⎥\n",
       "⎢                                                   -sin(varphi₃(x)) ⎥\n",
       "⎢sin(varphi₃(x))⋅tan(varphi₂(x))   cos(varphi₃(x))  ─────────────────⎥\n",
       "⎢                                                    cos(varphi₂(x)) ⎥\n",
       "⎢                                                                    ⎥\n",
       "⎢                                                    cos(varphi₃(x)) ⎥\n",
       "⎢-cos(varphi₃(x))⋅tan(varphi₂(x))  sin(varphi₃(x))   ─────────────── ⎥\n",
       "⎣                                                    cos(varphi₂(x)) ⎦"
      ]
     },
     "execution_count": 194,
     "metadata": {},
     "output_type": "execute_result"
    }
   ],
   "source": [
    "Perm*Mat_inv*Perm"
   ]
  },
  {
   "cell_type": "code",
   "execution_count": 198,
   "metadata": {},
   "outputs": [
    {
     "name": "stdout",
     "output_type": "stream",
     "text": [
      "\\cos{\\left (\\varphi_{1}{\\left (x \\right )} \\right )} \\cos{\\left (\\varphi_{2}{\\left (x \\right )} \\right )}\n"
     ]
    }
   ],
   "source": [
    "print(latex(simplify(F[0,0])))"
   ]
  },
  {
   "cell_type": "code",
   "execution_count": 207,
   "metadata": {},
   "outputs": [
    {
     "data": {
      "image/png": "[encoded data removed]",
      "text/latex": [
       "$$\\left[\\begin{matrix}- \\sin{\\left (\\varphi_{1}{\\left (x \\right )} \\right )} \\cos{\\left (\\varphi_{2}{\\left (x \\right )} \\right )} & \\sin{\\left (\\varphi_{1}{\\left (x \\right )} \\right )} \\sin{\\left (\\varphi_{2}{\\left (x \\right )} \\right )} \\sin{\\left (\\varphi_{3}{\\left (x \\right )} \\right )} - \\cos{\\left (\\varphi_{1}{\\left (x \\right )} \\right )} \\cos{\\left (\\varphi_{3}{\\left (x \\right )} \\right )} & \\sin{\\left (\\varphi_{1}{\\left (x \\right )} \\right )} \\sin{\\left (\\varphi_{2}{\\left (x \\right )} \\right )} \\cos{\\left (\\varphi_{3}{\\left (x \\right )} \\right )} + \\sin{\\left (\\varphi_{3}{\\left (x \\right )} \\right )} \\cos{\\left (\\varphi_{1}{\\left (x \\right )} \\right )}\\\\\\cos{\\left (\\varphi_{1}{\\left (x \\right )} \\right )} \\cos{\\left (\\varphi_{2}{\\left (x \\right )} \\right )} & - \\sin{\\left (\\varphi_{1}{\\left (x \\right )} \\right )} \\cos{\\left (\\varphi_{3}{\\left (x \\right )} \\right )} - \\sin{\\left (\\varphi_{2}{\\left (x \\right )} \\right )} \\sin{\\left (\\varphi_{3}{\\left (x \\right )} \\right )} \\cos{\\left (\\varphi_{1}{\\left (x \\right )} \\right )} & \\sin{\\left (\\varphi_{1}{\\left (x \\right )} \\right )} \\sin{\\left (\\varphi_{3}{\\left (x \\right )} \\right )} - \\sin{\\left (\\varphi_{2}{\\left (x \\right )} \\right )} \\cos{\\left (\\varphi_{1}{\\left (x \\right )} \\right )} \\cos{\\left (\\varphi_{3}{\\left (x \\right )} \\right )}\\\\0 & 0 & 0\\end{matrix}\\right]$$"
      ],
      "text/plain": [
       "⎡-sin(varphi₁(x))⋅cos(varphi₂(x))  sin(varphi₁(x))⋅sin(varphi₂(x))⋅sin(varphi₃\n",
       "⎢                                                                             \n",
       "⎢cos(varphi₁(x))⋅cos(varphi₂(x))   -sin(varphi₁(x))⋅cos(varphi₃(x)) - sin(varp\n",
       "⎢                                                                             \n",
       "⎣               0                                                          0  \n",
       "\n",
       "(x)) - cos(varphi₁(x))⋅cos(varphi₃(x))   sin(varphi₁(x))⋅sin(varphi₂(x))⋅cos(v\n",
       "                                                                              \n",
       "hi₂(x))⋅sin(varphi₃(x))⋅cos(varphi₁(x))  sin(varphi₁(x))⋅sin(varphi₃(x)) - sin\n",
       "                                                                              \n",
       "                                                                              \n",
       "\n",
       "arphi₃(x)) + sin(varphi₃(x))⋅cos(varphi₁(x))⎤\n",
       "                                            ⎥\n",
       "(varphi₂(x))⋅cos(varphi₁(x))⋅cos(varphi₃(x))⎥\n",
       "                                            ⎥\n",
       "   0                                        ⎦"
      ]
     },
     "execution_count": 207,
     "metadata": {},
     "output_type": "execute_result"
    }
   ],
   "source": [
    "X1"
   ]
  },
  {
   "cell_type": "code",
   "execution_count": 208,
   "metadata": {},
   "outputs": [
    {
     "name": "stdout",
     "output_type": "stream",
     "text": [
      "\\left[\\begin{matrix}0 & 0 & 0\\\\- \\sin{\\left (\\varphi_{2}{\\left (x \\right )} \\right )} & - \\sin{\\left (\\varphi_{3}{\\left (x \\right )} \\right )} \\cos{\\left (\\varphi_{2}{\\left (x \\right )} \\right )} & - \\cos{\\left (\\varphi_{2}{\\left (x \\right )} \\right )} \\cos{\\left (\\varphi_{3}{\\left (x \\right )} \\right )}\\\\\\sin{\\left (\\varphi_{1}{\\left (x \\right )} \\right )} \\cos{\\left (\\varphi_{2}{\\left (x \\right )} \\right )} & - \\sin{\\left (\\varphi_{1}{\\left (x \\right )} \\right )} \\sin{\\left (\\varphi_{2}{\\left (x \\right )} \\right )} \\sin{\\left (\\varphi_{3}{\\left (x \\right )} \\right )} + \\cos{\\left (\\varphi_{1}{\\left (x \\right )} \\right )} \\cos{\\left (\\varphi_{3}{\\left (x \\right )} \\right )} & - \\sin{\\left (\\varphi_{1}{\\left (x \\right )} \\right )} \\sin{\\left (\\varphi_{2}{\\left (x \\right )} \\right )} \\cos{\\left (\\varphi_{3}{\\left (x \\right )} \\right )} - \\sin{\\left (\\varphi_{3}{\\left (x \\right )} \\right )} \\cos{\\left (\\varphi_{1}{\\left (x \\right )} \\right )}\\end{matrix}\\right]\n"
     ]
    }
   ],
   "source": [
    "print(latex(X3))"
   ]
  },
  {
   "cell_type": "code",
   "execution_count": 284,
   "metadata": {},
   "outputs": [
    {
     "data": {
      "image/png": "[encoded data removed]",
      "text/latex": [
       "$$\\left[\\begin{matrix}1 & 0 & 0\\\\0 & 1 & 0\\\\0 & 0 & 1\\end{matrix}\\right]$$"
      ],
      "text/plain": [
       "⎡1  0  0⎤\n",
       "⎢       ⎥\n",
       "⎢0  1  0⎥\n",
       "⎢       ⎥\n",
       "⎣0  0  1⎦"
      ]
     },
     "execution_count": 284,
     "metadata": {},
     "output_type": "execute_result"
    }
   ],
   "source": [
    "simplify((R*F).subs(frame))"
   ]
  },
  {
   "cell_type": "code",
   "execution_count": 286,
   "metadata": {},
   "outputs": [
    {
     "data": {
      "image/png": "[encoded data removed]",
      "text/latex": [
       "$$\\left \\{ a : - x \\cos{\\left (\\varphi_{1}{\\left (x \\right )} \\right )} \\cos{\\left (\\varphi_{2}{\\left (x \\right )} \\right )} - u{\\left (x \\right )} \\sin{\\left (\\varphi_{2}{\\left (x \\right )} \\right )} - y{\\left (x \\right )} \\sin{\\left (\\varphi_{1}{\\left (x \\right )} \\right )} \\cos{\\left (\\varphi_{2}{\\left (x \\right )} \\right )}, \\quad b : x \\sin{\\left (\\varphi_{1}{\\left (x \\right )} \\right )} \\cos{\\left (\\varphi_{3}{\\left (x \\right )} \\right )} + x \\sin{\\left (\\varphi_{2}{\\left (x \\right )} \\right )} \\sin{\\left (\\varphi_{3}{\\left (x \\right )} \\right )} \\cos{\\left (\\varphi_{1}{\\left (x \\right )} \\right )} - u{\\left (x \\right )} \\sin{\\left (\\varphi_{3}{\\left (x \\right )} \\right )} \\cos{\\left (\\varphi_{2}{\\left (x \\right )} \\right )} + y{\\left (x \\right )} \\sin{\\left (\\varphi_{1}{\\left (x \\right )} \\right )} \\sin{\\left (\\varphi_{2}{\\left (x \\right )} \\right )} \\sin{\\left (\\varphi_{3}{\\left (x \\right )} \\right )} - y{\\left (x \\right )} \\cos{\\left (\\varphi_{1}{\\left (x \\right )} \\right )} \\cos{\\left (\\varphi_{3}{\\left (x \\right )} \\right )}, \\quad c : - x \\sin{\\left (\\varphi_{1}{\\left (x \\right )} \\right )} \\sin{\\left (\\varphi_{3}{\\left (x \\right )} \\right )} + x \\sin{\\left (\\varphi_{2}{\\left (x \\right )} \\right )} \\cos{\\left (\\varphi_{1}{\\left (x \\right )} \\right )} \\cos{\\left (\\varphi_{3}{\\left (x \\right )} \\right )} - u{\\left (x \\right )} \\cos{\\left (\\varphi_{2}{\\left (x \\right )} \\right )} \\cos{\\left (\\varphi_{3}{\\left (x \\right )} \\right )} + y{\\left (x \\right )} \\sin{\\left (\\varphi_{1}{\\left (x \\right )} \\right )} \\sin{\\left (\\varphi_{2}{\\left (x \\right )} \\right )} \\cos{\\left (\\varphi_{3}{\\left (x \\right )} \\right )} + y{\\left (x \\right )} \\sin{\\left (\\varphi_{3}{\\left (x \\right )} \\right )} \\cos{\\left (\\varphi_{1}{\\left (x \\right )} \\right )}, \\quad \\psi_{1} : - \\varphi_{1}{\\left (x \\right )}, \\quad \\psi_{2} : - \\varphi_{2}{\\left (x \\right )}, \\quad \\psi_{3} : - \\varphi_{3}{\\left (x \\right )}\\right \\}$$"
      ],
      "text/plain": [
       "{a: -x⋅cos(varphi₁(x))⋅cos(varphi₂(x)) - u(x)⋅sin(varphi₂(x)) - y(x)⋅sin(varph\n",
       "i₁(x))⋅cos(varphi₂(x)), b: x⋅sin(varphi₁(x))⋅cos(varphi₃(x)) + x⋅sin(varphi₂(x\n",
       "))⋅sin(varphi₃(x))⋅cos(varphi₁(x)) - u(x)⋅sin(varphi₃(x))⋅cos(varphi₂(x)) + y(\n",
       "x)⋅sin(varphi₁(x))⋅sin(varphi₂(x))⋅sin(varphi₃(x)) - y(x)⋅cos(varphi₁(x))⋅cos(\n",
       "varphi₃(x)), c: -x⋅sin(varphi₁(x))⋅sin(varphi₃(x)) + x⋅sin(varphi₂(x))⋅cos(var\n",
       "phi₁(x))⋅cos(varphi₃(x)) - u(x)⋅cos(varphi₂(x))⋅cos(varphi₃(x)) + y(x)⋅sin(var\n",
       "phi₁(x))⋅sin(varphi₂(x))⋅cos(varphi₃(x)) + y(x)⋅sin(varphi₃(x))⋅cos(varphi₁(x)\n",
       "), ψ₁: -varphi₁(x), ψ₂: -varphi₂(x), ψ₃: -varphi₃(x)}"
      ]
     },
     "execution_count": 286,
     "metadata": {},
     "output_type": "execute_result"
    }
   ],
   "source": [
    "simplify(frame)"
   ]
  },
  {
   "cell_type": "code",
   "execution_count": 303,
   "metadata": {},
   "outputs": [
    {
     "data": {
      "image/png": "[encoded data removed]",
      "text/latex": [
       "$$\\left[\\begin{matrix}\\cos{\\left (\\varphi_{1}{\\left (x \\right )} \\right )} \\cos{\\left (\\varphi_{2}{\\left (x \\right )} \\right )} & - \\sin{\\left (\\varphi_{1}{\\left (x \\right )} \\right )} \\cos{\\left (\\varphi_{3}{\\left (x \\right )} \\right )} - \\sin{\\left (\\varphi_{2}{\\left (x \\right )} \\right )} \\sin{\\left (\\varphi_{3}{\\left (x \\right )} \\right )} \\cos{\\left (\\varphi_{1}{\\left (x \\right )} \\right )} & \\sin{\\left (\\varphi_{1}{\\left (x \\right )} \\right )} \\sin{\\left (\\varphi_{3}{\\left (x \\right )} \\right )} - \\sin{\\left (\\varphi_{2}{\\left (x \\right )} \\right )} \\cos{\\left (\\varphi_{1}{\\left (x \\right )} \\right )} \\cos{\\left (\\varphi_{3}{\\left (x \\right )} \\right )}\\\\\\sin{\\left (\\varphi_{1}{\\left (x \\right )} \\right )} \\cos{\\left (\\varphi_{2}{\\left (x \\right )} \\right )} & - \\sin{\\left (\\varphi_{1}{\\left (x \\right )} \\right )} \\sin{\\left (\\varphi_{2}{\\left (x \\right )} \\right )} \\sin{\\left (\\varphi_{3}{\\left (x \\right )} \\right )} + \\cos{\\left (\\varphi_{1}{\\left (x \\right )} \\right )} \\cos{\\left (\\varphi_{3}{\\left (x \\right )} \\right )} & - \\sin{\\left (\\varphi_{1}{\\left (x \\right )} \\right )} \\sin{\\left (\\varphi_{2}{\\left (x \\right )} \\right )} \\cos{\\left (\\varphi_{3}{\\left (x \\right )} \\right )} - \\sin{\\left (\\varphi_{3}{\\left (x \\right )} \\right )} \\cos{\\left (\\varphi_{1}{\\left (x \\right )} \\right )}\\\\\\sin{\\left (\\varphi_{2}{\\left (x \\right )} \\right )} & \\sin{\\left (\\varphi_{3}{\\left (x \\right )} \\right )} \\cos{\\left (\\varphi_{2}{\\left (x \\right )} \\right )} & \\cos{\\left (\\varphi_{2}{\\left (x \\right )} \\right )} \\cos{\\left (\\varphi_{3}{\\left (x \\right )} \\right )}\\end{matrix}\\right]$$"
      ],
      "text/plain": [
       "⎡cos(varphi₁(x))⋅cos(varphi₂(x))  -sin(varphi₁(x))⋅cos(varphi₃(x)) - sin(varph\n",
       "⎢                                                                             \n",
       "⎢sin(varphi₁(x))⋅cos(varphi₂(x))  -sin(varphi₁(x))⋅sin(varphi₂(x))⋅sin(varphi₃\n",
       "⎢                                                                             \n",
       "⎣        sin(varphi₂(x))                                   sin(varphi₃(x))⋅cos\n",
       "\n",
       "i₂(x))⋅sin(varphi₃(x))⋅cos(varphi₁(x))  sin(varphi₁(x))⋅sin(varphi₃(x)) - sin(\n",
       "                                                                              \n",
       "(x)) + cos(varphi₁(x))⋅cos(varphi₃(x))  -sin(varphi₁(x))⋅sin(varphi₂(x))⋅cos(v\n",
       "                                                                              \n",
       "(varphi₂(x))                                                     cos(varphi₂(x\n",
       "\n",
       "varphi₂(x))⋅cos(varphi₁(x))⋅cos(varphi₃(x)) ⎤\n",
       "                                            ⎥\n",
       "arphi₃(x)) - sin(varphi₃(x))⋅cos(varphi₁(x))⎥\n",
       "                                            ⎥\n",
       "))⋅cos(varphi₃(x))                          ⎦"
      ]
     },
     "execution_count": 303,
     "metadata": {},
     "output_type": "execute_result"
    }
   ],
   "source": [
    "F"
   ]
  },
  {
   "cell_type": "code",
   "execution_count": 291,
   "metadata": {},
   "outputs": [
    {
     "data": {
      "image/png": "[encoded data removed]",
      "text/latex": [
       "$$0$$"
      ],
      "text/plain": [
       "0"
      ]
     },
     "execution_count": 291,
     "metadata": {},
     "output_type": "execute_result"
    }
   ],
   "source": [
    "simplify(Y.subs(frame))"
   ]
  },
  {
   "cell_type": "code",
   "execution_count": 292,
   "metadata": {},
   "outputs": [
    {
     "data": {
      "image/png": "[encoded data removed]",
      "text/latex": [
       "$$0$$"
      ],
      "text/plain": [
       "0"
      ]
     },
     "execution_count": 292,
     "metadata": {},
     "output_type": "execute_result"
    }
   ],
   "source": [
    "simplify(U.subs(frame))"
   ]
  },
  {
   "cell_type": "markdown",
   "metadata": {},
   "source": [
    "# A Note About the Action of $SO(3)$ on Frames\n",
    "Before moving on, we should note that the action of $SO(3)$ on the frame matrix $F$ view above can also be analyzed in the absense of an explicit parameterization of $F$ in $SO(3)$.  This is done by simply analyzing the aciton of $SO(3)$ on $\\mathfrak{gl}(3)$ and imposing relation of various components.  This viewpoint is demonstrated below."
   ]
  },
  {
   "cell_type": "code",
   "execution_count": 10,
   "metadata": {
    "collapsed": true
   },
   "outputs": [],
   "source": [
    "F11 = symbols('F11')\n",
    "F12 = symbols('F12')\n",
    "F13 = symbols('F13')\n",
    "F21 = symbols('F21')\n",
    "F22 = symbols('F22')\n",
    "F23 = symbols('F23')\n",
    "F31 = symbols('F31')\n",
    "F32 = symbols('F32')\n",
    "F33 = symbols('F33')\n",
    "\n",
    "F = Matrix([[F11,F12,F13],[F21,F22,F23],[F31,F32,F33]])"
   ]
  },
  {
   "cell_type": "code",
   "execution_count": 48,
   "metadata": {},
   "outputs": [
    {
     "data": {
      "image/png": "[encoded data removed]",
      "text/latex": [
       "$$\\left[\\begin{matrix}- F_{21} & - F_{22} & - F_{23}\\\\F_{11} & F_{12} & F_{13}\\\\0 & 0 & 0\\end{matrix}\\right]$$"
      ],
      "text/plain": [
       "⎡-F₂₁  -F₂₂  -F₂₃⎤\n",
       "⎢                ⎥\n",
       "⎢F₁₁   F₁₂   F₁₃ ⎥\n",
       "⎢                ⎥\n",
       "⎣ 0     0     0  ⎦"
      ]
     },
     "execution_count": 48,
     "metadata": {},
     "output_type": "execute_result"
    }
   ],
   "source": [
    "diff(R*F,psi1).subs(identity)"
   ]
  },
  {
   "cell_type": "code",
   "execution_count": 49,
   "metadata": {},
   "outputs": [
    {
     "data": {
      "image/png": "[encoded data removed]",
      "text/latex": [
       "$$\\left[\\begin{matrix}- F_{31} & - F_{32} & - F_{33}\\\\0 & 0 & 0\\\\F_{11} & F_{12} & F_{13}\\end{matrix}\\right]$$"
      ],
      "text/plain": [
       "⎡-F₃₁  -F₃₂  -F₃₃⎤\n",
       "⎢                ⎥\n",
       "⎢ 0     0     0  ⎥\n",
       "⎢                ⎥\n",
       "⎣F₁₁   F₁₂   F₁₃ ⎦"
      ]
     },
     "execution_count": 49,
     "metadata": {},
     "output_type": "execute_result"
    }
   ],
   "source": [
    "diff(R*F,psi2).subs(identity)"
   ]
  },
  {
   "cell_type": "code",
   "execution_count": 50,
   "metadata": {},
   "outputs": [
    {
     "data": {
      "image/png": "[encoded data removed]",
      "text/latex": [
       "$$\\left[\\begin{matrix}0 & 0 & 0\\\\- F_{31} & - F_{32} & - F_{33}\\\\F_{21} & F_{22} & F_{23}\\end{matrix}\\right]$$"
      ],
      "text/plain": [
       "⎡ 0     0     0  ⎤\n",
       "⎢                ⎥\n",
       "⎢-F₃₁  -F₃₂  -F₃₃⎥\n",
       "⎢                ⎥\n",
       "⎣F₂₁   F₂₂   F₂₃ ⎦"
      ]
     },
     "execution_count": 50,
     "metadata": {},
     "output_type": "execute_result"
    }
   ],
   "source": [
    "diff(R*F,psi3).subs(identity)"
   ]
  },
  {
   "cell_type": "markdown",
   "metadata": {},
   "source": [
    "# Prolongation of Infinitesimal Generators\n",
    "If we prolong the infinitesimal generators for the group action given above using the jet coordinates $(x,y,u,\\varphi_1,\\varphi_2,\\varphi_3, y_x,u_x,\\varphi_{1,x},\\varphi_{2,x},\\varphi_{3,x})$, we will end up with a complicated mess.  Instead, we can express the prolongations as the restriction of the prolongations induced by the ebedding $SO(3)\\hookrightarrow\\mathfrak{gl}(3)$.  Expressing the prolonged infinitesimal generators in coordinates will require a rather long array.  Instead of doing this, we will display only the additional components of $\\texttt{pr}^1(v_i)$ that arise in prolonging $v_i$."
   ]
  },
  {
   "cell_type": "code",
   "execution_count": 8,
   "metadata": {},
   "outputs": [],
   "source": [
    "v1 = [-symbols('y'), x, 0, -F21, -F22, -F23, F11, F12, F13, 0, 0, 0]\n",
    "v2 = [-symbols('u'), 0, x, -F31, -F32, -F33, 0, 0, 0, F11, F12, F13]\n",
    "v3 = [0, -symbols('u'), symbols('y'), 0, 0, 0, -F31, -F32, -F33, F21, F22, F23]\n",
    "\n",
    "A = [['x'], ['y','u','F11','F12','F13','F21','F22','F23','F31','F32','F33']]"
   ]
  },
  {
   "cell_type": "code",
   "execution_count": 9,
   "metadata": {},
   "outputs": [
    {
     "data": {
      "image/png": "[encoded data removed]",
      "text/latex": [
       "$$\\left [ y_{x}^{2} + 1, \\quad u_{x} y_{x}, \\quad F_{11 x} y_{x} - F_{21 x}, \\quad F_{12 x} y_{x} - F_{22 x}, \\quad F_{13 x} y_{x} - F_{23 x}, \\quad F_{11 x} + F_{21 x} y_{x}, \\quad F_{12 x} + F_{22 x} y_{x}, \\quad F_{13 x} + F_{23 x} y_{x}, \\quad F_{31 x} y_{x}, \\quad F_{32 x} y_{x}, \\quad F_{33 x} y_{x}\\right ]$$"
      ],
      "text/plain": [
       "⎡  2                                                                          \n",
       "⎣yₓ  + 1, uₓ⋅yₓ, F₁₁ ₓ⋅yₓ - F₂₁ ₓ, F₁₂ ₓ⋅yₓ - F₂₂ ₓ, F₁₃ ₓ⋅yₓ - F₂₃ ₓ, F₁₁ ₓ +\n",
       "\n",
       "                                                                           ⎤\n",
       " F₂₁ ₓ⋅yₓ, F₁₂ ₓ + F₂₂ ₓ⋅yₓ, F₁₃ ₓ + F₂₃ ₓ⋅yₓ, F₃₁ ₓ⋅yₓ, F₃₂ ₓ⋅yₓ, F₃₃ ₓ⋅yₓ⎦"
      ]
     },
     "execution_count": 9,
     "metadata": {},
     "output_type": "execute_result"
    }
   ],
   "source": [
    "lp.Prolong(A, v1, 1)[len(v1):]"
   ]
  },
  {
   "cell_type": "code",
   "execution_count": 10,
   "metadata": {},
   "outputs": [
    {
     "data": {
      "image/png": "[encoded data removed]",
      "text/latex": [
       "$$\\left [ u_{x} y_{x}, \\quad u_{x}^{2} + 1, \\quad F_{11 x} u_{x} - F_{31 x}, \\quad F_{12 x} u_{x} - F_{32 x}, \\quad F_{13 x} u_{x} - F_{33 x}, \\quad F_{21 x} u_{x}, \\quad F_{22 x} u_{x}, \\quad F_{23 x} u_{x}, \\quad F_{11 x} + F_{31 x} u_{x}, \\quad F_{12 x} + F_{32 x} u_{x}, \\quad F_{13 x} + F_{33 x} u_{x}\\right ]$$"
      ],
      "text/plain": [
       "⎡         2                                                                   \n",
       "⎣uₓ⋅yₓ, uₓ  + 1, F₁₁ ₓ⋅uₓ - F₃₁ ₓ, F₁₂ ₓ⋅uₓ - F₃₂ ₓ, F₁₃ ₓ⋅uₓ - F₃₃ ₓ, F₂₁ ₓ⋅u\n",
       "\n",
       "                                                                           ⎤\n",
       "ₓ, F₂₂ ₓ⋅uₓ, F₂₃ ₓ⋅uₓ, F₁₁ ₓ + F₃₁ ₓ⋅uₓ, F₁₂ ₓ + F₃₂ ₓ⋅uₓ, F₁₃ ₓ + F₃₃ ₓ⋅uₓ⎦"
      ]
     },
     "execution_count": 10,
     "metadata": {},
     "output_type": "execute_result"
    }
   ],
   "source": [
    "lp.Prolong(A, v2, 1)[len(v1):]"
   ]
  },
  {
   "cell_type": "code",
   "execution_count": 11,
   "metadata": {},
   "outputs": [
    {
     "data": {
      "image/png": "[encoded data removed]",
      "text/latex": [
       "$$\\left [ - u_{x}, \\quad y_{x}, \\quad 0, \\quad 0, \\quad 0, \\quad - F_{31 x}, \\quad - F_{32 x}, \\quad - F_{33 x}, \\quad F_{21 x}, \\quad F_{22 x}, \\quad F_{23 x}\\right ]$$"
      ],
      "text/plain": [
       "[-uₓ, yₓ, 0, 0, 0, -F₃₁ ₓ, -F₃₂ ₓ, -F₃₃ ₓ, F₂₁ ₓ, F₂₂ ₓ, F₂₃ ₓ]"
      ]
     },
     "execution_count": 11,
     "metadata": {},
     "output_type": "execute_result"
    }
   ],
   "source": [
    "lp.Prolong(A, v3, 1)[len(v1):]"
   ]
  },
  {
   "cell_type": "markdown",
   "metadata": {},
   "source": [
    "# Create groupAction Object\n",
    "In the following cell, we create a groupAction object and define the group transformation.  This will allow us to use some of the functionality of the class.  The Apply_Frame_Analysis() method cannot be applied in this situation because the symbolic solver cannot comple key steps."
   ]
  },
  {
   "cell_type": "code",
   "execution_count": 12,
   "metadata": {
    "collapsed": true
   },
   "outputs": [],
   "source": [
    "g = lp.groupAction([['x'],['y','u','F11', 'F12', 'F13', 'F21', 'F22', 'F23', 'F31', 'F32', 'F33']],['a','b','c', 'psi1', 'psi2', 'psi3'],2)\n",
    "F_expr = R*F\n",
    "lp_conversion = {a:lp.a, b:lp.b, c:lp.c, psi1:lp.psi1, psi2:lp.psi2, psi3:lp.psi3, x:lp.x, y:lp.y, u:lp.u,F11:lp.F11, F12:lp.F12, F13:lp.F13, F21:lp.F21, F22:lp.F22, F23:lp.F23, F31:lp.F31, F32:lp.F32, F33:lp.F33}\n",
    "\n",
    "# Define the group transformation, identity, and cross-section\n",
    "T = [X.subs(lp_conversion), Y.subs(lp_conversion), U.subs(lp_conversion), F_expr[0].subs(lp_conversion), F_expr[1].subs(lp_conversion), F_expr[2].subs(lp_conversion), F_expr[3].subs(lp_conversion), F_expr[4].subs(lp_conversion), F_expr[5].subs(lp_conversion), F_expr[6].subs(lp_conversion), F_expr[7].subs(lp_conversion), F_expr[8].subs(lp_conversion)]\n",
    "grp_id = [0,0,0,0,0,0]\n",
    "K = [[0,0,0,1,0,0,0,1,0,0,0,1],[lp.x,lp.y,lp.u,lp.F11,lp.F12,lp.F13,lp.F21,lp.F22,lp.F23,lp.F31,lp.F32,lp.F33]]\n",
    "\n",
    "# Add defining properties to the group action object\n",
    "g.Def_transformation(T,grp_id,K)"
   ]
  },
  {
   "cell_type": "code",
   "execution_count": 56,
   "metadata": {},
   "outputs": [
    {
     "ename": "KeyboardInterrupt",
     "evalue": "",
     "output_type": "error",
     "traceback": [
      "\u001b[1;31m---------------------------------------------------------------------------\u001b[0m",
      "\u001b[1;31mKeyboardInterrupt\u001b[0m                         Traceback (most recent call last)",
      "\u001b[1;32m<ipython-input-56-0c29f09a49d9>\u001b[0m in \u001b[0;36m<module>\u001b[1;34m()\u001b[0m\n\u001b[1;32m----> 1\u001b[1;33m \u001b[0mg\u001b[0m\u001b[1;33m.\u001b[0m\u001b[0mApply_Frame_Analysis\u001b[0m\u001b[1;33m(\u001b[0m\u001b[1;33m)\u001b[0m\u001b[1;33m\u001b[0m\u001b[0m\n\u001b[0m",
      "\u001b[1;32mC:\\Users\\jimmy\\Documents\\GitHub\\Lie_Symmetry\\LieSympy.pyc\u001b[0m in \u001b[0;36mApply_Frame_Analysis\u001b[1;34m(self)\u001b[0m\n\u001b[0;32m    656\u001b[0m             \u001b[1;31m# Create the moving frame dictionary and append it to gen_subs\u001b[0m\u001b[1;33m\u001b[0m\u001b[1;33m\u001b[0m\u001b[0m\n\u001b[0;32m    657\u001b[0m             \u001b[0mself\u001b[0m\u001b[1;33m.\u001b[0m\u001b[0mframe\u001b[0m \u001b[1;33m=\u001b[0m \u001b[0mmoving_frame\u001b[0m\u001b[1;33m(\u001b[0m\u001b[0mB\u001b[0m\u001b[1;33m,\u001b[0m \u001b[0mS\u001b[0m\u001b[1;33m,\u001b[0m \u001b[0mself\u001b[0m\u001b[1;33m.\u001b[0m\u001b[0mgen_subs\u001b[0m\u001b[1;33m)\u001b[0m\u001b[1;33m\u001b[0m\u001b[0m\n\u001b[1;32m--> 658\u001b[1;33m             \u001b[0mself\u001b[0m\u001b[1;33m.\u001b[0m\u001b[0mgen_subs\u001b[0m\u001b[1;33m.\u001b[0m\u001b[0mappend\u001b[0m\u001b[1;33m(\u001b[0m\u001b[0mself\u001b[0m\u001b[1;33m.\u001b[0m\u001b[0mframe\u001b[0m\u001b[1;33m)\u001b[0m\u001b[1;33m\u001b[0m\u001b[0m\n\u001b[0m\u001b[0;32m    659\u001b[0m \u001b[1;33m\u001b[0m\u001b[0m\n\u001b[0;32m    660\u001b[0m             \u001b[1;31m# Create a dictionary for substituting the normal invariants if needed\u001b[0m\u001b[1;33m\u001b[0m\u001b[1;33m\u001b[0m\u001b[0m\n",
      "\u001b[1;32mC:\\Users\\jimmy\\Documents\\GitHub\\Lie_Symmetry\\LieSympy.pyc\u001b[0m in \u001b[0;36mmoving_frame\u001b[1;34m(B, S, T)\u001b[0m\n\u001b[0;32m    205\u001b[0m         \u001b[0mC\u001b[0m \u001b[1;33m=\u001b[0m \u001b[1;33m[\u001b[0m\u001b[0mc\u001b[0m\u001b[1;33m.\u001b[0m\u001b[0mxreplace\u001b[0m\u001b[1;33m(\u001b[0m\u001b[0mS\u001b[0m\u001b[1;33m[\u001b[0m\u001b[1;36m5\u001b[0m\u001b[1;33m]\u001b[0m\u001b[1;33m)\u001b[0m \u001b[1;32mfor\u001b[0m \u001b[0mc\u001b[0m \u001b[1;32min\u001b[0m \u001b[0mC\u001b[0m\u001b[1;33m]\u001b[0m\u001b[1;33m\u001b[0m\u001b[0m\n\u001b[0;32m    206\u001b[0m         \u001b[1;32mreturn\u001b[0m \u001b[0msolve\u001b[0m\u001b[1;33m(\u001b[0m\u001b[0mC\u001b[0m\u001b[1;33m,\u001b[0m \u001b[0mparams\u001b[0m\u001b[1;33m,\u001b[0m \u001b[0mdict\u001b[0m\u001b[1;33m=\u001b[0m\u001b[0mTrue\u001b[0m\u001b[1;33m)\u001b[0m\u001b[1;33m[\u001b[0m\u001b[1;36m0\u001b[0m\u001b[1;33m]\u001b[0m\u001b[1;33m\u001b[0m\u001b[0m\n\u001b[1;32m--> 207\u001b[1;33m \u001b[1;33m\u001b[0m\u001b[0m\n\u001b[0m\u001b[0;32m    208\u001b[0m \u001b[1;32mdef\u001b[0m \u001b[0mcreate_normals\u001b[0m\u001b[1;33m(\u001b[0m\u001b[0mB\u001b[0m\u001b[1;33m,\u001b[0m \u001b[0mE\u001b[0m\u001b[1;33m,\u001b[0m \u001b[0mT\u001b[0m\u001b[1;33m)\u001b[0m\u001b[1;33m:\u001b[0m\u001b[1;33m\u001b[0m\u001b[0m\n\u001b[0;32m    209\u001b[0m     \u001b[0mA_jet\u001b[0m \u001b[1;33m=\u001b[0m \u001b[0mE\u001b[0m\u001b[1;33m[\u001b[0m\u001b[1;36m1\u001b[0m\u001b[1;33m]\u001b[0m\u001b[1;33m\u001b[0m\u001b[0m\n",
      "\u001b[1;32mC:\\Users\\jimmy\\AppData\\Local\\conda\\conda\\envs\\py27\\lib\\site-packages\\sympy\\solvers\\solvers.pyc\u001b[0m in \u001b[0;36msolve\u001b[1;34m(f, *symbols, **flags)\u001b[0m\n\u001b[0;32m   1159\u001b[0m         \u001b[0msolution\u001b[0m \u001b[1;33m=\u001b[0m \u001b[0m_solve\u001b[0m\u001b[1;33m(\u001b[0m\u001b[0mf\u001b[0m\u001b[1;33m[\u001b[0m\u001b[1;36m0\u001b[0m\u001b[1;33m]\u001b[0m\u001b[1;33m,\u001b[0m \u001b[1;33m*\u001b[0m\u001b[0msymbols\u001b[0m\u001b[1;33m,\u001b[0m \u001b[1;33m**\u001b[0m\u001b[0mflags\u001b[0m\u001b[1;33m)\u001b[0m\u001b[1;33m\u001b[0m\u001b[0m\n\u001b[0;32m   1160\u001b[0m     \u001b[1;32melse\u001b[0m\u001b[1;33m:\u001b[0m\u001b[1;33m\u001b[0m\u001b[0m\n\u001b[1;32m-> 1161\u001b[1;33m         \u001b[0msolution\u001b[0m \u001b[1;33m=\u001b[0m \u001b[0m_solve_system\u001b[0m\u001b[1;33m(\u001b[0m\u001b[0mf\u001b[0m\u001b[1;33m,\u001b[0m \u001b[0msymbols\u001b[0m\u001b[1;33m,\u001b[0m \u001b[1;33m**\u001b[0m\u001b[0mflags\u001b[0m\u001b[1;33m)\u001b[0m\u001b[1;33m\u001b[0m\u001b[0m\n\u001b[0m\u001b[0;32m   1162\u001b[0m \u001b[1;33m\u001b[0m\u001b[0m\n\u001b[0;32m   1163\u001b[0m     \u001b[1;31m#\u001b[0m\u001b[1;33m\u001b[0m\u001b[1;33m\u001b[0m\u001b[0m\n",
      "\u001b[1;32mC:\\Users\\jimmy\\AppData\\Local\\conda\\conda\\envs\\py27\\lib\\site-packages\\sympy\\solvers\\solvers.pyc\u001b[0m in \u001b[0;36m_solve_system\u001b[1;34m(exprs, symbols, **flags)\u001b[0m\n\u001b[0;32m   1901\u001b[0m                 \u001b[1;32mfor\u001b[0m \u001b[0ms\u001b[0m \u001b[1;32min\u001b[0m \u001b[0mok_syms\u001b[0m\u001b[1;33m:\u001b[0m\u001b[1;33m\u001b[0m\u001b[0m\n\u001b[0;32m   1902\u001b[0m                     \u001b[1;32mtry\u001b[0m\u001b[1;33m:\u001b[0m\u001b[1;33m\u001b[0m\u001b[0m\n\u001b[1;32m-> 1903\u001b[1;33m                         \u001b[0msoln\u001b[0m \u001b[1;33m=\u001b[0m \u001b[0m_solve\u001b[0m\u001b[1;33m(\u001b[0m\u001b[0meq2\u001b[0m\u001b[1;33m,\u001b[0m \u001b[0ms\u001b[0m\u001b[1;33m,\u001b[0m \u001b[1;33m**\u001b[0m\u001b[0mflags\u001b[0m\u001b[1;33m)\u001b[0m\u001b[1;33m\u001b[0m\u001b[0m\n\u001b[0m\u001b[0;32m   1904\u001b[0m                     \u001b[1;32mexcept\u001b[0m \u001b[0mNotImplementedError\u001b[0m\u001b[1;33m:\u001b[0m\u001b[1;33m\u001b[0m\u001b[0m\n\u001b[0;32m   1905\u001b[0m                         \u001b[1;32mcontinue\u001b[0m\u001b[1;33m\u001b[0m\u001b[0m\n",
      "\u001b[1;32mC:\\Users\\jimmy\\AppData\\Local\\conda\\conda\\envs\\py27\\lib\\site-packages\\sympy\\solvers\\solvers.pyc\u001b[0m in \u001b[0;36m_solve\u001b[1;34m(f, *symbols, **flags)\u001b[0m\n\u001b[0;32m   1743\u001b[0m         \u001b[1;31m# keep only results if the check is not False\u001b[0m\u001b[1;33m\u001b[0m\u001b[1;33m\u001b[0m\u001b[0m\n\u001b[0;32m   1744\u001b[0m         result = [r for r in result if\n\u001b[1;32m-> 1745\u001b[1;33m                   checksol(f_num, {symbol: r}, **flags) is not False]\n\u001b[0m\u001b[0;32m   1746\u001b[0m     \u001b[1;32mreturn\u001b[0m \u001b[0mresult\u001b[0m\u001b[1;33m\u001b[0m\u001b[0m\n\u001b[0;32m   1747\u001b[0m \u001b[1;33m\u001b[0m\u001b[0m\n",
      "\u001b[1;32mC:\\Users\\jimmy\\AppData\\Local\\conda\\conda\\envs\\py27\\lib\\site-packages\\sympy\\solvers\\solvers.pyc\u001b[0m in \u001b[0;36mchecksol\u001b[1;34m(f, symbol, sol, **flags)\u001b[0m\n\u001b[0;32m    298\u001b[0m             \u001b[1;31m# start over without the failed expanded form, possibly\u001b[0m\u001b[1;33m\u001b[0m\u001b[1;33m\u001b[0m\u001b[0m\n\u001b[0;32m    299\u001b[0m             \u001b[1;31m# with a simplified solution\u001b[0m\u001b[1;33m\u001b[0m\u001b[1;33m\u001b[0m\u001b[0m\n\u001b[1;32m--> 300\u001b[1;33m             \u001b[0mval\u001b[0m \u001b[1;33m=\u001b[0m \u001b[0msimplify\u001b[0m\u001b[1;33m(\u001b[0m\u001b[0mf\u001b[0m\u001b[1;33m.\u001b[0m\u001b[0msubs\u001b[0m\u001b[1;33m(\u001b[0m\u001b[0msol\u001b[0m\u001b[1;33m)\u001b[0m\u001b[1;33m)\u001b[0m\u001b[1;33m\u001b[0m\u001b[0m\n\u001b[0m\u001b[0;32m    301\u001b[0m             \u001b[1;32mif\u001b[0m \u001b[0mflags\u001b[0m\u001b[1;33m.\u001b[0m\u001b[0mget\u001b[0m\u001b[1;33m(\u001b[0m\u001b[1;34m'force'\u001b[0m\u001b[1;33m,\u001b[0m \u001b[0mTrue\u001b[0m\u001b[1;33m)\u001b[0m\u001b[1;33m:\u001b[0m\u001b[1;33m\u001b[0m\u001b[0m\n\u001b[0;32m    302\u001b[0m                 \u001b[0mval\u001b[0m\u001b[1;33m,\u001b[0m \u001b[0mreps\u001b[0m \u001b[1;33m=\u001b[0m \u001b[0mposify\u001b[0m\u001b[1;33m(\u001b[0m\u001b[0mval\u001b[0m\u001b[1;33m)\u001b[0m\u001b[1;33m\u001b[0m\u001b[0m\n",
      "\u001b[1;32mC:\\Users\\jimmy\\AppData\\Local\\conda\\conda\\envs\\py27\\lib\\site-packages\\sympy\\simplify\\simplify.pyc\u001b[0m in \u001b[0;36msimplify\u001b[1;34m(expr, ratio, measure, rational, inverse)\u001b[0m\n\u001b[0;32m    585\u001b[0m \u001b[1;33m\u001b[0m\u001b[0m\n\u001b[0;32m    586\u001b[0m     \u001b[1;32mif\u001b[0m \u001b[0mexpr\u001b[0m\u001b[1;33m.\u001b[0m\u001b[0mhas\u001b[0m\u001b[1;33m(\u001b[0m\u001b[0mTrigonometricFunction\u001b[0m\u001b[1;33m,\u001b[0m \u001b[0mHyperbolicFunction\u001b[0m\u001b[1;33m)\u001b[0m\u001b[1;33m:\u001b[0m\u001b[1;33m\u001b[0m\u001b[0m\n\u001b[1;32m--> 587\u001b[1;33m         \u001b[0mexpr\u001b[0m \u001b[1;33m=\u001b[0m \u001b[0mtrigsimp\u001b[0m\u001b[1;33m(\u001b[0m\u001b[0mexpr\u001b[0m\u001b[1;33m,\u001b[0m \u001b[0mdeep\u001b[0m\u001b[1;33m=\u001b[0m\u001b[0mTrue\u001b[0m\u001b[1;33m)\u001b[0m\u001b[1;33m\u001b[0m\u001b[0m\n\u001b[0m\u001b[0;32m    588\u001b[0m \u001b[1;33m\u001b[0m\u001b[0m\n\u001b[0;32m    589\u001b[0m     \u001b[1;32mif\u001b[0m \u001b[0mexpr\u001b[0m\u001b[1;33m.\u001b[0m\u001b[0mhas\u001b[0m\u001b[1;33m(\u001b[0m\u001b[0mlog\u001b[0m\u001b[1;33m)\u001b[0m\u001b[1;33m:\u001b[0m\u001b[1;33m\u001b[0m\u001b[0m\n",
      "\u001b[1;32mC:\\Users\\jimmy\\AppData\\Local\\conda\\conda\\envs\\py27\\lib\\site-packages\\sympy\\simplify\\trigsimp.pyc\u001b[0m in \u001b[0;36mtrigsimp\u001b[1;34m(expr, **opts)\u001b[0m\n\u001b[0;32m    511\u001b[0m                    }[method]\n\u001b[0;32m    512\u001b[0m \u001b[1;33m\u001b[0m\u001b[0m\n\u001b[1;32m--> 513\u001b[1;33m     \u001b[1;32mreturn\u001b[0m \u001b[0mtrigsimpfunc\u001b[0m\u001b[1;33m(\u001b[0m\u001b[0mexpr\u001b[0m\u001b[1;33m)\u001b[0m\u001b[1;33m\u001b[0m\u001b[0m\n\u001b[0m\u001b[0;32m    514\u001b[0m \u001b[1;33m\u001b[0m\u001b[0m\n\u001b[0;32m    515\u001b[0m \u001b[1;33m\u001b[0m\u001b[0m\n",
      "\u001b[1;32mC:\\Users\\jimmy\\AppData\\Local\\conda\\conda\\envs\\py27\\lib\\site-packages\\sympy\\simplify\\trigsimp.pyc\u001b[0m in \u001b[0;36m<lambda>\u001b[1;34m(x)\u001b[0m\n\u001b[0;32m    504\u001b[0m     trigsimpfunc = {\n\u001b[0;32m    505\u001b[0m         \u001b[1;34m'fu'\u001b[0m\u001b[1;33m:\u001b[0m \u001b[1;33m(\u001b[0m\u001b[1;32mlambda\u001b[0m \u001b[0mx\u001b[0m\u001b[1;33m:\u001b[0m \u001b[0mfu\u001b[0m\u001b[1;33m(\u001b[0m\u001b[0mx\u001b[0m\u001b[1;33m,\u001b[0m \u001b[1;33m**\u001b[0m\u001b[0mopts\u001b[0m\u001b[1;33m)\u001b[0m\u001b[1;33m)\u001b[0m\u001b[1;33m,\u001b[0m\u001b[1;33m\u001b[0m\u001b[0m\n\u001b[1;32m--> 506\u001b[1;33m         \u001b[1;34m'matching'\u001b[0m\u001b[1;33m:\u001b[0m \u001b[1;33m(\u001b[0m\u001b[1;32mlambda\u001b[0m \u001b[0mx\u001b[0m\u001b[1;33m:\u001b[0m \u001b[0mfutrig\u001b[0m\u001b[1;33m(\u001b[0m\u001b[0mx\u001b[0m\u001b[1;33m)\u001b[0m\u001b[1;33m)\u001b[0m\u001b[1;33m,\u001b[0m\u001b[1;33m\u001b[0m\u001b[0m\n\u001b[0m\u001b[0;32m    507\u001b[0m         \u001b[1;34m'groebner'\u001b[0m\u001b[1;33m:\u001b[0m \u001b[1;33m(\u001b[0m\u001b[1;32mlambda\u001b[0m \u001b[0mx\u001b[0m\u001b[1;33m:\u001b[0m \u001b[0mgroebnersimp\u001b[0m\u001b[1;33m(\u001b[0m\u001b[0mx\u001b[0m\u001b[1;33m,\u001b[0m \u001b[1;33m**\u001b[0m\u001b[0mopts\u001b[0m\u001b[1;33m)\u001b[0m\u001b[1;33m)\u001b[0m\u001b[1;33m,\u001b[0m\u001b[1;33m\u001b[0m\u001b[0m\n\u001b[0;32m    508\u001b[0m         'combined': (lambda x: futrig(groebnersimp(x,\n",
      "\u001b[1;32mC:\\Users\\jimmy\\AppData\\Local\\conda\\conda\\envs\\py27\\lib\\site-packages\\sympy\\simplify\\trigsimp.pyc\u001b[0m in \u001b[0;36mfutrig\u001b[1;34m(e, **kwargs)\u001b[0m\n\u001b[0;32m   1096\u001b[0m \u001b[1;33m\u001b[0m\u001b[0m\n\u001b[0;32m   1097\u001b[0m     \u001b[0mold\u001b[0m \u001b[1;33m=\u001b[0m \u001b[0me\u001b[0m\u001b[1;33m\u001b[0m\u001b[0m\n\u001b[1;32m-> 1098\u001b[1;33m     \u001b[0me\u001b[0m \u001b[1;33m=\u001b[0m \u001b[0mbottom_up\u001b[0m\u001b[1;33m(\u001b[0m\u001b[0me\u001b[0m\u001b[1;33m,\u001b[0m \u001b[1;32mlambda\u001b[0m \u001b[0mx\u001b[0m\u001b[1;33m:\u001b[0m \u001b[0m_futrig\u001b[0m\u001b[1;33m(\u001b[0m\u001b[0mx\u001b[0m\u001b[1;33m,\u001b[0m \u001b[1;33m**\u001b[0m\u001b[0mkwargs\u001b[0m\u001b[1;33m)\u001b[0m\u001b[1;33m)\u001b[0m\u001b[1;33m\u001b[0m\u001b[0m\n\u001b[0m\u001b[0;32m   1099\u001b[0m \u001b[1;33m\u001b[0m\u001b[0m\n\u001b[0;32m   1100\u001b[0m     \u001b[1;32mif\u001b[0m \u001b[0mkwargs\u001b[0m\u001b[1;33m.\u001b[0m\u001b[0mpop\u001b[0m\u001b[1;33m(\u001b[0m\u001b[1;34m'hyper'\u001b[0m\u001b[1;33m,\u001b[0m \u001b[0mTrue\u001b[0m\u001b[1;33m)\u001b[0m \u001b[1;32mand\u001b[0m \u001b[0me\u001b[0m\u001b[1;33m.\u001b[0m\u001b[0mhas\u001b[0m\u001b[1;33m(\u001b[0m\u001b[0mHyperbolicFunction\u001b[0m\u001b[1;33m)\u001b[0m\u001b[1;33m:\u001b[0m\u001b[1;33m\u001b[0m\u001b[0m\n",
      "\u001b[1;32mC:\\Users\\jimmy\\AppData\\Local\\conda\\conda\\envs\\py27\\lib\\site-packages\\sympy\\simplify\\simplify.pyc\u001b[0m in \u001b[0;36mbottom_up\u001b[1;34m(rv, F, atoms, nonbasic)\u001b[0m\n\u001b[0;32m   1085\u001b[0m         \u001b[1;32mif\u001b[0m \u001b[0mrv\u001b[0m\u001b[1;33m.\u001b[0m\u001b[0margs\u001b[0m\u001b[1;33m:\u001b[0m\u001b[1;33m\u001b[0m\u001b[0m\n\u001b[0;32m   1086\u001b[0m             args = tuple([bottom_up(a, F, atoms, nonbasic)\n\u001b[1;32m-> 1087\u001b[1;33m                 for a in rv.args])\n\u001b[0m\u001b[0;32m   1088\u001b[0m             \u001b[1;32mif\u001b[0m \u001b[0margs\u001b[0m \u001b[1;33m!=\u001b[0m \u001b[0mrv\u001b[0m\u001b[1;33m.\u001b[0m\u001b[0margs\u001b[0m\u001b[1;33m:\u001b[0m\u001b[1;33m\u001b[0m\u001b[0m\n\u001b[0;32m   1089\u001b[0m                 \u001b[0mrv\u001b[0m \u001b[1;33m=\u001b[0m \u001b[0mrv\u001b[0m\u001b[1;33m.\u001b[0m\u001b[0mfunc\u001b[0m\u001b[1;33m(\u001b[0m\u001b[1;33m*\u001b[0m\u001b[0margs\u001b[0m\u001b[1;33m)\u001b[0m\u001b[1;33m\u001b[0m\u001b[0m\n",
      "\u001b[1;32mC:\\Users\\jimmy\\AppData\\Local\\conda\\conda\\envs\\py27\\lib\\site-packages\\sympy\\simplify\\simplify.pyc\u001b[0m in \u001b[0;36mbottom_up\u001b[1;34m(rv, F, atoms, nonbasic)\u001b[0m\n\u001b[0;32m   1085\u001b[0m         \u001b[1;32mif\u001b[0m \u001b[0mrv\u001b[0m\u001b[1;33m.\u001b[0m\u001b[0margs\u001b[0m\u001b[1;33m:\u001b[0m\u001b[1;33m\u001b[0m\u001b[0m\n\u001b[0;32m   1086\u001b[0m             args = tuple([bottom_up(a, F, atoms, nonbasic)\n\u001b[1;32m-> 1087\u001b[1;33m                 for a in rv.args])\n\u001b[0m\u001b[0;32m   1088\u001b[0m             \u001b[1;32mif\u001b[0m \u001b[0margs\u001b[0m \u001b[1;33m!=\u001b[0m \u001b[0mrv\u001b[0m\u001b[1;33m.\u001b[0m\u001b[0margs\u001b[0m\u001b[1;33m:\u001b[0m\u001b[1;33m\u001b[0m\u001b[0m\n\u001b[0;32m   1089\u001b[0m                 \u001b[0mrv\u001b[0m \u001b[1;33m=\u001b[0m \u001b[0mrv\u001b[0m\u001b[1;33m.\u001b[0m\u001b[0mfunc\u001b[0m\u001b[1;33m(\u001b[0m\u001b[1;33m*\u001b[0m\u001b[0margs\u001b[0m\u001b[1;33m)\u001b[0m\u001b[1;33m\u001b[0m\u001b[0m\n",
      "\u001b[1;32mC:\\Users\\jimmy\\AppData\\Local\\conda\\conda\\envs\\py27\\lib\\site-packages\\sympy\\simplify\\simplify.pyc\u001b[0m in \u001b[0;36mbottom_up\u001b[1;34m(rv, F, atoms, nonbasic)\u001b[0m\n\u001b[0;32m   1088\u001b[0m             \u001b[1;32mif\u001b[0m \u001b[0margs\u001b[0m \u001b[1;33m!=\u001b[0m \u001b[0mrv\u001b[0m\u001b[1;33m.\u001b[0m\u001b[0margs\u001b[0m\u001b[1;33m:\u001b[0m\u001b[1;33m\u001b[0m\u001b[0m\n\u001b[0;32m   1089\u001b[0m                 \u001b[0mrv\u001b[0m \u001b[1;33m=\u001b[0m \u001b[0mrv\u001b[0m\u001b[1;33m.\u001b[0m\u001b[0mfunc\u001b[0m\u001b[1;33m(\u001b[0m\u001b[1;33m*\u001b[0m\u001b[0margs\u001b[0m\u001b[1;33m)\u001b[0m\u001b[1;33m\u001b[0m\u001b[0m\n\u001b[1;32m-> 1090\u001b[1;33m             \u001b[0mrv\u001b[0m \u001b[1;33m=\u001b[0m \u001b[0mF\u001b[0m\u001b[1;33m(\u001b[0m\u001b[0mrv\u001b[0m\u001b[1;33m)\u001b[0m\u001b[1;33m\u001b[0m\u001b[0m\n\u001b[0m\u001b[0;32m   1091\u001b[0m         \u001b[1;32melif\u001b[0m \u001b[0matoms\u001b[0m\u001b[1;33m:\u001b[0m\u001b[1;33m\u001b[0m\u001b[0m\n\u001b[0;32m   1092\u001b[0m             \u001b[0mrv\u001b[0m \u001b[1;33m=\u001b[0m \u001b[0mF\u001b[0m\u001b[1;33m(\u001b[0m\u001b[0mrv\u001b[0m\u001b[1;33m)\u001b[0m\u001b[1;33m\u001b[0m\u001b[0m\n",
      "\u001b[1;32mC:\\Users\\jimmy\\AppData\\Local\\conda\\conda\\envs\\py27\\lib\\site-packages\\sympy\\simplify\\trigsimp.pyc\u001b[0m in \u001b[0;36m<lambda>\u001b[1;34m(x)\u001b[0m\n\u001b[0;32m   1096\u001b[0m \u001b[1;33m\u001b[0m\u001b[0m\n\u001b[0;32m   1097\u001b[0m     \u001b[0mold\u001b[0m \u001b[1;33m=\u001b[0m \u001b[0me\u001b[0m\u001b[1;33m\u001b[0m\u001b[0m\n\u001b[1;32m-> 1098\u001b[1;33m     \u001b[0me\u001b[0m \u001b[1;33m=\u001b[0m \u001b[0mbottom_up\u001b[0m\u001b[1;33m(\u001b[0m\u001b[0me\u001b[0m\u001b[1;33m,\u001b[0m \u001b[1;32mlambda\u001b[0m \u001b[0mx\u001b[0m\u001b[1;33m:\u001b[0m \u001b[0m_futrig\u001b[0m\u001b[1;33m(\u001b[0m\u001b[0mx\u001b[0m\u001b[1;33m,\u001b[0m \u001b[1;33m**\u001b[0m\u001b[0mkwargs\u001b[0m\u001b[1;33m)\u001b[0m\u001b[1;33m)\u001b[0m\u001b[1;33m\u001b[0m\u001b[0m\n\u001b[0m\u001b[0;32m   1099\u001b[0m \u001b[1;33m\u001b[0m\u001b[0m\n\u001b[0;32m   1100\u001b[0m     \u001b[1;32mif\u001b[0m \u001b[0mkwargs\u001b[0m\u001b[1;33m.\u001b[0m\u001b[0mpop\u001b[0m\u001b[1;33m(\u001b[0m\u001b[1;34m'hyper'\u001b[0m\u001b[1;33m,\u001b[0m \u001b[0mTrue\u001b[0m\u001b[1;33m)\u001b[0m \u001b[1;32mand\u001b[0m \u001b[0me\u001b[0m\u001b[1;33m.\u001b[0m\u001b[0mhas\u001b[0m\u001b[1;33m(\u001b[0m\u001b[0mHyperbolicFunction\u001b[0m\u001b[1;33m)\u001b[0m\u001b[1;33m:\u001b[0m\u001b[1;33m\u001b[0m\u001b[0m\n",
      "\u001b[1;32mC:\\Users\\jimmy\\AppData\\Local\\conda\\conda\\envs\\py27\\lib\\site-packages\\sympy\\simplify\\trigsimp.pyc\u001b[0m in \u001b[0;36m_futrig\u001b[1;34m(e, **kwargs)\u001b[0m\n\u001b[0;32m   1164\u001b[0m             factor_terms, TR12(x), trigs)],  # expand tan of sum\n\u001b[0;32m   1165\u001b[0m         )]\n\u001b[1;32m-> 1166\u001b[1;33m     \u001b[0me\u001b[0m \u001b[1;33m=\u001b[0m \u001b[0mgreedy\u001b[0m\u001b[1;33m(\u001b[0m\u001b[0mtree\u001b[0m\u001b[1;33m,\u001b[0m \u001b[0mobjective\u001b[0m\u001b[1;33m=\u001b[0m\u001b[0mLops\u001b[0m\u001b[1;33m)\u001b[0m\u001b[1;33m(\u001b[0m\u001b[0me\u001b[0m\u001b[1;33m)\u001b[0m\u001b[1;33m\u001b[0m\u001b[0m\n\u001b[0m\u001b[0;32m   1167\u001b[0m     \u001b[1;32mreturn\u001b[0m \u001b[0mcoeff\u001b[0m\u001b[1;33m*\u001b[0m\u001b[0me\u001b[0m\u001b[1;33m\u001b[0m\u001b[0m\n\u001b[0;32m   1168\u001b[0m \u001b[1;33m\u001b[0m\u001b[0m\n",
      "\u001b[1;32mC:\\Users\\jimmy\\AppData\\Local\\conda\\conda\\envs\\py27\\lib\\site-packages\\sympy\\strategies\\core.pyc\u001b[0m in \u001b[0;36mminrule\u001b[1;34m(expr)\u001b[0m\n\u001b[0;32m    115\u001b[0m     \u001b[0mobjective\u001b[0m \u001b[1;33m=\u001b[0m \u001b[0mkwargs\u001b[0m\u001b[1;33m.\u001b[0m\u001b[0mget\u001b[0m\u001b[1;33m(\u001b[0m\u001b[1;34m'objective'\u001b[0m\u001b[1;33m,\u001b[0m \u001b[0midentity\u001b[0m\u001b[1;33m)\u001b[0m\u001b[1;33m\u001b[0m\u001b[0m\n\u001b[0;32m    116\u001b[0m     \u001b[1;32mdef\u001b[0m \u001b[0mminrule\u001b[0m\u001b[1;33m(\u001b[0m\u001b[0mexpr\u001b[0m\u001b[1;33m)\u001b[0m\u001b[1;33m:\u001b[0m\u001b[1;33m\u001b[0m\u001b[0m\n\u001b[1;32m--> 117\u001b[1;33m         \u001b[1;32mreturn\u001b[0m \u001b[0mmin\u001b[0m\u001b[1;33m(\u001b[0m\u001b[1;33m[\u001b[0m\u001b[0mrule\u001b[0m\u001b[1;33m(\u001b[0m\u001b[0mexpr\u001b[0m\u001b[1;33m)\u001b[0m \u001b[1;32mfor\u001b[0m \u001b[0mrule\u001b[0m \u001b[1;32min\u001b[0m \u001b[0mrules\u001b[0m\u001b[1;33m]\u001b[0m\u001b[1;33m,\u001b[0m \u001b[0mkey\u001b[0m\u001b[1;33m=\u001b[0m\u001b[0mobjective\u001b[0m\u001b[1;33m)\u001b[0m\u001b[1;33m\u001b[0m\u001b[0m\n\u001b[0m\u001b[0;32m    118\u001b[0m     \u001b[1;32mreturn\u001b[0m \u001b[0mminrule\u001b[0m\u001b[1;33m\u001b[0m\u001b[0m\n",
      "\u001b[1;32mC:\\Users\\jimmy\\AppData\\Local\\conda\\conda\\envs\\py27\\lib\\site-packages\\sympy\\strategies\\core.pyc\u001b[0m in \u001b[0;36mchain_rl\u001b[1;34m(expr)\u001b[0m\n\u001b[0;32m     42\u001b[0m     \u001b[1;32mdef\u001b[0m \u001b[0mchain_rl\u001b[0m\u001b[1;33m(\u001b[0m\u001b[0mexpr\u001b[0m\u001b[1;33m)\u001b[0m\u001b[1;33m:\u001b[0m\u001b[1;33m\u001b[0m\u001b[0m\n\u001b[0;32m     43\u001b[0m         \u001b[1;32mfor\u001b[0m \u001b[0mrule\u001b[0m \u001b[1;32min\u001b[0m \u001b[0mrules\u001b[0m\u001b[1;33m:\u001b[0m\u001b[1;33m\u001b[0m\u001b[0m\n\u001b[1;32m---> 44\u001b[1;33m             \u001b[0mexpr\u001b[0m \u001b[1;33m=\u001b[0m \u001b[0mrule\u001b[0m\u001b[1;33m(\u001b[0m\u001b[0mexpr\u001b[0m\u001b[1;33m)\u001b[0m\u001b[1;33m\u001b[0m\u001b[0m\n\u001b[0m\u001b[0;32m     45\u001b[0m         \u001b[1;32mreturn\u001b[0m \u001b[0mexpr\u001b[0m\u001b[1;33m\u001b[0m\u001b[0m\n\u001b[0;32m     46\u001b[0m     \u001b[1;32mreturn\u001b[0m \u001b[0mchain_rl\u001b[0m\u001b[1;33m\u001b[0m\u001b[0m\n",
      "\u001b[1;32mC:\\Users\\jimmy\\AppData\\Local\\conda\\conda\\envs\\py27\\lib\\site-packages\\sympy\\strategies\\core.pyc\u001b[0m in \u001b[0;36mminrule\u001b[1;34m(expr)\u001b[0m\n\u001b[0;32m    115\u001b[0m     \u001b[0mobjective\u001b[0m \u001b[1;33m=\u001b[0m \u001b[0mkwargs\u001b[0m\u001b[1;33m.\u001b[0m\u001b[0mget\u001b[0m\u001b[1;33m(\u001b[0m\u001b[1;34m'objective'\u001b[0m\u001b[1;33m,\u001b[0m \u001b[0midentity\u001b[0m\u001b[1;33m)\u001b[0m\u001b[1;33m\u001b[0m\u001b[0m\n\u001b[0;32m    116\u001b[0m     \u001b[1;32mdef\u001b[0m \u001b[0mminrule\u001b[0m\u001b[1;33m(\u001b[0m\u001b[0mexpr\u001b[0m\u001b[1;33m)\u001b[0m\u001b[1;33m:\u001b[0m\u001b[1;33m\u001b[0m\u001b[0m\n\u001b[1;32m--> 117\u001b[1;33m         \u001b[1;32mreturn\u001b[0m \u001b[0mmin\u001b[0m\u001b[1;33m(\u001b[0m\u001b[1;33m[\u001b[0m\u001b[0mrule\u001b[0m\u001b[1;33m(\u001b[0m\u001b[0mexpr\u001b[0m\u001b[1;33m)\u001b[0m \u001b[1;32mfor\u001b[0m \u001b[0mrule\u001b[0m \u001b[1;32min\u001b[0m \u001b[0mrules\u001b[0m\u001b[1;33m]\u001b[0m\u001b[1;33m,\u001b[0m \u001b[0mkey\u001b[0m\u001b[1;33m=\u001b[0m\u001b[0mobjective\u001b[0m\u001b[1;33m)\u001b[0m\u001b[1;33m\u001b[0m\u001b[0m\n\u001b[0m\u001b[0;32m    118\u001b[0m     \u001b[1;32mreturn\u001b[0m \u001b[0mminrule\u001b[0m\u001b[1;33m\u001b[0m\u001b[0m\n",
      "\u001b[1;32mC:\\Users\\jimmy\\AppData\\Local\\conda\\conda\\envs\\py27\\lib\\site-packages\\sympy\\simplify\\trigsimp.pyc\u001b[0m in \u001b[0;36m<lambda>\u001b[1;34m(x)\u001b[0m\n\u001b[0;32m   1124\u001b[0m         \u001b[0mcoeff\u001b[0m \u001b[1;33m=\u001b[0m \u001b[0mS\u001b[0m\u001b[1;33m.\u001b[0m\u001b[0mOne\u001b[0m\u001b[1;33m\u001b[0m\u001b[0m\n\u001b[0;32m   1125\u001b[0m \u001b[1;33m\u001b[0m\u001b[0m\n\u001b[1;32m-> 1126\u001b[1;33m     \u001b[0mLops\u001b[0m \u001b[1;33m=\u001b[0m \u001b[1;32mlambda\u001b[0m \u001b[0mx\u001b[0m\u001b[1;33m:\u001b[0m \u001b[1;33m(\u001b[0m\u001b[0mL\u001b[0m\u001b[1;33m(\u001b[0m\u001b[0mx\u001b[0m\u001b[1;33m)\u001b[0m\u001b[1;33m,\u001b[0m \u001b[0mx\u001b[0m\u001b[1;33m.\u001b[0m\u001b[0mcount_ops\u001b[0m\u001b[1;33m(\u001b[0m\u001b[1;33m)\u001b[0m\u001b[1;33m,\u001b[0m \u001b[0m_nodes\u001b[0m\u001b[1;33m(\u001b[0m\u001b[0mx\u001b[0m\u001b[1;33m)\u001b[0m\u001b[1;33m,\u001b[0m \u001b[0mlen\u001b[0m\u001b[1;33m(\u001b[0m\u001b[0mx\u001b[0m\u001b[1;33m.\u001b[0m\u001b[0margs\u001b[0m\u001b[1;33m)\u001b[0m\u001b[1;33m,\u001b[0m \u001b[0mx\u001b[0m\u001b[1;33m.\u001b[0m\u001b[0mis_Add\u001b[0m\u001b[1;33m)\u001b[0m\u001b[1;33m\u001b[0m\u001b[0m\n\u001b[0m\u001b[0;32m   1127\u001b[0m     \u001b[0mtrigs\u001b[0m \u001b[1;33m=\u001b[0m \u001b[1;32mlambda\u001b[0m \u001b[0mx\u001b[0m\u001b[1;33m:\u001b[0m \u001b[0mx\u001b[0m\u001b[1;33m.\u001b[0m\u001b[0mhas\u001b[0m\u001b[1;33m(\u001b[0m\u001b[0mTrigonometricFunction\u001b[0m\u001b[1;33m)\u001b[0m\u001b[1;33m\u001b[0m\u001b[0m\n\u001b[0;32m   1128\u001b[0m \u001b[1;33m\u001b[0m\u001b[0m\n",
      "\u001b[1;32mC:\\Users\\jimmy\\AppData\\Local\\conda\\conda\\envs\\py27\\lib\\site-packages\\sympy\\simplify\\fu.pyc\u001b[0m in \u001b[0;36mL\u001b[1;34m(rv)\u001b[0m\n\u001b[0;32m   1643\u001b[0m     \u001b[1;36m2\u001b[0m\u001b[1;33m\u001b[0m\u001b[0m\n\u001b[0;32m   1644\u001b[0m     \"\"\"\n\u001b[1;32m-> 1645\u001b[1;33m     \u001b[1;32mreturn\u001b[0m \u001b[0mS\u001b[0m\u001b[1;33m(\u001b[0m\u001b[0mrv\u001b[0m\u001b[1;33m.\u001b[0m\u001b[0mcount\u001b[0m\u001b[1;33m(\u001b[0m\u001b[0mTrigonometricFunction\u001b[0m\u001b[1;33m)\u001b[0m\u001b[1;33m)\u001b[0m\u001b[1;33m\u001b[0m\u001b[0m\n\u001b[0m\u001b[0;32m   1646\u001b[0m \u001b[1;33m\u001b[0m\u001b[0m\n\u001b[0;32m   1647\u001b[0m \u001b[1;33m\u001b[0m\u001b[0m\n",
      "\u001b[1;32mC:\\Users\\jimmy\\AppData\\Local\\conda\\conda\\envs\\py27\\lib\\site-packages\\sympy\\core\\basic.pyc\u001b[0m in \u001b[0;36mcount\u001b[1;34m(self, query)\u001b[0m\n\u001b[0;32m   1461\u001b[0m         \u001b[1;34m\"\"\"Count the number of matching subexpressions. \"\"\"\u001b[0m\u001b[1;33m\u001b[0m\u001b[0m\n\u001b[0;32m   1462\u001b[0m         \u001b[0mquery\u001b[0m \u001b[1;33m=\u001b[0m \u001b[0m_make_find_query\u001b[0m\u001b[1;33m(\u001b[0m\u001b[0mquery\u001b[0m\u001b[1;33m)\u001b[0m\u001b[1;33m\u001b[0m\u001b[0m\n\u001b[1;32m-> 1463\u001b[1;33m         \u001b[1;32mreturn\u001b[0m \u001b[0msum\u001b[0m\u001b[1;33m(\u001b[0m\u001b[0mbool\u001b[0m\u001b[1;33m(\u001b[0m\u001b[0mquery\u001b[0m\u001b[1;33m(\u001b[0m\u001b[0msub\u001b[0m\u001b[1;33m)\u001b[0m\u001b[1;33m)\u001b[0m \u001b[1;32mfor\u001b[0m \u001b[0msub\u001b[0m \u001b[1;32min\u001b[0m \u001b[0mpreorder_traversal\u001b[0m\u001b[1;33m(\u001b[0m\u001b[0mself\u001b[0m\u001b[1;33m)\u001b[0m\u001b[1;33m)\u001b[0m\u001b[1;33m\u001b[0m\u001b[0m\n\u001b[0m\u001b[0;32m   1464\u001b[0m \u001b[1;33m\u001b[0m\u001b[0m\n\u001b[0;32m   1465\u001b[0m     \u001b[1;32mdef\u001b[0m \u001b[0mmatches\u001b[0m\u001b[1;33m(\u001b[0m\u001b[0mself\u001b[0m\u001b[1;33m,\u001b[0m \u001b[0mexpr\u001b[0m\u001b[1;33m,\u001b[0m \u001b[0mrepl_dict\u001b[0m\u001b[1;33m=\u001b[0m\u001b[1;33m{\u001b[0m\u001b[1;33m}\u001b[0m\u001b[1;33m,\u001b[0m \u001b[0mold\u001b[0m\u001b[1;33m=\u001b[0m\u001b[0mFalse\u001b[0m\u001b[1;33m)\u001b[0m\u001b[1;33m:\u001b[0m\u001b[1;33m\u001b[0m\u001b[0m\n",
      "\u001b[1;32mC:\\Users\\jimmy\\AppData\\Local\\conda\\conda\\envs\\py27\\lib\\site-packages\\sympy\\core\\basic.pyc\u001b[0m in \u001b[0;36m<genexpr>\u001b[1;34m((sub,))\u001b[0m\n\u001b[0;32m   1461\u001b[0m         \u001b[1;34m\"\"\"Count the number of matching subexpressions. \"\"\"\u001b[0m\u001b[1;33m\u001b[0m\u001b[0m\n\u001b[0;32m   1462\u001b[0m         \u001b[0mquery\u001b[0m \u001b[1;33m=\u001b[0m \u001b[0m_make_find_query\u001b[0m\u001b[1;33m(\u001b[0m\u001b[0mquery\u001b[0m\u001b[1;33m)\u001b[0m\u001b[1;33m\u001b[0m\u001b[0m\n\u001b[1;32m-> 1463\u001b[1;33m         \u001b[1;32mreturn\u001b[0m \u001b[0msum\u001b[0m\u001b[1;33m(\u001b[0m\u001b[0mbool\u001b[0m\u001b[1;33m(\u001b[0m\u001b[0mquery\u001b[0m\u001b[1;33m(\u001b[0m\u001b[0msub\u001b[0m\u001b[1;33m)\u001b[0m\u001b[1;33m)\u001b[0m \u001b[1;32mfor\u001b[0m \u001b[0msub\u001b[0m \u001b[1;32min\u001b[0m \u001b[0mpreorder_traversal\u001b[0m\u001b[1;33m(\u001b[0m\u001b[0mself\u001b[0m\u001b[1;33m)\u001b[0m\u001b[1;33m)\u001b[0m\u001b[1;33m\u001b[0m\u001b[0m\n\u001b[0m\u001b[0;32m   1464\u001b[0m \u001b[1;33m\u001b[0m\u001b[0m\n\u001b[0;32m   1465\u001b[0m     \u001b[1;32mdef\u001b[0m \u001b[0mmatches\u001b[0m\u001b[1;33m(\u001b[0m\u001b[0mself\u001b[0m\u001b[1;33m,\u001b[0m \u001b[0mexpr\u001b[0m\u001b[1;33m,\u001b[0m \u001b[0mrepl_dict\u001b[0m\u001b[1;33m=\u001b[0m\u001b[1;33m{\u001b[0m\u001b[1;33m}\u001b[0m\u001b[1;33m,\u001b[0m \u001b[0mold\u001b[0m\u001b[1;33m=\u001b[0m\u001b[0mFalse\u001b[0m\u001b[1;33m)\u001b[0m\u001b[1;33m:\u001b[0m\u001b[1;33m\u001b[0m\u001b[0m\n",
      "\u001b[1;31mKeyboardInterrupt\u001b[0m: "
     ]
    }
   ],
   "source": [
    "g.Apply_Frame_Analysis()"
   ]
  },
  {
   "cell_type": "markdown",
   "metadata": {},
   "source": [
    "# Recurrence Relations for Differential Invariants\n",
    "Determining the Mauer-Cartan invariants that show up in the recurrence relations for differential invariants requires solving an overdetermined system of equations.  Symbolic algebra systems can run into various problems when trying to solve such systems.  For this reason (and due to the relative ease) we will solve for the invariants by splitting the calculation into various steps."
   ]
  },
  {
   "cell_type": "code",
   "execution_count": 69,
   "metadata": {
    "collapsed": true
   },
   "outputs": [],
   "source": [
    "F11 = Function('F11')('x')\n",
    "F12 = Function('F12')('x')\n",
    "F13 = Function('F13')('x')\n",
    "F21 = Function('F21')('x')\n",
    "F22 = Function('F22')('x')\n",
    "F23 = Function('F23')('x')\n",
    "F31 = Function('F31')('x')\n",
    "F32 = Function('F32')('x')\n",
    "F33 = Function('F33')('x')\n",
    "\n",
    "F = Matrix([[F11,F12,F13],[F21,F22,F23],[F31,F32,F33]])\n",
    "\n",
    "F_new = R*F"
   ]
  },
  {
   "cell_type": "code",
   "execution_count": 71,
   "metadata": {},
   "outputs": [
    {
     "data": {
      "image/png": "[encoded data removed]",
      "text/latex": [
       "$$\\left[\\begin{matrix}\\frac{\\sin{\\left (\\psi_{1} \\right )} \\cos{\\left (\\psi_{2} \\right )} \\frac{d}{d x} \\operatorname{F_{21}}{\\left (x \\right )} + \\sin{\\left (\\psi_{2} \\right )} \\frac{d}{d x} \\operatorname{F_{31}}{\\left (x \\right )} - \\cos{\\left (\\psi_{1} \\right )} \\cos{\\left (\\psi_{2} \\right )} \\frac{d}{d x} \\operatorname{F_{11}}{\\left (x \\right )}}{\\sin{\\left (\\psi_{1} \\right )} \\cos{\\left (\\psi_{2} \\right )} \\frac{d}{d x} y{\\left (x \\right )} + \\sin{\\left (\\psi_{2} \\right )} \\frac{d}{d x} u{\\left (x \\right )} - \\cos{\\left (\\psi_{1} \\right )} \\cos{\\left (\\psi_{2} \\right )}} & \\frac{\\sin{\\left (\\psi_{1} \\right )} \\cos{\\left (\\psi_{2} \\right )} \\frac{d}{d x} \\operatorname{F_{22}}{\\left (x \\right )} + \\sin{\\left (\\psi_{2} \\right )} \\frac{d}{d x} \\operatorname{F_{32}}{\\left (x \\right )} - \\cos{\\left (\\psi_{1} \\right )} \\cos{\\left (\\psi_{2} \\right )} \\frac{d}{d x} \\operatorname{F_{12}}{\\left (x \\right )}}{\\sin{\\left (\\psi_{1} \\right )} \\cos{\\left (\\psi_{2} \\right )} \\frac{d}{d x} y{\\left (x \\right )} + \\sin{\\left (\\psi_{2} \\right )} \\frac{d}{d x} u{\\left (x \\right )} - \\cos{\\left (\\psi_{1} \\right )} \\cos{\\left (\\psi_{2} \\right )}} & \\frac{\\sin{\\left (\\psi_{1} \\right )} \\cos{\\left (\\psi_{2} \\right )} \\frac{d}{d x} \\operatorname{F_{23}}{\\left (x \\right )} + \\sin{\\left (\\psi_{2} \\right )} \\frac{d}{d x} \\operatorname{F_{33}}{\\left (x \\right )} - \\cos{\\left (\\psi_{1} \\right )} \\cos{\\left (\\psi_{2} \\right )} \\frac{d}{d x} \\operatorname{F_{13}}{\\left (x \\right )}}{\\sin{\\left (\\psi_{1} \\right )} \\cos{\\left (\\psi_{2} \\right )} \\frac{d}{d x} y{\\left (x \\right )} + \\sin{\\left (\\psi_{2} \\right )} \\frac{d}{d x} u{\\left (x \\right )} - \\cos{\\left (\\psi_{1} \\right )} \\cos{\\left (\\psi_{2} \\right )}}\\\\\\frac{- \\left(\\sin{\\left (\\psi_{1} \\right )} \\cos{\\left (\\psi_{3} \\right )} - \\sin{\\left (\\psi_{2} \\right )} \\sin{\\left (\\psi_{3} \\right )} \\cos{\\left (\\psi_{1} \\right )}\\right) \\frac{d}{d x} \\operatorname{F_{11}}{\\left (x \\right )} - \\left(\\sin{\\left (\\psi_{1} \\right )} \\sin{\\left (\\psi_{2} \\right )} \\sin{\\left (\\psi_{3} \\right )} + \\cos{\\left (\\psi_{1} \\right )} \\cos{\\left (\\psi_{3} \\right )}\\right) \\frac{d}{d x} \\operatorname{F_{21}}{\\left (x \\right )} + \\sin{\\left (\\psi_{3} \\right )} \\cos{\\left (\\psi_{2} \\right )} \\frac{d}{d x} \\operatorname{F_{31}}{\\left (x \\right )}}{\\sin{\\left (\\psi_{1} \\right )} \\cos{\\left (\\psi_{2} \\right )} \\frac{d}{d x} y{\\left (x \\right )} + \\sin{\\left (\\psi_{2} \\right )} \\frac{d}{d x} u{\\left (x \\right )} - \\cos{\\left (\\psi_{1} \\right )} \\cos{\\left (\\psi_{2} \\right )}} & \\frac{- \\left(\\sin{\\left (\\psi_{1} \\right )} \\cos{\\left (\\psi_{3} \\right )} - \\sin{\\left (\\psi_{2} \\right )} \\sin{\\left (\\psi_{3} \\right )} \\cos{\\left (\\psi_{1} \\right )}\\right) \\frac{d}{d x} \\operatorname{F_{12}}{\\left (x \\right )} - \\left(\\sin{\\left (\\psi_{1} \\right )} \\sin{\\left (\\psi_{2} \\right )} \\sin{\\left (\\psi_{3} \\right )} + \\cos{\\left (\\psi_{1} \\right )} \\cos{\\left (\\psi_{3} \\right )}\\right) \\frac{d}{d x} \\operatorname{F_{22}}{\\left (x \\right )} + \\sin{\\left (\\psi_{3} \\right )} \\cos{\\left (\\psi_{2} \\right )} \\frac{d}{d x} \\operatorname{F_{32}}{\\left (x \\right )}}{\\sin{\\left (\\psi_{1} \\right )} \\cos{\\left (\\psi_{2} \\right )} \\frac{d}{d x} y{\\left (x \\right )} + \\sin{\\left (\\psi_{2} \\right )} \\frac{d}{d x} u{\\left (x \\right )} - \\cos{\\left (\\psi_{1} \\right )} \\cos{\\left (\\psi_{2} \\right )}} & \\frac{- \\left(\\sin{\\left (\\psi_{1} \\right )} \\cos{\\left (\\psi_{3} \\right )} - \\sin{\\left (\\psi_{2} \\right )} \\sin{\\left (\\psi_{3} \\right )} \\cos{\\left (\\psi_{1} \\right )}\\right) \\frac{d}{d x} \\operatorname{F_{13}}{\\left (x \\right )} - \\left(\\sin{\\left (\\psi_{1} \\right )} \\sin{\\left (\\psi_{2} \\right )} \\sin{\\left (\\psi_{3} \\right )} + \\cos{\\left (\\psi_{1} \\right )} \\cos{\\left (\\psi_{3} \\right )}\\right) \\frac{d}{d x} \\operatorname{F_{23}}{\\left (x \\right )} + \\sin{\\left (\\psi_{3} \\right )} \\cos{\\left (\\psi_{2} \\right )} \\frac{d}{d x} \\operatorname{F_{33}}{\\left (x \\right )}}{\\sin{\\left (\\psi_{1} \\right )} \\cos{\\left (\\psi_{2} \\right )} \\frac{d}{d x} y{\\left (x \\right )} + \\sin{\\left (\\psi_{2} \\right )} \\frac{d}{d x} u{\\left (x \\right )} - \\cos{\\left (\\psi_{1} \\right )} \\cos{\\left (\\psi_{2} \\right )}}\\\\\\frac{- \\left(\\sin{\\left (\\psi_{1} \\right )} \\sin{\\left (\\psi_{3} \\right )} + \\sin{\\left (\\psi_{2} \\right )} \\cos{\\left (\\psi_{1} \\right )} \\cos{\\left (\\psi_{3} \\right )}\\right) \\frac{d}{d x} \\operatorname{F_{11}}{\\left (x \\right )} + \\left(\\sin{\\left (\\psi_{1} \\right )} \\sin{\\left (\\psi_{2} \\right )} \\cos{\\left (\\psi_{3} \\right )} - \\sin{\\left (\\psi_{3} \\right )} \\cos{\\left (\\psi_{1} \\right )}\\right) \\frac{d}{d x} \\operatorname{F_{21}}{\\left (x \\right )} - \\cos{\\left (\\psi_{2} \\right )} \\cos{\\left (\\psi_{3} \\right )} \\frac{d}{d x} \\operatorname{F_{31}}{\\left (x \\right )}}{\\sin{\\left (\\psi_{1} \\right )} \\cos{\\left (\\psi_{2} \\right )} \\frac{d}{d x} y{\\left (x \\right )} + \\sin{\\left (\\psi_{2} \\right )} \\frac{d}{d x} u{\\left (x \\right )} - \\cos{\\left (\\psi_{1} \\right )} \\cos{\\left (\\psi_{2} \\right )}} & \\frac{- \\left(\\sin{\\left (\\psi_{1} \\right )} \\sin{\\left (\\psi_{3} \\right )} + \\sin{\\left (\\psi_{2} \\right )} \\cos{\\left (\\psi_{1} \\right )} \\cos{\\left (\\psi_{3} \\right )}\\right) \\frac{d}{d x} \\operatorname{F_{12}}{\\left (x \\right )} + \\left(\\sin{\\left (\\psi_{1} \\right )} \\sin{\\left (\\psi_{2} \\right )} \\cos{\\left (\\psi_{3} \\right )} - \\sin{\\left (\\psi_{3} \\right )} \\cos{\\left (\\psi_{1} \\right )}\\right) \\frac{d}{d x} \\operatorname{F_{22}}{\\left (x \\right )} - \\cos{\\left (\\psi_{2} \\right )} \\cos{\\left (\\psi_{3} \\right )} \\frac{d}{d x} \\operatorname{F_{32}}{\\left (x \\right )}}{\\sin{\\left (\\psi_{1} \\right )} \\cos{\\left (\\psi_{2} \\right )} \\frac{d}{d x} y{\\left (x \\right )} + \\sin{\\left (\\psi_{2} \\right )} \\frac{d}{d x} u{\\left (x \\right )} - \\cos{\\left (\\psi_{1} \\right )} \\cos{\\left (\\psi_{2} \\right )}} & \\frac{- \\left(\\sin{\\left (\\psi_{1} \\right )} \\sin{\\left (\\psi_{3} \\right )} + \\sin{\\left (\\psi_{2} \\right )} \\cos{\\left (\\psi_{1} \\right )} \\cos{\\left (\\psi_{3} \\right )}\\right) \\frac{d}{d x} \\operatorname{F_{13}}{\\left (x \\right )} + \\left(\\sin{\\left (\\psi_{1} \\right )} \\sin{\\left (\\psi_{2} \\right )} \\cos{\\left (\\psi_{3} \\right )} - \\sin{\\left (\\psi_{3} \\right )} \\cos{\\left (\\psi_{1} \\right )}\\right) \\frac{d}{d x} \\operatorname{F_{23}}{\\left (x \\right )} - \\cos{\\left (\\psi_{2} \\right )} \\cos{\\left (\\psi_{3} \\right )} \\frac{d}{d x} \\operatorname{F_{33}}{\\left (x \\right )}}{\\sin{\\left (\\psi_{1} \\right )} \\cos{\\left (\\psi_{2} \\right )} \\frac{d}{d x} y{\\left (x \\right )} + \\sin{\\left (\\psi_{2} \\right )} \\frac{d}{d x} u{\\left (x \\right )} - \\cos{\\left (\\psi_{1} \\right )} \\cos{\\left (\\psi_{2} \\right )}}\\end{matrix}\\right]$$"
      ],
      "text/plain": [
       "⎡                                                 d                    d      \n",
       "⎢                                 sin(ψ₁)⋅cos(ψ₂)⋅──(F₂₁(x)) + sin(ψ₂)⋅──(F₃₁(\n",
       "⎢                                                 dx                   dx     \n",
       "⎢                                 ────────────────────────────────────────────\n",
       "⎢                                                        d                  d \n",
       "⎢                                        sin(ψ₁)⋅cos(ψ₂)⋅──(y(x)) + sin(ψ₂)⋅──\n",
       "⎢                                                        dx                 dx\n",
       "⎢                                                                             \n",
       "⎢                                              d                              \n",
       "⎢- (sin(ψ₁)⋅cos(ψ₃) - sin(ψ₂)⋅sin(ψ₃)⋅cos(ψ₁))⋅──(F₁₁(x)) - (sin(ψ₁)⋅sin(ψ₂)⋅s\n",
       "⎢                                              dx                             \n",
       "⎢─────────────────────────────────────────────────────────────────────────────\n",
       "⎢                                                        d                  d \n",
       "⎢                                        sin(ψ₁)⋅cos(ψ₂)⋅──(y(x)) + sin(ψ₂)⋅──\n",
       "⎢                                                        dx                 dx\n",
       "⎢                                                                             \n",
       "⎢                                              d                              \n",
       "⎢- (sin(ψ₁)⋅sin(ψ₃) + sin(ψ₂)⋅cos(ψ₁)⋅cos(ψ₃))⋅──(F₁₁(x)) + (sin(ψ₁)⋅sin(ψ₂)⋅c\n",
       "⎢                                              dx                             \n",
       "⎢─────────────────────────────────────────────────────────────────────────────\n",
       "⎢                                                        d                  d \n",
       "⎢                                        sin(ψ₁)⋅cos(ψ₂)⋅──(y(x)) + sin(ψ₂)⋅──\n",
       "⎣                                                        dx                 dx\n",
       "\n",
       "                      d                                                       \n",
       "x)) - cos(ψ₁)⋅cos(ψ₂)⋅──(F₁₁(x))                                              \n",
       "                      dx                                                      \n",
       "────────────────────────────────                                              \n",
       "                                                                              \n",
       "(u(x)) - cos(ψ₁)⋅cos(ψ₂)                                                      \n",
       "                                                                              \n",
       "                                                                              \n",
       "                          d                            d                      \n",
       "in(ψ₃) + cos(ψ₁)⋅cos(ψ₃))⋅──(F₂₁(x)) + sin(ψ₃)⋅cos(ψ₂)⋅──(F₃₁(x))  - (sin(ψ₁)⋅\n",
       "                          dx                           dx                     \n",
       "─────────────────────────────────────────────────────────────────  ───────────\n",
       "                                                                              \n",
       "(u(x)) - cos(ψ₁)⋅cos(ψ₂)                                                      \n",
       "                                                                              \n",
       "                                                                              \n",
       "                          d                            d                      \n",
       "os(ψ₃) - sin(ψ₃)⋅cos(ψ₁))⋅──(F₂₁(x)) - cos(ψ₂)⋅cos(ψ₃)⋅──(F₃₁(x))  - (sin(ψ₁)⋅\n",
       "                          dx                           dx                     \n",
       "─────────────────────────────────────────────────────────────────  ───────────\n",
       "                                                                              \n",
       "(u(x)) - cos(ψ₁)⋅cos(ψ₂)                                                      \n",
       "                                                                              \n",
       "\n",
       "                                      d                    d                  \n",
       "                      sin(ψ₁)⋅cos(ψ₂)⋅──(F₂₂(x)) + sin(ψ₂)⋅──(F₃₂(x)) - cos(ψ₁\n",
       "                                      dx                   dx                 \n",
       "                      ────────────────────────────────────────────────────────\n",
       "                                             d                  d             \n",
       "                             sin(ψ₁)⋅cos(ψ₂)⋅──(y(x)) + sin(ψ₂)⋅──(u(x)) - cos\n",
       "                                             dx                 dx            \n",
       "                                                                              \n",
       "                                   d                                          \n",
       "cos(ψ₃) - sin(ψ₂)⋅sin(ψ₃)⋅cos(ψ₁))⋅──(F₁₂(x)) - (sin(ψ₁)⋅sin(ψ₂)⋅sin(ψ₃) + cos\n",
       "                                   dx                                         \n",
       "──────────────────────────────────────────────────────────────────────────────\n",
       "                                             d                  d             \n",
       "                             sin(ψ₁)⋅cos(ψ₂)⋅──(y(x)) + sin(ψ₂)⋅──(u(x)) - cos\n",
       "                                             dx                 dx            \n",
       "                                                                              \n",
       "                                   d                                          \n",
       "sin(ψ₃) + sin(ψ₂)⋅cos(ψ₁)⋅cos(ψ₃))⋅──(F₁₂(x)) + (sin(ψ₁)⋅sin(ψ₂)⋅cos(ψ₃) - sin\n",
       "                                   dx                                         \n",
       "──────────────────────────────────────────────────────────────────────────────\n",
       "                                             d                  d             \n",
       "                             sin(ψ₁)⋅cos(ψ₂)⋅──(y(x)) + sin(ψ₂)⋅──(u(x)) - cos\n",
       "                                             dx                 dx            \n",
       "\n",
       "          d                                                                   \n",
       ")⋅cos(ψ₂)⋅──(F₁₂(x))                                                          \n",
       "          dx                                                                  \n",
       "────────────────────                                                          \n",
       "                                                                              \n",
       "(ψ₁)⋅cos(ψ₂)                                                                  \n",
       "                                                                              \n",
       "                                                                              \n",
       "              d                            d                                  \n",
       "(ψ₁)⋅cos(ψ₃))⋅──(F₂₂(x)) + sin(ψ₃)⋅cos(ψ₂)⋅──(F₃₂(x))  - (sin(ψ₁)⋅cos(ψ₃) - si\n",
       "              dx                           dx                                 \n",
       "─────────────────────────────────────────────────────  ───────────────────────\n",
       "                                                                              \n",
       "(ψ₁)⋅cos(ψ₂)                                                                  \n",
       "                                                                              \n",
       "                                                                              \n",
       "              d                            d                                  \n",
       "(ψ₃)⋅cos(ψ₁))⋅──(F₂₂(x)) - cos(ψ₂)⋅cos(ψ₃)⋅──(F₃₂(x))  - (sin(ψ₁)⋅sin(ψ₃) + si\n",
       "              dx                           dx                                 \n",
       "─────────────────────────────────────────────────────  ───────────────────────\n",
       "                                                                              \n",
       "(ψ₁)⋅cos(ψ₂)                                                                  \n",
       "                                                                              \n",
       "\n",
       "                          d                    d                            d \n",
       "          sin(ψ₁)⋅cos(ψ₂)⋅──(F₂₃(x)) + sin(ψ₂)⋅──(F₃₃(x)) - cos(ψ₁)⋅cos(ψ₂)⋅──\n",
       "                          dx                   dx                           dx\n",
       "          ────────────────────────────────────────────────────────────────────\n",
       "                                 d                  d                         \n",
       "                 sin(ψ₁)⋅cos(ψ₂)⋅──(y(x)) + sin(ψ₂)⋅──(u(x)) - cos(ψ₁)⋅cos(ψ₂)\n",
       "                                 dx                 dx                        \n",
       "                                                                              \n",
       "                       d                                                      \n",
       "n(ψ₂)⋅sin(ψ₃)⋅cos(ψ₁))⋅──(F₁₃(x)) - (sin(ψ₁)⋅sin(ψ₂)⋅sin(ψ₃) + cos(ψ₁)⋅cos(ψ₃)\n",
       "                       dx                                                     \n",
       "──────────────────────────────────────────────────────────────────────────────\n",
       "                                 d                  d                         \n",
       "                 sin(ψ₁)⋅cos(ψ₂)⋅──(y(x)) + sin(ψ₂)⋅──(u(x)) - cos(ψ₁)⋅cos(ψ₂)\n",
       "                                 dx                 dx                        \n",
       "                                                                              \n",
       "                       d                                                      \n",
       "n(ψ₂)⋅cos(ψ₁)⋅cos(ψ₃))⋅──(F₁₃(x)) + (sin(ψ₁)⋅sin(ψ₂)⋅cos(ψ₃) - sin(ψ₃)⋅cos(ψ₁)\n",
       "                       dx                                                     \n",
       "──────────────────────────────────────────────────────────────────────────────\n",
       "                                 d                  d                         \n",
       "                 sin(ψ₁)⋅cos(ψ₂)⋅──(y(x)) + sin(ψ₂)⋅──(u(x)) - cos(ψ₁)⋅cos(ψ₂)\n",
       "                                 dx                 dx                        \n",
       "\n",
       "                                         ⎤\n",
       "(F₁₃(x))                                 ⎥\n",
       "                                         ⎥\n",
       "────────                                 ⎥\n",
       "                                         ⎥\n",
       "                                         ⎥\n",
       "                                         ⎥\n",
       "                                         ⎥\n",
       "  d                            d         ⎥\n",
       ")⋅──(F₂₃(x)) + sin(ψ₃)⋅cos(ψ₂)⋅──(F₃₃(x))⎥\n",
       "  dx                           dx        ⎥\n",
       "─────────────────────────────────────────⎥\n",
       "                                         ⎥\n",
       "                                         ⎥\n",
       "                                         ⎥\n",
       "                                         ⎥\n",
       "  d                            d         ⎥\n",
       ")⋅──(F₂₃(x)) - cos(ψ₂)⋅cos(ψ₃)⋅──(F₃₃(x))⎥\n",
       "  dx                           dx        ⎥\n",
       "─────────────────────────────────────────⎥\n",
       "                                         ⎥\n",
       "                                         ⎥\n",
       "                                         ⎦"
      ]
     },
     "execution_count": 71,
     "metadata": {},
     "output_type": "execute_result"
    }
   ],
   "source": [
    "F_new_x = diff(F_new,x)/Dx\n",
    "simplify(F_new_x)"
   ]
  },
  {
   "cell_type": "code",
   "execution_count": 80,
   "metadata": {},
   "outputs": [
    {
     "ename": "AttributeError",
     "evalue": "'module' object has no attribute 'phi1'",
     "output_type": "error",
     "traceback": [
      "\u001b[1;31m---------------------------------------------------------------------------\u001b[0m",
      "\u001b[1;31mAttributeError\u001b[0m                            Traceback (most recent call last)",
      "\u001b[1;32m<ipython-input-80-cdebe4a7529d>\u001b[0m in \u001b[0;36m<module>\u001b[1;34m()\u001b[0m\n\u001b[1;32m----> 1\u001b[1;33m frame = {lp.a:-lp.x*cos(lp.phi1)*cos(lp.phi2) - lp.u*sin(lp.phi2) - y*sin(lp.phi1)*cos(lp.phi2),\n\u001b[0m\u001b[0;32m      2\u001b[0m          \u001b[0mlp\u001b[0m\u001b[1;33m.\u001b[0m\u001b[0mb\u001b[0m\u001b[1;33m:\u001b[0m \u001b[0mlp\u001b[0m\u001b[1;33m.\u001b[0m\u001b[0mx\u001b[0m\u001b[1;33m*\u001b[0m\u001b[0msin\u001b[0m\u001b[1;33m(\u001b[0m\u001b[0mlp\u001b[0m\u001b[1;33m.\u001b[0m\u001b[0mphi1\u001b[0m\u001b[1;33m)\u001b[0m\u001b[1;33m*\u001b[0m\u001b[0mcos\u001b[0m\u001b[1;33m(\u001b[0m\u001b[0mlp\u001b[0m\u001b[1;33m.\u001b[0m\u001b[0mphi3\u001b[0m\u001b[1;33m)\u001b[0m \u001b[1;33m+\u001b[0m \u001b[0mlp\u001b[0m\u001b[1;33m.\u001b[0m\u001b[0mx\u001b[0m\u001b[1;33m*\u001b[0m\u001b[0msin\u001b[0m\u001b[1;33m(\u001b[0m\u001b[0mlp\u001b[0m\u001b[1;33m.\u001b[0m\u001b[0mphi2\u001b[0m\u001b[1;33m)\u001b[0m\u001b[1;33m*\u001b[0m\u001b[0msin\u001b[0m\u001b[1;33m(\u001b[0m\u001b[0mlp\u001b[0m\u001b[1;33m.\u001b[0m\u001b[0mphi3\u001b[0m\u001b[1;33m)\u001b[0m\u001b[1;33m*\u001b[0m\u001b[0mcos\u001b[0m\u001b[1;33m(\u001b[0m\u001b[0mlp\u001b[0m\u001b[1;33m.\u001b[0m\u001b[0mphi1\u001b[0m\u001b[1;33m)\u001b[0m \u001b[1;33m-\u001b[0m \u001b[0mlp\u001b[0m\u001b[1;33m.\u001b[0m\u001b[0mu\u001b[0m\u001b[1;33m*\u001b[0m\u001b[0msin\u001b[0m\u001b[1;33m(\u001b[0m\u001b[0mlp\u001b[0m\u001b[1;33m.\u001b[0m\u001b[0mphi3\u001b[0m\u001b[1;33m)\u001b[0m\u001b[1;33m*\u001b[0m\u001b[0mcos\u001b[0m\u001b[1;33m(\u001b[0m\u001b[0mlp\u001b[0m\u001b[1;33m.\u001b[0m\u001b[0mphi2\u001b[0m\u001b[1;33m)\u001b[0m\u001b[1;33m\u001b[0m\u001b[0m\n\u001b[0;32m      3\u001b[0m          \u001b[1;33m+\u001b[0m \u001b[0mlp\u001b[0m\u001b[1;33m.\u001b[0m\u001b[0my\u001b[0m\u001b[1;33m*\u001b[0m\u001b[0msin\u001b[0m\u001b[1;33m(\u001b[0m\u001b[0mlp\u001b[0m\u001b[1;33m.\u001b[0m\u001b[0mphi1\u001b[0m\u001b[1;33m)\u001b[0m\u001b[1;33m*\u001b[0m\u001b[0msin\u001b[0m\u001b[1;33m(\u001b[0m\u001b[0mlp\u001b[0m\u001b[1;33m.\u001b[0m\u001b[0mphi2\u001b[0m\u001b[1;33m)\u001b[0m\u001b[1;33m*\u001b[0m\u001b[0msin\u001b[0m\u001b[1;33m(\u001b[0m\u001b[0mlp\u001b[0m\u001b[1;33m.\u001b[0m\u001b[0mphi3\u001b[0m\u001b[1;33m)\u001b[0m \u001b[1;33m-\u001b[0m \u001b[0mlp\u001b[0m\u001b[1;33m.\u001b[0m\u001b[0my\u001b[0m\u001b[1;33m*\u001b[0m\u001b[0mcos\u001b[0m\u001b[1;33m(\u001b[0m\u001b[0mlp\u001b[0m\u001b[1;33m.\u001b[0m\u001b[0mphi1\u001b[0m\u001b[1;33m)\u001b[0m\u001b[1;33m*\u001b[0m\u001b[0mcos\u001b[0m\u001b[1;33m(\u001b[0m\u001b[0mlp\u001b[0m\u001b[1;33m.\u001b[0m\u001b[0mphi3\u001b[0m\u001b[1;33m)\u001b[0m\u001b[1;33m,\u001b[0m\u001b[1;33m\u001b[0m\u001b[0m\n\u001b[0;32m      4\u001b[0m          \u001b[0mlp\u001b[0m\u001b[1;33m.\u001b[0m\u001b[0mc\u001b[0m\u001b[1;33m:\u001b[0m \u001b[1;33m-\u001b[0m\u001b[0mlp\u001b[0m\u001b[1;33m.\u001b[0m\u001b[0mx\u001b[0m\u001b[1;33m*\u001b[0m\u001b[0msin\u001b[0m\u001b[1;33m(\u001b[0m\u001b[0mlp\u001b[0m\u001b[1;33m.\u001b[0m\u001b[0mphi1\u001b[0m\u001b[1;33m)\u001b[0m\u001b[1;33m*\u001b[0m\u001b[0msin\u001b[0m\u001b[1;33m(\u001b[0m\u001b[0mlp\u001b[0m\u001b[1;33m.\u001b[0m\u001b[0mphi3\u001b[0m\u001b[1;33m)\u001b[0m \u001b[1;33m+\u001b[0m \u001b[0mlp\u001b[0m\u001b[1;33m.\u001b[0m\u001b[0mx\u001b[0m\u001b[1;33m*\u001b[0m\u001b[0msin\u001b[0m\u001b[1;33m(\u001b[0m\u001b[0mlp\u001b[0m\u001b[1;33m.\u001b[0m\u001b[0mphi2\u001b[0m\u001b[1;33m)\u001b[0m\u001b[1;33m*\u001b[0m\u001b[0mcos\u001b[0m\u001b[1;33m(\u001b[0m\u001b[0mlp\u001b[0m\u001b[1;33m.\u001b[0m\u001b[0mphi1\u001b[0m\u001b[1;33m)\u001b[0m\u001b[1;33m*\u001b[0m\u001b[0mcos\u001b[0m\u001b[1;33m(\u001b[0m\u001b[0mlp\u001b[0m\u001b[1;33m.\u001b[0m\u001b[0mphi3\u001b[0m\u001b[1;33m)\u001b[0m \u001b[1;33m-\u001b[0m \u001b[0mlp\u001b[0m\u001b[1;33m.\u001b[0m\u001b[0mu\u001b[0m\u001b[1;33m*\u001b[0m\u001b[0mcos\u001b[0m\u001b[1;33m(\u001b[0m\u001b[0mlp\u001b[0m\u001b[1;33m.\u001b[0m\u001b[0mphi2\u001b[0m\u001b[1;33m)\u001b[0m\u001b[1;33m*\u001b[0m\u001b[0mcos\u001b[0m\u001b[1;33m(\u001b[0m\u001b[0mlp\u001b[0m\u001b[1;33m.\u001b[0m\u001b[0mphi3\u001b[0m\u001b[1;33m)\u001b[0m\u001b[1;33m\u001b[0m\u001b[0m\n\u001b[0;32m      5\u001b[0m          \u001b[1;33m+\u001b[0m \u001b[0mlp\u001b[0m\u001b[1;33m.\u001b[0m\u001b[0my\u001b[0m\u001b[1;33m*\u001b[0m\u001b[0msin\u001b[0m\u001b[1;33m(\u001b[0m\u001b[0mlp\u001b[0m\u001b[1;33m.\u001b[0m\u001b[0mphi1\u001b[0m\u001b[1;33m)\u001b[0m\u001b[1;33m*\u001b[0m\u001b[0msin\u001b[0m\u001b[1;33m(\u001b[0m\u001b[0mlp\u001b[0m\u001b[1;33m.\u001b[0m\u001b[0mphi2\u001b[0m\u001b[1;33m)\u001b[0m\u001b[1;33m*\u001b[0m\u001b[0mcos\u001b[0m\u001b[1;33m(\u001b[0m\u001b[0mlp\u001b[0m\u001b[1;33m.\u001b[0m\u001b[0mphi3\u001b[0m\u001b[1;33m)\u001b[0m \u001b[1;33m+\u001b[0m \u001b[0mlp\u001b[0m\u001b[1;33m.\u001b[0m\u001b[0my\u001b[0m\u001b[1;33m*\u001b[0m\u001b[0msin\u001b[0m\u001b[1;33m(\u001b[0m\u001b[0mlp\u001b[0m\u001b[1;33m.\u001b[0m\u001b[0mphi3\u001b[0m\u001b[1;33m)\u001b[0m\u001b[1;33m*\u001b[0m\u001b[0mcos\u001b[0m\u001b[1;33m(\u001b[0m\u001b[0mlp\u001b[0m\u001b[1;33m.\u001b[0m\u001b[0mphi1\u001b[0m\u001b[1;33m)\u001b[0m\u001b[1;33m,\u001b[0m\u001b[1;33m\u001b[0m\u001b[0m\n",
      "\u001b[1;31mAttributeError\u001b[0m: 'module' object has no attribute 'phi1'"
     ]
    }
   ],
   "source": [
    "frame = {lp.a:-lp.x*cos(lp.phi1)*cos(lp.phi2) - lp.u*sin(lp.phi2) - y*sin(lp.phi1)*cos(lp.phi2),\n",
    "         lp.b: lp.x*sin(lp.phi1)*cos(lp.phi3) + lp.x*sin(lp.phi2)*sin(lp.phi3)*cos(lp.phi1) - lp.u*sin(lp.phi3)*cos(lp.phi2) \n",
    "         + lp.y*sin(lp.phi1)*sin(lp.phi2)*sin(lp.phi3) - lp.y*cos(lp.phi1)*cos(lp.phi3),\n",
    "         lp.c: -lp.x*sin(lp.phi1)*sin(lp.phi3) + lp.x*sin(lp.phi2)*cos(lp.phi1)*cos(lp.phi3) - lp.u*cos(lp.phi2)*cos(lp.phi3) \n",
    "         + lp.y*sin(lp.phi1)*sin(lp.phi2)*cos(lp.phi3) + lp.y*sin(lp.phi3)*cos(lp.phi1),\n",
    "         lp.psi1:-lp.phi1, lp.psi2:-lp.phi2, lp.psi3:-lp.phi3}\n",
    "\n",
    "g.frame = frame"
   ]
  },
  {
   "cell_type": "code",
   "execution_count": 85,
   "metadata": {},
   "outputs": [
    {
     "data": {
      "image/png": "[encoded data removed]",
      "text/latex": [
       "$$\\left[\\begin{matrix}\\cos{\\left (\\psi_{1} \\right )} \\cos{\\left (\\psi_{2} \\right )} & - \\sin{\\left (\\psi_{1} \\right )} \\cos{\\left (\\psi_{2} \\right )} & - \\sin{\\left (\\psi_{2} \\right )}\\\\\\sin{\\left (\\psi_{1} \\right )} \\cos{\\left (\\psi_{3} \\right )} - \\sin{\\left (\\psi_{2} \\right )} \\sin{\\left (\\psi_{3} \\right )} \\cos{\\left (\\psi_{1} \\right )} & \\sin{\\left (\\psi_{1} \\right )} \\sin{\\left (\\psi_{2} \\right )} \\sin{\\left (\\psi_{3} \\right )} + \\cos{\\left (\\psi_{1} \\right )} \\cos{\\left (\\psi_{3} \\right )} & - \\sin{\\left (\\psi_{3} \\right )} \\cos{\\left (\\psi_{2} \\right )}\\\\\\sin{\\left (\\psi_{1} \\right )} \\sin{\\left (\\psi_{3} \\right )} + \\sin{\\left (\\psi_{2} \\right )} \\cos{\\left (\\psi_{1} \\right )} \\cos{\\left (\\psi_{3} \\right )} & - \\sin{\\left (\\psi_{1} \\right )} \\sin{\\left (\\psi_{2} \\right )} \\cos{\\left (\\psi_{3} \\right )} + \\sin{\\left (\\psi_{3} \\right )} \\cos{\\left (\\psi_{1} \\right )} & \\cos{\\left (\\psi_{2} \\right )} \\cos{\\left (\\psi_{3} \\right )}\\end{matrix}\\right]$$"
      ],
      "text/plain": [
       "⎡             cos(ψ₁)⋅cos(ψ₂)                            -sin(ψ₁)⋅cos(ψ₂)     \n",
       "⎢                                                                             \n",
       "⎢sin(ψ₁)⋅cos(ψ₃) - sin(ψ₂)⋅sin(ψ₃)⋅cos(ψ₁)  sin(ψ₁)⋅sin(ψ₂)⋅sin(ψ₃) + cos(ψ₁)⋅\n",
       "⎢                                                                             \n",
       "⎣sin(ψ₁)⋅sin(ψ₃) + sin(ψ₂)⋅cos(ψ₁)⋅cos(ψ₃)  -sin(ψ₁)⋅sin(ψ₂)⋅cos(ψ₃) + sin(ψ₃)\n",
       "\n",
       "              -sin(ψ₂)    ⎤\n",
       "                          ⎥\n",
       "cos(ψ₃)   -sin(ψ₃)⋅cos(ψ₂)⎥\n",
       "                          ⎥\n",
       "⋅cos(ψ₁)  cos(ψ₂)⋅cos(ψ₃) ⎦"
      ]
     },
     "execution_count": 85,
     "metadata": {},
     "output_type": "execute_result"
    }
   ],
   "source": [
    "R"
   ]
  },
  {
   "cell_type": "code",
   "execution_count": 75,
   "metadata": {},
   "outputs": [
    {
     "data": {
      "image/png": "[encoded data removed]",
      "text/latex": [
       "$$\\frac{- \\left(\\sin{\\left (\\varphi_{1}{\\left (x \\right )} \\right )} \\cos{\\left (\\varphi_{3}{\\left (x \\right )} \\right )} + \\sin{\\left (\\varphi_{2}{\\left (x \\right )} \\right )} \\sin{\\left (\\varphi_{3}{\\left (x \\right )} \\right )} \\cos{\\left (\\varphi_{1}{\\left (x \\right )} \\right )}\\right) \\frac{d}{d x} \\operatorname{F_{11}}{\\left (x \\right )} - \\left(\\sin{\\left (\\varphi_{1}{\\left (x \\right )} \\right )} \\sin{\\left (\\varphi_{2}{\\left (x \\right )} \\right )} \\sin{\\left (\\varphi_{3}{\\left (x \\right )} \\right )} - \\cos{\\left (\\varphi_{1}{\\left (x \\right )} \\right )} \\cos{\\left (\\varphi_{3}{\\left (x \\right )} \\right )}\\right) \\frac{d}{d x} \\operatorname{F_{21}}{\\left (x \\right )} + \\sin{\\left (\\varphi_{3}{\\left (x \\right )} \\right )} \\cos{\\left (\\varphi_{2}{\\left (x \\right )} \\right )} \\frac{d}{d x} \\operatorname{F_{31}}{\\left (x \\right )}}{\\sin{\\left (\\varphi_{1}{\\left (x \\right )} \\right )} \\cos{\\left (\\varphi_{2}{\\left (x \\right )} \\right )} \\frac{d}{d x} y{\\left (x \\right )} + \\sin{\\left (\\varphi_{2}{\\left (x \\right )} \\right )} \\frac{d}{d x} u{\\left (x \\right )} + \\cos{\\left (\\varphi_{1}{\\left (x \\right )} \\right )} \\cos{\\left (\\varphi_{2}{\\left (x \\right )} \\right )}}$$"
      ],
      "text/plain": [
       "                                                                              \n",
       "- (sin(varphi₁(x))⋅cos(varphi₃(x)) + sin(varphi₂(x))⋅sin(varphi₃(x))⋅cos(varph\n",
       "                                                                              \n",
       "──────────────────────────────────────────────────────────────────────────────\n",
       "                                                                              \n",
       "                                                                    sin(varphi\n",
       "                                                                              \n",
       "\n",
       "        d                                                                     \n",
       "i₁(x)))⋅──(F₁₁(x)) - (sin(varphi₁(x))⋅sin(varphi₂(x))⋅sin(varphi₃(x)) - cos(va\n",
       "        dx                                                                    \n",
       "──────────────────────────────────────────────────────────────────────────────\n",
       "                      d                          d                            \n",
       "₁(x))⋅cos(varphi₂(x))⋅──(y(x)) + sin(varphi₂(x))⋅──(u(x)) + cos(varphi₁(x))⋅co\n",
       "                      dx                         dx                           \n",
       "\n",
       "                           d                                            d     \n",
       "rphi₁(x))⋅cos(varphi₃(x)))⋅──(F₂₁(x)) + sin(varphi₃(x))⋅cos(varphi₂(x))⋅──(F₃₁\n",
       "                           dx                                           dx    \n",
       "──────────────────────────────────────────────────────────────────────────────\n",
       "                                                                              \n",
       "s(varphi₂(x))                                                                 \n",
       "                                                                              \n",
       "\n",
       "    \n",
       "(x))\n",
       "    \n",
       "────\n",
       "    \n",
       "    \n",
       "    "
      ]
     },
     "execution_count": 75,
     "metadata": {},
     "output_type": "execute_result"
    }
   ],
   "source": [
    "simplify((F_new_x.xreplace(frame))[1,0])"
   ]
  },
  {
   "cell_type": "code",
   "execution_count": 68,
   "metadata": {},
   "outputs": [
    {
     "data": {
      "image/png": "[encoded data removed]",
      "text/latex": [
       "$$u \\cos{\\left (\\psi_{2} \\right )} \\cos{\\left (\\psi_{3} \\right )} + x \\left(\\sin{\\left (\\psi_{1} \\right )} \\sin{\\left (\\psi_{3} \\right )} + \\sin{\\left (\\psi_{2} \\right )} \\cos{\\left (\\psi_{1} \\right )} \\cos{\\left (\\psi_{3} \\right )}\\right) - x \\sin{\\left (\\varphi_{1}{\\left (x \\right )} \\right )} \\sin{\\left (\\varphi_{3}{\\left (x \\right )} \\right )} + x \\sin{\\left (\\varphi_{2}{\\left (x \\right )} \\right )} \\cos{\\left (\\varphi_{1}{\\left (x \\right )} \\right )} \\cos{\\left (\\varphi_{3}{\\left (x \\right )} \\right )} - y \\left(\\sin{\\left (\\psi_{1} \\right )} \\sin{\\left (\\psi_{2} \\right )} \\cos{\\left (\\psi_{3} \\right )} - \\sin{\\left (\\psi_{3} \\right )} \\cos{\\left (\\psi_{1} \\right )}\\right) - u{\\left (x \\right )} \\cos{\\left (\\varphi_{2}{\\left (x \\right )} \\right )} \\cos{\\left (\\varphi_{3}{\\left (x \\right )} \\right )} + y{\\left (x \\right )} \\sin{\\left (\\varphi_{1}{\\left (x \\right )} \\right )} \\sin{\\left (\\varphi_{2}{\\left (x \\right )} \\right )} \\cos{\\left (\\varphi_{3}{\\left (x \\right )} \\right )} + y{\\left (x \\right )} \\sin{\\left (\\varphi_{3}{\\left (x \\right )} \\right )} \\cos{\\left (\\varphi_{1}{\\left (x \\right )} \\right )}$$"
      ],
      "text/plain": [
       "u⋅cos(ψ₂)⋅cos(ψ₃) + x⋅(sin(ψ₁)⋅sin(ψ₃) + sin(ψ₂)⋅cos(ψ₁)⋅cos(ψ₃)) - x⋅sin(varp\n",
       "hi₁(x))⋅sin(varphi₃(x)) + x⋅sin(varphi₂(x))⋅cos(varphi₁(x))⋅cos(varphi₃(x)) - \n",
       "y⋅(sin(ψ₁)⋅sin(ψ₂)⋅cos(ψ₃) - sin(ψ₃)⋅cos(ψ₁)) - u(x)⋅cos(varphi₂(x))⋅cos(varph\n",
       "i₃(x)) + y(x)⋅sin(varphi₁(x))⋅sin(varphi₂(x))⋅cos(varphi₃(x)) + y(x)⋅sin(varph\n",
       "i₃(x))⋅cos(varphi₁(x))"
      ]
     },
     "execution_count": 68,
     "metadata": {},
     "output_type": "execute_result"
    }
   ],
   "source": [
    "g.invariantization(lp.u)"
   ]
  },
  {
   "cell_type": "code",
   "execution_count": 63,
   "metadata": {
    "collapsed": true
   },
   "outputs": [],
   "source": [
    "g.frame = frame"
   ]
  },
  {
   "cell_type": "code",
   "execution_count": 78,
   "metadata": {},
   "outputs": [
    {
     "data": {
      "image/png": "[encoded data removed]",
      "text/latex": [
       "$$u \\cos{\\left (\\psi_{2} \\right )} \\cos{\\left (\\psi_{3} \\right )} + x \\left(\\sin{\\left (\\psi_{1} \\right )} \\sin{\\left (\\psi_{3} \\right )} + \\sin{\\left (\\psi_{2} \\right )} \\cos{\\left (\\psi_{1} \\right )} \\cos{\\left (\\psi_{3} \\right )}\\right) - x \\sin{\\left (\\varphi_{1}{\\left (x \\right )} \\right )} \\sin{\\left (\\varphi_{3}{\\left (x \\right )} \\right )} + x \\sin{\\left (\\varphi_{2}{\\left (x \\right )} \\right )} \\cos{\\left (\\varphi_{1}{\\left (x \\right )} \\right )} \\cos{\\left (\\varphi_{3}{\\left (x \\right )} \\right )} - y \\left(\\sin{\\left (\\psi_{1} \\right )} \\sin{\\left (\\psi_{2} \\right )} \\cos{\\left (\\psi_{3} \\right )} - \\sin{\\left (\\psi_{3} \\right )} \\cos{\\left (\\psi_{1} \\right )}\\right) - u{\\left (x \\right )} \\cos{\\left (\\varphi_{2}{\\left (x \\right )} \\right )} \\cos{\\left (\\varphi_{3}{\\left (x \\right )} \\right )} + y{\\left (x \\right )} \\sin{\\left (\\varphi_{1}{\\left (x \\right )} \\right )} \\sin{\\left (\\varphi_{2}{\\left (x \\right )} \\right )} \\cos{\\left (\\varphi_{3}{\\left (x \\right )} \\right )} + y{\\left (x \\right )} \\sin{\\left (\\varphi_{3}{\\left (x \\right )} \\right )} \\cos{\\left (\\varphi_{1}{\\left (x \\right )} \\right )}$$"
      ],
      "text/plain": [
       "u⋅cos(ψ₂)⋅cos(ψ₃) + x⋅(sin(ψ₁)⋅sin(ψ₃) + sin(ψ₂)⋅cos(ψ₁)⋅cos(ψ₃)) - x⋅sin(varp\n",
       "hi₁(x))⋅sin(varphi₃(x)) + x⋅sin(varphi₂(x))⋅cos(varphi₁(x))⋅cos(varphi₃(x)) - \n",
       "y⋅(sin(ψ₁)⋅sin(ψ₂)⋅cos(ψ₃) - sin(ψ₃)⋅cos(ψ₁)) - u(x)⋅cos(varphi₂(x))⋅cos(varph\n",
       "i₃(x)) + y(x)⋅sin(varphi₁(x))⋅sin(varphi₂(x))⋅cos(varphi₃(x)) + y(x)⋅sin(varph\n",
       "i₃(x))⋅cos(varphi₁(x))"
      ]
     },
     "execution_count": 78,
     "metadata": {},
     "output_type": "execute_result"
    }
   ],
   "source": [
    "lp.u.xreplace(g.rep_sub[5]).xreplace(g.transformed_subs_backward).subs(g.frame)"
   ]
  },
  {
   "cell_type": "code",
   "execution_count": 79,
   "metadata": {},
   "outputs": [
    {
     "data": {
      "image/png": "[encoded data removed]",
      "text/latex": [
       "$$\\left \\{ a : - x \\cos{\\left (\\varphi_{1}{\\left (x \\right )} \\right )} \\cos{\\left (\\varphi_{2}{\\left (x \\right )} \\right )} - u{\\left (x \\right )} \\sin{\\left (\\varphi_{2}{\\left (x \\right )} \\right )} - y{\\left (x \\right )} \\sin{\\left (\\varphi_{1}{\\left (x \\right )} \\right )} \\cos{\\left (\\varphi_{2}{\\left (x \\right )} \\right )}, \\quad b : x \\sin{\\left (\\varphi_{1}{\\left (x \\right )} \\right )} \\cos{\\left (\\varphi_{3}{\\left (x \\right )} \\right )} + x \\sin{\\left (\\varphi_{2}{\\left (x \\right )} \\right )} \\sin{\\left (\\varphi_{3}{\\left (x \\right )} \\right )} \\cos{\\left (\\varphi_{1}{\\left (x \\right )} \\right )} - u{\\left (x \\right )} \\sin{\\left (\\varphi_{3}{\\left (x \\right )} \\right )} \\cos{\\left (\\varphi_{2}{\\left (x \\right )} \\right )} + y{\\left (x \\right )} \\sin{\\left (\\varphi_{1}{\\left (x \\right )} \\right )} \\sin{\\left (\\varphi_{2}{\\left (x \\right )} \\right )} \\sin{\\left (\\varphi_{3}{\\left (x \\right )} \\right )} - y{\\left (x \\right )} \\cos{\\left (\\varphi_{1}{\\left (x \\right )} \\right )} \\cos{\\left (\\varphi_{3}{\\left (x \\right )} \\right )}, \\quad c : - x \\sin{\\left (\\varphi_{1}{\\left (x \\right )} \\right )} \\sin{\\left (\\varphi_{3}{\\left (x \\right )} \\right )} + x \\sin{\\left (\\varphi_{2}{\\left (x \\right )} \\right )} \\cos{\\left (\\varphi_{1}{\\left (x \\right )} \\right )} \\cos{\\left (\\varphi_{3}{\\left (x \\right )} \\right )} - u{\\left (x \\right )} \\cos{\\left (\\varphi_{2}{\\left (x \\right )} \\right )} \\cos{\\left (\\varphi_{3}{\\left (x \\right )} \\right )} + y{\\left (x \\right )} \\sin{\\left (\\varphi_{1}{\\left (x \\right )} \\right )} \\sin{\\left (\\varphi_{2}{\\left (x \\right )} \\right )} \\cos{\\left (\\varphi_{3}{\\left (x \\right )} \\right )} + y{\\left (x \\right )} \\sin{\\left (\\varphi_{3}{\\left (x \\right )} \\right )} \\cos{\\left (\\varphi_{1}{\\left (x \\right )} \\right )}, \\quad \\psi_{1} : - \\varphi_{1}{\\left (x \\right )}, \\quad \\psi_{2} : - \\varphi_{2}{\\left (x \\right )}, \\quad \\psi_{3} : - \\varphi_{3}{\\left (x \\right )}\\right \\}$$"
      ],
      "text/plain": [
       "{a: -x⋅cos(varphi₁(x))⋅cos(varphi₂(x)) - u(x)⋅sin(varphi₂(x)) - y(x)⋅sin(varph\n",
       "i₁(x))⋅cos(varphi₂(x)), b: x⋅sin(varphi₁(x))⋅cos(varphi₃(x)) + x⋅sin(varphi₂(x\n",
       "))⋅sin(varphi₃(x))⋅cos(varphi₁(x)) - u(x)⋅sin(varphi₃(x))⋅cos(varphi₂(x)) + y(\n",
       "x)⋅sin(varphi₁(x))⋅sin(varphi₂(x))⋅sin(varphi₃(x)) - y(x)⋅cos(varphi₁(x))⋅cos(\n",
       "varphi₃(x)), c: -x⋅sin(varphi₁(x))⋅sin(varphi₃(x)) + x⋅sin(varphi₂(x))⋅cos(var\n",
       "phi₁(x))⋅cos(varphi₃(x)) - u(x)⋅cos(varphi₂(x))⋅cos(varphi₃(x)) + y(x)⋅sin(var\n",
       "phi₁(x))⋅sin(varphi₂(x))⋅cos(varphi₃(x)) + y(x)⋅sin(varphi₃(x))⋅cos(varphi₁(x)\n",
       "), ψ₁: -varphi₁(x), ψ₂: -varphi₂(x), ψ₃: -varphi₃(x)}"
      ]
     },
     "execution_count": 79,
     "metadata": {},
     "output_type": "execute_result"
    }
   ],
   "source": [
    "g.frame"
   ]
  },
  {
   "cell_type": "code",
   "execution_count": 84,
   "metadata": {},
   "outputs": [
    {
     "ename": "AttributeError",
     "evalue": "'module' object has no attribute 'phi'",
     "output_type": "error",
     "traceback": [
      "\u001b[1;31m---------------------------------------------------------------------------\u001b[0m",
      "\u001b[1;31mAttributeError\u001b[0m                            Traceback (most recent call last)",
      "\u001b[1;32m<ipython-input-84-6e62fe44a2bb>\u001b[0m in \u001b[0;36m<module>\u001b[1;34m()\u001b[0m\n\u001b[1;32m----> 1\u001b[1;33m \u001b[0mlp\u001b[0m\u001b[1;33m.\u001b[0m\u001b[0mphi\u001b[0m\u001b[1;33m\u001b[0m\u001b[0m\n\u001b[0m",
      "\u001b[1;31mAttributeError\u001b[0m: 'module' object has no attribute 'phi'"
     ]
    }
   ],
   "source": [
    "lp.phi"
   ]
  },
  {
   "cell_type": "code",
   "execution_count": 87,
   "metadata": {},
   "outputs": [
    {
     "data": {
      "image/png": "[encoded data removed]",
      "text/latex": [
       "$$\\left[\\begin{matrix}\\cos{\\left (\\varphi_{1}{\\left (x \\right )} \\right )} \\cos{\\left (\\varphi_{2}{\\left (x \\right )} \\right )} & \\sin{\\left (\\varphi_{1}{\\left (x \\right )} \\right )} \\cos{\\left (\\varphi_{2}{\\left (x \\right )} \\right )} & \\sin{\\left (\\varphi_{2}{\\left (x \\right )} \\right )}\\\\- \\sin{\\left (\\varphi_{1}{\\left (x \\right )} \\right )} \\cos{\\left (\\varphi_{3}{\\left (x \\right )} \\right )} - \\sin{\\left (\\varphi_{2}{\\left (x \\right )} \\right )} \\sin{\\left (\\varphi_{3}{\\left (x \\right )} \\right )} \\cos{\\left (\\varphi_{1}{\\left (x \\right )} \\right )} & - \\sin{\\left (\\varphi_{1}{\\left (x \\right )} \\right )} \\sin{\\left (\\varphi_{2}{\\left (x \\right )} \\right )} \\sin{\\left (\\varphi_{3}{\\left (x \\right )} \\right )} + \\cos{\\left (\\varphi_{1}{\\left (x \\right )} \\right )} \\cos{\\left (\\varphi_{3}{\\left (x \\right )} \\right )} & \\sin{\\left (\\varphi_{3}{\\left (x \\right )} \\right )} \\cos{\\left (\\varphi_{2}{\\left (x \\right )} \\right )}\\\\\\sin{\\left (\\varphi_{1}{\\left (x \\right )} \\right )} \\sin{\\left (\\varphi_{3}{\\left (x \\right )} \\right )} - \\sin{\\left (\\varphi_{2}{\\left (x \\right )} \\right )} \\cos{\\left (\\varphi_{1}{\\left (x \\right )} \\right )} \\cos{\\left (\\varphi_{3}{\\left (x \\right )} \\right )} & - \\sin{\\left (\\varphi_{1}{\\left (x \\right )} \\right )} \\sin{\\left (\\varphi_{2}{\\left (x \\right )} \\right )} \\cos{\\left (\\varphi_{3}{\\left (x \\right )} \\right )} - \\sin{\\left (\\varphi_{3}{\\left (x \\right )} \\right )} \\cos{\\left (\\varphi_{1}{\\left (x \\right )} \\right )} & \\cos{\\left (\\varphi_{2}{\\left (x \\right )} \\right )} \\cos{\\left (\\varphi_{3}{\\left (x \\right )} \\right )}\\end{matrix}\\right]$$"
      ],
      "text/plain": [
       "⎡                         cos(varphi₁(x))⋅cos(varphi₂(x))                     \n",
       "⎢                                                                             \n",
       "⎢-sin(varphi₁(x))⋅cos(varphi₃(x)) - sin(varphi₂(x))⋅sin(varphi₃(x))⋅cos(varphi\n",
       "⎢                                                                             \n",
       "⎣sin(varphi₁(x))⋅sin(varphi₃(x)) - sin(varphi₂(x))⋅cos(varphi₁(x))⋅cos(varphi₃\n",
       "\n",
       "                                sin(varphi₁(x))⋅cos(varphi₂(x))               \n",
       "                                                                              \n",
       "₁(x))  -sin(varphi₁(x))⋅sin(varphi₂(x))⋅sin(varphi₃(x)) + cos(varphi₁(x))⋅cos(\n",
       "                                                                              \n",
       "(x))   -sin(varphi₁(x))⋅sin(varphi₂(x))⋅cos(varphi₃(x)) - sin(varphi₃(x))⋅cos(\n",
       "\n",
       "                     sin(varphi₂(x))        ⎤\n",
       "                                            ⎥\n",
       "varphi₃(x))  sin(varphi₃(x))⋅cos(varphi₂(x))⎥\n",
       "                                            ⎥\n",
       "varphi₁(x))  cos(varphi₂(x))⋅cos(varphi₃(x))⎦"
      ]
     },
     "execution_count": 87,
     "metadata": {},
     "output_type": "execute_result"
    }
   ],
   "source": [
    "(F_U*F_Y*F_X).transpose()"
   ]
  },
  {
   "cell_type": "code",
   "execution_count": 88,
   "metadata": {},
   "outputs": [
    {
     "data": {
      "image/png": "[encoded data removed]",
      "text/latex": [
       "$$\\left[\\begin{matrix}\\cos{\\left (\\psi_{1} \\right )} \\cos{\\left (\\psi_{2} \\right )} & - \\sin{\\left (\\psi_{1} \\right )} \\cos{\\left (\\psi_{2} \\right )} & - \\sin{\\left (\\psi_{2} \\right )}\\\\\\sin{\\left (\\psi_{1} \\right )} \\cos{\\left (\\psi_{3} \\right )} - \\sin{\\left (\\psi_{2} \\right )} \\sin{\\left (\\psi_{3} \\right )} \\cos{\\left (\\psi_{1} \\right )} & \\sin{\\left (\\psi_{1} \\right )} \\sin{\\left (\\psi_{2} \\right )} \\sin{\\left (\\psi_{3} \\right )} + \\cos{\\left (\\psi_{1} \\right )} \\cos{\\left (\\psi_{3} \\right )} & - \\sin{\\left (\\psi_{3} \\right )} \\cos{\\left (\\psi_{2} \\right )}\\\\\\sin{\\left (\\psi_{1} \\right )} \\sin{\\left (\\psi_{3} \\right )} + \\sin{\\left (\\psi_{2} \\right )} \\cos{\\left (\\psi_{1} \\right )} \\cos{\\left (\\psi_{3} \\right )} & - \\sin{\\left (\\psi_{1} \\right )} \\sin{\\left (\\psi_{2} \\right )} \\cos{\\left (\\psi_{3} \\right )} + \\sin{\\left (\\psi_{3} \\right )} \\cos{\\left (\\psi_{1} \\right )} & \\cos{\\left (\\psi_{2} \\right )} \\cos{\\left (\\psi_{3} \\right )}\\end{matrix}\\right]$$"
      ],
      "text/plain": [
       "⎡             cos(ψ₁)⋅cos(ψ₂)                            -sin(ψ₁)⋅cos(ψ₂)     \n",
       "⎢                                                                             \n",
       "⎢sin(ψ₁)⋅cos(ψ₃) - sin(ψ₂)⋅sin(ψ₃)⋅cos(ψ₁)  sin(ψ₁)⋅sin(ψ₂)⋅sin(ψ₃) + cos(ψ₁)⋅\n",
       "⎢                                                                             \n",
       "⎣sin(ψ₁)⋅sin(ψ₃) + sin(ψ₂)⋅cos(ψ₁)⋅cos(ψ₃)  -sin(ψ₁)⋅sin(ψ₂)⋅cos(ψ₃) + sin(ψ₃)\n",
       "\n",
       "              -sin(ψ₂)    ⎤\n",
       "                          ⎥\n",
       "cos(ψ₃)   -sin(ψ₃)⋅cos(ψ₂)⎥\n",
       "                          ⎥\n",
       "⋅cos(ψ₁)  cos(ψ₂)⋅cos(ψ₃) ⎦"
      ]
     },
     "execution_count": 88,
     "metadata": {},
     "output_type": "execute_result"
    }
   ],
   "source": [
    "R"
   ]
  },
  {
   "cell_type": "markdown",
   "metadata": {
    "collapsed": true
   },
   "source": [
    "# test"
   ]
  },
  {
   "cell_type": "code",
   "execution_count": 232,
   "metadata": {
    "collapsed": true
   },
   "outputs": [],
   "source": [
    "t = symbols('t')\n",
    "x0 = symbols('x_0')\n",
    "y0 = symbols('y_0')\n",
    "eq1 = diff(Function('x')('t'),t)+Function('y')('t')\n",
    "eq2 = diff(Function('y')('t'),t)-Function('x')('t')\n",
    "\n",
    "soln = dsolve([eq1, eq2])\n",
    "constants = solve([a.subs({t:0}).subs({Function('x')(0): x0, Function('y')(0): y0}) for a in soln], [symbols('C1'), symbols('C2')])\n",
    "soln = [a.subs(constants) for a in soln]"
   ]
  },
  {
   "cell_type": "code",
   "execution_count": 273,
   "metadata": {
    "collapsed": true
   },
   "outputs": [],
   "source": [
    "def vector_flow(A, v):\n",
    "    n = len(v)\n",
    "    t = symbols('t')\n",
    "    Symbols = [Symbol(str(x)) for x in A]\n",
    "    Fun = [Function(str(x))('t') for x in A]\n",
    "    Fun_zero = [Function(str(x))('0') for x in A]\n",
    "    sym_to_fun = dict((a,b) for a,b in zip(Symbols, Fun))\n",
    "    ics = dict((a,b) for a,b in zip(Fun_zero, [Symbol(str(x)+'_0') for x in A]))\n",
    "    eqs = []\n",
    "    for i in range(len(v)):\n",
    "        eqs.append(diff(Fun[i],t) - v[i].subs(sym_to_fun))\n",
    "    soln = dsolve(eqs)\n",
    "    conts = solve([a.subs({t:0}).subs(ics) for a in soln],['C%d' %d for d in range(1,3)])\n",
    "    return [a.subs(conts) for a in soln]"
   ]
  },
  {
   "cell_type": "code",
   "execution_count": 274,
   "metadata": {},
   "outputs": [
    {
     "data": {
      "image/png": "[encoded data removed]",
      "text/latex": [
       "$$\\left [ x{\\left (t \\right )} = x_{0} \\cos{\\left (t \\right )} - y_{0} \\sin{\\left (t \\right )}, \\quad y{\\left (t \\right )} = x_{0} \\sin{\\left (t \\right )} + y_{0} \\cos{\\left (t \\right )}\\right ]$$"
      ],
      "text/plain": [
       "[x(t) = x₀⋅cos(t) - y₀⋅sin(t), y(t) = x₀⋅sin(t) + y₀⋅cos(t)]"
      ]
     },
     "execution_count": 274,
     "metadata": {},
     "output_type": "execute_result"
    }
   ],
   "source": [
    "soln"
   ]
  },
  {
   "cell_type": "code",
   "execution_count": 278,
   "metadata": {},
   "outputs": [
    {
     "ename": "ValueError",
     "evalue": "classify_sysode() works for systems of ODEs. For scalar ODEs, classify_ode should be used",
     "output_type": "error",
     "traceback": [
      "\u001b[1;31m---------------------------------------------------------------------------\u001b[0m",
      "\u001b[1;31mValueError\u001b[0m                                Traceback (most recent call last)",
      "\u001b[1;32m<ipython-input-278-9f5cc0c2a323>\u001b[0m in \u001b[0;36m<module>\u001b[1;34m()\u001b[0m\n\u001b[1;32m----> 1\u001b[1;33m \u001b[0mvector_flow\u001b[0m\u001b[1;33m(\u001b[0m\u001b[1;33m[\u001b[0m\u001b[1;34m'x'\u001b[0m\u001b[1;33m]\u001b[0m\u001b[1;33m,\u001b[0m \u001b[1;33m[\u001b[0m\u001b[1;36m1\u001b[0m\u001b[1;33m*\u001b[0m\u001b[0msymbols\u001b[0m\u001b[1;33m(\u001b[0m\u001b[1;34m'x'\u001b[0m\u001b[1;33m)\u001b[0m\u001b[1;33m]\u001b[0m\u001b[1;33m)\u001b[0m\u001b[1;33m\u001b[0m\u001b[0m\n\u001b[0m",
      "\u001b[1;32m<ipython-input-273-f0dcffcfaa48>\u001b[0m in \u001b[0;36mvector_flow\u001b[1;34m(A, v)\u001b[0m\n\u001b[0;32m     10\u001b[0m     \u001b[1;32mfor\u001b[0m \u001b[0mi\u001b[0m \u001b[1;32min\u001b[0m \u001b[0mrange\u001b[0m\u001b[1;33m(\u001b[0m\u001b[0mlen\u001b[0m\u001b[1;33m(\u001b[0m\u001b[0mv\u001b[0m\u001b[1;33m)\u001b[0m\u001b[1;33m)\u001b[0m\u001b[1;33m:\u001b[0m\u001b[1;33m\u001b[0m\u001b[0m\n\u001b[0;32m     11\u001b[0m         \u001b[0meqs\u001b[0m\u001b[1;33m.\u001b[0m\u001b[0mappend\u001b[0m\u001b[1;33m(\u001b[0m\u001b[0mdiff\u001b[0m\u001b[1;33m(\u001b[0m\u001b[0mFun\u001b[0m\u001b[1;33m[\u001b[0m\u001b[0mi\u001b[0m\u001b[1;33m]\u001b[0m\u001b[1;33m,\u001b[0m\u001b[0mt\u001b[0m\u001b[1;33m)\u001b[0m \u001b[1;33m-\u001b[0m \u001b[0mv\u001b[0m\u001b[1;33m[\u001b[0m\u001b[0mi\u001b[0m\u001b[1;33m]\u001b[0m\u001b[1;33m.\u001b[0m\u001b[0msubs\u001b[0m\u001b[1;33m(\u001b[0m\u001b[0msym_to_fun\u001b[0m\u001b[1;33m)\u001b[0m\u001b[1;33m)\u001b[0m\u001b[1;33m\u001b[0m\u001b[0m\n\u001b[1;32m---> 12\u001b[1;33m     \u001b[0msoln\u001b[0m \u001b[1;33m=\u001b[0m \u001b[0mdsolve\u001b[0m\u001b[1;33m(\u001b[0m\u001b[0meqs\u001b[0m\u001b[1;33m)\u001b[0m\u001b[1;33m\u001b[0m\u001b[0m\n\u001b[0m\u001b[0;32m     13\u001b[0m     \u001b[0mconts\u001b[0m \u001b[1;33m=\u001b[0m \u001b[0msolve\u001b[0m\u001b[1;33m(\u001b[0m\u001b[1;33m[\u001b[0m\u001b[0ma\u001b[0m\u001b[1;33m.\u001b[0m\u001b[0msubs\u001b[0m\u001b[1;33m(\u001b[0m\u001b[1;33m{\u001b[0m\u001b[0mt\u001b[0m\u001b[1;33m:\u001b[0m\u001b[1;36m0\u001b[0m\u001b[1;33m}\u001b[0m\u001b[1;33m)\u001b[0m\u001b[1;33m.\u001b[0m\u001b[0msubs\u001b[0m\u001b[1;33m(\u001b[0m\u001b[0mics\u001b[0m\u001b[1;33m)\u001b[0m \u001b[1;32mfor\u001b[0m \u001b[0ma\u001b[0m \u001b[1;32min\u001b[0m \u001b[0msoln\u001b[0m\u001b[1;33m]\u001b[0m\u001b[1;33m,\u001b[0m\u001b[1;33m[\u001b[0m\u001b[1;34m'C%d'\u001b[0m \u001b[1;33m%\u001b[0m\u001b[0md\u001b[0m \u001b[1;32mfor\u001b[0m \u001b[0md\u001b[0m \u001b[1;32min\u001b[0m \u001b[0mrange\u001b[0m\u001b[1;33m(\u001b[0m\u001b[1;36m1\u001b[0m\u001b[1;33m,\u001b[0m\u001b[1;36m3\u001b[0m\u001b[1;33m)\u001b[0m\u001b[1;33m]\u001b[0m\u001b[1;33m)\u001b[0m\u001b[1;33m\u001b[0m\u001b[0m\n\u001b[0;32m     14\u001b[0m     \u001b[1;32mreturn\u001b[0m \u001b[1;33m[\u001b[0m\u001b[0ma\u001b[0m\u001b[1;33m.\u001b[0m\u001b[0msubs\u001b[0m\u001b[1;33m(\u001b[0m\u001b[0mconts\u001b[0m\u001b[1;33m)\u001b[0m \u001b[1;32mfor\u001b[0m \u001b[0ma\u001b[0m \u001b[1;32min\u001b[0m \u001b[0msoln\u001b[0m\u001b[1;33m]\u001b[0m\u001b[1;33m\u001b[0m\u001b[0m\n",
      "\u001b[1;32mC:\\Users\\jimmy\\AppData\\Local\\conda\\conda\\envs\\py27\\lib\\site-packages\\sympy\\solvers\\ode.pyc\u001b[0m in \u001b[0;36mdsolve\u001b[1;34m(eq, func, hint, simplify, ics, xi, eta, x0, n, **kwargs)\u001b[0m\n\u001b[0;32m    583\u001b[0m     \"\"\"\n\u001b[0;32m    584\u001b[0m     \u001b[1;32mif\u001b[0m \u001b[0miterable\u001b[0m\u001b[1;33m(\u001b[0m\u001b[0meq\u001b[0m\u001b[1;33m)\u001b[0m\u001b[1;33m:\u001b[0m\u001b[1;33m\u001b[0m\u001b[0m\n\u001b[1;32m--> 585\u001b[1;33m         \u001b[0mmatch\u001b[0m \u001b[1;33m=\u001b[0m \u001b[0mclassify_sysode\u001b[0m\u001b[1;33m(\u001b[0m\u001b[0meq\u001b[0m\u001b[1;33m,\u001b[0m \u001b[0mfunc\u001b[0m\u001b[1;33m)\u001b[0m\u001b[1;33m\u001b[0m\u001b[0m\n\u001b[0m\u001b[0;32m    586\u001b[0m         \u001b[0meq\u001b[0m \u001b[1;33m=\u001b[0m \u001b[0mmatch\u001b[0m\u001b[1;33m[\u001b[0m\u001b[1;34m'eq'\u001b[0m\u001b[1;33m]\u001b[0m\u001b[1;33m\u001b[0m\u001b[0m\n\u001b[0;32m    587\u001b[0m         \u001b[0morder\u001b[0m \u001b[1;33m=\u001b[0m \u001b[0mmatch\u001b[0m\u001b[1;33m[\u001b[0m\u001b[1;34m'order'\u001b[0m\u001b[1;33m]\u001b[0m\u001b[1;33m\u001b[0m\u001b[0m\n",
      "\u001b[1;32mC:\\Users\\jimmy\\AppData\\Local\\conda\\conda\\envs\\py27\\lib\\site-packages\\sympy\\solvers\\ode.pyc\u001b[0m in \u001b[0;36mclassify_sysode\u001b[1;34m(eq, funcs, **kwargs)\u001b[0m\n\u001b[0;32m   1490\u001b[0m     \u001b[0mmatching_hints\u001b[0m\u001b[1;33m[\u001b[0m\u001b[1;34m'eq'\u001b[0m\u001b[1;33m]\u001b[0m \u001b[1;33m=\u001b[0m \u001b[0meq\u001b[0m\u001b[1;33m\u001b[0m\u001b[0m\n\u001b[0;32m   1491\u001b[0m     \u001b[1;32mif\u001b[0m \u001b[0mi\u001b[0m\u001b[1;33m==\u001b[0m\u001b[1;36m0\u001b[0m\u001b[1;33m:\u001b[0m\u001b[1;33m\u001b[0m\u001b[0m\n\u001b[1;32m-> 1492\u001b[1;33m         raise ValueError(\"classify_sysode() works for systems of ODEs. \"\n\u001b[0m\u001b[0;32m   1493\u001b[0m         \"For scalar ODEs, classify_ode should be used\")\n\u001b[0;32m   1494\u001b[0m     \u001b[0mt\u001b[0m \u001b[1;33m=\u001b[0m \u001b[0mlist\u001b[0m\u001b[1;33m(\u001b[0m\u001b[0mlist\u001b[0m\u001b[1;33m(\u001b[0m\u001b[0meq\u001b[0m\u001b[1;33m[\u001b[0m\u001b[1;36m0\u001b[0m\u001b[1;33m]\u001b[0m\u001b[1;33m.\u001b[0m\u001b[0matoms\u001b[0m\u001b[1;33m(\u001b[0m\u001b[0mDerivative\u001b[0m\u001b[1;33m)\u001b[0m\u001b[1;33m)\u001b[0m\u001b[1;33m[\u001b[0m\u001b[1;36m0\u001b[0m\u001b[1;33m]\u001b[0m\u001b[1;33m.\u001b[0m\u001b[0matoms\u001b[0m\u001b[1;33m(\u001b[0m\u001b[0mSymbol\u001b[0m\u001b[1;33m)\u001b[0m\u001b[1;33m)\u001b[0m\u001b[1;33m[\u001b[0m\u001b[1;36m0\u001b[0m\u001b[1;33m]\u001b[0m\u001b[1;33m\u001b[0m\u001b[0m\n",
      "\u001b[1;31mValueError\u001b[0m: classify_sysode() works for systems of ODEs. For scalar ODEs, classify_ode should be used"
     ]
    }
   ],
   "source": [
    "vector_flow(['x'], [1*symbols('x')])"
   ]
  },
  {
   "cell_type": "code",
   "execution_count": 8,
   "metadata": {},
   "outputs": [
    {
     "data": {
      "image/png": "[encoded data removed]",
      "text/latex": [
       "$$\\left[\\begin{matrix}0 & - \\sin{\\left (\\varphi_{2}{\\left (x \\right )} \\right )} \\frac{d}{d x} \\varphi_{3}{\\left (x \\right )} - \\frac{d}{d x} \\varphi_{1}{\\left (x \\right )} & \\sin{\\left (\\varphi_{1}{\\left (x \\right )} \\right )} \\cos{\\left (\\varphi_{2}{\\left (x \\right )} \\right )} \\frac{d}{d x} \\varphi_{3}{\\left (x \\right )} - \\cos{\\left (\\varphi_{1}{\\left (x \\right )} \\right )} \\frac{d}{d x} \\varphi_{2}{\\left (x \\right )}\\\\\\sin{\\left (\\varphi_{2}{\\left (x \\right )} \\right )} \\frac{d}{d x} \\varphi_{3}{\\left (x \\right )} + \\frac{d}{d x} \\varphi_{1}{\\left (x \\right )} & 0 & - \\sin{\\left (\\varphi_{1}{\\left (x \\right )} \\right )} \\frac{d}{d x} \\varphi_{2}{\\left (x \\right )} - \\cos{\\left (\\varphi_{1}{\\left (x \\right )} \\right )} \\cos{\\left (\\varphi_{2}{\\left (x \\right )} \\right )} \\frac{d}{d x} \\varphi_{3}{\\left (x \\right )}\\\\- \\sin{\\left (\\varphi_{1}{\\left (x \\right )} \\right )} \\cos{\\left (\\varphi_{2}{\\left (x \\right )} \\right )} \\frac{d}{d x} \\varphi_{3}{\\left (x \\right )} + \\cos{\\left (\\varphi_{1}{\\left (x \\right )} \\right )} \\frac{d}{d x} \\varphi_{2}{\\left (x \\right )} & \\sin{\\left (\\varphi_{1}{\\left (x \\right )} \\right )} \\frac{d}{d x} \\varphi_{2}{\\left (x \\right )} + \\cos{\\left (\\varphi_{1}{\\left (x \\right )} \\right )} \\cos{\\left (\\varphi_{2}{\\left (x \\right )} \\right )} \\frac{d}{d x} \\varphi_{3}{\\left (x \\right )} & 0\\end{matrix}\\right]$$"
      ],
      "text/plain": [
       "⎡                                                                             \n",
       "⎢                                        0                                    \n",
       "⎢                                                                             \n",
       "⎢                                                                             \n",
       "⎢                                 d                d                          \n",
       "⎢                 sin(varphi₂(x))⋅──(varphi₃(x)) + ──(varphi₁(x))             \n",
       "⎢                                 dx               dx                         \n",
       "⎢                                                                             \n",
       "⎢                                  d                                d         \n",
       "⎢- sin(varphi₁(x))⋅cos(varphi₂(x))⋅──(varphi₃(x)) + cos(varphi₁(x))⋅──(varphi₂\n",
       "⎣                                  dx                               dx        \n",
       "\n",
       "                                       d                d                     \n",
       "                     - sin(varphi₂(x))⋅──(varphi₃(x)) - ──(varphi₁(x))        \n",
       "                                       dx               dx                    \n",
       "                                                                              \n",
       "                                                                              \n",
       "                                             0                                \n",
       "                                                                              \n",
       "                                                                              \n",
       "                      d                                                d      \n",
       "(x))  sin(varphi₁(x))⋅──(varphi₂(x)) + cos(varphi₁(x))⋅cos(varphi₂(x))⋅──(varp\n",
       "                      dx                                               dx     \n",
       "\n",
       "                                          d                                d  \n",
       "          sin(varphi₁(x))⋅cos(varphi₂(x))⋅──(varphi₃(x)) - cos(varphi₁(x))⋅──(\n",
       "                                          dx                               dx \n",
       "                                                                              \n",
       "                           d                                                d \n",
       "         - sin(varphi₁(x))⋅──(varphi₂(x)) - cos(varphi₁(x))⋅cos(varphi₂(x))⋅──\n",
       "                           dx                                               dx\n",
       "                                                                              \n",
       "                                                                              \n",
       "hi₃(x))                                          0                            \n",
       "                                                                              \n",
       "\n",
       "            ⎤\n",
       "varphi₂(x)) ⎥\n",
       "            ⎥\n",
       "            ⎥\n",
       "            ⎥\n",
       "(varphi₃(x))⎥\n",
       "            ⎥\n",
       "            ⎥\n",
       "            ⎥\n",
       "            ⎥\n",
       "            ⎦"
      ]
     },
     "execution_count": 8,
     "metadata": {},
     "output_type": "execute_result"
    }
   ],
   "source": [
    "simplify(diff(F)*F.transpose())"
   ]
  },
  {
   "cell_type": "code",
   "execution_count": 14,
   "metadata": {},
   "outputs": [
    {
     "data": {
      "image/png": "[encoded data removed]",
      "text/latex": [
       "$$F_{21} \\vartheta^{y} - \\vartheta^{F22}$$"
      ],
      "text/plain": [
       "F₂₁⋅vartheta__y - vartheta__F22"
      ]
     },
     "execution_count": 14,
     "metadata": {},
     "output_type": "execute_result"
    }
   ],
   "source": [
    "lp.Lie_contact_diff(g.base, g.rep_sub, g.vectors[3],3,0)"
   ]
  },
  {
   "cell_type": "code",
   "execution_count": 15,
   "metadata": {},
   "outputs": [
    {
     "data": {
      "image/png": "[encoded data removed]",
      "text/latex": [
       "$$\\left [ u \\cos{\\left (x \\right )}, \\quad 0, \\quad \\sin{\\left (x \\right )}, \\quad 0, \\quad 0, \\quad 0, \\quad 0, \\quad 0, \\quad 0, \\quad 0, \\quad 0, \\quad 0\\right ]$$"
      ],
      "text/plain": [
       "[u⋅cos(x), 0, sin(x), 0, 0, 0, 0, 0, 0, 0, 0, 0]"
      ]
     },
     "execution_count": 15,
     "metadata": {},
     "output_type": "execute_result"
    }
   ],
   "source": [
    "lp.exterior_diff(g.base, g.rep_sub, sin(lp.x)*u)"
   ]
  },
  {
   "cell_type": "code",
   "execution_count": 62,
   "metadata": {},
   "outputs": [],
   "source": [
    "A = [['x'],['y','u','a','b','g']]\n",
    "A_flat = [item for sublist in A for item in sublist]\n",
    "B = [symbols('d' + a, commutative=False) for a in A_flat]\n",
    "n = 2\n",
    "temp1 = [A, n, 0, 0, 0, 0,0,lp.Contact_sym(A, n)]\n",
    "temp2 = [lp.str_sym(A, n), lp.reverse_dict(lp.str_sym(A, n)), lp.str_fun(A, n), lp.reverse_dict(lp.str_fun(A, n)), lp.sym_fun(A, n), lp.reverse_dict(lp.sym_fun(A, n))]"
   ]
  },
  {
   "cell_type": "code",
   "execution_count": 50,
   "metadata": {},
   "outputs": [
    {
     "data": {
      "image/png": "[encoded data removed]",
      "text/latex": [
       "$$\\left [ 0, \\quad 0, \\quad 0, \\quad \\cos{\\left (a \\right )}, \\quad 0, \\quad 0\\right ]$$"
      ],
      "text/plain": [
       "[0, 0, 0, cos(a), 0, 0]"
      ]
     },
     "execution_count": 50,
     "metadata": {},
     "output_type": "execute_result"
    }
   ],
   "source": [
    "lp.exterior_diff(temp1, temp2, sin(symbols('a')))"
   ]
  },
  {
   "cell_type": "code",
   "execution_count": 41,
   "metadata": {},
   "outputs": [
    {
     "data": {
      "image/png": "[encoded data removed]",
      "text/latex": [
       "$$\\left [ dx, \\quad dy, \\quad du, \\quad da, \\quad db, \\quad dg\\right ]$$"
      ],
      "text/plain": [
       "[dx, dy, du, da, db, dg]"
      ]
     },
     "execution_count": 41,
     "metadata": {},
     "output_type": "execute_result"
    }
   ],
   "source": [
    "B"
   ]
  },
  {
   "cell_type": "code",
   "execution_count": 55,
   "metadata": {
    "collapsed": true
   },
   "outputs": [],
   "source": [
    "def ext_diff(A, B, f):\n",
    "    temp = lp.exterior_diff(A, B, f)\n",
    "    flat = [item for sublist in A[0] for item in sublist]\n",
    "    diffs = [symbols('d' + a, commutative=False) for a in flat]\n",
    "    return sum([a*b for a,b in zip(temp, diffs)])"
   ]
  },
  {
   "cell_type": "code",
   "execution_count": 56,
   "metadata": {},
   "outputs": [
    {
     "data": {
      "image/png": "[encoded data removed]",
      "text/latex": [
       "$$\\cos{\\left (a \\right )} da$$"
      ],
      "text/plain": [
       "cos(a)⋅da"
      ]
     },
     "execution_count": 56,
     "metadata": {},
     "output_type": "execute_result"
    }
   ],
   "source": [
    "ext_diff(temp1, temp2, sin(symbols('a')))"
   ]
  },
  {
   "cell_type": "code",
   "execution_count": 70,
   "metadata": {
    "collapsed": true
   },
   "outputs": [],
   "source": [
    "v = [-symbols('y'), symbols('x'), 0*lp.x, 1+0*lp.x, 0*lp.x, 0*lp.x, symbols('y_x')**2 + 1, symbols('u_x')*symbols('y_x'), symbols('a_x')*symbols('y_x'), symbols('b_x')*symbols('y_x'), symbols('g_x')*symbols('y_x')]"
   ]
  },
  {
   "cell_type": "code",
   "execution_count": 71,
   "metadata": {},
   "outputs": [
    {
     "data": {
      "image/png": "[encoded data removed]",
      "text/latex": [
       "$$\\left [ - y, \\quad x, \\quad 0, \\quad 1, \\quad 0, \\quad 0, \\quad y_{x}^{2} + 1, \\quad u_{x} y_{x}, \\quad a_{x} y_{x}, \\quad b_{x} y_{x}, \\quad g_{x} y_{x}\\right ]$$"
      ],
      "text/plain": [
       "⎡                     2                                ⎤\n",
       "⎣-y, x, 0, 1, 0, 0, yₓ  + 1, uₓ⋅yₓ, aₓ⋅yₓ, bₓ⋅yₓ, gₓ⋅yₓ⎦"
      ]
     },
     "execution_count": 71,
     "metadata": {},
     "output_type": "execute_result"
    }
   ],
   "source": [
    "v"
   ]
  },
  {
   "cell_type": "code",
   "execution_count": null,
   "metadata": {
    "collapsed": true
   },
   "outputs": [],
   "source": [
    "w = [symbosl,]"
   ]
  },
  {
   "cell_type": "markdown",
   "metadata": {},
   "source": [
    "# Lie derivatives of contact forms"
   ]
  },
  {
   "cell_type": "code",
   "execution_count": 27,
   "metadata": {},
   "outputs": [],
   "source": [
    "a = symbols('a')\n",
    "b = symbols('b')\n",
    "g = symbols('g')\n",
    "ax = symbols('a_x')\n",
    "bx = symbols('b_x')\n",
    "gx = symbols('g_x')\n",
    "\n",
    "x = symbols('x')\n",
    "y = symbols('y')\n",
    "u = symbols('u')\n",
    "yx = symbols('y_x')\n",
    "ux = symbols('u_x')\n",
    "\n",
    "A = [['x'],['y','u','a','b','g']]\n",
    "n = 2\n",
    "A_flat = [item for sublist in A for item in sublist]\n",
    "A_jet = [lp.str_usc(A, p) for p in lp.fullJet(A[0], A[1], n-1)]\n",
    "A_jet_no_underscore = lp.fullJet(A[0], A[1], n-1)\n",
    "S = [lp.str_sym(A, n), lp.reverse_dict(lp.str_sym(A, n)), lp.str_fun(A, n), lp.reverse_dict(lp.str_fun(A, n)), lp.sym_fun(A, n), lp.reverse_dict(lp.sym_fun(A, n))]\n",
    "diff_symbs = [symbols('d' + c, commutative=False) for c in A_flat]"
   ]
  },
  {
   "cell_type": "code",
   "execution_count": 45,
   "metadata": {},
   "outputs": [],
   "source": [
    "v4 = [-y, x, 0*x, 1+0*x, 0*x, 0*x, yx**2 + 1, ux*yx, ax*yx, bx*yx, gx*yx]\n",
    "v5 = [-u, 0, x, sin(a)*tan(b), cos(g), -sin(g)/cos(b), ux*yx, ux**2 + 1, ax*ux + ax*cos(a)*tan(b) + bx*sin(a)/cos(b)**2, bx*ux - gx*sin(g), -bx*sin(b)*sin(g)/cos(b)**2 + gx*ux - gx*cos(g)/cos(b)]\n",
    "v6 = [0, -u, y, -cos(a)*tan(b), sin(a), cos(a)/cos(b), -ux, yx, ax*sin(a)*tan(b) - bx*cos(a)/cos(b)**2, ax*cos(a), (-ax*sin(a) + bx*cos(a)*tan(b))/cos(b)]\n",
    "w1 = [-ax-sin(b)*gx, 0*x, 0*x, 1+0*x, 0*x, sin(b)]\n",
    "w2 = [-bx*cos(a)+gx*sin(a)*cos(b),0,0,0,cos(a),-sin(a)*cos(b)]\n",
    "w3 = [-bx*sin(a)-gx*cos(a)*cos(b),0,0,0,sin(a),cos(a)*cos(b)]"
   ]
  },
  {
   "cell_type": "code",
   "execution_count": 14,
   "metadata": {
    "collapsed": true
   },
   "outputs": [],
   "source": [
    "def interior_prod(v,w):\n",
    "    return [simplify(w[i]*v[i]) for i in range(len(w))]\n",
    "\n",
    "def ext_diff(f):\n",
    "    return [diff(f,symbols(var)) for var in A_jet]\n",
    "\n",
    "def two_form_diff(w):\n",
    "    C = []\n",
    "    for i in range(len(A_jet)):\n",
    "        vec = w+[0 for j in range(len(A_jet)-len(w))]\n",
    "        temp = [diff(vec[i], symbols(var)) for var in A_jet]\n",
    "        temp[i] = 0\n",
    "        C.append(temp)\n",
    "    return Matrix(C)-Matrix(C).transpose()\n",
    "\n",
    "def int_two_prod(v,w):\n",
    "    W = [0 for i in range(len(A_jet))]\n",
    "    O = two_form_diff(w).transpose()\n",
    "    for i in range(len(W)):\n",
    "        W[i] = sum(interior_prod(v,O[i,:]))\n",
    "    return W\n",
    "\n",
    "def Lie_derivative(v,w):\n",
    "    temp = [simplify(c-d) for c,d in zip(ext_diff(sum(interior_prod(v,w))),int_two_prod(v,w))]\n",
    "    symbs = lp.Contact_sym(A, n)\n",
    "    for i in range(1,len(symbs)):\n",
    "        symbs[i] = symbols(str(symbs[i]),commutative=False)\n",
    "    return sum([c*d for c,d in zip(temp, symbs)])"
   ]
  },
  {
   "cell_type": "code",
   "execution_count": 15,
   "metadata": {},
   "outputs": [
    {
     "data": {
      "image/png": "[encoded data removed]",
      "text/latex": [
       "$$\\left(a_{x} + g_{x} \\sin{\\left (b \\right )}\\right) \\vartheta^{y}$$"
      ],
      "text/plain": [
       "(aₓ + gₓ⋅sin(b))⋅vartheta__y"
      ]
     },
     "execution_count": 15,
     "metadata": {},
     "output_type": "execute_result"
    }
   ],
   "source": [
    "Lie_derivative(v4,w1)"
   ]
  },
  {
   "cell_type": "code",
   "execution_count": 29,
   "metadata": {},
   "outputs": [
    {
     "data": {
      "image/png": "[encoded data removed]",
      "text/latex": [
       "$$\\left(b_{x} \\cos{\\left (g \\right )} - g_{x} \\sin{\\left (g \\right )} \\cos{\\left (b \\right )}\\right) \\vartheta^{y}$$"
      ],
      "text/plain": [
       "(bₓ⋅cos(g) - gₓ⋅sin(g)⋅cos(b))⋅vartheta__y"
      ]
     },
     "execution_count": 29,
     "metadata": {},
     "output_type": "execute_result"
    }
   ],
   "source": [
    "Lie_derivative(v4,w2)"
   ]
  },
  {
   "cell_type": "code",
   "execution_count": 30,
   "metadata": {},
   "outputs": [
    {
     "data": {
      "image/png": "[encoded data removed]",
      "text/latex": [
       "$$\\left(b_{x} \\sin{\\left (g \\right )} + g_{x} \\cos{\\left (b \\right )} \\cos{\\left (g \\right )}\\right) \\vartheta^{y}$$"
      ],
      "text/plain": [
       "(bₓ⋅sin(g) + gₓ⋅cos(b)⋅cos(g))⋅vartheta__y"
      ]
     },
     "execution_count": 30,
     "metadata": {},
     "output_type": "execute_result"
    }
   ],
   "source": [
    "Lie_derivative(v4,w3)"
   ]
  },
  {
   "cell_type": "code",
   "execution_count": 46,
   "metadata": {},
   "outputs": [
    {
     "data": {
      "image/png": "[encoded data removed]",
      "text/latex": [
       "$$\\left(a_{x} + g_{x} \\sin{\\left (b \\right )}\\right) \\vartheta^{u} + \\left(\\cos{\\left (b \\right )} - \\tan{\\left (b \\right )}\\right) \\cos{\\left (g \\right )} \\vartheta^{g} + \\left(\\sin{\\left (a \\right )} \\tan^{2}{\\left (b \\right )} + \\sin{\\left (a \\right )} - \\sin{\\left (g \\right )} \\tan^{2}{\\left (b \\right )}\\right) \\vartheta^{b} + \\cos{\\left (a \\right )} \\tan{\\left (b \\right )} \\vartheta^{a}$$"
      ],
      "text/plain": [
       "                                                                      ⎛       \n",
       "(aₓ + gₓ⋅sin(b))⋅vartheta__u + (cos(b) - tan(b))⋅cos(g)⋅vartheta__g + ⎝sin(a)⋅\n",
       "\n",
       "   2                         2   ⎞                                        \n",
       "tan (b) + sin(a) - sin(g)⋅tan (b)⎠⋅vartheta__b + cos(a)⋅tan(b)⋅vartheta__a"
      ]
     },
     "execution_count": 46,
     "metadata": {},
     "output_type": "execute_result"
    }
   ],
   "source": [
    "Lie_derivative(v5,w1)"
   ]
  },
  {
   "cell_type": "code",
   "execution_count": 47,
   "metadata": {},
   "outputs": [
    {
     "data": {
      "image/png": "[encoded data removed]",
      "text/latex": [
       "$$\\left(b_{x} \\cos{\\left (a \\right )} - g_{x} \\sin{\\left (a \\right )} \\cos{\\left (b \\right )}\\right) \\vartheta^{u} + \\left(- \\sin{\\left (a \\right )} + \\sin{\\left (g \\right )}\\right) \\sin{\\left (a \\right )} \\tan{\\left (b \\right )} \\vartheta^{b} + \\left(- \\sin{\\left (a \\right )} \\sin{\\left (b \\right )} \\cos{\\left (a \\right )} + \\sin{\\left (a \\right )} \\sin{\\left (b \\right )} \\cos{\\left (g \\right )} + \\sin{\\left (a - g \\right )}\\right) \\vartheta^{g}$$"
      ],
      "text/plain": [
       "(bₓ⋅cos(a) - gₓ⋅sin(a)⋅cos(b))⋅vartheta__u + (-sin(a) + sin(g))⋅sin(a)⋅tan(b)⋅\n",
       "vartheta__b + (-sin(a)⋅sin(b)⋅cos(a) + sin(a)⋅sin(b)⋅cos(g) + sin(a - g))⋅vart\n",
       "heta__g"
      ]
     },
     "execution_count": 47,
     "metadata": {},
     "output_type": "execute_result"
    }
   ],
   "source": [
    "Lie_derivative(v5,w2)"
   ]
  },
  {
   "cell_type": "code",
   "execution_count": 48,
   "metadata": {},
   "outputs": [
    {
     "data": {
      "image/png": "[encoded data removed]",
      "text/latex": [
       "$$\\left(b_{x} \\sin{\\left (a \\right )} + g_{x} \\cos{\\left (a \\right )} \\cos{\\left (b \\right )}\\right) \\vartheta^{u} + \\left(\\sin{\\left (a \\right )} - \\sin{\\left (g \\right )}\\right) \\cos{\\left (a \\right )} \\tan{\\left (b \\right )} \\vartheta^{b} + \\left(- \\sin^{2}{\\left (a \\right )} \\sin{\\left (b \\right )} - \\sin{\\left (b \\right )} \\cos{\\left (a \\right )} \\cos{\\left (g \\right )} - \\cos{\\left (a - g \\right )}\\right) \\vartheta^{g}$$"
      ],
      "text/plain": [
       "                                                                              \n",
       "(bₓ⋅sin(a) + gₓ⋅cos(a)⋅cos(b))⋅vartheta__u + (sin(a) - sin(g))⋅cos(a)⋅tan(b)⋅v\n",
       "\n",
       "             ⎛     2                                              ⎞           \n",
       "artheta__b + ⎝- sin (a)⋅sin(b) - sin(b)⋅cos(a)⋅cos(g) - cos(a - g)⎠⋅vartheta__\n",
       "\n",
       " \n",
       "g"
      ]
     },
     "execution_count": 48,
     "metadata": {},
     "output_type": "execute_result"
    }
   ],
   "source": [
    "Lie_derivative(v5,w3)"
   ]
  },
  {
   "cell_type": "code",
   "execution_count": 49,
   "metadata": {},
   "outputs": [
    {
     "data": {
      "image/png": "[encoded data removed]",
      "text/latex": [
       "$$\\sin{\\left (a \\right )} \\cos{\\left (b \\right )} \\vartheta^{g} - \\cos{\\left (a \\right )} \\vartheta^{b}$$"
      ],
      "text/plain": [
       "sin(a)⋅cos(b)⋅vartheta__g - cos(a)⋅vartheta__b"
      ]
     },
     "execution_count": 49,
     "metadata": {},
     "output_type": "execute_result"
    }
   ],
   "source": [
    "Lie_derivative(v6,w1)"
   ]
  },
  {
   "cell_type": "code",
   "execution_count": 50,
   "metadata": {},
   "outputs": [
    {
     "data": {
      "image/png": "[encoded data removed]",
      "text/latex": [
       "$$\\sin{\\left (b \\right )} \\vartheta^{g} + \\vartheta^{a}$$"
      ],
      "text/plain": [
       "sin(b)⋅vartheta__g + vartheta__a"
      ]
     },
     "execution_count": 50,
     "metadata": {},
     "output_type": "execute_result"
    }
   ],
   "source": [
    "Lie_derivative(v6,w2)"
   ]
  },
  {
   "cell_type": "code",
   "execution_count": 51,
   "metadata": {},
   "outputs": [
    {
     "data": {
      "image/png": "[encoded data removed]",
      "text/latex": [
       "$$0$$"
      ],
      "text/plain": [
       "0"
      ]
     },
     "execution_count": 51,
     "metadata": {},
     "output_type": "execute_result"
    }
   ],
   "source": [
    "Lie_derivative(v6,w3)"
   ]
  },
  {
   "cell_type": "code",
   "execution_count": 58,
   "metadata": {},
   "outputs": [
    {
     "data": {
      "image/png": "[encoded data removed]",
      "text/latex": [
       "$$\\left[\\begin{matrix}- \\sin{\\left (\\psi_{2} \\right )} \\cos{\\left (\\varphi_{2}{\\left (x \\right )} \\right )} \\frac{d}{d x} \\varphi_{2}{\\left (x \\right )} - \\sin{\\left (\\psi_{1} + \\varphi_{1}{\\left (x \\right )} \\right )} \\cos{\\left (\\psi_{2} \\right )} \\cos{\\left (\\varphi_{2}{\\left (x \\right )} \\right )} \\frac{d}{d x} \\varphi_{1}{\\left (x \\right )} - \\sin{\\left (\\varphi_{2}{\\left (x \\right )} \\right )} \\cos{\\left (\\psi_{2} \\right )} \\cos{\\left (\\psi_{1} + \\varphi_{1}{\\left (x \\right )} \\right )} \\frac{d}{d x} \\varphi_{2}{\\left (x \\right )} & \\sin{\\left (\\psi_{2} \\right )} \\sin{\\left (\\varphi_{2}{\\left (x \\right )} \\right )} \\sin{\\left (\\varphi_{3}{\\left (x \\right )} \\right )} \\frac{d}{d x} \\varphi_{2}{\\left (x \\right )} - \\sin{\\left (\\psi_{2} \\right )} \\cos{\\left (\\varphi_{2}{\\left (x \\right )} \\right )} \\cos{\\left (\\varphi_{3}{\\left (x \\right )} \\right )} \\frac{d}{d x} \\varphi_{3}{\\left (x \\right )} + \\sin{\\left (\\psi_{1} + \\varphi_{1}{\\left (x \\right )} \\right )} \\sin{\\left (\\varphi_{2}{\\left (x \\right )} \\right )} \\sin{\\left (\\varphi_{3}{\\left (x \\right )} \\right )} \\cos{\\left (\\psi_{2} \\right )} \\frac{d}{d x} \\varphi_{1}{\\left (x \\right )} + \\sin{\\left (\\psi_{1} + \\varphi_{1}{\\left (x \\right )} \\right )} \\sin{\\left (\\varphi_{3}{\\left (x \\right )} \\right )} \\cos{\\left (\\psi_{2} \\right )} \\frac{d}{d x} \\varphi_{3}{\\left (x \\right )} - \\sin{\\left (\\varphi_{2}{\\left (x \\right )} \\right )} \\cos{\\left (\\psi_{2} \\right )} \\cos{\\left (\\psi_{1} + \\varphi_{1}{\\left (x \\right )} \\right )} \\cos{\\left (\\varphi_{3}{\\left (x \\right )} \\right )} \\frac{d}{d x} \\varphi_{3}{\\left (x \\right )} - \\sin{\\left (\\varphi_{3}{\\left (x \\right )} \\right )} \\cos{\\left (\\psi_{2} \\right )} \\cos{\\left (\\psi_{1} + \\varphi_{1}{\\left (x \\right )} \\right )} \\cos{\\left (\\varphi_{2}{\\left (x \\right )} \\right )} \\frac{d}{d x} \\varphi_{2}{\\left (x \\right )} - \\cos{\\left (\\psi_{2} \\right )} \\cos{\\left (\\psi_{1} + \\varphi_{1}{\\left (x \\right )} \\right )} \\cos{\\left (\\varphi_{3}{\\left (x \\right )} \\right )} \\frac{d}{d x} \\varphi_{1}{\\left (x \\right )} & \\sin{\\left (\\psi_{2} \\right )} \\sin{\\left (\\varphi_{2}{\\left (x \\right )} \\right )} \\cos{\\left (\\varphi_{3}{\\left (x \\right )} \\right )} \\frac{d}{d x} \\varphi_{2}{\\left (x \\right )} + \\sin{\\left (\\psi_{2} \\right )} \\sin{\\left (\\varphi_{3}{\\left (x \\right )} \\right )} \\cos{\\left (\\varphi_{2}{\\left (x \\right )} \\right )} \\frac{d}{d x} \\varphi_{3}{\\left (x \\right )} + \\sin{\\left (\\psi_{1} + \\varphi_{1}{\\left (x \\right )} \\right )} \\sin{\\left (\\varphi_{2}{\\left (x \\right )} \\right )} \\cos{\\left (\\psi_{2} \\right )} \\cos{\\left (\\varphi_{3}{\\left (x \\right )} \\right )} \\frac{d}{d x} \\varphi_{1}{\\left (x \\right )} + \\sin{\\left (\\psi_{1} + \\varphi_{1}{\\left (x \\right )} \\right )} \\cos{\\left (\\psi_{2} \\right )} \\cos{\\left (\\varphi_{3}{\\left (x \\right )} \\right )} \\frac{d}{d x} \\varphi_{3}{\\left (x \\right )} + \\sin{\\left (\\varphi_{2}{\\left (x \\right )} \\right )} \\sin{\\left (\\varphi_{3}{\\left (x \\right )} \\right )} \\cos{\\left (\\psi_{2} \\right )} \\cos{\\left (\\psi_{1} + \\varphi_{1}{\\left (x \\right )} \\right )} \\frac{d}{d x} \\varphi_{3}{\\left (x \\right )} + \\sin{\\left (\\varphi_{3}{\\left (x \\right )} \\right )} \\cos{\\left (\\psi_{2} \\right )} \\cos{\\left (\\psi_{1} + \\varphi_{1}{\\left (x \\right )} \\right )} \\frac{d}{d x} \\varphi_{1}{\\left (x \\right )} - \\cos{\\left (\\psi_{2} \\right )} \\cos{\\left (\\psi_{1} + \\varphi_{1}{\\left (x \\right )} \\right )} \\cos{\\left (\\varphi_{2}{\\left (x \\right )} \\right )} \\cos{\\left (\\varphi_{3}{\\left (x \\right )} \\right )} \\frac{d}{d x} \\varphi_{2}{\\left (x \\right )}\\\\\\sin{\\left (\\psi_{2} \\right )} \\sin{\\left (\\psi_{3} \\right )} \\sin{\\left (\\psi_{1} + \\varphi_{1}{\\left (x \\right )} \\right )} \\cos{\\left (\\varphi_{2}{\\left (x \\right )} \\right )} \\frac{d}{d x} \\varphi_{1}{\\left (x \\right )} + \\sin{\\left (\\psi_{2} \\right )} \\sin{\\left (\\psi_{3} \\right )} \\sin{\\left (\\varphi_{2}{\\left (x \\right )} \\right )} \\cos{\\left (\\psi_{1} + \\varphi_{1}{\\left (x \\right )} \\right )} \\frac{d}{d x} \\varphi_{2}{\\left (x \\right )} - \\sin{\\left (\\psi_{3} \\right )} \\cos{\\left (\\psi_{2} \\right )} \\cos{\\left (\\varphi_{2}{\\left (x \\right )} \\right )} \\frac{d}{d x} \\varphi_{2}{\\left (x \\right )} - \\sin{\\left (\\psi_{1} + \\varphi_{1}{\\left (x \\right )} \\right )} \\sin{\\left (\\varphi_{2}{\\left (x \\right )} \\right )} \\cos{\\left (\\psi_{3} \\right )} \\frac{d}{d x} \\varphi_{2}{\\left (x \\right )} + \\cos{\\left (\\psi_{3} \\right )} \\cos{\\left (\\psi_{1} + \\varphi_{1}{\\left (x \\right )} \\right )} \\cos{\\left (\\varphi_{2}{\\left (x \\right )} \\right )} \\frac{d}{d x} \\varphi_{1}{\\left (x \\right )} & - \\left(\\sin{\\left (\\psi_{1} \\right )} \\cos{\\left (\\psi_{3} \\right )} - \\sin{\\left (\\psi_{2} \\right )} \\sin{\\left (\\psi_{3} \\right )} \\cos{\\left (\\psi_{1} \\right )}\\right) \\left(- \\sin{\\left (\\varphi_{1}{\\left (x \\right )} \\right )} \\sin{\\left (\\varphi_{2}{\\left (x \\right )} \\right )} \\sin{\\left (\\varphi_{3}{\\left (x \\right )} \\right )} \\frac{d}{d x} \\varphi_{1}{\\left (x \\right )} - \\sin{\\left (\\varphi_{1}{\\left (x \\right )} \\right )} \\sin{\\left (\\varphi_{3}{\\left (x \\right )} \\right )} \\frac{d}{d x} \\varphi_{3}{\\left (x \\right )} + \\sin{\\left (\\varphi_{2}{\\left (x \\right )} \\right )} \\cos{\\left (\\varphi_{1}{\\left (x \\right )} \\right )} \\cos{\\left (\\varphi_{3}{\\left (x \\right )} \\right )} \\frac{d}{d x} \\varphi_{3}{\\left (x \\right )} + \\sin{\\left (\\varphi_{3}{\\left (x \\right )} \\right )} \\cos{\\left (\\varphi_{1}{\\left (x \\right )} \\right )} \\cos{\\left (\\varphi_{2}{\\left (x \\right )} \\right )} \\frac{d}{d x} \\varphi_{2}{\\left (x \\right )} + \\cos{\\left (\\varphi_{1}{\\left (x \\right )} \\right )} \\cos{\\left (\\varphi_{3}{\\left (x \\right )} \\right )} \\frac{d}{d x} \\varphi_{1}{\\left (x \\right )}\\right) - \\left(\\sin{\\left (\\psi_{1} \\right )} \\sin{\\left (\\psi_{2} \\right )} \\sin{\\left (\\psi_{3} \\right )} + \\cos{\\left (\\psi_{1} \\right )} \\cos{\\left (\\psi_{3} \\right )}\\right) \\left(\\sin{\\left (\\varphi_{1}{\\left (x \\right )} \\right )} \\sin{\\left (\\varphi_{2}{\\left (x \\right )} \\right )} \\cos{\\left (\\varphi_{3}{\\left (x \\right )} \\right )} \\frac{d}{d x} \\varphi_{3}{\\left (x \\right )} + \\sin{\\left (\\varphi_{1}{\\left (x \\right )} \\right )} \\sin{\\left (\\varphi_{3}{\\left (x \\right )} \\right )} \\cos{\\left (\\varphi_{2}{\\left (x \\right )} \\right )} \\frac{d}{d x} \\varphi_{2}{\\left (x \\right )} + \\sin{\\left (\\varphi_{1}{\\left (x \\right )} \\right )} \\cos{\\left (\\varphi_{3}{\\left (x \\right )} \\right )} \\frac{d}{d x} \\varphi_{1}{\\left (x \\right )} + \\sin{\\left (\\varphi_{2}{\\left (x \\right )} \\right )} \\sin{\\left (\\varphi_{3}{\\left (x \\right )} \\right )} \\cos{\\left (\\varphi_{1}{\\left (x \\right )} \\right )} \\frac{d}{d x} \\varphi_{1}{\\left (x \\right )} + \\sin{\\left (\\varphi_{3}{\\left (x \\right )} \\right )} \\cos{\\left (\\varphi_{1}{\\left (x \\right )} \\right )} \\frac{d}{d x} \\varphi_{3}{\\left (x \\right )}\\right) + \\left(\\sin{\\left (\\varphi_{2}{\\left (x \\right )} \\right )} \\sin{\\left (\\varphi_{3}{\\left (x \\right )} \\right )} \\frac{d}{d x} \\varphi_{2}{\\left (x \\right )} - \\cos{\\left (\\varphi_{2}{\\left (x \\right )} \\right )} \\cos{\\left (\\varphi_{3}{\\left (x \\right )} \\right )} \\frac{d}{d x} \\varphi_{3}{\\left (x \\right )}\\right) \\sin{\\left (\\psi_{3} \\right )} \\cos{\\left (\\psi_{2} \\right )} & \\left(\\sin{\\left (\\psi_{1} \\right )} \\cos{\\left (\\psi_{3} \\right )} - \\sin{\\left (\\psi_{2} \\right )} \\sin{\\left (\\psi_{3} \\right )} \\cos{\\left (\\psi_{1} \\right )}\\right) \\left(\\sin{\\left (\\varphi_{1}{\\left (x \\right )} \\right )} \\sin{\\left (\\varphi_{2}{\\left (x \\right )} \\right )} \\cos{\\left (\\varphi_{3}{\\left (x \\right )} \\right )} \\frac{d}{d x} \\varphi_{1}{\\left (x \\right )} + \\sin{\\left (\\varphi_{1}{\\left (x \\right )} \\right )} \\cos{\\left (\\varphi_{3}{\\left (x \\right )} \\right )} \\frac{d}{d x} \\varphi_{3}{\\left (x \\right )} + \\sin{\\left (\\varphi_{2}{\\left (x \\right )} \\right )} \\sin{\\left (\\varphi_{3}{\\left (x \\right )} \\right )} \\cos{\\left (\\varphi_{1}{\\left (x \\right )} \\right )} \\frac{d}{d x} \\varphi_{3}{\\left (x \\right )} + \\sin{\\left (\\varphi_{3}{\\left (x \\right )} \\right )} \\cos{\\left (\\varphi_{1}{\\left (x \\right )} \\right )} \\frac{d}{d x} \\varphi_{1}{\\left (x \\right )} - \\cos{\\left (\\varphi_{1}{\\left (x \\right )} \\right )} \\cos{\\left (\\varphi_{2}{\\left (x \\right )} \\right )} \\cos{\\left (\\varphi_{3}{\\left (x \\right )} \\right )} \\frac{d}{d x} \\varphi_{2}{\\left (x \\right )}\\right) - \\left(\\sin{\\left (\\psi_{1} \\right )} \\sin{\\left (\\psi_{2} \\right )} \\sin{\\left (\\psi_{3} \\right )} + \\cos{\\left (\\psi_{1} \\right )} \\cos{\\left (\\psi_{3} \\right )}\\right) \\left(- \\sin{\\left (\\varphi_{1}{\\left (x \\right )} \\right )} \\sin{\\left (\\varphi_{2}{\\left (x \\right )} \\right )} \\sin{\\left (\\varphi_{3}{\\left (x \\right )} \\right )} \\frac{d}{d x} \\varphi_{3}{\\left (x \\right )} - \\sin{\\left (\\varphi_{1}{\\left (x \\right )} \\right )} \\sin{\\left (\\varphi_{3}{\\left (x \\right )} \\right )} \\frac{d}{d x} \\varphi_{1}{\\left (x \\right )} + \\sin{\\left (\\varphi_{1}{\\left (x \\right )} \\right )} \\cos{\\left (\\varphi_{2}{\\left (x \\right )} \\right )} \\cos{\\left (\\varphi_{3}{\\left (x \\right )} \\right )} \\frac{d}{d x} \\varphi_{2}{\\left (x \\right )} + \\sin{\\left (\\varphi_{2}{\\left (x \\right )} \\right )} \\cos{\\left (\\varphi_{1}{\\left (x \\right )} \\right )} \\cos{\\left (\\varphi_{3}{\\left (x \\right )} \\right )} \\frac{d}{d x} \\varphi_{1}{\\left (x \\right )} + \\cos{\\left (\\varphi_{1}{\\left (x \\right )} \\right )} \\cos{\\left (\\varphi_{3}{\\left (x \\right )} \\right )} \\frac{d}{d x} \\varphi_{3}{\\left (x \\right )}\\right) + \\left(\\sin{\\left (\\varphi_{2}{\\left (x \\right )} \\right )} \\cos{\\left (\\varphi_{3}{\\left (x \\right )} \\right )} \\frac{d}{d x} \\varphi_{2}{\\left (x \\right )} + \\sin{\\left (\\varphi_{3}{\\left (x \\right )} \\right )} \\cos{\\left (\\varphi_{2}{\\left (x \\right )} \\right )} \\frac{d}{d x} \\varphi_{3}{\\left (x \\right )}\\right) \\sin{\\left (\\psi_{3} \\right )} \\cos{\\left (\\psi_{2} \\right )}\\\\- \\sin{\\left (\\psi_{2} \\right )} \\sin{\\left (\\psi_{1} + \\varphi_{1}{\\left (x \\right )} \\right )} \\cos{\\left (\\psi_{3} \\right )} \\cos{\\left (\\varphi_{2}{\\left (x \\right )} \\right )} \\frac{d}{d x} \\varphi_{1}{\\left (x \\right )} - \\sin{\\left (\\psi_{2} \\right )} \\sin{\\left (\\varphi_{2}{\\left (x \\right )} \\right )} \\cos{\\left (\\psi_{3} \\right )} \\cos{\\left (\\psi_{1} + \\varphi_{1}{\\left (x \\right )} \\right )} \\frac{d}{d x} \\varphi_{2}{\\left (x \\right )} - \\sin{\\left (\\psi_{3} \\right )} \\sin{\\left (\\psi_{1} + \\varphi_{1}{\\left (x \\right )} \\right )} \\sin{\\left (\\varphi_{2}{\\left (x \\right )} \\right )} \\frac{d}{d x} \\varphi_{2}{\\left (x \\right )} + \\sin{\\left (\\psi_{3} \\right )} \\cos{\\left (\\psi_{1} + \\varphi_{1}{\\left (x \\right )} \\right )} \\cos{\\left (\\varphi_{2}{\\left (x \\right )} \\right )} \\frac{d}{d x} \\varphi_{1}{\\left (x \\right )} + \\cos{\\left (\\psi_{2} \\right )} \\cos{\\left (\\psi_{3} \\right )} \\cos{\\left (\\varphi_{2}{\\left (x \\right )} \\right )} \\frac{d}{d x} \\varphi_{2}{\\left (x \\right )} & - \\left(\\sin{\\left (\\psi_{1} \\right )} \\sin{\\left (\\psi_{3} \\right )} + \\sin{\\left (\\psi_{2} \\right )} \\cos{\\left (\\psi_{1} \\right )} \\cos{\\left (\\psi_{3} \\right )}\\right) \\left(- \\sin{\\left (\\varphi_{1}{\\left (x \\right )} \\right )} \\sin{\\left (\\varphi_{2}{\\left (x \\right )} \\right )} \\sin{\\left (\\varphi_{3}{\\left (x \\right )} \\right )} \\frac{d}{d x} \\varphi_{1}{\\left (x \\right )} - \\sin{\\left (\\varphi_{1}{\\left (x \\right )} \\right )} \\sin{\\left (\\varphi_{3}{\\left (x \\right )} \\right )} \\frac{d}{d x} \\varphi_{3}{\\left (x \\right )} + \\sin{\\left (\\varphi_{2}{\\left (x \\right )} \\right )} \\cos{\\left (\\varphi_{1}{\\left (x \\right )} \\right )} \\cos{\\left (\\varphi_{3}{\\left (x \\right )} \\right )} \\frac{d}{d x} \\varphi_{3}{\\left (x \\right )} + \\sin{\\left (\\varphi_{3}{\\left (x \\right )} \\right )} \\cos{\\left (\\varphi_{1}{\\left (x \\right )} \\right )} \\cos{\\left (\\varphi_{2}{\\left (x \\right )} \\right )} \\frac{d}{d x} \\varphi_{2}{\\left (x \\right )} + \\cos{\\left (\\varphi_{1}{\\left (x \\right )} \\right )} \\cos{\\left (\\varphi_{3}{\\left (x \\right )} \\right )} \\frac{d}{d x} \\varphi_{1}{\\left (x \\right )}\\right) + \\left(\\sin{\\left (\\psi_{1} \\right )} \\sin{\\left (\\psi_{2} \\right )} \\cos{\\left (\\psi_{3} \\right )} - \\sin{\\left (\\psi_{3} \\right )} \\cos{\\left (\\psi_{1} \\right )}\\right) \\left(\\sin{\\left (\\varphi_{1}{\\left (x \\right )} \\right )} \\sin{\\left (\\varphi_{2}{\\left (x \\right )} \\right )} \\cos{\\left (\\varphi_{3}{\\left (x \\right )} \\right )} \\frac{d}{d x} \\varphi_{3}{\\left (x \\right )} + \\sin{\\left (\\varphi_{1}{\\left (x \\right )} \\right )} \\sin{\\left (\\varphi_{3}{\\left (x \\right )} \\right )} \\cos{\\left (\\varphi_{2}{\\left (x \\right )} \\right )} \\frac{d}{d x} \\varphi_{2}{\\left (x \\right )} + \\sin{\\left (\\varphi_{1}{\\left (x \\right )} \\right )} \\cos{\\left (\\varphi_{3}{\\left (x \\right )} \\right )} \\frac{d}{d x} \\varphi_{1}{\\left (x \\right )} + \\sin{\\left (\\varphi_{2}{\\left (x \\right )} \\right )} \\sin{\\left (\\varphi_{3}{\\left (x \\right )} \\right )} \\cos{\\left (\\varphi_{1}{\\left (x \\right )} \\right )} \\frac{d}{d x} \\varphi_{1}{\\left (x \\right )} + \\sin{\\left (\\varphi_{3}{\\left (x \\right )} \\right )} \\cos{\\left (\\varphi_{1}{\\left (x \\right )} \\right )} \\frac{d}{d x} \\varphi_{3}{\\left (x \\right )}\\right) - \\left(\\sin{\\left (\\varphi_{2}{\\left (x \\right )} \\right )} \\sin{\\left (\\varphi_{3}{\\left (x \\right )} \\right )} \\frac{d}{d x} \\varphi_{2}{\\left (x \\right )} - \\cos{\\left (\\varphi_{2}{\\left (x \\right )} \\right )} \\cos{\\left (\\varphi_{3}{\\left (x \\right )} \\right )} \\frac{d}{d x} \\varphi_{3}{\\left (x \\right )}\\right) \\cos{\\left (\\psi_{2} \\right )} \\cos{\\left (\\psi_{3} \\right )} & \\left(\\sin{\\left (\\psi_{1} \\right )} \\sin{\\left (\\psi_{3} \\right )} + \\sin{\\left (\\psi_{2} \\right )} \\cos{\\left (\\psi_{1} \\right )} \\cos{\\left (\\psi_{3} \\right )}\\right) \\left(\\sin{\\left (\\varphi_{1}{\\left (x \\right )} \\right )} \\sin{\\left (\\varphi_{2}{\\left (x \\right )} \\right )} \\cos{\\left (\\varphi_{3}{\\left (x \\right )} \\right )} \\frac{d}{d x} \\varphi_{1}{\\left (x \\right )} + \\sin{\\left (\\varphi_{1}{\\left (x \\right )} \\right )} \\cos{\\left (\\varphi_{3}{\\left (x \\right )} \\right )} \\frac{d}{d x} \\varphi_{3}{\\left (x \\right )} + \\sin{\\left (\\varphi_{2}{\\left (x \\right )} \\right )} \\sin{\\left (\\varphi_{3}{\\left (x \\right )} \\right )} \\cos{\\left (\\varphi_{1}{\\left (x \\right )} \\right )} \\frac{d}{d x} \\varphi_{3}{\\left (x \\right )} + \\sin{\\left (\\varphi_{3}{\\left (x \\right )} \\right )} \\cos{\\left (\\varphi_{1}{\\left (x \\right )} \\right )} \\frac{d}{d x} \\varphi_{1}{\\left (x \\right )} - \\cos{\\left (\\varphi_{1}{\\left (x \\right )} \\right )} \\cos{\\left (\\varphi_{2}{\\left (x \\right )} \\right )} \\cos{\\left (\\varphi_{3}{\\left (x \\right )} \\right )} \\frac{d}{d x} \\varphi_{2}{\\left (x \\right )}\\right) + \\left(\\sin{\\left (\\psi_{1} \\right )} \\sin{\\left (\\psi_{2} \\right )} \\cos{\\left (\\psi_{3} \\right )} - \\sin{\\left (\\psi_{3} \\right )} \\cos{\\left (\\psi_{1} \\right )}\\right) \\left(- \\sin{\\left (\\varphi_{1}{\\left (x \\right )} \\right )} \\sin{\\left (\\varphi_{2}{\\left (x \\right )} \\right )} \\sin{\\left (\\varphi_{3}{\\left (x \\right )} \\right )} \\frac{d}{d x} \\varphi_{3}{\\left (x \\right )} - \\sin{\\left (\\varphi_{1}{\\left (x \\right )} \\right )} \\sin{\\left (\\varphi_{3}{\\left (x \\right )} \\right )} \\frac{d}{d x} \\varphi_{1}{\\left (x \\right )} + \\sin{\\left (\\varphi_{1}{\\left (x \\right )} \\right )} \\cos{\\left (\\varphi_{2}{\\left (x \\right )} \\right )} \\cos{\\left (\\varphi_{3}{\\left (x \\right )} \\right )} \\frac{d}{d x} \\varphi_{2}{\\left (x \\right )} + \\sin{\\left (\\varphi_{2}{\\left (x \\right )} \\right )} \\cos{\\left (\\varphi_{1}{\\left (x \\right )} \\right )} \\cos{\\left (\\varphi_{3}{\\left (x \\right )} \\right )} \\frac{d}{d x} \\varphi_{1}{\\left (x \\right )} + \\cos{\\left (\\varphi_{1}{\\left (x \\right )} \\right )} \\cos{\\left (\\varphi_{3}{\\left (x \\right )} \\right )} \\frac{d}{d x} \\varphi_{3}{\\left (x \\right )}\\right) - \\left(\\sin{\\left (\\varphi_{2}{\\left (x \\right )} \\right )} \\cos{\\left (\\varphi_{3}{\\left (x \\right )} \\right )} \\frac{d}{d x} \\varphi_{2}{\\left (x \\right )} + \\sin{\\left (\\varphi_{3}{\\left (x \\right )} \\right )} \\cos{\\left (\\varphi_{2}{\\left (x \\right )} \\right )} \\frac{d}{d x} \\varphi_{3}{\\left (x \\right )}\\right) \\cos{\\left (\\psi_{2} \\right )} \\cos{\\left (\\psi_{3} \\right )}\\end{matrix}\\right]$$"
      ],
      "text/plain": [
       "⎡                                                                             \n",
       "⎢                                                                          - s\n",
       "⎢                                                                             \n",
       "⎢                                                                             \n",
       "⎢                                                      d                      \n",
       "⎢ sin(ψ₂)⋅sin(ψ₃)⋅sin(ψ₁ + varphi₁(x))⋅cos(varphi₂(x))⋅──(varphi₁(x)) + sin(ψ₂\n",
       "⎢                                                      dx                     \n",
       "⎢                                                                             \n",
       "⎢                                                       d                     \n",
       "⎢- sin(ψ₂)⋅sin(ψ₁ + varphi₁(x))⋅cos(ψ₃)⋅cos(varphi₂(x))⋅──(varphi₁(x)) - sin(ψ\n",
       "⎣                                                       dx                    \n",
       "\n",
       "                       d                                                      \n",
       "in(ψ₂)⋅cos(varphi₂(x))⋅──(varphi₂(x)) - sin(ψ₁ + varphi₁(x))⋅cos(ψ₂)⋅cos(varph\n",
       "                       dx                                                     \n",
       "                                                                              \n",
       "                                               d                              \n",
       ")⋅sin(ψ₃)⋅sin(varphi₂(x))⋅cos(ψ₁ + varphi₁(x))⋅──(varphi₂(x)) - sin(ψ₃)⋅cos(ψ₂\n",
       "                                               dx                             \n",
       "                                                                              \n",
       "                                                d                             \n",
       "₂)⋅sin(varphi₂(x))⋅cos(ψ₃)⋅cos(ψ₁ + varphi₁(x))⋅──(varphi₂(x)) - sin(ψ₃)⋅sin(ψ\n",
       "                                                dx                            \n",
       "\n",
       "       d                                                             d        \n",
       "i₂(x))⋅──(varphi₁(x)) - sin(varphi₂(x))⋅cos(ψ₂)⋅cos(ψ₁ + varphi₁(x))⋅──(varphi\n",
       "       dx                                                            dx       \n",
       "                                                                              \n",
       "                  d                                                           \n",
       ")⋅cos(varphi₂(x))⋅──(varphi₂(x)) - sin(ψ₁ + varphi₁(x))⋅sin(varphi₂(x))⋅cos(ψ₃\n",
       "                  dx                                                          \n",
       "                                                                              \n",
       "                                d                                             \n",
       "₁ + varphi₁(x))⋅sin(varphi₂(x))⋅──(varphi₂(x)) + sin(ψ₃)⋅cos(ψ₁ + varphi₁(x))⋅\n",
       "                                dx                                            \n",
       "\n",
       "                                                                              \n",
       "₂(x))                                                                         \n",
       "                                                                              \n",
       "                                                                              \n",
       "  d                                                             d             \n",
       ")⋅──(varphi₂(x)) + cos(ψ₃)⋅cos(ψ₁ + varphi₁(x))⋅cos(varphi₂(x))⋅──(varphi₁(x))\n",
       "  dx                                                            dx            \n",
       "                                                                              \n",
       "                d                                                d            \n",
       "cos(varphi₂(x))⋅──(varphi₁(x)) + cos(ψ₂)⋅cos(ψ₃)⋅cos(varphi₂(x))⋅──(varphi₂(x)\n",
       "                dx                                               dx           \n",
       "\n",
       "                                                                              \n",
       "                                                                              \n",
       "                                                                              \n",
       "                                                                              \n",
       "                                                 ⎛                            \n",
       "   - (sin(ψ₁)⋅cos(ψ₃) - sin(ψ₂)⋅sin(ψ₃)⋅cos(ψ₁))⋅⎜- sin(varphi₁(x))⋅sin(varphi\n",
       "                                                 ⎝                            \n",
       "                                                                              \n",
       "                                                 ⎛                            \n",
       ")  - (sin(ψ₁)⋅sin(ψ₃) + sin(ψ₂)⋅cos(ψ₁)⋅cos(ψ₃))⋅⎜- sin(varphi₁(x))⋅sin(varphi\n",
       "                                                 ⎝                            \n",
       "\n",
       "                                                                              \n",
       "                                                                              \n",
       "                                                                              \n",
       "                                                                              \n",
       "                      d                                                d      \n",
       "₂(x))⋅sin(varphi₃(x))⋅──(varphi₁(x)) - sin(varphi₁(x))⋅sin(varphi₃(x))⋅──(varp\n",
       "                      dx                                               dx     \n",
       "                                                                              \n",
       "                      d                                                d      \n",
       "₂(x))⋅sin(varphi₃(x))⋅──(varphi₁(x)) - sin(varphi₁(x))⋅sin(varphi₃(x))⋅──(varp\n",
       "                      dx                                               dx     \n",
       "\n",
       "                                                  d                           \n",
       "          sin(ψ₂)⋅sin(varphi₂(x))⋅sin(varphi₃(x))⋅──(varphi₂(x)) - sin(ψ₂)⋅cos\n",
       "                                                  dx                          \n",
       "                                                                              \n",
       "                                                          d                   \n",
       "hi₃(x)) + sin(varphi₂(x))⋅cos(varphi₁(x))⋅cos(varphi₃(x))⋅──(varphi₃(x)) + sin\n",
       "                                                          dx                  \n",
       "                                                                              \n",
       "                                                          d                   \n",
       "hi₃(x)) + sin(varphi₂(x))⋅cos(varphi₁(x))⋅cos(varphi₃(x))⋅──(varphi₃(x)) + sin\n",
       "                                                          dx                  \n",
       "\n",
       "                             d                                                \n",
       "(varphi₂(x))⋅cos(varphi₃(x))⋅──(varphi₃(x)) + sin(ψ₁ + varphi₁(x))⋅sin(varphi₂\n",
       "                             dx                                               \n",
       "                                                                              \n",
       "                                             d                                \n",
       "(varphi₃(x))⋅cos(varphi₁(x))⋅cos(varphi₂(x))⋅──(varphi₂(x)) + cos(varphi₁(x))⋅\n",
       "                                             dx                               \n",
       "                                                                              \n",
       "                                             d                                \n",
       "(varphi₃(x))⋅cos(varphi₁(x))⋅cos(varphi₂(x))⋅──(varphi₂(x)) + cos(varphi₁(x))⋅\n",
       "                                             dx                               \n",
       "\n",
       "                             d                                                \n",
       "(x))⋅sin(varphi₃(x))⋅cos(ψ₂)⋅──(varphi₁(x)) + sin(ψ₁ + varphi₁(x))⋅sin(varphi₃\n",
       "                             dx                                               \n",
       "                                                                              \n",
       "                d             ⎞                                               \n",
       "cos(varphi₃(x))⋅──(varphi₁(x))⎟ - (sin(ψ₁)⋅sin(ψ₂)⋅sin(ψ₃) + cos(ψ₁)⋅cos(ψ₃))⋅\n",
       "                dx            ⎠                                               \n",
       "                                                                              \n",
       "                d             ⎞                                               \n",
       "cos(varphi₃(x))⋅──(varphi₁(x))⎟ + (sin(ψ₁)⋅sin(ψ₂)⋅cos(ψ₃) - sin(ψ₃)⋅cos(ψ₁))⋅\n",
       "                dx            ⎠                                               \n",
       "\n",
       "             d                                                                \n",
       "(x))⋅cos(ψ₂)⋅──(varphi₃(x)) - sin(varphi₂(x))⋅cos(ψ₂)⋅cos(ψ₁ + varphi₁(x))⋅cos\n",
       "             dx                                                               \n",
       "                                                                              \n",
       "⎛                                                d                            \n",
       "⎜sin(varphi₁(x))⋅sin(varphi₂(x))⋅cos(varphi₃(x))⋅──(varphi₃(x)) + sin(varphi₁(\n",
       "⎝                                                dx                           \n",
       "                                                                              \n",
       "⎛                                                d                            \n",
       "⎜sin(varphi₁(x))⋅sin(varphi₂(x))⋅cos(varphi₃(x))⋅──(varphi₃(x)) + sin(varphi₁(\n",
       "⎝                                                dx                           \n",
       "\n",
       "             d                                                                \n",
       "(varphi₃(x))⋅──(varphi₃(x)) - sin(varphi₃(x))⋅cos(ψ₂)⋅cos(ψ₁ + varphi₁(x))⋅cos\n",
       "             dx                                                               \n",
       "                                                                              \n",
       "                                    d                                         \n",
       "x))⋅sin(varphi₃(x))⋅cos(varphi₂(x))⋅──(varphi₂(x)) + sin(varphi₁(x))⋅cos(varph\n",
       "                                    dx                                        \n",
       "                                                                              \n",
       "                                    d                                         \n",
       "x))⋅sin(varphi₃(x))⋅cos(varphi₂(x))⋅──(varphi₂(x)) + sin(varphi₁(x))⋅cos(varph\n",
       "                                    dx                                        \n",
       "\n",
       "             d                                                             d  \n",
       "(varphi₂(x))⋅──(varphi₂(x)) - cos(ψ₂)⋅cos(ψ₁ + varphi₁(x))⋅cos(varphi₃(x))⋅──(\n",
       "             dx                                                            dx \n",
       "                                                                              \n",
       "       d                                                                d     \n",
       "i₃(x))⋅──(varphi₁(x)) + sin(varphi₂(x))⋅sin(varphi₃(x))⋅cos(varphi₁(x))⋅──(var\n",
       "       dx                                                               dx    \n",
       "                                                                              \n",
       "       d                                                                d     \n",
       "i₃(x))⋅──(varphi₁(x)) + sin(varphi₂(x))⋅sin(varphi₃(x))⋅cos(varphi₁(x))⋅──(var\n",
       "       dx                                                               dx    \n",
       "\n",
       "                                                                              \n",
       "varphi₁(x))                                                                   \n",
       "                                                                              \n",
       "                                                                              \n",
       "                                           d             ⎞   ⎛                \n",
       "phi₁(x)) + sin(varphi₃(x))⋅cos(varphi₁(x))⋅──(varphi₃(x))⎟ + ⎜sin(varphi₂(x))⋅\n",
       "                                           dx            ⎠   ⎝                \n",
       "                                                                              \n",
       "                                           d             ⎞   ⎛                \n",
       "phi₁(x)) + sin(varphi₃(x))⋅cos(varphi₁(x))⋅──(varphi₃(x))⎟ - ⎜sin(varphi₂(x))⋅\n",
       "                                           dx            ⎠   ⎝                \n",
       "\n",
       "                                                                              \n",
       "                                                                              \n",
       "                                                                              \n",
       "                                                                              \n",
       "                d                                                d            \n",
       "sin(varphi₃(x))⋅──(varphi₂(x)) - cos(varphi₂(x))⋅cos(varphi₃(x))⋅──(varphi₃(x)\n",
       "                dx                                               dx           \n",
       "                                                                              \n",
       "                d                                                d            \n",
       "sin(varphi₃(x))⋅──(varphi₂(x)) - cos(varphi₂(x))⋅cos(varphi₃(x))⋅──(varphi₃(x)\n",
       "                dx                                               dx           \n",
       "\n",
       "                                                                              \n",
       "                                                                              \n",
       "                                                                              \n",
       "                                                                              \n",
       " ⎞                                                              ⎛             \n",
       ")⎟⋅sin(ψ₃)⋅cos(ψ₂)  (sin(ψ₁)⋅cos(ψ₃) - sin(ψ₂)⋅sin(ψ₃)⋅cos(ψ₁))⋅⎜sin(varphi₁(x\n",
       " ⎠                                                              ⎝             \n",
       "                                                                              \n",
       " ⎞                                                              ⎛             \n",
       ")⎟⋅cos(ψ₂)⋅cos(ψ₃)  (sin(ψ₁)⋅sin(ψ₃) + sin(ψ₂)⋅cos(ψ₁)⋅cos(ψ₃))⋅⎜sin(varphi₁(x\n",
       " ⎠                                                              ⎝             \n",
       "\n",
       "                                                                              \n",
       "                                                                              \n",
       "                                                                              \n",
       "                                                                              \n",
       "                                   d                                          \n",
       "))⋅sin(varphi₂(x))⋅cos(varphi₃(x))⋅──(varphi₁(x)) + sin(varphi₁(x))⋅cos(varphi\n",
       "                                   dx                                         \n",
       "                                                                              \n",
       "                                   d                                          \n",
       "))⋅sin(varphi₂(x))⋅cos(varphi₃(x))⋅──(varphi₁(x)) + sin(varphi₁(x))⋅cos(varphi\n",
       "                                   dx                                         \n",
       "\n",
       "                                                                  d           \n",
       "                          sin(ψ₂)⋅sin(varphi₂(x))⋅cos(varphi₃(x))⋅──(varphi₂(x\n",
       "                                                                  dx          \n",
       "                                                                              \n",
       "      d                                                                d      \n",
       "₃(x))⋅──(varphi₃(x)) + sin(varphi₂(x))⋅sin(varphi₃(x))⋅cos(varphi₁(x))⋅──(varp\n",
       "      dx                                                               dx     \n",
       "                                                                              \n",
       "      d                                                                d      \n",
       "₃(x))⋅──(varphi₃(x)) + sin(varphi₂(x))⋅sin(varphi₃(x))⋅cos(varphi₁(x))⋅──(varp\n",
       "      dx                                                               dx     \n",
       "\n",
       "                                             d                                \n",
       ")) + sin(ψ₂)⋅sin(varphi₃(x))⋅cos(varphi₂(x))⋅──(varphi₃(x)) + sin(ψ₁ + varphi₁\n",
       "                                             dx                               \n",
       "                                                                              \n",
       "                                          d                                   \n",
       "hi₃(x)) + sin(varphi₃(x))⋅cos(varphi₁(x))⋅──(varphi₁(x)) - cos(varphi₁(x))⋅cos\n",
       "                                          dx                                  \n",
       "                                                                              \n",
       "                                          d                                   \n",
       "hi₃(x)) + sin(varphi₃(x))⋅cos(varphi₁(x))⋅──(varphi₁(x)) - cos(varphi₁(x))⋅cos\n",
       "                                          dx                                  \n",
       "\n",
       "                                             d                                \n",
       "(x))⋅sin(varphi₂(x))⋅cos(ψ₂)⋅cos(varphi₃(x))⋅──(varphi₁(x)) + sin(ψ₁ + varphi₁\n",
       "                                             dx                               \n",
       "                                                                              \n",
       "                             d             ⎞                                  \n",
       "(varphi₂(x))⋅cos(varphi₃(x))⋅──(varphi₂(x))⎟ - (sin(ψ₁)⋅sin(ψ₂)⋅sin(ψ₃) + cos(\n",
       "                             dx            ⎠                                  \n",
       "                                                                              \n",
       "                             d             ⎞                                  \n",
       "(varphi₂(x))⋅cos(varphi₃(x))⋅──(varphi₂(x))⎟ + (sin(ψ₁)⋅sin(ψ₂)⋅cos(ψ₃) - sin(\n",
       "                             dx            ⎠                                  \n",
       "\n",
       "                             d                                                \n",
       "(x))⋅cos(ψ₂)⋅cos(varphi₃(x))⋅──(varphi₃(x)) + sin(varphi₂(x))⋅sin(varphi₃(x))⋅\n",
       "                             dx                                               \n",
       "                                                                              \n",
       "             ⎛                                                  d             \n",
       "ψ₁)⋅cos(ψ₃))⋅⎜- sin(varphi₁(x))⋅sin(varphi₂(x))⋅sin(varphi₃(x))⋅──(varphi₃(x))\n",
       "             ⎝                                                  dx            \n",
       "                                                                              \n",
       "             ⎛                                                  d             \n",
       "ψ₃)⋅cos(ψ₁))⋅⎜- sin(varphi₁(x))⋅sin(varphi₂(x))⋅sin(varphi₃(x))⋅──(varphi₃(x))\n",
       "             ⎝                                                  dx            \n",
       "\n",
       "                             d                                                \n",
       "cos(ψ₂)⋅cos(ψ₁ + varphi₁(x))⋅──(varphi₃(x)) + sin(varphi₃(x))⋅cos(ψ₂)⋅cos(ψ₁ +\n",
       "                             dx                                               \n",
       "                                                                              \n",
       "                                   d                                          \n",
       " - sin(varphi₁(x))⋅sin(varphi₃(x))⋅──(varphi₁(x)) + sin(varphi₁(x))⋅cos(varphi\n",
       "                                   dx                                         \n",
       "                                                                              \n",
       "                                   d                                          \n",
       " - sin(varphi₁(x))⋅sin(varphi₃(x))⋅──(varphi₁(x)) + sin(varphi₁(x))⋅cos(varphi\n",
       "                                   dx                                         \n",
       "\n",
       "             d                                                                \n",
       " varphi₁(x))⋅──(varphi₁(x)) - cos(ψ₂)⋅cos(ψ₁ + varphi₁(x))⋅cos(varphi₂(x))⋅cos\n",
       "             dx                                                               \n",
       "                                                                              \n",
       "                      d                                                       \n",
       "₂(x))⋅cos(varphi₃(x))⋅──(varphi₂(x)) + sin(varphi₂(x))⋅cos(varphi₁(x))⋅cos(var\n",
       "                      dx                                                      \n",
       "                                                                              \n",
       "                      d                                                       \n",
       "₂(x))⋅cos(varphi₃(x))⋅──(varphi₂(x)) + sin(varphi₂(x))⋅cos(varphi₁(x))⋅cos(var\n",
       "                      dx                                                      \n",
       "\n",
       "             d                                                                \n",
       "(varphi₃(x))⋅──(varphi₂(x))                                                   \n",
       "             dx                                                               \n",
       "                                                                              \n",
       "         d                                                d             ⎞   ⎛ \n",
       "phi₃(x))⋅──(varphi₁(x)) + cos(varphi₁(x))⋅cos(varphi₃(x))⋅──(varphi₃(x))⎟ + ⎜s\n",
       "         dx                                               dx            ⎠   ⎝ \n",
       "                                                                              \n",
       "         d                                                d             ⎞   ⎛ \n",
       "phi₃(x))⋅──(varphi₁(x)) + cos(varphi₁(x))⋅cos(varphi₃(x))⋅──(varphi₃(x))⎟ - ⎜s\n",
       "         dx                                               dx            ⎠   ⎝ \n",
       "\n",
       "                                                                              \n",
       "                                                                              \n",
       "                                                                              \n",
       "                                                                              \n",
       "                               d                                              \n",
       "in(varphi₂(x))⋅cos(varphi₃(x))⋅──(varphi₂(x)) + sin(varphi₃(x))⋅cos(varphi₂(x)\n",
       "                               dx                                             \n",
       "                                                                              \n",
       "                               d                                              \n",
       "in(varphi₂(x))⋅cos(varphi₃(x))⋅──(varphi₂(x)) + sin(varphi₃(x))⋅cos(varphi₂(x)\n",
       "                               dx                                             \n",
       "\n",
       "                                 ⎤\n",
       "                                 ⎥\n",
       "                                 ⎥\n",
       "                                 ⎥\n",
       "  d             ⎞                ⎥\n",
       ")⋅──(varphi₃(x))⎟⋅sin(ψ₃)⋅cos(ψ₂)⎥\n",
       "  dx            ⎠                ⎥\n",
       "                                 ⎥\n",
       "  d             ⎞                ⎥\n",
       ")⋅──(varphi₃(x))⎟⋅cos(ψ₂)⋅cos(ψ₃)⎥\n",
       "  dx            ⎠                ⎦"
      ]
     },
     "execution_count": 58,
     "metadata": {},
     "output_type": "execute_result"
    }
   ],
   "source": [
    "simplify(R*diff(F,x))"
   ]
  },
  {
   "cell_type": "code",
   "execution_count": 59,
   "metadata": {},
   "outputs": [
    {
     "data": {
      "image/png": "[encoded data removed]",
      "text/latex": [
       "$$\\left[\\begin{matrix}0 & - \\sin{\\left (\\varphi_{3}{\\left (x \\right )} \\right )} \\frac{d}{d x} \\varphi_{2}{\\left (x \\right )} - \\cos{\\left (\\varphi_{2}{\\left (x \\right )} \\right )} \\cos{\\left (\\varphi_{3}{\\left (x \\right )} \\right )} \\frac{d}{d x} \\varphi_{1}{\\left (x \\right )} & \\sin{\\left (\\varphi_{3}{\\left (x \\right )} \\right )} \\cos{\\left (\\varphi_{2}{\\left (x \\right )} \\right )} \\frac{d}{d x} \\varphi_{1}{\\left (x \\right )} - \\cos{\\left (\\varphi_{3}{\\left (x \\right )} \\right )} \\frac{d}{d x} \\varphi_{2}{\\left (x \\right )}\\\\\\sin{\\left (\\varphi_{3}{\\left (x \\right )} \\right )} \\frac{d}{d x} \\varphi_{2}{\\left (x \\right )} + \\cos{\\left (\\varphi_{2}{\\left (x \\right )} \\right )} \\cos{\\left (\\varphi_{3}{\\left (x \\right )} \\right )} \\frac{d}{d x} \\varphi_{1}{\\left (x \\right )} & 0 & - \\sin{\\left (\\varphi_{2}{\\left (x \\right )} \\right )} \\frac{d}{d x} \\varphi_{1}{\\left (x \\right )} - \\frac{d}{d x} \\varphi_{3}{\\left (x \\right )}\\\\- \\sin{\\left (\\varphi_{3}{\\left (x \\right )} \\right )} \\cos{\\left (\\varphi_{2}{\\left (x \\right )} \\right )} \\frac{d}{d x} \\varphi_{1}{\\left (x \\right )} + \\cos{\\left (\\varphi_{3}{\\left (x \\right )} \\right )} \\frac{d}{d x} \\varphi_{2}{\\left (x \\right )} & \\sin{\\left (\\varphi_{2}{\\left (x \\right )} \\right )} \\frac{d}{d x} \\varphi_{1}{\\left (x \\right )} + \\frac{d}{d x} \\varphi_{3}{\\left (x \\right )} & 0\\end{matrix}\\right]$$"
      ],
      "text/plain": [
       "⎡                                                                             \n",
       "⎢                                        0                                    \n",
       "⎢                                                                             \n",
       "⎢                                                                             \n",
       "⎢                 d                                                d          \n",
       "⎢ sin(varphi₃(x))⋅──(varphi₂(x)) + cos(varphi₂(x))⋅cos(varphi₃(x))⋅──(varphi₁(\n",
       "⎢                 dx                                               dx         \n",
       "⎢                                                                             \n",
       "⎢                                  d                                d         \n",
       "⎢- sin(varphi₃(x))⋅cos(varphi₂(x))⋅──(varphi₁(x)) + cos(varphi₃(x))⋅──(varphi₂\n",
       "⎣                                  dx                               dx        \n",
       "\n",
       "                        d                                                d    \n",
       "      - sin(varphi₃(x))⋅──(varphi₂(x)) - cos(varphi₂(x))⋅cos(varphi₃(x))⋅──(va\n",
       "                        dx                                               dx   \n",
       "                                                                              \n",
       "                                                                              \n",
       "x))                                           0                               \n",
       "                                                                              \n",
       "                                                                              \n",
       "                                       d                d                     \n",
       "(x))                   sin(varphi₂(x))⋅──(varphi₁(x)) + ──(varphi₃(x))        \n",
       "                                       dx               dx                    \n",
       "\n",
       "                                           d                                d \n",
       "rphi₁(x))  sin(varphi₃(x))⋅cos(varphi₂(x))⋅──(varphi₁(x)) - cos(varphi₃(x))⋅──\n",
       "                                           dx                               dx\n",
       "                                                                              \n",
       "                                            d                d                \n",
       "                          - sin(varphi₂(x))⋅──(varphi₁(x)) - ──(varphi₃(x))   \n",
       "                                            dx               dx               \n",
       "                                                                              \n",
       "                                                                              \n",
       "                                                  0                           \n",
       "                                                                              \n",
       "\n",
       "            ⎤\n",
       "(varphi₂(x))⎥\n",
       "            ⎥\n",
       "            ⎥\n",
       "            ⎥\n",
       "            ⎥\n",
       "            ⎥\n",
       "            ⎥\n",
       "            ⎥\n",
       "            ⎥\n",
       "            ⎦"
      ]
     },
     "execution_count": 59,
     "metadata": {},
     "output_type": "execute_result"
    }
   ],
   "source": [
    "simplify((R*diff(F,x)).subs(frame))"
   ]
  },
  {
   "cell_type": "code",
   "execution_count": 60,
   "metadata": {},
   "outputs": [
    {
     "data": {
      "image/png": "[encoded data removed]",
      "text/latex": [
       "$$\\left[\\begin{matrix}\\cos{\\left (\\varphi_{1}{\\left (x \\right )} \\right )} \\cos{\\left (\\varphi_{2}{\\left (x \\right )} \\right )} & - \\sin{\\left (\\varphi_{1}{\\left (x \\right )} \\right )} \\cos{\\left (\\varphi_{3}{\\left (x \\right )} \\right )} - \\sin{\\left (\\varphi_{2}{\\left (x \\right )} \\right )} \\sin{\\left (\\varphi_{3}{\\left (x \\right )} \\right )} \\cos{\\left (\\varphi_{1}{\\left (x \\right )} \\right )} & \\sin{\\left (\\varphi_{1}{\\left (x \\right )} \\right )} \\sin{\\left (\\varphi_{3}{\\left (x \\right )} \\right )} - \\sin{\\left (\\varphi_{2}{\\left (x \\right )} \\right )} \\cos{\\left (\\varphi_{1}{\\left (x \\right )} \\right )} \\cos{\\left (\\varphi_{3}{\\left (x \\right )} \\right )}\\\\\\sin{\\left (\\varphi_{1}{\\left (x \\right )} \\right )} \\cos{\\left (\\varphi_{2}{\\left (x \\right )} \\right )} & - \\sin{\\left (\\varphi_{1}{\\left (x \\right )} \\right )} \\sin{\\left (\\varphi_{2}{\\left (x \\right )} \\right )} \\sin{\\left (\\varphi_{3}{\\left (x \\right )} \\right )} + \\cos{\\left (\\varphi_{1}{\\left (x \\right )} \\right )} \\cos{\\left (\\varphi_{3}{\\left (x \\right )} \\right )} & - \\sin{\\left (\\varphi_{1}{\\left (x \\right )} \\right )} \\sin{\\left (\\varphi_{2}{\\left (x \\right )} \\right )} \\cos{\\left (\\varphi_{3}{\\left (x \\right )} \\right )} - \\sin{\\left (\\varphi_{3}{\\left (x \\right )} \\right )} \\cos{\\left (\\varphi_{1}{\\left (x \\right )} \\right )}\\\\\\sin{\\left (\\varphi_{2}{\\left (x \\right )} \\right )} & \\sin{\\left (\\varphi_{3}{\\left (x \\right )} \\right )} \\cos{\\left (\\varphi_{2}{\\left (x \\right )} \\right )} & \\cos{\\left (\\varphi_{2}{\\left (x \\right )} \\right )} \\cos{\\left (\\varphi_{3}{\\left (x \\right )} \\right )}\\end{matrix}\\right]$$"
      ],
      "text/plain": [
       "⎡cos(varphi₁(x))⋅cos(varphi₂(x))  -sin(varphi₁(x))⋅cos(varphi₃(x)) - sin(varph\n",
       "⎢                                                                             \n",
       "⎢sin(varphi₁(x))⋅cos(varphi₂(x))  -sin(varphi₁(x))⋅sin(varphi₂(x))⋅sin(varphi₃\n",
       "⎢                                                                             \n",
       "⎣        sin(varphi₂(x))                                   sin(varphi₃(x))⋅cos\n",
       "\n",
       "i₂(x))⋅sin(varphi₃(x))⋅cos(varphi₁(x))  sin(varphi₁(x))⋅sin(varphi₃(x)) - sin(\n",
       "                                                                              \n",
       "(x)) + cos(varphi₁(x))⋅cos(varphi₃(x))  -sin(varphi₁(x))⋅sin(varphi₂(x))⋅cos(v\n",
       "                                                                              \n",
       "(varphi₂(x))                                                     cos(varphi₂(x\n",
       "\n",
       "varphi₂(x))⋅cos(varphi₁(x))⋅cos(varphi₃(x)) ⎤\n",
       "                                            ⎥\n",
       "arphi₃(x)) - sin(varphi₃(x))⋅cos(varphi₁(x))⎥\n",
       "                                            ⎥\n",
       "))⋅cos(varphi₃(x))                          ⎦"
      ]
     },
     "execution_count": 60,
     "metadata": {},
     "output_type": "execute_result"
    }
   ],
   "source": [
    "F"
   ]
  },
  {
   "cell_type": "code",
   "execution_count": 61,
   "metadata": {},
   "outputs": [
    {
     "data": {
      "image/png": "[encoded data removed]",
      "text/latex": [
       "$$\\left[\\begin{matrix}0 & - \\sin{\\left (\\varphi_{3}{\\left (x \\right )} \\right )} \\frac{d}{d x} \\varphi_{2}{\\left (x \\right )} - \\cos{\\left (\\varphi_{2}{\\left (x \\right )} \\right )} \\cos{\\left (\\varphi_{3}{\\left (x \\right )} \\right )} \\frac{d}{d x} \\varphi_{1}{\\left (x \\right )} & \\sin{\\left (\\varphi_{3}{\\left (x \\right )} \\right )} \\cos{\\left (\\varphi_{2}{\\left (x \\right )} \\right )} \\frac{d}{d x} \\varphi_{1}{\\left (x \\right )} - \\cos{\\left (\\varphi_{3}{\\left (x \\right )} \\right )} \\frac{d}{d x} \\varphi_{2}{\\left (x \\right )}\\\\\\sin{\\left (\\varphi_{3}{\\left (x \\right )} \\right )} \\frac{d}{d x} \\varphi_{2}{\\left (x \\right )} + \\cos{\\left (\\varphi_{2}{\\left (x \\right )} \\right )} \\cos{\\left (\\varphi_{3}{\\left (x \\right )} \\right )} \\frac{d}{d x} \\varphi_{1}{\\left (x \\right )} & 0 & - \\sin{\\left (\\varphi_{2}{\\left (x \\right )} \\right )} \\frac{d}{d x} \\varphi_{1}{\\left (x \\right )} - \\frac{d}{d x} \\varphi_{3}{\\left (x \\right )}\\\\- \\sin{\\left (\\varphi_{3}{\\left (x \\right )} \\right )} \\cos{\\left (\\varphi_{2}{\\left (x \\right )} \\right )} \\frac{d}{d x} \\varphi_{1}{\\left (x \\right )} + \\cos{\\left (\\varphi_{3}{\\left (x \\right )} \\right )} \\frac{d}{d x} \\varphi_{2}{\\left (x \\right )} & \\sin{\\left (\\varphi_{2}{\\left (x \\right )} \\right )} \\frac{d}{d x} \\varphi_{1}{\\left (x \\right )} + \\frac{d}{d x} \\varphi_{3}{\\left (x \\right )} & 0\\end{matrix}\\right]$$"
      ],
      "text/plain": [
       "⎡                                                                             \n",
       "⎢                                        0                                    \n",
       "⎢                                                                             \n",
       "⎢                                                                             \n",
       "⎢                 d                                                d          \n",
       "⎢ sin(varphi₃(x))⋅──(varphi₂(x)) + cos(varphi₂(x))⋅cos(varphi₃(x))⋅──(varphi₁(\n",
       "⎢                 dx                                               dx         \n",
       "⎢                                                                             \n",
       "⎢                                  d                                d         \n",
       "⎢- sin(varphi₃(x))⋅cos(varphi₂(x))⋅──(varphi₁(x)) + cos(varphi₃(x))⋅──(varphi₂\n",
       "⎣                                  dx                               dx        \n",
       "\n",
       "                        d                                                d    \n",
       "      - sin(varphi₃(x))⋅──(varphi₂(x)) - cos(varphi₂(x))⋅cos(varphi₃(x))⋅──(va\n",
       "                        dx                                               dx   \n",
       "                                                                              \n",
       "                                                                              \n",
       "x))                                           0                               \n",
       "                                                                              \n",
       "                                                                              \n",
       "                                       d                d                     \n",
       "(x))                   sin(varphi₂(x))⋅──(varphi₁(x)) + ──(varphi₃(x))        \n",
       "                                       dx               dx                    \n",
       "\n",
       "                                           d                                d \n",
       "rphi₁(x))  sin(varphi₃(x))⋅cos(varphi₂(x))⋅──(varphi₁(x)) - cos(varphi₃(x))⋅──\n",
       "                                           dx                               dx\n",
       "                                                                              \n",
       "                                            d                d                \n",
       "                          - sin(varphi₂(x))⋅──(varphi₁(x)) - ──(varphi₃(x))   \n",
       "                                            dx               dx               \n",
       "                                                                              \n",
       "                                                                              \n",
       "                                                  0                           \n",
       "                                                                              \n",
       "\n",
       "            ⎤\n",
       "(varphi₂(x))⎥\n",
       "            ⎥\n",
       "            ⎥\n",
       "            ⎥\n",
       "            ⎥\n",
       "            ⎥\n",
       "            ⎥\n",
       "            ⎥\n",
       "            ⎥\n",
       "            ⎦"
      ]
     },
     "execution_count": 61,
     "metadata": {},
     "output_type": "execute_result"
    }
   ],
   "source": [
    "simplify((F.transpose()*diff(F,x)).subs(frame))"
   ]
  },
  {
   "cell_type": "code",
   "execution_count": null,
   "metadata": {
    "collapsed": true
   },
   "outputs": [],
   "source": []
  }
 ],
 "metadata": {
  "kernelspec": {
   "display_name": "Python 2.7",
   "language": "python",
   "name": "python2"
  },
  "language_info": {
   "codemirror_mode": {
    "name": "ipython",
    "version": 2
   },
   "file_extension": ".py",
   "mimetype": "text/x-python",
   "name": "python",
   "nbconvert_exporter": "python",
   "pygments_lexer": "ipython2",
   "version": "2.7.15"
  }
 },
 "nbformat": 4,
 "nbformat_minor": 2
}

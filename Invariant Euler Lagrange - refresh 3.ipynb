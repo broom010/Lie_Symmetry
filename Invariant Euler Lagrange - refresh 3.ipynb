{
 "cells": [
  {
   "cell_type": "code",
   "execution_count": 1,
   "metadata": {
    "collapsed": true
   },
   "outputs": [],
   "source": [
    "from sympy import *\n",
    "from itertools import *\n",
    "import LieSympy as lp\n",
    "import numpy as np\n",
    "import copy as copy\n",
    "import time\n",
    "init_printing()"
   ]
  },
  {
   "cell_type": "markdown",
   "metadata": {},
   "source": [
    "# Testing LieSympy with calculation of invariant Euler-Lagrange equations for two dimensional framed curves"
   ]
  },
  {
   "cell_type": "code",
   "execution_count": 2,
   "metadata": {
    "collapsed": true
   },
   "outputs": [],
   "source": [
    "g = lp.groupAction([['x'],['u','P']],['a','b','psi'],3)"
   ]
  },
  {
   "cell_type": "code",
   "execution_count": 3,
   "metadata": {
    "collapsed": true
   },
   "outputs": [],
   "source": [
    "# Define the expressions in terms of variables in the lp module\n",
    "X_expr = cos(lp.psi)*lp.x-sin(lp.psi)*lp.u+lp.a\n",
    "U_expr =  sin(lp.psi)*lp.x+cos(lp.psi)*lp.u+lp.b\n",
    "P_expr = lp.P+lp.psi\n",
    "\n",
    "# Define the group transformation, identity, and cross-section\n",
    "T = [X_expr, U_expr, P_expr]\n",
    "grp_id = [0,0,0]\n",
    "K = [[0,0,0],[lp.x,lp.u,lp.P]]"
   ]
  },
  {
   "cell_type": "code",
   "execution_count": 4,
   "metadata": {
    "collapsed": true
   },
   "outputs": [],
   "source": [
    "# Instantiate the group action object\n",
    "g.Def_transformation(T,grp_id,K)"
   ]
  },
  {
   "cell_type": "code",
   "execution_count": 5,
   "metadata": {
    "collapsed": true
   },
   "outputs": [],
   "source": [
    "g.Apply_Frame_Analysis()"
   ]
  },
  {
   "cell_type": "code",
   "execution_count": 6,
   "metadata": {},
   "outputs": [
    {
     "data": {
      "image/png": "[encoded data removed]",
      "text/latex": [
       "$$\\left[\\begin{matrix}- D_{s} + \\kappa_{P} \\kappa_{u} & \\kappa_{P}^{2}\\\\- \\kappa_{u}^{2} - 1 & - D_{s} - \\kappa_{P} \\kappa_{u}\\end{matrix}\\right]$$"
      ],
      "text/plain": [
       "⎡                      2     ⎤\n",
       "⎢-D_s + κ_P⋅κᵤ      κ_P      ⎥\n",
       "⎢                            ⎥\n",
       "⎢      2                     ⎥\n",
       "⎣  - κᵤ  - 1    -D_s - κ_P⋅κᵤ⎦"
      ]
     },
     "execution_count": 6,
     "metadata": {},
     "output_type": "execute_result"
    }
   ],
   "source": [
    "g.inv_Euler()"
   ]
  },
  {
   "cell_type": "code",
   "execution_count": 7,
   "metadata": {},
   "outputs": [
    {
     "data": {
      "image/png": "[encoded data removed]",
      "text/latex": [
       "$$\\left[\\begin{matrix}- \\kappa_{P}\\\\\\kappa_{u}\\end{matrix}\\right]$$"
      ],
      "text/plain": [
       "⎡-κ_P⎤\n",
       "⎢    ⎥\n",
       "⎣ κᵤ ⎦"
      ]
     },
     "execution_count": 7,
     "metadata": {},
     "output_type": "execute_result"
    }
   ],
   "source": [
    "g.invariant_Hamilton()"
   ]
  },
  {
   "cell_type": "markdown",
   "metadata": {},
   "source": [
    "# Testing the print_vector function for prolongation of vector fields"
   ]
  },
  {
   "cell_type": "code",
   "execution_count": 8,
   "metadata": {},
   "outputs": [
    {
     "data": {
      "image/png": "[encoded data removed]",
      "text/latex": [
       "$$P_{x} u_{x} \\, \\dfrac{\\partial}{\\partial P_x} - u \\, \\dfrac{\\partial}{\\partial x} + x \\, \\dfrac{\\partial}{\\partial u} + \\left(u_{x}^{2} + 1\\right) \\, \\dfrac{\\partial}{\\partial u_x} + \\, \\dfrac{\\partial}{\\partial P}$$"
      ],
      "text/plain": [
       "                                                                              \n",
       "Pₓ⋅uₓ⋅\\, \\dfrac{\\partial}{\\partial P_x} - u⋅\\, \\dfrac{\\partial}{\\partial x} + \n",
       "\n",
       "                                    ⎛  2    ⎞                                 \n",
       "x⋅\\, \\dfrac{\\partial}{\\partial u} + ⎝uₓ  + 1⎠⋅\\, \\dfrac{\\partial}{\\partial u_x\n",
       "\n",
       "                                   \n",
       "} + \\, \\dfrac{\\partial}{\\partial P}"
      ]
     },
     "execution_count": 8,
     "metadata": {},
     "output_type": "execute_result"
    }
   ],
   "source": [
    "lp.print_vector(g.Prolong(g.vectors[2], 1), g.A_jet)"
   ]
  },
  {
   "cell_type": "code",
   "execution_count": 9,
   "metadata": {},
   "outputs": [
    {
     "data": {
      "text/plain": [
       "['x', 'u', 'P', 'u_x', 'P_x', 'u_xx', 'P_xx', 'u_xxx', 'P_xxx']"
      ]
     },
     "execution_count": 9,
     "metadata": {},
     "output_type": "execute_result"
    }
   ],
   "source": [
    "g.A_jet"
   ]
  }
 ],
 "metadata": {
  "kernelspec": {
   "display_name": "Python 2.7",
   "language": "python",
   "name": "python2"
  },
  "language_info": {
   "codemirror_mode": {
    "name": "ipython",
    "version": 2
   },
   "file_extension": ".py",
   "mimetype": "text/x-python",
   "name": "python",
   "nbconvert_exporter": "python",
   "pygments_lexer": "ipython2",
   "version": "2.7.15"
  }
 },
 "nbformat": 4,
 "nbformat_minor": 2
}
